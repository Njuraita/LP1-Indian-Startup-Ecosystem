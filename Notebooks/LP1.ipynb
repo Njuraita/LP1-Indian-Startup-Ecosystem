{
 "cells": [
  {
   "cell_type": "markdown",
   "metadata": {},
   "source": [
    "# CA-7 LP1"
   ]
  },
  {
   "cell_type": "markdown",
   "metadata": {},
   "source": [
    "# Bussiness Understanding "
   ]
  },
  {
   "cell_type": "markdown",
   "metadata": {},
   "source": [
    "Our team is intending to venture into the Indian Ecosyatem and as data analyst we are to investigate the ecosystem and propose best course of action.\n",
    "\n",
    "We will be using the CRISP-DM Methodology. We are to understand the objectives and requirements of the project, determine data mining goals, define business success criteria. Detailed plan for each project phase \n",
    "\n",
    "\n",
    "### Project Title : Viability of Setting up a Startup Business in India \n",
    "\n",
    " * Hypothesis testing:\n",
    "\n",
    " Null Hypothesis (H0) There is no significant difference in the amount of funding recieved by startups across different sectors and stages \n",
    "\n",
    " Alternative Hypothesis (H1) There is a significant difference in the amount of funding recieved by statups across different sectors and stages \n",
    " \n",
    "\n",
    "* Project Description - \n",
    "Our team is aiming at setting up startup in India. Using the provided information we are accessing the viability of setting up our busiess there .\n",
    "\n",
    "\n",
    "\n",
    "ANALYTICAL QUESTIONS\n",
    "1. Funding Trends:\n",
    "How has the total funding amount changed year over year from 2018 to 2021?\n",
    "How has the average funding amount in each sector changed over the years (2018 - 2021)\n",
    " \n",
    "2. Sector Analysis:\n",
    "Which sectors have received the most funding, and how does the funding distribution vary across sectors?\n",
    " \n",
    "3. Stage Analysis:\n",
    "What is the distribution of funding across different investment stages (e.g., Pre-seed, Seed, Series A)?\n",
    " \n",
    "4. Geographical Analysis:\n",
    "Which cities or regions have the highest concentration of funded startups?\n",
    " \n",
    "5. Investor Influence:\n",
    "Who are the top investors in the Indian startup ecosystem, and what is their funding pattern?\n",
    " \n",
    "6. Founder Impact:\n",
    "Is there a correlation between the number of founders and the amount of funding received?\n",
    " \n",
    "7. What are the characteristics of startups in the highest-funded sectors (e.g., number of founders, location)?\n",
    " \n",
    "8. Which Business is more viable to set - The best performing business(s) ? "
   ]
  },
  {
   "cell_type": "markdown",
   "metadata": {},
   "source": [
    "# Data Understanding "
   ]
  },
  {
   "cell_type": "markdown",
   "metadata": {},
   "source": [
    " We have been provided with various datasets located at 3 different locations ie Database, OneDrive and GitHub Repository. In them we will find the start-ups details, the funding amounts recieved and the investors information from 2018-2021.\n",
    " To provide a smooth flow of project, in this phase we will be loading the data then clean the data. In the next phase, data preparation phase, we will then concatenate the data.\n",
    "\n"
   ]
  },
  {
   "cell_type": "code",
   "execution_count": 1,
   "metadata": {},
   "outputs": [
    {
     "name": "stdout",
     "output_type": "stream",
     "text": [
      "Note: you may need to restart the kernel to use updated packages.\n"
     ]
    },
    {
     "name": "stderr",
     "output_type": "stream",
     "text": [
      "ERROR: Invalid requirement: '#install'\n"
     ]
    },
    {
     "name": "stdout",
     "output_type": "stream",
     "text": [
      "Requirement already satisfied: python-dotenv in c:\\users\\admin\\appdata\\local\\programs\\python\\python310\\lib\\site-packages (1.0.1)\n",
      "Note: you may need to restart the kernel to use updated packages.\n",
      "Requirement already satisfied: openpyxl in c:\\users\\admin\\appdata\\local\\programs\\python\\python310\\lib\\site-packages (3.1.2)\n",
      "Requirement already satisfied: et-xmlfile in c:\\users\\admin\\appdata\\local\\programs\\python\\python310\\lib\\site-packages (from openpyxl) (1.1.0)\n",
      "Note: you may need to restart the kernel to use updated packages.\n"
     ]
    }
   ],
   "source": [
    "#Install necessary libraries \n",
    "\n",
    "%pip install pyodbc #install our connector which allows us to connect with our databases\n",
    "%pip install python-dotenv\n",
    "%pip install openpyxl"
   ]
  },
  {
   "cell_type": "code",
   "execution_count": 2,
   "metadata": {},
   "outputs": [],
   "source": [
    "#import the necessary packages \n",
    "\n",
    "import pyodbc \n",
    "from dotenv import dotenv_values \n",
    "import numpy as np\n",
    "import pandas as pd \n",
    "import matplotlib.pyplot as plt\n",
    "import plotly.express as px\n",
    "import plotly.graph_objs as go\n",
    "import seaborn as sns\n",
    "import statsmodels.api as sm\n",
    "import warnings\n",
    "\n",
    "warnings.filterwarnings ('ignore')"
   ]
  },
  {
   "cell_type": "code",
   "execution_count": 3,
   "metadata": {},
   "outputs": [],
   "source": [
    "# Load environment variables from .env file into a dictionary\n",
    "environment_variables = dotenv_values('C:\\\\Users\\\\Admin\\\\OneDrive\\\\OneDrive-Azubi\\\\CA-LP1\\\\LP1-Indian-Startup-Ecosystem-1\\\\Notebooks\\\\.env')\n",
    "\n",
    "# Get the values for the credentials you set in the '.env' file\n",
    "server = environment_variables.get('server')\n",
    "database = environment_variables.get('database')\n",
    "username = environment_variables.get('username')\n",
    "password = environment_variables.get('password')"
   ]
  },
  {
   "cell_type": "code",
   "execution_count": 4,
   "metadata": {},
   "outputs": [],
   "source": [
    "# Create a connection string\n",
    "\n",
    "connection_string = f\"DRIVER={{SQL Server}};SERVER={server};DATABASE={database};UID={username};PWD={password};MARS_Connection=yes;MinProtocolVersion=TLSv1.2;\"\n",
    "\n"
   ]
  },
  {
   "cell_type": "code",
   "execution_count": 5,
   "metadata": {},
   "outputs": [],
   "source": [
    "connection = pyodbc.connect(connection_string)"
   ]
  },
  {
   "cell_type": "markdown",
   "metadata": {},
   "source": [
    "1st Dataset-2020 (Data)\n",
    "\n",
    "* This dataset is loaded from SQL Database"
   ]
  },
  {
   "cell_type": "code",
   "execution_count": 6,
   "metadata": {},
   "outputs": [],
   "source": [
    "# Query the tabeles as per the given instructions (1st Dataset)\n",
    "\n",
    "query = '''SELECT *\n",
    "FROM dbo.LP1_startup_funding2020'''\n",
    "\n",
    "data =pd.read_sql(query, connection)"
   ]
  },
  {
   "cell_type": "code",
   "execution_count": 7,
   "metadata": {},
   "outputs": [
    {
     "data": {
      "text/html": [
       "<div>\n",
       "<style scoped>\n",
       "    .dataframe tbody tr th:only-of-type {\n",
       "        vertical-align: middle;\n",
       "    }\n",
       "\n",
       "    .dataframe tbody tr th {\n",
       "        vertical-align: top;\n",
       "    }\n",
       "\n",
       "    .dataframe thead th {\n",
       "        text-align: right;\n",
       "    }\n",
       "</style>\n",
       "<table border=\"1\" class=\"dataframe\">\n",
       "  <thead>\n",
       "    <tr style=\"text-align: right;\">\n",
       "      <th></th>\n",
       "      <th>Company_Brand</th>\n",
       "      <th>Founded</th>\n",
       "      <th>HeadQuarter</th>\n",
       "      <th>Sector</th>\n",
       "      <th>What_it_does</th>\n",
       "      <th>Founders</th>\n",
       "      <th>Investor</th>\n",
       "      <th>Amount</th>\n",
       "      <th>Stage</th>\n",
       "      <th>column10</th>\n",
       "    </tr>\n",
       "  </thead>\n",
       "  <tbody>\n",
       "    <tr>\n",
       "      <th>0</th>\n",
       "      <td>Aqgromalin</td>\n",
       "      <td>2019.0</td>\n",
       "      <td>Chennai</td>\n",
       "      <td>AgriTech</td>\n",
       "      <td>Cultivating Ideas for Profit</td>\n",
       "      <td>Prasanna Manogaran, Bharani C L</td>\n",
       "      <td>Angel investors</td>\n",
       "      <td>200000.0</td>\n",
       "      <td>None</td>\n",
       "      <td>None</td>\n",
       "    </tr>\n",
       "    <tr>\n",
       "      <th>1</th>\n",
       "      <td>Krayonnz</td>\n",
       "      <td>2019.0</td>\n",
       "      <td>Bangalore</td>\n",
       "      <td>EdTech</td>\n",
       "      <td>An academy-guardian-scholar centric ecosystem ...</td>\n",
       "      <td>Saurabh Dixit, Gurudutt Upadhyay</td>\n",
       "      <td>GSF Accelerator</td>\n",
       "      <td>100000.0</td>\n",
       "      <td>Pre-seed</td>\n",
       "      <td>None</td>\n",
       "    </tr>\n",
       "    <tr>\n",
       "      <th>2</th>\n",
       "      <td>PadCare Labs</td>\n",
       "      <td>2018.0</td>\n",
       "      <td>Pune</td>\n",
       "      <td>Hygiene management</td>\n",
       "      <td>Converting bio-hazardous waste to harmless waste</td>\n",
       "      <td>Ajinkya Dhariya</td>\n",
       "      <td>Venture Center</td>\n",
       "      <td>NaN</td>\n",
       "      <td>Pre-seed</td>\n",
       "      <td>None</td>\n",
       "    </tr>\n",
       "    <tr>\n",
       "      <th>3</th>\n",
       "      <td>NCOME</td>\n",
       "      <td>2020.0</td>\n",
       "      <td>New Delhi</td>\n",
       "      <td>Escrow</td>\n",
       "      <td>Escrow-as-a-service platform</td>\n",
       "      <td>Ritesh Tiwari</td>\n",
       "      <td>Venture Catalysts, PointOne Capital</td>\n",
       "      <td>400000.0</td>\n",
       "      <td>None</td>\n",
       "      <td>None</td>\n",
       "    </tr>\n",
       "    <tr>\n",
       "      <th>4</th>\n",
       "      <td>Gramophone</td>\n",
       "      <td>2016.0</td>\n",
       "      <td>Indore</td>\n",
       "      <td>AgriTech</td>\n",
       "      <td>Gramophone is an AgTech platform enabling acce...</td>\n",
       "      <td>Ashish Rajan Singh, Harshit Gupta, Nishant Mah...</td>\n",
       "      <td>Siana Capital Management, Info Edge</td>\n",
       "      <td>340000.0</td>\n",
       "      <td>None</td>\n",
       "      <td>None</td>\n",
       "    </tr>\n",
       "  </tbody>\n",
       "</table>\n",
       "</div>"
      ],
      "text/plain": [
       "  Company_Brand  Founded HeadQuarter              Sector  \\\n",
       "0    Aqgromalin   2019.0     Chennai            AgriTech   \n",
       "1      Krayonnz   2019.0   Bangalore              EdTech   \n",
       "2  PadCare Labs   2018.0        Pune  Hygiene management   \n",
       "3         NCOME   2020.0   New Delhi              Escrow   \n",
       "4    Gramophone   2016.0      Indore            AgriTech   \n",
       "\n",
       "                                        What_it_does  \\\n",
       "0                       Cultivating Ideas for Profit   \n",
       "1  An academy-guardian-scholar centric ecosystem ...   \n",
       "2   Converting bio-hazardous waste to harmless waste   \n",
       "3                       Escrow-as-a-service platform   \n",
       "4  Gramophone is an AgTech platform enabling acce...   \n",
       "\n",
       "                                            Founders  \\\n",
       "0                    Prasanna Manogaran, Bharani C L   \n",
       "1                   Saurabh Dixit, Gurudutt Upadhyay   \n",
       "2                                    Ajinkya Dhariya   \n",
       "3                                      Ritesh Tiwari   \n",
       "4  Ashish Rajan Singh, Harshit Gupta, Nishant Mah...   \n",
       "\n",
       "                              Investor    Amount     Stage column10  \n",
       "0                      Angel investors  200000.0      None     None  \n",
       "1                      GSF Accelerator  100000.0  Pre-seed     None  \n",
       "2                       Venture Center       NaN  Pre-seed     None  \n",
       "3  Venture Catalysts, PointOne Capital  400000.0      None     None  \n",
       "4  Siana Capital Management, Info Edge  340000.0      None     None  "
      ]
     },
     "execution_count": 7,
     "metadata": {},
     "output_type": "execute_result"
    }
   ],
   "source": [
    "data.head()"
   ]
  },
  {
   "cell_type": "code",
   "execution_count": 8,
   "metadata": {},
   "outputs": [
    {
     "data": {
      "text/html": [
       "<div>\n",
       "<style scoped>\n",
       "    .dataframe tbody tr th:only-of-type {\n",
       "        vertical-align: middle;\n",
       "    }\n",
       "\n",
       "    .dataframe tbody tr th {\n",
       "        vertical-align: top;\n",
       "    }\n",
       "\n",
       "    .dataframe thead th {\n",
       "        text-align: right;\n",
       "    }\n",
       "</style>\n",
       "<table border=\"1\" class=\"dataframe\">\n",
       "  <thead>\n",
       "    <tr style=\"text-align: right;\">\n",
       "      <th></th>\n",
       "      <th>Company_Brand</th>\n",
       "      <th>Founded</th>\n",
       "      <th>HeadQuarter</th>\n",
       "      <th>Sector</th>\n",
       "      <th>What_it_does</th>\n",
       "      <th>Founders</th>\n",
       "      <th>Investor</th>\n",
       "      <th>Amount</th>\n",
       "      <th>Stage</th>\n",
       "      <th>column10</th>\n",
       "    </tr>\n",
       "  </thead>\n",
       "  <tbody>\n",
       "    <tr>\n",
       "      <th>1050</th>\n",
       "      <td>Leverage Edu</td>\n",
       "      <td>NaN</td>\n",
       "      <td>Delhi</td>\n",
       "      <td>Edtech</td>\n",
       "      <td>AI enabled marketplace that provides career gu...</td>\n",
       "      <td>Akshay Chaturvedi</td>\n",
       "      <td>DSG Consumer Partners, Blume Ventures</td>\n",
       "      <td>1500000.0</td>\n",
       "      <td>None</td>\n",
       "      <td>None</td>\n",
       "    </tr>\n",
       "    <tr>\n",
       "      <th>1051</th>\n",
       "      <td>EpiFi</td>\n",
       "      <td>NaN</td>\n",
       "      <td>None</td>\n",
       "      <td>Fintech</td>\n",
       "      <td>It offers customers with a single interface fo...</td>\n",
       "      <td>Sujith Narayanan, Sumit Gwalani</td>\n",
       "      <td>Sequoia India, Ribbit Capital</td>\n",
       "      <td>13200000.0</td>\n",
       "      <td>Seed Round</td>\n",
       "      <td>None</td>\n",
       "    </tr>\n",
       "    <tr>\n",
       "      <th>1052</th>\n",
       "      <td>Purplle</td>\n",
       "      <td>2012.0</td>\n",
       "      <td>Mumbai</td>\n",
       "      <td>Cosmetics</td>\n",
       "      <td>Online makeup and beauty products retailer</td>\n",
       "      <td>Manish Taneja, Rahul Dash</td>\n",
       "      <td>Verlinvest</td>\n",
       "      <td>8000000.0</td>\n",
       "      <td>None</td>\n",
       "      <td>None</td>\n",
       "    </tr>\n",
       "    <tr>\n",
       "      <th>1053</th>\n",
       "      <td>Shuttl</td>\n",
       "      <td>2015.0</td>\n",
       "      <td>Delhi</td>\n",
       "      <td>Transport</td>\n",
       "      <td>App based bus aggregator serice</td>\n",
       "      <td>Amit Singh, Deepanshu Malviya</td>\n",
       "      <td>SIG Global India Fund LLP.</td>\n",
       "      <td>8043000.0</td>\n",
       "      <td>Series C</td>\n",
       "      <td>None</td>\n",
       "    </tr>\n",
       "    <tr>\n",
       "      <th>1054</th>\n",
       "      <td>Pando</td>\n",
       "      <td>2017.0</td>\n",
       "      <td>Chennai</td>\n",
       "      <td>Logitech</td>\n",
       "      <td>Networked logistics management software</td>\n",
       "      <td>Jayakrishnan, Abhijeet Manohar</td>\n",
       "      <td>Chiratae Ventures</td>\n",
       "      <td>9000000.0</td>\n",
       "      <td>Series A</td>\n",
       "      <td>None</td>\n",
       "    </tr>\n",
       "  </tbody>\n",
       "</table>\n",
       "</div>"
      ],
      "text/plain": [
       "     Company_Brand  Founded HeadQuarter     Sector  \\\n",
       "1050  Leverage Edu      NaN       Delhi     Edtech   \n",
       "1051         EpiFi      NaN        None    Fintech   \n",
       "1052       Purplle   2012.0      Mumbai  Cosmetics   \n",
       "1053        Shuttl   2015.0       Delhi  Transport   \n",
       "1054         Pando   2017.0     Chennai   Logitech   \n",
       "\n",
       "                                           What_it_does  \\\n",
       "1050  AI enabled marketplace that provides career gu...   \n",
       "1051  It offers customers with a single interface fo...   \n",
       "1052         Online makeup and beauty products retailer   \n",
       "1053                    App based bus aggregator serice   \n",
       "1054            Networked logistics management software   \n",
       "\n",
       "                             Founders                               Investor  \\\n",
       "1050                Akshay Chaturvedi  DSG Consumer Partners, Blume Ventures   \n",
       "1051  Sujith Narayanan, Sumit Gwalani          Sequoia India, Ribbit Capital   \n",
       "1052        Manish Taneja, Rahul Dash                             Verlinvest   \n",
       "1053    Amit Singh, Deepanshu Malviya             SIG Global India Fund LLP.   \n",
       "1054   Jayakrishnan, Abhijeet Manohar                      Chiratae Ventures   \n",
       "\n",
       "          Amount       Stage column10  \n",
       "1050   1500000.0        None     None  \n",
       "1051  13200000.0  Seed Round     None  \n",
       "1052   8000000.0        None     None  \n",
       "1053   8043000.0    Series C     None  \n",
       "1054   9000000.0    Series A     None  "
      ]
     },
     "execution_count": 8,
     "metadata": {},
     "output_type": "execute_result"
    }
   ],
   "source": [
    "data.tail()"
   ]
  },
  {
   "cell_type": "code",
   "execution_count": 9,
   "metadata": {},
   "outputs": [
    {
     "name": "stdout",
     "output_type": "stream",
     "text": [
      "<class 'pandas.core.frame.DataFrame'>\n",
      "RangeIndex: 1055 entries, 0 to 1054\n",
      "Data columns (total 10 columns):\n",
      " #   Column         Non-Null Count  Dtype  \n",
      "---  ------         --------------  -----  \n",
      " 0   Company_Brand  1055 non-null   object \n",
      " 1   Founded        842 non-null    float64\n",
      " 2   HeadQuarter    961 non-null    object \n",
      " 3   Sector         1042 non-null   object \n",
      " 4   What_it_does   1055 non-null   object \n",
      " 5   Founders       1043 non-null   object \n",
      " 6   Investor       1017 non-null   object \n",
      " 7   Amount         801 non-null    float64\n",
      " 8   Stage          591 non-null    object \n",
      " 9   column10       2 non-null      object \n",
      "dtypes: float64(2), object(8)\n",
      "memory usage: 82.5+ KB\n"
     ]
    }
   ],
   "source": [
    "data.info()"
   ]
  },
  {
   "cell_type": "code",
   "execution_count": 10,
   "metadata": {},
   "outputs": [
    {
     "data": {
      "text/html": [
       "<div>\n",
       "<style scoped>\n",
       "    .dataframe tbody tr th:only-of-type {\n",
       "        vertical-align: middle;\n",
       "    }\n",
       "\n",
       "    .dataframe tbody tr th {\n",
       "        vertical-align: top;\n",
       "    }\n",
       "\n",
       "    .dataframe thead th {\n",
       "        text-align: right;\n",
       "    }\n",
       "</style>\n",
       "<table border=\"1\" class=\"dataframe\">\n",
       "  <thead>\n",
       "    <tr style=\"text-align: right;\">\n",
       "      <th></th>\n",
       "      <th>Null Count</th>\n",
       "      <th>Percentage</th>\n",
       "    </tr>\n",
       "  </thead>\n",
       "  <tbody>\n",
       "    <tr>\n",
       "      <th>Company_Brand</th>\n",
       "      <td>0</td>\n",
       "      <td>0.000000</td>\n",
       "    </tr>\n",
       "    <tr>\n",
       "      <th>Founded</th>\n",
       "      <td>213</td>\n",
       "      <td>20.189573</td>\n",
       "    </tr>\n",
       "    <tr>\n",
       "      <th>HeadQuarter</th>\n",
       "      <td>94</td>\n",
       "      <td>8.909953</td>\n",
       "    </tr>\n",
       "    <tr>\n",
       "      <th>Sector</th>\n",
       "      <td>13</td>\n",
       "      <td>1.232227</td>\n",
       "    </tr>\n",
       "    <tr>\n",
       "      <th>What_it_does</th>\n",
       "      <td>0</td>\n",
       "      <td>0.000000</td>\n",
       "    </tr>\n",
       "    <tr>\n",
       "      <th>Founders</th>\n",
       "      <td>12</td>\n",
       "      <td>1.137441</td>\n",
       "    </tr>\n",
       "    <tr>\n",
       "      <th>Investor</th>\n",
       "      <td>38</td>\n",
       "      <td>3.601896</td>\n",
       "    </tr>\n",
       "    <tr>\n",
       "      <th>Amount</th>\n",
       "      <td>254</td>\n",
       "      <td>24.075829</td>\n",
       "    </tr>\n",
       "    <tr>\n",
       "      <th>Stage</th>\n",
       "      <td>464</td>\n",
       "      <td>43.981043</td>\n",
       "    </tr>\n",
       "    <tr>\n",
       "      <th>column10</th>\n",
       "      <td>1053</td>\n",
       "      <td>99.810427</td>\n",
       "    </tr>\n",
       "  </tbody>\n",
       "</table>\n",
       "</div>"
      ],
      "text/plain": [
       "               Null Count  Percentage\n",
       "Company_Brand           0    0.000000\n",
       "Founded               213   20.189573\n",
       "HeadQuarter            94    8.909953\n",
       "Sector                 13    1.232227\n",
       "What_it_does            0    0.000000\n",
       "Founders               12    1.137441\n",
       "Investor               38    3.601896\n",
       "Amount                254   24.075829\n",
       "Stage                 464   43.981043\n",
       "column10             1053   99.810427"
      ]
     },
     "execution_count": 10,
     "metadata": {},
     "output_type": "execute_result"
    }
   ],
   "source": [
    "# Missing values with their percentages \n",
    "data.isnull().sum().to_frame('Null Count').assign(Percentage=lambda x: (x['Null Count'] / len(data)) * 100)\n"
   ]
  },
  {
   "cell_type": "code",
   "execution_count": 11,
   "metadata": {},
   "outputs": [
    {
     "data": {
      "text/plain": [
       "(1055, 10)"
      ]
     },
     "execution_count": 11,
     "metadata": {},
     "output_type": "execute_result"
    }
   ],
   "source": [
    "data.shape"
   ]
  },
  {
   "cell_type": "code",
   "execution_count": 12,
   "metadata": {},
   "outputs": [
    {
     "data": {
      "text/plain": [
       "3"
      ]
     },
     "execution_count": 12,
     "metadata": {},
     "output_type": "execute_result"
    }
   ],
   "source": [
    "data.duplicated().sum()"
   ]
  },
  {
   "cell_type": "code",
   "execution_count": 13,
   "metadata": {},
   "outputs": [
    {
     "data": {
      "text/plain": [
       "array(['Aqgromalin', 'Krayonnz', 'PadCare Labs', 'NCOME', 'Gramophone',\n",
       "       'qZense', 'MyClassboard', 'Metvy', 'Rupeek', 'Gig India',\n",
       "       'Slurrp Farm', 'Medfin', 'MasterG', 'Brila 91', 'FoodyBuddy',\n",
       "       'Zomato', 'OurEye.ai', 'Shiprocket', 'Pine Labs',\n",
       "       'Moneyboxx Finance', 'EWar', 'SucSEED Indovation', 'TaxBuddy.com',\n",
       "       'Awign Enterprises', 'Circle of Angels', 'CoinDCX', 'Glance',\n",
       "       'VerSe Innovation', 'Voosh', 'Delhivery', 'Arya', 'Pickrr',\n",
       "       'PhonePe', 'Countingwell', 'Callify.ai', 'Hudle', 'Cover it Up',\n",
       "       'BiteSpeed', 'WakeFit', 'Sreyas Holistic Remedies', 'Fleeca India',\n",
       "       'M1xchange', 'Exotel', 'PagarBook', 'PointOne Capital', 'Ayana',\n",
       "       'Fisdom', 'Tinker Coders', 'Infinite Uptime', 'HappyLocate',\n",
       "       'Loop Health', 'NeoDocs', 'The ePlane', 'TagMango', 'The New Shop',\n",
       "       'MobiKwik', 'DebugsBunny', 'BHIVE Investech', 'Rivigo', 'ZipLoan',\n",
       "       'Swipez', 'Humus', 'Artivatic.ai', 'Prescinto', 'Toppeq',\n",
       "       'Bolo Indya', 'Bombay Play', 'FreshToHome', 'KIKO TV',\n",
       "       'Atomberg Technologies', 'DealShare', 'Smallcase', 'CueMath',\n",
       "       'Gamerji', '5C Network', 'Ethereum Push Notification Service',\n",
       "       'Mihup', 'RuralBasket', 'WayCool Foods', 'Infra.Market',\n",
       "       'Info Edge Venture', 'Clovia', 'Codingal', 'CRED',\n",
       "       'Vistaar Finance', \"Let's Dive\", 'Habitat', 'SAWO Labs', 'Signzy',\n",
       "       'KopyKitab', 'Kyt', 'Raskik', 'GetWork',\n",
       "       'Mobile Premier League (MPL)', 'Pravasirojgar', 'Omatra Hotels',\n",
       "       'Awign', 'NewsReach', 'Cashfree', 'Credgenics', 'GeoIQ',\n",
       "       'Country Delight', 'Quintype', 'CARS24', 'Astrogate Labs',\n",
       "       'Power Gummies', 'Cityflo', 'AlgoBulls', 'Inntot', 'Ensuredit',\n",
       "       'Shipsy', 'ERPNext', 'LightSpeedAI', 'Grip Invest', 'Unacademy',\n",
       "       'Yellow Classes', 'Plum', 'STAGE', 'Nykaa', 'Kaagaz Scanner',\n",
       "       'NIRA', 'Prolixr', \"Byju's\", 'DaMENSCH', 'SignalX', 'Lancify',\n",
       "       'Krimanshi', 'Instoried', 'PlayerzPot', 'Instamojo', 'Turtlemint',\n",
       "       'Arata', 'MPL', 'True Balance', 'Thrive', 'Kitchens Centre',\n",
       "       'Prescribe', 'Nepra', 'inFeedo', 'Shilpa Sciences', 'Arzooo',\n",
       "       'MindTickle', 'Slice', 'Rapawalk', \"Oga Fit's\", 'LAVAL',\n",
       "       'Stride Ventures', 'BlackSoil', 'Biocon', 'Clientjoy',\n",
       "       'Xpressbees', 'GalaxyCard', 'Wellness Forever', 'MoooFarm',\n",
       "       'BitClass', 'Gonuts', 'Uolo', 'Kirana King', 'Jade Forest',\n",
       "       'iKure', 'FrontRow', 'Reliance Retail', 'TUBBR', 'Ather Energy',\n",
       "       'Routematic', 'LivFin', 'Universal Sportsbiz Pvt Ltd',\n",
       "       'Lattu Kids', 'Eggoz', 'Steradian Semiconductors', 'CHARGE+ZONE',\n",
       "       'Stones2milestones', 'Udacity', 'AjnaLens', 'Gully Network',\n",
       "       'TurboHire', 'Traya', 'Charcoal Eats', 'Mitron TV', 'Svami',\n",
       "       'Dhurnia', 'Expertrons', 'Leena AI', 'Bizlog', 'Tamasha.live',\n",
       "       'Fedo', 'FabHotels', 'Freshokartz', 'FlexiLoans', 'Agrix',\n",
       "       'BharatAgri', 'FreshtoHome', 'Credable', 'Railofy',\n",
       "       'Finova Capital', 'Teachmint', 'Peel-Works', 'Janani',\n",
       "       'Finelistings', 'Wellversed', 'Jumbotail', 'Winzo', 'mCaffeine',\n",
       "       'Pocket FM', 'Snackible', 'TagZ Foods', 'Genius Teacher',\n",
       "       'Krimanshi Feeds', 'Origo', 'GetVantage', 'Betterplace', 'Biddano',\n",
       "       'InVideo', 'Hubilo', 'BASIC Home Loan', 'Ketos', 'SUGAR cosmetics',\n",
       "       'Ahaguru', 'Tekion', 'Brighteye Ventures', 'EzeRx', 'VitalTech',\n",
       "       'Ultraviolette Automotive', 'Tring', 'Rare Planet', 'GoodGamer',\n",
       "       'InnAccel', 'Tiliter', 'Slintel', 'SoOLEGAL', 'HobSpace',\n",
       "       'Supplynote', 'Hire Me Car', 'ShopUp', 'Harmonizer India',\n",
       "       'Dukaan', 'CredR', 'Satyukt', 'RACEnergy', 'TREAD', 'Anveshan',\n",
       "       'TeaMonk', 'Fleetx', 'ReNEWate', 'Tango Eye', 'Avataa Me',\n",
       "       'Arrival', 'Cover Genius', 'Phononic Vibes', 'MikeLegal', 'Clair',\n",
       "       'Gourmet Garden', 'Miko', 'Razorpay', 'Ninjacart', 'Wow! Momo',\n",
       "       'Pepper Content', 'LIVSPACE', 'Acculi Labs', 'Your MD', 'Antaios',\n",
       "       'Unnati', 'Disprz', 'Uni', 'Credit Wise Capital', 'Chargebee',\n",
       "       'Reliance Retail Ventures Ltd', 'Winuall', 'Genrobotics', 'Livve',\n",
       "       'Ergos', 'Krishitantra', 'PakkaProfile', 'Monet Networks',\n",
       "       'Unocoin', 'Pesto', 'NirogStreet', 'Bambrew', 'Omnify',\n",
       "       'Fanball XI', 'Treebo Hotels', 'GPS Renewables', 'Public',\n",
       "       'Legal Salah', 'FanPlay', 'ECOSTP', 'Coralogix', 'Equiwatt',\n",
       "       'Reliance Retail Ventures', 'Zhangmen', 'AgroWave',\n",
       "       'Sapio Analytics', 'Taimei', 'Avanse Financial Services',\n",
       "       'Industry Buying', 'Hopscotch', 'Pristyn Care', 'WoodenStreet',\n",
       "       'ACKO', 'Farmers Fresh Zone', 'Invento', 'Infurnia',\n",
       "       \"AnalytIQSports's SuperCric\", 'Snowflake', 'GenieTalk',\n",
       "       'Classplus', 'Mobile Premier League', 'Fourth Partner Energy',\n",
       "       'Flipkart', 'Vivriti Capital', 'InsuranceDekho', 'BestDoc',\n",
       "       'Byju’s', 'Melorra', 'Reliance', 'Inflexor Ventures', 'Pandorum',\n",
       "       'SpeakIn', 'LetsUp', 'Newsreach', 'Dream11', 'JetSynthesys',\n",
       "       'Vesta Space Technology', 'Dozee', 'Rebel Foods', 'Ketto',\n",
       "       'Suryoday', 'SucSEED', 'Strata', '3one4 Capital', 'WE-Hub',\n",
       "       'Vicara', 'Gaana', 'EM3 Agri', 'Odwen', 'Fasal', 'Trukky',\n",
       "       'BankBazaar', 'Specsmakers', 'Grinntech', 'CreditMantri',\n",
       "       'Chai Waale', 'Deepsync', 'ConnectedH', 'QShala', 'Pitstop',\n",
       "       'Customfit ai', 'Nirmata', 'Oga Fit', 'ShipsKart', 'SquadStack',\n",
       "       'Financepeer', 'Cashify', 'Etrio', 'Codeyoung', 'StayQrious',\n",
       "       'Sunstone Eduversity', 'Infilect', 'MobiGarage', 'Samunnati',\n",
       "       'WeInnovate Biosolutions', 'Yummy Corp', 'Clairvolex', 'Assiduus',\n",
       "       'Brinton', 'AFK Gaming', 'Infarm', 'Zuper', 'Origa',\n",
       "       'GullyBuy Software', 'Recordent', 'Penny', 'Onsitego', 'Precily',\n",
       "       'SmartClean', 'ClanConnect', 'Servify', 'ShareChat', 'Rephrase.ai',\n",
       "       'EkAnek', 'Cub McPaws', 'Zimyo', 'PumPumPum', 'Burgerama',\n",
       "       'Moms Co', 'DillyHub', 'FPL Technologies', 'FITTR', 'Illumnus',\n",
       "       'CashKaro', 'Newton School', 'Airmeet', 'Observe ai', 'InCred',\n",
       "       'Toppr', 'CarTrade', 'LEAD School', 'Lido Learning', 'Apna.co',\n",
       "       'Quintype Technologies', 'Dunzo', 'Entropik', 'Livspace', 'WinZO',\n",
       "       'SenseHawk', 'Eloelo', 'Aibono', 'BuildPan', 'Homelane', 'MyGlamm',\n",
       "       'Aviom', 'Flinto', 'WayCool', 'YAP', 'Big Bang Boom Solutions',\n",
       "       'GUVI', 'BluSmart', 'Cell Propulsion', 'Spoonshot', 'Pulse',\n",
       "       'Groww', 'i3 Systems', 'SOAL', 'OckyPocky', 'Hippo Video',\n",
       "       'Hasura', 'Qapita', 'Sunday', 'Gamezop', 'Phool.co',\n",
       "       'Chiratae Ventures', 'MedLife', 'IDfy', 'Bira91', 'Max wholesale',\n",
       "       'Craftsvilla', 'MechMocha', 'Mindhouse', 'DeepSync', 'Eruditus',\n",
       "       'Gradeup', 'Tracxn', 'Purple Style Labs', 'ProPhysio',\n",
       "       'Flickstree', 'Settl', 'Fanspole', 'Sarva', 'Univ.ai', 'PurohitJi',\n",
       "       'CredoLab', 'Brick&Bolt', '6Degree', 'Exprs', 'Bikayi',\n",
       "       'Virtual Forest', 'The Health company', 'TrulyMadly Matchmakers',\n",
       "       'TrueFan', 'Avail Finance', 'The Money Club', 'Virohan', 'OneCode',\n",
       "       'Verloop.io', 'Otipy', 'Evage', 'Trell', 'Captain Fresh', 'Pixxel',\n",
       "       'Habbit Health', 'SmarterBiz', 'Able Jobs', 'Vieroots',\n",
       "       'Stack Finance', 'Masai School', 'Mitron', 'Daalchini',\n",
       "       'Suno India', 'LendingKart', 'Text Mercato', 'Eden Smart Homes',\n",
       "       'GrayQuest', 'BigHaat', 'CityCash', 'HomeLane', 'HungerBox',\n",
       "       'DaveAI', 'Eduvanz', 'DocSumo', 'CUSMAT', 'Chingari',\n",
       "       'Data Sutram', 'Wobot Intelligence', 'DrinkPrime', 'Infeedo',\n",
       "       'Probus Smart Things', 'CrowdPouch', 'Hevo', 'BigSpoon Foods',\n",
       "       'DatStop', 'IPHM Services', 'Wellcure', 'VilCart', 'Firescore',\n",
       "       'BulBul', 'Pickright Technologies', 'Muse Wearables',\n",
       "       'SATYA Microcapital', 'WYN Studio', 'Entri', 'Snack Amor',\n",
       "       'MPowered', 'Leap Club', 'Gigforce', 'Vegrow', 'Finn', 'Bijnis',\n",
       "       'iNurture', 'StyleDotMe', 'Ripsey', 'ThriveFNC', 'Vedantu',\n",
       "       'Magicpin', 'Procol', 'Yumlane', 'Crio', 'Openapp',\n",
       "       'uFony Services Pvt ltd', 'Protinus Fashion Networking Pvt Ltd',\n",
       "       'Uable', 'ParkSmart', 'IncNut Digital', 'GigIndia', 'Specsmaker',\n",
       "       'Piggy Ride', 'NOTO', 'Cuemath', 'Cars24', 'Earth Energy EV',\n",
       "       'Green Cure', 'Blue Sky Analytics', 'Edhusk', 'Decentro',\n",
       "       'Zolostays', 'Frontier Markets', 'Brainwired', 'Aye Finance',\n",
       "       'Paper Boat', 'Ken42', 'Forbidden Foods', 'Universal Sportsbiz',\n",
       "       'Gobbly', 'Aerostrovilos', 'Bulk MRO', 'Inspektlabs', 'Zetwerk',\n",
       "       'ChitMonks', 'Walrus', 'Arth Designbuild', 'goDutch', 'Rusk Media',\n",
       "       'Bold Care', 'Samosa Party', 'High Street Essentials', 'Fullife',\n",
       "       'Oziva', 'Aether Biomedical', '91springboard', 'Yulu',\n",
       "       'Milkbasket', 'MergerDomo', 'GoMechanic', 'Milk Mantra', 'Myglamm',\n",
       "       'Drishti Technologies', 'Instasolv', 'GoldenPi', 'Peppermint',\n",
       "       'Jai Kisan', 'Agro2o', 'LetsTransport', 'GabbarDeals',\n",
       "       'Crimson Healthcare', 'Biomoneta', 'Edvizo', 'Drum Food',\n",
       "       'Innoviti', 'Jiffy ai', 'Postman', 'F5', 'Waycool',\n",
       "       'Myelin Foundry', 'Ameliorate Biotech', 'Hapramp', 'MyKaam',\n",
       "       'HealthPlix', 'YoloBus', 'iNurture Education', 'Pocket52',\n",
       "       'QuaQua', 'Crofarm', 'Timios', 'Wooden Street', 'Rentmojo',\n",
       "       'Credgencies', 'Knorish', 'Vahak', 'Nutrova', 'Cube Wealth',\n",
       "       'IVF Access', 'Hoi Foods', 'Ola Financial Services', 'Awifs',\n",
       "       'Swiflearn', 'Remedo', 'Blowhorn', 'Toch', 'Gram Cover',\n",
       "       'Coin DCX', 'HomeCapital', 'Euler Motors', 'Riskcovry',\n",
       "       'NWNT (No Worry No Tension Healthcare)', 'Voicezen',\n",
       "       'Credit Mantri', 'Xtracap', 'Vakilsearch', 'Khatabook',\n",
       "       'Indian School Finance Company', 'Juicy Chemistry', 'DeepTek',\n",
       "       'Stepathlon Lifestyle', 'Sindhuja Microcredit',\n",
       "       'Tesco Charge Zone', 'Intello Labs', 'SirionLabs', 'GroCurv',\n",
       "       'Refrens', 'Spyne', 'Docsapp', 'Phable', 'Generic Aadhaar', 'Nium',\n",
       "       'Mintoak', 'VestSpace', 'Blackbuck', 'Vernacular ai', 'Clover',\n",
       "       'Varthana', 'Codeninja', 'MetaMerphoSys', 'Rooter', 'Aker Foods',\n",
       "       'Sascan Meditech pvt ltd', 'DailyHunt', 'Pratilipi',\n",
       "       'Biryani By Kilo', 'Consure Medical', 'Tessol', 'News Reach',\n",
       "       'RoomSoom', 'Pedagogy', 'Medlife', 'Qin1', 'MYSUN', 'ShopX',\n",
       "       'NewsBytes', 'Wagonfly', 'Convosight', 'Fittr', 'AsknBid',\n",
       "       'Finaureus Technologies', 'Daily Ninja',\n",
       "       'Guvi Geek Network Pvt Ltd', 'LoadShare', 'Indusface', 'DMI Group',\n",
       "       'Spintly', 'Credr', 'Bijak', 'Bugworks', 'Yap', 'UzhavarBumi',\n",
       "       'Tattva', 'Pariksha', 'NoBroker', 'Box8', 'Capital Float',\n",
       "       'ITILITE', 'Morning Context', 'Aavenir', 'Savvy Co op', 'BLive',\n",
       "       'Yellow Messenger', 'Ewar', 'Setu', 'Wellthy Therapeutics',\n",
       "       'Locale ai', 'FarEye', 'Porter', 'SugarBox', 'Big Basket', 'Amica',\n",
       "       'Fingerlix', 'Plop', 'Zupee', 'DeHaat', 'Swiggy', 'Akna Medical',\n",
       "       'RaRa Delivery', 'JusPay', 'Obviously AI', 'Fingpay', 'Recko',\n",
       "       'Furlenco', 'Mera Cashier', 'Camp K12', 'MedGenome', 'Samadhan',\n",
       "       'SaScan', 'CureFit', 'Nimesa', 'Design X', 'Driftly Electric',\n",
       "       'Imstrong', 'Rupifi', 'SnackAmor', 'Zealthy', 'NuNu TV', 'QTalk',\n",
       "       'Shadez', 'Excess2Sell', 'Stanplus', 'Univariety', 'Peel Works',\n",
       "       'CoreStack', 'Agnikul', 'Fintso', 'Smart Coin', 'ZunRoof',\n",
       "       'Shop101', 'OM Bhakti', 'Lal10', 'Anaxee Digital Runner',\n",
       "       'CollegeKhabri', 'Ola Electric', 'Multi Living', 'FamPay',\n",
       "       'UnboxRobotics Labs', 'Karbon Card', 'Innerchef', 'Epigamia',\n",
       "       'StyleNook', 'Callido Learning', 'Soxytoes', 'Salesken',\n",
       "       'Leap Finance', 'Sleepy Owl', 'Tricog', 'GogoBus',\n",
       "       'Spaciya Consultants', 'Bounce', 'Neeman', 'Chqbook', 'SMEcorner',\n",
       "       'Oda Class', 'Spinny', 'goStops', 'Umeed Housing', 'Vogo',\n",
       "       'Flick Stree', 'Qure ai', 'MinionLabs', 'Josh Talks',\n",
       "       'PhoneParLoan', 'RailYatri', 'Pepper', 'iMerit', 'BharatPe',\n",
       "       'Invideo', 'AvalonMeta', 'Near Store', 'ElecTorq',\n",
       "       'Prayaan Capital', 'Sanfe', 'Go Desi', 'Whatfix', 'Zvesta',\n",
       "       'Digit Insurance', 'Yolo', 'SmartVizX', 'MaxWholesale',\n",
       "       'Carbon Clean', 'Genius Corner', 'PlanetSpark', 'CamCom', 'Simsim',\n",
       "       'Shuttl', 'HooLiv', 'ClassMonitor', 'Friyey', 'Oga', 'CYFIRMA',\n",
       "       'Paytm money', 'Nova Credit', 'CodingNinjas', 'HempStreet',\n",
       "       'MoEngage', 'Chaayos', 'PetPooja', 'Altor', 'Pepperfry',\n",
       "       'FirstCry', 'Byju', 'WorkIndia', 'Qyuki', 'Leap India', 'Picxy',\n",
       "       'NEETprep', 'Dot Pvt. Ltd', 'Kuku FM', 'SuperMoney', 'AlphaVector',\n",
       "       'Fox Capital', 'Tribe Theory', 'Embibe', 'Oye! Rickshaw',\n",
       "       'Seal Professional', 'Sprinng Foods', '1MG', 'Aagey', 'Doubtnut',\n",
       "       'AdonMo', 'Kisan Network', 'Unotech', 'CureSkin', 'WizKlub',\n",
       "       'Interviewbit', 'MoneyTap', 'Uniplatform Tech', 'INdwealth',\n",
       "       'Bizongo', 'AppsFlyer', 'Konfinity', 'Nupay', 'LogiNext',\n",
       "       'Samosa Singh', 'Crysta', 'Eupheus Learning', 'Park+', 'Goodmylk',\n",
       "       'SmartKarrot', 'Skylo', 'Tea Trunk', 'Zoomcar', 'Samya AI',\n",
       "       'Kristal AI', 'Invento Robotics', 'Sabse Sasta Dukaan',\n",
       "       'Fitphilia', 'Medicus', 'Monech', 'Teach Us', 'Dealberg',\n",
       "       'Phenom People', 'Extra Edge', 'Capital Quotient', 'Karfa',\n",
       "       'Zinier', 'ProEves', 'Toddle', 'Aesthetic Nutrition',\n",
       "       'TechnifyBiz', 'Wysh', 'Keito', 'Klub', 'Aadhar', 'IncubateHub',\n",
       "       'Rage Coffee', 'Skilancer', 'Harappa Education', 'Rheo',\n",
       "       'Axio Biosolutions', 'Techbooze', 'PayMart', 'Testbook',\n",
       "       'FabAlley', 'HaikuJAM', 'Mamaearth', 'Rentomojo', 'Generico',\n",
       "       'HighRadius', 'Chai Kings', 'Shiksha', 'Super Surfaces', 'Quicko',\n",
       "       'Satin Creditcare', 'XpressBees', 'FarmERP', 'Wealth Bucket',\n",
       "       'Fashor', 'Leverage Edu', 'EpiFi', 'Purplle', 'Pando'],\n",
       "      dtype=object)"
      ]
     },
     "execution_count": 13,
     "metadata": {},
     "output_type": "execute_result"
    }
   ],
   "source": [
    "data['Company_Brand'].unique()"
   ]
  },
  {
   "cell_type": "code",
   "execution_count": 14,
   "metadata": {},
   "outputs": [
    {
     "data": {
      "text/plain": [
       "array([2019., 2018., 2020., 2016., 2008., 2015., 2017., 2014., 1998.,\n",
       "       2007., 2011., 1982., 2013., 2009., 2012., 1995., 2010., 2006.,\n",
       "       1978.,   nan, 1999., 1994., 2005., 1973., 2002., 2004., 2001.])"
      ]
     },
     "execution_count": 14,
     "metadata": {},
     "output_type": "execute_result"
    }
   ],
   "source": [
    "data['Founded'].unique()"
   ]
  },
  {
   "cell_type": "code",
   "execution_count": 15,
   "metadata": {},
   "outputs": [
    {
     "data": {
      "text/plain": [
       "array(['Chennai', 'Bangalore', 'Pune', 'New Delhi', 'Indore', 'Hyderabad',\n",
       "       'Gurgaon', 'Belgaum', 'Noida', 'Mumbai', 'Andheri', 'Jaipur',\n",
       "       'Ahmedabad', 'Kolkata', 'Tirunelveli, Tamilnadu', 'Thane', None,\n",
       "       'Singapore', 'Gurugram', 'Gujarat', 'Haryana', 'Kerala', 'Jodhpur',\n",
       "       'Jaipur, Rajastan', 'Delhi', 'Frisco, Texas, United States',\n",
       "       'California', 'Dhingsara, Haryana', 'New York, United States',\n",
       "       'Patna', 'San Francisco, California, United States',\n",
       "       'San Francisco, United States', 'San Ramon, California',\n",
       "       'Paris, Ile-de-France, France', 'Plano, Texas, United States',\n",
       "       'Sydney', 'San Francisco Bay Area, Silicon Valley, West Coast',\n",
       "       'Bangaldesh', 'London, England, United Kingdom',\n",
       "       'Sydney, New South Wales, Australia', 'Milano, Lombardia, Italy',\n",
       "       'Palmwoods, Queensland, Australia', 'France',\n",
       "       'San Francisco Bay Area, West Coast, Western US',\n",
       "       'Trivandrum, Kerala, India', 'Cochin', 'Samastipur, Bihar',\n",
       "       'Irvine, California, United States', 'Tumkur, Karnataka',\n",
       "       'Newcastle Upon Tyne, Newcastle upon Tyne, United Kingdom',\n",
       "       'Shanghai, China', 'Jiaxing, Zhejiang, China', 'Rajastan', 'Kochi',\n",
       "       'Ludhiana', 'Dehradun', 'San Franciscao', 'San Francisco',\n",
       "       'Tangerang, Jawa Barat, Indonesia', 'Berlin', 'Seattle', 'Riyadh',\n",
       "       'Seoul', 'New York', 'Bangkok', 'Kanpur', 'Chandigarh', 'Warangal',\n",
       "       'Hyderebad', 'Odisha', 'Bihar', 'Goa', 'Tamil Nadu',\n",
       "       'Uttar Pradesh', 'Bhopal', 'Banglore', 'Coimbatore', 'Bengaluru'],\n",
       "      dtype=object)"
      ]
     },
     "execution_count": 15,
     "metadata": {},
     "output_type": "execute_result"
    }
   ],
   "source": [
    "data['HeadQuarter'].unique()"
   ]
  },
  {
   "cell_type": "code",
   "execution_count": 16,
   "metadata": {},
   "outputs": [
    {
     "data": {
      "text/plain": [
       "HeadQuarter\n",
       "Bangalore    317\n",
       "Mumbai       165\n",
       "Gurugram      79\n",
       "Delhi         62\n",
       "Chennai       43\n",
       "Name: count, dtype: int64"
      ]
     },
     "execution_count": 16,
     "metadata": {},
     "output_type": "execute_result"
    }
   ],
   "source": [
    "HeadQuarter_counts = data['HeadQuarter'].value_counts()\n",
    "\n",
    "HeadQuarter_counts.head ()"
   ]
  },
  {
   "cell_type": "code",
   "execution_count": 17,
   "metadata": {},
   "outputs": [
    {
     "data": {
      "text/plain": [
       "Founders\n",
       "Falguni Nayar                                                6\n",
       "Byju Raveendran                                              6\n",
       "Mukesh Ambani                                                4\n",
       "Saurabh Saxena, Pulkit Jain, Anand Prakash, Vamsi Krishna    4\n",
       "Sreevathsa Prabhakar                                         4\n",
       "Name: count, dtype: int64"
      ]
     },
     "execution_count": 17,
     "metadata": {},
     "output_type": "execute_result"
    }
   ],
   "source": [
    "Founders_counts = data['Founders'].value_counts()\n",
    "\n",
    "Founders_counts.head()"
   ]
  },
  {
   "cell_type": "code",
   "execution_count": 18,
   "metadata": {},
   "outputs": [
    {
     "data": {
      "text/plain": [
       "Investor\n",
       "Venture Catalysts            20\n",
       "Angel investors              12\n",
       "Mumbai Angels Network        12\n",
       "Inflection Point Ventures    11\n",
       "Undisclosed                  10\n",
       "Name: count, dtype: int64"
      ]
     },
     "execution_count": 18,
     "metadata": {},
     "output_type": "execute_result"
    }
   ],
   "source": [
    "Investor_counts = data['Investor'].value_counts()\n",
    "\n",
    "Investor_counts.head()"
   ]
  },
  {
   "cell_type": "code",
   "execution_count": 19,
   "metadata": {},
   "outputs": [
    {
     "data": {
      "text/plain": [
       "array(['AgriTech', 'EdTech', 'Hygiene management', 'Escrow',\n",
       "       'Networking platform', 'FinTech', 'Crowdsourcing',\n",
       "       'Food & Bevarages', 'HealthTech', 'Fashion startup',\n",
       "       'Food Industry', 'Food Delivery', 'Virtual auditing startup',\n",
       "       'E-commerce', 'Gaming', 'Work fulfillment', 'AI startup',\n",
       "       'Telecommunication', 'Logistics', 'Tech Startup', 'Sports',\n",
       "       'Retail', 'Medtech', 'Tyre management', 'Cloud company',\n",
       "       'Software company', 'Venture capitalist', 'Renewable player',\n",
       "       'IoT startup', 'SaaS startup', 'Aero company', 'Marketing company',\n",
       "       'Retail startup', 'Co-working Startup', 'Finance company',\n",
       "       'Tech company', 'Solar Monitoring Company',\n",
       "       'Video sharing platform', 'Gaming startup',\n",
       "       'Video streaming platform', 'Consumer appliances',\n",
       "       'Blockchain startup', 'Conversational AI platform', 'Real Estate',\n",
       "       'SaaS platform', 'AI platform', 'Fusion beverages', 'HR Tech',\n",
       "       'Job portal', 'Hospitality', 'Digital Media', 'Dairy startup',\n",
       "       'Content management', 'Spacetech', 'Transportation',\n",
       "       'Trading platform', 'AI Company', 'Photonics startup',\n",
       "       'Entertainment', 'Cosmetics', 'Scanning app', 'Skincare startup',\n",
       "       'Food and Beverages', 'Biotechnology company', 'FoodTech',\n",
       "       'Proptech', 'CleanTech', 'Fitness startup', 'Healthcare',\n",
       "       'PaaS startup', 'Beverages', 'Social Media', 'Automobiles',\n",
       "       'Deeptech', 'EV startup', 'AR/VR startup', 'Recruitment startup',\n",
       "       'QSR startup', 'Video platform', 'Edtech', 'Fertility tech',\n",
       "       'Luxury car startup', 'FM', 'Food', 'Nutrition sector',\n",
       "       'Tech platform', 'Video', 'Retail Tech', 'HeathTech',\n",
       "       'Sles and marketing', 'LegalTech', 'Car Service',\n",
       "       'Bike marketplace', 'Agri tech', 'Reatil startup', 'AR platform',\n",
       "       'Consumer Goods', 'Content marketplace', 'Interior Design',\n",
       "       'Rental space', 'Soil-Tech', 'Ayurveda tech',\n",
       "       'Packaging solution startup', 'Cleantech', 'Sanitation solutions',\n",
       "       'HealthCare', 'Home Design', 'InsureTech', 'AI Startup',\n",
       "       'Solar solution', 'Jewellery startup',\n",
       "       'Multinational conglomerate company', 'Deeptech startup',\n",
       "       'Social Network', 'Publication', 'Tech', 'Fashion', 'Finance',\n",
       "       'Venture capital', 'Entreprenurship', 'Food devlivery',\n",
       "       'Warehouse', 'Online financial service', 'Eyeglasses',\n",
       "       'Battery design', 'Online credit management startup', 'Beverage',\n",
       "       'TravelTech', 'Agriculture', 'Startup laboratory',\n",
       "       'Personal care startup', 'Customer service company',\n",
       "       'SaaS\\xa0\\xa0startup', 'Marketing startup', 'Service industry',\n",
       "       'Social media', 'AI', 'Jewellery', 'AR startup', 'HR Tech startup',\n",
       "       'Automotive Startup', 'Food Startup', 'EdTech Startup',\n",
       "       'Car Trade', 'EdtTech', 'Manufacturing', 'AI Platform',\n",
       "       'Automation', 'Solar SaaS', 'WL & RAC protection',\n",
       "       'Social commerce', 'Home interior services', 'Agritech startup',\n",
       "       'API platform', 'Deep Tech', 'Electricity', 'Automotive company',\n",
       "       'FMCG', 'Insurance Tech', 'Video personalization',\n",
       "       'Software Company', 'Biomaterial startup', 'Health', 'IT',\n",
       "       'Craft Beer', 'Healthtech', 'Education', 'Investment',\n",
       "       'Linguistic Spiritual', 'Construction', 'Battery manufacturer',\n",
       "       'Nano Distribution Network', 'AI health', 'Dating app', 'Media',\n",
       "       'Fintech', 'Healthcare/Edtech', 'Social Commerce',\n",
       "       'Agritech/Commerce', 'Mobility tech', 'Social e-commerce',\n",
       "       'Food & Logistics', 'SpaceTech', 'Nutrition Tech', 'HR', 'IoT',\n",
       "       None, 'Agritech', 'Interior design', 'Foodtech', 'AR/VR',\n",
       "       'Appliance', 'HR tech', 'Food tech', 'Mental Health', 'Ecommerce',\n",
       "       'Solar Solution', 'SaaS', 'Automobile', 'B2B marketplace',\n",
       "       'Fashion Tech', 'Nutrition tech', 'Health & Wellness',\n",
       "       'Cloud Kitchen', 'IoT/Automobile', 'Eye Wear', 'Digital tech',\n",
       "       'Data Intelligence', 'Co-living', 'Food & Beverages', 'Automotive',\n",
       "       'B2B', 'Defense tech', 'Marketplace', 'Construction tech',\n",
       "       'Nutrition', 'Coworking', 'Micro-mobiity', 'Auto-tech', 'Beauty',\n",
       "       'Robotics', 'Yoga & wellness', 'Logitech', 'Med Tech',\n",
       "       'Life sciences', 'Retail Aggregator', 'Deep Tech AI', 'Biotech',\n",
       "       'Blockchain', 'HrTech', 'Mobility/Transport', 'Travel', 'Rental',\n",
       "       'AI & Debt', 'SaaS/Edtech', 'Transport', 'Co-working', 'Insurtech',\n",
       "       'Cryptocurrency', 'Automotive tech', 'Legal', 'Fitness', 'EV',\n",
       "       'Supply chain, Agritech', 'Pharma', 'Insurance technology',\n",
       "       'Foodtech & Logistics', 'Housing', 'Pharmaceutical',\n",
       "       'Data Analytics', 'Investment Tech', 'Financial Services',\n",
       "       'Biopharma', 'Dairy', 'Beauty & wellness', 'Travel & SaaS',\n",
       "       'Tourism & EV', 'Media Tech', 'Location Analytics', 'E store',\n",
       "       'Data Science', 'Insurance', 'Health and Fitness', 'Technology',\n",
       "       'Interior & decor', 'eMobility', 'Automation tech',\n",
       "       'Media & Networking', 'E-market', 'AI & Data science',\n",
       "       'Travel tech', 'Automotive and Rentals', 'E-tail', 'Accomodation',\n",
       "       'AI & Media', 'Machine Learning', 'Content Marktplace',\n",
       "       'Visual Media', 'Hygiene', 'VR & SaaS', 'Sales & Services',\n",
       "       'AI & Deep learning', 'Housing & Rentals', 'Estore', 'Marketing',\n",
       "       'E tailor', 'E-mobility', 'Ad-tech', 'Neo-banking',\n",
       "       'Transport Automation', 'Techonology', 'Transport & Rentals',\n",
       "       'AI Robotics', 'Preschool Daycare', 'Food diet', 'B2B Agritech',\n",
       "       'E-connect', 'Tech hub', 'Consultancy', 'Pharmacy', 'Deisgning',\n",
       "       'Taxation', 'Automobile Technology'], dtype=object)"
      ]
     },
     "execution_count": 19,
     "metadata": {},
     "output_type": "execute_result"
    }
   ],
   "source": [
    "data['Sector'].unique()"
   ]
  },
  {
   "cell_type": "markdown",
   "metadata": {},
   "source": [
    " Sector column has lots of spelling errors and simmilar sector values placed differently eg  AI/ AI Company,  AI Platform/ AI platform, AI Startup/AI startup ,  Agri tech/AgriTech/ Agritech. We will convert all values to lower case for easier merging then map like values in a standard sector then convert them back to upper case                                    "
   ]
  },
  {
   "cell_type": "code",
   "execution_count": 20,
   "metadata": {},
   "outputs": [
    {
     "data": {
      "text/plain": [
       "Sector\n",
       "Fintech       80\n",
       "Edtech        67\n",
       "FinTech       51\n",
       "EdTech        40\n",
       "E-commerce    33\n",
       "Name: count, dtype: int64"
      ]
     },
     "execution_count": 20,
     "metadata": {},
     "output_type": "execute_result"
    }
   ],
   "source": [
    "Sector_counts = data['Sector'].value_counts()\n",
    "\n",
    "Sector_counts.head()"
   ]
  },
  {
   "cell_type": "code",
   "execution_count": 21,
   "metadata": {},
   "outputs": [
    {
     "data": {
      "text/plain": [
       "Sector\n",
       "EV                     1\n",
       "EV startup             3\n",
       "Ecommerce             22\n",
       "EdTech                40\n",
       "EdTech Startup         4\n",
       "                      ..\n",
       "Marketing startup      1\n",
       "Marketplace            5\n",
       "Med Tech               1\n",
       "Media                 19\n",
       "Media & Networking     1\n",
       "Name: count, Length: 100, dtype: int64"
      ]
     },
     "execution_count": 21,
     "metadata": {},
     "output_type": "execute_result"
    }
   ],
   "source": [
    "# Get the value counts in Sector column sorted alphabetically\n",
    "Sector_counts = data['Sector'].value_counts().sort_index()\n",
    "\n",
    "Sector_counts[100:200]"
   ]
  },
  {
   "cell_type": "code",
   "execution_count": 22,
   "metadata": {},
   "outputs": [
    {
     "data": {
      "text/plain": [
       "array(['Prasanna Manogaran, Bharani C L',\n",
       "       'Saurabh Dixit, Gurudutt Upadhyay', 'Ajinkya Dhariya',\n",
       "       'Ritesh Tiwari',\n",
       "       'Ashish Rajan Singh, Harshit Gupta, Nishant Mahatre, Tauseef Khan',\n",
       "       'Rubal Chib, Dr Srishti Batra', 'Ajay Sakhamuri',\n",
       "       'Shawrya Mehrotra', 'Amar Prabhu, Ashwin Soni, Sumit Maniyar',\n",
       "       'Aditya Shirole, Sahil Sharma', 'Meghana Narayan',\n",
       "       'Arjun Kumar, Arun Kumar, Sidharth Gurjar', 'Gayatri Jolly',\n",
       "       'Ankur Jain', 'Akil Sethuraman, Anup Gopinath, Rachna Rao',\n",
       "       'Deepinder Goyal, Gaurav Gupta, Pankaj Chaddah',\n",
       "       'Miran Junaidi, Saurabh Ghanekar, Sourav Sanyal',\n",
       "       'Gautam Kapoor, Saahil Goel, Vishesh Khurana', 'Amrish Rau',\n",
       "       'Prashant Agarwal', 'Parth Chadha, Rahul Singh',\n",
       "       'Vikrant Varshney', 'Sujit Bangar',\n",
       "       'Annanya Sarthak, Gurpreet Singh, Praveen Sah', 'Karanpal Singh',\n",
       "       'Neeraj Khandelwal, Sumit Gupta', 'Naveen Tewari',\n",
       "       'Virendra Gupta', 'Priyam Saraswat',\n",
       "       'Kapil Bharati, Mohit Tandon, Sahil Barua, Suraj Saharan',\n",
       "       'Chattanathan Devarajan, Prasanna Rao, Anand Chandra',\n",
       "       'Ankit Kaushik, Gaurav Mangla, Rhitiman Majumder',\n",
       "       'Burzin Engineer, Rahul Chari, Sameer Nigam', 'Nirmal Shah',\n",
       "       'Chetan Indap, Sunny Sharma, Deepanti Kavi', 'Suhail Narain',\n",
       "       'Ronak Sarda', 'Vinayak, Kshitij Abhishek, Apoorv Sadana',\n",
       "       'Ankit Garg, Chaitanya Ramalingegowda', 'Dr Prashant Soma',\n",
       "       'Tikam Jain', 'Sundeep Mohindru', 'Shivakumar Ganesan',\n",
       "       'Adarsh Kumar, Rupesh Mishra', 'Mihir Jha', 'Shivanand N',\n",
       "       'Anand Dalmia, Ramganesh Iyer, Subramanya S.V., Subramanya Venkat',\n",
       "       'Anoop Gautam', 'Raunak Bhinge', 'Ajay Tiwari, Sainadh Duvvuru',\n",
       "       'Mayank Kale, Ryan Singh',\n",
       "       'Anurag Meena, Nikunj Malpani, Pratik Lodha',\n",
       "       'Satya Chakravarthy, Pranjal Mehta',\n",
       "       'Divyanshu Damani, Mohammad Hasan',\n",
       "       'Charak Almast, Aastha Almast, Mani Dev Gyawali',\n",
       "       'Bipin Singh, Upasana Taku', 'Sumit Sanjay Singare',\n",
       "       'Monnappa Bayavanda, Prashant Reddy, Ravindra M.K, Ravindra M.K., Shesh Paplikar, Shesh Paplikar, Sridhar Venkataraman',\n",
       "       'Deepak Garg, Gazal Kalra', 'KSHITIJ Puri, Shalabh Singhal',\n",
       "       'Vivek Iyer', 'Manjunatha T N, Shilpa Gopalaiah', 'Layak Singh',\n",
       "       'Puneet Singh Jaggi, Sanjay Bhasin, Ram Menon', 'Nandini Sankar',\n",
       "       'Tanmai Paul, Varun Saxena',\n",
       "       'Abhas Saroha, Oliver Jones, Oliver Jones', 'Shan Kadavil',\n",
       "       'Shivam Varshney, Alok Chawla', 'Manoj Meena, Sibabrata Das',\n",
       "       'Sankar Bora, Sourjyendu Medda, Vineet Rao',\n",
       "       'Anugrah Shrivastava, Rohan Gupta, Vasanth Kamath', 'Manan Khurma',\n",
       "       'Soham Thacker, Valay Patel, Varun Gajjar', 'Kalyan Sivasailam',\n",
       "       'Harsh Rajat, Richa Joshi',\n",
       "       'Biplab Chakraborty, Sandipan Chattopadhyay, Sandipan Mandal, Tapan Barman',\n",
       "       'Palani Rajan', 'Karthik Jayaraman, Sanjay Dasari',\n",
       "       'Aaditya Sharda, Souvik Sengupta', 'Sanjeev Bikhchandani',\n",
       "       'Neha Kant, Pankaj Vermani', 'Satyam Baranwal, Vivek Prakash',\n",
       "       'Kunal Shah', 'Brahmanad, Ramakrishna Nishtala',\n",
       "       'Nitesh Agrawal, Om Prakash', 'Rohit Pande, Shikhar Sachan',\n",
       "       'Prabhat Sahu', 'Ankit Ratan, Ankur Pandey, Arpit Ratan',\n",
       "       'Amit Shrivastava, Sumeet Verma', 'Bhavik Rathod, Tripti Ahuja',\n",
       "       'Vikas Chawla, Abhay Parnerkar, Satyajit Ram', 'Rahul Veerwal',\n",
       "       'Sai Srinivas Kiran G, Shubham Malhotra', 'Sonu Sood',\n",
       "       'NAVEED AHAMED, SYED SAQQA ABBAS', 'Darshan Shah, Soniya Kundnani',\n",
       "       'Akash Sinha, Reeju Datta',\n",
       "       'Anand Agrawal, Mayank Khera, Rishabh Goel',\n",
       "       'Devashish Fuloria, Tusheet Shrivastava, Ankita Thakur',\n",
       "       'Chakradhar Gade, Nitin Kaushal', 'Chirdeep Shetty',\n",
       "       'Mehul Agrawal, Ruchit Agarwal, Vikram Chopra', None,\n",
       "       'Divij Bajaj',\n",
       "       'Advaith Vishwanath, Ankit Agrawal, Jerin Venad, Rushabh Shah, Sankalp Kelshikar, Subhash Sundaravadivelu',\n",
       "       'Pushpak Dagade, Jimmit Patel and Suraj Bathija', 'Rajith Nair',\n",
       "       'Amit, Rohit Sadhu, and Vikas Ranga',\n",
       "       'Dhruv Agrawal, Himanshu Gupta, Soham Chokshi', 'Rushabh Mehta',\n",
       "       'Rohin Y, PV Ramana', 'Nikhil Aggarwal, Vivek Gulati',\n",
       "       'Gaurav Munjal, Hemesh Singh, Roman Saini, Sachin Gupta',\n",
       "       'Arpit Mittal, Anshul Gupta', 'Abhishek Poddar, Saurabh Arora',\n",
       "       'Shashank Vaishnav, Vinay Singhal, Parveen Singhal',\n",
       "       'Falguni Nayar', 'Snehanshu Gandhi, Gaurav Shrishrimal',\n",
       "       'Rohit Sen, Nupur Gupta', 'Aditya Sharma, Jayesh Hans',\n",
       "       'Byju Raveendran, Divya Gokulnath', 'Anurag Saboo, Gaurav Pushkar',\n",
       "       'Govind Balachandran, Zakir Wahab, Piyush Arora',\n",
       "       'Gowtham Sundaresan, Azan Barodawala', 'Nikhil Bohra',\n",
       "       'Sharmin Ali, Sutanshu Raj', 'Yogesh, Mitesh Gangar',\n",
       "       'Aditya Sengupta, Akash Gehani, Harshad Sharma, Sampad Swain',\n",
       "       'Anand Prabhudesai, Dhirendra Mahyavanshi, Kunal Shah',\n",
       "       'Dhruv Madhok, Dhruv Bhasin', 'Cheolwon Lee, Jay Yi, Martin Lee',\n",
       "       'Dhruv Dewan, Krishi Fagwani', 'Lakshay Jain', 'Nived Narayanan',\n",
       "       'Sandeep Patel', 'Tanmaya Jain', 'Ashwin Lal',\n",
       "       'Khushnud Khan, Rishi Raj Rathore',\n",
       "       'Deepak Diwakar, Krishna Depura, Mohit Garg, Nishant Mungali',\n",
       "       'Deepak Malhotra, Rajan Bajaj',\n",
       "       'Kashif Mohammad, Aravind Maddireddy', 'Ashish Rawat',\n",
       "       'Shrishti, Prithika', 'Ishpreet Gandhi', 'Ankur Bansal',\n",
       "       'Kiran Mazumdar-Shaw',\n",
       "       'Abhishek Doshi, Anupama Panchal, Shashwat Bhatt, Yash Shah',\n",
       "       'Amitava Saha, Supam Maheshwari', 'Amit Kumar, Gunjeet Singh',\n",
       "       'Ashraf Biran, Gulshan Bakhtiani, Mohan Chavan',\n",
       "       'Param Singh, Aashna Singh, Abhijeet Mittal, Jitesh Arora',\n",
       "       'Gunjan Kejriwal, Utsav Tiwary',\n",
       "       'Vinamra Pandiya, Mayank Gupta, Joji George',\n",
       "       'Pallav Pandey, Ankur Pandey, Siddharth Singh', 'Anup Kumar',\n",
       "       'Punweet Singh, Shuchir Suri', 'Sujay Santra',\n",
       "       'Mikhil Raj, Shubhadit Sharma, Ishaan Preet Singh',\n",
       "       'Mukesh Ambani', 'Saurabh Uttam, Ravi Singhal',\n",
       "       'Arun Vinayak, Swapnil Jain, Tarun Mehta',\n",
       "       'Sriram Kannan, Surajit Das', 'Rakesh Malhotra', 'Anjana Reddy',\n",
       "       'Vivek Bhutyani',\n",
       "       'Abhishek Negi, Aditya Singh, Pankaj Pandey, Uttam Kumar',\n",
       "       'Gireesh Rajendran, Ashish Lachhwani, Apu Sivadas, Rakesh Kumar and Alok Joshi',\n",
       "       'Kartikey Hariyani, Pavan Bakeri', 'Kavish Gadia, Nikhil Saraf',\n",
       "       'David Stavens, Mike Sokolsky, Sebastian Thrun',\n",
       "       'Abhijit Patil, Abhishek Tomar, Pankaj Raut',\n",
       "       'Ajay Nain, Prateek Chaturvedi', 'Abhishek Kabra, Aman Gour',\n",
       "       'Altaf Saiyed, Saloni Anand',\n",
       "       'Anurag Mehrotra, Krishnakant Thakur, Mohammed Bhol, Gautam Singh',\n",
       "       'Shivank Agarwal, Anish Khandelwal', 'Sahil Jatana',\n",
       "       'Ajay Kumar, Murari Singh', 'Jatin Solanki',\n",
       "       'Adit Jain, Anand Prajapati, Mayank Goyal',\n",
       "       'HS Srinivasan, Krishnan Rajan, E.V. Shunmugam',\n",
       "       'Saurabh Gupta, Siddharth Swarnkar',\n",
       "       'Arun Mallavarapu, Prasanth Madavana',\n",
       "       'Adarsh Manpuria, Vaibhav Aggarwal', 'Chandrakanta, Rajendra Lora',\n",
       "       'Abhishek Kothari, Deepak Jain, Manish Lunia, Ritesh Jain',\n",
       "       'Nilay Pandey, Saurav Singh, Vivek Kumar',\n",
       "       'Siddharth Dialani, Sai Gole', 'Nirav Choksi',\n",
       "       'Rohan Dedhia, Vaibhav Saraf, Hrishabh Sanghvi',\n",
       "       'Mohit Sahney, Sunita Sahney',\n",
       "       'Mihir, Payoj Jain, Divyansh Bordia, Anshuman Kumar',\n",
       "       'Sachin Chhabra, Nidhi Ramachandran', 'Nilay Mehrotra',\n",
       "       'Aneesh Mathur', 'Aanan Khurma, Aditya Seth, Ripunjay Chachan',\n",
       "       'Ashish Jhina, Karthik Venkateswaran',\n",
       "       'Paavan Nanda, Saumya Singh Rathore',\n",
       "       'Tarun Sharma, Vikas Lachhwani', 'Rohan Nayak',\n",
       "       'Sagar Bhalotia, Anish Basu Roy', 'Advitiya Sharma, Gaurav Lahoti',\n",
       "       'Sunoor Kaul,',\n",
       "       'Amit Srivastava, Bhavik Vasa, Sachin Tagra, Sachin Tagra',\n",
       "       'Saurabh Tandan, Pravin Agarwala', 'Talha Shaikh',\n",
       "       'Harsh Vakharia, Pankit Chheda, Sanket Shah',\n",
       "       'Mayank Agarwal, Vaibhav Jain', 'Atul Monga', 'Meena Sankaran',\n",
       "       'Kasuhik Mukherjee, Vineeta Singh', 'Gomathi S, Dr Balaji Sampath',\n",
       "       'Guru Sankararaman, Jay Vijayan', 'David guerin',\n",
       "       'Amit mandahar, Chaitali roy', 'Anjan Panneer Selvam',\n",
       "       'Narayan Subramaniam, Niraj Rajmohan',\n",
       "       'Akshay Saini, Rahul Saini, Pranav Chabhadia',\n",
       "       'Ranodeep Saha, Vijay Kumar', 'Charles Creighton', 'Siraj Dhanani',\n",
       "       'Chris Sampson, Marcel Herz, Martin Karafilis',\n",
       "       'Deepak Anchala, Rahul Bhattacharya, Ranjana TN', 'Manish Kaul',\n",
       "       'Priya Goel Sheth, Harsh Jain',\n",
       "       'Abhishek Verma, Harshit Mittal, Kumar Kushang, Nitin Prakash',\n",
       "       'Pankaj Sharma',\n",
       "       'Afeef Zaman, Ataur Rahim Chowdhury, Siffat Sarwar',\n",
       "       'M R Srinivas', 'Subhash Choudhary, Suumit Shah',\n",
       "       'Nikhil Jain, Nittin Mittal, Sumit Chhazed',\n",
       "       'Sat Tomer, Yukti Gill', 'Arun Sreyas, Gautham Maheswaran',\n",
       "       'Dinesh Godara',\n",
       "       'Aayushi Khandelwal, Akhil Kansal, Kuldeep Parewa',\n",
       "       'Amit Dutta, Ashok Mittal',\n",
       "       'Abhay Jeet Gupta, Parveen Kataria, Udbhav Rai, Vineet Sharma, Vishal Mishra',\n",
       "       'Supratik Ghatak', 'Surender Gounder', 'Gaurav Baid',\n",
       "       'Denis Sverdlov', 'Angus McDonald, Chris Bayley',\n",
       "       \"Andrea Boeri, Braghin Francesco, Giovanni Capellari, Luca D'Alessandro, Stefano Caverni\",\n",
       "       'Tushar Bhargava, Anshul Gupta',\n",
       "       'Alex Kostecki, Erich Nussbaumer, Nico Simko', 'Arjun Balaji',\n",
       "       'Chintan Raikar, Prashant Iyengar, Sneh Vaswani',\n",
       "       'Harshil Mathur, Shashank Kumar',\n",
       "       'Ashutosh Vikram, Kartheeswaran K K, Sharath Loganathan, Thiru Nagarajan, Thirukumaran Nagarajan, Vasu Devan',\n",
       "       'Binod Kumar Homagai, Sagar Daryani, Shah Miftaur Rahman',\n",
       "       'Anirudh Singla, Rishabh Shekhar',\n",
       "       'Anuj Srivastava, Ramakant Sharma, Shagufta Anurag',\n",
       "       'HariPrasath M., Rupam Das',\n",
       "       'Alessandro Traverso, Birger Lie, Harald Jellum, Matteo Berlucchi',\n",
       "       'Jean Pierre Nozieres', 'Amit Sinha, Ashok Prasad',\n",
       "       'Kuljit Chadha, Subramanian Viswanathan', 'Nitin Gupta',\n",
       "       'Hirak Joshi, Aalesh Avlani',\n",
       "       'KP Saravanan, Krish Subramanian, Rajaraman Santhanam, Thiyagarajan T',\n",
       "       'Ashwini Purohit, MS Chouhan',\n",
       "       'Arun George, Nikhil NP, Rashid Bin Abdulla, Vimal Govind MK',\n",
       "       'Maya Lakshman', 'Kishor Kumar Jha, Praveen Kumar',\n",
       "       'Sandeep Kondaji, Vishnuprasada Bhat, Anand Bellan Raman',\n",
       "       'Nagmanjunath Shivakumar, Savio Sebastian', 'Anurag Bist',\n",
       "       'Abhinand Kaseti, Harish B V, Sathvik Vishwanath, Sunny Ray',\n",
       "       'Andrew Linfoot, Ayush Jaiswal', 'Ram N Kumar', 'Vaibhav Anant',\n",
       "       'Kabandi Saika, Manik Mehta', 'Vinayak Seth',\n",
       "       'Kadam Jeet Jain, Rahul Chaudhary, Sidharth Gupta',\n",
       "       'Mainak, Sreekrishna', 'Azhar Iqubal', 'CA Abhinit Singh',\n",
       "       'Bharat Gupta, Pritesh Kumar',\n",
       "       'Simar Kohli, Tharun Kumar, Praseed KK',\n",
       "       'Ariel Assaraf, Guy Kroupp, Lior Redlus, Yoni Farin',\n",
       "       'Johnson Fernandes, Ravneet Kaur', 'Yi Zhang', 'Anu Meena',\n",
       "       'Ashwin Srivastava, Hardik Somani', 'Lu Zhao', 'Amit Gainda',\n",
       "       'Rahul Gupta, Swati Gupta', 'Rahul Anand',\n",
       "       'Harsimarbir (Harsh) Singh',\n",
       "       'Dinesh Pratap, Lokendra Ranawat, Vikas Baheti, Virendra Ranawat',\n",
       "       'Ruchi Deepak, Varun Dua', 'Pradeep PS',\n",
       "       'Balaji Viswanathan, Bharat Kumar, Mahalakshmi Radhakrishnan',\n",
       "       'Lovepreet Mann, Nikhil Kumar, Parul Jain',\n",
       "       'Suhail Chandhok, Arvind Sivdas, Dhanya Param',\n",
       "       'Benoit Dageville, Bob Muglia, Marcin Zukowski, Thierry Cruanes',\n",
       "       'Santosh Kataria, Ankit Kimtee, Vivek Jain',\n",
       "       'Bhaswat Agarwal, Bikash Dash, Mukul Rustagi, Vatsal Rustagi',\n",
       "       'Saif Dhorajiwala, Vikas saluguti, Vivek Subramanian',\n",
       "       'Binny Bansal, Sachin Bansal',\n",
       "       'Aniket Deshpande, Gaurav Kumar, Irfan Mohammed, Soumendra Ghosh, Vineet Sukumar',\n",
       "       'Ankit Agrawal', 'Afsal Salu, Fayaz Bin Abdu, Soudabi',\n",
       "       'Byju Raveendran', 'Krishna Kumar, Saroja Yeramilli',\n",
       "       'Dhirubhai Ambani',\n",
       "       'Parampara Capital, Venkat Vallabhaneni, Jatin Desai',\n",
       "       'Tuhin Bhowmick', 'Deepshikha Kumar', 'Suhas raikar',\n",
       "       'Bhavit Sheth, Harsh Jain', 'Govind Balachandran', 'Rajan Navani',\n",
       "       'Arun Kumar Sureban', 'Gaurav Parchani',\n",
       "       'Jaydeep Barman, Kallol Banerjee', 'Varun Sheth, Kunal Kapoor',\n",
       "       'R. Baskar Babu', 'Gaurav Munjal, ?Roman Saini?',\n",
       "       'Lodha, Priyanka Rathore', 'Pranav Pai, Siddarth Pai',\n",
       "       'Deepthi Ravula', 'Deepinder Goyal, Pankaj Chaddah',\n",
       "       'Abhishek Satish, Adarsh Warrier', 'Pawan Agarwal',\n",
       "       'Rohtash Mal CMD, Adwitiya', 'Shankar Prasad',\n",
       "       'Vijay Anand Bhagavatula',\n",
       "       'Ananda Prakash Verma, Shailendra Tiwari',\n",
       "       'Saswat Sahu, Rishi Raj',\n",
       "       'Adhil Shetty, Arjun Shetty, Rati Shetty', 'Pratik Shah',\n",
       "       'Nikhilesh Mishra, Puneet Jain',\n",
       "       'Ranjit Punja, R Sudarshan, Gowri Mukherjee', 'Vidur Maheswari',\n",
       "       'Ishan Sharma, Rishikesh Kumar', 'Shubham Gupta, Suresh Singh',\n",
       "       'Sachin Ravi, Raghav Chakravarthy', 'Mihir Mohan Mishra',\n",
       "       'Ashwin Kumar, Shoaib Mohammed',\n",
       "       'Damien Toledo, Jim Bugwadia, Ritesh Patel', 'Anmol Singh Jaggi',\n",
       "       'Dhruv Sawhney, Vivek Sahi, Sunny Bagla',\n",
       "       'Apurv Agrawal, Kanika Jain, Rishabh Ladha, Vikas Gulati',\n",
       "       'Debi Prasad Baral, Naveesh Reddy, Rohit Gajbhiye, Sunit Gajbhiye',\n",
       "       'Amit Sethi, Mandeep Manocha, Nakul Kumar', 'Deepak MV',\n",
       "       'Shailendra Dhakad, Rupika Taneja',\n",
       "       'Aanand Srinivas, Avinash Anand, Shankar Ram A',\n",
       "       'Ashish Munjal, Piyush Nangru',\n",
       "       'Anand Prabhu Subramanian, Vijay Gabale',\n",
       "       'Vaibhav Kapoor, Pulkit Kapoor', 'Anil Kumar',\n",
       "       'Dr Milind Choudhari, Dr Prasad Bhagat, and Dr Anupama',\n",
       "       'Mario Suntanu', 'Manoj Pillai', 'Somdutta Singh', 'Rahul Darda',\n",
       "       'Nishant Patel', 'Erez Galonska, Guy Galonska, Osnat Michaeli',\n",
       "       'Vijay Narasiman', 'Shrirang Tambe', 'Shirish Deodhar',\n",
       "       'Harish Mamtani', 'Shubham Malhotra, Sai Srinivas',\n",
       "       'Iyad Aldalooj, Majid Aldalooj, Mohammed Ibrahim', 'Kunal Mahipal',\n",
       "       'Bharath Rao',\n",
       "       'Abhishek Mishra, Kush Agarwal, Lav Agarwal, Stella Hu',\n",
       "       'Kunal Kishore Sinha, Sagar Pushp', 'Sreevathsa Prabhakar',\n",
       "       'Ankush Sachdeva, Bhanu Pratap Singh, Bhanu Singh, Farid Ahsan',\n",
       "       'Ashray Malhotra, Nisheeth Lahoti, Shivam Mangla',\n",
       "       'Saroja Yeramilli, R Krishnakumar',\n",
       "       'Chandranshu Sinha, Kartik Sheth', 'Shah, Abhay Bhat',\n",
       "       'Ajay Kadyan, Kumar Mayank', 'Tarun Lawadia, Sameer Kalra',\n",
       "       'Kabir Bose', 'Malika Datt Sadani, Mohit Sadaani', 'Ji Cheol Ryu',\n",
       "       'Anurag Sinha, Rupesh Kumar, Vibhav Hathi',\n",
       "       'Jitendra Chouksey, Sonal Singh, Jyoti Dabas, Bala Krishna Reddy, Rohit Chattopadhyay.',\n",
       "       'Akash Deep Singhal, Akshaya Singhal, Devashish Saxena, Gauri Dehnkar',\n",
       "       'Rohan Bhargava, Swati Bhargava',\n",
       "       'Nishant Chandra, Siddharth Maheshwari',\n",
       "       'Lalit Mangal, Manoj Singh, Vinay Kumar Jasti',\n",
       "       'Akash Singh, Sharath Keshava Narayana, Swapnil Jain',\n",
       "       'Bhupinder Singh', 'Zishaan Hayath, Hemanth Goteti',\n",
       "       'Vinay Sanghi', 'Sumeet Mehta, Smita Deorah', 'Sahil Sheth',\n",
       "       'Nirmit Parikh', 'Amit Rathore',\n",
       "       'Kabeer Biswas, Ankur Agarwal, Dalvir Suri, Mukund Jha',\n",
       "       'Ranjan Kumar', 'Anuj Srivastava, Ramakant Sharma',\n",
       "       'Swarup Mavanoor, Rahul Sankhe', 'Saurabh Pandey, Akshay Dubey',\n",
       "       'Vivek Rajkumar',\n",
       "       'Sonal Dandotia, Shantanu S, Virendra Chouhan, Vaibhav Tiwari',\n",
       "       'Rama Harinath, Srikanth Iyer', 'Darpan Sanghvi', 'Kajal Ilmi',\n",
       "       'Arunprasad Durairaj, Vijaybabu Gandhi, Shreenidhi Srirangam',\n",
       "       'Madhusudanan R, Prabhu R',\n",
       "       'Dr. R. Shivaraman, Praveen Dwarakanath', 'Arun Prakash',\n",
       "       'Anmol Singh Jaggi, Punit K Goyal',\n",
       "       'Nakul Kukar, Paras Kaushal, Supratim Naskar',\n",
       "       'Sai Srinivas Kiran Garimella, Shubham Malhotra',\n",
       "       'Kishan Vasani, Sai Sreenivas Kodur', 'Amit Dhakad, Hiral Jain',\n",
       "       'Lalit Keshre, Harsh Jain, Neeraj Singh, Ishan Bansal',\n",
       "       'Dr Mallesh Bommanahal, Varzavand Batliwala',\n",
       "       'Pratik Agarwal, Raj Desai, Varsha Bhambhani', 'Amit Agrawal',\n",
       "       'Karthi Mariappan', 'Tanmai Gopal, Rajoshi Ghosh',\n",
       "       'Ravi Ravulaparthi, Lakshman Gupta, Vamsee Mohan', 'Cindy Kua',\n",
       "       'Yashash Agarwal, Gaurav Agarwal', 'Ankit Agarwal',\n",
       "       'Vaishali Kulkarni, Arjun Singh Bajwa',\n",
       "       'Ananth Narayanan, T-ushar Kumar', 'Ashok Hariharan, Vineet Jawa',\n",
       "       'Charlie, Jay, Martin', 'Samarth Agrawal, Rohit Narang',\n",
       "       'Manoj Gupta, Monica Gupta',\n",
       "       'Arpita Kapoor, Mohit Rangaraju, Shilp Gupta',\n",
       "       'Pankaj Chaddah, Staff Pooja Khanna', 'Ishan Sharma, Rishikesh',\n",
       "       'Chaitanya Kalipatnapu, Ashwin Damera', 'Shobhit Bhatnagar',\n",
       "       'Abhishek Goyal, Neha Singh', 'Abhishek Agarwal',\n",
       "       'Pramod Ravindra', 'Saurabh Singh, Rahul Jain, Nagender Sangra',\n",
       "       'Amit Singh, Deepanshu Malviya', 'Aniket Shinde, Hardik Gondaliya',\n",
       "       'Sarvesh Shashi',\n",
       "       'Siddharth Das, Dr Rahul Dave, Dr Pavlos Protopapas',\n",
       "       'Nakerikanti Harish', 'Peter Barcak',\n",
       "       'Arpit Rajpurohit, Jayesh Rajpurohit',\n",
       "       'Amit Bhardwaj, Nikhil Hegde.',\n",
       "       'Srinivas Madhavam, Srikanth Rajashekhar, Rahul Mehta',\n",
       "       'Sonakshi Nathani, Ashutosh Singla', 'Omer Basith',\n",
       "       'Devansh Jain Nawal, Ackshay Jain', 'Snehil Khanor',\n",
       "       'Nimish Goel, Nevaid Aggarwal, Devender Bindal',\n",
       "       'Ankush Aggarwal, Tushar Mehndiratta', 'Manuraj Jain, Surajit Raj',\n",
       "       'Kunaal Dudeja, Nalin Saluja, Archit Jayaswal',\n",
       "       'Manish Shara, Yash Desai', 'Gaurav Singh', 'Varun Khanna',\n",
       "       'Inderveer Singh', 'Sumeet Yashpal Mehta, Smita Deorah',\n",
       "       'Pulkit Agrawal, Prashant Sachan, Arun Lodhi, Bimal Kartheek Rebba, Nirav Sheth',\n",
       "       'Utham Gowda',\n",
       "       'Mihir Gupta, Payoj Jain, Divyansh Bordia, Anshuman Kumar',\n",
       "       'Kshitij Khandelwal, Awais Ahmed', 'Dhruv Bhushan',\n",
       "       'Rajesh Bernard, Vijay Krishna, Prateek Mehta',\n",
       "       'Ravish Agrawal, Swatantra Kumar, Siddharth Srivastav',\n",
       "       'Sanjeev Nair', 'Smriti Tomar', 'Anurag Sinha',\n",
       "       'Prateek Shukla, Nrupul Dev, Yogesh Bhat',\n",
       "       'Shivank Agarwal, Anish Khandelwal.',\n",
       "       'Prerna Kalra, Vidya Bhushan',\n",
       "       'DVL Padma Priya, Rakesh Kamal, Tarun Nirwan',\n",
       "       'Public banks, Private lenders',\n",
       "       'Kiran Ramakrishna, Subhajit Mukherjee',\n",
       "       'Pranjal Kacholia, Divyansh Mathur', 'Rishab Mehta',\n",
       "       'Sateesh Nukala, SachinNandwana', 'Vineet Toshniwala',\n",
       "       'Srikanth Iyer, Rama Harinath', 'Sandipan Mitra, Uttam Kumar',\n",
       "       'Ananthakrishnan Gopal, Ashok Balasundaram, Sriram P H',\n",
       "       'Varun Chopra, Raheel Shah', 'Kshitj Puri, Shalabh Singhal',\n",
       "       'Rushabh Sheth, Bikram Dahl',\n",
       "       'Abhinav Ayan, Anirban Jyoti Chakravorty, Soumyaranjan Harichandan',\n",
       "       'Biswatma Nayak, Siddharth Gautam', 'Varun Saxena',\n",
       "       'Rajit Bhattacharya, Aisik Paul, Ankit Das',\n",
       "       'Adit Chhabra, Tapan Dixit,Tanay Dixit.',\n",
       "       'Viijender Reddy, Manas Ranjan Hota', 'Tanmaya Jain, Varun Puri',\n",
       "       'Anand Singh, Ankit Vaish', 'Vittal Ramakrishna',\n",
       "       'Jaydeep Barman, Kallol Bannerjee',\n",
       "       'Manish Jethani, Sourabh Agarwal',\n",
       "       'Kapil Mathrani, Rohan Bhatt, Poojan Thakkar', 'Sumit Ghosh',\n",
       "       'Ankush Sachdeva, Bhanu Pratap Singh, Farid Ahsan', 'Dhruvin Shah',\n",
       "       'Dr. Sachin Bhavsar', 'Sumeet Kapur, Ankur Bhatia, Aanchal Kapur',\n",
       "       'Prasanna Kumar, Mahesh Bhat, Rajasekhar, Amith S Mali',\n",
       "       'Karan Khairajani, Surojit Roy', 'Sachin Bhatia, Atit Jain',\n",
       "       'Zishaan Hayath',\n",
       "       'Archana Elapavuluri, Namandeep Bhatia, Siddharth Panjwani',\n",
       "       'K.L.N Sai Prasanth, Yathindra Ajay K.A, K. Prathyusha',\n",
       "       'Vivek Tiwari', 'Bijay Gautam, Souniya Khurana',\n",
       "       'Saif Dhorajiwala', 'Mohammed Hisamuddin', 'Deepak Grover',\n",
       "       'Sudeep Singh', 'Ragini Das, Anand Sinha',\n",
       "       'Tarun Mehta, Swapnil Jain',\n",
       "       'Chirag Mittal, Parag Modi, Anirudh Syal',\n",
       "       'Praneeth Kumar, Shobhit Jain, Mrudhukar Batchu, Kiran Naik',\n",
       "       'Suman Maram, Sudheer Maram',\n",
       "       'Siddharth Vij, Siddharth Rastogi, Shubham Agarwal, Chaitanya Rathi',\n",
       "       'Ashwin Ajila', 'Meghna Saraogi, Akhil Tolani',\n",
       "       'Silky Singh, Alkheya Boora Rpsey', 'Mugdha Pradhan',\n",
       "       'Saurabh Saxena, Pulkit Jain, Anand Prakash, Vamsi Krishna',\n",
       "       'Anshoo Sharma, Brij Bhushan', 'Gaurav Baheti, Sumit Mendiratta',\n",
       "       'Hitesh Ahuja', 'Rathinamurthy R, Sridher Jeyachandran',\n",
       "       'Gotama Gowda', 'Ashish C', 'Nikhil Hegde, Amit Bhardwaj',\n",
       "       'Saurabh Saxena',\n",
       "       'Prateek Garg, Vishva Sharma, Rahul Gupta, Rishabh Nagpal, Ratan Sethi',\n",
       "       'Chaitanya Nallan, Sangram Simha, Veerendra Shivhare',\n",
       "       'Sahil Sharma, Aditya Shirole', 'Manish Tewari',\n",
       "       'Vidur Maheshwari', 'Ashni Sheth, Varun Sheth', 'Vikram Chopra',\n",
       "       'RajanNavani', 'Rushi Shenghani', 'Sanchit Garg, Sanjeev Dadhich',\n",
       "       'Abhilasha, Kshitij Purwar',\n",
       "       'Anuj Bhuria, Himanshu Kumar, Himanshu Meena', 'Rohit Taneja',\n",
       "       'Akhil Sikri, Nikhil Sikri, Sneha Choudhry', 'Ajaitha Shah',\n",
       "       'Sreeshankar S Nair, Romeo P Jerard',\n",
       "       'Vikram Jetley, Sanjay Sharma',\n",
       "       'Neeraj Kakkar, James Nutall, Suhas Misra, Neeraj Biyani',\n",
       "       'Ganesh Raju', 'Anuj Krishnan', 'Ooshma Garg',\n",
       "       'Rohit Grover, Pradeep Thangappan', 'Devang Shah, Gaurang Shah',\n",
       "       'Devesh Trivedi, Sanchit',\n",
       "       'Praveen Dwarkanath, Dr. Shivaraman Ramaswamy',\n",
       "       'Vijay Babu Gandhi, Shreenidhi Srirangam, Arunprasad Durairaj',\n",
       "       'Amrit Acharya, Srinath Ramakkrushnan, Vishal Chaudhary',\n",
       "       'Pavan Adipuram',\n",
       "       'Bhagaban Behera, Sriharsha Shetty, Nakul Kelkar', 'Swapnil Sahu',\n",
       "       'Aniruddh Singh, Riyaz Khan, Sagar Sheth', 'Mayank Yadav',\n",
       "       'Rajat Jadhav, Rahul Krishnan, Harsh Singh, Mohit Yadav',\n",
       "       'Amit Nanwani', 'Shivani Poddar, Tanvi Malik', 'Rajan Bajaj',\n",
       "       'Abhas Saroha, Oliver Jones', 'Aarti Gill, Mihir Gadani',\n",
       "       'Dhruv Agrawal, Faith Jiwakhan',\n",
       "       'Vemuri, Deepak Sharma, Pranay Gupta, Varun Chawla', 'Amit Gupta',\n",
       "       'Anant Goel', 'Hormazd Charna, Manoj Mishra',\n",
       "       'Amit Bhasin, Kushal Karwa, Nitin Rana, Rishabh Karwa',\n",
       "       'Srikumar Misra', 'Prasad Akella',\n",
       "       'Aditya Singhal, Nishant Sinha, Bahul Arora',\n",
       "       'Abhijit Roy, Samir Pratihar',\n",
       "       'Runal Dahiwade, Nityanand Prabhutendolkar, Miraj C. Vora',\n",
       "       'Arjun Ahluwalia, Adriel Maniego', 'Yash Vyas',\n",
       "       'Pushkar Singh, Sudarshan Ravi, Ankit Parasher',\n",
       "       'Niraj Raka, Poonam Gugale, Piyush Raka',\n",
       "       'Pranav Chopra, Neeraj Kumar', 'Dr Janani Venkatraman',\n",
       "       'Ravi Nishant',\n",
       "       'Rohan Mirchandani, Ganesh Krishnamurthy, Rahul Jain,Uday Thakkar.',\n",
       "       'Rajeev Agrawal', 'Babu Sivadasan',\n",
       "       'Abhijit Kane, Abhinav Asthana, Ankit Sobti',\n",
       "       'Raghav Arora, Lalit Kumar Aggarwal',\n",
       "       'Karthick Jayraman, Sanjay Dasari',\n",
       "       'Dr Gopichand Katragadda, Ganesh Suryanarayanan, Aditi Olemann.',\n",
       "       'Dr Binita Shrivastava Tunga, Dr Rashbehari Tunga',\n",
       "       'Shubhendra Vikram, Ankit Kumar', 'Ashish Gupta',\n",
       "       'Raghuraj Sunder Raju, Prasad Basavaraj, Sandeep Gudibanda',\n",
       "       'Shailesh Gupta, Mukul Shah', 'Nitesh Salvi',\n",
       "       'Purav Shah, Sandesh Reddy', 'Prashant Jain, Varun Khurana',\n",
       "       'Aswani Chaitanya',\n",
       "       'Lokendra Ranawat, Dinesh Pratap Singh, Virendra Ranawat, Vikas Baheti',\n",
       "       'Adhil Shetty, Arjun Shetty, Rati Shetty,', 'Geetansh Bamania',\n",
       "       'Rishabh Goel, Anand Agrawal, Mayank Khera',\n",
       "       'Kinner N Sacchdev, Rakhi Wadhwa', 'Karan Shaha, Vikas Chandrawat',\n",
       "       'Akshay Pai', 'Satyen Kothari, Beenext, Asuka Holding',\n",
       "       'Naresh Rao, Nikhil Rajmohan, Harinath Chakravarthy, Pravin Sethuraman',\n",
       "       'Indrajeet Roy', 'Bhavish Aggarwal', 'Amit Ramani',\n",
       "       'Kabeer Biswas,  Mukund Jha, Dalvir Suri, Ankur Aggarwal',\n",
       "       'Abhinav Agarwal, Anand Bakode',\n",
       "       'Dr Ruchir Mehra, Harsh Bansal, Richeek Arya',\n",
       "       'Mithun Srivatsa, Nikhil Shivaprasad',\n",
       "       'Vinayak Srivastav, Saket Dandotia, Alok Patil', 'Jatin Singh',\n",
       "       'Sumit Gupta, Neeraj Khandelwal', 'Lalit Menghani', 'Saurav Kumar',\n",
       "       'Suvendu Prusty, Sorabh Bhandari, Chiranth Patil.',\n",
       "       'Sandeep Vohra', 'Anurba Nath',\n",
       "       'Gowri Mukherjee, Ranjit Punja, Rajasundaram Sudarshan',\n",
       "       'Mohammed Riaz', 'Hrishikesh Datar', 'Ravish Naresh',\n",
       "       'Harshvardhan Lunia, Mukul Sachan',\n",
       "       'Akash Deep Singhal, Akshaya Singhal', 'Uttam Kumar',\n",
       "       'Ashwini Purohit', 'Pritesh Asher',\n",
       "       'Amit Kharat, Ajit Patil, Aniruddha Pant',\n",
       "       'Krishnan, Shane Bilsborough', 'Abhisheka Kumar, Malkit Didyala',\n",
       "       'Kartikey Hariyani',\n",
       "       'Milan Sharma, Nishant Mishra, Himani Shah, Devendra Chandani',\n",
       "       'Ajay Agrawal', 'Venkatesh Rangachari, Vipul Gupta',\n",
       "       'Naman Sarawagi, Mohit Jain', 'Saahil Goel',\n",
       "       'Sanjay Kumar, Deepti Prasad', 'Satish Kannan',\n",
       "       'Sumit Sinha,\\xa0\\xa0Mukesh Bansal', 'Arjun Deshpande',\n",
       "       'Prajit Nanu', 'Raman Khanduja, Sanjay Nazareth', 'Rajesh Yabaji',\n",
       "       'Gupta, Akshay Deshraj, Manoj Sarda',\n",
       "       'Avinash BR, Gururaj Rao, Arvind Murali, Santhosh Narasipura',\n",
       "       'Steve Hardgrave',\n",
       "       'Prashanth Kuppur, Deepak Kalhan, Saurabh Kukreti, Richpal Gora',\n",
       "       'Amit Naik, Kewal Vargante', 'Piyush, Dipesh Agarwal',\n",
       "       'Suraj Saste', 'Dr Subhash Narayanan',\n",
       "       'Ranjeet Pratap Singh, Sankaranarayanan Devarajan, Sahradayi Modi, Rahul Ranjan, Prashant Gupta',\n",
       "       'Vishal Jindal', 'Nishith Chasmawala, Amit Sharma', 'Rajat Gupta',\n",
       "       'Harsh Bansal', 'Darshan Shah', 'Nitin Agrawal, Garima Agrawal',\n",
       "       'Archin Shah, Abhilash Sonwane, Ritesh Gandhi',\n",
       "       'Mukul Rustagi, Bhaswat Agarwal', 'Tushar Kumar, Prashant Singh',\n",
       "       'Ishan Gupta, Aarti Gupta',\n",
       "       'Gagan Vermani, Divyanshu Sachdev, Gyan Prakash Tiwari',\n",
       "       'Amit Sharma, Apoorva Jois', 'Vivek Gupta, Jatin Solanki',\n",
       "       'Romesh Khaddar, Shikha Chaudhry, Sumedh Chaudhry',\n",
       "       'Raghavendra Prasad', 'Tarun Dhamija, Kartik Bansal',\n",
       "       'Jitendra Chouksey', 'Suresh Bavisetti, Paarth Dhar',\n",
       "       'Arindam Ghosh, U R Bhatt', 'Sagar Yarnalkar',\n",
       "       'SP Balamurugan, Arun Prakash, Sri Devi',\n",
       "       'Raghuram Talluri, Tanmoy Karmakar, Rakib Ahmed',\n",
       "       'Venkatesh Sundar, Nandini Tandon',\n",
       "       'Shivashish Chatterjee, Yuvraja Singh',\n",
       "       'Rohin Parkar, Malcolm Dsouza', 'Mittal',\n",
       "       'Nukul Upadhye, Mahesh Jakhotia, Jitender Bedwal, Daya Rai, Nikhil Tripathi',\n",
       "       'Anand Anandkumar', 'Manas Ranjan Hota, Vijender Reddy',\n",
       "       'Madhusudanan R, Muthukumar and Prabhu',\n",
       "       'Vetrivel Palani, Paneerselvam', 'Megha Wadhwa, Karnesh Mahendru',\n",
       "       'Karanvir Singh, Utkarsh Bagri, Vikram Shekhawat, Deepak Choudhary',\n",
       "       'Amit Kumar Agarwal, Akhil Gupta, Saurabh Garg',\n",
       "       'Amit Raj, Anshul Gupta', 'Gaurav Hinduja, Sashank Rishyasringa',\n",
       "       'Mayank Kukreja, Anish Khadiya', 'Ashish Bhandari',\n",
       "       'Jen Horonjeff', 'Samarth Kholkar, Sandeep Mukherjee',\n",
       "       'Raghavendra Kumar Ravinutala',\n",
       "       'Vinayak Shrivastav, Saket Dandotia, Alok Patil',\n",
       "       'Sahil Kini, Nikhil Kumar', 'Abhishek Shah',\n",
       "       'Rishabh Jain, Aditi Sinha',\n",
       "       'Gaurav Srivastava, Gautam Kumar, Kushal Nahata',\n",
       "       'Pranav Goel, Uttam Digga', 'Rohit Paranjpe',\n",
       "       'Abhinay Choudhari, Hari Menon, Vipul Parekh, VS Sudhakar',\n",
       "       'Jitendra Gupta',\n",
       "       'Shrikrishna Bharambe, Shripad Nadkarni, Varun Khanna, Abhijit Berde',\n",
       "       'Vineet Shetty, Anushka Shetty', 'Malhi, Siddhant Saurabh',\n",
       "       'Shashank Kumar', 'Nandan Reddy, Sriharsha Majety, Rahul Jaimini',\n",
       "       'Saurabh Pandey, Mahadevan Narayanamoni', 'Deepinder Goyal',\n",
       "       'Karan Bhardwaj', 'Vimal Kumar', 'Tapojit Debnath, Nirman Dave',\n",
       "       'Pratyush Halen, Anuraag Agrawal',\n",
       "       'Prashant Border, Saurya Prakash Sinha', 'Ajith Mohan Karimpana',\n",
       "       'Suneel Kumar, Gaurav Tomar, Sucharita Redd',\n",
       "       'Anshul Bhagi, Sandeep Bhagi', 'Sam Santhosh',\n",
       "       'Kishor Jha, Praveen Kumar',\n",
       "       'Deepak Bhuvneshwari Uniyal, Shilpa Arora, Shailesh Kumar, Sanjay Aggarwal',\n",
       "       'Subhash Narayanan', 'Mukesh Bansal, Ankit Nagori',\n",
       "       'Tapesh Goyal, Rajesh Vaidhyanathan', 'Preet Arjun Singh',\n",
       "       'Sneha Roy', 'Dilip Kumar, Selvan Thamarai, Deepti Nair',\n",
       "       'Monica Gupta. Manoj Gupta',\n",
       "       'Anubhav Jain, Ankit Singh, Jawaid Iqbal',\n",
       "       'Rishi Malhotra, Akhil Gupta', 'Sumit Gupta',\n",
       "       'Sagar Modi, Advaith Vishwanath', 'Adarsh Anand, Amit Tiwari',\n",
       "       'Rajan Sharma', 'Prabhdeep Singh', 'Mihir Mohan mishra',\n",
       "       'Jaideep Gupta',\n",
       "       'Ezhilarasan Natarajan, Sabapathy Arumugam, Krishnakumar Narayanan, Thiruvalluvar NB',\n",
       "       'Gaurav Kumar, Vineet Sukumar', 'Srinath Ravichandran',\n",
       "       'George Mitra, Rajan Pathak',\n",
       "       'Amit Chandel, Rohit Garg, Vinay Kumar, Jayant Upadhyay',\n",
       "       'Pranesh Chaudhary, Sushant Sachan', 'Abhinav Jain, Aditya Gupta',\n",
       "       'Sridhar Joshi, Prashant Kulkarni',\n",
       "       'Maneet Gohil, Sanchit Govil, Albin Jose',\n",
       "       'Govind Agrawal, Arti Agrawal', 'Arshi Khan',\n",
       "       'Ankit Jain, Anand Shah', 'Pankaj Singh', 'Kush Taneja',\n",
       "       'Pramod Ghadge', 'Pei-fu Hsieh, Amit Jangir',\n",
       "       'Lalit Mangal, Vinay Jaasti, Manoj Singh', 'Rajesh',\n",
       "       'Rohan Mirchandani', 'Lathika Pai', 'Sriram Subramanian',\n",
       "       'Vidushi Kajaria, Aayush Goenka',\n",
       "       'Sudarshan Lodha, Priyanka Rathore',\n",
       "       'Sreeraman Vaidyanathan, Surga Thilakan', 'Prasanna Rao',\n",
       "       'Vaibhav Singh, Arnav Kumar',\n",
       "       'Ajai Thandi, Arman Sood, Ashwajeet Singh',\n",
       "       'Charit Bhograj, Zainul Charbiwala, Udayan Dasgupta, Abhinav Gujjar',\n",
       "       'Ajit Panda', 'Vivekananda Hallekere, Anil Giri Raju, Arun Agni',\n",
       "       'Taran Chhabra, Amar Preet Singh',\n",
       "       'Vipul Sharma, Rajat Kumar, Sachin Arora, Mohit Goel',\n",
       "       'Bhatia, Sneha Shah', 'Li Yong, Shushant Srivastava',\n",
       "       'Niraj Singh, Mohit Gupta, Ramanshu Mahuar',\n",
       "       'Pallavi Agarwal, Pankaj Parwanda', 'Ashutosh Sharma',\n",
       "       'Anand Ayyadurai, Padmanabhan Balakrishnan, Sanchit Mittal',\n",
       "       'Saurabh Singh', 'Prashant Warier, Pooja Rao', 'Gokul Shrinivas',\n",
       "       'Supriya Paul, Shobhit Banga', 'Ringaile Noq',\n",
       "       'Manish Rathi, Kapil Raizada, Sachin Saxena',\n",
       "       'Pankaj Raut, Abhishek Tomar, Abhijit Patil',\n",
       "       'Anirudh Singla and Rishabh Shekhar', 'Radha Basu',\n",
       "       'Ashneer Grover', 'Sanket Shah',\n",
       "       'Varun Mayya, Shashank Udupa, Abhinav Arora', 'Anubhav Sharma',\n",
       "       'Madhan Mohan , Akash Chelvam', 'Archit Agarwal, Harry Sehrawat',\n",
       "       'Vinay Kothari', 'Khadim Batti, Vara Kumar',\n",
       "       'Gaurav Munjal, Roman Saini, Hemesh Singh',\n",
       "       'Rajan Dang, Anushree Srivastava', 'Kabeer Biswas', 'Kamesh Goyal',\n",
       "       'Shailesh Gupta, Mukul Shah, Danish Chopra',\n",
       "       'Tithi Tewari, Gautam Tewari', 'Samarth Agrawal',\n",
       "       'Aniruddha Sharma, Prateek Bumb', 'Mahipal',\n",
       "       'Vishal Khatter, Dheeraj Khatter, Dipak Varshney',\n",
       "       'Maneesh Dhooper, Kunal Malik',\n",
       "       'Ajith Nayar, Umesh, Mahesh Subramanian', 'Amit Bagaria',\n",
       "       'Chinmoy Mishra, Gaurav Vij, and Abhishek Verma',\n",
       "       'Vijeet Pandey, Vikas Rishishwar', 'Yogesh Thore', 'Ritesh Kumar',\n",
       "       'Vijay Shekhar Sharma', 'Nicky Goulimis',\n",
       "       'Singla, Kannu Mittal, Dhawal Parate',\n",
       "       'Jayesh Rajpurohit, Arpit Rajpurohit', 'Abhishek Mohan',\n",
       "       'Raviteja Dodda, Yashwanth Kumar', 'Rustagi, Bhaswat Agarwal',\n",
       "       'Nitin Saluja, Raghav Verma', 'Apurv Patel',\n",
       "       'Shamik Guha, Sayan Tapadar, Muhammad Bilal Shakil, Anirban Datta Gupta',\n",
       "       'Ambareesh Murty, Ashish Shah', 'Supam Maheshwari, Amitava Saha',\n",
       "       'Karthick Jayraman and Sanjay Dasari', 'Kunal Patil',\n",
       "       'AR Rahman, Shekhar Kapur', 'Narain Karthikeyan.',\n",
       "       'Jitendra Emmani', 'Kapil Gupta', 'Shailaz Nag',\n",
       "       'Lal Chand Bisu, Vikas Goyal, Vinod Kumar Meena',\n",
       "       'Nikhil Banerjee', 'Sachin Chopra', 'Rakesh Sharma',\n",
       "       'Katie Russel and Daniel Wiegand',\n",
       "       'Vineet Sharma, Abhay Jeet Gupta, Udbhav Rai, Parveen Kataria, Vishal Misra',\n",
       "       'Aditi Avasthi', 'Mohammed Hisamuddin, Rahul Ramesh', 'Akash Deep',\n",
       "       'Tarun Khanna', 'Prashant Tandon, Gaurav Agarwal, Vikas Chauhan',\n",
       "       'Akaash Shankar', 'Tanushri Nagori, Aditya Shankar',\n",
       "       'Sandeep Bommireddi, Sravanth Gajula',\n",
       "       'Aditya Agarwalla, Sanjay Agarwalla', 'Vikash Jha',\n",
       "       'Guna Kakulapati, Rama Rajanna, Charu Sharma', 'Amit Bansal',\n",
       "       'Abhimanyu Saxena', 'Bala Parthasarathy, Anuj Kacker, Kunal Varma',\n",
       "       'Rohit Manghnani, Amit K Jaiswal, Iccha Manghnani',\n",
       "       'Ashish Kashyap', 'Sachin Agarwal, Aniket Deb, Ankit Tomar',\n",
       "       'Oren Kaniel, Reshef Mann', 'Bhavik Vasa',\n",
       "       'Navratn Singh, Kamal Pandey',\n",
       "       'Lokvir Kapoor, Rajul Garg, Tarun Upaday', 'Sharmin Ali',\n",
       "       'Neeraj Singh, Alok Arora', 'Dhruvil Sanghvi, Manisha Raisinghani',\n",
       "       'Shikhar Veer Singh, Nidhi Singh',\n",
       "       'Sarvesh Shrivastava, Ved Prakash Khatri, Amit Kapoor',\n",
       "       'Vivekananda Hallekere, Anil Giri Raju,Arun Agni', 'Amit Lakhotia',\n",
       "       'Abhay Rangan', 'Prithwi Dasgupta, Arnab Chatterjee', 'Trivedi',\n",
       "       'Snigdha Manchanda, Vikas Kumar, Aishwarya Malhi',\n",
       "       'Greg Moran, David Back',\n",
       "       'Suneel Kumar, Sucharita Reddy, Gaurav Tomar, Akhilesh Nigam,',\n",
       "       'Shailendra Singh, Deepinder Dhingra, Pavan Palety',\n",
       "       'Asheesh Chanda, Vineeth Narasimhan',\n",
       "       'Balaji Viswanathan, Be Limitless Inc., Zingfin.com, NalandaU',\n",
       "       'Kumar Mayank, Ajay Kadyan', 'Anish Agarwal, Anant Jain',\n",
       "       'Nirav Patil', 'Bhavesh Shah, Manav Shah', 'Abhishek Emmanuel',\n",
       "       'Mahe Bayireddi', 'Kavita Dhillon', 'Sousthav Chakrabarty',\n",
       "       'Kartikeya Goel', 'Soham Thacker, Varun Gajjar', 'Arka Dhar',\n",
       "       'Divya Agarwal, Ketika Kapoor', 'Deepanshu Arora, Parita Parekh',\n",
       "       'Thirukumaran Nagarajan, Sharath Loganathan, Sachin Jose, Kartheeswaran KK, Vasudevan Chinnathambi',\n",
       "       'Akash Sharma, Abhishek Agarwal',\n",
       "       'Mahesh Gogineni, Varun MS, Manan Maheshwari', 'Amal PS',\n",
       "       'Anurakt Jain, Ishita Verma', 'Rajiv Mukherjee', 'Bharat Sethi',\n",
       "       'Neeraj Kumar', 'Pramath Raj Sinha', 'Gaurav Munjal', 'Leo Mavely',\n",
       "       'Mr. Subhashis Kar', 'Amit Narang',\n",
       "       'Praveen Agrawal, Yadvendar Champawat, Manoj Munna, Abhishek Sagar, Ashutosh Kumar, Narendra Agrawal',\n",
       "       'Tanvi Malik, Shivani Poddar.', 'Neer Sharma',\n",
       "       'Ghazal Alagh, Varun Alagh', 'Siddharth Gadia', 'Sashi Narahari',\n",
       "       'Jahabar Sadique, Balaji Sadagopan',\n",
       "       'Sonal Khandelwal, Vaibhav Tiwari', 'Kanav Sachdeva',\n",
       "       'Kumar Varma', 'Vishvajit Sonagara',\n",
       "       'Santosh Shinde, Sanjay Borkar', 'Himanshu Jain, Pulkit Jain',\n",
       "       'Vikram Kankaria, Priyanka Kankaria', 'Akshay Chaturvedi',\n",
       "       'Sujith Narayanan, Sumit Gwalani', 'Manish Taneja, Rahul Dash',\n",
       "       'Jayakrishnan, Abhijeet Manohar'], dtype=object)"
      ]
     },
     "execution_count": 22,
     "metadata": {},
     "output_type": "execute_result"
    }
   ],
   "source": [
    "data['Founders'].unique()"
   ]
  },
  {
   "cell_type": "code",
   "execution_count": 23,
   "metadata": {},
   "outputs": [
    {
     "data": {
      "text/plain": [
       "Founders\n",
       "Falguni Nayar                                                6\n",
       "Byju Raveendran                                              6\n",
       "Mukesh Ambani                                                4\n",
       "Saurabh Saxena, Pulkit Jain, Anand Prakash, Vamsi Krishna    4\n",
       "Sreevathsa Prabhakar                                         4\n",
       "Name: count, dtype: int64"
      ]
     },
     "execution_count": 23,
     "metadata": {},
     "output_type": "execute_result"
    }
   ],
   "source": [
    "Founders_counts = data['Founders'].value_counts()\n",
    "\n",
    "Founders_counts.head()"
   ]
  },
  {
   "cell_type": "code",
   "execution_count": 24,
   "metadata": {},
   "outputs": [
    {
     "data": {
      "text/plain": [
       "array(['Angel investors', 'GSF Accelerator', 'Venture Center',\n",
       "       'Venture Catalysts, PointOne Capital',\n",
       "       'Siana Capital Management, Info Edge',\n",
       "       'Venture Catalysts, 9Unicorns Accelerator Fund', 'ICICI Bank.',\n",
       "       'HostelFund', 'KB Investment, Bertelsmann India Investments',\n",
       "       'Shantanu Deshpande, Subramaniam Ramadorai', 'Fireside Ventures',\n",
       "       'Axilor Ventures, S.D. Shibulal', \"Acumen Fund's angel programme\",\n",
       "       'Sequoia Capital India, Sixth Sense Ventures', 'Rebel Foods',\n",
       "       'Kora, Tiger Global Management', '100X VC, Amara Ventures',\n",
       "       'Bertelsmann India Investments, InnoVen Capital',\n",
       "       'Mastercard, Temasek Holdings', 'BlackSoil, Caspian',\n",
       "       'Jindal Steels, Jeet Banerjee', None, 'Zenith Global',\n",
       "       'Unitus Ventures, Work10M', 'Coinbase Ventures, Polychain',\n",
       "       'Mithril Capital Management.', 'Google', 'Better Capital',\n",
       "       'Steadview Capital, Canada Pension Plan Investment Board',\n",
       "       'Quona Capital', 'Swastika', 'Flipkart, Walmart',\n",
       "       'Delhi Private School, UAE, Interstar', 'Malpani Ventures',\n",
       "       'Survam Partners', 'Whiteboard Capital', 'Sequoia Capital.',\n",
       "       'Blacksoil', 'Bridgestone India', 'BEENEXT, Mayfield Fund',\n",
       "       'A91 Partners, Artha India Ventures',\n",
       "       'Sequoia Capital, India Quotient', 'NIIF Ltd, CDC Group',\n",
       "       'PayU Finance India, Quona Capital', 'STEMROBO Technologies',\n",
       "       'Infrastructure Leasing & Financial Services Limited, Dorm Room Fund',\n",
       "       'The CoWrks Foundry', 'Flipkart', 'Y Combinator, Sierra Ventures',\n",
       "       '9Unicorns Accelerator Fund', 'Speciale Invest',\n",
       "       'XRM Media, Kevin Lin', 'Huddle Accelerator',\n",
       "       'Hindustan Media Venture, Nicolas Jarrosson', 'India Angel Fund',\n",
       "       'Blume Ventures', 'Elevation Capital, Trifecta Capital Advisors',\n",
       "       'Stride Ventures, Matrix Partners India', '9Unicorns, Anicut',\n",
       "       'Venture Catalysts, 9Unicorns, We Founders Circle.',\n",
       "       'SenseAI Ventures, Saurabh Chugh',\n",
       "       'Startup incubator, Accelerator Venture Catalysts',\n",
       "       'India Accelerator, Sunil Kamath',\n",
       "       'Ramakant Sharma, Leo Capital India',\n",
       "       'Investment Corporation of Dubai (ICD)',\n",
       "       '9Point8 Capital, Sunil Kumar Singhvi',\n",
       "       'Sandeep Tandon, Survam Partners',\n",
       "       'Falcon Edge Capital, Omidyar Network', 'WEH Ventures, BEENEXT',\n",
       "       'Sequoia Capital India, CapitalG', 'La Gajjar Group.',\n",
       "       'Axilor Ventures, Unitus Ventures', 'Prolific angel investors',\n",
       "       'Ideaspring Capital, Accel', 'Nativelead Foundation',\n",
       "       'FMO, IndusInd Bank',\n",
       "       'Trifecta Capital Advisors, Nexus Venture Partners', 'Lightbox',\n",
       "       'Golden Birch Investments, She Capital',\n",
       "       'Pras Hanuma, Rebright Partners, Java Capital, and GSF Accelerator.',\n",
       "       'General Catalyst, Ribbit Capital', 'FMO', 'Surge',\n",
       "       'Unitus Ventures, Whiteboard Capital',\n",
       "       'StartupXseed Ventures, 100X.VC',\n",
       "       'Stellaris Venture Partners, Mastercard',\n",
       "       'Paula Mariwala, Siddharth Anand', 'Sequoia Capital India’s Surge',\n",
       "       'Venture Catalysts, 9Unicorns', 'India Accelerator',\n",
       "       'Pegasus Tech Ventures, Base Partners', 'GoodWorker.', 'Capify',\n",
       "       'Mumbai Angels, JITO Angel Network.',\n",
       "       'George Osborne, Smilegate Investment',\n",
       "       'Accel India, Breadlake Ventures', 'Ankur Mittal, Mitesh Shah',\n",
       "       'IIFL Asset Management, Matrix Partners', 'IIFL AMC',\n",
       "       'Global Car Group, Freemark holdings',\n",
       "       'Venture Catalysts, Speciale Invest', 'Venture Catalysts',\n",
       "       'Anupam Mittal, India Quotient', 'Unicorn India Ventures',\n",
       "       'DTDC, Udaan Angel Partners', 'Rainmatter',\n",
       "       'YourNest, growX ventures', 'Gemba Capital',\n",
       "       'Dragoneer Investment Group, Tiger Global Management',\n",
       "       'India Quotient', 'Surge, Tanglin Venture Partners',\n",
       "       'Alia Bhatt, Katrina Kaif', 'Pravega Ventures',\n",
       "       'Techstars Bangalore Accelerator, Techstars',\n",
       "       'Alfa Ventures, Divij Bajaj',\n",
       "       'Owl Ventures, Tiger Global Management',\n",
       "       'Whiteboard Capital, Matrix Partners India',\n",
       "       'Orios Venture Partners, Matrix Partners India',\n",
       "       '9Unicorns, 3Lines VC, Hyderabad Angels',\n",
       "       'Techstars, Techstars Bangalore Accelerator',\n",
       "       'Rajasthan Venture Capital Fund, AIM Smart City',\n",
       "       'Venture Catalysts, SOSV', 'BASE, Gunosy Capital',\n",
       "       'Nexus Venture Partners, Dream Incubator', 'DSG Consumer Partners',\n",
       "       'IBK Capital, SB Partners', 'Whiteboard Capital, Ahimsa Capital',\n",
       "       'Jonathan Swanson, Ankush Gera', 'Titan Capital',\n",
       "       'Asha Impact, Aavishkaar Venture Capital',\n",
       "       'Peyush Bansal, Ritesh Malik', 'AngelList India',\n",
       "       '3Lines, Jabbar Internet Group',\n",
       "       'Canaan Partners, NewView Capital', 'Better Capital, Gunosy',\n",
       "       'Sanjay Ramakrishnan, Ravi Garikipati', '9Unicorns', 'Jazal Group',\n",
       "       'Small Industries Development Bank of India', 'Goldman Sachs',\n",
       "       'LetsVenture, Jyotsna Bapat', 'Alibaba Group, InnoVen Capital',\n",
       "       'Poonawalla, Allana Group', 'Navus Ventures, Rockstart',\n",
       "       'AET Japan, Figure Eight Investments, Waterbridge Ventures',\n",
       "       'Sweta Rau, Archana Priyadarshini', 'Rajul Garg, Purvi Capital',\n",
       "       'Rajasthan Venture Capital Fund',\n",
       "       'Ratan Tata, Inflection Point Ventures, Ankur Mittal',\n",
       "       'Lightspeed, Elevation, Deepika Padukone',\n",
       "       'Abu Dhabi Investment Authority, GIC', 'Global Ascent Partners',\n",
       "       'HeroMotoCorp Ltd and Sachin Bansal',\n",
       "       'VAMM Ventures, Naresh Malhotra', 'DEG, KFW DEG',\n",
       "       'Accel, Alteria Capital', 'Mumbai Angels Network',\n",
       "       'AVANA Capital, Rebright Partners', 'Endiya Partners.',\n",
       "       'Mumbai Angels', 'Menterra Venture Advisors, Emandi Sankara Rao',\n",
       "       'Hercules Capital, Inc.Bertelsmann', 'Mohsin Hani Al Bahrani, MoD',\n",
       "       'CP Ventures, Orios Venture Partners',\n",
       "       'Kia Ora Ventures, Pentathlon Ventures',\n",
       "       'Kae Capital, Whiteboard Capital', 'Lokmat Investments',\n",
       "       'Niren Shah, Rukam Capital Trust',\n",
       "       'Chandigarh Angels Network, Modulor Capital',\n",
       "       'Rohit Chanana, Sukanta Ganguly', 'Alan Patricof, Jim Moffatt',\n",
       "       'IAN Fund', '9Unicorns, Titan Capital, FirstCheque',\n",
       "       'AIM Smart City', 'RB Investments Pte. Ltd, Goldman Sachs',\n",
       "       'Rajasthan Venture Capital Fund, Innovana Thinklabs',\n",
       "       '>Vikram Sud', 'Maple Capital Advisors',\n",
       "       '021 Capital, India Quotient', 'Ascent Capital, Iron Pillar',\n",
       "       'Oaks Asset Management', 'Roots Ventures, Better Capital',\n",
       "       'Sequoia Capital India, Faering Capital', 'Lightspeed India',\n",
       "       'CESC Ventures, Brun Raschle', 'Accel, Sunder Nookala', 'Justdial',\n",
       "       'KLUB Works, Shankar Narayanan',\n",
       "       'Nexus Venture Partners and 23 High Networth Individuals (HNIs)',\n",
       "       'Makers Fund, Courtside Ventures', 'RPSG Ventures, Amicus Capital',\n",
       "       'Times Group, Lightspeed', 'Mumbai Angels, Murali Nair',\n",
       "       'Nexus Venture Partners, Capria Ventures',\n",
       "       'Katrina Kaif, Steadview Capital',\n",
       "       'Exfinity Venture Partners, Shesh Kondi',\n",
       "       'Sandeep Tandon, Daniel Lapus', 'Northern Arc Capital',\n",
       "       'Samyakth Capital, Venture Catalysts', 'Jungle Ventures',\n",
       "       'Windrose Capital', 'Base Partners, Sequoia Capital India',\n",
       "       'Nishant Rao, Jonathan Boutelle', 'Picus Capital',\n",
       "       'Citi Ventures, Illuminated Funds Group',\n",
       "       'A91 Partners, RB Investments Pte. Ltd',\n",
       "       'GenNext Ventures, Contrarian Drishti Partners', 'Anand Mahindra',\n",
       "       'Alliance Ventures, Storm Ventures', 'Tandem',\n",
       "       'Indian Oil Corporation, Krishna Chakravarty', 'Tech Mahindra',\n",
       "       'Whiteboard Capital, VKG Ventures LLP.', 'TVS Motor Company',\n",
       "       'Sujeet Kumar, Hemesh Singh', 'Mount Judi Ventures',\n",
       "       'AngelList, Investec', 'Accel, Stellaris Venture Partners',\n",
       "       'Artha Venture', 'MOX, SOSV',\n",
       "       'Flourish Ventures, Lonsdale Capital', 'Kapil Dev',\n",
       "       'Lightspeed, Matrix Partners.',\n",
       "       'Eight Roads Ventures, On Mauritius',\n",
       "       'NABVENTURES, Social Alpha (India)',\n",
       "       'growX Ventures, Huddle (Incubator)',\n",
       "       'Better Capital, Kunal Shah, Gaurav Munjal',\n",
       "       'Lead Angels Network, Roots Ventures',\n",
       "       'Rohit Bansal, Rohan Ranavat', 'Real Estate Accelerator Program',\n",
       "       'Riso Investments, Lenskart', 'Sequoia Capital India',\n",
       "       'UPS Ventures, Hyundai Motor Company',\n",
       "       'King River Capital, Leap Capital', 'SOSV, Artesian',\n",
       "       'Upfront Ventures, Walkabout Ventures', 'Advent Partners',\n",
       "       'Stride Ventures, YourNest Venture Capital',\n",
       "       'Tiger Global Management, Sequoia Capital India',\n",
       "       'Syngenta Ventures, Walmart',\n",
       "       'Tiger Global Management, William Bissell',\n",
       "       'Alok Mittal, Manan Maheshwari',\n",
       "       'Mercer Investments, Bessemer Venture Partners', 'Startup Basket.',\n",
       "       'Orkla Ventures, Smedvig Capital', 'NABVENTURES',\n",
       "       'Xseed Partners, InnoVen Capital',\n",
       "       'Lightspeed India Partners, Accel India',\n",
       "       'Accel, Steadview Capital',\n",
       "       'Silver Lake, Mubadala Investment Company',\n",
       "       'Amit Lakhotia, Akash Gehani',\n",
       "       'Aavishkaar Venture Capital, Chiratae Ventures',\n",
       "       'NABVENTURES, Omnivore', 'Java Capital',\n",
       "       'SenseAI Ventures, EvoNexus', 'Digital Finance Group, FundersClub',\n",
       "       'Sriharsha Majety, Rahul Jaimini', 'Wavemaker Partners, Subho Ray',\n",
       "       'Upsparks', 'Saurabh Arora, LD Sharma', 'Foxhog Ventures',\n",
       "       'Ramesh Mangaleswaran, Saikiran Krishnamurthy', 'Triodos, Caspian',\n",
       "       \"Lee Fixel's Addition, SIG Global, Tanglin Venture Partners\",\n",
       "       'I2I Capitals', 'Core91 Fund, Anupam Mittal', 'Terwilliger Centre',\n",
       "       '2B Angels, Janvest Capital Partners', 'Rising Stars',\n",
       "       'General Atlantic, Kohlberg Kravis Roberts',\n",
       "       'CICC Alpha, VMS Asset Management', 'Sekhar Puli',\n",
       "       'Cowin Venture, ZSVC', 'International Finance Corporation',\n",
       "       'BlackSoil, BEENEXT', 'Marc Lore, Rise Capital',\n",
       "       'Sequoia Capital India, Hummingbird Ventures',\n",
       "       'IAN Fund, Rajasthan Venture Capital Fund',\n",
       "       'RPS Ventures, Intact Ventures',\n",
       "       'Artha India Ventures, Nagaraja Prakasam',\n",
       "       'Chiripal Group, Ratish Kumar Nair',\n",
       "       'Pallav Nadhani, Idein Ventures',\n",
       "       'Salesforce Ventures, Dragoneer Investment Group',\n",
       "       'Spiral Ventures, Surge', 'Sequoia Capital India, Times Internet',\n",
       "       'responsAbility, Grameen Impact India (GIII)',\n",
       "       'Tencent Holdings, Walmart',\n",
       "       'Aspada, Creation Investments Capital Management, LLC',\n",
       "       'GirnarSoft',\n",
       "       'Jamshed Jeejeebhoy, Symphony International Holdings',\n",
       "       'Facebook, Google, KKR, Silver Lake',\n",
       "       '021 Capital, Karnataka Information Technology Venture Capital Fund',\n",
       "       'Homage Ventures.', 'Steadview Capital, Tencent Holdings',\n",
       "       'Adar C. Poonawalla, Kris Gopalakrishnan', 'Coatue Management',\n",
       "       'Steadview Capital', 'Mumbai Angels, Redcliffe Capital',\n",
       "       'Gaja Capital, Kotak Life, Lok Capital',\n",
       "       'DR. Moti Vyas, Udit Goyal',\n",
       "       'Nexus Venture Partners, Sequoia Capital',\n",
       "       'Propstack, SAIF Partners',\n",
       "       'MacRitchie Investments, Baillie Gifford',\n",
       "       'Tencent Holdings, Times Internet',\n",
       "       'Global Innovation Fund, Soros Economic Development Fund',\n",
       "       'Ronald Conway, Bay Partners', 'Prospect Partners.',\n",
       "       'Omnivore, Zeroth.AI', 'Mumbai Angels.',\n",
       "       'Ramesh Srinivasan, Amazon', 'Eight Roads Ventures',\n",
       "       'Ashok Leyland, V Lakshmi Narayanan',\n",
       "       'Ranjit Punja, R Sudarshan, Gowri Mukherjee',\n",
       "       'Gunavanth Vaid, Bharat Kumar Sohanraj', 'Venkat Raju',\n",
       "       'Silver Lake Partners',\n",
       "       'Clairvest Group, Ontario Centres of Excellence',\n",
       "       'Damien Toledo, Jim Bugwadia, Ritesh Patel',\n",
       "       'US based NRI Investors', 'Inflection Point Ventures, Mitesh Shah',\n",
       "       'Betatron', 'Chiratae Ventures, Blume Ventures',\n",
       "       'Ravi Sanghvi, PitchRight Venture',\n",
       "       'Bessemer Venture Partners, CDH Investments', 'HNIs',\n",
       "       'Guild Capital', 'Y Combinator', 'Prime Venture Partners',\n",
       "       'Mela Ventures, 1Crowd', 'responsAbility, Accel',\n",
       "       'Chiratae ventures', 'Palm Drive Capital, Amatil X Ventures',\n",
       "       'Sequoia Capital India, Blume Ventures',\n",
       "       'JF Mauritius SPV, IndusAge Partners', 'VC Firm K Partners',\n",
       "       'India Alternatives Private Equity Fund, Tata Capital',\n",
       "       'Bonnier Ventures, Hanaco Venture Capital',\n",
       "       'Gemba Capital, Gunderson Dettmer', '500 Startups, ah! Ventures',\n",
       "       'Base Partners, GO Ventures', 'Accel, Zodius Capital',\n",
       "       'Windrose Capital, Anil Advani', 'Seeds Capital, AIM Smart City',\n",
       "       'Blume Ventures, Tetrao',\n",
       "       'Lightspeed venture partners, saif partners',\n",
       "       'Shadows Holdings, Lightbox',\n",
       "       'Lightspeed India Partners, Sequoia Capital India',\n",
       "       'Abhishant Pant, Chiranth Patil', 'Madison, Anicut',\n",
       "       'DSG Consumer Partners, Saama Capital',\n",
       "       'Kakao Ventures, Shinhan Capital',\n",
       "       'Matrix Partners India, Hummingbird Ventures',\n",
       "       '23 High Networth Individuals (HNIs).',\n",
       "       'Ratan Tata, Kalaari Capital', 'Nexus Venture Partners',\n",
       "       'Global Founders Capital, Redpoint',\n",
       "       '01 Advisors, Steadview Capital', 'Pushpak Credit, Fiscal',\n",
       "       'Kaizenvest, Foundation Holdings',\n",
       "       'Pincus, JP Morgan, Temasek, March Capital',\n",
       "       'Westbridge Capital, Elevar Equity', 'BAce Capital, Madhur Deora',\n",
       "       'Lightspeed India, Sequoia Capital India',\n",
       "       'IIFL Asset Management, Raghav Bahl',\n",
       "       'Wes Schwalje, Alteria Capital',\n",
       "       'IDFC-Parampara Fund, Bharat Innovation Fund',\n",
       "       'Mercer Investments, Nicholas Cator',\n",
       "       'Falcon Edge Capital, SAIF Partners', 'Chiratae Ventures.',\n",
       "       'Menterra Venture Advisors, Rianta Capital',\n",
       "       'Sunil Kumar Singhvi, Yusho Kawata',\n",
       "       'Accel Partners, Sequoia Capital, Evolvence India, JSW Ventures',\n",
       "       'Bessemer Venture Partners', 'Insitor Partners, C4D Partners',\n",
       "       'Sinai Ventures, Y Combinator', 'Jitendra Gupta, Better Capital',\n",
       "       'Mumbai Angels, Defence Innovation Organisation',\n",
       "       'CBA Capital, Gray Matters Capital',\n",
       "       'Kalpavriksh, JITO Angel Network',\n",
       "       'growX ventures, Sangam Ventures',\n",
       "       'SRI Capital, Techstars Farm to Fork Accelerator',\n",
       "       'Y Combinator, Ribbit Capital', 'Hatanaka Yosuke, Minomiya Takeo',\n",
       "       'Krishnan Menon, Srinivas Kollipara',\n",
       "       'SucSEED Venture Partners, ah! Ventures', 'Surge, Kae Capital',\n",
       "       'Nexus Venture Partners, Sam Lambert',\n",
       "       'Alto Partners, Mission Holdings', 'SCB 10X, LINE Ventures',\n",
       "       'Powerhouse ventures, Tracxn,', 'Kaplan Foundation', 'Ivy Icon',\n",
       "       'Millenna FVCI III, NB Ventures, Dream Incubator', 'Balancehero',\n",
       "       'Anicut Capital',\n",
       "       'Al Falaj Commercial Investment Co, Vistra ITCL India',\n",
       "       'Supera Investments',\n",
       "       'Accel India, Blume Ventures, 3F Ventures, Akatsuki Inc',\n",
       "       'GGV Capital, Sahi Barual',\n",
       "       'Grand Anicut Angel Fund (GAAF), AL Trust, Beeline Impex Private Limited, 9Unicorns, Accelerator Fund',\n",
       "       'Bertelsmann India Investments, Sequoia Capital India',\n",
       "       'Times Internet, TLabs',\n",
       "       'Saif partners, Accel partners, Sequoia capital',\n",
       "       'Jitendra Gupta, Astarc Ventures.', 'Nestavera Ventures.',\n",
       "       'MOX, Venture Catalysts', 'Sojitz, SIG Global India Fund',\n",
       "       'Mohan Verma, Better Capital', 'Shikhar Dhawan, Mantra Capital',\n",
       "       'Kiran Mazumdar Shaw.', 'Bhadresh',\n",
       "       'GB Group, Walden International', 'Meghna Agarwal, Navin Dhanuka',\n",
       "       'V Sumantran, V Lakshmi Narayanan',\n",
       "       'Keiretsu Forum, SucSEED Venture Partners',\n",
       "       'Sweta Rau, Sandeep Kapoor', 'Mantis ventures',\n",
       "       'Napino Auto and Electronics Ltd',\n",
       "       'VCATS, First Cheque, 9Unicorns, Marquee investors',\n",
       "       'AngelList, Inflection Point Ventures, The Chennai Angels',\n",
       "       'Mayfield India, Saama Capital, Ronnie Screwvala', 'DST Global',\n",
       "       'Alphawave, Matrix Partners', 'Keiretsu Forum, Elea Foundation',\n",
       "       'WaterBridge Ventures', 'Alpha Wave incubation',\n",
       "       'Inflection Point Ventures', 'Anand Shah',\n",
       "       'WestBridge Capital, Elevar Equity',\n",
       "       'KTB Network, Samsung Ventures, Ankur Nagpal, Gokul Rajaram, Vineet Buch',\n",
       "       'Ankur Capital',\n",
       "       'Lightspeed India Partners, Blume Ventures, GrowX ventures',\n",
       "       '3one4 Capital, Angel list India',\n",
       "       'StartupXseed Ventures, Bhaskar Pramanik, MJ Aravinf, Ravi Viswanath, Ramesh Radhakrishnan, Ranjan Biswas, MJ Aniketh.',\n",
       "       'SAIF Partners, Y Combinator, Neeraj Arora, Titan Capital, First Cheque.',\n",
       "       'Suniel Shetty', 'SOSV, MOX (Mobile Only Accelerator)',\n",
       "       'Matrix Partners India, Sequoia Capital India, Hummingbird Ventures',\n",
       "       'Unitus Ventures, India Quotient, AngelList India',\n",
       "       'Artha Venture Fund', 'Shobu Yarlagadda',\n",
       "       'Fullerton Financial Holdings, Bertelsmann India Investments, Sistema Asia Fund, IndiaQuotient',\n",
       "       '1Crowd', 'Foundation Holdings',\n",
       "       'Ankur Capital, Beyond Next Ventures', 'Orios Venture Partners',\n",
       "       'Evolvence India Fund (EIF), Pidilite Group, FJ Labs',\n",
       "       'IIFL Income Opportunities Fund', 'Sequoia India',\n",
       "       'Stride Ventures', 'Better Capital, TechStars, Barclays.',\n",
       "       'Venture Catalysts,\\xa0\\xa0Raveen Sastry',\n",
       "       'AngelList India, Utsav Somani, Village Global, LogX Ventures, Jasminder Singh Gulati',\n",
       "       'Eagle10 Ventures, India Accelerator, HNIs',\n",
       "       'Uday Sodhi, Mitesh Shah, Nitin Jain', 'Sequoia Surge',\n",
       "       'Elina Investments', 'Qualgro, Lachy Groom',\n",
       "       'Urmin Family Office, Lemonade Ventures, TrueValue Group MD Yash Shah',\n",
       "       'LogX Ventures, AngelList’s Utsav Somani, NowFloats’ Jasminder Singh Gulati, AL Trust (Vistra ITCL), Village Global.',\n",
       "       'All About Inc, Beenext Pte Led, Beenos Asia, DG Ventures, Kanamori Assagement Singapore, Rebright Partners I, Rebright Partners II, Tetsuro Koda',\n",
       "       'Shabir Momin, OneDigital Entertainment,\\xa0\\xa0Saurabh Pathak.',\n",
       "       'Indian Angel Fund',\n",
       "       'N S Parthasarathy, Dilipkumar Khandelwal, Anand Nichani, Anath Ravi, Prashanth Prakash',\n",
       "       'Crazy Labs', 'Info Edge',\n",
       "       'Sanjay Mehta, Vikram Pandya, Gaurav Gupta, Vivel Srivatsav, Madhavi Bollipalli, Srinivas Paanem, Satish Bogullu',\n",
       "       'Dr. Bhaskar Rao Bollineni', 'BlueOrchard Finance Limited',\n",
       "       'ResponsAbility Investments AG', 'Good Capital',\n",
       "       'Dr Srinivas Chunduru', 'Ashok Nichani, Shelly Nichani',\n",
       "       'Hero MotoCorp', 'Unitus Venture',\n",
       "       'Matrix Partners India, Ankur Capital',\n",
       "       'Unicorn India, PointOne Capital, Astir Ventures',\n",
       "       'Sequoia Capital India, Matrix Partners India, InfoEdge, Waterbridge Ventures',\n",
       "       'BlackSoil Capital', 'Ah! Ventures', 'Rajesh Ranavat', 'Coatue',\n",
       "       'Samsung Venture Investment Corporation', 'Jetty Ventures',\n",
       "       '021 Capital', 'LetsVenture Syndicate', 'Chennai Angels',\n",
       "       'SucSEED Ventures', '3one4 Capital', 'Incubate Fund',\n",
       "       'RPSG Ventures', 'Incubate Fund India', 'Eight Road Ventures',\n",
       "       'JAFCO Asia, Artha Venture Fund',\n",
       "       'Tharun Dhariwal, Sunil Kumar Singhvi, Arun Ostwal, Vishal Ostwal, Gunavanth Vaid, Bharat Kumar',\n",
       "       'WEH Ventures', 'Trifecta Capital', 'Vivriti Capital',\n",
       "       'Adar Poonawalla, Kris Gopalakrishnan', 'LR Joshi',\n",
       "       'Beenext, Rainmatter CApital Pvt Ltd, Stanford Angels & Entrepreneurs',\n",
       "       'Mumbai Angel Network',\n",
       "       'Investcorp, Nexus Venture Partners, Mirae Assets, Trifecta Capital',\n",
       "       \"ENGIE RAssembleurs d'Energies, The Rise Fund, and The Singh Family Trusts,Teja Ventures, Beyond Capital Fund.\",\n",
       "       'Kritik Abiram, Parthiv Rokadia, Gaurav Saraogi',\n",
       "       'Invest in Vision',\n",
       "       'Sofina Ventures, A91 Emerging fund, SCI Growth Investment II, Catamarann Ventures',\n",
       "       'Turbostart',\n",
       "       'Globevestor, Secocha Ventures, First Cheque VC, Kashyap Deorah, Vijay Sivaram',\n",
       "       'NB Ventures', 'Sauce vc', '3One4 Capital, LetsVenture',\n",
       "       'Better Capital, Titan Capital', 'Lightbox Ventures', 'Greenoaks',\n",
       "       'Startup-O, Eden Ventures',\n",
       "       'Matrix India, Y Combinator, Global Founders Capital, Soma Capital, VentureSouq',\n",
       "       'InfoEdge Venture Fund, Sprout Venture Partners',\n",
       "       'Rajesh Ranavat, Abhishek Shah, Sheetal Bahl, Manu Rikhye, Ashish Taneja, Kabir Kochhar, Mohit Satyanand',\n",
       "       'SAIF Partners, India Quotient', 'BOND', 'Gunosy',\n",
       "       'Leo capital, Ramakant Sharma', 'Amansa Capital',\n",
       "       'Matrix Partners', \"Capital G, Alphabet's Independent growth fund\",\n",
       "       'Chiratae Ventures',\n",
       "       'Pearl Brook Holdings Ltd, Al Nour International Holdings Co.',\n",
       "       'Rocketship', 'Nadir Godrej, Individual Investors', 'Pawan Munjal',\n",
       "       'US International Development Finance Corporation',\n",
       "       'Tano India, L’Occitane, Bessemer', 'Sozo Ventures', 'Undisclosed',\n",
       "       'Rainmatter Capital', 'Venture Catalysts, Naveen Kshatriya,',\n",
       "       'Shikhar Dhawan', 'Arkam Ventures, Nabventures',\n",
       "       'Beyond Next Ventures, ArthaVida Ventures, Dr Aniruddha Malpani',\n",
       "       'Iron Pillar, Blume Ventures', 'Danone Manifesto, Mousse Partners',\n",
       "       'Entrepreneurial Development Bank, Bessemer Venture Partners',\n",
       "       'Insight Partners', 'Induslnd Bank', 'Pratithi',\n",
       "       'PadUp, Villgro USA, Vinners, LetsVenture, SINE IIT Bombay, DERBI',\n",
       "       'Dr Apoorva Ranjan Sharma, Mrunal Jhaveri, Nirav Panchmatia, Vikas Kapoor, Karan Garg',\n",
       "       'JSW Ventures, Chiratae Ventures, Kalaari Capital', 'Kimera Ltd',\n",
       "       'Gameskraft', 'Anthill Ventures', 'Smile group',\n",
       "       'Rangsons Technologies', 'WSV Capital',\n",
       "       'Gautam Dalmia, Pratithi Investment Trust, Shri Investment',\n",
       "       '100x VC', 'Black Soil',\n",
       "       'Leo Capaitals, Amit Gupta, Abhishek Goyal, Ramakant Sharma, Harsh Pokhran',\n",
       "       'Beenext, Asuka Holding', 'Vertex Ventures SEA & India',\n",
       "       'Crowd Fund', 'Bisque Limited, Link Investment Trust.',\n",
       "       'Stellaris Venture Partners, Venture Highway',\n",
       "       'River Rock Ventures. Inflection Point Ventures',\n",
       "       'Chinaccelerator, 9 Unicorns Fund, Inflection Point Ventures',\n",
       "       'EMVC, Flourish, Omidyar Network India', 'Polychain Capital',\n",
       "       'Varanium NexGen Fund', 'Inventus III India Fund',\n",
       "       'Bharat Inclusion Seed Fund, Varanium Capital, and Better Capital',\n",
       "       'Amit Burman', 'Bharti Airtel',\n",
       "       'Whiteboard Capital, FirstCheque, Artha India Ventures, Sweta Rau, Deepak Abbot, Amrish Rau, Harpreet Singh Grover',\n",
       "       'IDG Ventures, Elevar Equity, Accion', 'Angel Investors',\n",
       "       'Kalyan Krishnamurthy, Sujeet Kumar, Keshav Sanghi, Roman Saini, Sumit Jain, Hemesh Singh',\n",
       "       'Sujeet Kumar', 'B Capital Group', 'Angel investors. HNI',\n",
       "       'Innoven Capital', 'Tracxn Labs, Angellist, Tri-Deep Capital',\n",
       "       'Ankit Bhati, Nitin Gupta', 'Gray Matters Capital',\n",
       "       'Akya Ventures', 'GHV Accelerator', 'Josh Liberman, Mark Adams',\n",
       "       'Nordic Microfinance Initiative',\n",
       "       'Chiratae Ventures, Accel Partners, BCIP Venture Associates, Bain Capital, Renaud Laplanche',\n",
       "       'Saama Capital', 'Tiger Global, Avatar Growth Capital',\n",
       "       'Lightspeed Venture Partners', 'Unicorn Investments Pte Ltd',\n",
       "       'Vijay Shekhar Sharma, Anupam Mittal',\n",
       "       'Tribe Capital, Innoven Capital, BII',\n",
       "       'Angellist, Smile Group, Manish Amin, Anil Goel, Anubhav Sonthalia, Deepak Mittal',\n",
       "       'Steadview capital',\n",
       "       'Bessemer Venture Partners India, Fusian Capital, Rebright Partners, Milliways Fund LLC',\n",
       "       'Ratan Tata', 'VisaVentures, BRI Ventures', 'Next Capital',\n",
       "       'Trifecta Venture', 'Exfinity Ventures, IAN Fund',\n",
       "       'Alteria Capital', 'ChrysCapital',\n",
       "       'Hari Balasubramanian, EaSyndicate',\n",
       "       'Paytm, leAD Sports, Rockstud Capital, Founder Bank Capital',\n",
       "       'Lupa India', 'Tencent',\n",
       "       'Devanshu Dolat Desai, Anand M Khatau, Debasish Priyadarshi Purohit, Kaushik Shanghvi',\n",
       "       'Accel Partners, Jungle Ventures', 'Barkawi',\n",
       "       '1Funds Domestic Scheme', 'RiverRock Ventures', 'RTP Global',\n",
       "       'Hero Fincorp', 'Li and Fung', 'Mantra Capital, Patni Family',\n",
       "       'Nikhil Vora, Iceland Venture Studio, LetsVenture, Samyakth Capital',\n",
       "       'North Base Media', 'Investment Trust of India',\n",
       "       'IvyCap Ventures, Sequoia Capital',\n",
       "       'Sequoia Capital Surge, Better Capital',\n",
       "       'Ravikanth Reddy & Mumbai Angel Network',\n",
       "       'Sequoia Capital, Sofina', 'Pinetree Capital', 'Big Basket',\n",
       "       'Education Catalyst Fund', 'CDC Group', 'KB Global Platform Firm',\n",
       "       'Tata Capital Growth Fund II', 'NXC Corporation',\n",
       "       'Saltwater Venture Sparks',\n",
       "       'University of Tokyo Edge Capital, Global Brain Corporation',\n",
       "       'Abhishek Goyal, Bharat Jaisinghani, FirstCheque', 'BeeNext',\n",
       "       'Angel Network', 'Sukhbir Singh, Rakhee Singal',\n",
       "       'INSEAD Angels, IIT Kanpur Angels, Sixth Sense Ventures, Saahil Bhatia',\n",
       "       'Bytedance, Falcon Edge, Goldman Sachs, Advent Management',\n",
       "       'General Atlantic', 'IIFL Seed Ventures Fund, Menlo park',\n",
       "       'Ribbit Capital, SAIF Partners, Sequoia Capital India, Amazon',\n",
       "       'Greenoaks Capital, Vy Capital. Matrix Partners India', 'Accel',\n",
       "       'Indie VC',\n",
       "       'Lightspeed Venture Partners, Lightspeed India Partners.',\n",
       "       'Lightspeed Venture, Falcon Edge, Bharat Inclusive Technologies Seed Fund.',\n",
       "       'M12, Honeywell venture capital, Eight Roads Venture',\n",
       "       'Amazon, Sequoia, Walden SKT Venture Fund',\n",
       "       'Lightstone Global Funds', 'Zee Entertainment Enterprises Limited',\n",
       "       'Amazon Inc`, Dinesh J Hinduja', 'Alibaba Holdings',\n",
       "       'Hummingbird Ventures, Bedrock Capital', 'Legend Capital',\n",
       "       'Accel, Zephyr Peacock, Swiggy, RB Investments.',\n",
       "       'Better Capital, LetsVenture, Rohit Chanana, Jayant Kadambi, Sunil Kumar Singhvi',\n",
       "       'Bace Capital',\n",
       "       'Tencent, Ark Impact, Korea Investment Partners, Samsung Ventures, Mirae Asset Capital Markets',\n",
       "       'LGT Lightstone Aspada', 'Pacific Horizon',\n",
       "       'Der Shing Lim, 500 startups', 'Vostok Emerging Finance',\n",
       "       'Arka Venture Labs', 'IvyCap Ventures', 'Vertex Ventures',\n",
       "       'Chowdry Associates, Lightbox',\n",
       "       'Sukhbir Singh, India Accelerator, Boudhik Ventures, Shankar Nath, Shaurya Garg',\n",
       "       'Matrix Partners, SAIF Partners', 'LeapFrog Investments',\n",
       "       'Aavishkar Capital', 'Unicorn India ventures',\n",
       "       'Pecus Capital, Madhur Deora', 'Temasek', 'Ideaspring capital',\n",
       "       'ThinkNext LLC', 'MG Motor India',\n",
       "       'Ashneer Grover, Kunal Shah, Ramakant Sharma',\n",
       "       'KYT Ventures, First Cheque, AngelList',\n",
       "       'Polychain Capital, Bain Capital Ventures, HDR Group',\n",
       "       'Risers Accelerators', 'Accel India, Lightspeed Venture Partners',\n",
       "       'Gautham Madhavan', 'Pegasus FinInvest',\n",
       "       'TPG-backed Group Landmark', 'CESC Ventures', 'Naya Ventures',\n",
       "       'pi Ventures',\n",
       "       'Rajeev Juneja, Pratul Shroff, Dilip Khandelwal, Piyush Gupta',\n",
       "       'Mahendra Singh Dhoni', 'LGT LightstoneAspada',\n",
       "       'Godrej Investments',\n",
       "       'Stellaris Venture Partners, Unilever Ventures, Kalaari Capital, Vy Capital',\n",
       "       'Sorenson Impact', 'Vishal Dixit',\n",
       "       'Pawan Munjal Family Trust Fund', 'Lodha Ventures',\n",
       "       'Y Combinator, Venture Highway, Sequoia India, Global Founders Capital',\n",
       "       'Arali Ventures, CIIE.CO',\n",
       "       'Kunal Shah, Amrish Rau, Jitendra Gupta', 'Accel India',\n",
       "       'Mistletoe', 'KA Enterprise',\n",
       "       'Lead Angels Network, Stanford Angels', 'Angel network',\n",
       "       'LetsVenture investors',\n",
       "       'Advent Management, A91 Emerging Fund, Trifecta Venture',\n",
       "       'SAIF Partners, Mayfield India', 'Rukam Capital',\n",
       "       'UTEC-The University of Tokyo Edge Capital, Aflac Ventures, LLC, Dream Incubator, TeamFund',\n",
       "       'Ixigo', 'Sequoia’s Surge, Fosun RZ', 'Alok Garg',\n",
       "       'InnoVen Capital', 'Anicut Angel Fund', 'Aavishkaar Capital',\n",
       "       'Paragon Partners', 'Yuanfudao',\n",
       "       'Nandan Nilekani, Sanjeev Aggarwal', 'Atraxn Partners.',\n",
       "       'Morgan Stanley Private Equity Asia', 'Lightstone Aspada',\n",
       "       'Samsung Venture Investment', 'Indian Angel Network',\n",
       "       'Media Development Investment Fund', 'Accelerator MOX',\n",
       "       'Nandan Nilekani, Samsung Venture Investment Corporation',\n",
       "       'Maharashtra Defence, Aerospace Venture Fund (MDAVF)',\n",
       "       'Kunal Bahl, Rohit Bansal',\n",
       "       'GGV Capital, Bertelsmann India Investments, Binny Bansal, Sequoia India, Accel Partners',\n",
       "       'CDC Group Plc', 'Ribbit Capital', 'Sequoia Capital’s Surge',\n",
       "       'Peerplays', 'Sauce.vc', 'AdvantEdge', 'Accion Venture Lab',\n",
       "       'SucSEED Venture Partners, BIRAC, Elixir Pharma, Titan Capital',\n",
       "       'Prosus N.V',\n",
       "       'Facebook, General Atlantic, Sequoia India, Nexus Venture Partners, Steadview Capital, Blume Ventures',\n",
       "       'Hindustan Media Ventures', 'Virat Kohli, Anushka Sharma',\n",
       "       'Rockstud Capital',\n",
       "       'IAN Fund-I,\\xa0\\xa0Al Falaj Investment Company (AFI)',\n",
       "       'WAVE Equity Partners, Chevron Technology Ventures, Marubeni Corporation.',\n",
       "       'Zodius Growth Fund',\n",
       "       'Mahesh Mohta, Jyoti Arora, Nachu Subramanian, Srivats',\n",
       "       'Indian Angel Network, Lead Angels, Hyderabad Angels',\n",
       "       'Triton Investment Advisors,',\n",
       "       'Accel Partners, Shunwei Capital, Good Capital',\n",
       "       'SIG Global India Fund', 'Kolte-Patil Family Office',\n",
       "       'Ashwin Khorana', 'Tarun Bhalla', 'Z3 Partners',\n",
       "       'One97 Communications', 'GGV Capital',\n",
       "       'Amrish Rau, Kunal Shah, Jitendra Gupta',\n",
       "       'Omnivore, Accel Partners, Mayfield',\n",
       "       'Kleiner Perkins, Canapi Ventures, Index Ventures, Nyca Partners, General Catalyst.',\n",
       "       'Info Edge Ltd', 'Chowdry Associates', 'Pharmacon Holdings',\n",
       "       'Blume Ventures, Sequoia', 'Think Investment', 'Udaan',\n",
       "       'Pidilite Industries', 'Softbank’s Vision Fund',\n",
       "       'LightBox Ventures', 'Xiaomi', 'Info Edge Venture Fund',\n",
       "       'Neev Fund',\n",
       "       'FirstCheque, Angellist India, Aakrit Vaish, Ranjith Radhakrishnan',\n",
       "       'Arunachal Pradesh Social Entrepreneurship Meet', 'IndiaQuotient',\n",
       "       'PayU, Fosun RZ Capital', 'Unitus Ventures.',\n",
       "       'Avaana Capital, Titan Capital', 'Institutional Investors',\n",
       "       'Tim Draper', 'Beenext', 'Reliance Industries Limited (RIL)',\n",
       "       'Equanimity Ventures', 'Mistletoe, Info Edge Asia',\n",
       "       'Bill & Melinda Gates Foundation',\n",
       "       'JITO Angel Network, Ketan Kothari, Girish Jain, Sunil Singhvi, Vinay Jain',\n",
       "       'Ant Financial', 'GrowX ventures, Prophetic Ventures',\n",
       "       'Atsushi Taira', 'Manish Choksi', 'InnoVen capital',\n",
       "       'SenseAI Ventures',\n",
       "       'Tiger Global Management, Sequoia Capital India, Singapore’s Economic Development Board (EBD)',\n",
       "       'Aquiline Technology Growth (ATG), RTP Global, Sequoia India',\n",
       "       'Frontline Strategy Finds, SucSEED Venture Partners LLP',\n",
       "       'Tiger Global, Steadview Capital, DF International Private Partners',\n",
       "       'Schroder Adveq', 'A91 Partners, Faering Capital, TVS Capital',\n",
       "       'Tahoe Investment Group, Mercer Investment', 'Mastercard',\n",
       "       'SOSV, Chinaccelerator', 'Tiger Global, Steadview Capital',\n",
       "       'She Capital',\n",
       "       'Green Shots Capital, Alfa Ventures, Real Time Venture, Petrotech, Steel City Securities, Lalit Wadhwa, Dr Kriti Maroli',\n",
       "       'Yuj Ventures', 'Accel Partners, B Capital',\n",
       "       'Sequoia Capital, Matrix Partners India',\n",
       "       'Ginni International, Elisa Khong, Sandeep Singh, VegInvest',\n",
       "       'SoftBank Group', 'Sony Innovation Fund',\n",
       "       'Amit Singal, Manish Aggarwal',\n",
       "       'Windrose Capital, ITI Growth Opportunities Venture Fund',\n",
       "       'Yatra Angel Network (YAN)', 'WestBridge Capital',\n",
       "       'Sprout Venture Partners, Indian Angel Network', 'La Gajjar Group',\n",
       "       'ICONIQ Capital', 'Matrix Partners India',\n",
       "       'Sequoia Capital, Ribbit Capital, Amazon, Saif Partners',\n",
       "       'Flipkart India, Singapore-based GEC3',\n",
       "       'Omnivore, Insitor Impact Asia Fund', 'Kalaari Capital',\n",
       "       'Suma Soft Pvt Ltd',\n",
       "       'Sprout Venture Partners, JITO Angel Network, LetsVenture',\n",
       "       'Refex Capital', 'James Murdoch-led Lupa Systems',\n",
       "       'Lightspeed Venture Partners, Sequoia Surge',\n",
       "       'Omidyar Network India', 'Space Capital',\n",
       "       'IIM Ahmedabad’s incubator (CIIE.CO),Chandigarh Angels Network',\n",
       "       'Iron Pillar', 'Lightbox. Social Capital, Dunce Capital',\n",
       "       'GMO Payment Gateway', 'Tiger Global', 'The Chennai Angels (TCA)',\n",
       "       'HNIs in India, Japan, and the US', 'Vishnu Reddy',\n",
       "       'Zerodha fintech fund, Rainmatter', 'Austrian Bank', 'Alibaba',\n",
       "       'TechnoGen', 'NorthStar, Vinod Khatumal',\n",
       "       'Chiratae Ventures, Sequoia Capital, Orios Venture Partners',\n",
       "       'Sprout venture partners', 'DSG Consumer Partners, Blume Ventures',\n",
       "       'Sequoia India, Ribbit Capital', 'Verlinvest',\n",
       "       'SIG Global India Fund LLP.'], dtype=object)"
      ]
     },
     "execution_count": 24,
     "metadata": {},
     "output_type": "execute_result"
    }
   ],
   "source": [
    "data['Investor'].unique()"
   ]
  },
  {
   "cell_type": "code",
   "execution_count": 25,
   "metadata": {},
   "outputs": [
    {
     "data": {
      "text/plain": [
       "Investor\n",
       "Venture Catalysts            20\n",
       "Angel investors              12\n",
       "Mumbai Angels Network        12\n",
       "Inflection Point Ventures    11\n",
       "Undisclosed                  10\n",
       "Sequoia India                 6\n",
       "Unicorn India Ventures        6\n",
       "Better Capital                5\n",
       "Trifecta Capital              5\n",
       "Chiratae Ventures             4\n",
       "Nexus Venture Partners        4\n",
       "Name: count, dtype: int64"
      ]
     },
     "execution_count": 25,
     "metadata": {},
     "output_type": "execute_result"
    }
   ],
   "source": [
    "Investor_counts = data['Investor'].value_counts()\n",
    "\n",
    "Investor_counts.head(11)"
   ]
  },
  {
   "cell_type": "code",
   "execution_count": 26,
   "metadata": {},
   "outputs": [
    {
     "data": {
      "text/plain": [
       "array([2.0000000e+05, 1.0000000e+05,           nan, 4.0000000e+05,\n",
       "       3.4000000e+05, 6.0000000e+05, 4.5000000e+07, 1.0000000e+06,\n",
       "       2.0000000e+06, 1.2000000e+06, 6.6000000e+08, 1.2000000e+05,\n",
       "       7.5000000e+06, 5.0000000e+06, 5.0000000e+05, 3.0000000e+06,\n",
       "       1.0000000e+07, 1.4500000e+08, 1.0000000e+08, 2.1000000e+07,\n",
       "       4.0000000e+06, 2.0000000e+07, 5.6000000e+05, 2.7500000e+05,\n",
       "       4.5000000e+06, 1.5000000e+07, 3.9000000e+08, 7.0000000e+06,\n",
       "       5.1000000e+06, 7.0000000e+08, 2.3000000e+06, 7.0000000e+05,\n",
       "       1.9000000e+07, 9.0000000e+06, 4.0000000e+07, 7.5000000e+05,\n",
       "       1.5000000e+06, 7.8000000e+06, 5.0000000e+07, 8.0000000e+07,\n",
       "       3.0000000e+07, 1.7000000e+06, 2.5000000e+06, 4.0000000e+04,\n",
       "       3.3000000e+07, 3.5000000e+07, 3.0000000e+05, 2.5000000e+07,\n",
       "       3.5000000e+06, 2.0000000e+08, 6.0000000e+06, 1.3000000e+06,\n",
       "       4.1000000e+06, 5.7500000e+05, 8.0000000e+05, 2.8000000e+07,\n",
       "       1.8000000e+07, 3.2000000e+06, 9.0000000e+05, 2.5000000e+05,\n",
       "       4.7000000e+06, 7.5000000e+07, 8.0000000e+06, 1.2100000e+08,\n",
       "       5.5000000e+07, 3.3000000e+06, 1.1000000e+07, 1.6000000e+07,\n",
       "       5.4000000e+06, 1.5000000e+08, 4.2000000e+06, 2.2000000e+07,\n",
       "       5.2000000e+07, 1.1000000e+06, 1.1800000e+08, 1.6000000e+06,\n",
       "       1.8500000e+07, 7.0000000e+10, 8.0000000e+08, 4.0000000e+08,\n",
       "       1.5000000e+05, 1.7600000e+08, 6.0000000e+07, 4.7000000e+05,\n",
       "       2.4000000e+05, 3.0000000e+09, 7.4000000e+07, 6.2000000e+07,\n",
       "       2.1000000e+06, 5.0000000e+08, 1.2500000e+07, 2.2000000e+09,\n",
       "       5.0600000e+06, 2.2500000e+08, 2.4700000e+07, 7.7000000e+06,\n",
       "       1.9067328e+07, 5.1000000e+07, 1.1500000e+05, 5.4000000e+04,\n",
       "       2.0000000e+04, 8.0314600e+05, 2.3800000e+05, 1.0220000e+07,\n",
       "       1.0200000e+06, 1.2000000e+07, 1.3400000e+07, 1.7000000e+08,\n",
       "       2.9000000e+06, 5.4300000e+05, 9.0000000e+07, 3.4000000e+06,\n",
       "       2.3000000e+07, 8.0900000e+06, 1.0300000e+06, 5.0400000e+06,\n",
       "       3.6000000e+05, 1.4000000e+06, 6.5000000e+05, 5.4000000e+07,\n",
       "       4.2500000e+07, 1.1370000e+07, 3.2500000e+05, 4.1000000e+05,\n",
       "       4.5000000e+05, 6.8200000e+05, 4.0500000e+06, 1.0500000e+06,\n",
       "       1.0800000e+06, 4.3000000e+06, 6.8000000e+06, 2.1100000e+06,\n",
       "       7.6400000e+05, 6.0300000e+05, 4.0900000e+05, 2.9200000e+05,\n",
       "       2.8600000e+05, 1.3600000e+05, 5.4600000e+05, 8.8700000e+05,\n",
       "       4.3000000e+04, 4.0900000e+04, 2.2000000e+06, 5.6600000e+06,\n",
       "       3.5000000e+05, 1.1000000e+05, 1.2200000e+08, 1.1635000e+07,\n",
       "       2.8000000e+06, 1.0650000e+06, 6.6900000e+05, 1.6076000e+07,\n",
       "       6.4960000e+05, 6.7000000e+06, 2.2000000e+05, 2.6650000e+05,\n",
       "       2.8790000e+06, 2.6500000e+07, 3.5100000e+05, 4.6761000e+07,\n",
       "       1.7500000e+05, 1.1241000e+07, 8.0400000e+05, 1.3400000e+06,\n",
       "       4.6700000e+05, 1.3300000e+05, 3.8230000e+06, 9.3400000e+05,\n",
       "       2.9300000e+05, 1.9800000e+05, 9.2700000e+05, 9.7100000e+05,\n",
       "       3.0600000e+06, 1.8620000e+06, 2.3200000e+05, 2.8880000e+06,\n",
       "       1.3280000e+06, 1.5500000e+07, 5.6000000e+07, 2.2500000e+06,\n",
       "       1.6753000e+07, 3.7000000e+06, 1.4700000e+06, 5.3000000e+05,\n",
       "       2.6700000e+05, 3.3440000e+06, 7.2000000e+06, 2.7430000e+06,\n",
       "       6.0820000e+06, 6.6090000e+06, 2.7700000e+07, 5.9400000e+06,\n",
       "       3.9640000e+06, 5.5000000e+06, 1.9700000e+05, 4.3270000e+06,\n",
       "       4.5900000e+05, 3.9370000e+06, 1.3135000e+06, 2.2980000e+05,\n",
       "       5.3050000e+06, 2.6400000e+05, 1.7500000e+06, 5.9670000e+06,\n",
       "       2.9800000e+06, 3.2300000e+05, 1.3260000e+06, 2.7000000e+07,\n",
       "       5.2000000e+06, 2.5300000e+06, 7.9200000e+05, 1.1363000e+07,\n",
       "       1.7150000e+06, 3.2900000e+05, 5.2710000e+06, 8.7000000e+06,\n",
       "       3.2260000e+06, 5.9000000e+06, 4.4000000e+07, 3.8790000e+06,\n",
       "       1.3000000e+07, 8.8000000e+06, 9.5000000e+06, 9.2000000e+05,\n",
       "       3.5600000e+07, 9.4000000e+06, 7.9000000e+05, 4.8000000e+05,\n",
       "       1.6000000e+05, 8.2000000e+06, 4.2570000e+06, 1.4100000e+06,\n",
       "       3.4980000e+05, 7.8600000e+05, 2.0040000e+06, 1.2300000e+08,\n",
       "       2.4800000e+05, 2.4000000e+07, 1.4259000e+07, 2.4500000e+07,\n",
       "       3.8000000e+06, 1.8370000e+07, 6.8525000e+07, 4.8000000e+06,\n",
       "       1.8340000e+06, 2.3850000e+07, 4.3000000e+07, 2.1600000e+07,\n",
       "       4.5980000e+06, 1.3137000e+07, 1.1500000e+08, 3.9000000e+06,\n",
       "       6.7000000e+05, 8.5000000e+06, 3.1480000e+06, 2.6000000e+06,\n",
       "       4.0495000e+06, 1.0500000e+07, 6.5000000e+06, 4.3700000e+07,\n",
       "       1.3800000e+07, 3.0690000e+05, 4.2000000e+05, 6.2730000e+05,\n",
       "       1.1300000e+08, 3.2000000e+07, 1.1000000e+08, 1.3970000e+06,\n",
       "       4.4850000e+05, 7.9757000e+06, 3.3000000e+05, 5.6000000e+06,\n",
       "       1.4020000e+06, 2.1500000e+07, 2.9600000e+08, 4.9000000e+06,\n",
       "       1.4024000e+06, 1.2618300e+07, 9.9000000e+06, 9.8253000e+05,\n",
       "       7.0185200e+07, 2.1000000e+08, 8.4000000e+07, 3.9000000e+07,\n",
       "       2.7000000e+06, 1.4034000e+06, 1.0500000e+08, 1.0300000e+08,\n",
       "       2.8130000e+05, 1.2700000e+04, 2.5000000e+04, 9.7500000e+07,\n",
       "       5.0700000e+05, 8.4000000e+06, 1.8300000e+07, 1.2500000e+08,\n",
       "       1.8100000e+05, 2.8000000e+05, 1.4700000e+07, 1.3200000e+07,\n",
       "       8.0430000e+06])"
      ]
     },
     "execution_count": 26,
     "metadata": {},
     "output_type": "execute_result"
    }
   ],
   "source": [
    "data['Amount'].unique()"
   ]
  },
  {
   "cell_type": "code",
   "execution_count": 27,
   "metadata": {},
   "outputs": [
    {
     "data": {
      "text/plain": [
       "count    8.010000e+02\n",
       "mean     1.130430e+08\n",
       "std      2.476635e+09\n",
       "min      1.270000e+04\n",
       "25%      1.000000e+06\n",
       "50%      3.000000e+06\n",
       "75%      1.100000e+07\n",
       "max      7.000000e+10\n",
       "Name: Amount, dtype: float64"
      ]
     },
     "execution_count": 27,
     "metadata": {},
     "output_type": "execute_result"
    }
   ],
   "source": [
    "# Statistical Summary \n",
    "data['Amount'].describe().T"
   ]
  },
  {
   "cell_type": "code",
   "execution_count": 28,
   "metadata": {},
   "outputs": [
    {
     "data": {
      "text/plain": [
       "array([None, 'Pre-seed', 'Seed', 'Pre-series A', 'Pre-series', 'Series C',\n",
       "       'Series A', 'Series B', 'Debt', 'Pre-series C', 'Pre-series B',\n",
       "       'Series E', 'Bridge', 'Series D', 'Series B2', 'Series F',\n",
       "       'Pre- series A', 'Edge', 'Series H', 'Pre-Series B', 'Seed A',\n",
       "       'Series A-1', 'Seed Funding', 'Pre-Seed', 'Seed round',\n",
       "       'Pre-seed Round', 'Seed Round & Series A', 'Pre Series A',\n",
       "       'Pre seed Round', 'Angel Round', 'Pre series A1', 'Series E2',\n",
       "       'Pre series A', 'Seed Round', 'Bridge Round', 'Pre seed round',\n",
       "       'Pre series B', 'Pre series C', 'Seed Investment', 'Series D1',\n",
       "       'Mid series', 'Series C, D', 'Seed funding'], dtype=object)"
      ]
     },
     "execution_count": 28,
     "metadata": {},
     "output_type": "execute_result"
    }
   ],
   "source": [
    "data['Stage'].unique()"
   ]
  },
  {
   "cell_type": "code",
   "execution_count": 29,
   "metadata": {},
   "outputs": [
    {
     "data": {
      "text/plain": [
       "Stage\n",
       "Series A        96\n",
       "Seed            80\n",
       "Seed Round      69\n",
       "Series B        57\n",
       "Pre series A    54\n",
       "Name: count, dtype: int64"
      ]
     },
     "execution_count": 29,
     "metadata": {},
     "output_type": "execute_result"
    }
   ],
   "source": [
    "Stage_counts = data['Stage'].value_counts()\n",
    "\n",
    "Stage_counts.head()"
   ]
  },
  {
   "cell_type": "markdown",
   "metadata": {},
   "source": [
    "Data cleaning 1st Dataset-2020 (Data)"
   ]
  },
  {
   "cell_type": "code",
   "execution_count": 30,
   "metadata": {},
   "outputs": [],
   "source": [
    " # Handling Company_Brand ensure all values start with upper case\n",
    "\n",
    "# Convert all enries to title\n",
    "data['Company_Brand'] = data['Company_Brand'].str.title()"
   ]
  },
  {
   "cell_type": "code",
   "execution_count": 31,
   "metadata": {},
   "outputs": [],
   "source": [
    "# Handling Headquarter Column \n",
    "\n",
    "# Find top HeadQuarters to be used randomnly in filling missing values \n",
    "top_HeadQuarter= ['Bangalore','Mumbai','Gurugram','Delhi','Chennai','Pune','New Delhi','Noida','Hyderabad','Gurgaon',\n",
    "'Ahmedabad','Kolkata','Haryana','Indore','Jaipur','Thane','Kochi','Gujarat','California','Singapore']\n",
    "\n",
    "# Fill missing value with random values from top 20 Hedquarter\n",
    "\n",
    "def  fill_missing_HeadQuarter (HeadQuarter):\n",
    "    if pd.isna(HeadQuarter):\n",
    "        return np.random.choice(top_HeadQuarter)\n",
    "    return HeadQuarter\n",
    "\n",
    "\n",
    "data['HeadQuarter']=data['HeadQuarter'].apply(fill_missing_HeadQuarter)\n",
    "\n",
    "\n",
    "# Convert all enries to title\n",
    "data['HeadQuarter'] = data['HeadQuarter'].str.title()\n"
   ]
  },
  {
   "cell_type": "code",
   "execution_count": 32,
   "metadata": {},
   "outputs": [],
   "source": [
    "# Handling Founded Column \n",
    "\n",
    "# Fill missing values with the median\n",
    "data['Founded'] = data['Founded'].fillna(data['Founded'].median())\n",
    "\n",
    "\n",
    "# Convert 'Founded'  to integer datatype \n",
    "data['Founded'] = data ['Founded'].astype(int)\n"
   ]
  },
  {
   "cell_type": "code",
   "execution_count": 33,
   "metadata": {},
   "outputs": [
    {
     "data": {
      "text/plain": [
       "0                 Agritech\n",
       "1                   Edtech\n",
       "2       Hygiene Management\n",
       "3                   Escrow\n",
       "4                 Agritech\n",
       "               ...        \n",
       "1050                Edtech\n",
       "1051               Fintech\n",
       "1052             Cosmetics\n",
       "1053             Transport\n",
       "1054              Logitech\n",
       "Name: Sector, Length: 1055, dtype: object"
      ]
     },
     "execution_count": 33,
     "metadata": {},
     "output_type": "execute_result"
    }
   ],
   "source": [
    "# Handling the Sector Column \n",
    "\n",
    "top_Sector =['Fintech','EdTech','Healthtech','SaaS','Ecommerce','AgriTech','Ai',\n",
    "             'Gaming', 'Logistics', 'Foodtech', 'Food', 'Entertainment', 'Tech Company', 'Iot', 'Cosmetics', 'Automobile']\n",
    "\n",
    "# Fill missing value with random values from top 16 Sector\n",
    "\n",
    "def  fill_missing_Sector (Sector):\n",
    "    if pd.isna(Sector):\n",
    "        return np.random.choice(top_Sector)\n",
    "    return Sector\n",
    "\n",
    "data['Sector']=data['Sector'].apply(fill_missing_Sector)\n",
    "\n",
    "# Convert all values to lower case\n",
    "data['Sector'] = data['Sector'].str.lower()\n",
    "\n",
    "import re\n",
    " \n",
    "def sector_redistribution(Sector):\n",
    "    if re.search('bank|fintech|finance|credit|mobile Payments|lending|crypto|financial services|account|credit|venture|crowd|blockchain|mutual funds|virtual banking|banking|', Sector):\n",
    "        return 'Finance'\n",
    "    elif re.search(r'automotive|air transport|transport|ticketing|logistics|vehicle|transportation|developer platform|app|', Sector):\n",
    "        return 'Transport'\n",
    "    elif re.search(r'agriTech|agri|farming|agriculture|agtech|', Sector):  \n",
    "        return 'Agriculture'\n",
    "    elif re.search(r'legal tech|automotive tech|automation|analytics|big data|cybersecurity|cloud infrastructure|automobile|infratech|biotechnology|automobile & technology|robotics & ai|e-marketplace|iot|ai|ecommerce|technology|saas|ai & tech|e-commerce|e-commerce|ar|fintech|hr tech|safety tech|', Sector):\n",
    "        return 'Technology'\n",
    "    elif re.search (r'marketing|customer loyalty|product research|advertising|brand marketing|event promotion|market research|', Sector):\n",
    "        return 'Marketing'\n",
    "    elif re.search (r'insurance technology|insurance|', Sector):\n",
    "        return 'Insurance '\n",
    "    elif re.search (r'food tech|food|food & nutrition|food & tech|snack food|food processing|nutrition|food & beverage|food delivery|', Sector):\n",
    "        return 'Food'\n",
    "    elif re.search (r'pharmaceutical|healthtech|personal health|peer to peer|health diagnostic|health|' , Sector):\n",
    "        return 'Health & Wellness'\n",
    "    elif re.search (r'yoga|sports|yoga & wellness|', Sector):\n",
    "        return 'Fitness'\n",
    "    elif re.search (r'manufacturing', Sector):\n",
    "        return 'Manufacturing'\n",
    "    elif re.search (r'cosmetics|beauty|', Sector):\n",
    "        return 'Beauty'\n",
    "    elif re.search(r'social media|broadcasting|video chat|messaging|online portals|media and entertainmwent|audio|e-sports|games|internet|gaming|', Sector):\n",
    "        return 'Info-media'\n",
    "    elif re.search(r'interior design|accomodation|home renovation|service industry|laundry and dry cleaning|home decor|home improvement|hospitality|hotel|leisure|', Sector):\n",
    "        return 'Sevice Industry'\n",
    "    elif re.search (r'edtech|education|learning|', Sector):\n",
    "        return 'Education'\n",
    "    elif re.search(r'fashion|eyewear|jewellery|lifestyle|', Sector):\n",
    "        return 'Fashion'\n",
    "    elif re.search(r' b2b|b2B|supply chain|marketplace|retail|entreprise software|retail|consumer goods|trading platform|consumer|', Sector):\n",
    "        return 'Entreprising'\n",
    "    elif re.search(r'waste management|', Sector):\n",
    "        return 'Environment'\n",
    "    elif re.search(r'rental|property|real estate|smart building', Sector):\n",
    "        return 'Real Estate'\n",
    "    elif re.search(r'fraud detection|security|intelligence|cyber security|public safety|', Sector):\n",
    "        return 'Security'\n",
    "    \n",
    "    else:\n",
    "        return Sector\n",
    "    \n",
    "    \n",
    "# Convert all entries to title case \n",
    "data['Sector'] = data['Sector'].str.title()\n",
    "    \n",
    "data['Sector'] \n",
    "\n",
    "\n",
    " "
   ]
  },
  {
   "cell_type": "code",
   "execution_count": 34,
   "metadata": {},
   "outputs": [
    {
     "data": {
      "text/plain": [
       "Sector\n",
       "Fintech       131\n",
       "Edtech        107\n",
       "Healthtech     42\n",
       "Agritech       39\n",
       "E-Commerce     33\n",
       "Saas           25\n",
       "Ecommerce      24\n",
       "Tech           19\n",
       "Ai             19\n",
       "Media          19\n",
       "Name: count, dtype: int64"
      ]
     },
     "execution_count": 34,
     "metadata": {},
     "output_type": "execute_result"
    }
   ],
   "source": [
    "Sector_counts = data['Sector'].value_counts()\n",
    "\n",
    "Sector_counts.head(10)"
   ]
  },
  {
   "cell_type": "code",
   "execution_count": 35,
   "metadata": {},
   "outputs": [],
   "source": [
    "#Handling Founders Column with the top Founders \n",
    "\n",
    "top_Founders =[ 'Falguni Nayar','Byju Raveendran','Mukesh Ambani','Saurabh Saxena',\n",
    "                'Pulkit Jain', 'Anand Prakash', 'Vamsi Krishna','Sreevathsa Prabhakar']\n",
    "\n",
    "# Fill missing value with random values from top 8 Founders\n",
    "\n",
    "def  fill_missing_Founders (Founders):\n",
    "    if pd.isna(Founders):\n",
    "        return np.random.choice(top_Founders)\n",
    "    return Founders\n",
    "\n",
    "data['Founders']=data['Founders'].apply(fill_missing_Founders)\n",
    "\n",
    "# Convert all entries to title case \n",
    "data['Founders'] = data['Founders'].str.title()"
   ]
  },
  {
   "cell_type": "code",
   "execution_count": 36,
   "metadata": {},
   "outputs": [],
   "source": [
    "# Handling the Investors Column ith the most appearing Investor\n",
    "\n",
    "top_Investor= ['Venture Catalysts','Angel Investors','Mumbai Angels Network','Inflection Point Ventures',\n",
    "               'Unicorn India Ventures','Sequoia','India', 'Chiratae Ventures','Better Capital','Trifecta Capital','Titan Capital']\n",
    "\n",
    "# Fill missing values \n",
    "def  fill_missing_Investor (Investor):\n",
    "    if pd.isna(Investor):\n",
    "        return np.random.choice(top_Investor)\n",
    "    return Investor\n",
    "\n",
    "data['Investor']=data['Investor'].apply(fill_missing_Investor)\n",
    "\n",
    "# Convert all entries to title\n",
    "data['Investor'] = data['Investor'].str.title()\n"
   ]
  },
  {
   "cell_type": "code",
   "execution_count": 37,
   "metadata": {},
   "outputs": [],
   "source": [
    "# Handling the Amount Column\n",
    "\n",
    "# For 'Amount', fill missing values with the median funding amount\n",
    "data['Amount'].fillna(data['Amount'].median(), inplace=True)"
   ]
  },
  {
   "cell_type": "code",
   "execution_count": 38,
   "metadata": {},
   "outputs": [],
   "source": [
    "\n",
    "# Fill missing value with random values from top 8 Founders\n",
    "\n",
    "top_Stage = ['Series A','Seed','Seed Round','Series B','Pre series A','Series C' ]\n",
    "\n",
    "def  fill_missing_Stage (Stage):\n",
    "    if pd.isna(Stage):\n",
    "        return np.random.choice(top_Stage)\n",
    "    return Stage\n",
    "\n",
    "data['Stage']=data['Stage'].apply(fill_missing_Stage)\n",
    "\n",
    "# Convert the stage column from object to category \n",
    "\n",
    "data['Stage'] = data['Stage'].astype('category')"
   ]
  },
  {
   "cell_type": "code",
   "execution_count": 39,
   "metadata": {},
   "outputs": [],
   "source": [
    "#Drop the Column10 column it has more than 98% NULL values and also in the 2021,2019,2018 data this column is not available meaning its impact is minimal\n",
    "data.drop('column10', axis=1, inplace=True)\n"
   ]
  },
  {
   "cell_type": "code",
   "execution_count": 40,
   "metadata": {},
   "outputs": [],
   "source": [
    "# Drop duplicates\n",
    "\n",
    "data.drop_duplicates( inplace=True)"
   ]
  },
  {
   "cell_type": "code",
   "execution_count": 41,
   "metadata": {},
   "outputs": [
    {
     "data": {
      "text/plain": [
       "0"
      ]
     },
     "execution_count": 41,
     "metadata": {},
     "output_type": "execute_result"
    }
   ],
   "source": [
    "# Check for duplicates\n",
    "\n",
    "data.duplicated().sum()"
   ]
  },
  {
   "cell_type": "code",
   "execution_count": 42,
   "metadata": {},
   "outputs": [],
   "source": [
    "# Add 'Year' Column 2020\n",
    "data['Year']= 2020\n",
    "\n",
    "# Convert year Column to a dataetime format\n",
    "data['Year'] = pd.to_datetime(data['Year'], format='%Y') \n"
   ]
  },
  {
   "cell_type": "code",
   "execution_count": 43,
   "metadata": {},
   "outputs": [
    {
     "data": {
      "text/plain": [
       "Company_Brand    0\n",
       "Founded          0\n",
       "HeadQuarter      0\n",
       "Sector           0\n",
       "What_it_does     0\n",
       "Founders         0\n",
       "Investor         0\n",
       "Amount           0\n",
       "Stage            0\n",
       "Year             0\n",
       "dtype: int64"
      ]
     },
     "execution_count": 43,
     "metadata": {},
     "output_type": "execute_result"
    }
   ],
   "source": [
    "#Check to confirm there are no missing values \n",
    "\n",
    "data.isnull().sum()"
   ]
  },
  {
   "cell_type": "code",
   "execution_count": 44,
   "metadata": {},
   "outputs": [
    {
     "name": "stdout",
     "output_type": "stream",
     "text": [
      "<class 'pandas.core.frame.DataFrame'>\n",
      "Index: 1054 entries, 0 to 1054\n",
      "Data columns (total 10 columns):\n",
      " #   Column         Non-Null Count  Dtype         \n",
      "---  ------         --------------  -----         \n",
      " 0   Company_Brand  1054 non-null   object        \n",
      " 1   Founded        1054 non-null   int32         \n",
      " 2   HeadQuarter    1054 non-null   object        \n",
      " 3   Sector         1054 non-null   object        \n",
      " 4   What_it_does   1054 non-null   object        \n",
      " 5   Founders       1054 non-null   object        \n",
      " 6   Investor       1054 non-null   object        \n",
      " 7   Amount         1054 non-null   float64       \n",
      " 8   Stage          1054 non-null   category      \n",
      " 9   Year           1054 non-null   datetime64[ns]\n",
      "dtypes: category(1), datetime64[ns](1), float64(1), int32(1), object(6)\n",
      "memory usage: 80.6+ KB\n"
     ]
    }
   ],
   "source": [
    "# Check how our 1st dataset (2020) looks like ---looks good to go\n",
    "data.info ()"
   ]
  },
  {
   "cell_type": "markdown",
   "metadata": {},
   "source": [
    "2nd Dataset-2021 (data2)\n",
    "\n",
    "* This dataset is loaded from SQL Database "
   ]
  },
  {
   "cell_type": "code",
   "execution_count": 45,
   "metadata": {},
   "outputs": [],
   "source": [
    "#Loading the second dataset which is our tabel 2 (Data2)\n",
    "query ='''SELECT * FROM dbo.LP1_startup_funding2021'''\n",
    " \n",
    "data2 = pd.read_sql(query, connection)\n"
   ]
  },
  {
   "cell_type": "code",
   "execution_count": 46,
   "metadata": {},
   "outputs": [
    {
     "data": {
      "text/html": [
       "<div>\n",
       "<style scoped>\n",
       "    .dataframe tbody tr th:only-of-type {\n",
       "        vertical-align: middle;\n",
       "    }\n",
       "\n",
       "    .dataframe tbody tr th {\n",
       "        vertical-align: top;\n",
       "    }\n",
       "\n",
       "    .dataframe thead th {\n",
       "        text-align: right;\n",
       "    }\n",
       "</style>\n",
       "<table border=\"1\" class=\"dataframe\">\n",
       "  <thead>\n",
       "    <tr style=\"text-align: right;\">\n",
       "      <th></th>\n",
       "      <th>Company_Brand</th>\n",
       "      <th>Founded</th>\n",
       "      <th>HeadQuarter</th>\n",
       "      <th>Sector</th>\n",
       "      <th>What_it_does</th>\n",
       "      <th>Founders</th>\n",
       "      <th>Investor</th>\n",
       "      <th>Amount</th>\n",
       "      <th>Stage</th>\n",
       "    </tr>\n",
       "  </thead>\n",
       "  <tbody>\n",
       "    <tr>\n",
       "      <th>0</th>\n",
       "      <td>Unbox Robotics</td>\n",
       "      <td>2019.0</td>\n",
       "      <td>Bangalore</td>\n",
       "      <td>AI startup</td>\n",
       "      <td>Unbox Robotics builds on-demand AI-driven ware...</td>\n",
       "      <td>Pramod Ghadge, Shahid Memon</td>\n",
       "      <td>BEENEXT, Entrepreneur First</td>\n",
       "      <td>$1,200,000</td>\n",
       "      <td>Pre-series A</td>\n",
       "    </tr>\n",
       "    <tr>\n",
       "      <th>1</th>\n",
       "      <td>upGrad</td>\n",
       "      <td>2015.0</td>\n",
       "      <td>Mumbai</td>\n",
       "      <td>EdTech</td>\n",
       "      <td>UpGrad is an online higher education platform.</td>\n",
       "      <td>Mayank Kumar, Phalgun Kompalli, Ravijot Chugh,...</td>\n",
       "      <td>Unilazer Ventures, IIFL Asset Management</td>\n",
       "      <td>$120,000,000</td>\n",
       "      <td>None</td>\n",
       "    </tr>\n",
       "    <tr>\n",
       "      <th>2</th>\n",
       "      <td>Lead School</td>\n",
       "      <td>2012.0</td>\n",
       "      <td>Mumbai</td>\n",
       "      <td>EdTech</td>\n",
       "      <td>LEAD School offers technology based school tra...</td>\n",
       "      <td>Smita Deorah, Sumeet Mehta</td>\n",
       "      <td>GSV Ventures, Westbridge Capital</td>\n",
       "      <td>$30,000,000</td>\n",
       "      <td>Series D</td>\n",
       "    </tr>\n",
       "    <tr>\n",
       "      <th>3</th>\n",
       "      <td>Bizongo</td>\n",
       "      <td>2015.0</td>\n",
       "      <td>Mumbai</td>\n",
       "      <td>B2B E-commerce</td>\n",
       "      <td>Bizongo is a business-to-business online marke...</td>\n",
       "      <td>Aniket Deb, Ankit Tomar, Sachin Agrawal</td>\n",
       "      <td>CDC Group, IDG Capital</td>\n",
       "      <td>$51,000,000</td>\n",
       "      <td>Series C</td>\n",
       "    </tr>\n",
       "    <tr>\n",
       "      <th>4</th>\n",
       "      <td>FypMoney</td>\n",
       "      <td>2021.0</td>\n",
       "      <td>Gurugram</td>\n",
       "      <td>FinTech</td>\n",
       "      <td>FypMoney is Digital NEO Bank for Teenagers, em...</td>\n",
       "      <td>Kapil Banwari</td>\n",
       "      <td>Liberatha Kallat, Mukesh Yadav, Dinesh Nagpal</td>\n",
       "      <td>$2,000,000</td>\n",
       "      <td>Seed</td>\n",
       "    </tr>\n",
       "  </tbody>\n",
       "</table>\n",
       "</div>"
      ],
      "text/plain": [
       "    Company_Brand  Founded HeadQuarter          Sector  \\\n",
       "0  Unbox Robotics   2019.0   Bangalore      AI startup   \n",
       "1          upGrad   2015.0      Mumbai          EdTech   \n",
       "2     Lead School   2012.0      Mumbai          EdTech   \n",
       "3         Bizongo   2015.0      Mumbai  B2B E-commerce   \n",
       "4        FypMoney   2021.0    Gurugram         FinTech   \n",
       "\n",
       "                                        What_it_does  \\\n",
       "0  Unbox Robotics builds on-demand AI-driven ware...   \n",
       "1     UpGrad is an online higher education platform.   \n",
       "2  LEAD School offers technology based school tra...   \n",
       "3  Bizongo is a business-to-business online marke...   \n",
       "4  FypMoney is Digital NEO Bank for Teenagers, em...   \n",
       "\n",
       "                                            Founders  \\\n",
       "0                        Pramod Ghadge, Shahid Memon   \n",
       "1  Mayank Kumar, Phalgun Kompalli, Ravijot Chugh,...   \n",
       "2                         Smita Deorah, Sumeet Mehta   \n",
       "3            Aniket Deb, Ankit Tomar, Sachin Agrawal   \n",
       "4                                      Kapil Banwari   \n",
       "\n",
       "                                        Investor        Amount         Stage  \n",
       "0                    BEENEXT, Entrepreneur First    $1,200,000  Pre-series A  \n",
       "1       Unilazer Ventures, IIFL Asset Management  $120,000,000          None  \n",
       "2               GSV Ventures, Westbridge Capital   $30,000,000      Series D  \n",
       "3                         CDC Group, IDG Capital   $51,000,000      Series C  \n",
       "4  Liberatha Kallat, Mukesh Yadav, Dinesh Nagpal    $2,000,000          Seed  "
      ]
     },
     "execution_count": 46,
     "metadata": {},
     "output_type": "execute_result"
    }
   ],
   "source": [
    "data2.head ()"
   ]
  },
  {
   "cell_type": "code",
   "execution_count": 81,
   "metadata": {},
   "outputs": [
    {
     "data": {
      "text/html": [
       "<div>\n",
       "<style scoped>\n",
       "    .dataframe tbody tr th:only-of-type {\n",
       "        vertical-align: middle;\n",
       "    }\n",
       "\n",
       "    .dataframe tbody tr th {\n",
       "        vertical-align: top;\n",
       "    }\n",
       "\n",
       "    .dataframe thead th {\n",
       "        text-align: right;\n",
       "    }\n",
       "</style>\n",
       "<table border=\"1\" class=\"dataframe\">\n",
       "  <thead>\n",
       "    <tr style=\"text-align: right;\">\n",
       "      <th></th>\n",
       "      <th>Company_Brand</th>\n",
       "      <th>Founded</th>\n",
       "      <th>HeadQuarter</th>\n",
       "      <th>Sector</th>\n",
       "      <th>What_it_does</th>\n",
       "      <th>Founders</th>\n",
       "      <th>Investor</th>\n",
       "      <th>Amount</th>\n",
       "      <th>Stage</th>\n",
       "      <th>Year</th>\n",
       "    </tr>\n",
       "  </thead>\n",
       "  <tbody>\n",
       "    <tr>\n",
       "      <th>1204</th>\n",
       "      <td>Gigforce</td>\n",
       "      <td>2019</td>\n",
       "      <td>Gurugram</td>\n",
       "      <td>Staffing &amp; Recruiting</td>\n",
       "      <td>A gig/on-demand staffing company.</td>\n",
       "      <td>Chirag Mittal, Anirudh Syal</td>\n",
       "      <td>Endiya Partners</td>\n",
       "      <td>3000000.0</td>\n",
       "      <td>Pre-series A</td>\n",
       "      <td>2021-01-01</td>\n",
       "    </tr>\n",
       "    <tr>\n",
       "      <th>1205</th>\n",
       "      <td>Vahdam</td>\n",
       "      <td>2015</td>\n",
       "      <td>New Delhi</td>\n",
       "      <td>Food &amp; Beverages</td>\n",
       "      <td>VAHDAM is among the world’s first vertically i...</td>\n",
       "      <td>Bala Sarda</td>\n",
       "      <td>Iifl Amc</td>\n",
       "      <td>20000000.0</td>\n",
       "      <td>Series D</td>\n",
       "      <td>2021-01-01</td>\n",
       "    </tr>\n",
       "    <tr>\n",
       "      <th>1206</th>\n",
       "      <td>Leap Finance</td>\n",
       "      <td>2019</td>\n",
       "      <td>Bangalore</td>\n",
       "      <td>Financial Services</td>\n",
       "      <td>International education loans for high potenti...</td>\n",
       "      <td>Arnav Kumar, Vaibhav Singh</td>\n",
       "      <td>Owl Ventures</td>\n",
       "      <td>55000000.0</td>\n",
       "      <td>Series C</td>\n",
       "      <td>2021-01-01</td>\n",
       "    </tr>\n",
       "    <tr>\n",
       "      <th>1207</th>\n",
       "      <td>Collegedekho</td>\n",
       "      <td>2015</td>\n",
       "      <td>Gurugram</td>\n",
       "      <td>Edtech</td>\n",
       "      <td>Collegedekho.com is Student’s Partner, Friend ...</td>\n",
       "      <td>Ruchir Arora</td>\n",
       "      <td>Winter Capital, Ets, Man Capital</td>\n",
       "      <td>26000000.0</td>\n",
       "      <td>Series B</td>\n",
       "      <td>2021-01-01</td>\n",
       "    </tr>\n",
       "    <tr>\n",
       "      <th>1208</th>\n",
       "      <td>Werize</td>\n",
       "      <td>2019</td>\n",
       "      <td>Bangalore</td>\n",
       "      <td>Financial Services</td>\n",
       "      <td>India’s first socially distributed full stack ...</td>\n",
       "      <td>Vishal Chopra, Himanshu Gupta</td>\n",
       "      <td>3One4 Capital, Kalaari Capital</td>\n",
       "      <td>8000000.0</td>\n",
       "      <td>Series A</td>\n",
       "      <td>2021-01-01</td>\n",
       "    </tr>\n",
       "  </tbody>\n",
       "</table>\n",
       "</div>"
      ],
      "text/plain": [
       "     Company_Brand  Founded HeadQuarter                 Sector  \\\n",
       "1204      Gigforce     2019    Gurugram  Staffing & Recruiting   \n",
       "1205        Vahdam     2015   New Delhi       Food & Beverages   \n",
       "1206  Leap Finance     2019   Bangalore     Financial Services   \n",
       "1207  Collegedekho     2015    Gurugram                 Edtech   \n",
       "1208        Werize     2019   Bangalore     Financial Services   \n",
       "\n",
       "                                           What_it_does  \\\n",
       "1204                  A gig/on-demand staffing company.   \n",
       "1205  VAHDAM is among the world’s first vertically i...   \n",
       "1206  International education loans for high potenti...   \n",
       "1207  Collegedekho.com is Student’s Partner, Friend ...   \n",
       "1208  India’s first socially distributed full stack ...   \n",
       "\n",
       "                           Founders                          Investor  \\\n",
       "1204    Chirag Mittal, Anirudh Syal                   Endiya Partners   \n",
       "1205                     Bala Sarda                          Iifl Amc   \n",
       "1206     Arnav Kumar, Vaibhav Singh                      Owl Ventures   \n",
       "1207                   Ruchir Arora  Winter Capital, Ets, Man Capital   \n",
       "1208  Vishal Chopra, Himanshu Gupta    3One4 Capital, Kalaari Capital   \n",
       "\n",
       "          Amount         Stage       Year  \n",
       "1204   3000000.0  Pre-series A 2021-01-01  \n",
       "1205  20000000.0      Series D 2021-01-01  \n",
       "1206  55000000.0      Series C 2021-01-01  \n",
       "1207  26000000.0      Series B 2021-01-01  \n",
       "1208   8000000.0      Series A 2021-01-01  "
      ]
     },
     "execution_count": 81,
     "metadata": {},
     "output_type": "execute_result"
    }
   ],
   "source": [
    "data2.tail ()"
   ]
  },
  {
   "cell_type": "code",
   "execution_count": 48,
   "metadata": {},
   "outputs": [
    {
     "name": "stdout",
     "output_type": "stream",
     "text": [
      "<class 'pandas.core.frame.DataFrame'>\n",
      "RangeIndex: 1209 entries, 0 to 1208\n",
      "Data columns (total 9 columns):\n",
      " #   Column         Non-Null Count  Dtype  \n",
      "---  ------         --------------  -----  \n",
      " 0   Company_Brand  1209 non-null   object \n",
      " 1   Founded        1208 non-null   float64\n",
      " 2   HeadQuarter    1208 non-null   object \n",
      " 3   Sector         1209 non-null   object \n",
      " 4   What_it_does   1209 non-null   object \n",
      " 5   Founders       1205 non-null   object \n",
      " 6   Investor       1147 non-null   object \n",
      " 7   Amount         1206 non-null   object \n",
      " 8   Stage          781 non-null    object \n",
      "dtypes: float64(1), object(8)\n",
      "memory usage: 85.1+ KB\n"
     ]
    }
   ],
   "source": [
    "data2.info()"
   ]
  },
  {
   "cell_type": "code",
   "execution_count": 49,
   "metadata": {},
   "outputs": [
    {
     "data": {
      "text/plain": [
       "Index(['Company_Brand', 'Founded', 'HeadQuarter', 'Sector', 'What_it_does',\n",
       "       'Founders', 'Investor', 'Amount', 'Stage'],\n",
       "      dtype='object')"
      ]
     },
     "execution_count": 49,
     "metadata": {},
     "output_type": "execute_result"
    }
   ],
   "source": [
    "data2.columns "
   ]
  },
  {
   "cell_type": "code",
   "execution_count": 50,
   "metadata": {},
   "outputs": [
    {
     "data": {
      "text/plain": [
       "(1209, 9)"
      ]
     },
     "execution_count": 50,
     "metadata": {},
     "output_type": "execute_result"
    }
   ],
   "source": [
    "data2.shape"
   ]
  },
  {
   "cell_type": "code",
   "execution_count": 51,
   "metadata": {},
   "outputs": [
    {
     "data": {
      "text/html": [
       "<div>\n",
       "<style scoped>\n",
       "    .dataframe tbody tr th:only-of-type {\n",
       "        vertical-align: middle;\n",
       "    }\n",
       "\n",
       "    .dataframe tbody tr th {\n",
       "        vertical-align: top;\n",
       "    }\n",
       "\n",
       "    .dataframe thead th {\n",
       "        text-align: right;\n",
       "    }\n",
       "</style>\n",
       "<table border=\"1\" class=\"dataframe\">\n",
       "  <thead>\n",
       "    <tr style=\"text-align: right;\">\n",
       "      <th></th>\n",
       "      <th>count</th>\n",
       "      <th>mean</th>\n",
       "      <th>std</th>\n",
       "      <th>min</th>\n",
       "      <th>25%</th>\n",
       "      <th>50%</th>\n",
       "      <th>75%</th>\n",
       "      <th>max</th>\n",
       "    </tr>\n",
       "  </thead>\n",
       "  <tbody>\n",
       "    <tr>\n",
       "      <th>Founded</th>\n",
       "      <td>1208.0</td>\n",
       "      <td>2016.655629</td>\n",
       "      <td>4.517364</td>\n",
       "      <td>1963.0</td>\n",
       "      <td>2015.0</td>\n",
       "      <td>2018.0</td>\n",
       "      <td>2020.0</td>\n",
       "      <td>2021.0</td>\n",
       "    </tr>\n",
       "  </tbody>\n",
       "</table>\n",
       "</div>"
      ],
      "text/plain": [
       "          count         mean       std     min     25%     50%     75%     max\n",
       "Founded  1208.0  2016.655629  4.517364  1963.0  2015.0  2018.0  2020.0  2021.0"
      ]
     },
     "execution_count": 51,
     "metadata": {},
     "output_type": "execute_result"
    }
   ],
   "source": [
    "data2.describe().T"
   ]
  },
  {
   "cell_type": "code",
   "execution_count": 52,
   "metadata": {},
   "outputs": [
    {
     "data": {
      "text/plain": [
       "19"
      ]
     },
     "execution_count": 52,
     "metadata": {},
     "output_type": "execute_result"
    }
   ],
   "source": [
    "data2.duplicated().sum()"
   ]
  },
  {
   "cell_type": "code",
   "execution_count": 53,
   "metadata": {},
   "outputs": [
    {
     "data": {
      "text/html": [
       "<div>\n",
       "<style scoped>\n",
       "    .dataframe tbody tr th:only-of-type {\n",
       "        vertical-align: middle;\n",
       "    }\n",
       "\n",
       "    .dataframe tbody tr th {\n",
       "        vertical-align: top;\n",
       "    }\n",
       "\n",
       "    .dataframe thead th {\n",
       "        text-align: right;\n",
       "    }\n",
       "</style>\n",
       "<table border=\"1\" class=\"dataframe\">\n",
       "  <thead>\n",
       "    <tr style=\"text-align: right;\">\n",
       "      <th></th>\n",
       "      <th>Null Count</th>\n",
       "      <th>Percentage</th>\n",
       "    </tr>\n",
       "  </thead>\n",
       "  <tbody>\n",
       "    <tr>\n",
       "      <th>Company_Brand</th>\n",
       "      <td>0</td>\n",
       "      <td>0.000000</td>\n",
       "    </tr>\n",
       "    <tr>\n",
       "      <th>Founded</th>\n",
       "      <td>1</td>\n",
       "      <td>0.094877</td>\n",
       "    </tr>\n",
       "    <tr>\n",
       "      <th>HeadQuarter</th>\n",
       "      <td>1</td>\n",
       "      <td>0.094877</td>\n",
       "    </tr>\n",
       "    <tr>\n",
       "      <th>Sector</th>\n",
       "      <td>0</td>\n",
       "      <td>0.000000</td>\n",
       "    </tr>\n",
       "    <tr>\n",
       "      <th>What_it_does</th>\n",
       "      <td>0</td>\n",
       "      <td>0.000000</td>\n",
       "    </tr>\n",
       "    <tr>\n",
       "      <th>Founders</th>\n",
       "      <td>4</td>\n",
       "      <td>0.379507</td>\n",
       "    </tr>\n",
       "    <tr>\n",
       "      <th>Investor</th>\n",
       "      <td>62</td>\n",
       "      <td>5.882353</td>\n",
       "    </tr>\n",
       "    <tr>\n",
       "      <th>Amount</th>\n",
       "      <td>3</td>\n",
       "      <td>0.284630</td>\n",
       "    </tr>\n",
       "    <tr>\n",
       "      <th>Stage</th>\n",
       "      <td>428</td>\n",
       "      <td>40.607211</td>\n",
       "    </tr>\n",
       "  </tbody>\n",
       "</table>\n",
       "</div>"
      ],
      "text/plain": [
       "               Null Count  Percentage\n",
       "Company_Brand           0    0.000000\n",
       "Founded                 1    0.094877\n",
       "HeadQuarter             1    0.094877\n",
       "Sector                  0    0.000000\n",
       "What_it_does            0    0.000000\n",
       "Founders                4    0.379507\n",
       "Investor               62    5.882353\n",
       "Amount                  3    0.284630\n",
       "Stage                 428   40.607211"
      ]
     },
     "execution_count": 53,
     "metadata": {},
     "output_type": "execute_result"
    }
   ],
   "source": [
    "# Missing values with their percentages \n",
    "data2.isnull().sum().to_frame('Null Count').assign(Percentage=lambda x: (x['Null Count'] / len(data)) * 100)"
   ]
  },
  {
   "cell_type": "code",
   "execution_count": 54,
   "metadata": {},
   "outputs": [
    {
     "data": {
      "text/plain": [
       "array(['Unbox Robotics', 'upGrad', 'Lead School', ..., 'Gigforce',\n",
       "       'Vahdam', 'WeRize'], dtype=object)"
      ]
     },
     "execution_count": 54,
     "metadata": {},
     "output_type": "execute_result"
    }
   ],
   "source": [
    "data2['Company_Brand'].unique()"
   ]
  },
  {
   "cell_type": "code",
   "execution_count": 55,
   "metadata": {},
   "outputs": [
    {
     "data": {
      "text/plain": [
       "array([2019., 2015., 2012., 2021., 2014., 2018., 2016., 2020., 2010.,\n",
       "       2017., 1993., 2008., 2013., 1999., 1989., 2011.,   nan, 2009.,\n",
       "       2002., 1994., 2006., 2000., 2007., 1978., 2003., 1998., 1991.,\n",
       "       1984., 2004., 2005., 1963.])"
      ]
     },
     "execution_count": 55,
     "metadata": {},
     "output_type": "execute_result"
    }
   ],
   "source": [
    "data2['Founded'].unique()"
   ]
  },
  {
   "cell_type": "code",
   "execution_count": 56,
   "metadata": {},
   "outputs": [
    {
     "data": {
      "text/plain": [
       "HeadQuarter\n",
       "Bangalore    426\n",
       "Mumbai       203\n",
       "Gurugram     155\n",
       "New Delhi    144\n",
       "Pune          47\n",
       "Name: count, dtype: int64"
      ]
     },
     "execution_count": 56,
     "metadata": {},
     "output_type": "execute_result"
    }
   ],
   "source": [
    "HeadQuarter_counts = data2['HeadQuarter'].value_counts()\n",
    "\n",
    "HeadQuarter_counts.head()"
   ]
  },
  {
   "cell_type": "code",
   "execution_count": 57,
   "metadata": {},
   "outputs": [
    {
     "data": {
      "text/plain": [
       "array(['Bangalore', 'Mumbai', 'Gurugram', 'New Delhi', 'Hyderabad',\n",
       "       'Jaipur', 'Ahmadabad', 'Chennai', None,\n",
       "       'Small Towns, Andhra Pradesh', 'Goa', 'Rajsamand', 'Ranchi',\n",
       "       'Faridabad, Haryana', 'Gujarat', 'Pune', 'Thane', 'Computer Games',\n",
       "       'Cochin', 'Noida', 'Chandigarh', 'Gurgaon', 'Vadodara',\n",
       "       'Food & Beverages', 'Pharmaceuticals\\t#REF!', 'Gurugram\\t#REF!',\n",
       "       'Kolkata', 'Ahmedabad', 'Mohali', 'Haryana', 'Indore', 'Powai',\n",
       "       'Ghaziabad', 'Nagpur', 'West Bengal', 'Patna', 'Samsitpur',\n",
       "       'Lucknow', 'Telangana', 'Silvassa', 'Thiruvananthapuram',\n",
       "       'Faridabad', 'Roorkee', 'Ambernath', 'Panchkula', 'Surat',\n",
       "       'Coimbatore', 'Andheri', 'Mangalore', 'Telugana', 'Bhubaneswar',\n",
       "       'Kottayam', 'Beijing', 'Panaji', 'Satara', 'Orissia', 'Jodhpur',\n",
       "       'New York', 'Santra', 'Mountain View, CA', 'Trivandrum',\n",
       "       'Jharkhand', 'Kanpur', 'Bhilwara', 'Guwahati',\n",
       "       'Online Media\\t#REF!', 'Kochi', 'London',\n",
       "       'Information Technology & Services', 'The Nilgiris', 'Gandhinagar'],\n",
       "      dtype=object)"
      ]
     },
     "execution_count": 57,
     "metadata": {},
     "output_type": "execute_result"
    }
   ],
   "source": [
    "data2['HeadQuarter'].unique()"
   ]
  },
  {
   "cell_type": "code",
   "execution_count": 58,
   "metadata": {},
   "outputs": [
    {
     "data": {
      "text/plain": [
       "Founders\n",
       "Ashneer Grover, Shashvat Nakrani    7\n",
       "Byju Raveendran, Divya Gokulnath    5\n",
       "Bhavish Aggarwal                    4\n",
       "Ritesh Agarwal                      4\n",
       "Nirmit Parikh                       3\n",
       "Kunal Shah                          3\n",
       "Kshama Fernandes                    3\n",
       "Name: count, dtype: int64"
      ]
     },
     "execution_count": 58,
     "metadata": {},
     "output_type": "execute_result"
    }
   ],
   "source": [
    "Founders_counts = data2['Founders'].value_counts()\n",
    "\n",
    "Founders_counts.head(7)"
   ]
  },
  {
   "cell_type": "code",
   "execution_count": 59,
   "metadata": {},
   "outputs": [
    {
     "data": {
      "text/plain": [
       "Investor\n",
       "Inflection Point Ventures    24\n",
       "Tiger Global                 11\n",
       "Venture Catalysts            11\n",
       "Elevation Capital             7\n",
       "Titan Capital                 6\n",
       "We Founder Circle             6\n",
       "Anicut Angel Fund             5\n",
       "Sequoia Capital India         5\n",
       "Kalaari Capital               5\n",
       "Sixth Sense Ventures          5\n",
       "Blue Ashva Capital            4\n",
       "Name: count, dtype: int64"
      ]
     },
     "execution_count": 59,
     "metadata": {},
     "output_type": "execute_result"
    }
   ],
   "source": [
    "Investor_counts = data2['Investor'].value_counts()\n",
    "\n",
    "Investor_counts.head(11)"
   ]
  },
  {
   "cell_type": "code",
   "execution_count": 60,
   "metadata": {},
   "outputs": [
    {
     "data": {
      "text/plain": [
       "array(['Pre-series A', None, 'Series D', 'Series C', 'Seed', 'Series B',\n",
       "       'Series E', 'Pre-seed', 'Series A', 'Pre-series B', 'Debt',\n",
       "       '$1200000', 'Bridge', 'Seed+', 'Series F2', 'Series A+',\n",
       "       'Series G', 'Series F', 'Series H', 'Series B3', 'PE', 'Series F1',\n",
       "       'Pre-series A1', '$300000', 'Early seed', 'Series D1', '$6000000',\n",
       "       '$1000000', 'Seies A', 'Pre-series', 'Series A2', 'Series I'],\n",
       "      dtype=object)"
      ]
     },
     "execution_count": 60,
     "metadata": {},
     "output_type": "execute_result"
    }
   ],
   "source": [
    "data2['Stage'].unique()"
   ]
  },
  {
   "cell_type": "code",
   "execution_count": 61,
   "metadata": {},
   "outputs": [
    {
     "data": {
      "text/plain": [
       "Stage\n",
       "Seed            246\n",
       "Pre-series A    157\n",
       "Series A        126\n",
       "Series B         49\n",
       "Pre-seed         47\n",
       "Series C         45\n",
       "Debt             27\n",
       "Name: count, dtype: int64"
      ]
     },
     "execution_count": 61,
     "metadata": {},
     "output_type": "execute_result"
    }
   ],
   "source": [
    "Stage_counts = data2['Stage'].value_counts()\n",
    "\n",
    "Stage_counts.head(7)"
   ]
  },
  {
   "cell_type": "code",
   "execution_count": 62,
   "metadata": {},
   "outputs": [
    {
     "data": {
      "text/plain": [
       "array(['AI startup', 'EdTech', 'B2B E-commerce', 'FinTech',\n",
       "       'Home services', 'HealthTech', 'Tech Startup', 'E-commerce',\n",
       "       'B2B service', 'Helathcare', 'Renewable Energy', 'Electronics',\n",
       "       'IT startup', 'Food & Beverages', 'Aeorspace', 'Deep Tech',\n",
       "       'Dating', 'Gaming', 'Robotics', 'Retail', 'Food', 'Oil and Energy',\n",
       "       'AgriTech', 'Telecommuncation', 'Milk startup', 'AI Chatbot', 'IT',\n",
       "       'Logistics', 'Hospitality', 'Fashion', 'Marketing',\n",
       "       'Transportation', 'LegalTech', 'Food delivery', 'Automotive',\n",
       "       'SaaS startup', 'Fantasy sports', 'Video communication',\n",
       "       'Social Media', 'Skill development', 'Rental', 'Recruitment',\n",
       "       'HealthCare', 'Sports', 'Computer Games', 'Consumer Goods',\n",
       "       'Information Technology', 'Apparel & Fashion',\n",
       "       'Logistics & Supply Chain', 'Healthtech', 'Healthcare',\n",
       "       'SportsTech', 'HRTech', 'Wine & Spirits',\n",
       "       'Mechanical & Industrial Engineering', 'Spiritual',\n",
       "       'Financial Services', 'Industrial Automation', 'Health',\n",
       "       'Lifestyle', 'IoT', 'Banking', 'Computer software', 'Tech startup',\n",
       "       'Digital mortgage', 'Information Technology & Services',\n",
       "       'Furniture', 'B2B marketplace', 'Healtcare', 'Location Analytics',\n",
       "       'Media', 'Consumer Electronics', 'Tobacco', 'Deeptech',\n",
       "       'Insuretech', 'MLOps platform', 'Venture Capital', 'Pet care',\n",
       "       'Drone', 'Wholesale', 'Construction', 'E-learning',\n",
       "       'Consumer Services', 'Venture Capital & Private Equity',\n",
       "       'Health, Wellness & Fitness', 'OTT', 'Education Management',\n",
       "       'Computer Software', 'Insurance', 'Software Startup',\n",
       "       'Computer & Network Security', 'Capital Markets', 'Social network',\n",
       "       'Hospital & Health Care', 'Music', 'Hauz Khas',\n",
       "       'Primary Business is Development and Manufacturing of Novel Healthcare Products in Effervescent forms using imported propriety ingredients.',\n",
       "       \"MoEVing is India's only Electric Mobility focused Technology Platform with a vision to accelerate EV adoption in India.\",\n",
       "       'Cosmetics', 'Mobility', 'Social media', 'Real Estate',\n",
       "       'Digital platform', 'B2B Ecommerce', 'Online Media',\n",
       "       'Social commerce', 'Mobile Games', 'Food Production', 'Podcast',\n",
       "       'HeathTech', 'Battery', 'Content publishing', 'Water purification',\n",
       "       'Content commerce', 'Innovation Management', 'Software company',\n",
       "       'Automation', 'Food Industry', 'Celebrity Engagement',\n",
       "       'Trading platform', 'Personal Care', 'Cannabis startup',\n",
       "       'Blogging', 'Consulting', 'BioTechnology', 'B2B Marketplace',\n",
       "       'Health care', 'Social audio', 'Fashion and lifestyle',\n",
       "       'Delivery service', 'B2B Manufacturing', 'Home Decor', 'Solar',\n",
       "       'TaaS startup', 'EV startup', 'HR Tech', 'Blockchain startup',\n",
       "       'Food and Beverages', 'Beverages', 'Manufacturing startup',\n",
       "       'Cryptocurrency', 'Vehicle repair startup', 'Advisory firm',\n",
       "       'Legaltech', 'Pollution control equiptment', 'Fashion & Lifestyle',\n",
       "       'Blockchain', 'Fitness', 'D2C', 'Automobile',\n",
       "       'Environmental Services', 'Merchandise', 'Facilities Services',\n",
       "       'Marketing & Advertising', 'Human Resources', 'Eyewear',\n",
       "       'D2C Business', 'Biotechnology', 'Farming', 'NFT Marketplace',\n",
       "       'Internet', 'SpaceTech', 'Consumer software', 'Social community',\n",
       "       'Fishery', 'Renewables & Environment', 'Online storytelling',\n",
       "       'Aviation', 'IT company', 'Environmental service',\n",
       "       'Job discovery platform', 'D2C Fashion', 'Heathcare', 'CRM',\n",
       "       'Software', 'Nutrition', 'D2C startup', 'Innovation management',\n",
       "       'Community platform', 'Venture capitalist', 'Networking',\n",
       "       'Commercial Real Estate', 'AR startup', 'Consumer service',\n",
       "       'Consumer goods', 'MarTech', 'Advertisement', 'Content creation',\n",
       "       'Augmented reality', 'Rental space', 'Bike Rental',\n",
       "       'Beauty products', 'Tourism', 'FemTech', 'Cultural', 'Co-working',\n",
       "       'InsureTech', 'Supply chain platform', 'Social platform',\n",
       "       'CleanTech', 'Real estate', 'AI company', 'Sports startup',\n",
       "       'Matrimony', 'Crypto', 'Clothing', 'Analytics', 'Finance',\n",
       "       'IoT platform', 'Commerce', 'Defense & Space', 'Entertainment',\n",
       "       'Business Supplies & Equipment', 'NFT', 'Oil & Energy', 'EV',\n",
       "       'Company-as-a-Service', 'Textiles',\n",
       "       'Professional Training & Coaching', 'Maritime',\n",
       "       'Housing Marketplace', 'Furniture Rental', 'Telecommunications',\n",
       "       'Equity Management', 'Cloud kitchen', 'Nanotechnology',\n",
       "       'Community', 'Higher Education', 'B2B',\n",
       "       'Mechanical Or Industrial Engineering', 'D2C jewellery',\n",
       "       'Sales and Distribution', 'SaaS', 'Information Services',\n",
       "       'Translation & Localization', 'Investment Banking', 'Femtech',\n",
       "       'sports', 'Foootwear', 'Legal Services', 'Veterinary',\n",
       "       'Arts & Crafts', 'Investment Management', 'Education',\n",
       "       'Management Consulting', 'B2B startup',\n",
       "       'Sochcast is an Audio experiences company that give the listener and creators an Immersive Audio experience',\n",
       "       'Design', 'B2B Travel', 'Interior Design',\n",
       "       'Manchester, Greater Manchester', 'Product studio',\n",
       "       'Aviation & Aerospace', 'Staffing & Recruiting'], dtype=object)"
      ]
     },
     "execution_count": 62,
     "metadata": {},
     "output_type": "execute_result"
    }
   ],
   "source": [
    "data2['Sector'].unique()"
   ]
  },
  {
   "cell_type": "code",
   "execution_count": 63,
   "metadata": {},
   "outputs": [
    {
     "data": {
      "text/plain": [
       "Sector\n",
       "FinTech               122\n",
       "EdTech                102\n",
       "Financial Services     61\n",
       "E-commerce             37\n",
       "Food & Beverages       37\n",
       "Name: count, dtype: int64"
      ]
     },
     "execution_count": 63,
     "metadata": {},
     "output_type": "execute_result"
    }
   ],
   "source": [
    "Sector_counts = data2['Sector'].value_counts()\n",
    "\n",
    "Sector_counts.head()"
   ]
  },
  {
   "cell_type": "code",
   "execution_count": 64,
   "metadata": {},
   "outputs": [
    {
     "data": {
      "text/plain": [
       "Sector\n",
       "Professional Training & Coaching                                                                               2\n",
       "Real Estate                                                                                                    7\n",
       "Real estate                                                                                                    1\n",
       "Recruitment                                                                                                    5\n",
       "Renewable Energy                                                                                               6\n",
       "Renewables & Environment                                                                                       3\n",
       "Rental                                                                                                         2\n",
       "Rental space                                                                                                   2\n",
       "Retail                                                                                                        18\n",
       "Robotics                                                                                                       1\n",
       "SaaS                                                                                                           2\n",
       "SaaS startup                                                                                                  13\n",
       "Sales and Distribution                                                                                         1\n",
       "Skill development                                                                                              1\n",
       "Sochcast is an Audio experiences company that give the listener and creators an Immersive Audio experience     1\n",
       "Social Media                                                                                                   3\n",
       "Social audio                                                                                                   1\n",
       "Social commerce                                                                                                4\n",
       "Social community                                                                                               1\n",
       "Social media                                                                                                   1\n",
       "Social network                                                                                                 3\n",
       "Social platform                                                                                                1\n",
       "Software                                                                                                       2\n",
       "Software Startup                                                                                               2\n",
       "Software company                                                                                               1\n",
       "Solar                                                                                                          4\n",
       "SpaceTech                                                                                                      4\n",
       "Spiritual                                                                                                      1\n",
       "Sports                                                                                                         2\n",
       "Sports startup                                                                                                 2\n",
       "SportsTech                                                                                                     3\n",
       "Staffing & Recruiting                                                                                          1\n",
       "Supply chain platform                                                                                          1\n",
       "TaaS startup                                                                                                   1\n",
       "Tech Startup                                                                                                  11\n",
       "Tech startup                                                                                                   3\n",
       "Telecommuncation                                                                                               1\n",
       "Telecommunications                                                                                             2\n",
       "Textiles                                                                                                       2\n",
       "Tobacco                                                                                                        1\n",
       "Tourism                                                                                                        1\n",
       "Trading platform                                                                                               1\n",
       "Translation & Localization                                                                                     1\n",
       "Transportation                                                                                                 6\n",
       "Vehicle repair startup                                                                                         1\n",
       "Venture Capital                                                                                                1\n",
       "Venture Capital & Private Equity                                                                               2\n",
       "Venture capitalist                                                                                             1\n",
       "Veterinary                                                                                                     1\n",
       "Video communication                                                                                            1\n",
       "Name: count, dtype: int64"
      ]
     },
     "execution_count": 64,
     "metadata": {},
     "output_type": "execute_result"
    }
   ],
   "source": [
    "# Get the value counts in Sector column sorted alphabetically\n",
    "Sector_counts = data2['Sector'].value_counts().sort_index()\n",
    "\n",
    "Sector_counts[200:250]"
   ]
  },
  {
   "cell_type": "code",
   "execution_count": 65,
   "metadata": {},
   "outputs": [
    {
     "data": {
      "text/plain": [
       "array(['$1,200,000', '$120,000,000', '$30,000,000', '$51,000,000',\n",
       "       '$2,000,000', '$188,000,000', '$200,000', 'Undisclosed',\n",
       "       '$1,000,000', '$3,000,000', '$100,000', '$700,000', '$9,000,000',\n",
       "       '$40,000,000', '$49,000,000', '$400,000', '$300,000',\n",
       "       '$25,000,000', '$160,000,000', '$150,000', '$1,800,000',\n",
       "       '$5,000,000', '$850,000', '$53,000,000', '$500,000', '$1,100,000',\n",
       "       '$6,000,000', '$800,000', '$10,000,000', '$21,000,000',\n",
       "       '$7,500,000', '$26,000,000', '$7,400,000', '$1,500,000',\n",
       "       '$600,000', '$800,000,000', '$17,000,000', '$3,500,000',\n",
       "       '$15,000,000', '$215,000,000', '$2,500,000', '$350,000,000',\n",
       "       '$5,500,000', '$83,000,000', '$110,000,000', '$500,000,000',\n",
       "       '$65,000,000', '$150,000,000,000', '$300,000,000', '$2,200,000',\n",
       "       '$35,000,000', '$140,000,000', '$4,000,000', '$13,000,000', None,\n",
       "       '$Undisclosed', '$2000000', '$800000', '$6000000', '$2500000',\n",
       "       '$9500000', '$13000000', '$5000000', '$8000000', '$1000000',\n",
       "       'Upsparks', '$200000', '$12000000', '$1500000', '$1700000',\n",
       "       '$5500000', '$400000', '$150000000', '$4000000', '$100000000',\n",
       "       '$500000', '$15000000', '$10000000', '$40000000', '$225000000',\n",
       "       '$6700000', '$1300000', '$20000000', '$250000', '$21000000',\n",
       "       '$1200000', '$52000000', '$3800000', '$17500000', '$42000000',\n",
       "       '$2300000', '$7000000', '$30000000', '$450000000', '$28000000',\n",
       "       '$300000', '$3500000', '$8500000', '$25000000', '$3000000',\n",
       "       '$37000000', '$370000000', '$700000', '$16000000', '$100000',\n",
       "       '$44000000', '$770000', '$125000000', '$35000000', '$50000000',\n",
       "       '$4900000', '$145000000', '$22000000', '$70000000', '$6600000',\n",
       "       '$32000000', '$24000000', '$725000', '$461000', 'Series C', 'Seed',\n",
       "       '$96000000', '$60000000', '$500000000', '$266000000', '$4500000',\n",
       "       '$325000000', '$6500000', '$1600000', '$150000', '$225000',\n",
       "       '$85000000', '$235000', '$260000', '$2900000', '$53000000',\n",
       "       '$1100000', '$86000000', '$130000', '$$100,00', '$111000000',\n",
       "       '$265000', '$76000000', '$100,000,000', '$75,000,000',\n",
       "       '$3,800,000', '$12,000,000', '$1,600,000', '$260,000',\n",
       "       '$1,000,000,000', '$18,000,000', '$20,000,000', '$350,000',\n",
       "       '$95,000,000', '$4,100,000', '$5,200,000', '$8,000,000',\n",
       "       '$1,400,000', '$2,600,000', '$900,000', '$250,000', '$16,000,000',\n",
       "       '$7,000,000', '$11,000,000', '$280,000,000', '$50,000,000',\n",
       "       '$14,300,000', '$81,000,000', '$1,300,000', '$8,200,000',\n",
       "       '$70,000,000', '$720,000', '$600000', '$9000000', '$1800000',\n",
       "       '$330000', '$undisclosed', '$200000000', '$36000000', '$67000000',\n",
       "       '$10200000', '$220000000', '$108000000', '$75000000', '$450000',\n",
       "       '$660000000', 'ah! Ventures', '$45000000', '$3200000', '$370000',\n",
       "       'Pre-series A', 'ITO Angel Network, LetsVenture', '$48000000',\n",
       "       '$3600000', '$11000000', '$192000000', '$65000000', '$1400000',\n",
       "       '$1900000', '$41000000', '$144000000', '$5200000', '$270000000',\n",
       "       '$140000', '$250000000', '$320000', '$350000000', '$4800000',\n",
       "       '$38000000', '$125000', '$26000000', '$64000000', '$620000',\n",
       "       '$900000', 'JITO Angel Network, LetsVenture', '$2600000',\n",
       "       '$1,250,000', '$400,000,000', '$1,700,000', '$27,000,000',\n",
       "       '$234,000,000', '$460,000,000', '$13,500,000', '$5,100,000',\n",
       "       '$195,000,000', '$125,000', '$45,000,000', '$200,000,000',\n",
       "       '$7,300,000', '$6,300,000', '$12,500,000', '$24,000,000',\n",
       "       '$140,000', '$16,500,000', '$340,000', '$43,000,000',\n",
       "       '$150,000,000', '$3300000', '$92000000', '$17000000', '$135000000',\n",
       "       '$$1,55,000', '$2100000', '$840000000', '$248000000', '$4300000',\n",
       "       '$570000', '$2200000', '$4700000', '$300000000', '$260000000',\n",
       "       '$140000000', '$175000000', '$19000000', '$810000', '$7500000',\n",
       "       '$600000000', '$90000000', '$5700000', '$6750000', '$78000000',\n",
       "       '$5400000', '$115000000', '$255000000', '$18000000', '$570000000',\n",
       "       '$550000', '$2700000', '$4200000', '$31000000', '$540000',\n",
       "       '$14000000', '$340000', '$', '$6200000', '$750000', '$6300000',\n",
       "       '$23000000', '$55000000'], dtype=object)"
      ]
     },
     "execution_count": 65,
     "metadata": {},
     "output_type": "execute_result"
    }
   ],
   "source": [
    "data2['Amount'].unique()"
   ]
  },
  {
   "cell_type": "markdown",
   "metadata": {},
   "source": [
    "Data Cleaning 2nd Dataset (data2)"
   ]
  },
  {
   "cell_type": "code",
   "execution_count": 66,
   "metadata": {},
   "outputs": [],
   "source": [
    "# Handling  Company_Brand\n",
    "\n",
    "# Convert all enries to title\n",
    "data2['Company_Brand'] = data2['Company_Brand'].str.title()"
   ]
  },
  {
   "cell_type": "code",
   "execution_count": 67,
   "metadata": {},
   "outputs": [],
   "source": [
    "# Handling Founded Column \n",
    "\n",
    "# Fill missing values with the median\n",
    "data2['Founded'] = data2['Founded'].fillna(data2['Founded'].median())\n",
    "\n",
    "\n",
    "# Convert 'Founded'  to integer datatype \n",
    "data2['Founded'] = data2 ['Founded'].astype(int)\n"
   ]
  },
  {
   "cell_type": "code",
   "execution_count": 68,
   "metadata": {},
   "outputs": [],
   "source": [
    "# Handling Hedquarter Column \n",
    "\n",
    "# Replace this values 'Food & Beverages', 'Online Media\\t#Ref!', 'Information Technology & Services'- with Bangalore\n",
    "\n",
    "data2['HeadQuarter']= data2['HeadQuarter'].replace('Food & Beverages','Bangalore' )\n",
    "data2['HeadQuarter']= data2['HeadQuarter'].replace('Online Media\\t#Ref!','Bangalore')\n",
    "data2['HeadQuarter']= data2['HeadQuarter'].replace('Online Media\\t#Ref!', 'Bangalore')\n",
    "data2['HeadQuarter']= data2['HeadQuarter'].replace('Information Technology & Services', 'Bangalore')\n",
    "data2['HeadQuarter']= data2['HeadQuarter'].replace('Pharmaceuticals\\t#REF!', 'Bangalore')\n",
    "data2['HeadQuarter']= data2['HeadQuarter'].replace('Gurugram\\t#REF!', 'Gurugram')\n",
    "data2['HeadQuarter']= data2['HeadQuarter'].replace('Computer Games', 'Bangalore')\n",
    "\n",
    "top_HeadQuarter= ['Bangalore','Mumbai','Gurugram','Delhi','Chennai','Pune','New Delhi','Noida','Hyderabad','Gurgaon',\n",
    "'Ahmedabad','Kolkata','Haryana','Indore','Jaipur','Thane','Kochi','Gujarat','California','Singapore']\n",
    "\n",
    "# Fill missing value with random values from top 20 Headquarter\n",
    "\n",
    "def  fill_missing_HeadQuarter (HeadQuarter):\n",
    "    if pd.isna(HeadQuarter):\n",
    "        return np.random.choice(top_HeadQuarter)\n",
    "    return HeadQuarter\n",
    "\n",
    "\n",
    "data2['HeadQuarter']=data2['HeadQuarter'].apply(fill_missing_HeadQuarter)\n",
    "\n",
    "# Convert all enries to title\n",
    "data2['HeadQuarter'] = data2['HeadQuarter'].str.title()"
   ]
  },
  {
   "cell_type": "code",
   "execution_count": 69,
   "metadata": {},
   "outputs": [],
   "source": [
    "#Handling Founders Column \n",
    "\n",
    "# Fill missing value with random values from top 8 Founders\n",
    "\n",
    "top_Founders = ['Ashneer Grover & Shashvat Nakrani','Byju Raveendran & Divya Gokulnath','Ashneer Grover & Shashvat Nakrani', \n",
    "                'Bhavish Aggarwal', 'Ritesh Agarwal','Kunal Shah', 'Ashish Singhal & Govind Soni & Vimal Sagar Tiwari']\n",
    "\n",
    "def  fill_missing_Founders (Founders):\n",
    "    if pd.isna(Founders):\n",
    "        return np.random.choice(top_Founders)\n",
    "    return Founders\n",
    "\n",
    "data2['Founders']=data2['Founders'].apply(fill_missing_Founders)\n",
    "\n",
    "# Convert all entries to title case \n",
    "data2['Founders'] = data2['Founders'].str.title()\n"
   ]
  },
  {
   "cell_type": "code",
   "execution_count": 70,
   "metadata": {},
   "outputs": [],
   "source": [
    "#Handling Investor Column with the most appearing investor \n",
    "\n",
    "\n",
    "top_Investor= ['Venture Catalysts','Elevation Capital','Anicut Angel Fund','Inflection Point Ventures','We Founder Circle',\n",
    "               'Sequoia Capital','Kalaari Capital ', 'Sixth Sense Ventures','Blue Ashva Capital','Titan Capital']\n",
    "# Fill missing values \n",
    "def  fill_missing_Investor (Investor):\n",
    "    if pd.isna(Investor):\n",
    "        return np.random.choice(top_Investor)\n",
    "    return Investor\n",
    "\n",
    "data2['Investor']=data2['Investor'].apply(fill_missing_Investor)\n",
    "\n",
    "\n",
    "# Convert all entries to title case \n",
    "data2['Investor'] = data2['Investor'].str.title()"
   ]
  },
  {
   "cell_type": "markdown",
   "metadata": {},
   "source": [
    "'Seed'            \n",
    " Pre-series A      \n",
    "'Series A'      \n",
    "'Series B'        \n",
    "'Pre-seed'         \n",
    "'Series C'         \n",
    "'Debt'"
   ]
  },
  {
   "cell_type": "code",
   "execution_count": 71,
   "metadata": {},
   "outputs": [],
   "source": [
    "# Handling stage column with the most appearing-'Seed ' \n",
    "\n",
    "top_Stage= ['Seed','Pre-series A','Series A','Series B','Pre-seed','Series C', 'Debt']\n",
    "\n",
    "# Fill missing values \n",
    "def  fill_missing_Stage (Stage):\n",
    "    if pd.isna(Stage):\n",
    "        return np.random.choice(top_Stage)\n",
    "    return Stage\n",
    "\n",
    "data2['Stage']=data2['Stage'].apply(fill_missing_Stage)\n",
    "\n",
    "\n",
    "# Convert the stage column from object to category \n",
    "data2['Stage'] = data2['Stage'].astype('category')"
   ]
  },
  {
   "cell_type": "code",
   "execution_count": 72,
   "metadata": {},
   "outputs": [
    {
     "data": {
      "text/plain": [
       "0                  Ai Startup\n",
       "1                      Edtech\n",
       "2                      Edtech\n",
       "3              B2B E-Commerce\n",
       "4                     Fintech\n",
       "                ...          \n",
       "1204    Staffing & Recruiting\n",
       "1205         Food & Beverages\n",
       "1206       Financial Services\n",
       "1207                   Edtech\n",
       "1208       Financial Services\n",
       "Name: Sector, Length: 1209, dtype: object"
      ]
     },
     "execution_count": 72,
     "metadata": {},
     "output_type": "execute_result"
    }
   ],
   "source": [
    "# Handling Sector Column\n",
    "\n",
    "# Convert all values to lower case\n",
    "data2['Sector'] = data2['Sector'].str.lower()\n",
    "\n",
    "import re\n",
    " \n",
    "def sector_redistribution(Sector):\n",
    "    if re.search('bank|fintech|finance|credit|mobile Payments|lending|crypto|financial services|account|credit|venture|crowd|blockchain|mutual funds|virtual banking|banking|', Sector):\n",
    "        return 'Finance'\n",
    "    elif re.search(r'automotive|air transport|transport|ticketing|logistics|vehicle|transportation|developer platform|app|', Sector):\n",
    "        return 'Transport'\n",
    "    elif re.search(r'agriTech|agri|farming|agriculture|agtech|', Sector):  \n",
    "        return 'Agriculture'\n",
    "    elif re.search(r'legal tech|automotive tech|automation|analytics|big data|cybersecurity|cloud infrastructure|automobile|infratech|biotechnology|automobile & technology|robotics & ai|e-marketplace|iot|ai|ecommerce|technology|saas|ai & tech|e-commerce|e-commerce|ar|fintech|hr tech|safety tech|', Sector):\n",
    "        return 'Technology'\n",
    "    elif re.search (r'marketing|customer loyalty|product research|advertising|brand marketing|event promotion|market research|', Sector):\n",
    "        return 'Marketing'\n",
    "    elif re.search (r'insurance technology|insurance|', Sector):\n",
    "        return 'Insurance '\n",
    "    elif re.search (r'food tech|food|food & nutrition|food & tech|snack food|food processing|nutrition|food & beverage|food delivery|', Sector):\n",
    "        return 'Food'\n",
    "    elif re.search (r'pharmaceutical|healthtech|personal health|peer to peer|health diagnostic|health|' , Sector):\n",
    "        return 'Health & Wellness'\n",
    "    elif re.search (r'yoga|sports|yoga & wellness|', Sector):\n",
    "        return 'Fitness'\n",
    "    elif re.search (r'manufacturing', Sector):\n",
    "        return 'Manufacturing'\n",
    "    elif re.search (r'cosmetics|beauty|', Sector):\n",
    "        return 'Beauty'\n",
    "    elif re.search(r'social media|broadcasting|video chat|messaging|online portals|media and entertainmwent|audio|e-sports|games|internet|gaming|', Sector):\n",
    "        return 'Info-media'\n",
    "    elif re.search(r'interior design|accomodation|home renovation|service industry|laundry and dry cleaning|home decor|home improvement|hospitality|hotel|leisure|', Sector):\n",
    "        return 'Sevice Industry'\n",
    "    elif re.search (r'edtech|education|learning|', Sector):\n",
    "        return 'Education'\n",
    "    elif re.search(r'fashion|eyewear|jewellery|lifestyle|', Sector):\n",
    "        return 'Fashion'\n",
    "    elif re.search(r' b2b|b2B|supply chain|marketplace|retail|entreprise software|retail|consumer goods|trading platform|consumer|', Sector):\n",
    "        return 'Entreprising'\n",
    "    elif re.search(r'waste management|', Sector):\n",
    "        return 'Environment'\n",
    "    elif re.search(r'rental|property|real estate|smart building', Sector):\n",
    "        return 'Real Estate'\n",
    "    elif re.search(r'fraud detection|security|intelligence|cyber security|public safety|', Sector):\n",
    "        return 'Security'\n",
    "    \n",
    "    else:\n",
    "        return Sector\n",
    "    \n",
    "    \n",
    "# Convert all entries to title case \n",
    "data2['Sector'] = data2['Sector'].str.title()\n",
    "    \n",
    "data2['Sector'] \n",
    "\n"
   ]
  },
  {
   "cell_type": "code",
   "execution_count": 73,
   "metadata": {},
   "outputs": [
    {
     "data": {
      "text/plain": [
       "Sector\n",
       "Fintech               122\n",
       "Edtech                102\n",
       "Financial Services     61\n",
       "Healthcare             52\n",
       "E-Commerce             37\n",
       "Name: count, dtype: int64"
      ]
     },
     "execution_count": 73,
     "metadata": {},
     "output_type": "execute_result"
    }
   ],
   "source": [
    "Sector_counts = data2['Sector'].value_counts()\n",
    "\n",
    "Sector_counts.head()"
   ]
  },
  {
   "cell_type": "code",
   "execution_count": 74,
   "metadata": {},
   "outputs": [
    {
     "data": {
      "text/plain": [
       "0         1200000.0\n",
       "1       120000000.0\n",
       "2        30000000.0\n",
       "3        51000000.0\n",
       "4         2000000.0\n",
       "           ...     \n",
       "1204      3000000.0\n",
       "1205     20000000.0\n",
       "1206     55000000.0\n",
       "1207     26000000.0\n",
       "1208      8000000.0\n",
       "Name: Amount, Length: 1156, dtype: float64"
      ]
     },
     "execution_count": 74,
     "metadata": {},
     "output_type": "execute_result"
    }
   ],
   "source": [
    "# Handling the Amount Column\n",
    "\n",
    "\n",
    "# Ensure the Amount column is treated as strings\n",
    "data2['Amount'] = data2['Amount'].astype(str)\n",
    "\n",
    "# List of specific non-numeric values to drop\n",
    "non_numeric_values = [\n",
    "    \"Undisclosed\", \"Upsparks\", \"Series C\", \"Seed\", \"Pre-series A\",\n",
    "    \"ITO Angel Network, LetsVenture\", \"ah! Ventures\", \"JITO Angel Network, LetsVenture\", \"\"\n",
    "]\n",
    "\n",
    "# Step 1: Drop specific non-numeric values\n",
    "data2 = data2[~data2['Amount'].isin(non_numeric_values)] \n",
    "\n",
    "# Step 2: Remove dollar signs and commas\n",
    "data2['Amount'] = data2['Amount'].str.replace(r'[$,]', '', regex=True)\n",
    "\n",
    "# Step 3: Convert the Amount column to numeric, setting errors='coerce' will turn non-convertible values to NaN\n",
    "data2['Amount'] = pd.to_numeric(data2['Amount'], errors='coerce')\n",
    "\n",
    "# Step 4: Fill all missing values with the median of the Amount column\n",
    "data2['Amount'] = data2['Amount'].fillna(data2['Amount'].median())\n",
    "\n",
    "# Step 5: Convert Amount to Foat Datatype  \n",
    "data2['Amount'] = data2['Amount'].astype(float)\n",
    "\n",
    "data2['Amount']\n"
   ]
  },
  {
   "cell_type": "code",
   "execution_count": 75,
   "metadata": {},
   "outputs": [
    {
     "data": {
      "text/plain": [
       "Company_Brand    0\n",
       "Founded          0\n",
       "HeadQuarter      0\n",
       "Sector           0\n",
       "What_it_does     0\n",
       "Founders         0\n",
       "Investor         0\n",
       "Amount           0\n",
       "Stage            0\n",
       "dtype: int64"
      ]
     },
     "execution_count": 75,
     "metadata": {},
     "output_type": "execute_result"
    }
   ],
   "source": [
    "#Check to confirm there are no missing values     \n",
    "\n",
    "data2.isnull().sum()    "
   ]
  },
  {
   "cell_type": "code",
   "execution_count": 76,
   "metadata": {},
   "outputs": [],
   "source": [
    "# Drop duplicates for data2- they were 19 duplicates will this affect the results of our data\n",
    "\n",
    "data2.drop_duplicates( inplace=True)"
   ]
  },
  {
   "cell_type": "code",
   "execution_count": 77,
   "metadata": {},
   "outputs": [
    {
     "data": {
      "text/plain": [
       "0"
      ]
     },
     "execution_count": 77,
     "metadata": {},
     "output_type": "execute_result"
    }
   ],
   "source": [
    "#Check to see if the are duplicated values after filling with the mode values \n",
    "\n",
    "data2.duplicated().sum()\n"
   ]
  },
  {
   "cell_type": "code",
   "execution_count": 78,
   "metadata": {},
   "outputs": [],
   "source": [
    "#Add 'Year' Column 2021\n",
    "data2['Year']=2021\n",
    "\n",
    "# Convert year Column to a dataetime format\n",
    "data2['Year'] = pd.to_datetime(data2['Year'], format='%Y') "
   ]
  },
  {
   "cell_type": "code",
   "execution_count": 79,
   "metadata": {},
   "outputs": [
    {
     "name": "stdout",
     "output_type": "stream",
     "text": [
      "<class 'pandas.core.frame.DataFrame'>\n",
      "Index: 1143 entries, 0 to 1208\n",
      "Data columns (total 10 columns):\n",
      " #   Column         Non-Null Count  Dtype         \n",
      "---  ------         --------------  -----         \n",
      " 0   Company_Brand  1143 non-null   object        \n",
      " 1   Founded        1143 non-null   int32         \n",
      " 2   HeadQuarter    1143 non-null   object        \n",
      " 3   Sector         1143 non-null   object        \n",
      " 4   What_it_does   1143 non-null   object        \n",
      " 5   Founders       1143 non-null   object        \n",
      " 6   Investor       1143 non-null   object        \n",
      " 7   Amount         1143 non-null   float64       \n",
      " 8   Stage          1143 non-null   category      \n",
      " 9   Year           1143 non-null   datetime64[ns]\n",
      "dtypes: category(1), datetime64[ns](1), float64(1), int32(1), object(6)\n",
      "memory usage: 87.2+ KB\n"
     ]
    }
   ],
   "source": [
    "data2.info()"
   ]
  },
  {
   "cell_type": "markdown",
   "metadata": {},
   "source": [
    "3rd Dataset 2019 (data3)\n",
    "\n",
    "* This Dataset is downloaded from a onedrive "
   ]
  },
  {
   "cell_type": "code",
   "execution_count": 82,
   "metadata": {},
   "outputs": [],
   "source": [
    "#Load the one drive file which is the 2019 startups data (3rd Dataset)\n",
    "\n",
    "data3=pd.read_excel ('C:\\\\Users\\\\Admin\\\\OneDrive\\\\OneDrive-Azubi\\\\CA-LP1\\\\LP1-Indian-Startup-Ecosystem-1\\\\startup_funding2019.xlsx')\n",
    "\n"
   ]
  },
  {
   "cell_type": "code",
   "execution_count": 83,
   "metadata": {},
   "outputs": [
    {
     "data": {
      "text/html": [
       "<div>\n",
       "<style scoped>\n",
       "    .dataframe tbody tr th:only-of-type {\n",
       "        vertical-align: middle;\n",
       "    }\n",
       "\n",
       "    .dataframe tbody tr th {\n",
       "        vertical-align: top;\n",
       "    }\n",
       "\n",
       "    .dataframe thead th {\n",
       "        text-align: right;\n",
       "    }\n",
       "</style>\n",
       "<table border=\"1\" class=\"dataframe\">\n",
       "  <thead>\n",
       "    <tr style=\"text-align: right;\">\n",
       "      <th></th>\n",
       "      <th>Company/Brand</th>\n",
       "      <th>Founded</th>\n",
       "      <th>HeadQuarter</th>\n",
       "      <th>Sector</th>\n",
       "      <th>What it does</th>\n",
       "      <th>Founders</th>\n",
       "      <th>Investor</th>\n",
       "      <th>Amount($)</th>\n",
       "      <th>Stage</th>\n",
       "    </tr>\n",
       "  </thead>\n",
       "  <tbody>\n",
       "    <tr>\n",
       "      <th>0</th>\n",
       "      <td>Bombay Shaving</td>\n",
       "      <td>NaN</td>\n",
       "      <td>NaN</td>\n",
       "      <td>Ecommerce</td>\n",
       "      <td>Provides a range of male grooming products</td>\n",
       "      <td>Shantanu Deshpande</td>\n",
       "      <td>Sixth Sense Ventures</td>\n",
       "      <td>6300000</td>\n",
       "      <td>NaN</td>\n",
       "    </tr>\n",
       "    <tr>\n",
       "      <th>1</th>\n",
       "      <td>Ruangguru</td>\n",
       "      <td>2014.0</td>\n",
       "      <td>Mumbai</td>\n",
       "      <td>Edtech</td>\n",
       "      <td>A learning platform that provides topic-based ...</td>\n",
       "      <td>Adamas Belva Syah Devara, Iman Usman.</td>\n",
       "      <td>General Atlantic</td>\n",
       "      <td>150000000</td>\n",
       "      <td>Series C</td>\n",
       "    </tr>\n",
       "    <tr>\n",
       "      <th>2</th>\n",
       "      <td>Eduisfun</td>\n",
       "      <td>NaN</td>\n",
       "      <td>Mumbai</td>\n",
       "      <td>Edtech</td>\n",
       "      <td>It aims to make learning fun via games.</td>\n",
       "      <td>Jatin Solanki</td>\n",
       "      <td>Deepak Parekh, Amitabh Bachchan, Piyush Pandey</td>\n",
       "      <td>28000000</td>\n",
       "      <td>Fresh funding</td>\n",
       "    </tr>\n",
       "    <tr>\n",
       "      <th>3</th>\n",
       "      <td>HomeLane</td>\n",
       "      <td>2014.0</td>\n",
       "      <td>Chennai</td>\n",
       "      <td>Interior design</td>\n",
       "      <td>Provides interior designing solutions</td>\n",
       "      <td>Srikanth Iyer, Rama Harinath</td>\n",
       "      <td>Evolvence India Fund (EIF), Pidilite Group, FJ...</td>\n",
       "      <td>30000000</td>\n",
       "      <td>Series D</td>\n",
       "    </tr>\n",
       "    <tr>\n",
       "      <th>4</th>\n",
       "      <td>Nu Genes</td>\n",
       "      <td>2004.0</td>\n",
       "      <td>Telangana</td>\n",
       "      <td>AgriTech</td>\n",
       "      <td>It is a seed company engaged in production, pr...</td>\n",
       "      <td>Narayana Reddy Punyala</td>\n",
       "      <td>Innovation in Food and Agriculture (IFA)</td>\n",
       "      <td>6000000</td>\n",
       "      <td>NaN</td>\n",
       "    </tr>\n",
       "  </tbody>\n",
       "</table>\n",
       "</div>"
      ],
      "text/plain": [
       "    Company/Brand  Founded HeadQuarter           Sector  \\\n",
       "0  Bombay Shaving      NaN         NaN        Ecommerce   \n",
       "1       Ruangguru   2014.0      Mumbai           Edtech   \n",
       "2        Eduisfun      NaN      Mumbai           Edtech   \n",
       "3        HomeLane   2014.0     Chennai  Interior design   \n",
       "4        Nu Genes   2004.0   Telangana         AgriTech   \n",
       "\n",
       "                                        What it does  \\\n",
       "0         Provides a range of male grooming products   \n",
       "1  A learning platform that provides topic-based ...   \n",
       "2            It aims to make learning fun via games.   \n",
       "3              Provides interior designing solutions   \n",
       "4  It is a seed company engaged in production, pr...   \n",
       "\n",
       "                                Founders  \\\n",
       "0                     Shantanu Deshpande   \n",
       "1  Adamas Belva Syah Devara, Iman Usman.   \n",
       "2                          Jatin Solanki   \n",
       "3           Srikanth Iyer, Rama Harinath   \n",
       "4                 Narayana Reddy Punyala   \n",
       "\n",
       "                                            Investor  Amount($)          Stage  \n",
       "0                               Sixth Sense Ventures    6300000            NaN  \n",
       "1                                   General Atlantic  150000000       Series C  \n",
       "2     Deepak Parekh, Amitabh Bachchan, Piyush Pandey   28000000  Fresh funding  \n",
       "3  Evolvence India Fund (EIF), Pidilite Group, FJ...   30000000       Series D  \n",
       "4           Innovation in Food and Agriculture (IFA)    6000000            NaN  "
      ]
     },
     "execution_count": 83,
     "metadata": {},
     "output_type": "execute_result"
    }
   ],
   "source": [
    "data3.head ()"
   ]
  },
  {
   "cell_type": "code",
   "execution_count": 84,
   "metadata": {},
   "outputs": [
    {
     "data": {
      "text/html": [
       "<div>\n",
       "<style scoped>\n",
       "    .dataframe tbody tr th:only-of-type {\n",
       "        vertical-align: middle;\n",
       "    }\n",
       "\n",
       "    .dataframe tbody tr th {\n",
       "        vertical-align: top;\n",
       "    }\n",
       "\n",
       "    .dataframe thead th {\n",
       "        text-align: right;\n",
       "    }\n",
       "</style>\n",
       "<table border=\"1\" class=\"dataframe\">\n",
       "  <thead>\n",
       "    <tr style=\"text-align: right;\">\n",
       "      <th></th>\n",
       "      <th>Company/Brand</th>\n",
       "      <th>Founded</th>\n",
       "      <th>HeadQuarter</th>\n",
       "      <th>Sector</th>\n",
       "      <th>What it does</th>\n",
       "      <th>Founders</th>\n",
       "      <th>Investor</th>\n",
       "      <th>Amount($)</th>\n",
       "      <th>Stage</th>\n",
       "    </tr>\n",
       "  </thead>\n",
       "  <tbody>\n",
       "    <tr>\n",
       "      <th>84</th>\n",
       "      <td>Infra.Market</td>\n",
       "      <td>NaN</td>\n",
       "      <td>Mumbai</td>\n",
       "      <td>Infratech</td>\n",
       "      <td>It connects client requirements to their suppl...</td>\n",
       "      <td>Aaditya Sharda, Souvik Sengupta</td>\n",
       "      <td>Tiger Global, Nexus Venture Partners, Accel Pa...</td>\n",
       "      <td>20000000</td>\n",
       "      <td>Series A</td>\n",
       "    </tr>\n",
       "    <tr>\n",
       "      <th>85</th>\n",
       "      <td>Oyo</td>\n",
       "      <td>2013.0</td>\n",
       "      <td>Gurugram</td>\n",
       "      <td>Hospitality</td>\n",
       "      <td>Provides rooms for comfortable stay</td>\n",
       "      <td>Ritesh Agarwal</td>\n",
       "      <td>MyPreferred Transformation, Avendus Finance, S...</td>\n",
       "      <td>693000000</td>\n",
       "      <td>NaN</td>\n",
       "    </tr>\n",
       "    <tr>\n",
       "      <th>86</th>\n",
       "      <td>GoMechanic</td>\n",
       "      <td>2016.0</td>\n",
       "      <td>Delhi</td>\n",
       "      <td>Automobile &amp; Technology</td>\n",
       "      <td>Find automobile repair and maintenance service...</td>\n",
       "      <td>Amit Bhasin, Kushal Karwa, Nitin Rana, Rishabh...</td>\n",
       "      <td>Sequoia Capital</td>\n",
       "      <td>5000000</td>\n",
       "      <td>Series B</td>\n",
       "    </tr>\n",
       "    <tr>\n",
       "      <th>87</th>\n",
       "      <td>Spinny</td>\n",
       "      <td>2015.0</td>\n",
       "      <td>Delhi</td>\n",
       "      <td>Automobile</td>\n",
       "      <td>Online car retailer</td>\n",
       "      <td>Niraj Singh, Ramanshu Mahaur, Ganesh Pawar, Mo...</td>\n",
       "      <td>Norwest Venture Partners, General Catalyst, Fu...</td>\n",
       "      <td>50000000</td>\n",
       "      <td>NaN</td>\n",
       "    </tr>\n",
       "    <tr>\n",
       "      <th>88</th>\n",
       "      <td>Ess Kay Fincorp</td>\n",
       "      <td>NaN</td>\n",
       "      <td>Rajasthan</td>\n",
       "      <td>Banking</td>\n",
       "      <td>Organised Non-Banking Finance Company</td>\n",
       "      <td>Rajendra Setia</td>\n",
       "      <td>TPG, Norwest Venture Partners, Evolvence India</td>\n",
       "      <td>33000000</td>\n",
       "      <td>NaN</td>\n",
       "    </tr>\n",
       "  </tbody>\n",
       "</table>\n",
       "</div>"
      ],
      "text/plain": [
       "      Company/Brand  Founded HeadQuarter                   Sector  \\\n",
       "84     Infra.Market      NaN      Mumbai                Infratech   \n",
       "85              Oyo   2013.0    Gurugram              Hospitality   \n",
       "86       GoMechanic   2016.0       Delhi  Automobile & Technology   \n",
       "87           Spinny   2015.0       Delhi               Automobile   \n",
       "88  Ess Kay Fincorp      NaN   Rajasthan                  Banking   \n",
       "\n",
       "                                         What it does  \\\n",
       "84  It connects client requirements to their suppl...   \n",
       "85                Provides rooms for comfortable stay   \n",
       "86  Find automobile repair and maintenance service...   \n",
       "87                                Online car retailer   \n",
       "88              Organised Non-Banking Finance Company   \n",
       "\n",
       "                                             Founders  \\\n",
       "84                    Aaditya Sharda, Souvik Sengupta   \n",
       "85                                     Ritesh Agarwal   \n",
       "86  Amit Bhasin, Kushal Karwa, Nitin Rana, Rishabh...   \n",
       "87  Niraj Singh, Ramanshu Mahaur, Ganesh Pawar, Mo...   \n",
       "88                                     Rajendra Setia   \n",
       "\n",
       "                                             Investor  Amount($)     Stage  \n",
       "84  Tiger Global, Nexus Venture Partners, Accel Pa...   20000000  Series A  \n",
       "85  MyPreferred Transformation, Avendus Finance, S...  693000000       NaN  \n",
       "86                                    Sequoia Capital    5000000  Series B  \n",
       "87  Norwest Venture Partners, General Catalyst, Fu...   50000000       NaN  \n",
       "88     TPG, Norwest Venture Partners, Evolvence India   33000000       NaN  "
      ]
     },
     "execution_count": 84,
     "metadata": {},
     "output_type": "execute_result"
    }
   ],
   "source": [
    "data3.tail()"
   ]
  },
  {
   "cell_type": "code",
   "execution_count": 85,
   "metadata": {},
   "outputs": [
    {
     "data": {
      "text/plain": [
       "(89, 9)"
      ]
     },
     "execution_count": 85,
     "metadata": {},
     "output_type": "execute_result"
    }
   ],
   "source": [
    "data3.shape"
   ]
  },
  {
   "cell_type": "code",
   "execution_count": 86,
   "metadata": {},
   "outputs": [
    {
     "data": {
      "text/html": [
       "<div>\n",
       "<style scoped>\n",
       "    .dataframe tbody tr th:only-of-type {\n",
       "        vertical-align: middle;\n",
       "    }\n",
       "\n",
       "    .dataframe tbody tr th {\n",
       "        vertical-align: top;\n",
       "    }\n",
       "\n",
       "    .dataframe thead th {\n",
       "        text-align: right;\n",
       "    }\n",
       "</style>\n",
       "<table border=\"1\" class=\"dataframe\">\n",
       "  <thead>\n",
       "    <tr style=\"text-align: right;\">\n",
       "      <th></th>\n",
       "      <th>count</th>\n",
       "      <th>mean</th>\n",
       "      <th>std</th>\n",
       "      <th>min</th>\n",
       "      <th>25%</th>\n",
       "      <th>50%</th>\n",
       "      <th>75%</th>\n",
       "      <th>max</th>\n",
       "    </tr>\n",
       "  </thead>\n",
       "  <tbody>\n",
       "    <tr>\n",
       "      <th>Founded</th>\n",
       "      <td>60.0</td>\n",
       "      <td>2014.533333</td>\n",
       "      <td>2.937003</td>\n",
       "      <td>2004.0</td>\n",
       "      <td>2013.0</td>\n",
       "      <td>2015.0</td>\n",
       "      <td>2016.25</td>\n",
       "      <td>2019.0</td>\n",
       "    </tr>\n",
       "  </tbody>\n",
       "</table>\n",
       "</div>"
      ],
      "text/plain": [
       "         count         mean       std     min     25%     50%      75%     max\n",
       "Founded   60.0  2014.533333  2.937003  2004.0  2013.0  2015.0  2016.25  2019.0"
      ]
     },
     "execution_count": 86,
     "metadata": {},
     "output_type": "execute_result"
    }
   ],
   "source": [
    "data3.describe().T"
   ]
  },
  {
   "cell_type": "code",
   "execution_count": 87,
   "metadata": {},
   "outputs": [
    {
     "name": "stdout",
     "output_type": "stream",
     "text": [
      "<class 'pandas.core.frame.DataFrame'>\n",
      "RangeIndex: 89 entries, 0 to 88\n",
      "Data columns (total 9 columns):\n",
      " #   Column         Non-Null Count  Dtype  \n",
      "---  ------         --------------  -----  \n",
      " 0   Company/Brand  89 non-null     object \n",
      " 1   Founded        60 non-null     float64\n",
      " 2   HeadQuarter    70 non-null     object \n",
      " 3   Sector         84 non-null     object \n",
      " 4   What it does   89 non-null     object \n",
      " 5   Founders       86 non-null     object \n",
      " 6   Investor       89 non-null     object \n",
      " 7   Amount($)      89 non-null     object \n",
      " 8   Stage          43 non-null     object \n",
      "dtypes: float64(1), object(8)\n",
      "memory usage: 6.4+ KB\n"
     ]
    }
   ],
   "source": [
    "data3.info()"
   ]
  },
  {
   "cell_type": "code",
   "execution_count": 88,
   "metadata": {},
   "outputs": [
    {
     "data": {
      "text/html": [
       "<div>\n",
       "<style scoped>\n",
       "    .dataframe tbody tr th:only-of-type {\n",
       "        vertical-align: middle;\n",
       "    }\n",
       "\n",
       "    .dataframe tbody tr th {\n",
       "        vertical-align: top;\n",
       "    }\n",
       "\n",
       "    .dataframe thead th {\n",
       "        text-align: right;\n",
       "    }\n",
       "</style>\n",
       "<table border=\"1\" class=\"dataframe\">\n",
       "  <thead>\n",
       "    <tr style=\"text-align: right;\">\n",
       "      <th></th>\n",
       "      <th>Null Count</th>\n",
       "      <th>Percentage</th>\n",
       "    </tr>\n",
       "  </thead>\n",
       "  <tbody>\n",
       "    <tr>\n",
       "      <th>Company/Brand</th>\n",
       "      <td>0</td>\n",
       "      <td>0.000000</td>\n",
       "    </tr>\n",
       "    <tr>\n",
       "      <th>Founded</th>\n",
       "      <td>29</td>\n",
       "      <td>2.751423</td>\n",
       "    </tr>\n",
       "    <tr>\n",
       "      <th>HeadQuarter</th>\n",
       "      <td>19</td>\n",
       "      <td>1.802657</td>\n",
       "    </tr>\n",
       "    <tr>\n",
       "      <th>Sector</th>\n",
       "      <td>5</td>\n",
       "      <td>0.474383</td>\n",
       "    </tr>\n",
       "    <tr>\n",
       "      <th>What it does</th>\n",
       "      <td>0</td>\n",
       "      <td>0.000000</td>\n",
       "    </tr>\n",
       "    <tr>\n",
       "      <th>Founders</th>\n",
       "      <td>3</td>\n",
       "      <td>0.284630</td>\n",
       "    </tr>\n",
       "    <tr>\n",
       "      <th>Investor</th>\n",
       "      <td>0</td>\n",
       "      <td>0.000000</td>\n",
       "    </tr>\n",
       "    <tr>\n",
       "      <th>Amount($)</th>\n",
       "      <td>0</td>\n",
       "      <td>0.000000</td>\n",
       "    </tr>\n",
       "    <tr>\n",
       "      <th>Stage</th>\n",
       "      <td>46</td>\n",
       "      <td>4.364326</td>\n",
       "    </tr>\n",
       "  </tbody>\n",
       "</table>\n",
       "</div>"
      ],
      "text/plain": [
       "               Null Count  Percentage\n",
       "Company/Brand           0    0.000000\n",
       "Founded                29    2.751423\n",
       "HeadQuarter            19    1.802657\n",
       "Sector                  5    0.474383\n",
       "What it does            0    0.000000\n",
       "Founders                3    0.284630\n",
       "Investor                0    0.000000\n",
       "Amount($)               0    0.000000\n",
       "Stage                  46    4.364326"
      ]
     },
     "execution_count": 88,
     "metadata": {},
     "output_type": "execute_result"
    }
   ],
   "source": [
    "# Missing values with their percentages \n",
    "data3.isnull().sum().to_frame('Null Count').assign(Percentage=lambda x: (x['Null Count'] / len(data)) * 100)"
   ]
  },
  {
   "cell_type": "code",
   "execution_count": 89,
   "metadata": {},
   "outputs": [
    {
     "data": {
      "text/plain": [
       "0"
      ]
     },
     "execution_count": 89,
     "metadata": {},
     "output_type": "execute_result"
    }
   ],
   "source": [
    "data3.duplicated().sum()"
   ]
  },
  {
   "cell_type": "code",
   "execution_count": 90,
   "metadata": {},
   "outputs": [
    {
     "data": {
      "text/plain": [
       "array(['Ecommerce', 'Edtech', 'Interior design', 'AgriTech', 'Technology',\n",
       "       'SaaS', 'AI & Tech', 'E-commerce', 'E-commerce & AR', 'Fintech',\n",
       "       'HR tech', 'Food tech', 'Health', 'Healthcare', 'Safety tech',\n",
       "       'Pharmaceutical', 'Insurance technology', 'AI', 'Foodtech', 'Food',\n",
       "       'IoT', 'E-marketplace', 'Robotics & AI', 'Logistics', 'Travel',\n",
       "       'Manufacturing', 'Food & Nutrition', 'Social Media', nan,\n",
       "       'E-Sports', 'Cosmetics', 'B2B', 'Jewellery', 'B2B Supply Chain',\n",
       "       'Games', 'Food & tech', 'Accomodation', 'Automotive tech',\n",
       "       'Legal tech', 'Mutual Funds', 'Cybersecurity', 'Automobile',\n",
       "       'Sports', 'Healthtech', 'Yoga & wellness', 'Virtual Banking',\n",
       "       'Transportation', 'Transport & Rentals',\n",
       "       'Marketing & Customer loyalty', 'Infratech', 'Hospitality',\n",
       "       'Automobile & Technology', 'Banking'], dtype=object)"
      ]
     },
     "execution_count": 90,
     "metadata": {},
     "output_type": "execute_result"
    }
   ],
   "source": [
    "data3['Sector'].unique()"
   ]
  },
  {
   "cell_type": "code",
   "execution_count": 91,
   "metadata": {},
   "outputs": [
    {
     "data": {
      "text/plain": [
       "Sector\n",
       "Edtech        7\n",
       "Fintech       5\n",
       "AgriTech      4\n",
       "Technology    4\n",
       "SaaS          4\n",
       "Automobile    3\n",
       "E-commerce    3\n",
       "Logistics     3\n",
       "Food          2\n",
       "Foodtech      2\n",
       "Name: count, dtype: int64"
      ]
     },
     "execution_count": 91,
     "metadata": {},
     "output_type": "execute_result"
    }
   ],
   "source": [
    "Sector_counts = data3['Sector'].value_counts()\n",
    "\n",
    "Sector_counts.head(10)"
   ]
  },
  {
   "cell_type": "code",
   "execution_count": 92,
   "metadata": {},
   "outputs": [
    {
     "data": {
      "text/plain": [
       "array([nan, 'Mumbai', 'Chennai', 'Telangana', 'Pune', 'Bangalore',\n",
       "       'Noida', 'Delhi', 'Ahmedabad', 'Gurugram', 'Haryana', 'Chandigarh',\n",
       "       'Jaipur', 'New Delhi', 'Surat', 'Uttar pradesh', 'Hyderabad',\n",
       "       'Rajasthan'], dtype=object)"
      ]
     },
     "execution_count": 92,
     "metadata": {},
     "output_type": "execute_result"
    }
   ],
   "source": [
    "data3['HeadQuarter'].unique()"
   ]
  },
  {
   "cell_type": "code",
   "execution_count": 93,
   "metadata": {},
   "outputs": [
    {
     "data": {
      "text/plain": [
       "HeadQuarter\n",
       "Bangalore    21\n",
       "Mumbai       12\n",
       "Delhi        10\n",
       "Noida         5\n",
       "Gurugram      5\n",
       "Chennai       4\n",
       "Pune          2\n",
       "Jaipur        2\n",
       "Telangana     1\n",
       "Ahmedabad     1\n",
       "Haryana       1\n",
       "Name: count, dtype: int64"
      ]
     },
     "execution_count": 93,
     "metadata": {},
     "output_type": "execute_result"
    }
   ],
   "source": [
    "HeadQuarter_counts = data3['HeadQuarter'].value_counts()\n",
    "\n",
    "HeadQuarter_counts.head(11)"
   ]
  },
  {
   "cell_type": "code",
   "execution_count": 94,
   "metadata": {},
   "outputs": [
    {
     "data": {
      "text/plain": [
       "array(['Shantanu Deshpande', 'Adamas Belva Syah Devara, Iman Usman.',\n",
       "       'Jatin Solanki', 'Srikanth Iyer, Rama Harinath',\n",
       "       'Narayana Reddy Punyala', 'Nitin Gupta',\n",
       "       'Vivek AG, Veekshith C Rai',\n",
       "       'Pavan Kushwaha, Paratosh Bansal, Dip Jung Thapa',\n",
       "       'Renuka Ramnath', 'Peyush Bansal, Amit Chaudhary, Sumeet Kapahi',\n",
       "       'Abhay Bhat, Kinnar Shah', 'D Padmanabhan',\n",
       "       'Puneet Gupta, Sucharita Mukherjee', 'Ishit Jethwa',\n",
       "       'Ahana Gautam, Udit Kejriwal', 'Rakesh Malhotra',\n",
       "       'Byju Raveendran', 'Chapman, Priya Sharma, Ashish Anantharaman',\n",
       "       'Amit Modi', 'Mohammed, Shashwat Diesh', 'Renato Araujo',\n",
       "       'Harsimarbir Singh, Dr Vaibhav Kapoor, Dr Garima Sawhney',\n",
       "       'Gautam Tambay, Parul Gupta', 'Dhiraj Naubhar, Dheeraj Bansal',\n",
       "       'Tushar Kumar, Prashant Singh', 'Arihant Jain, Ajeet Kushwaha',\n",
       "       'Nishant Jain, Rohan Kumar', 'Sam Udotong',\n",
       "       'Sandipan Mitra, Uttam Kumar',\n",
       "       'Nukul Upadhye, Mahesh Jakhotia, Jitender Bedwal, Daya Rai, Nikhil Tripathi',\n",
       "       'Vivek Gupta, Abhay Hanjura',\n",
       "       'Babu Dayal, Pramod Uniyal, Lalit Mehta', 'KS Bhatia',\n",
       "       'Neel Mehta, Nihar Vartak', 'Deepak Garg, Gazal Kalra',\n",
       "       'Vivek Prabhakar, Boris Zha',\n",
       "       'Amit Acharya, Srinath Ramakkrushnan', 'Swapnil', 'Rajendra Lora',\n",
       "       nan,\n",
       "       'Pulkit Agrawal, Prashant Sachan, Arun Lodhi, Bimal Kartheek Rebba',\n",
       "       'Akshay Narvekar', 'Deepak Anchala',\n",
       "       'Parshavv Jain& Raju Kushwaha', 'Rachna Suneja',\n",
       "       'Vaibhav Gupta, Himanshu Devra, Pranav Chaudhary, Nishtha Gupta',\n",
       "       'Devendra Gupta, Prateek Singhal, Vivek Pandey',\n",
       "       'Amit Raj, Anshul Gupta',\n",
       "       'Annanya Sarthak, Gurpreet Singh, Praveen Sah',\n",
       "       'Manish Taneja, Rahul Dash',\n",
       "       'Sanjay Bhatia, Bharat Tanvi, Punit Java',\n",
       "       'Shashank Murali, Binay Krishna, Arjun Krishna',\n",
       "       'Jignesh Mehta, Shailen Mehta',\n",
       "       'Thirukumaran Nagarajanin, Vasudevan Chinnathambi',\n",
       "       'Rubianca Wadhwa, Sahil Wadhwa', 'Manish Kumar', 'Akanksha Hazari',\n",
       "       'Mayank Dhanuka, Sunoor Kaul', 'Sawan Kumar, Bhavya Bhambhani',\n",
       "       'Krishnan, Manju Dhawan, K Satyanarayana, Sanjeev Saxena',\n",
       "       'Sandeep Dalmia, Anindya Dutta', 'Visakh Sasikumar',\n",
       "       'Saurav Kumar', 'Malika Sadani', 'Dhruv Ratra, Swati Vyas',\n",
       "       'Ashish Bhatia, Himanshu Gupta', 'Manan Khurma',\n",
       "       'Anurag Garg, Sridhar Srinivasan',\n",
       "       'Team of Waterloo-based software developers', 'Amit Jain',\n",
       "       'Abhishek Bansal, Vaibhav Khandelwal', 'Mittal',\n",
       "       'Neeraj Aggarwala, Akhil Ramachandran', 'Sumit Sinha',\n",
       "       'Sarvesh Shashi', 'Paddy Padmanabhan',\n",
       "       'Akhil Sikri, Nikhil Sikri, Sneha Choudhry',\n",
       "       'Bhavish Aggarwal, Ankit Bhati', 'Greg Moran, David Back',\n",
       "       'Pavan Kushwaha', 'Jeevan Chowdary M, Harshit Harchani',\n",
       "       'Aaditya Sharda, Souvik Sengupta', 'Ritesh Agarwal',\n",
       "       'Amit Bhasin, Kushal Karwa, Nitin Rana, Rishabh Karwa',\n",
       "       'Niraj Singh, Ramanshu Mahaur, Ganesh Pawar, Mohit Gupta',\n",
       "       'Rajendra Setia'], dtype=object)"
      ]
     },
     "execution_count": 94,
     "metadata": {},
     "output_type": "execute_result"
    }
   ],
   "source": [
    "data3['Founders'].unique()"
   ]
  },
  {
   "cell_type": "code",
   "execution_count": 95,
   "metadata": {},
   "outputs": [
    {
     "data": {
      "text/plain": [
       "Founders\n",
       "Vivek Gupta, Abhay Hanjura                                 2\n",
       "Shantanu Deshpande                                         1\n",
       "Manish Kumar                                               1\n",
       "Saurav Kumar                                               1\n",
       "Visakh Sasikumar                                           1\n",
       "Sandeep Dalmia, Anindya Dutta                              1\n",
       "Krishnan, Manju Dhawan, K Satyanarayana, Sanjeev Saxena    1\n",
       "Sawan Kumar, Bhavya Bhambhani                              1\n",
       "Mayank Dhanuka, Sunoor Kaul                                1\n",
       "Akanksha Hazari                                            1\n",
       "Name: count, dtype: int64"
      ]
     },
     "execution_count": 95,
     "metadata": {},
     "output_type": "execute_result"
    }
   ],
   "source": [
    "Founders_counts = data3['Founders'].value_counts()\n",
    "\n",
    "Founders_counts.head(10)"
   ]
  },
  {
   "cell_type": "code",
   "execution_count": 96,
   "metadata": {},
   "outputs": [
    {
     "data": {
      "text/plain": [
       "array(['Sixth Sense Ventures', 'General Atlantic',\n",
       "       'Deepak Parekh, Amitabh Bachchan, Piyush Pandey',\n",
       "       'Evolvence India Fund (EIF), Pidilite Group, FJ Labs',\n",
       "       'Innovation in Food and Agriculture (IFA)', 'Undisclosed',\n",
       "       'Social Capital, AngelList India, Gemba Capital, Omphalos Ventures,\\xa0\\xa091springboard via Atal Innovation Mission, Niti Aayog.',\n",
       "       'Gilda VC, Art Venture, Rajeev Chitrabhanu.',\n",
       "       'Multiples Alternate Asset Management', 'SoftBank',\n",
       "       'Venture Catalysts', 'Avataar Ventures', 'Oikocredit',\n",
       "       'Titan Capital', 'Matrix Partners',\n",
       "       'German development finance institution DEG',\n",
       "       'South Africa’s Naspers Ventures, the CPP Investment Board',\n",
       "       'Goldman Sachs.', 'Mumbai Angels Network',\n",
       "       'Kunal Bahl, Rohit Bansal.', 'Brazilian VC Fund Confrapar',\n",
       "       'Sequoia India, Hummingbird Ventures, Greenoaks Capital, AngelList.',\n",
       "       'Reach Capital', 'Inflection Point Ventures',\n",
       "       'Wilson Global Opportunities Fund', 'Sequoia Capita',\n",
       "       'IVM Intersurer', 'Canaan Partners',\n",
       "       'Paytm, Asian VC fund NPTK, Sabre Partners, Neoplux.',\n",
       "       'Omnivore and Omidyar Network India, Sequoia Capital',\n",
       "       'Vertex Growth Fund', 'Rajan Kaistha', 'Dinesh Dua',\n",
       "       'Reliance Industries',\n",
       "       'SAIF Partners India VI Ltd, Spring Canter Investment Ltd',\n",
       "       'Korea Investment Partners (KIP), Samsung Venture Investment Corporation (SVIC), UOB Venture, 10 Fund, CVCapital, Zero2IPO Ventures, M&S Partners',\n",
       "       'Lightspeed and Greenoaks Capital, Sequoia India, Accel and Kae Capital',\n",
       "       'Scale Venture Partners', 'ThinkLab',\n",
       "       'Sajan Pillai, Muthu Krishnan,',\n",
       "       'Ruizheng Investment, Tej Kapoor, Krinshavataram Venkata Vinjamuri, Harsh Shah',\n",
       "       'Alibaba', 'Lightbox Ventures', 'Stellaris Ventures',\n",
       "       'Jindagi Live Angels,', 'Fintech innovation lab',\n",
       "       'Manipal Education and Medical Group (MEMG) family office, Titan Capital',\n",
       "       'Innovation in Food & Agriculture Fund (IFA Fund)',\n",
       "       'Trifecta Capital',\n",
       "       'Work10M, Michael and Susan Dell Foundation, Eagle10, Unitus Ventures.',\n",
       "       'Goldman Sachs', 'Amplo, FJ Labs, Rogue One Capital',\n",
       "       'Blume Ventures.', 'Rajesh Ranavat', 'Walmart, Flipkart',\n",
       "       'Sunil Gavaskar', 'Tiger Global Management', 'AC Ventures, Henkel',\n",
       "       'Oikocredit, Caspian SME Impact Fund IV,\\xa0\\xa0Triodos Investment Management',\n",
       "       'CDC Group', 'Alteria Capital', 'GAIL (India) Ltd',\n",
       "       'Blume Ventures, Emergent Ventures',\n",
       "       'Saama Capital, DSG Consumer Partners', 'Rockstud Capital',\n",
       "       'Pramendra Tomar, Ratish Pandey, Munish Bhatia, Sumit Aggarwal',\n",
       "       'Manta Ray Ventures Limited, Google’s Capital G, Sequoia India.',\n",
       "       'Vertex Ventures', 'Windrose Capital', 'HNI investors',\n",
       "       'Ping An Global Voyager Fund, Hillhouse Capital, Sequoia Capital',\n",
       "       'Flipkart, Eight Roads Ventures, NGP Capital, Qualcomm Ventures, Mirae Asset Naver Fund, World Bank-backed IFC',\n",
       "       'Omidyar Network, Eight Roads Ventures, GrowthStory, AngelList',\n",
       "       'Inflection Point Ventures, SucSEED Venture Partners.',\n",
       "       'LetsVenture, 91 Springboard, IKP Knowledge, Angel investors, AbInbev-Serge DeVos, Wouter Peeters.',\n",
       "       'Venture fund, Fireside Ventures.', 'Saravanan Adiseshan',\n",
       "       'Kia Motors, Hyundai', 'Zoomcar Inc',\n",
       "       'Gilda VC, Art Venture, Rajeev Chitrabhanu',\n",
       "       'US-based angel investors',\n",
       "       'Tiger Global, Nexus Venture Partners, Accel Partners, Dhruv Agarwala',\n",
       "       'MyPreferred Transformation, Avendus Finance, SoftBank',\n",
       "       'Sequoia Capital',\n",
       "       'Norwest Venture Partners, General Catalyst, Fundamentum, Accel Partners',\n",
       "       'TPG, Norwest Venture Partners, Evolvence India'], dtype=object)"
      ]
     },
     "execution_count": 96,
     "metadata": {},
     "output_type": "execute_result"
    }
   ],
   "source": [
    "data3['Investor'].unique()"
   ]
  },
  {
   "cell_type": "code",
   "execution_count": 97,
   "metadata": {},
   "outputs": [
    {
     "data": {
      "text/plain": [
       "array([6300000, 150000000, 28000000, 30000000, 6000000, 'Undisclosed',\n",
       "       1000000, 20000000, 275000000, 22000000, 5000000, 140500, 540000000,\n",
       "       15000000, 182700, 12000000, 11000000, 15500000, 1500000, 5500000,\n",
       "       2500000, 140000, 230000000, 49400000, 32000000, 26000000, 150000,\n",
       "       400000, 2000000, 100000000, 8000000, 100000, 50000000, 120000000,\n",
       "       4000000, 6800000, 36000000, 5700000, 25000000, 600000, 70000000,\n",
       "       60000000, 220000, 2800000, 2100000, 7000000, 311000000, 4800000,\n",
       "       693000000, 33000000], dtype=object)"
      ]
     },
     "execution_count": 97,
     "metadata": {},
     "output_type": "execute_result"
    }
   ],
   "source": [
    "data3['Amount($)'].unique()"
   ]
  },
  {
   "cell_type": "code",
   "execution_count": 98,
   "metadata": {},
   "outputs": [
    {
     "data": {
      "text/plain": [
       "array([nan, 'Series C', 'Fresh funding', 'Series D', 'Pre series A',\n",
       "       'Series A', 'Series G', 'Series B', 'Post series A',\n",
       "       'Seed funding', 'Seed fund', 'Series E', 'Series F', 'Series B+',\n",
       "       'Seed round', 'Pre-series A'], dtype=object)"
      ]
     },
     "execution_count": 98,
     "metadata": {},
     "output_type": "execute_result"
    }
   ],
   "source": [
    "data3['Stage'].unique()"
   ]
  },
  {
   "cell_type": "code",
   "execution_count": 99,
   "metadata": {},
   "outputs": [
    {
     "data": {
      "text/plain": [
       "Stage\n",
       "Series A         10\n",
       "Pre series A      8\n",
       "Series B          8\n",
       "Series D          4\n",
       "Series C          3\n",
       "Fresh funding     1\n",
       "Series G          1\n",
       "Post series A     1\n",
       "Seed funding      1\n",
       "Seed fund         1\n",
       "Name: count, dtype: int64"
      ]
     },
     "execution_count": 99,
     "metadata": {},
     "output_type": "execute_result"
    }
   ],
   "source": [
    "Stage_counts = data3['Stage'].value_counts()\n",
    "\n",
    "Stage_counts.head(10)"
   ]
  },
  {
   "cell_type": "markdown",
   "metadata": {},
   "source": [
    "Data cleaning 3rd Dataset 2019- (daat3)"
   ]
  },
  {
   "cell_type": "code",
   "execution_count": 100,
   "metadata": {},
   "outputs": [],
   "source": [
    "# Handling the Company/Brand Colum\n",
    "\n",
    "#Change column name to Company_Brand\n",
    "\n",
    "data3.rename(columns={'Company/Brand': 'Company_Brand'}, inplace=True)\n",
    "\n",
    "# Convert all enries to title\n",
    "data3['Company_Brand'] = data3['Company_Brand'].str.title()\n"
   ]
  },
  {
   "cell_type": "code",
   "execution_count": 101,
   "metadata": {},
   "outputs": [],
   "source": [
    "# Handling Founded Column\n",
    "\n",
    "# Fill missing values with the median\n",
    "data3['Founded'] = data3['Founded'].fillna(data3['Founded'].median())\n",
    "\n",
    "\n",
    "# Convert 'Founded'  to integer datatype \n",
    "data3['Founded'] = data3 ['Founded'].astype(int)\n"
   ]
  },
  {
   "cell_type": "code",
   "execution_count": 102,
   "metadata": {},
   "outputs": [],
   "source": [
    "# Handling the HeadQuarter Colum fill with the most appearing HeadQuarter\n",
    "\n",
    "#Fill missing Values \n",
    "\n",
    "top_HeadQuarter = ['Bangalore','Mumbai','Delhi','Noida','Gurugram','Chennai','Pune', 'Jaipur', 'Telangana', 'Ahmedabad', 'Haryana']\n",
    "\n",
    "def  fill_missing_HeadQuarter (HeadQuarter):\n",
    "    if pd.isna(HeadQuarter):\n",
    "        return np.random.choice(top_HeadQuarter)\n",
    "    return HeadQuarter\n",
    "\n",
    "\n",
    "data3['HeadQuarter']=data3['HeadQuarter'].apply(fill_missing_HeadQuarter)\n"
   ]
  },
  {
   "cell_type": "code",
   "execution_count": 103,
   "metadata": {},
   "outputs": [
    {
     "data": {
      "text/plain": [
       "0                   Ecommerce\n",
       "1                      Edtech\n",
       "2                      Edtech\n",
       "3             Interior Design\n",
       "4                    Agritech\n",
       "               ...           \n",
       "84                  Infratech\n",
       "85                Hospitality\n",
       "86    Automobile & Technology\n",
       "87                 Automobile\n",
       "88                    Banking\n",
       "Name: Sector, Length: 89, dtype: object"
      ]
     },
     "execution_count": 103,
     "metadata": {},
     "output_type": "execute_result"
    }
   ],
   "source": [
    "# Handling the Sector column Fill with the most appearing sector\n",
    "\n",
    "top_Sector =['Fintech','EdTech','Healthtech','SaaS','Ecommerce','AgriTech','Ai',\n",
    "             'Gaming', 'Logistics', 'Foodtech', 'Food', 'Entertainment', 'Tech Company', 'Iot', 'Cosmetics', 'Automobile']\n",
    "\n",
    "# Fill missing value with random values from top 16 Sector\n",
    "\n",
    "def  fill_missing_Sector (Sector):\n",
    "    if pd.isna(Sector):\n",
    "        return np.random.choice(top_Sector)\n",
    "    return Sector\n",
    "\n",
    "data3['Sector']=data3['Sector'].apply(fill_missing_Sector)\n",
    "\n",
    "# Convert all values to lower case\n",
    "data3['Sector'] = data3['Sector'].str.lower()\n",
    "\n",
    "import re\n",
    " \n",
    "def sector_redistribution(Sector):\n",
    "    if re.search('bank|fintech|finance|credit|mobile Payments|lending|crypto|financial services|account|credit|venture|crowd|blockchain|mutual funds|virtual banking|banking|', Sector):\n",
    "        return 'Finance'\n",
    "    elif re.search(r'automotive|air transport|transport|ticketing|logistics|vehicle|transportation|developer platform|app|', Sector):\n",
    "        return 'Transport'\n",
    "    elif re.search(r'agriTech|agri|farming|agriculture|agtech|', Sector):  \n",
    "        return 'Agriculture'\n",
    "    elif re.search(r'legal tech|automotive tech|automation|analytics|big data|cybersecurity|cloud infrastructure|automobile|infratech|biotechnology|automobile & technology|robotics & ai|e-marketplace|iot|ai|ecommerce|technology|saas|ai & tech|e-commerce|e-commerce|ar|fintech|hr tech|safety tech|', Sector):\n",
    "        return 'Technology'\n",
    "    elif re.search (r'marketing|customer loyalty|product research|advertising|brand marketing|event promotion|market research|', Sector):\n",
    "        return 'Marketing'\n",
    "    elif re.search (r'insurance technology|insurance|', Sector):\n",
    "        return 'Insurance '\n",
    "    elif re.search (r'food tech|food|food & nutrition|food & tech|snack food|food processing|nutrition|food & beverage|food delivery|', Sector):\n",
    "        return 'Food'\n",
    "    elif re.search (r'pharmaceutical|healthtech|personal health|peer to peer|health diagnostic|health|' , Sector):\n",
    "        return 'Health & Wellness'\n",
    "    elif re.search (r'yoga|sports|yoga & wellness|', Sector):\n",
    "        return 'Fitness'\n",
    "    elif re.search (r'manufacturing', Sector):\n",
    "        return 'Manufacturing'\n",
    "    elif re.search (r'cosmetics|beauty|', Sector):\n",
    "        return 'Beauty'\n",
    "    elif re.search(r'social media|broadcasting|video chat|messaging|online portals|media and entertainmwent|audio|e-sports|games|internet|gaming|', Sector):\n",
    "        return 'Info-media'\n",
    "    elif re.search(r'interior design|accomodation|home renovation|service industry|laundry and dry cleaning|home decor|home improvement|hospitality|hotel|leisure|', Sector):\n",
    "        return 'Sevice Industry'\n",
    "    elif re.search (r'edtech|education|learning|', Sector):\n",
    "        return 'Education'\n",
    "    elif re.search(r'fashion|eyewear|jewellery|lifestyle|', Sector):\n",
    "        return 'Fashion'\n",
    "    elif re.search(r' b2b|b2B|supply chain|marketplace|retail|entreprise software|retail|consumer goods|trading platform|consumer|', Sector):\n",
    "        return 'Entreprising'\n",
    "    elif re.search(r'waste management|', Sector):\n",
    "        return 'Environment'\n",
    "    elif re.search(r'rental|property|real estate|smart building', Sector):\n",
    "        return 'Real Estate'\n",
    "    elif re.search(r'fraud detection|security|intelligence|cyber security|public safety|', Sector):\n",
    "        return 'Security'\n",
    "    \n",
    "    else:\n",
    "        return Sector\n",
    "    \n",
    "    \n",
    "# Convert all entries to title case \n",
    "data3['Sector'] = data3['Sector'].str.title()\n",
    "    \n",
    "data3['Sector'] \n"
   ]
  },
  {
   "cell_type": "code",
   "execution_count": 104,
   "metadata": {},
   "outputs": [],
   "source": [
    "# Handling the  What it does  Column\n",
    "\n",
    "#Change column name to What_it_does\n",
    "\n",
    "data3.rename(columns={'What it does': 'What_it_does'}, inplace=True)"
   ]
  },
  {
   "cell_type": "code",
   "execution_count": 105,
   "metadata": {},
   "outputs": [],
   "source": [
    "#Handling Founders Column\n",
    "\n",
    "\n",
    "# Fill missing value with random values from top 8 Founders\n",
    "\n",
    "top_Founders =[ 'Vivek Gupta & Abhay Hanjura','Shantanu Deshpande','Manish Kumar','Saurav Kumar',\n",
    "               'Visakh Sasikumar', 'Sandeep Dalmia & Anindya Dutta',\n",
    "                'Krishnan & Manju Dhawan & K Satyanarayana & Sanjeev Saxena','Sawan Kumar & Bhavya Bhambhani',\n",
    "                'Mayank Dhanuka & Sunoor Kaul','Akanksha Hazari']                      \n",
    "                \n",
    "def  fill_missing_Founders (Founders):\n",
    "    if pd.isna(Founders):\n",
    "        return np.random.choice(top_Founders)\n",
    "    return Founders\n",
    "\n",
    "data3['Founders']=data3['Founders'].apply(fill_missing_Founders)\n",
    "\n",
    "# Convert all entries to title case \n",
    "data3['Founders'] = data3['Founders'].str.title()"
   ]
  },
  {
   "cell_type": "code",
   "execution_count": 106,
   "metadata": {},
   "outputs": [],
   "source": [
    "# Handling the Amount Column\n",
    "\n",
    "#Change column name to Amount \n",
    "data3.rename(columns={'Amount($)': 'Amount'}, inplace=True)\n",
    "\n",
    "# Convert all undisclosed to 0\n",
    "data3['Amount'].replace('Undisclosed','0', inplace=True)\n",
    "\n",
    "# Convertt to a float type \n",
    "data3['Amount']= data3['Amount'].astype('float')"
   ]
  },
  {
   "cell_type": "code",
   "execution_count": 108,
   "metadata": {},
   "outputs": [],
   "source": [
    "# Handlling Stage Column\n",
    "\n",
    "top_Stage= ['Pre-series A','Series A','Series B','Pre-seed','Series C', 'Series D',\n",
    "            'Fresh funding','Series G ','Post series A','Seed funding','Seed fund ']\n",
    "\n",
    "# Fill missing values \n",
    "def  fill_missing_Stage (Stage):\n",
    "    if pd.isna(Stage):\n",
    "        return np.random.choice(top_Stage)\n",
    "    return Stage\n",
    "\n",
    "data3['Stage']=data3['Stage'].apply(fill_missing_Stage)\n",
    "\n",
    "\n",
    "# Convert the stage column from object to category \n",
    "data3['Stage'] = data3['Stage'].astype('category')\n"
   ]
  },
  {
   "cell_type": "code",
   "execution_count": 109,
   "metadata": {},
   "outputs": [
    {
     "data": {
      "text/plain": [
       "Company_Brand    0\n",
       "Founded          0\n",
       "HeadQuarter      0\n",
       "Sector           0\n",
       "What_it_does     0\n",
       "Founders         0\n",
       "Investor         0\n",
       "Amount           0\n",
       "Stage            0\n",
       "dtype: int64"
      ]
     },
     "execution_count": 109,
     "metadata": {},
     "output_type": "execute_result"
    }
   ],
   "source": [
    "# Check to confirm there are no missing values\n",
    "data3.isnull().sum() "
   ]
  },
  {
   "cell_type": "code",
   "execution_count": 110,
   "metadata": {},
   "outputs": [],
   "source": [
    "#Add Year Column\n",
    "data3['Year']=2019\n",
    "\n",
    "# Convert year Column to a dataetime format\n",
    "data3['Year'] = pd.to_datetime(data3['Year'], format='%Y') "
   ]
  },
  {
   "cell_type": "code",
   "execution_count": 111,
   "metadata": {},
   "outputs": [
    {
     "name": "stdout",
     "output_type": "stream",
     "text": [
      "<class 'pandas.core.frame.DataFrame'>\n",
      "RangeIndex: 89 entries, 0 to 88\n",
      "Data columns (total 10 columns):\n",
      " #   Column         Non-Null Count  Dtype         \n",
      "---  ------         --------------  -----         \n",
      " 0   Company_Brand  89 non-null     object        \n",
      " 1   Founded        89 non-null     int32         \n",
      " 2   HeadQuarter    89 non-null     object        \n",
      " 3   Sector         89 non-null     object        \n",
      " 4   What_it_does   89 non-null     object        \n",
      " 5   Founders       89 non-null     object        \n",
      " 6   Investor       89 non-null     object        \n",
      " 7   Amount         89 non-null     float64       \n",
      " 8   Stage          89 non-null     category      \n",
      " 9   Year           89 non-null     datetime64[ns]\n",
      "dtypes: category(1), datetime64[ns](1), float64(1), int32(1), object(6)\n",
      "memory usage: 6.8+ KB\n"
     ]
    }
   ],
   "source": [
    "data3.info()"
   ]
  },
  {
   "cell_type": "markdown",
   "metadata": {},
   "source": [
    "4th Dataset 2018 (data4)\n",
    "\n",
    "* This dataset is from a GitHub repository. We had to clone from GitHub then copy csv file to our notebook"
   ]
  },
  {
   "cell_type": "code",
   "execution_count": 112,
   "metadata": {},
   "outputs": [],
   "source": [
    "# Load data from GitHub repository \n",
    "\n",
    "data4=pd.read_csv('C:\\\\Users\\\\Admin\\\\OneDrive\\\\OneDrive-Azubi\\\\CA-LP1\\\\LP1-Indian-Startup-Ecosystem-1\\\\CA-LP1-Indian-Startup-Ecosystem-1')"
   ]
  },
  {
   "cell_type": "code",
   "execution_count": 113,
   "metadata": {},
   "outputs": [
    {
     "data": {
      "text/html": [
       "<div>\n",
       "<style scoped>\n",
       "    .dataframe tbody tr th:only-of-type {\n",
       "        vertical-align: middle;\n",
       "    }\n",
       "\n",
       "    .dataframe tbody tr th {\n",
       "        vertical-align: top;\n",
       "    }\n",
       "\n",
       "    .dataframe thead th {\n",
       "        text-align: right;\n",
       "    }\n",
       "</style>\n",
       "<table border=\"1\" class=\"dataframe\">\n",
       "  <thead>\n",
       "    <tr style=\"text-align: right;\">\n",
       "      <th></th>\n",
       "      <th>Company Name</th>\n",
       "      <th>Industry</th>\n",
       "      <th>Round/Series</th>\n",
       "      <th>Amount</th>\n",
       "      <th>Location</th>\n",
       "      <th>About Company</th>\n",
       "    </tr>\n",
       "  </thead>\n",
       "  <tbody>\n",
       "    <tr>\n",
       "      <th>0</th>\n",
       "      <td>TheCollegeFever</td>\n",
       "      <td>Brand Marketing, Event Promotion, Marketing, S...</td>\n",
       "      <td>Seed</td>\n",
       "      <td>250000</td>\n",
       "      <td>Bangalore, Karnataka, India</td>\n",
       "      <td>TheCollegeFever is a hub for fun, fiesta and f...</td>\n",
       "    </tr>\n",
       "    <tr>\n",
       "      <th>1</th>\n",
       "      <td>Happy Cow Dairy</td>\n",
       "      <td>Agriculture, Farming</td>\n",
       "      <td>Seed</td>\n",
       "      <td>₹40,000,000</td>\n",
       "      <td>Mumbai, Maharashtra, India</td>\n",
       "      <td>A startup which aggregates milk from dairy far...</td>\n",
       "    </tr>\n",
       "    <tr>\n",
       "      <th>2</th>\n",
       "      <td>MyLoanCare</td>\n",
       "      <td>Credit, Financial Services, Lending, Marketplace</td>\n",
       "      <td>Series A</td>\n",
       "      <td>₹65,000,000</td>\n",
       "      <td>Gurgaon, Haryana, India</td>\n",
       "      <td>Leading Online Loans Marketplace in India</td>\n",
       "    </tr>\n",
       "    <tr>\n",
       "      <th>3</th>\n",
       "      <td>PayMe India</td>\n",
       "      <td>Financial Services, FinTech</td>\n",
       "      <td>Angel</td>\n",
       "      <td>2000000</td>\n",
       "      <td>Noida, Uttar Pradesh, India</td>\n",
       "      <td>PayMe India is an innovative FinTech organizat...</td>\n",
       "    </tr>\n",
       "    <tr>\n",
       "      <th>4</th>\n",
       "      <td>Eunimart</td>\n",
       "      <td>E-Commerce Platforms, Retail, SaaS</td>\n",
       "      <td>Seed</td>\n",
       "      <td>—</td>\n",
       "      <td>Hyderabad, Andhra Pradesh, India</td>\n",
       "      <td>Eunimart is a one stop solution for merchants ...</td>\n",
       "    </tr>\n",
       "  </tbody>\n",
       "</table>\n",
       "</div>"
      ],
      "text/plain": [
       "      Company Name                                           Industry  \\\n",
       "0  TheCollegeFever  Brand Marketing, Event Promotion, Marketing, S...   \n",
       "1  Happy Cow Dairy                               Agriculture, Farming   \n",
       "2       MyLoanCare   Credit, Financial Services, Lending, Marketplace   \n",
       "3      PayMe India                        Financial Services, FinTech   \n",
       "4         Eunimart                 E-Commerce Platforms, Retail, SaaS   \n",
       "\n",
       "  Round/Series       Amount                          Location  \\\n",
       "0         Seed       250000       Bangalore, Karnataka, India   \n",
       "1         Seed  ₹40,000,000        Mumbai, Maharashtra, India   \n",
       "2     Series A  ₹65,000,000           Gurgaon, Haryana, India   \n",
       "3        Angel      2000000       Noida, Uttar Pradesh, India   \n",
       "4         Seed            —  Hyderabad, Andhra Pradesh, India   \n",
       "\n",
       "                                       About Company  \n",
       "0  TheCollegeFever is a hub for fun, fiesta and f...  \n",
       "1  A startup which aggregates milk from dairy far...  \n",
       "2          Leading Online Loans Marketplace in India  \n",
       "3  PayMe India is an innovative FinTech organizat...  \n",
       "4  Eunimart is a one stop solution for merchants ...  "
      ]
     },
     "execution_count": 113,
     "metadata": {},
     "output_type": "execute_result"
    }
   ],
   "source": [
    "data4.head ()"
   ]
  },
  {
   "cell_type": "code",
   "execution_count": 114,
   "metadata": {},
   "outputs": [
    {
     "data": {
      "text/html": [
       "<div>\n",
       "<style scoped>\n",
       "    .dataframe tbody tr th:only-of-type {\n",
       "        vertical-align: middle;\n",
       "    }\n",
       "\n",
       "    .dataframe tbody tr th {\n",
       "        vertical-align: top;\n",
       "    }\n",
       "\n",
       "    .dataframe thead th {\n",
       "        text-align: right;\n",
       "    }\n",
       "</style>\n",
       "<table border=\"1\" class=\"dataframe\">\n",
       "  <thead>\n",
       "    <tr style=\"text-align: right;\">\n",
       "      <th></th>\n",
       "      <th>Company Name</th>\n",
       "      <th>Industry</th>\n",
       "      <th>Round/Series</th>\n",
       "      <th>Amount</th>\n",
       "      <th>Location</th>\n",
       "      <th>About Company</th>\n",
       "    </tr>\n",
       "  </thead>\n",
       "  <tbody>\n",
       "    <tr>\n",
       "      <th>521</th>\n",
       "      <td>Udaan</td>\n",
       "      <td>B2B, Business Development, Internet, Marketplace</td>\n",
       "      <td>Series C</td>\n",
       "      <td>225000000</td>\n",
       "      <td>Bangalore, Karnataka, India</td>\n",
       "      <td>Udaan is a B2B trade platform, designed specif...</td>\n",
       "    </tr>\n",
       "    <tr>\n",
       "      <th>522</th>\n",
       "      <td>Happyeasygo Group</td>\n",
       "      <td>Tourism, Travel</td>\n",
       "      <td>Series A</td>\n",
       "      <td>—</td>\n",
       "      <td>Haryana, Haryana, India</td>\n",
       "      <td>HappyEasyGo is an online travel domain.</td>\n",
       "    </tr>\n",
       "    <tr>\n",
       "      <th>523</th>\n",
       "      <td>Mombay</td>\n",
       "      <td>Food and Beverage, Food Delivery, Internet</td>\n",
       "      <td>Seed</td>\n",
       "      <td>7500</td>\n",
       "      <td>Mumbai, Maharashtra, India</td>\n",
       "      <td>Mombay is a unique opportunity for housewives ...</td>\n",
       "    </tr>\n",
       "    <tr>\n",
       "      <th>524</th>\n",
       "      <td>Droni Tech</td>\n",
       "      <td>Information Technology</td>\n",
       "      <td>Seed</td>\n",
       "      <td>₹35,000,000</td>\n",
       "      <td>Mumbai, Maharashtra, India</td>\n",
       "      <td>Droni Tech manufacture UAVs and develop softwa...</td>\n",
       "    </tr>\n",
       "    <tr>\n",
       "      <th>525</th>\n",
       "      <td>Netmeds</td>\n",
       "      <td>Biotechnology, Health Care, Pharmaceutical</td>\n",
       "      <td>Series C</td>\n",
       "      <td>35000000</td>\n",
       "      <td>Chennai, Tamil Nadu, India</td>\n",
       "      <td>Welcome to India's most convenient pharmacy!</td>\n",
       "    </tr>\n",
       "  </tbody>\n",
       "</table>\n",
       "</div>"
      ],
      "text/plain": [
       "          Company Name                                          Industry  \\\n",
       "521              Udaan  B2B, Business Development, Internet, Marketplace   \n",
       "522  Happyeasygo Group                                   Tourism, Travel   \n",
       "523             Mombay        Food and Beverage, Food Delivery, Internet   \n",
       "524         Droni Tech                            Information Technology   \n",
       "525            Netmeds        Biotechnology, Health Care, Pharmaceutical   \n",
       "\n",
       "    Round/Series       Amount                     Location  \\\n",
       "521     Series C    225000000  Bangalore, Karnataka, India   \n",
       "522     Series A            —      Haryana, Haryana, India   \n",
       "523         Seed         7500   Mumbai, Maharashtra, India   \n",
       "524         Seed  ₹35,000,000   Mumbai, Maharashtra, India   \n",
       "525     Series C     35000000   Chennai, Tamil Nadu, India   \n",
       "\n",
       "                                         About Company  \n",
       "521  Udaan is a B2B trade platform, designed specif...  \n",
       "522            HappyEasyGo is an online travel domain.  \n",
       "523  Mombay is a unique opportunity for housewives ...  \n",
       "524  Droni Tech manufacture UAVs and develop softwa...  \n",
       "525       Welcome to India's most convenient pharmacy!  "
      ]
     },
     "execution_count": 114,
     "metadata": {},
     "output_type": "execute_result"
    }
   ],
   "source": [
    "data4.tail()"
   ]
  },
  {
   "cell_type": "code",
   "execution_count": 115,
   "metadata": {},
   "outputs": [
    {
     "data": {
      "text/plain": [
       "(526, 6)"
      ]
     },
     "execution_count": 115,
     "metadata": {},
     "output_type": "execute_result"
    }
   ],
   "source": [
    "data4.shape"
   ]
  },
  {
   "cell_type": "code",
   "execution_count": 116,
   "metadata": {},
   "outputs": [
    {
     "data": {
      "text/html": [
       "<div>\n",
       "<style scoped>\n",
       "    .dataframe tbody tr th:only-of-type {\n",
       "        vertical-align: middle;\n",
       "    }\n",
       "\n",
       "    .dataframe tbody tr th {\n",
       "        vertical-align: top;\n",
       "    }\n",
       "\n",
       "    .dataframe thead th {\n",
       "        text-align: right;\n",
       "    }\n",
       "</style>\n",
       "<table border=\"1\" class=\"dataframe\">\n",
       "  <thead>\n",
       "    <tr style=\"text-align: right;\">\n",
       "      <th></th>\n",
       "      <th>count</th>\n",
       "      <th>unique</th>\n",
       "      <th>top</th>\n",
       "      <th>freq</th>\n",
       "    </tr>\n",
       "  </thead>\n",
       "  <tbody>\n",
       "    <tr>\n",
       "      <th>Company Name</th>\n",
       "      <td>526</td>\n",
       "      <td>525</td>\n",
       "      <td>TheCollegeFever</td>\n",
       "      <td>2</td>\n",
       "    </tr>\n",
       "    <tr>\n",
       "      <th>Industry</th>\n",
       "      <td>526</td>\n",
       "      <td>405</td>\n",
       "      <td>—</td>\n",
       "      <td>30</td>\n",
       "    </tr>\n",
       "    <tr>\n",
       "      <th>Round/Series</th>\n",
       "      <td>526</td>\n",
       "      <td>21</td>\n",
       "      <td>Seed</td>\n",
       "      <td>280</td>\n",
       "    </tr>\n",
       "    <tr>\n",
       "      <th>Amount</th>\n",
       "      <td>526</td>\n",
       "      <td>198</td>\n",
       "      <td>—</td>\n",
       "      <td>148</td>\n",
       "    </tr>\n",
       "    <tr>\n",
       "      <th>Location</th>\n",
       "      <td>526</td>\n",
       "      <td>50</td>\n",
       "      <td>Bangalore, Karnataka, India</td>\n",
       "      <td>102</td>\n",
       "    </tr>\n",
       "    <tr>\n",
       "      <th>About Company</th>\n",
       "      <td>526</td>\n",
       "      <td>524</td>\n",
       "      <td>TheCollegeFever is a hub for fun, fiesta and f...</td>\n",
       "      <td>2</td>\n",
       "    </tr>\n",
       "  </tbody>\n",
       "</table>\n",
       "</div>"
      ],
      "text/plain": [
       "              count unique                                                top  \\\n",
       "Company Name    526    525                                    TheCollegeFever   \n",
       "Industry        526    405                                                  —   \n",
       "Round/Series    526     21                                               Seed   \n",
       "Amount          526    198                                                  —   \n",
       "Location        526     50                        Bangalore, Karnataka, India   \n",
       "About Company   526    524  TheCollegeFever is a hub for fun, fiesta and f...   \n",
       "\n",
       "              freq  \n",
       "Company Name     2  \n",
       "Industry        30  \n",
       "Round/Series   280  \n",
       "Amount         148  \n",
       "Location       102  \n",
       "About Company    2  "
      ]
     },
     "execution_count": 116,
     "metadata": {},
     "output_type": "execute_result"
    }
   ],
   "source": [
    "data4.describe().T"
   ]
  },
  {
   "cell_type": "code",
   "execution_count": 117,
   "metadata": {},
   "outputs": [
    {
     "name": "stdout",
     "output_type": "stream",
     "text": [
      "<class 'pandas.core.frame.DataFrame'>\n",
      "RangeIndex: 526 entries, 0 to 525\n",
      "Data columns (total 6 columns):\n",
      " #   Column         Non-Null Count  Dtype \n",
      "---  ------         --------------  ----- \n",
      " 0   Company Name   526 non-null    object\n",
      " 1   Industry       526 non-null    object\n",
      " 2   Round/Series   526 non-null    object\n",
      " 3   Amount         526 non-null    object\n",
      " 4   Location       526 non-null    object\n",
      " 5   About Company  526 non-null    object\n",
      "dtypes: object(6)\n",
      "memory usage: 24.8+ KB\n"
     ]
    }
   ],
   "source": [
    "data4.info ()"
   ]
  },
  {
   "cell_type": "code",
   "execution_count": 118,
   "metadata": {},
   "outputs": [
    {
     "data": {
      "text/plain": [
       "Company Name     0\n",
       "Industry         0\n",
       "Round/Series     0\n",
       "Amount           0\n",
       "Location         0\n",
       "About Company    0\n",
       "dtype: int64"
      ]
     },
     "execution_count": 118,
     "metadata": {},
     "output_type": "execute_result"
    }
   ],
   "source": [
    "data4.isnull().sum()"
   ]
  },
  {
   "cell_type": "code",
   "execution_count": 119,
   "metadata": {},
   "outputs": [
    {
     "data": {
      "text/plain": [
       "Index(['Company Name', 'Industry', 'Round/Series', 'Amount', 'Location',\n",
       "       'About Company'],\n",
       "      dtype='object')"
      ]
     },
     "execution_count": 119,
     "metadata": {},
     "output_type": "execute_result"
    }
   ],
   "source": [
    "data4.columns"
   ]
  },
  {
   "cell_type": "code",
   "execution_count": 120,
   "metadata": {},
   "outputs": [
    {
     "data": {
      "text/plain": [
       "1"
      ]
     },
     "execution_count": 120,
     "metadata": {},
     "output_type": "execute_result"
    }
   ],
   "source": [
    "data4.duplicated().sum()"
   ]
  },
  {
   "cell_type": "code",
   "execution_count": 121,
   "metadata": {},
   "outputs": [
    {
     "data": {
      "text/plain": [
       "array(['TheCollegeFever', 'Happy Cow Dairy', 'MyLoanCare', 'PayMe India',\n",
       "       'Eunimart', 'Hasura', 'Tripshelf', 'Hyperdata.IO', 'Freightwalla',\n",
       "       'Microchip Payments', 'BizCrum Infotech Pvt. Ltd.', 'Emojifi',\n",
       "       'Flock', 'Freshboxx', 'Wide Mobility Mechatronics', 'Pitstop',\n",
       "       'Mihuru', 'Fyle', 'AppWharf', 'Antariksh Waste Ventures Pvt ltd',\n",
       "       'Cogoport', 'PaisaDukan', 'Sleepy Owl Coffee', 'BlueJack',\n",
       "       'PregBuddy', 'AgNext Technologies', 'Pando', 'Mintifi', 'Carcrew',\n",
       "       'NicheAI', 'Chariot Tech',\n",
       "       'Ideal Insurance Brokers/ 121Policy.com', 'Loanzen',\n",
       "       'Mojro Technologies', 'Elemential', 'Loadshare', 'Yumlane',\n",
       "       'Kriger Campus', 'Pipa+Bella', 'Kaleidofin', 'Chakr Innovation',\n",
       "       'IndigoLearn', 'UClean', 'Coutloot', 'Letstrack', 'Pooltoo',\n",
       "       'Finzy', 'Fitternity', 'Keito', 'Tolet for Students', 'Chai Kings',\n",
       "       'Dainik Jagran', 'Playtoome', 'ONGO Framework', 'Notesgen',\n",
       "       'Arogya MedTech', 'Propshop24', 'myUpchar',\n",
       "       'MissMalini Entertainment', 'Rooter', 'ZestMoney',\n",
       "       'alphaics Corporation', 'MyDentistChoice', 'Sattviko', 'Sensibull',\n",
       "       'Bombay Shaving Company', 'MedCords', 'University Living', '&ME',\n",
       "       'Enakshi', 'Ultraviolette Automotive', 'Inthree Access',\n",
       "       'BUGWORKS Research India', 'Guardian.in', 'PrestLoans', 'Wimoxez',\n",
       "       'India Accelerator', 'HappyEMI', 'Wishup', 'Hansel.io', 'Propelld',\n",
       "       'PivotRoots', 'ZiffyHomes', 'Carmesi', 'OckyPocky', 'Racetrack',\n",
       "       'WHR', 'Asteria Aerospace', 'FabAlley', 'Tranzmeo', 'SBI Life',\n",
       "       'Studds Accessories', 'Design Cafe',\n",
       "       'NoPaperForms Solutions Pvt. Ltd.', 'Rays Power Infra',\n",
       "       'AuthMetrik', 'Khidki', 'LetsTransport', 'Next Digital Solutions',\n",
       "       'Portea Medical', 'Aavas Financiers', 'Swiggy', 'Milkbasket',\n",
       "       'Nutrisattva (Proliva)', 'Toppr', 'Jagaran Microfin',\n",
       "       'Vivriti Capital', 'Be U Salons', 'Impact Guru', 'MobiKwik',\n",
       "       'Stones2Milestones', 'Generico', 'Adiuvo Diagnostics',\n",
       "       'DataTrained', 'OneAssist',\n",
       "       'Satin Creditcare Network Limited (SCNL)',\n",
       "       'APAC Financial Services', 'Moglix', 'SEDEMAC Mechatronics',\n",
       "       'MadGuy Labs', 'Dee Dee Labs', 'FLEECA', 'Shop101',\n",
       "       'FeedMyPockets', 'Housejoy', 'Ambee', 'FoodBuddy', 'Ninjacart',\n",
       "       'Olly Smart Credit Card', 'Zestl', 'BYJU’S', 'Wakefit',\n",
       "       'Hero Electric', 'Pentation Analytics', 'PerkFinance', 'Roposo',\n",
       "       'Plum Goodness', 'Drstore', 'Wow Venue', 'Chizel', 'OTO Capital',\n",
       "       'Boodmo', 'Khabri', 'MyNewCar.in', 'HalaPlay Technologies',\n",
       "       'PlanetSpark', 'WheelsEMI',\n",
       "       'Forum for Innovation Incubation Research and Entrepreneurship',\n",
       "       'OYO', 'Quikr', 'Tabono', 'LearnApp', 'Shopkirana', 'Fric Bergen',\n",
       "       'Articbot', 'BuildSupply', 'Fusion Microfinance',\n",
       "       'Any time Doctor', 'Go Payments', 'Guiddoo World', 'ION Energy',\n",
       "       'UnoTag', 'CivilCops', 'Rockmetric', 'Classworks India',\n",
       "       'Snapmint', 'artbandhu', 'Survaider', 'Credy', 'iChamp', 'Qandle',\n",
       "       'Avishkaar Box', 'Gegadyne Energy', 'HyperXchange', 'Deftouch',\n",
       "       'Doodhwala', 'DronaHQ', 'FastFox', 'BuyForexOnline', 'Colive.in',\n",
       "       'Agricxlab Private Limited', 'Corefactors', 'Fincash.com',\n",
       "       'Pandorum Technologies', 'Shirsa Labs', 'PetSutra', 'Awaaz De',\n",
       "       'PinkBlue', 'Eduvanz', 'Rupeek',\n",
       "       'Backpacker Panda Holidays Private Limited',\n",
       "       'Shape (School Health and Physical Education)', 'Placio',\n",
       "       'Aviom India Housing Finance', 'GenRobotic', 'HeyHolidays',\n",
       "       'Pratilipi', 'SectorQube', 'Food Memories', 'ZAMROO',\n",
       "       'Silversparro Technologies Pvt. Ltd', 'Creator’s Gurukul',\n",
       "       'Emflux Motors', 'Tricog Health Services Pvt Ltd', 'Scapic',\n",
       "       '6Degree', 'Chrysalis (EZ Vidya)', 'Ekincare', 'Streo', 'Groww',\n",
       "       'Cell Propulsion', 'Chezuba', 'Ontrack Technologies Pvt. Ltd',\n",
       "       'Wealthtrust', 'Faclon Labs', 'Awign Enterprises', 'CollPoll',\n",
       "       'Zyla Health', 'Hubhopper', 'Rubix108 Technologies', 'Workflexi',\n",
       "       'Streak', 'Kuants', 'NiYO Solutions', 'Hippo Video', 'Satvacart',\n",
       "       'Daaki', 'Simulanis', 'MY CHIRAAG CAB', 'WOTU', 'Flathalt',\n",
       "       'True Elements', 'Trendlyne Technologies', 'Planys Technologies',\n",
       "       'HealthPlix', 'dishq', 'Entropik Technology', 'myHQ', 'Trell',\n",
       "       'Kidovators (by GyanLab)', 'Log 9 Materials', 'VTION',\n",
       "       'HousingMan.com', 'Steradian Semiconductors', 'RupeeCircle',\n",
       "       'Wooden Street', 'The Ken', 'SaffronStays', 'Vebbler', 'Foyr',\n",
       "       'MEngage', 'Inner Being Wellness', 'Kobster', 'Wishberry',\n",
       "       'McXtra', 'Magic Crate', 'SmartVizX', 'MySEODoc',\n",
       "       'ENLYFT DIGITAL SOLUTIONS PRIVATE LIMITED', 'Scale Labs',\n",
       "       'HungerBox', 'Biryani By Kilo', 'Wholesome Habits (EAT Anytime)',\n",
       "       'GoBumpr', 'Fixpocket', 'edureka!',\n",
       "       'Hashtag Loyalty Private Limited', 'Wow Express', 'ZunRoof',\n",
       "       'Eggoz', 'Sqrrl Fintech', 'GalaxyCard', 'IndiQube', 'EGK Foods',\n",
       "       'NirogStreet', 'Pixr8', 'Nivesh.com', 'Theranosis Life Sciences',\n",
       "       'Poshmiles Online Solutions Private Limited', 'Reculta', 'Orbo.ai',\n",
       "       'Inntot Technologies', 'Zoctr Health', 'Hey Deedee',\n",
       "       'DigiConnectt Technologys', 'Locus.sh', 'Sports Flashes Pvt. Ltd',\n",
       "       'Inc42', 'Picxy', 'Huddle', 'Benepik', 'Cash Suvidha', 'Smartcoin',\n",
       "       'Carmel Organics', 'Roadcast', 'Printline Media(ThePrint)',\n",
       "       'Creditas Solutions', 'UrbanPiper', 'Doxper', 'i2ifunding',\n",
       "       'ShakeDeal', 'HelloVerify', 'Fasal', 'CoinGeto', 'Avail Finance',\n",
       "       'Tripeur', 'Wedeterna', 'Stumagz', 'Doubtnut', 'MCaffeine',\n",
       "       'TrustCheckr', 'HealthAssure', 'Picture TIme', '1Crowd',\n",
       "       'Aarav Unmanned Systems', 'Wellthy Therapeutics Pvt Ltd', 'Nua',\n",
       "       'Kuvera.in', 'Livehealth', 'Gramophone', 'Ora', 'Buddy4Study.com',\n",
       "       'Predible Health', 'Syncremedies Healthcare Pvt Ltd',\n",
       "       'Blueleaf Cyberspace Systems', 'Toffee', 'ORO Wealth',\n",
       "       'HealWell24', 'Acko General Insurance', 'arzooo.com',\n",
       "       'Bonphul Air Products', 'DheeYantra Research Labs', 'Edyoo',\n",
       "       'Chtrbox', 'Aashiyaan Housing and Development Finance',\n",
       "       'BetterPlace Safety Solutions Pvt. Ltd.', 'Cashkumar', 'Rocketium',\n",
       "       'FreightBazaar', 'OPEN', 'mfine', 'Earth Food', 'Charcoal Eats',\n",
       "       'Wishfie', 'The Social Hook', 'FreightBro', 'Finwego', 'Cricnwin',\n",
       "       'Wicked Ride Adventure Services Private Limited', 'Career Anna',\n",
       "       'ERUDITUS Executive Education', 'Gaia Smart Cities', 'Square Off',\n",
       "       'UrbanClap', 'Hospals', 'Kogta Financial India Limited',\n",
       "       'Perspectico', 'The Souled Store',\n",
       "       'Hush - Speak Up. Make Work Better', 'Drivezy', 'Freyr Energy',\n",
       "       'NIRAMAI Health Analytix', 'CloudSek', 'Lendbox', 'Verloop',\n",
       "       'Flickstree', 'Paymatrix', 'Idha Skin Clinic', 'InCred', 'Vedantu',\n",
       "       'Sportido', 'Stelis Biopharma', 'Magicpin', 'Try & Buy',\n",
       "       'Mech Mocha', 'Aye Finance', 'Aldopay', 'Detect Technologies',\n",
       "       'Signzy', 'CashRich', 'Cloudnine Hospitals', 'CropIn Technologies',\n",
       "       'Billdesk', 'Yaantra', 'TECHBOOZE', 'HealthifyMe', 'hoi foods',\n",
       "       'Perpule', 'Royal Sundaram General Insurance Co. Limited',\n",
       "       'CleanseCar', 'DRIVEU', 'Spinny',\n",
       "       'Asset Reconstruction Company (India) Ltd.', 'Med365 Healthcare',\n",
       "       'Dunzo', 'Mobile Premier League (MPL)', 'WalMart India', 'Cred',\n",
       "       'Meesho', 'BhaskarGuru', 'Gugu', 'FarmTaaza', 'Vizzbee',\n",
       "       'BIGPHI TECHNOLOGIES PVT. LTD.', 'Mobycy', 'Traveo Soft Pvt. Ltd.',\n",
       "       'Em Personal Care', 'Lucideus', 'Eupheus Learning', 'GamingMonk',\n",
       "       'Sukkhi Jewellery', 'INDwealth', 'Medikabazaar', 'NIRA',\n",
       "       'Duroflex Pvt. Ltd.', 'Clensta', 'Jetbrain Robotics', 'Medimetry',\n",
       "       'Healthkart', 'Indiabulls Ventures', 'Vistara', 'ClearTax',\n",
       "       'Shuttl', 'GuruQ', 'Azure Power', 'Cube', 'RAHI Care', 'Mynvax',\n",
       "       'Loans4SME', 'UpCyclersLab', 'Cellerite Systems', 'Taru Naturals',\n",
       "       'LetsMD', 'Twenty Two Motors', 'Truebil', 'FarmersFZ', 'Worxogo',\n",
       "       'Vivish Technologies (myGate)', 'Singularity Dynamics',\n",
       "       'Virtual MetalStreet(MetalStreet)', 'Veritas Finance',\n",
       "       'Manjushree Technopack', 'GoZefo', 'Zomato', 'Innov8 Coworking',\n",
       "       'RevFin', 'Lavelle Networks', 'Blackbuck', 'Cardekho',\n",
       "       'ElasticRun', 'Droom Technology Private Limited', 'Vogo Rentals',\n",
       "       'InnerChef', 'LivQuik', 'Disprz', '9stacks', 'Origo',\n",
       "       'YourOwnROOM', 'Vahdam Teas', 'Spoofin', 'Strom Motors',\n",
       "       'PharmEasy', 'Licious', 'Stanza Living', 'docturnal',\n",
       "       'Bounce (Metro Bikes)', 'Technology 9 Labs (T9L)', 'Goals101',\n",
       "       'Satya MicroCapital', 'Ummeed Housing Finance Private Limited',\n",
       "       'StockEdge', 'Sequretek', 'Avenues Payments India Pvt. Ltd.',\n",
       "       'Qbera', 'Urban Ladder',\n",
       "       'Planet11 eCommerce Solutions India (Avenue11)', 'DailyNinja',\n",
       "       'Iba Halal Care', 'Knocksense', 'Togedr', 'Parkwheels',\n",
       "       'ShareChat', 'Cyclops Medtech', 'Livspace', 'NewsBytes',\n",
       "       'Leena AI', 'Max Healthcare', 'GoBolt', 'GoGaga', 'Mate Labs',\n",
       "       'Furlenco', 'Ola', 'DocPrime', 'CLP India Pvt. Ltd.', 'Xplorabox',\n",
       "       'Myra', 'Vokal', 'Kissht', 'Upwards Fintech',\n",
       "       'Bon(Bonfleet Solutions)', 'Mamaearth', 'BabyChakra',\n",
       "       'Belstar Investment and Finance Private Limited', 'Naaptol',\n",
       "       'Moonshine Meadery', 'Verzeo', 'Haazri', 'Connect India',\n",
       "       'Flyrobe', 'Scholify', 'Dream11', 'srJna', 'Nykaa', 'Chaayos',\n",
       "       'Heelium', 'LT Foods', 'Multibashi', 'Cleardekho', 'Dailyhunt',\n",
       "       'SlicePay', 'Udaan', 'Happyeasygo Group', 'Mombay', 'Droni Tech',\n",
       "       'Netmeds'], dtype=object)"
      ]
     },
     "execution_count": 121,
     "metadata": {},
     "output_type": "execute_result"
    }
   ],
   "source": [
    "data4['Company Name'].unique()"
   ]
  },
  {
   "cell_type": "code",
   "execution_count": 122,
   "metadata": {},
   "outputs": [
    {
     "data": {
      "text/plain": [
       "array(['Brand Marketing, Event Promotion, Marketing, Sponsorship, Ticketing',\n",
       "       'Agriculture, Farming',\n",
       "       'Credit, Financial Services, Lending, Marketplace',\n",
       "       'Financial Services, FinTech',\n",
       "       'E-Commerce Platforms, Retail, SaaS',\n",
       "       'Cloud Infrastructure, PaaS, SaaS',\n",
       "       'Internet, Leisure, Marketplace', 'Market Research',\n",
       "       'Information Services, Information Technology', 'Mobile Payments',\n",
       "       'B2B, Shoes', 'Internet',\n",
       "       'Apps, Collaboration, Developer Platform, Enterprise Software, Messaging, Productivity Tools, Video Chat',\n",
       "       'Food Delivery', 'Industrial Automation',\n",
       "       'Automotive, Search Engine, Service Industry',\n",
       "       'Finance, Internet, Travel',\n",
       "       'Accounting, Business Information Systems, Business Travel, Finance, SaaS',\n",
       "       'Artificial Intelligence, Product Search, SaaS, Service Industry, Software',\n",
       "       'Internet of Things, Waste Management',\n",
       "       'Air Transportation, Freight Service, Logistics, Marine Transportation',\n",
       "       'Financial Services', 'Food and Beverage', 'Autonomous Vehicles',\n",
       "       'Enterprise Software, Health Care, Hospital, Parenting, Personal Health, SaaS',\n",
       "       'Agriculture, Analytics, Big Data, Farming',\n",
       "       'Logistics, Supply Chain Management',\n",
       "       'Financial Services, Lending',\n",
       "       'Automotive, Marketplace, Online Portals',\n",
       "       'Artificial Intelligence',\n",
       "       'Internet of Things, Telecommunications', 'Insurance',\n",
       "       'Information Technology, Logistics, Supply Chain Management',\n",
       "       'Blockchain, Developer Tools, Enterprise Software',\n",
       "       'Industrial Automation, Logistics, Supply Chain Management',\n",
       "       'Food and Beverage, Food Delivery, Snack Food', 'Education',\n",
       "       'E-Commerce, Fashion, Jewelry, Retail', 'Renewable Energy',\n",
       "       'E-Learning, Education',\n",
       "       'Clean Energy, CleanTech, Laundry and Dry-cleaning',\n",
       "       'E-Commerce, Fashion, Mobile',\n",
       "       'Apps, Messaging, Navigation, Public Safety', 'Transportation',\n",
       "       'Fitness, Health Care, Wellness',\n",
       "       'Artificial Intelligence, Machine Learning, SaaS, Virtual Assistant',\n",
       "       'Hospitality', 'Food and Beverage, Tea',\n",
       "       'Media and Entertainment, News, Outdoors',\n",
       "       'Broadcasting, Media and Entertainment, Music, Music Streaming, Video, Video Streaming',\n",
       "       'B2B, Information Services, Information Technology',\n",
       "       'EdTech, Education, Enterprise Software, Peer to Peer',\n",
       "       'Health Care, Medical', 'E-Commerce',\n",
       "       'Health Care, Hospital, Wellness', '—', 'Sports',\n",
       "       'Big Data, Consumer Lending, FinTech',\n",
       "       'Cloud Computing, Computer, Semiconductor',\n",
       "       'Health Care, Medical, Pharmaceutical', 'Food Processing, Retail',\n",
       "       'Trading Platform', \"Consumer Goods, Lifestyle, Men's\", 'Wellness',\n",
       "       'Food and Beverage, Food Processing, Nutrition', 'Fashion',\n",
       "       'Automotive, Electric Vehicle, Energy Storage',\n",
       "       'Consulting, Retail, Social',\n",
       "       'Biotechnology, Life Science, Pharmaceutical, Product Research',\n",
       "       'Health Care',\n",
       "       'Credit, Financial Services, FinTech, Personal Finance',\n",
       "       'Communities, Coworking, Incubators',\n",
       "       'Consumer, Financial Services, FinTech',\n",
       "       'Consumer Applications, Information Services, Location Based Services, Virtual Assistant',\n",
       "       'Mobile, Mobile Apps, Personalization, Test and Measurement, Web Apps',\n",
       "       'Education, Financial Services, FinTech',\n",
       "       'Advertising, Consulting, Digital Marketing',\n",
       "       'Marketplace, Real Estate, Rental Property',\n",
       "       'E-Learning, Internet, Video Games',\n",
       "       'Artificial Intelligence, Cloud Computing, Video',\n",
       "       'Health Care, Information Technology', 'Aerospace',\n",
       "       'E-Commerce, Fashion, Lifestyle',\n",
       "       'Artificial Intelligence, Business Intelligence, Industrial Automation, Machine Learning',\n",
       "       'Home Decor, Home Improvement, Home Renovation, Home Services, Interior Design, Smart Home',\n",
       "       'EdTech, Education, Information Services, SaaS', 'Energy, Solar',\n",
       "       'B2B, Biometrics, Cyber Security, Fraud Detection, SaaS, Security',\n",
       "       'Artificial Intelligence, Social',\n",
       "       'Logistics, Transportation, Travel',\n",
       "       'Digital Marketing, SEM, SEO, Web Development',\n",
       "       'Health Care, Hospital, Medical', 'Finance, Financial Services',\n",
       "       'Food Delivery, Food Processing, Internet',\n",
       "       'E-Commerce, Food and Beverage, Internet',\n",
       "       'Fitness, Food and Beverage, Health Care, Nutrition',\n",
       "       'EdTech, Education, Knowledge Management',\n",
       "       'Apps, Beauty, Consumer, Retail',\n",
       "       'Creative Agency, Crowdfunding, EdTech, Health Care, Internet, Medical, Non Profit, Personal Health',\n",
       "       'Consumer Lending, Financial Services, FinTech, Insurance, Lending, Mobile Payments, Payments, Wealth Management',\n",
       "       'E-Learning, Education, Higher Education', 'Health Diagnostics',\n",
       "       'EdTech, Education', 'Financial Services, SaaS, Security',\n",
       "       'Banking, Finance, Financial Services, Non Profit',\n",
       "       'B2B, E-Commerce, Mobile',\n",
       "       'Automotive, Electric Vehicle, Renewable Energy', 'E-Learning',\n",
       "       'Embedded Systems, Health Care, Medical, Product Research',\n",
       "       'Apps, E-Commerce, Internet',\n",
       "       'Advertising, Human Resources, Marketing',\n",
       "       'Beauty, Fitness, Home Services, Internet',\n",
       "       'Health Care, Medical Device, Public Safety',\n",
       "       'Food Delivery, Online Portals, Restaurants',\n",
       "       'AgTech, B2B, Supply Chain Management',\n",
       "       'Credit Cards, Finance, Mobile Apps, Mobile Payments, Payments',\n",
       "       'Software',\n",
       "       'EdTech, Education, Higher Education, Secondary Education',\n",
       "       'Manufacturing, Retail', 'Manufacturing',\n",
       "       'Information Services, Information Technology, InsurTech',\n",
       "       'Consumer Lending, FinTech', 'Internet, Social Network, TV',\n",
       "       'Beauty, Health Care', 'Hospital', 'Events',\n",
       "       '3D Printing, Manufacturing, Product Design', 'Automotive',\n",
       "       'Automotive, Retail', 'Apps, Audio', 'Automotive, E-Commerce',\n",
       "       'Digital Entertainment, Fantasy Sports, Sports',\n",
       "       'E-Learning, EdTech, Education',\n",
       "       'Funding Platform, Incubators, Non Profit',\n",
       "       'Hospitality, Hotel, Leisure, Travel',\n",
       "       'Classifieds, Internet, Marketplace, Rental Property',\n",
       "       'Banking, E-Learning, Trading Platform',\n",
       "       'E-Commerce, Mobile, Retail',\n",
       "       'Artificial Intelligence, Information Technology',\n",
       "       'Enterprise Resource Planning (ERP), Information Services, Information Technology, Real Estate',\n",
       "       'Banking, Finance, Financial Services',\n",
       "       'Audio, Mobile, Tourism, Travel',\n",
       "       'Energy, Energy Storage, Infrastructure',\n",
       "       'Government, Information Technology, Software',\n",
       "       'Information Technology',\n",
       "       'Education, Information Technology, Internet, Mobile, Software',\n",
       "       'Consumer Lending, Financial Services, Lending, Personal Finance',\n",
       "       'Digital Media, Internet, Media and Entertainment, Online Portals, Social Media',\n",
       "       'Business Intelligence, Customer Service, Market Research, SaaS',\n",
       "       'Credit, Financial Services, FinTech, Lending',\n",
       "       'Children, Education, Parenting',\n",
       "       'Automotive, Battery, Energy, Energy Storage',\n",
       "       'E-Commerce, Mobile, Sharing Economy',\n",
       "       'Food Delivery, Organic, Organic Food', 'Mobile', 'Rental',\n",
       "       'Travel', 'Consumer', 'B2B, Farming, Marketplace',\n",
       "       'Wealth Management', 'Biotechnology',\n",
       "       'Education, Gaming, Training', 'Veterinary',\n",
       "       'Internet, Mobile, Social Entrepreneurship, Telecommunications, Wireless',\n",
       "       'Health Care, Hospital, Supply Chain Management',\n",
       "       'Tourism, Travel', 'Hospitality, Real Estate', 'Finance',\n",
       "       'Digital Media, EBooks, Publishing, Reading Apps',\n",
       "       'Consumer Electronics, Embedded Systems, Hardware, Smart Building, Software',\n",
       "       'Food and Beverage, Food Processing',\n",
       "       'Internet, Marketplace, Shopping',\n",
       "       'Analytics, Computer Vision, Enterprise Software, Machine Learning, Natural Language Processing, Speech Recognition',\n",
       "       'Facilities Support Services',\n",
       "       'Automotive, Electric Vehicle, Energy',\n",
       "       'Health Care, Health Diagnostics, Predictive Analytics',\n",
       "       'Cloud Computing, Computer, SaaS, Software',\n",
       "       'Fashion, Lifestyle, Retail', 'Medical', 'Music Streaming',\n",
       "       'Finance, Impact Investing, Internet',\n",
       "       'Internet, Social Entrepreneurship', 'Retail',\n",
       "       'Finance, Impact Investing, Mobile Apps',\n",
       "       'Cloud Computing, Computer, Software',\n",
       "       'Business Development, Market Research, Outsourcing',\n",
       "       'Health Care, Hospitality', 'Internet, Social News, Sports',\n",
       "       'Human Resources', 'Finance, Financial Services, FinTech',\n",
       "       'Customer Service, Software, Video, Video Streaming',\n",
       "       'E-Commerce, Food Processing', 'Training',\n",
       "       'Dietary Supplements, Food and Beverage, Health Care, Organic Food, Snack Food',\n",
       "       'Manufacturing, Oil and Gas, Robotics',\n",
       "       'Artificial Intelligence, Computer, Machine Learning',\n",
       "       'Collaboration, Communities, Coworking, Sharing Economy',\n",
       "       'Big Data, EdTech, Machine Learning', 'Nanotechnology',\n",
       "       'Analytics, Audio, Digital Media, Innovation Management, Internet Radio, Media and Entertainment',\n",
       "       'Financial Services, Lending, Peer to Peer',\n",
       "       'E-Commerce, Furniture, Home Decor, Interior Design, Internet',\n",
       "       'Digital Media', 'File Sharing, Personalization, Social Media',\n",
       "       'Home Decor, Interior Design',\n",
       "       'Health Care, Medical Device, Mobile Apps',\n",
       "       'E-Commerce, Facilities Support Services, Procurement, Supply Chain Management',\n",
       "       'Crowdfunding, Finance, Financial Services',\n",
       "       'Finance, Financial Services, Insurance',\n",
       "       'Children, Education, Online Portals', 'Software, Virtual Reality',\n",
       "       'B2B, Food and Beverage, Food Delivery',\n",
       "       'Catering, Food and Beverage, Food Delivery, Food Processing',\n",
       "       'Food and Beverage, Snack Food', 'Automotive, E-Commerce, Mobile',\n",
       "       'Computer, Digital Marketing, Facilities Support Services, Graphic Design, Internet, Mobile Apps, Social Media Marketing, Web Development',\n",
       "       'Android, Big Data, Blockchain, Cloud Computing, EdTech, Education, Information Technology, iOS, Training, Web Development',\n",
       "       'Analytics, CRM, Loyalty Programs, Machine Learning, Marketing Automation, Retail Technology, SaaS, Small and Medium Businesses',\n",
       "       'Delivery, Information Technology, Mobile Apps',\n",
       "       'Environmental Consulting, Renewable Energy',\n",
       "       'Big Data, Business Intelligence, Financial Services, FinTech, Personal Finance',\n",
       "       'Commercial Real Estate, Coworking, Office Administration, Real Estate',\n",
       "       'Food and Beverage, Food Processing, Organic Food, Snack Food',\n",
       "       'Apps, Health Care, Internet, Mobile Apps, Personal Health',\n",
       "       'Digital Media, Incubators, Social Entrepreneurship',\n",
       "       'Finance, Financial Services, Marketing',\n",
       "       'Biotechnology, Health Care, Life Science, Medical Device',\n",
       "       'Education, Human Resources', 'Consumer Electronics',\n",
       "       'Apps, Health Care, Hospital, Mobile Apps',\n",
       "       'Delivery Service, Logistics, Service Industry',\n",
       "       'Big Data, Data Visualization, Logistics, Software',\n",
       "       'Basketball, Cricket, Cycling, eSports, Fitness, Golf, Health Care, Hockey, Sports, Swimming, Table Tennis, Volley Ball',\n",
       "       'Media and Entertainment, News, Publishing', 'Consulting',\n",
       "       'Big Data, Financial Services, Machine Learning, Predictive Analytics',\n",
       "       'Agriculture, AgTech, Manufacturing',\n",
       "       'Digital Media, News, Publishing', 'Health Care, Hospital',\n",
       "       'B2B, E-Commerce, Enterprise',\n",
       "       'Fraud Detection, Information Services, Security',\n",
       "       'Agriculture, AgTech, Artificial Intelligence, Internet of Things, Machine Learning',\n",
       "       'Cryptocurrency, Trading Platform',\n",
       "       'Finance, FinTech, Mobile Payments', 'Wedding',\n",
       "       'E-Learning, EdTech, Education, Image Recognition, Machine Learning, STEM Education',\n",
       "       'Consumer Goods', 'Digital Entertainment',\n",
       "       'Crowdsourcing, Financial Services, Funding Platform, Venture Capital',\n",
       "       'Delivery, Drones, Geospatial, Robotics',\n",
       "       'Health Care, Information Technology, Management Information Systems',\n",
       "       'Farming',\n",
       "       'Business Travel, Hospitality, Hotel, Marketplace, Tourism, Travel Accommodations',\n",
       "       'Career Planning, Education, Higher Education, Service Industry',\n",
       "       'Medical Device', 'Alternative Medicine, Health Care',\n",
       "       'Internet, Software',\n",
       "       'Dental, Elder Care, Health Care, Home Health Care, Personal Health',\n",
       "       'Financial Services, Insurance, Private Social Networking',\n",
       "       'Consumer Electronics, E-Commerce, E-Commerce Platforms, Electronics, Shipping, Shopping',\n",
       "       'CleanTech', 'Advertising, Internet, Marketing',\n",
       "       'Human Resources, Security, Training',\n",
       "       'Consumer Lending, Finance, FinTech',\n",
       "       'Marketing, Social Media, Video', 'Banking', 'Food Processing',\n",
       "       'Apps', 'Marketing',\n",
       "       'Apps, B2B, Freight Service, Logistics, SaaS, Shipping, Supply Chain Management, Transportation',\n",
       "       'Digital Entertainment, Fantasy Sports, Gaming, Sports',\n",
       "       'Automotive, Last Mile Transportation, Peer to Peer, Ride Sharing',\n",
       "       'Commercial, E-Learning, Education',\n",
       "       'Continuing Education, EdTech, Education, Skill Assessment',\n",
       "       'Smart Cities, Telecommunications', 'Internet of Things, Robotics',\n",
       "       'Apps, Home Services, Information Services, Information Technology',\n",
       "       'Medical, Tourism', 'Career Planning, Education, Internet',\n",
       "       'Fashion, Graphic Design, Wearables',\n",
       "       'Communities, Leisure, Mobile Apps, Software',\n",
       "       'Automotive, Rental, Sharing Economy',\n",
       "       'Energy, Environmental Consulting, Renewable Energy, Solar',\n",
       "       'Information Technology, SaaS, Security',\n",
       "       'Crowdfunding, Financial Services, Internet',\n",
       "       'Customer Service, Information Technology, Internet, Sales Automation',\n",
       "       'Advertising, Artificial Intelligence, Digital Media, iOS, Location Based Services, News, Video, Video on Demand, Video Streaming',\n",
       "       'Credit Cards, Payments, Property Insurance, Property Management, Rental Property',\n",
       "       'Beauty, Cosmetics, Health Care, Service Industry',\n",
       "       'EdTech, Education, Mobile, Tutoring', 'Social Media, Sports',\n",
       "       'Biopharma', 'E-Commerce, E-Commerce Platforms, Retail',\n",
       "       'E-Commerce, Fashion, Shopping',\n",
       "       'Digital Entertainment, Mobile, PC Games',\n",
       "       'Finance, Financial Services, Small and Medium Businesses',\n",
       "       'Artificial Intelligence, Energy, Oil and Gas',\n",
       "       'Computer, FinTech, Risk Management, Software',\n",
       "       'Apps, Financial Services, FinTech',\n",
       "       \"Child Care, Health Care, Hospital, Medical, Women's\",\n",
       "       'Agriculture, Mobile',\n",
       "       'Finance, FinTech, Payments, Property Development, Rental',\n",
       "       'Information Services, Information Technology, Mobile, Software',\n",
       "       'Apps, Fitness, Health Care, mHealth',\n",
       "       'Food and Beverage, Food Delivery', 'Apps, Payments, Retail',\n",
       "       'Health Insurance, Insurance, Life Insurance',\n",
       "       'Rental, Taxi Service, Travel',\n",
       "       'E-Commerce, E-Commerce Platforms, Internet, Retail',\n",
       "       'Financial Services, Professional Services',\n",
       "       'Customer Service, Messaging, Mobile Apps, Personalization',\n",
       "       'Gaming, iOS, Sports',\n",
       "       'E-Commerce, E-Commerce Platforms, Internet, Mobile Apps, Social Media',\n",
       "       'Search Engine',\n",
       "       'Battery, Electric Vehicle, Energy, Renewable Energy, Transportation',\n",
       "       'Agriculture, Farmers Market, Farming',\n",
       "       'Artificial Intelligence, Drones, Navigation, Packaging Services, Robotics',\n",
       "       'Fitness, GreenTech, Internet of Things, Mobile Apps, Ride Sharing, Transportation',\n",
       "       'Mobile, Software, Travel', 'Cosmetics',\n",
       "       'Consulting, Cyber Security, Network Security',\n",
       "       'eSports, Gaming, Video Games', 'Fashion, Jewelry',\n",
       "       'B2B, Medical Device', 'Consumer Goods, Manufacturing',\n",
       "       'Biotechnology, Health Care, Wellness',\n",
       "       'Health Care, Hospital, Medical, Robotics',\n",
       "       'E-Commerce, Fitness, Health Care',\n",
       "       'Financial Services, Venture Capital', 'Accounting, Apps, FinTech',\n",
       "       'Apps, Mobile, Transportation', 'Reading Apps',\n",
       "       'Energy, Renewable Energy, Solar',\n",
       "       'Banking, Financial Services, FinTech', 'Apps, Education, Retail',\n",
       "       'Electric Vehicle',\n",
       "       'Automotive, Battery, Electric Vehicle, Manufacturing, Mechanical Design',\n",
       "       'Automotive, E-Commerce, Marketplace', 'Agriculture',\n",
       "       'Apps, Information Services, Information Technology',\n",
       "       'B2B, Marketplace', 'Packaging Services',\n",
       "       'Computer, Furniture, Software',\n",
       "       'Food Delivery, Hospitality, Reservations, Restaurants, Search Engine',\n",
       "       'Collaboration, Communities, Coworking, Real Estate',\n",
       "       'Accounting, Banking, Finance',\n",
       "       'Cloud Computing, Enterprise Software, Network Hardware, Network Security, SaaS',\n",
       "       'Information Services, Internet, Logistics, Supply Chain Management, Transportation',\n",
       "       'Automotive, E-Commerce, Information Services',\n",
       "       'Delivery, Logistics, Transportation',\n",
       "       'Automotive, E-Commerce Platforms, Marketplace',\n",
       "       'Last Mile Transportation, Railroad, Transportation, Travel',\n",
       "       'Cooking, E-Commerce, Food and Beverage, Food Delivery, Online Portals',\n",
       "       'FinTech, Mobile, Mobile Payments, Payments, Retail Technology',\n",
       "       'Online Games, Software',\n",
       "       'Online Portals, Property Management, Rental',\n",
       "       'E-Commerce, Food and Beverage, Tea',\n",
       "       'Music, Social Network, Video',\n",
       "       'Health Care, Pharmaceutical, Wellness',\n",
       "       'Delivery Service, Food and Beverage, Food Delivery',\n",
       "       'Hospitality, Information Technology, Travel Accommodations',\n",
       "       'Biotechnology, Diabetes, Health Care',\n",
       "       'Autonomous Vehicles, Last Mile Transportation, Recreational Vehicles, Rental',\n",
       "       'Finance, Financial Exchanges, Financial Services, Micro Lending',\n",
       "       'Analytics, Apps, Market Research',\n",
       "       'E-Commerce, E-Commerce Platforms, Furniture, Home Decor, Internet',\n",
       "       'Apps, Mobile, Mobile Apps, Software',\n",
       "       'News, Publishing, Social Media',\n",
       "       'Industrial, Industrial Automation',\n",
       "       'Internet, Mobile Apps, Social Network',\n",
       "       'Health Care, Health Diagnostics, Internet of Things, Life Science, Machine Learning, Medical, Medical Device',\n",
       "       'E-Commerce, Furniture, Interior Design', 'Apps, Events, News',\n",
       "       'Artificial Intelligence, Human Resources, Information Services, Information Technology',\n",
       "       'Logistics, Railroad, Transportation',\n",
       "       'Dating, Private Social Networking',\n",
       "       'Artificial Intelligence, Machine Learning, PaaS',\n",
       "       'Consumer, Furniture, Home Decor, Home Improvement',\n",
       "       'Apps, E-Commerce, Internet, Mobile, Ride Sharing, Transportation',\n",
       "       'Health Care, Health Insurance', 'Energy, Natural Resources',\n",
       "       'E-Commerce, Education, Health Care',\n",
       "       'Apps, Health Care, Pharmaceutical',\n",
       "       'Internet, Knowledge Management',\n",
       "       'Credit, Finance, FinTech, Lending, Sales Automation',\n",
       "       'Banking, Financial Services, Internet',\n",
       "       'E-Commerce, Health Care, Retail',\n",
       "       'Child Care, Information Technology',\n",
       "       'Financial Services, Micro Lending',\n",
       "       'E-Commerce, Retail, Shopping',\n",
       "       'Food and Beverage, Snack Food, Tea',\n",
       "       'Delivery Service, E-Commerce, Logistics',\n",
       "       'Fashion, Lifestyle, Rental', 'Fantasy Sports, Mobile, Sports',\n",
       "       'Beauty, Fashion, Wellness', 'Food and Beverage, Restaurants, Tea',\n",
       "       'Fitness, Sporting Goods, Sports',\n",
       "       'Food and Beverage, Food Processing, Manufacturing',\n",
       "       'E-Learning, Internet', 'Eyewear, Internet',\n",
       "       'Information Technology, Mobile, News, Operating Systems, Social Media, Social News',\n",
       "       'FinTech, Internet, Payments, Service Industry',\n",
       "       'B2B, Business Development, Internet, Marketplace',\n",
       "       'Food and Beverage, Food Delivery, Internet',\n",
       "       'Biotechnology, Health Care, Pharmaceutical'], dtype=object)"
      ]
     },
     "execution_count": 122,
     "metadata": {},
     "output_type": "execute_result"
    }
   ],
   "source": [
    "data4['Industry'].unique()"
   ]
  },
  {
   "cell_type": "code",
   "execution_count": 123,
   "metadata": {},
   "outputs": [
    {
     "data": {
      "text/plain": [
       "Industry\n",
       "Artificial Intelligence, Human Resources, Information Services, Information Technology                                    1\n",
       "Artificial Intelligence, Information Technology                                                                           1\n",
       "Artificial Intelligence, Machine Learning, PaaS                                                                           1\n",
       "Artificial Intelligence, Machine Learning, SaaS, Virtual Assistant                                                        1\n",
       "Artificial Intelligence, Product Search, SaaS, Service Industry, Software                                                 1\n",
       "Artificial Intelligence, Social                                                                                           1\n",
       "Audio, Mobile, Tourism, Travel                                                                                            1\n",
       "Automotive                                                                                                                3\n",
       "Automotive, Battery, Electric Vehicle, Manufacturing, Mechanical Design                                                   1\n",
       "Automotive, Battery, Energy, Energy Storage                                                                               1\n",
       "Automotive, E-Commerce                                                                                                    1\n",
       "Automotive, E-Commerce Platforms, Marketplace                                                                             1\n",
       "Automotive, E-Commerce, Information Services                                                                              1\n",
       "Automotive, E-Commerce, Marketplace                                                                                       1\n",
       "Automotive, E-Commerce, Mobile                                                                                            1\n",
       "Automotive, Electric Vehicle, Energy                                                                                      1\n",
       "Automotive, Electric Vehicle, Energy Storage                                                                              1\n",
       "Automotive, Electric Vehicle, Renewable Energy                                                                            1\n",
       "Automotive, Last Mile Transportation, Peer to Peer, Ride Sharing                                                          1\n",
       "Automotive, Marketplace, Online Portals                                                                                   1\n",
       "Automotive, Rental, Sharing Economy                                                                                       1\n",
       "Automotive, Retail                                                                                                        1\n",
       "Automotive, Search Engine, Service Industry                                                                               1\n",
       "Autonomous Vehicles                                                                                                       1\n",
       "Autonomous Vehicles, Last Mile Transportation, Recreational Vehicles, Rental                                              1\n",
       "B2B, Biometrics, Cyber Security, Fraud Detection, SaaS, Security                                                          1\n",
       "B2B, Business Development, Internet, Marketplace                                                                          1\n",
       "B2B, E-Commerce, Enterprise                                                                                               1\n",
       "B2B, E-Commerce, Mobile                                                                                                   1\n",
       "B2B, Farming, Marketplace                                                                                                 1\n",
       "B2B, Food and Beverage, Food Delivery                                                                                     1\n",
       "B2B, Information Services, Information Technology                                                                         1\n",
       "B2B, Marketplace                                                                                                          1\n",
       "B2B, Medical Device                                                                                                       1\n",
       "B2B, Shoes                                                                                                                1\n",
       "Banking                                                                                                                   1\n",
       "Banking, E-Learning, Trading Platform                                                                                     1\n",
       "Banking, Finance, Financial Services                                                                                      2\n",
       "Banking, Finance, Financial Services, Non Profit                                                                          1\n",
       "Banking, Financial Services, FinTech                                                                                      1\n",
       "Banking, Financial Services, Internet                                                                                     1\n",
       "Basketball, Cricket, Cycling, eSports, Fitness, Golf, Health Care, Hockey, Sports, Swimming, Table Tennis, Volley Ball    1\n",
       "Battery, Electric Vehicle, Energy, Renewable Energy, Transportation                                                       1\n",
       "Beauty, Cosmetics, Health Care, Service Industry                                                                          1\n",
       "Beauty, Fashion, Wellness                                                                                                 1\n",
       "Beauty, Fitness, Home Services, Internet                                                                                  1\n",
       "Beauty, Health Care                                                                                                       1\n",
       "Big Data, Business Intelligence, Financial Services, FinTech, Personal Finance                                            1\n",
       "Big Data, Consumer Lending, FinTech                                                                                       1\n",
       "Big Data, Data Visualization, Logistics, Software                                                                         1\n",
       "Name: count, dtype: int64"
      ]
     },
     "execution_count": 123,
     "metadata": {},
     "output_type": "execute_result"
    }
   ],
   "source": [
    "# Get the value counts in Industry column sorted alphabetically\n",
    "Industry_counts = data4['Industry'].value_counts().sort_index()\n",
    "\n",
    "Industry_counts[50:100]"
   ]
  },
  {
   "cell_type": "code",
   "execution_count": 124,
   "metadata": {},
   "outputs": [
    {
     "data": {
      "text/plain": [
       "array(['Seed', 'Series A', 'Angel', 'Series B', 'Pre-Seed',\n",
       "       'Private Equity', 'Venture - Series Unknown', 'Grant',\n",
       "       'Debt Financing', 'Post-IPO Debt', 'Series H', 'Series C',\n",
       "       'Series E', 'Corporate Round', 'Undisclosed',\n",
       "       'https://docs.google.com/spreadsheets/d/1x9ziNeaz6auNChIHnMI8U6kS7knTr3byy_YBGfQaoUA/edit#gid=1861303593',\n",
       "       'Series D', 'Secondary Market', 'Post-IPO Equity',\n",
       "       'Non-equity Assistance', 'Funding Round'], dtype=object)"
      ]
     },
     "execution_count": 124,
     "metadata": {},
     "output_type": "execute_result"
    }
   ],
   "source": [
    "data4['Round/Series'].unique()"
   ]
  },
  {
   "cell_type": "code",
   "execution_count": 125,
   "metadata": {},
   "outputs": [
    {
     "data": {
      "text/plain": [
       "array(['250000', '₹40,000,000', '₹65,000,000', '2000000', '—', '1600000',\n",
       "       '₹16,000,000', '₹50,000,000', '₹100,000,000', '150000', '1100000',\n",
       "       '₹500,000', '6000000', '650000', '₹35,000,000', '₹64,000,000',\n",
       "       '₹20,000,000', '1000000', '5000000', '4000000', '₹30,000,000',\n",
       "       '2800000', '1700000', '1300000', '₹5,000,000', '₹12,500,000',\n",
       "       '₹15,000,000', '500000', '₹104,000,000', '₹45,000,000', '13400000',\n",
       "       '₹25,000,000', '₹26,400,000', '₹8,000,000', '₹60,000', '9000000',\n",
       "       '100000', '20000', '120000', '₹34,000,000', '₹342,000,000',\n",
       "       '$143,145', '₹600,000,000', '$742,000,000', '₹1,000,000,000',\n",
       "       '₹2,000,000,000', '$3,980,000', '$10,000', '₹100,000',\n",
       "       '₹250,000,000', '$1,000,000,000', '$7,000,000', '$35,000,000',\n",
       "       '₹550,000,000', '$28,500,000', '$2,000,000', '₹240,000,000',\n",
       "       '₹120,000,000', '$2,400,000', '$30,000,000', '₹2,500,000,000',\n",
       "       '$23,000,000', '$150,000', '$11,000,000', '₹44,000,000',\n",
       "       '$3,240,000', '₹60,000,000', '$540,000,000', '₹650,000,000',\n",
       "       '₹1,600,000,000', '$900,000', '$10,000,000', '$1,500,000',\n",
       "       '₹70,000,000', '$1,000,000', '$5,000,000', '$14,000,000',\n",
       "       '₹102,500,000', '$100,000,000', '₹1,200,000', '₹5,200,000,000',\n",
       "       '$800,000', '$1,041,000', '$100,000', '$15,000', '1400000',\n",
       "       '1200000', '2200000', '1800000', '3600000', '₹9,500,000', '300000',\n",
       "       '6830000', '200000', '₹150,000,000', '4300000', '364846', '400000',\n",
       "       '1500000', '₹7,000,000', '₹1,400,000', '₹10,000,000',\n",
       "       '₹22,500,000', '13200000', '50000', '₹140,200,000', '3000000',\n",
       "       '1250000', '180000', '₹19,200,000', '₹103,000,000', '4200000',\n",
       "       '175000', '1450000', '₹200,000', '4500000', '600000',\n",
       "       '₹16,600,000', '₹12,000,000', '15000000', '₹33,000,000', '125000',\n",
       "       '130000', '₹34,900,000', '₹72,000,000', '17200000', '₹32,000,000',\n",
       "       '3500000', '₹135,000,000', '12000000', '$40,000,000', '$1,100,000',\n",
       "       '$50,000,000', '₹1,540,000,000', '$3,000,000', '$6,000,000',\n",
       "       '₹140,000,000', '$41,900,000', '₹1,410,000,000', '$3,530,000',\n",
       "       '$200,000', '$3,300,000', '₹580,000,000', '₹36,000,000',\n",
       "       '₹340,000,000', '$210,000,000', '$37,680,000', '$250,000',\n",
       "       '$20,000', '₹510,000,000', '₹2,200,000,000', '22000000', '70000',\n",
       "       '10000000', '₹15,392,000,000', '₹20,000,000,000', '₹4,000,000,000',\n",
       "       '185000000', '65000000', '₹165,000,000', '700000', '30000000',\n",
       "       '₹210,000,000', '210000000', '₹2,029,600,000', '75000000',\n",
       "       '₹80,000,000', '1760000', '2700000', '₹280,000,000',\n",
       "       '₹800,000,000', '750000', '2500000', '80000000', '25000000',\n",
       "       '₹730,000,000', '₹400,000,000', '3700000', '5600000',\n",
       "       '₹260,000,000', '99230000', '70000000', '40000', '550000',\n",
       "       '50000000', '365000000', '₹8,750,000', '₹78,000,000', '28000000',\n",
       "       '₹264,000,000', '100000000', '₹1,130,000,000', '₹810,000,000',\n",
       "       '₹1,400,000,000', '14900000', '225000000', '7500', '35000000'],\n",
       "      dtype=object)"
      ]
     },
     "execution_count": 125,
     "metadata": {},
     "output_type": "execute_result"
    }
   ],
   "source": [
    "data4['Amount'].unique()"
   ]
  },
  {
   "cell_type": "code",
   "execution_count": 126,
   "metadata": {},
   "outputs": [
    {
     "data": {
      "text/plain": [
       "array(['Bangalore, Karnataka, India', 'Mumbai, Maharashtra, India',\n",
       "       'Gurgaon, Haryana, India', 'Noida, Uttar Pradesh, India',\n",
       "       'Hyderabad, Andhra Pradesh, India', 'Bengaluru, Karnataka, India',\n",
       "       'Kalkaji, Delhi, India', 'Delhi, Delhi, India', 'India, Asia',\n",
       "       'Hubli, Karnataka, India', 'New Delhi, Delhi, India',\n",
       "       'Chennai, Tamil Nadu, India', 'Mohali, Punjab, India',\n",
       "       'Kolkata, West Bengal, India', 'Pune, Maharashtra, India',\n",
       "       'Jodhpur, Rajasthan, India', 'Kanpur, Uttar Pradesh, India',\n",
       "       'Ahmedabad, Gujarat, India', 'Azadpur, Delhi, India',\n",
       "       'Haryana, Haryana, India', 'Cochin, Kerala, India',\n",
       "       'Faridabad, Haryana, India', 'Jaipur, Rajasthan, India',\n",
       "       'Kota, Rajasthan, India', 'Anand, Gujarat, India',\n",
       "       'Bangalore City, Karnataka, India', 'Belgaum, Karnataka, India',\n",
       "       'Thane, Maharashtra, India', 'Margão, Goa, India',\n",
       "       'Indore, Madhya Pradesh, India', 'Alwar, Rajasthan, India',\n",
       "       'Kannur, Kerala, India', 'Trivandrum, Kerala, India',\n",
       "       'Ernakulam, Kerala, India', 'Kormangala, Karnataka, India',\n",
       "       'Uttar Pradesh, India, Asia', 'Andheri, Maharashtra, India',\n",
       "       'Mylapore, Tamil Nadu, India', 'Ghaziabad, Uttar Pradesh, India',\n",
       "       'Kochi, Kerala, India', 'Powai, Assam, India',\n",
       "       'Guntur, Andhra Pradesh, India', 'Kalpakkam, Tamil Nadu, India',\n",
       "       'Bhopal, Madhya Pradesh, India', 'Coimbatore, Tamil Nadu, India',\n",
       "       'Worli, Maharashtra, India', 'Alleppey, Kerala, India',\n",
       "       'Chandigarh, Chandigarh, India', 'Guindy, Tamil Nadu, India',\n",
       "       'Lucknow, Uttar Pradesh, India'], dtype=object)"
      ]
     },
     "execution_count": 126,
     "metadata": {},
     "output_type": "execute_result"
    }
   ],
   "source": [
    "data4['Location'].unique()"
   ]
  },
  {
   "cell_type": "code",
   "execution_count": 127,
   "metadata": {},
   "outputs": [
    {
     "data": {
      "text/plain": [
       "array(['TheCollegeFever is a hub for fun, fiesta and frolic of Colleges.',\n",
       "       'A startup which aggregates milk from dairy farmers in rural Maharashtra.',\n",
       "       'Leading Online Loans Marketplace in India',\n",
       "       'PayMe India is an innovative FinTech organization which offers short term financial suport to corporate employees.',\n",
       "       'Eunimart is a one stop solution for merchants to create a difference by selling globally.',\n",
       "       'Hasura is a platform that allows developers to build, deploy, and host cloud-native applications quickly.',\n",
       "       'Tripshelf is an online market place for holiday packages.',\n",
       "       'Hyperdata combines advanced machine learning with human intelligence.',\n",
       "       'Freightwalla is an international forwarder thats helps you manage supply chain by providing online tools including instant quotations.',\n",
       "       'Microchip payments is a mobile-based payment application and point-of-sale device',\n",
       "       'Building Transactionary B2B Marketplaces',\n",
       "       'Emojifi is an app that provides live emoji, stickers & GIFs suggestions based on the typed words across chat platforms.',\n",
       "       'Flock is a real-time messaging and collaboration app for teams that speeds up and simplifies communication and boosts productivity.',\n",
       "       'Freshboxx is incubated at Sandbox Startups, a unit of the Deshpande Foundation.',\n",
       "       'Wide Mobility Mechatronics is a Private Company limited by Shares',\n",
       "       'Pitstop offers general repair and maintenance services for cars through its doorstep service vehicles.',\n",
       "       'Mihuru is an online platform which gives micro loans for air travel .',\n",
       "       'Fyle is an intelligent expense management platform for enterprises.',\n",
       "       'Appwharf is an intelligent assistant that helps find you the best-fit SaaS for your business.',\n",
       "       'Waste Management for Smart Cities',\n",
       "       'Cogoport is a platform that provides freight buying industry with spot rates and bidding process for freight buyers.',\n",
       "       'A P2P lending marketplace platform',\n",
       "       \"Makers of a signature coffee that's exceptional in taste. It's super easy to brew, requires no equipment & ships to your door.\",\n",
       "       'Delhi-based online used vehicles marketplace.',\n",
       "       'PregBuddy is a smart connected care platform for expecting mothers.',\n",
       "       'AgNext is an agricultural sensing and solutions company focused on building data-driven solutions for agricultural stakeholders',\n",
       "       'A startup which digitizes logistics operations for Fortune 500 companies.',\n",
       "       'Online lending startup based in Mumbai.',\n",
       "       \"India's Online Auto Repair Marketplace\",\n",
       "       'Early stage Artificial Intelligence (AI) start up.',\n",
       "       'Chariot Tech is an Internet of Things (IoT) startup based in New Delhi.',\n",
       "       'Ideal Insurance Broking is one of the leaders in insurance broking domain.',\n",
       "       'Loanzen helps small businesses get unsecured working capital loans against their their pending invoices.',\n",
       "       \"Mojro envisions to be the world's largest technology-enabled logistics platform.\",\n",
       "       'Blockchain Development Platform To Design, Run & Scale Blockchain Networks.',\n",
       "       'LoadShare is India’s fastest growing logistics company',\n",
       "       'Food startup Yumlane operated by QwikPik Technology',\n",
       "       'A Education Start Up.',\n",
       "       'Pipa+Bella is an online store aimed at selling fashionable and affordable costume jewelry at par with international standards and trends',\n",
       "       'A fintech platform.',\n",
       "       'Chakr has developed the world’s first retro-fit emission control device for diesel generators.',\n",
       "       \"India's the premier education destination catering to the needs of aspiring students of the CA community.\",\n",
       "       'UClean is a tech enabled laundry service provider.',\n",
       "       'The Fashion Re-commerce platform.',\n",
       "       'Letstrack GPS tracking devices to track your kids, bike, car and other vehicles. GPS trackers for Vehicle Tracking System in India.',\n",
       "       'Pooltoo offers a premium ride sharing platform.',\n",
       "       'finzy is the premier peer to peer lending solution in India.',\n",
       "       \"India's largest online fitness platform that provides an integrated eco-system to help users start & sustain their fitness journey\",\n",
       "       'Building an Intelligent Digital Assistant.',\n",
       "       'Reserve your Room, Hostel or Paying Guest, while relocating for higher education.',\n",
       "       'Chai Kings is a tea retail chain',\n",
       "       'Dainik Jagran is a media and communications group.',\n",
       "       'Playtoome is a live entertainment destination',\n",
       "       'ONGO Framework is a B2B IT and digital solution provider.',\n",
       "       'A Global Peer-to-Peer and Peer-to-Group Learning Platform that helps students supplement their academic & competitive exam prep.',\n",
       "       'Arogya MedTech is a Research & Development organization in Bio-Medical industry.',\n",
       "       \"Propshop24, a one-stop shop for a handpicked selection of 'fun'tastic products from around the world.\",\n",
       "       'To bring health issues to people in their language.',\n",
       "       'MissMalini Entertainment is a multi-platform new media network dedicated to Entertaining, Connecting & Empowering young Indians.',\n",
       "       'Rooter is a mobile-based platform',\n",
       "       \"Zest is India's first completely automated consumer digital lending platform.\",\n",
       "       'Advancing AI compute',\n",
       "       'MyDentistChoice is a direct sales and distribution of dental equipment and accessories from top name manufacturers',\n",
       "       'Sattviko fosters wellness and shares Indianness through the Sattvik way of cooking that is wholesome and tasty!',\n",
       "       'Investment Management Platform',\n",
       "       \"Bombay Shaving Company is a Men's grooming startup\",\n",
       "       'Medcords is India’s first holistic healthcare ecosystem on a cloud platform that makes health management easier',\n",
       "       'University Living is an online global student housing marketplace.',\n",
       "       'Food and Beverage startup focussing on developing products using ayurveda with modern science for women empowerment and fitness.',\n",
       "       'Enakshi is an online apparel brand for women.',\n",
       "       'Ultraviolette is a startup working on electric two-wheelers and energy infrastructure.',\n",
       "       'Inthree Access is an impact venture that connects the most inaccessible rural markets with products that can transform lives in Rural India.',\n",
       "       'BUGWORKS is a drug discovery company.',\n",
       "       \"GNC is a leading global specialty retailer of health and wellness products that takes pride to be the world's largest company\",\n",
       "       'PrestLoans New age tech driven RBI regd NBFC helping businesses by providing easy, quick n hassle free loans.',\n",
       "       'Data Intelligence Publishing Platform, We bring the best resources to learn valuable technologies which will shape tomorrow.',\n",
       "       'India Accelerator runs mentorship-driven incubation and acceleration programs for start ups.',\n",
       "       'HappyEMI is a point of sale digital lending platform that helps consumers finance their purchases in-store and online',\n",
       "       'Premium Personal Assistance service',\n",
       "       'Hansel, a mobile app management platform, provides the infrastructure that companies need, in order to personalize product experiences.',\n",
       "       'Propelld is a student education financing platform.',\n",
       "       'Digital Marketing powered by Data & Technology; fueled by Design thinking',\n",
       "       'ZiffyHomes is a technology driven marketplace to find out home on rent.',\n",
       "       'Carmesi is a brand of high-end menstrual-hygiene products in India.',\n",
       "       'OckyPocky is a interactive and personalised language learning app for preschool kids.',\n",
       "       'Racetrack is a sales and support-focused AI-driven platform designed for education, real estate, and e-commerce sectors.',\n",
       "       'WHR is to make affordable healthcare a reality for all. Our vision is to make healthcare services easier, better and more accessible.',\n",
       "       'Asteria Aerospace is a robotics and artificial intelligence company.',\n",
       "       'FabAlley is the ultimate Indian fashion destination for fashion-forward, indie-chic girls. Founded in 2012, Tanvi Malik and Shivani Poddar',\n",
       "       'Tranzmeo Connect : is A Complete Comprehensive Anomaly forensic Solution with Actionable Insights.',\n",
       "       'SBI Life is one of the life insurance company that offers a range of life insurance plans and policies to protect you and your family.',\n",
       "       'Studds Accessories is a scooter accessories service provider in India',\n",
       "       'Design + Execution Organization that delivers beautiful & innovative designs for Home Interiors, in any budget.',\n",
       "       'NoPaperForms is a marketing automation, lead nurture and enrolment management platform for educational institutions',\n",
       "       'Rays Power Infra is a leading integrated Solar Power Company.',\n",
       "       'SaaS, B2B, Security, Stop account sharing, Fraud Detection',\n",
       "       'Vernacular Social Network Focused on Town Level Content and Interactions',\n",
       "       'Lets transport is a logistics solution provider.',\n",
       "       'Next Digital Solutions is website design & Digital Marketing development company.',\n",
       "       'Portea Medical is the largest and fastest growing provider of in-home medical care in India today with a 24-city network.',\n",
       "       'Aavas Financiers is engaged in the business of providing housing loans, primarily in the un-served, unreached and under-served market.',\n",
       "       'Swiggy is a food ordering and delivery company that provides food service solutions for restaurants.',\n",
       "       'Milkbasket delivers milk, bread, eggs, butter, juices and other daily need items, every morning, right at your doorstep, free of charge.',\n",
       "       'Nutrisattva is a protein innovation compan',\n",
       "       'Toppr.com is an online preparation platform for entrance exams in India.',\n",
       "       'Jagaran Microfin is a Microfinance institution which achieves a healthy amalgamation of social and financial',\n",
       "       'Vivriti Capital is an online platform for institutional debt in India.',\n",
       "       \"Be U is India's first subscription based Salon Chain.\",\n",
       "       \"We're a Harvard incubated crowdfunding platform for nonprofits, social enterprises, startups and individuals.\",\n",
       "       'MobiKwik is a payments backed fintech platform in India. MobiKwik App offers instant loans & investment products to the 500M masses of India',\n",
       "       'Stones2milestones is a Gurgaon Based Learning Company.',\n",
       "       'Generico is the fastest growing specialized pharmacy retail chain of Generic medicines.',\n",
       "       'Adiuvo Diagnostics is a medical diagnostic device company based in India.',\n",
       "       'DataTrained is a educational platform, which operates an ed-tech startup on data science',\n",
       "       'OneAssist is a protection & assistance services platform.',\n",
       "       'Satin is a non-banking finance company providing individual loans to urban shopkeepers.',\n",
       "       'APAC Financial Services is a financial services platform.',\n",
       "       'Moglix is a supplier of industrial tools like hand tools, power tools, electrical, and safety equipment.',\n",
       "       'SEDEMAC Mechatronics is technology company that distributes control-intensive products for automobiles.',\n",
       "       'MadGuy Labs is a Online Test-prep Platform.',\n",
       "       'Dee Dee Labs is design and development lab with a primary focus on the development of next generation of bionic prostheses.',\n",
       "       'FLEECA is a Tyre Care Provider company.',\n",
       "       '#1 Online Selling App. India’s leading social commerce platform. Setup free online store in 2 min. Sell own goods or resell Shop101 Supply.',\n",
       "       'On Demand Staffing Platform',\n",
       "       'Housejoy is a web-based platform that allows individuals to browse and book service providers for their homes.',\n",
       "       'Ambee is an Environment analytics startup.',\n",
       "       'FoodBuddy is a online food delivery portal, providing boundary breaking delivery.',\n",
       "       'Ninjacart is a B2B agri-marketing platform that connects vegetables and fruits farmers directly with businesses.',\n",
       "       \"Olly is a digital credit card for India's working masses and young people.\",\n",
       "       'No-Code Workflow Automation. Build enterprise applications in days with AI, Cognitive Automation, Collaboration and more built in.',\n",
       "       'BYJU’s is an edtech company that is reinventing how students learn through its learning app.',\n",
       "       'Wakefitkart is a mattress manufacturing company. We manufacture the best quality mattresses at affordable prices.',\n",
       "       'Hero Electric, a 100% subsidiary of the Hero Group, is a pioneer in the Indian Electric Vehicle Industry.',\n",
       "       'Pentation as an Insurtech enables insurers and intermediaries with our Insurance Analytics Suite- an Insurance specific AI/ML Software Suite',\n",
       "       'PerkFinance partners with employers to provide affordable loans to their employees at no cost to the company',\n",
       "       'Roposo - TV by the People is a unique social media platform where people express visually with homemade videos and photos.',\n",
       "       'Plum Haircare Is Silicone-Free & Sulphate-Free. Designed For Damaged & Dandruff-Free Hair',\n",
       "       'Drstore is a exclusive e- commerce platform.',\n",
       "       'Wow Venue is an online platform.',\n",
       "       'Chizel is a worlds most advanced cloud platform for on-demand manufacturing in 3D Printing and CNC Machining',\n",
       "       'OTO Capital is a platform that allows you to own a car faster than ever.',\n",
       "       'boodmo.com - large online marketplace for auto parts in India.',\n",
       "       'Khabri is a digital audio platform for content in vernacular.',\n",
       "       'MyNewCar.in offers new cars at best price with great deals. Book a new car online or request a doorstep test drive',\n",
       "       'A daily fantasy sports platform.',\n",
       "       'PlanetSpark is an after-school Maths and English learning program for pre teen kids between Grades 2nd to 7th.',\n",
       "       'WheelsEMI is the brand name of NBFC, WheelsEMI Pvt. Ltd.',\n",
       "       'FiiRE, a technology business incubator helps the startup process to move from the garage to the lab.',\n",
       "       'OYO is an Indian hospitality startup that operates a network of budget hotels.',\n",
       "       'Quikr is a free classifieds and online marketplace that helps users sell, buy, rent, or discover anything across India.',\n",
       "       'Tabono is a one stop environment for all your fitness solution.',\n",
       "       'Learnapp.co - Video courses & live classes in investing, trading, banking and finance.',\n",
       "       'Shopkirana connects brands and traditional retailers with the help of technology and supply chain innovation.',\n",
       "       'Fric Bergen is a leader in the specialty food industry.',\n",
       "       'Articbot is a conversational AI platform for automated customer support and lead generation',\n",
       "       'India’s most advanced ERP system for the real estate',\n",
       "       'Fusion Microfinance Pvt. Ltd. is an NBFC registered with RBI',\n",
       "       'Anytime Doctor is a Software company.',\n",
       "       'Go Payments was founded with the mission of assisting consumers with performing a whole host of financial services at their doorstep.',\n",
       "       'We build In-Destination Experiences!',\n",
       "       'A stealth startup building a layer of infrastructure for highly efficient energy storage systems.',\n",
       "       'SaaS to verify counterfeit', 'Gov-Tech',\n",
       "       'Smarter analytics to understand how each customer uses your product. Drive growth in conversion, retention and engagement.',\n",
       "       'Saas, Web App, Mobile App, School Education',\n",
       "       'Snapmint facilitates simplified, fairly-priced and hassle-free EMI options without a Credit Card.',\n",
       "       'Ai platform for Art and Creative Community',\n",
       "       'Stethoscope for customer feedback !',\n",
       "       'Credy is a fintech platform that connects borrowers seeking capital with lenders seeking market beating returns.',\n",
       "       'iChamp is an e education innovation product from RNM E-Services Pvt Ltd.',\n",
       "       'A cloud-based HR management and employee engagement platform.',\n",
       "       'Avishkaar Box is just not another box full of material rather it is a well researched, thought through solution',\n",
       "       'A Mumbai-based startup Electric Vehicle (EV) & Energy Storage company.',\n",
       "       \"hyperXchange is India's fastest growing O2O marketplace for premium refurb gadgets\",\n",
       "       'Deftouch is a mobile game development company that currently focuses on winning the Cricket gaming market with a social multiplayer game.',\n",
       "       \"Doodhwala is an online milk delivery startup that offers over 70 varieties of milk along with a plan based on clients' requirement.\",\n",
       "       'DronaHQ is an enterprise mobile engagement platform.',\n",
       "       'FastFox: Market Network for Home Rentals (India)',\n",
       "       \"BuyForexOnline.com is India's first completely online provider for buying Foreign Exchange.\",\n",
       "       'A technology powered network of Branded Serviced Homes conveniently located near educational institutions & workplaces.',\n",
       "       'Online marketplace where farmers and traders can sell their produce to B2B buyers',\n",
       "       'Corefactors is a leading campaign management, business communication and analytics company.',\n",
       "       'A startup in the personal finance space in India .',\n",
       "       'Bengaluru based biotech startup.',\n",
       "       'Shirsa Labs is a cognitive skill assessment and training portal that provides children with fun educational games.',\n",
       "       'Gurugram-based Online petcare platform.',\n",
       "       'Awwaz.De develops inclusive mobile solutions that enable organizations to achieve last-mile connectivity for social impact.',\n",
       "       'PinkBlue.in - Super-efficient supply-chain for clinical supplies',\n",
       "       'Eduvanz is new, innovative finance company, which is completely revolutionizing the student loan market.',\n",
       "       'Rupeek is an asset backed online lending platform currently operating in the space of Gold loans.',\n",
       "       'Backpacker Panda is creating an ecosystem for youth accommodation and travel.',\n",
       "       'Physical education start up',\n",
       "       'Placio is a student housing and a complete broker-free platform.',\n",
       "       'Delhi based housing finance company.', 'A Robotic Company.',\n",
       "       'HeyHolidays, a global player in online vacation rentals.',\n",
       "       \"Amazon's Kindle Direct Publishing for Indian Languages\",\n",
       "       'SectorQube develops smart kitchen devices that make food automatically.',\n",
       "       'Iconic Indian Delicacies from the most renowned vendors of India Delivered Globally.',\n",
       "       'Zamroo is a growing mobile marketplace that allows users to buy and sell locally.',\n",
       "       'Silversparro is a deep learning technology solution provider.',\n",
       "       'A coworking space provider.',\n",
       "       'Emflux Motors is committed to bring clean and sustainable energy into a state of universal acceptance through technological innovation.',\n",
       "       'Predictive Healthcare Analytics Company',\n",
       "       'Virtual/Augmented Reality Start Up .',\n",
       "       'A fashion enterprise that provides a launchpad to fashion talent and brands using a tech enabled platform',\n",
       "       'Chrysalis (EZ Vidya) is India’s leading educational research and innovation organization',\n",
       "       'EKincare empowers you to take charge of your health by enabling you to monitor critical medical info and make it available anywhere.',\n",
       "       'Live stream music from nightclubs, bars & festivals!',\n",
       "       'Groww offers a new way of investing money.',\n",
       "       'Cell Propulsion is an electric mobility startup that designs autonomous electric vehicles.',\n",
       "       'Chezuba is a web-based platform enabling skilled professionals to volunteer online with Non-profits worldwide',\n",
       "       'Ontrack provides affordable independent transport to those dependent on cabs and autos for commute by renting bikes on a monthly basis.',\n",
       "       'Wealthtrust offers a wealth manager application that enables its users to invest and manage their investments online.',\n",
       "       'Faclon is an IoT and data analytics based tech startup building products to make cities and villages smart.',\n",
       "       'Operations and manpower outsourcing startup',\n",
       "       'World-class Enterprise System for Education.',\n",
       "       'Zyla is transforming the way healthcare is delivered in India with specific focus on high-risk chronic patients.',\n",
       "       'Get your daily dose of interest as summaries from news and magazine stories .',\n",
       "       'Rubix Total App makes it effortless for Institutes to send home important information and updates about the day’s learning experiences.',\n",
       "       'Be Smart, Work on Contract,Be Smart, Hire on Contract',\n",
       "       'Algorithmic trading platform.',\n",
       "       'NiYO is a fintech company that helps salaried employees access company benefits and other financial services.',\n",
       "       'A video recording and sharing software.',\n",
       "       'Satvacart is a Gurgaon’s largest online supermarket',\n",
       "       'Sports Nutrition startup',\n",
       "       'A Delhi-based Augmented Reality and Virtual Reality technology development company.',\n",
       "       'MY CHIRAAG CAB SERVICES PVT LTD',\n",
       "       'It operates a business-to-business e-commerce portal for food and beverages.',\n",
       "       'FInd your Customized Home here.',\n",
       "       'True elements offers a range of high-quality snacks and supplements that are inspired by natural foods consumed by our ancestors.',\n",
       "       'Trendlyne Technologies is a stock market analytics platform and marketplace for retail investors.',\n",
       "       'Planys Technologies is India’s first and only manufacturer of compact ROVs providing underwater robotic inspection and survey solutions.',\n",
       "       'HealthPlix is a healthtech startup',\n",
       "       \"dishq leverages food science and machine learning (AI) to understand and predict people's tastes.\",\n",
       "       'The boundaries between Human and Machines are shrinking fast.',\n",
       "       'myHQ turns your everyday coffee space into a perfect work zone. Get an amazing work environment without paying any rent.',\n",
       "       'Trell is a location based network which helps you in exploring amazing experiences and annotating places around you.',\n",
       "       'Building future human capital through 21st Century Skills programs for K-12',\n",
       "       'Log 9 Materials is a nano-materials manufacturing and RnD startup',\n",
       "       'VTION is a media technology innovation firm aiming to solve key problems in the media based ecosystem.',\n",
       "       'New Apartments, Flats for Sale in Bangalore',\n",
       "       'It is a fabless semiconductor company focused on CMOS millimeter wave products for Radar.',\n",
       "       'RupeeCircle is a new age finance company.',\n",
       "       'Woodenstreet.com ensures to fulfill customer’s unique furniture requirements by crafting one-of-a-kind furniture pieces.',\n",
       "       'The Ken is India’s first subscriptions-only business news site',\n",
       "       \"SaffronStays connects travellers to India's Incredible hosts.\",\n",
       "       'A personal network for close people',\n",
       "       \"Foyr.com is India's first online, automated interior designer\",\n",
       "       'MEngage is a mass consumer engagement application for doctors on both android and IOS platforms.',\n",
       "       'Inner Being Wellness manufactures beauty, wellness, and nutrition products.',\n",
       "       'Kobster is a pioneer of B2B eProcurement and an eMarketplace providing Corporates an end-to-end solution for their procure-to-pay cycle.',\n",
       "       'Wishberry is a rewards-based crowdfunding platform that enables users to raise funds for their creative and innovative ideas.',\n",
       "       'McXtra is a digital insurance broking startup.',\n",
       "       'Magic Crate is a theme based stimulating, fun and learning activity box for 4-8 year olds that is mailed to your doorstep every month.',\n",
       "       'It is a Virtual Reality Solutions StartUp',\n",
       "       'SEO, PPC, Search Engine Marketing, Social Media Optimization, Content Marketing, Brand Reputation Management',\n",
       "       'Digital Marketing Agency',\n",
       "       'Scale Labs is a cross border e-commerce solutions provider that drives global trade for brands.',\n",
       "       'HungerBox is a full stack B2B F&B technology company delivering food solutions for the corporates in India.',\n",
       "       'BBK delivers both authentic taste of Hyderabadi and Lucknowi Biryani prepared in individual earthen Handis with the freshest ingredients.',\n",
       "       'Wholesome Habits (EAT Anytime) is a healthy snacks Company.',\n",
       "       'Car Service and Bike Service Mobile App',\n",
       "       'Fixpocket is a internet-based startup.',\n",
       "       'Edureka is the fastest growing online learning platform that offers live, instructor-led courses for professionals from various industries.',\n",
       "       'Hashtag Loyalty is a customer engagement and marketing automation tool for local businesses.',\n",
       "       'WOW, as customers react to his studiously taught, trained, polite and courteous nature.',\n",
       "       'ZunRoof is a rooftop focused solar startup.',\n",
       "       'Eggoz is a full-stack layer poultry business operator & service provider .',\n",
       "       'Personal Finance',\n",
       "       'GalaxyCard is a mobile based Instant credit card.',\n",
       "       'IndiQube is a provider of co-working spaces based in Bengaluru.',\n",
       "       'A food processing enterprise registered with StartUp India .',\n",
       "       'NirogStreet is an Ayurvedic doctor discovery and appointment booking platform where patients can easily find doctors and fix consultation.',\n",
       "       'Pixr8 is a global media platform dedicated to Start-ups and business organisations for promoting entrepreneurship work.',\n",
       "       'Nivesh.com is a mass market mutual funds investment platform.',\n",
       "       'A fully functioning cell culture facility and molecular biology setup.',\n",
       "       'Poshmiles aims to help point travellers to long weekend trips at popular and undiscovered destinations based on budget & interest.',\n",
       "       'A campus recruitment solution provider.',\n",
       "       'Orbo is a computer vision and deep facial technology company.',\n",
       "       'Inntot Technologies, is a technology driven company.',\n",
       "       'Zoctr Health Network is a first-of-its kind pan-India Home & Telehealth Company',\n",
       "       'Hey Deedee is a Mumbai-based company that provides solutions to parcel delivery problems.',\n",
       "       'A technology company focused on introducing products that will accelerate and enhance sales productivity and effectiveness .',\n",
       "       'Locus is an intelligent logistics automation platform.',\n",
       "       'Sports Flashes operates a sports content app that provides sports news, live scores, fantasy gaming, expert views, trivia, and more.',\n",
       "       'Inc42 is one of the leading tech media publications of India.',\n",
       "       'A stock photo startup based in Amravati, Andhra Pradesh.',\n",
       "       'A coworking incubator Company.', 'HR Technology start-up.',\n",
       "       'Cash Suvidha is an Digital Lending Platform that provide working capital finance to SMEs and MSMEs in India.',\n",
       "       'Providing financial access to the millions of mobile users in India using alternative credit assessment',\n",
       "       'Carmel Organics is an India-based herb company engaged in sourcing, processing, and distributing herbal tea ingredients.',\n",
       "       'Transforming the way businesses deliver. Work-force & fleet mobility tools.',\n",
       "       'A digital news platform.',\n",
       "       'Creditas was set-up in 2015 with an aim to help Financial Institutions find better ways to reach and interact with their customers.',\n",
       "       'UrbanPiper offers restaurants and chains with a suite of products to manage and analyze their online presence.',\n",
       "       'Doxper is Health tech startup which has created a digital pen and coded paper system for doctors to record patient information',\n",
       "       'i2ifunding is an online marketplace that connects borrowers looking for personal loans with investors looking for alternative investments.',\n",
       "       'Home of B2B Commerce',\n",
       "       'HelloVerify is an online background check platform.',\n",
       "       'Climate Smart Precision Agriculture Platform',\n",
       "       'CoinGeto is one of India’s most advanced digital assets exchange.',\n",
       "       'Avail is a mobile-first platform aiming to financially include the urban mass of India.',\n",
       "       'Radical Travel Automation - Cloud Based Corporate Travel & Expense Management Software',\n",
       "       'Wedeterna is a new-age, personalised and fresh approach to arranged marriages, DIY matrimonial community with only self created profiles.',\n",
       "       'Stumagz is about connecting with Stories Stumagz is about collaborating with people Stumagz is about creating a Cult.',\n",
       "       'Gurgaon based E-learning platform.',\n",
       "       \"MCaffeine is India's First Caffeine Infuse Personal Care Brand. It's an extension to the hyperactive lifestyle and individualistic identity.\",\n",
       "       'A Bengaluru-based fraud analytics solution provider .',\n",
       "       'HealthAssure provides access to Discounted & High Quality primary care medical network.',\n",
       "       'Operator of low-cost mobile cinema theatres in rural areas.',\n",
       "       'Equity crowd funding platform focused on connecting investors with a host of extremely promising Indian start-ups and early stage ventures',\n",
       "       'Professional Drones for Enterprise Applications',\n",
       "       'Wellthy is a digital therapeutics company focused on improving patient health through the intersection of technology, and clinical outcomes.',\n",
       "       'Nua is an e-commerce and feminine care brand platform focused on creating women care products.',\n",
       "       'An online platform for mutual fund investments.',\n",
       "       'Livehealth is an end-to-end collaborative report management solution. We help you get your medical reports instantly from various health',\n",
       "       'An agricultural inputs startup Company.',\n",
       "       'Ora is an online marketplace of unique accommodations. Awarded as among top 3000 startups in India by IIM Kolkata.',\n",
       "       'Buddy4Study is the best scholarship search engine for Indian students. It also helps organizations to set up their own scholarship schemes.',\n",
       "       'Healthcare devices for cancer detection',\n",
       "       'Syncremedies is an Integrated Medicine service that brings together Allopathy, Ayurveda and Homeopathy to treat chronic ailments.',\n",
       "       'Bluleaf Cyberspace is Cloud Based Software Company.',\n",
       "       'Toffee is a bite size, micro-event & contextual insurtech startup which aims to de-jargonise the insurance buying experience.',\n",
       "       'Online wealth management platform',\n",
       "       \"HealWell24 is India's emerging technology-empowered healthcare company, aiming to bring world-class quality healthcare services anywhere.\",\n",
       "       'Acko General Insurance is a digital insurance company in India that redefines insurance for the consumers.',\n",
       "       'E-commerce website promising the best price on any product a consumer buys anywhere on the internet.',\n",
       "       'A clean tech product Company',\n",
       "       'DheeYantra is building a cognitive conversational chatbot platform by name \"dhee.ai\" for vernacular languages',\n",
       "       'Edyoo.com is a technology platform that offers the most intuitive design, flexibility, and ease of use.',\n",
       "       'Chtrbox connects social media influencers with brands .',\n",
       "       'Provide housing finance to those in the informal sector enabling the hither to un-served to own a home of their own.',\n",
       "       'BetterPlace provides businesses with contractor workforce management, including onboarding, training, and background checks.',\n",
       "       'A P2P Lending Platform connecting millions of financially under-served & new to credit borrowers with investment savvy lenders in India',\n",
       "       'Easy video creation for social media.',\n",
       "       'FreightBazaar.com is an online platform that connects Truck suppliers with Truck users.',\n",
       "       'Open up to a new world of Banking',\n",
       "       'Hospital & Health Care Start up',\n",
       "       'Earth Food is a healthy Food Start Up.',\n",
       "       'Charcoal Eats aims to bring Dominos style standardisation.',\n",
       "       'A platform for people to express their opinions in form of short videos around any topic.',\n",
       "       'Fast growing Influencer Marketing platform in India.',\n",
       "       'Software for the new-age freight',\n",
       "       'Finwego partners with Small and Medium Businesses in India to offer convenient and responsible credit to their employees',\n",
       "       'Cricnwin is a Gurugram - based Fan Engagement Platform',\n",
       "       'Peer-to-Peer motor vehicles sharing',\n",
       "       \"India's Go to Career Commerce Portal\",\n",
       "       'Eruditus, promoted by Alumni of INSEAD and other top business schools, delivers high quality executive education programmes',\n",
       "       'Gaia Smart Cities is an early leader in the rapidly-emerging Internet of Things (IoT) marketplace.',\n",
       "       'Delivering Imagination',\n",
       "       \"UrbanClap is India's leading managed marketplace for home services.\",\n",
       "       'Hospals is a medical tourism company.',\n",
       "       'Kogta Financial (India) Ltd is a retail-focused non banking financial company .',\n",
       "       'An Education Management startup.',\n",
       "       'The Souled Store bring to you awesome t-shirts, framed prints, badges, notebooks, coasters.',\n",
       "       'Enabling diversity of opinions in organizations',\n",
       "       \"Drivezy is India's largest vehicle sharing platform which helps people turn their vehicles into earning members of their family.\",\n",
       "       'Freyr Energy is a company that provides full service solar provider based in Hyderabad, India.',\n",
       "       'NIRAMAI has developed a novel breast cancer screening solution that uses Thermalytix.',\n",
       "       'Cloudsek is an Infosec Risk assessment company which provides intelligence needed to tackle online threats.',\n",
       "       \"Lendbox is India's leading peer-to-peer lending online lending platform.\",\n",
       "       'Verloop is an automated customer support and engagement platform.',\n",
       "       'Flickstree is a smart video content aggregator, powered by Artificial Intelligence.',\n",
       "       \"India's Leading Property Rent management platform\",\n",
       "       'Idha skin clinic jayanagar is dedicated to restore health and natural beauty to your skin.',\n",
       "       'InCred Finance is a mumbai-based non-banking financial company',\n",
       "       'Vedantu provides personalized LIVE Online Tutoring. Vedantu aims to democratize teaching by creating a marketplace of Teachers',\n",
       "       'Sportido is a sports discovery app that helps you find people and places to play 700+ sports around you.',\n",
       "       'Stelis Biopharma is a vertically integrated biopharmaceutical company',\n",
       "       'Magicpin is a platform where users and merchants in a locality discover, interact, and transact.',\n",
       "       'Try & Buy',\n",
       "       'Mech Mocha is a mobile gaming startup based in Bangalore working towards ‘Making India Play’ .',\n",
       "       'Aye Finance provides financial services to micro and small businesses in Northern India.',\n",
       "       'Mobile Wallet Focusing on hassle free checkout via Finger Print & OTP.',\n",
       "       'Completely automated remote control system.',\n",
       "       \"Signzy are creating 'building blocks for a Digital Trust system.\",\n",
       "       'A Mumbai-based fin-tech startup',\n",
       "       'Cloudnine is an Indian chain of women and child care hospitals.',\n",
       "       'To discover, develop and deliver innovative solution in Agtech Space',\n",
       "       'BillDesk, a property of IndiaIdeas.com Ltd. was conceived in early 2000 to solve the frustrations of most of us when it comes to paying',\n",
       "       'Yaantra, India’s leading mobile phone repair, refurbished & Unboxed centre In India',\n",
       "       'Techbooze[1] \"AN OPEN FORUM\" is an educational enterprise, headquartered in India working across the country.',\n",
       "       'HealthifyMe is an application that allows its users to achieve their fitness and weight loss goals from their computers and smartphones.',\n",
       "       \"India's first hotel dedicated food brand which promises great in room dining experience in budget hotels\",\n",
       "       'Perpule is a self-checkout product for retail outlets to enhance the shopping experience of the customers.',\n",
       "       'Royal Sundaram provides comprehensive insurance plans and innovative insurance solutions to individuals, families and businesses.',\n",
       "       'CleanseCar is a company provides Washing and Repair Services.',\n",
       "       'DriveU is a convenient and a quick way of getting on demand drivers for consumers and businesses',\n",
       "       'Used cars marketplace in India. Ushering new era of transparency and convenience.',\n",
       "       'Asset Reconstruction Company (India) Ltd. operates as a asset reconstruction company.',\n",
       "       'Wellness, Specialised Testing, Healthcare at Home',\n",
       "       'Dunzo is an app that connects you with the nearest available delivery partner to pickup or deliver items for you.',\n",
       "       'Mobile Premier League(MPL) is a skill based E-Sports platform where you can play your favourite mobile games and win real cash always.',\n",
       "       'Wal-Mart India Private Limited is a wholly owned subsidiary of Walmart Stores Inc.,',\n",
       "       'Cred is a platform to celebrate and reward the most creditworthy people of India.',\n",
       "       'Meesho is an online reseller network of housewives and SMBs, who sell products within their network on social channels.',\n",
       "       'Bhaskarguru.com is your local search Engine',\n",
       "       \"Gugu designs & Sells all Electric Connected Two-wheeler's with Network of Open & Free Fast charging Stations across India.\",\n",
       "       'Farm Taaza provides expert advice to the farmers on improving the yield and improving the field operations of the farmer.',\n",
       "       'Autonomous Drone Solutions for last mile delivery as well as search and rescue',\n",
       "       \"BIGPHI technologies is the India's first technologically advanced apparel and wearable company.\",\n",
       "       \"India's 1st Dockless Bicycle Sharing App\",\n",
       "       'AI based Business Travel & Expense management',\n",
       "       'Em Personal Care is a Cosmetic products manufacturing Company.',\n",
       "       'Lucideus is a cybersecurity company that offers its customers with consultancy, training, and solutions to counteract cyber-attacks.',\n",
       "       'Eupheus Learning offers a seamless integrated learning solution for the K-12 market in India.',\n",
       "       'GamingMonk is an eSports gaming company based out of New Delhi, India.',\n",
       "       'Sukkhi Jewellery is a Contemporary fashion jewellery brand.',\n",
       "       'INDwealth is an Artificial Intelligence (AI) powered wealth management company',\n",
       "       \"India's largest medical and surgical supplies marketplace\",\n",
       "       'NIRA promotes financial inclusion by creating simple, transparent products that empower individuals to live a life of choice and freedom.',\n",
       "       'Duroflex Pvt. Ltd. operates as a dominant mattress player.',\n",
       "       'A biotechnology start-up was incorporated to improve the National Hygiene condition whilst addressing the aspect of water conservation.',\n",
       "       'Jetbrain Robotics is Hong Kong / Gurgaon based company, building advanced robotic transportation solutions for multi speciality hospitals.',\n",
       "       'MediMetry is an online platform where patients can consult specialists doctors online - from anywhere, at anytime.',\n",
       "       'The one stop shop for health, fitness & beauty.',\n",
       "       'Indiabulls Ventures Limited is one of India’s leading capital market companies providing securities and derivative broking services.',\n",
       "       'Vistara is a joint venture of Tata Sons Limited and Singapore Airlines Limited (SIA)',\n",
       "       'ClearTax India helps individuals prepare and e-file their Income Tax Return online.',\n",
       "       'Shuttl provides an app-based office shuttle service to make daily commute safe, reliable, affordable and dignified for everyone.',\n",
       "       'A one of its kind digital integrated platform connecting tutors and students.',\n",
       "       'Azure Power produces and distributes solar power to commercial, government, and utility customers in India.',\n",
       "       'Cube is consumer banking focused fintech company.',\n",
       "       'RAHI Care is a Health Care company.',\n",
       "       'Mynvax is a biotech Company.',\n",
       "       'Loans4SME is an alternative lending platform.',\n",
       "       'UpCyclersLab is a startup that makes sustainability-based learning tools for children above the age of five.',\n",
       "       'Cellerite Systems is a charging solutions provider for electric vehicles.',\n",
       "       'Taru Naturals is a network that connects farmer communities with clean technology and renewable energy.',\n",
       "       'LetsMD.com is a marketplace for elective surgeries',\n",
       "       'Twenty Two Motors aim of making cutting edge EV technology affordable for the current generation.',\n",
       "       'Truebil is a team of young, highly motivated professionals who strive to help you buy and sell used cars in the simplest way possible.',\n",
       "       'FarmersFZ is an online venture for fresh and safe vegetables and agri products.',\n",
       "       'worxogo’s is a pioneering persuasive technology products align employee behaviours .',\n",
       "       \"India's leading mobile based security management solution .\",\n",
       "       'Singularity Dynamics is a Chip-design testing startup.',\n",
       "       'Virtual MetalStreet(Metalstreet) is a B2B marketplace for steel trading in India',\n",
       "       'Veritas Finance has been promoted with a primary purpose of meeting the working capital and business credit requirements of the small bus.',\n",
       "       'Manjushree Technopack is a Rigid plastics packaging convertor in India and South Asia.',\n",
       "       'Startup working on a white space in the eCommerce industry.',\n",
       "       'Zomato is a search app offering detailed information for restaurants as well as online food delivery.',\n",
       "       'Innov8 is a Y- Combinator backed company that offers coworking and shared office spaces.',\n",
       "       'RevFin is a digital lending company.',\n",
       "       'Lavelle Networks provides Software Defined WAN (SD-WAN) Solutions to build end to end Enterprise Networking Platforms for tomorrow',\n",
       "       'Blackbuck is a logistics startup based in India.',\n",
       "       'Cardekho is a car search venture that helps users buy cars that are right for them.',\n",
       "       'ElasticRun develops an online system that improves the reception of orders from customers and the dispatch of delivery drivers in India.',\n",
       "       'Droom is a marketplace for automobiles and automobile services.',\n",
       "       'Vogo is a dockless scooter rental company in India which lets customers rent scooters for short one way trips.',\n",
       "       'InnerChef is an online food discovery and delivery experience that will make the foodie in you come alive.',\n",
       "       'LivQuik was incorporated with the vision to simplify payments for merchants and consumers in an increasingly digital world',\n",
       "       'Disprz is a one-of-its-kind “knowledge-tech” start-up that strives to make people knowledgeable, productive and smarter at what they do.',\n",
       "       'Online gaming startup.',\n",
       "       'Origo Commodities, a complete post-harvest management services for agricultural commodities, is the fastest growing company in its sector.',\n",
       "       'Good quality, strategically located homes closer to work for millennials',\n",
       "       'Vahdam Teas is a vertically integrated online-first tea brand that sources premium garden fresh teas direct from over 150+ tea plantations.',\n",
       "       'A social networking app that lets you create and view Spoofs of your favourite videos.',\n",
       "       'Strom Motors is a smart urban mobility Company.',\n",
       "       'PharmEasy - Indias largest healthcare delivery platform',\n",
       "       'Licious is an online meat and fish ordering startup that solves existing problem of finding safe, delectable, trustworthy fresh meat.',\n",
       "       'Stanza Living is a co-living platform created for students moving to a new place.',\n",
       "       'Docturnal, an online platform, enables individuals to find information and diagnostic services related to diabetes, cancer, and more.',\n",
       "       'Bounce (formerly Metro Bikes) is an urban mobility solution that makes daily commute stress-free, time-saving, reliable, and convenient.',\n",
       "       'Technology 9 Labs is an Information Technology and Services company.',\n",
       "       'Goals101 is a one of the fastest growing big-data platforms.',\n",
       "       'New Delhi-based non-banking financial company.',\n",
       "       'Ummeed Housing Finance Private Limited',\n",
       "       'StockEdge is a unique platform, which is 100% focused on research and analytics',\n",
       "       'Sequretek is a cyber security start-up.',\n",
       "       'Avenues Payments is an IT solutions provider for the remittance\\\\money transfer and forex industries.',\n",
       "       'Qbera is a managed marketplace for unsecured personal loans.',\n",
       "       'Urban Ladder is a Bangalore-based online furniture company.',\n",
       "       'Planet11 is backed by SK Planet, which is a part of the SK Group – one of the largest conglomerates in South Korea.',\n",
       "       'Daily Ninja, a mobile app that delivers daily needs on a subscription model',\n",
       "       'Iba Halal Care is a cosmetics brand company.',\n",
       "       'Knocksense is a fast growing lifestyle website.',\n",
       "       'Togedr is an activity discovery & booking platform.',\n",
       "       'Parkwheels aims at solving the big, bad & unsexy parking problems of India.',\n",
       "       'ShareChat is a social networking and regional content platform for the fast growing Internet users in India.',\n",
       "       'Medtech startup working on clinical and wearable diagnostic and rehab products for neuro vestibular disorders using eye tracking technology.',\n",
       "       'Livspace is the new online shopping destination where you can design, decorate and furnish your dream home.',\n",
       "       'NewsBytes provides your everyday news in a contextual timeline to reduce information overload.',\n",
       "       'Leena is smart AI powered HR companion dedicated towards engaging employees.',\n",
       "       'Max Healthcare is one of the leading chain of hospitals in India.',\n",
       "       'Delhi-based logistics technology.',\n",
       "       'GoGaga is a new age dating app that has removed the mindless swiping on strangers and connects users through their network and find matches.',\n",
       "       'Mate Labs is a machine learning solutions platform for beginners.',\n",
       "       'Furlenco is a Bangalore-based company that offers a home furniture subscription program.',\n",
       "       'Ola is a mobile app that brings together cab drivers and customers using technology to make transportation hassle-free in India.',\n",
       "       \"DocPrime offers a one-stop healthcare solution right at the comfort of patients' homes.\",\n",
       "       'CLP India Pvt. Ltd. is a foreign investor in the Indian power sector.',\n",
       "       'Xplorabox is as an educational activity box subscription startup aiming to revolutionize the early education industry.',\n",
       "       'Myra is a unique solution of technology and operations that makes buying medicines fast and efficient.',\n",
       "       \"India's Largest Peer-to-Peer Knowledge Sharing Platform in Indian Languages.\",\n",
       "       'Kissht is a financial technology platform that enables instant, seamless credit for consumers to make purchases at digital points of sales',\n",
       "       'Upwards Fintech financial company.',\n",
       "       'Bon, a Pune-based FinTech firm was created to bring financial services to the gig-economy workforce.',\n",
       "       'Mamaearth is an online retailer specializing in baby and toddler products.',\n",
       "       \"BabyChakra is India's largest & most loved platform to discover the right maternity and childcare.\",\n",
       "       'Belstar Investment and Finance Private Limited is a provider of scalable microfinance services to entrepreneurs.',\n",
       "       'Koku Gamer is an online platform that offers gaming related news, editorials, reviews, previews, and other content.',\n",
       "       'Moonshine Meadery is a first craft meadery.',\n",
       "       'Verzeo is anAI-focussed edtech startup.',\n",
       "       'Haazri is a tea and snack quick service restaurant startup',\n",
       "       'To create pervasive network where connections are simpler, more powerful, more affordable, more global and more available to all.',\n",
       "       'Flyrobe is an on-demand apparel rental platform that provides premium designer wear.',\n",
       "       'Edutech',\n",
       "       'Dream11 is India’s Biggest Sports Game with 30 million+ users playing Fantasy Cricket, Football, Kabaddi and NBA.',\n",
       "       'SRJNA is a brand of Elation Edtech Pvt. Ltd., which helps schools to integrate hands on, affordable and turnkey STEM.',\n",
       "       'Nykaa.com is a premier online beauty and wellness destination',\n",
       "       'Chaayos was born in November 2012 out of this premise - a contemporary interpretation of the chai adda.',\n",
       "       'Heelium is an athletic footwear and wearable startup with primary focus on sports safety and sustainability.',\n",
       "       'LT Foods believe that nature will continue to nurture us until we as a species continue to breathe and live.',\n",
       "       'Free language learning platform.',\n",
       "       'Uttar Pradesh based online eyewear marketplace.',\n",
       "       'NewsHunt is a Bangalore based eBooks company.',\n",
       "       'SlicePay is an AI based instant credit app for youngsters in India.',\n",
       "       'Udaan is a B2B trade platform, designed specifically for small and medium businesses in India.',\n",
       "       'HappyEasyGo is an online travel domain.',\n",
       "       'Mombay is a unique opportunity for housewives to start household food business and avail everyone with their homemade healthy dishes.',\n",
       "       'Droni Tech manufacture UAVs and develop software to service a range of industry requirements.',\n",
       "       \"Welcome to India's most convenient pharmacy!\"], dtype=object)"
      ]
     },
     "execution_count": 127,
     "metadata": {},
     "output_type": "execute_result"
    }
   ],
   "source": [
    "data4['About Company'].unique()"
   ]
  },
  {
   "cell_type": "markdown",
   "metadata": {},
   "source": [
    "Data Cleaning our 4th Dataset (data4)"
   ]
  },
  {
   "cell_type": "code",
   "execution_count": 128,
   "metadata": {},
   "outputs": [],
   "source": [
    "#Change Columns:\n",
    "#From: Company Name,Industry, Round/Series, Amount,\tLocation, About Company.\n",
    "#To: Company_Brand,\tSector, Stage, Amount, HeadQuarter,\tWhat_it_does.        \tFounders,\tInvestor, Founded\t\n",
    "\n",
    "\n",
    "data4.rename(columns={'Company Name': 'Company_Brand'}, inplace=True)\n",
    "data4.rename(columns={'Industry': 'Sector'}, inplace=True)\n",
    "data4.rename(columns={'Round/Series': 'Stage'}, inplace=True)\n",
    "data4.rename(columns={'Location': 'HeadQuarter'}, inplace=True)\n",
    "data4.rename(columns={'About Company': 'What_it_does'}, inplace=True)"
   ]
  },
  {
   "cell_type": "code",
   "execution_count": 129,
   "metadata": {},
   "outputs": [],
   "source": [
    "# Handling Company_Brand Column\n",
    "\n",
    "# Convert all entries to title case \n",
    "data4['Company_Brand'] = data4['Company_Brand'].str.title()"
   ]
  },
  {
   "cell_type": "code",
   "execution_count": 130,
   "metadata": {},
   "outputs": [
    {
     "data": {
      "text/plain": [
       "0          Seed\n",
       "1          Seed\n",
       "2      Series A\n",
       "3         Angel\n",
       "4          Seed\n",
       "         ...   \n",
       "521    Series C\n",
       "522    Series A\n",
       "523        Seed\n",
       "524        Seed\n",
       "525    Series C\n",
       "Name: Stage, Length: 526, dtype: category\n",
       "Categories (19, object): ['Angel', 'Corporate Round', 'Debt Financing', 'Funding Round', ..., 'Series D', 'Series E', 'Series H', 'Venture - Series Unknown']"
      ]
     },
     "execution_count": 130,
     "metadata": {},
     "output_type": "execute_result"
    }
   ],
   "source": [
    "# Handling Stage Column\n",
    "\n",
    "# Convert all Misfits and Undisclosed to series A\n",
    "data4['Stage'].replace('https://docs.google.com/spreadsheets/d/1x9ziNeaz6auNChIHnMI8U6kS7knTr3byy_YBGfQaoUA/edit#gid=1861303593','Undisclosed', inplace=True)\n",
    "data4['Stage'].replace('Undisclosed', 'Series A' or 'Seed' or 'Angel' or 'Series B' or'Pre-Seed' or\n",
    "       'Private Equity' , inplace=True)\n",
    "\n",
    "# Convert 'Stage' to a Category\n",
    "data4['Stage'] = data4['Stage'].astype('category')\n",
    "\n",
    "data4['Stage']"
   ]
  },
  {
   "cell_type": "code",
   "execution_count": 131,
   "metadata": {},
   "outputs": [
    {
     "data": {
      "text/plain": [
       "0             Brand Marketing\n",
       "1                 Agriculture\n",
       "2                      Credit\n",
       "3          Financial Services\n",
       "4        E-Commerce Platforms\n",
       "                ...          \n",
       "521                       B2B\n",
       "522                   Tourism\n",
       "523         Food And Beverage\n",
       "524    Information Technology\n",
       "525             Biotechnology\n",
       "Name: Sector, Length: 526, dtype: object"
      ]
     },
     "execution_count": 131,
     "metadata": {},
     "output_type": "execute_result"
    }
   ],
   "source": [
    "# Handling Sector column\n",
    "\n",
    "# Separate data to simpler Sector names instead of long sentenses \n",
    "data4['Sector'] = data4['Sector'].map(lambda x: str(x).split(',')[0].strip() if pd.notnull(x) else x)\n",
    "\n",
    "#data4['Sector'].unique().tolist()\n",
    "\n",
    "# Convert all values to lower case\n",
    "data4['Sector'] = data4['Sector'].str.lower()\n",
    "\n",
    "import re\n",
    " \n",
    "def sector_redistribution(Sector):\n",
    "    if re.search('bank|fintech|finance|credit|mobile Payments|lending|crypto|financial services|account|credit|venture|crowd|blockchain|mutual funds|virtual banking|banking|', Sector):\n",
    "        return 'Finance'\n",
    "    elif re.search(r'automotive|air transport|transport|ticketing|logistics|vehicle|transportation|developer platform|app|', Sector):\n",
    "        return 'Transport'\n",
    "    elif re.search(r'agriTech|agri|farming|agriculture|agtech|', Sector):  \n",
    "        return 'Agriculture'\n",
    "    elif re.search(r'legal tech|automotive tech|automation|analytics|big data|cybersecurity|cloud infrastructure|automobile|infratech|biotechnology|automobile & technology|robotics & ai|e-marketplace|iot|ai|ecommerce|technology|saas|ai & tech|e-commerce|e-commerce|ar|fintech|hr tech|safety tech|', Sector):\n",
    "        return 'Technology'\n",
    "    elif re.search (r'marketing|customer loyalty|product research|advertising|brand marketing|event promotion|market research|', Sector):\n",
    "        return 'Marketing'\n",
    "    elif re.search (r'insurance technology|insurance|', Sector):\n",
    "        return 'Insurance '\n",
    "    elif re.search (r'food tech|food|food & nutrition|food & tech|snack food|food processing|nutrition|food & beverage|food delivery|', Sector):\n",
    "        return 'Food'\n",
    "    elif re.search (r'pharmaceutical|healthtech|personal health|peer to peer|health diagnostic|health|' , Sector):\n",
    "        return 'Health & Wellness'\n",
    "    elif re.search (r'yoga|sports|yoga & wellness|', Sector):\n",
    "        return 'Fitness'\n",
    "    elif re.search (r'manufacturing', Sector):\n",
    "        return 'Manufacturing'\n",
    "    elif re.search (r'cosmetics|beauty|', Sector):\n",
    "        return 'Beauty'\n",
    "    elif re.search(r'social media|broadcasting|video chat|messaging|online portals|media and entertainmwent|audio|e-sports|games|internet|gaming|', Sector):\n",
    "        return 'Info-media'\n",
    "    elif re.search(r'interior design|accomodation|home renovation|service industry|laundry and dry cleaning|home decor|home improvement|hospitality|hotel|leisure|', Sector):\n",
    "        return 'Sevice Industry'\n",
    "    elif re.search (r'edtech|education|learning|', Sector):\n",
    "        return 'Education'\n",
    "    elif re.search(r'fashion|eyewear|jewellery|lifestyle|', Sector):\n",
    "        return 'Fashion'\n",
    "    elif re.search(r' b2b|b2B|supply chain|marketplace|retail|entreprise software|retail|consumer goods|trading platform|consumer|', Sector):\n",
    "        return 'Entreprising'\n",
    "    elif re.search(r'waste management|', Sector):\n",
    "        return 'Environment'\n",
    "    elif re.search(r'rental|property|real estate|smart building', Sector):\n",
    "        return 'Real Estate'\n",
    "    elif re.search(r'fraud detection|security|intelligence|cyber security|public safety|', Sector):\n",
    "        return 'Security'\n",
    "    \n",
    "    else:\n",
    "        return Sector\n",
    "    \n",
    "    \n",
    "# Convert all entries to title case \n",
    "data4['Sector'] = data4['Sector'].str.title()\n",
    "    \n",
    "data4['Sector'] "
   ]
  },
  {
   "cell_type": "code",
   "execution_count": 132,
   "metadata": {},
   "outputs": [
    {
     "data": {
      "text/plain": [
       "0         250000.0\n",
       "1        1550000.0\n",
       "2        1550000.0\n",
       "3        2000000.0\n",
       "4        1550000.0\n",
       "          ...     \n",
       "521    225000000.0\n",
       "522      1550000.0\n",
       "523         7500.0\n",
       "524      1550000.0\n",
       "525     35000000.0\n",
       "Name: Amount, Length: 526, dtype: float64"
      ]
     },
     "execution_count": 132,
     "metadata": {},
     "output_type": "execute_result"
    }
   ],
   "source": [
    "# Handling the Amount Column\n",
    "\n",
    "# Convert every '₹' to '$' using the 2018 exchange rate for Indian rupee to Dollar \n",
    "\n",
    "def convert_currency(Amount, currency):\n",
    "    if currency == '₹':\n",
    "        return Amount * 0.013  # Assuming an exchange rate of 1 INR = 0.013 USD\n",
    "    return Amount\n",
    "\n",
    "#  Remove any non numerics such as ',' and '$'\n",
    "data4['Amount'] = data4['Amount'].replace({'\\$': '', ',': ''}, regex=True)\n",
    "\n",
    "# Fill every  '—' with '0'\n",
    "data4['Amount'] = data4['Amount'].replace('—', '')\n",
    "\n",
    "# Convert Amount to Float\n",
    "data4['Amount'] = pd.to_numeric(data4['Amount'], errors='coerce')\n",
    "\n",
    "# Fill missing values with median \n",
    "data4['Amount'] = data4['Amount'].fillna(data4['Amount'].median())\n",
    "\n",
    "data4['Amount']\n",
    "\n"
   ]
  },
  {
   "cell_type": "code",
   "execution_count": 133,
   "metadata": {},
   "outputs": [],
   "source": [
    "# Drop duplicates\n",
    "\n",
    "data4.drop_duplicates( inplace=True)"
   ]
  },
  {
   "cell_type": "code",
   "execution_count": 134,
   "metadata": {},
   "outputs": [
    {
     "data": {
      "text/plain": [
       "0"
      ]
     },
     "execution_count": 134,
     "metadata": {},
     "output_type": "execute_result"
    }
   ],
   "source": [
    "# Check for duplicates \n",
    "\n",
    "data4.duplicated().sum()"
   ]
  },
  {
   "cell_type": "code",
   "execution_count": 135,
   "metadata": {},
   "outputs": [],
   "source": [
    "#Add Year Column\n",
    "data4['Year']=2018\n",
    "\n",
    "# Convert year Column to a dataetime format\n",
    "data4['Year'] = pd.to_datetime(data4['Year'], format='%Y') "
   ]
  },
  {
   "cell_type": "code",
   "execution_count": 136,
   "metadata": {},
   "outputs": [
    {
     "name": "stdout",
     "output_type": "stream",
     "text": [
      "<class 'pandas.core.frame.DataFrame'>\n",
      "Index: 525 entries, 0 to 525\n",
      "Data columns (total 7 columns):\n",
      " #   Column         Non-Null Count  Dtype         \n",
      "---  ------         --------------  -----         \n",
      " 0   Company_Brand  525 non-null    object        \n",
      " 1   Sector         525 non-null    object        \n",
      " 2   Stage          525 non-null    category      \n",
      " 3   Amount         525 non-null    float64       \n",
      " 4   HeadQuarter    525 non-null    object        \n",
      " 5   What_it_does   525 non-null    object        \n",
      " 6   Year           525 non-null    datetime64[ns]\n",
      "dtypes: category(1), datetime64[ns](1), float64(1), object(4)\n",
      "memory usage: 29.9+ KB\n"
     ]
    }
   ],
   "source": [
    "data4.info ()"
   ]
  },
  {
   "cell_type": "markdown",
   "metadata": {},
   "source": [
    "## Data Preparation "
   ]
  },
  {
   "cell_type": "markdown",
   "metadata": {},
   "source": [
    "Cleaning of our data was done after each of the datasets. In this phase we concatenate our data "
   ]
  },
  {
   "cell_type": "code",
   "execution_count": 137,
   "metadata": {},
   "outputs": [
    {
     "data": {
      "text/html": [
       "<div>\n",
       "<style scoped>\n",
       "    .dataframe tbody tr th:only-of-type {\n",
       "        vertical-align: middle;\n",
       "    }\n",
       "\n",
       "    .dataframe tbody tr th {\n",
       "        vertical-align: top;\n",
       "    }\n",
       "\n",
       "    .dataframe thead th {\n",
       "        text-align: right;\n",
       "    }\n",
       "</style>\n",
       "<table border=\"1\" class=\"dataframe\">\n",
       "  <thead>\n",
       "    <tr style=\"text-align: right;\">\n",
       "      <th></th>\n",
       "      <th>Company_Brand</th>\n",
       "      <th>Founded</th>\n",
       "      <th>HeadQuarter</th>\n",
       "      <th>Sector</th>\n",
       "      <th>What_it_does</th>\n",
       "      <th>Founders</th>\n",
       "      <th>Investor</th>\n",
       "      <th>Amount</th>\n",
       "      <th>Stage</th>\n",
       "      <th>Year</th>\n",
       "    </tr>\n",
       "  </thead>\n",
       "  <tbody>\n",
       "    <tr>\n",
       "      <th>0</th>\n",
       "      <td>Aqgromalin</td>\n",
       "      <td>2019.0</td>\n",
       "      <td>Chennai</td>\n",
       "      <td>Agritech</td>\n",
       "      <td>Cultivating Ideas for Profit</td>\n",
       "      <td>Prasanna Manogaran, Bharani C L</td>\n",
       "      <td>Angel Investors</td>\n",
       "      <td>200000.0</td>\n",
       "      <td>Pre series A</td>\n",
       "      <td>2020-01-01</td>\n",
       "    </tr>\n",
       "    <tr>\n",
       "      <th>1</th>\n",
       "      <td>Krayonnz</td>\n",
       "      <td>2019.0</td>\n",
       "      <td>Bangalore</td>\n",
       "      <td>Edtech</td>\n",
       "      <td>An academy-guardian-scholar centric ecosystem ...</td>\n",
       "      <td>Saurabh Dixit, Gurudutt Upadhyay</td>\n",
       "      <td>Gsf Accelerator</td>\n",
       "      <td>100000.0</td>\n",
       "      <td>Pre-seed</td>\n",
       "      <td>2020-01-01</td>\n",
       "    </tr>\n",
       "    <tr>\n",
       "      <th>2</th>\n",
       "      <td>Padcare Labs</td>\n",
       "      <td>2018.0</td>\n",
       "      <td>Pune</td>\n",
       "      <td>Hygiene Management</td>\n",
       "      <td>Converting bio-hazardous waste to harmless waste</td>\n",
       "      <td>Ajinkya Dhariya</td>\n",
       "      <td>Venture Center</td>\n",
       "      <td>3000000.0</td>\n",
       "      <td>Pre-seed</td>\n",
       "      <td>2020-01-01</td>\n",
       "    </tr>\n",
       "    <tr>\n",
       "      <th>3</th>\n",
       "      <td>Ncome</td>\n",
       "      <td>2020.0</td>\n",
       "      <td>New Delhi</td>\n",
       "      <td>Escrow</td>\n",
       "      <td>Escrow-as-a-service platform</td>\n",
       "      <td>Ritesh Tiwari</td>\n",
       "      <td>Venture Catalysts, Pointone Capital</td>\n",
       "      <td>400000.0</td>\n",
       "      <td>Pre series A</td>\n",
       "      <td>2020-01-01</td>\n",
       "    </tr>\n",
       "    <tr>\n",
       "      <th>4</th>\n",
       "      <td>Gramophone</td>\n",
       "      <td>2016.0</td>\n",
       "      <td>Indore</td>\n",
       "      <td>Agritech</td>\n",
       "      <td>Gramophone is an AgTech platform enabling acce...</td>\n",
       "      <td>Ashish Rajan Singh, Harshit Gupta, Nishant Mah...</td>\n",
       "      <td>Siana Capital Management, Info Edge</td>\n",
       "      <td>340000.0</td>\n",
       "      <td>Seed Round</td>\n",
       "      <td>2020-01-01</td>\n",
       "    </tr>\n",
       "  </tbody>\n",
       "</table>\n",
       "</div>"
      ],
      "text/plain": [
       "  Company_Brand  Founded HeadQuarter              Sector  \\\n",
       "0    Aqgromalin   2019.0     Chennai            Agritech   \n",
       "1      Krayonnz   2019.0   Bangalore              Edtech   \n",
       "2  Padcare Labs   2018.0        Pune  Hygiene Management   \n",
       "3         Ncome   2020.0   New Delhi              Escrow   \n",
       "4    Gramophone   2016.0      Indore            Agritech   \n",
       "\n",
       "                                        What_it_does  \\\n",
       "0                       Cultivating Ideas for Profit   \n",
       "1  An academy-guardian-scholar centric ecosystem ...   \n",
       "2   Converting bio-hazardous waste to harmless waste   \n",
       "3                       Escrow-as-a-service platform   \n",
       "4  Gramophone is an AgTech platform enabling acce...   \n",
       "\n",
       "                                            Founders  \\\n",
       "0                    Prasanna Manogaran, Bharani C L   \n",
       "1                   Saurabh Dixit, Gurudutt Upadhyay   \n",
       "2                                    Ajinkya Dhariya   \n",
       "3                                      Ritesh Tiwari   \n",
       "4  Ashish Rajan Singh, Harshit Gupta, Nishant Mah...   \n",
       "\n",
       "                              Investor     Amount         Stage       Year  \n",
       "0                      Angel Investors   200000.0  Pre series A 2020-01-01  \n",
       "1                      Gsf Accelerator   100000.0      Pre-seed 2020-01-01  \n",
       "2                       Venture Center  3000000.0      Pre-seed 2020-01-01  \n",
       "3  Venture Catalysts, Pointone Capital   400000.0  Pre series A 2020-01-01  \n",
       "4  Siana Capital Management, Info Edge   340000.0    Seed Round 2020-01-01  "
      ]
     },
     "execution_count": 137,
     "metadata": {},
     "output_type": "execute_result"
    }
   ],
   "source": [
    "# Combine DataFrames\n",
    "df_combined = pd.concat([data, data2, data3, data4], ignore_index=True)\n",
    "\n",
    "df_combined.head()"
   ]
  },
  {
   "cell_type": "code",
   "execution_count": 138,
   "metadata": {},
   "outputs": [
    {
     "data": {
      "text/plain": [
       "(2811, 10)"
      ]
     },
     "execution_count": 138,
     "metadata": {},
     "output_type": "execute_result"
    }
   ],
   "source": [
    "df_combined.shape"
   ]
  },
  {
   "cell_type": "code",
   "execution_count": 139,
   "metadata": {},
   "outputs": [
    {
     "data": {
      "text/html": [
       "<div>\n",
       "<style scoped>\n",
       "    .dataframe tbody tr th:only-of-type {\n",
       "        vertical-align: middle;\n",
       "    }\n",
       "\n",
       "    .dataframe tbody tr th {\n",
       "        vertical-align: top;\n",
       "    }\n",
       "\n",
       "    .dataframe thead th {\n",
       "        text-align: right;\n",
       "    }\n",
       "</style>\n",
       "<table border=\"1\" class=\"dataframe\">\n",
       "  <thead>\n",
       "    <tr style=\"text-align: right;\">\n",
       "      <th></th>\n",
       "      <th>count</th>\n",
       "      <th>mean</th>\n",
       "      <th>min</th>\n",
       "      <th>25%</th>\n",
       "      <th>50%</th>\n",
       "      <th>75%</th>\n",
       "      <th>max</th>\n",
       "      <th>std</th>\n",
       "    </tr>\n",
       "  </thead>\n",
       "  <tbody>\n",
       "    <tr>\n",
       "      <th>Founded</th>\n",
       "      <td>2286.0</td>\n",
       "      <td>2016.010936</td>\n",
       "      <td>1963.0</td>\n",
       "      <td>2015.0</td>\n",
       "      <td>2016.0</td>\n",
       "      <td>2019.0</td>\n",
       "      <td>2021.0</td>\n",
       "      <td>4.161968</td>\n",
       "    </tr>\n",
       "    <tr>\n",
       "      <th>Amount</th>\n",
       "      <td>2811.0</td>\n",
       "      <td>99762621.59196</td>\n",
       "      <td>0.0</td>\n",
       "      <td>1200000.0</td>\n",
       "      <td>3000000.0</td>\n",
       "      <td>8000000.0</td>\n",
       "      <td>150000000000.0</td>\n",
       "      <td>3122658256.643164</td>\n",
       "    </tr>\n",
       "    <tr>\n",
       "      <th>Year</th>\n",
       "      <td>2811</td>\n",
       "      <td>2020-01-01 22:13:26.830309376</td>\n",
       "      <td>2018-01-01 00:00:00</td>\n",
       "      <td>2020-01-01 00:00:00</td>\n",
       "      <td>2020-01-01 00:00:00</td>\n",
       "      <td>2021-01-01 00:00:00</td>\n",
       "      <td>2021-01-01 00:00:00</td>\n",
       "      <td>NaN</td>\n",
       "    </tr>\n",
       "  </tbody>\n",
       "</table>\n",
       "</div>"
      ],
      "text/plain": [
       "          count                           mean                  min  \\\n",
       "Founded  2286.0                    2016.010936               1963.0   \n",
       "Amount   2811.0                 99762621.59196                  0.0   \n",
       "Year       2811  2020-01-01 22:13:26.830309376  2018-01-01 00:00:00   \n",
       "\n",
       "                         25%                  50%                  75%  \\\n",
       "Founded               2015.0               2016.0               2019.0   \n",
       "Amount             1200000.0            3000000.0            8000000.0   \n",
       "Year     2020-01-01 00:00:00  2020-01-01 00:00:00  2021-01-01 00:00:00   \n",
       "\n",
       "                         max                std  \n",
       "Founded               2021.0           4.161968  \n",
       "Amount        150000000000.0  3122658256.643164  \n",
       "Year     2021-01-01 00:00:00                NaN  "
      ]
     },
     "execution_count": 139,
     "metadata": {},
     "output_type": "execute_result"
    }
   ],
   "source": [
    "df_combined.describe().T"
   ]
  },
  {
   "cell_type": "code",
   "execution_count": 140,
   "metadata": {},
   "outputs": [
    {
     "data": {
      "text/plain": [
       "0"
      ]
     },
     "execution_count": 140,
     "metadata": {},
     "output_type": "execute_result"
    }
   ],
   "source": [
    "df_combined.duplicated ().sum()"
   ]
  },
  {
   "cell_type": "code",
   "execution_count": 141,
   "metadata": {},
   "outputs": [
    {
     "name": "stdout",
     "output_type": "stream",
     "text": [
      "<class 'pandas.core.frame.DataFrame'>\n",
      "RangeIndex: 2811 entries, 0 to 2810\n",
      "Data columns (total 10 columns):\n",
      " #   Column         Non-Null Count  Dtype         \n",
      "---  ------         --------------  -----         \n",
      " 0   Company_Brand  2811 non-null   object        \n",
      " 1   Founded        2286 non-null   float64       \n",
      " 2   HeadQuarter    2811 non-null   object        \n",
      " 3   Sector         2811 non-null   object        \n",
      " 4   What_it_does   2811 non-null   object        \n",
      " 5   Founders       2286 non-null   object        \n",
      " 6   Investor       2286 non-null   object        \n",
      " 7   Amount         2811 non-null   float64       \n",
      " 8   Stage          2811 non-null   object        \n",
      " 9   Year           2811 non-null   datetime64[ns]\n",
      "dtypes: datetime64[ns](1), float64(2), object(7)\n",
      "memory usage: 219.7+ KB\n"
     ]
    }
   ],
   "source": [
    "df_combined.info()"
   ]
  },
  {
   "cell_type": "code",
   "execution_count": 142,
   "metadata": {},
   "outputs": [
    {
     "data": {
      "text/plain": [
       "Company_Brand      0\n",
       "Founded          525\n",
       "HeadQuarter        0\n",
       "Sector             0\n",
       "What_it_does       0\n",
       "Founders         525\n",
       "Investor         525\n",
       "Amount             0\n",
       "Stage              0\n",
       "Year               0\n",
       "dtype: int64"
      ]
     },
     "execution_count": 142,
     "metadata": {},
     "output_type": "execute_result"
    }
   ],
   "source": [
    "df_combined.isnull().sum()"
   ]
  },
  {
   "cell_type": "code",
   "execution_count": 143,
   "metadata": {},
   "outputs": [
    {
     "data": {
      "text/plain": [
       "Index(['Company_Brand', 'Founded', 'HeadQuarter', 'Sector', 'What_it_does',\n",
       "       'Founders', 'Investor', 'Amount', 'Stage', 'Year'],\n",
       "      dtype='object')"
      ]
     },
     "execution_count": 143,
     "metadata": {},
     "output_type": "execute_result"
    }
   ],
   "source": [
    "df_combined.columns"
   ]
  },
  {
   "cell_type": "code",
   "execution_count": 144,
   "metadata": {},
   "outputs": [
    {
     "data": {
      "text/plain": [
       "array([2019., 2018., 2020., 2016., 2008., 2015., 2017., 2014., 1998.,\n",
       "       2007., 2011., 1982., 2013., 2009., 2012., 1995., 2010., 2006.,\n",
       "       1978., 1999., 1994., 2005., 1973., 2002., 2004., 2001., 2021.,\n",
       "       1993., 1989., 2000., 2003., 1991., 1984., 1963.,   nan])"
      ]
     },
     "execution_count": 144,
     "metadata": {},
     "output_type": "execute_result"
    }
   ],
   "source": [
    "df_combined ['Founded'].unique()"
   ]
  },
  {
   "cell_type": "code",
   "execution_count": 145,
   "metadata": {},
   "outputs": [
    {
     "data": {
      "text/plain": [
       "array(['Prasanna Manogaran, Bharani C L',\n",
       "       'Saurabh Dixit, Gurudutt Upadhyay', 'Ajinkya Dhariya', ...,\n",
       "       'Jeevan Chowdary M, Harshit Harchani',\n",
       "       'Niraj Singh, Ramanshu Mahaur, Ganesh Pawar, Mohit Gupta', nan],\n",
       "      dtype=object)"
      ]
     },
     "execution_count": 145,
     "metadata": {},
     "output_type": "execute_result"
    }
   ],
   "source": [
    "df_combined ['Founders'].unique()"
   ]
  },
  {
   "cell_type": "code",
   "execution_count": 146,
   "metadata": {},
   "outputs": [
    {
     "data": {
      "text/plain": [
       "array(['Angel Investors', 'Gsf Accelerator', 'Venture Center', ...,\n",
       "       'Norwest Venture Partners, General Catalyst, Fundamentum, Accel Partners',\n",
       "       'TPG, Norwest Venture Partners, Evolvence India', nan],\n",
       "      dtype=object)"
      ]
     },
     "execution_count": 146,
     "metadata": {},
     "output_type": "execute_result"
    }
   ],
   "source": [
    "df_combined ['Investor'].unique()"
   ]
  },
  {
   "cell_type": "code",
   "execution_count": 147,
   "metadata": {},
   "outputs": [
    {
     "data": {
      "text/plain": [
       "<DatetimeArray>\n",
       "['2020-01-01 00:00:00', '2021-01-01 00:00:00', '2019-01-01 00:00:00',\n",
       " '2018-01-01 00:00:00']\n",
       "Length: 4, dtype: datetime64[ns]"
      ]
     },
     "execution_count": 147,
     "metadata": {},
     "output_type": "execute_result"
    }
   ],
   "source": [
    "df_combined ['Year'].unique()"
   ]
  },
  {
   "cell_type": "code",
   "execution_count": 148,
   "metadata": {},
   "outputs": [
    {
     "data": {
      "text/plain": [
       "array(['Pre series A', 'Pre-seed', 'Seed Round', 'Seed', 'Pre-series A',\n",
       "       'Pre-series', 'Series C', 'Series A', 'Series B', 'Debt',\n",
       "       'Pre-series C', 'Pre-series B', 'Series E', 'Bridge', 'Series D',\n",
       "       'Series B2', 'Series F', 'Pre- series A', 'Edge', 'Series H',\n",
       "       'Pre-Series B', 'Seed A', 'Series A-1', 'Seed Funding', 'Pre-Seed',\n",
       "       'Seed round', 'Pre-seed Round', 'Seed Round & Series A',\n",
       "       'Pre Series A', 'Pre seed Round', 'Angel Round', 'Pre series A1',\n",
       "       'Series E2', 'Bridge Round', 'Pre seed round', 'Pre series B',\n",
       "       'Pre series C', 'Seed Investment', 'Series D1', 'Mid series',\n",
       "       'Series C, D', 'Seed funding', 'Seed+', 'Series F2', 'Series A+',\n",
       "       'Series G', 'Series B3', 'PE', 'Series F1', 'Pre-series A1',\n",
       "       'Early seed', '$6000000', 'Seies A', 'Series A2', 'Series I',\n",
       "       'Fresh funding', 'Post series A', 'Series G ', 'Seed fund ',\n",
       "       'Seed fund', 'Series B+', 'Angel', 'Private Equity',\n",
       "       'Venture - Series Unknown', 'Grant', 'Debt Financing',\n",
       "       'Post-IPO Debt', 'Corporate Round', 'Secondary Market',\n",
       "       'Post-IPO Equity', 'Non-equity Assistance', 'Funding Round'],\n",
       "      dtype=object)"
      ]
     },
     "execution_count": 148,
     "metadata": {},
     "output_type": "execute_result"
    }
   ],
   "source": [
    "df_combined ['Stage'].unique()"
   ]
  },
  {
   "cell_type": "markdown",
   "metadata": {},
   "source": [
    "###  Hypothesi Testing"
   ]
  },
  {
   "cell_type": "code",
   "execution_count": 149,
   "metadata": {},
   "outputs": [
    {
     "name": "stdout",
     "output_type": "stream",
     "text": [
      "                 sum_sq      df         F  PR(>F)\n",
      "C(Sector)  2.801213e+20   547.0  0.041725     1.0\n",
      "C(Stage)   2.054703e+20    71.0  0.235794     1.0\n",
      "Residual   2.692741e+22  2194.0       NaN     NaN\n",
      "P-value for Sector: 0.9999999999999999\n",
      "P-value for Stage: 0.9999999999961665\n",
      "Fail to reject the null hypothesis for Sector: No significant difference in funding across different sectors.\n",
      "Fail to reject the null hypothesis for Stage: No significant difference in funding across different stages.\n"
     ]
    }
   ],
   "source": [
    "from statsmodels.formula.api import ols\n",
    "from statsmodels.stats.anova import anova_lm\n",
    "\n",
    "\n",
    "# Create the model\n",
    "model = ols('Amount ~ C(Sector) + C(Stage)', data=df_combined).fit()\n",
    "\n",
    "# Perform the ANOVA\n",
    "anova_results = sm.stats.anova_lm(model, typ=2)\n",
    "\n",
    "# Display the results\n",
    "print(anova_results)\n",
    "\n",
    "# Interpretation\n",
    "p_value_sector = anova_results['PR(>F)']['C(Sector)']\n",
    "p_value_stage = anova_results['PR(>F)']['C(Stage)']\n",
    "\n",
    "print(f\"P-value for Sector: {p_value_sector}\")\n",
    "print(f\"P-value for Stage: {p_value_stage}\")\n",
    "\n",
    "if p_value_sector < 0.05:\n",
    "    print(\"Reject the null hypothesis for Sector: There is a significant difference in funding across different sectors.\")\n",
    "else:\n",
    "    print(\"Fail to reject the null hypothesis for Sector: No significant difference in funding across different sectors.\")\n",
    "\n",
    "if p_value_stage < 0.05:\n",
    "    print(\"Reject the null hypothesis for Stage: There is a significant difference in funding across different stages.\")\n",
    "else:\n",
    "    print(\"Fail to reject the null hypothesis for Stage: No significant difference in funding across different stages.\")"
   ]
  },
  {
   "cell_type": "markdown",
   "metadata": {},
   "source": [
    "#### The output suggests that there is no significant difference in funding across different sectors and stages of startups, according to the ANOVA test performed. However, the p-value for the Sector factor (0.042076) is lower than the typical significance level of 0.05, which could indicate some potential difference in funding across sectors, but this difference is not statistically significant based on the chosen significance level."
   ]
  },
  {
   "cell_type": "markdown",
   "metadata": {},
   "source": [
    "### ANALYTICAL QUESTIONS"
   ]
  },
  {
   "cell_type": "markdown",
   "metadata": {},
   "source": [
    "1. Funding Trends:\n",
    "How has the total funding amount changed year over year from 2018 to 2021?\n",
    "How has the average funding amount in each sector changed over the years (2018 - 2021)"
   ]
  },
  {
   "cell_type": "code",
   "execution_count": 150,
   "metadata": {},
   "outputs": [],
   "source": [
    "# Calculate the total funding amount per year\n",
    "Total_funding = df_combined.groupby('Year')['Amount'].sum().reset_index()\n",
    "\n",
    "# For the years 2018 to 2021\n",
    "Year = df_combined['Year']\n"
   ]
  },
  {
   "cell_type": "code",
   "execution_count": 154,
   "metadata": {},
   "outputs": [
    {
     "data": {
      "application/vnd.plotly.v1+json": {
       "config": {
        "plotlyServerURL": "https://plot.ly"
       },
       "data": [
        {
         "hovertemplate": "Year=%{x}<br>Amount=%{y}<extra></extra>",
         "legendgroup": "",
         "line": {
          "color": "#636efa",
          "dash": "solid"
         },
         "marker": {
          "symbol": "circle"
         },
         "mode": "lines+markers",
         "name": "",
         "showlegend": false,
         "type": "scattergl",
         "x": [
          "2020-01-01T00:00:00",
          "2020-01-01T00:00:00",
          "2020-01-01T00:00:00",
          "2020-01-01T00:00:00",
          "2020-01-01T00:00:00",
          "2020-01-01T00:00:00",
          "2020-01-01T00:00:00",
          "2020-01-01T00:00:00",
          "2020-01-01T00:00:00",
          "2020-01-01T00:00:00",
          "2020-01-01T00:00:00",
          "2020-01-01T00:00:00",
          "2020-01-01T00:00:00",
          "2020-01-01T00:00:00",
          "2020-01-01T00:00:00",
          "2020-01-01T00:00:00",
          "2020-01-01T00:00:00",
          "2020-01-01T00:00:00",
          "2020-01-01T00:00:00",
          "2020-01-01T00:00:00",
          "2020-01-01T00:00:00",
          "2020-01-01T00:00:00",
          "2020-01-01T00:00:00",
          "2020-01-01T00:00:00",
          "2020-01-01T00:00:00",
          "2020-01-01T00:00:00",
          "2020-01-01T00:00:00",
          "2020-01-01T00:00:00",
          "2020-01-01T00:00:00",
          "2020-01-01T00:00:00",
          "2020-01-01T00:00:00",
          "2020-01-01T00:00:00",
          "2020-01-01T00:00:00",
          "2020-01-01T00:00:00",
          "2020-01-01T00:00:00",
          "2020-01-01T00:00:00",
          "2020-01-01T00:00:00",
          "2020-01-01T00:00:00",
          "2020-01-01T00:00:00",
          "2020-01-01T00:00:00",
          "2020-01-01T00:00:00",
          "2020-01-01T00:00:00",
          "2020-01-01T00:00:00",
          "2020-01-01T00:00:00",
          "2020-01-01T00:00:00",
          "2020-01-01T00:00:00",
          "2020-01-01T00:00:00",
          "2020-01-01T00:00:00",
          "2020-01-01T00:00:00",
          "2020-01-01T00:00:00",
          "2020-01-01T00:00:00",
          "2020-01-01T00:00:00",
          "2020-01-01T00:00:00",
          "2020-01-01T00:00:00",
          "2020-01-01T00:00:00",
          "2020-01-01T00:00:00",
          "2020-01-01T00:00:00",
          "2020-01-01T00:00:00",
          "2020-01-01T00:00:00",
          "2020-01-01T00:00:00",
          "2020-01-01T00:00:00",
          "2020-01-01T00:00:00",
          "2020-01-01T00:00:00",
          "2020-01-01T00:00:00",
          "2020-01-01T00:00:00",
          "2020-01-01T00:00:00",
          "2020-01-01T00:00:00",
          "2020-01-01T00:00:00",
          "2020-01-01T00:00:00",
          "2020-01-01T00:00:00",
          "2020-01-01T00:00:00",
          "2020-01-01T00:00:00",
          "2020-01-01T00:00:00",
          "2020-01-01T00:00:00",
          "2020-01-01T00:00:00",
          "2020-01-01T00:00:00",
          "2020-01-01T00:00:00",
          "2020-01-01T00:00:00",
          "2020-01-01T00:00:00",
          "2020-01-01T00:00:00",
          "2020-01-01T00:00:00",
          "2020-01-01T00:00:00",
          "2020-01-01T00:00:00",
          "2020-01-01T00:00:00",
          "2020-01-01T00:00:00",
          "2020-01-01T00:00:00",
          "2020-01-01T00:00:00",
          "2020-01-01T00:00:00",
          "2020-01-01T00:00:00",
          "2020-01-01T00:00:00",
          "2020-01-01T00:00:00",
          "2020-01-01T00:00:00",
          "2020-01-01T00:00:00",
          "2020-01-01T00:00:00",
          "2020-01-01T00:00:00",
          "2020-01-01T00:00:00",
          "2020-01-01T00:00:00",
          "2020-01-01T00:00:00",
          "2020-01-01T00:00:00",
          "2020-01-01T00:00:00",
          "2020-01-01T00:00:00",
          "2020-01-01T00:00:00",
          "2020-01-01T00:00:00",
          "2020-01-01T00:00:00",
          "2020-01-01T00:00:00",
          "2020-01-01T00:00:00",
          "2020-01-01T00:00:00",
          "2020-01-01T00:00:00",
          "2020-01-01T00:00:00",
          "2020-01-01T00:00:00",
          "2020-01-01T00:00:00",
          "2020-01-01T00:00:00",
          "2020-01-01T00:00:00",
          "2020-01-01T00:00:00",
          "2020-01-01T00:00:00",
          "2020-01-01T00:00:00",
          "2020-01-01T00:00:00",
          "2020-01-01T00:00:00",
          "2020-01-01T00:00:00",
          "2020-01-01T00:00:00",
          "2020-01-01T00:00:00",
          "2020-01-01T00:00:00",
          "2020-01-01T00:00:00",
          "2020-01-01T00:00:00",
          "2020-01-01T00:00:00",
          "2020-01-01T00:00:00",
          "2020-01-01T00:00:00",
          "2020-01-01T00:00:00",
          "2020-01-01T00:00:00",
          "2020-01-01T00:00:00",
          "2020-01-01T00:00:00",
          "2020-01-01T00:00:00",
          "2020-01-01T00:00:00",
          "2020-01-01T00:00:00",
          "2020-01-01T00:00:00",
          "2020-01-01T00:00:00",
          "2020-01-01T00:00:00",
          "2020-01-01T00:00:00",
          "2020-01-01T00:00:00",
          "2020-01-01T00:00:00",
          "2020-01-01T00:00:00",
          "2020-01-01T00:00:00",
          "2020-01-01T00:00:00",
          "2020-01-01T00:00:00",
          "2020-01-01T00:00:00",
          "2020-01-01T00:00:00",
          "2020-01-01T00:00:00",
          "2020-01-01T00:00:00",
          "2020-01-01T00:00:00",
          "2020-01-01T00:00:00",
          "2020-01-01T00:00:00",
          "2020-01-01T00:00:00",
          "2020-01-01T00:00:00",
          "2020-01-01T00:00:00",
          "2020-01-01T00:00:00",
          "2020-01-01T00:00:00",
          "2020-01-01T00:00:00",
          "2020-01-01T00:00:00",
          "2020-01-01T00:00:00",
          "2020-01-01T00:00:00",
          "2020-01-01T00:00:00",
          "2020-01-01T00:00:00",
          "2020-01-01T00:00:00",
          "2020-01-01T00:00:00",
          "2020-01-01T00:00:00",
          "2020-01-01T00:00:00",
          "2020-01-01T00:00:00",
          "2020-01-01T00:00:00",
          "2020-01-01T00:00:00",
          "2020-01-01T00:00:00",
          "2020-01-01T00:00:00",
          "2020-01-01T00:00:00",
          "2020-01-01T00:00:00",
          "2020-01-01T00:00:00",
          "2020-01-01T00:00:00",
          "2020-01-01T00:00:00",
          "2020-01-01T00:00:00",
          "2020-01-01T00:00:00",
          "2020-01-01T00:00:00",
          "2020-01-01T00:00:00",
          "2020-01-01T00:00:00",
          "2020-01-01T00:00:00",
          "2020-01-01T00:00:00",
          "2020-01-01T00:00:00",
          "2020-01-01T00:00:00",
          "2020-01-01T00:00:00",
          "2020-01-01T00:00:00",
          "2020-01-01T00:00:00",
          "2020-01-01T00:00:00",
          "2020-01-01T00:00:00",
          "2020-01-01T00:00:00",
          "2020-01-01T00:00:00",
          "2020-01-01T00:00:00",
          "2020-01-01T00:00:00",
          "2020-01-01T00:00:00",
          "2020-01-01T00:00:00",
          "2020-01-01T00:00:00",
          "2020-01-01T00:00:00",
          "2020-01-01T00:00:00",
          "2020-01-01T00:00:00",
          "2020-01-01T00:00:00",
          "2020-01-01T00:00:00",
          "2020-01-01T00:00:00",
          "2020-01-01T00:00:00",
          "2020-01-01T00:00:00",
          "2020-01-01T00:00:00",
          "2020-01-01T00:00:00",
          "2020-01-01T00:00:00",
          "2020-01-01T00:00:00",
          "2020-01-01T00:00:00",
          "2020-01-01T00:00:00",
          "2020-01-01T00:00:00",
          "2020-01-01T00:00:00",
          "2020-01-01T00:00:00",
          "2020-01-01T00:00:00",
          "2020-01-01T00:00:00",
          "2020-01-01T00:00:00",
          "2020-01-01T00:00:00",
          "2020-01-01T00:00:00",
          "2020-01-01T00:00:00",
          "2020-01-01T00:00:00",
          "2020-01-01T00:00:00",
          "2020-01-01T00:00:00",
          "2020-01-01T00:00:00",
          "2020-01-01T00:00:00",
          "2020-01-01T00:00:00",
          "2020-01-01T00:00:00",
          "2020-01-01T00:00:00",
          "2020-01-01T00:00:00",
          "2020-01-01T00:00:00",
          "2020-01-01T00:00:00",
          "2020-01-01T00:00:00",
          "2020-01-01T00:00:00",
          "2020-01-01T00:00:00",
          "2020-01-01T00:00:00",
          "2020-01-01T00:00:00",
          "2020-01-01T00:00:00",
          "2020-01-01T00:00:00",
          "2020-01-01T00:00:00",
          "2020-01-01T00:00:00",
          "2020-01-01T00:00:00",
          "2020-01-01T00:00:00",
          "2020-01-01T00:00:00",
          "2020-01-01T00:00:00",
          "2020-01-01T00:00:00",
          "2020-01-01T00:00:00",
          "2020-01-01T00:00:00",
          "2020-01-01T00:00:00",
          "2020-01-01T00:00:00",
          "2020-01-01T00:00:00",
          "2020-01-01T00:00:00",
          "2020-01-01T00:00:00",
          "2020-01-01T00:00:00",
          "2020-01-01T00:00:00",
          "2020-01-01T00:00:00",
          "2020-01-01T00:00:00",
          "2020-01-01T00:00:00",
          "2020-01-01T00:00:00",
          "2020-01-01T00:00:00",
          "2020-01-01T00:00:00",
          "2020-01-01T00:00:00",
          "2020-01-01T00:00:00",
          "2020-01-01T00:00:00",
          "2020-01-01T00:00:00",
          "2020-01-01T00:00:00",
          "2020-01-01T00:00:00",
          "2020-01-01T00:00:00",
          "2020-01-01T00:00:00",
          "2020-01-01T00:00:00",
          "2020-01-01T00:00:00",
          "2020-01-01T00:00:00",
          "2020-01-01T00:00:00",
          "2020-01-01T00:00:00",
          "2020-01-01T00:00:00",
          "2020-01-01T00:00:00",
          "2020-01-01T00:00:00",
          "2020-01-01T00:00:00",
          "2020-01-01T00:00:00",
          "2020-01-01T00:00:00",
          "2020-01-01T00:00:00",
          "2020-01-01T00:00:00",
          "2020-01-01T00:00:00",
          "2020-01-01T00:00:00",
          "2020-01-01T00:00:00",
          "2020-01-01T00:00:00",
          "2020-01-01T00:00:00",
          "2020-01-01T00:00:00",
          "2020-01-01T00:00:00",
          "2020-01-01T00:00:00",
          "2020-01-01T00:00:00",
          "2020-01-01T00:00:00",
          "2020-01-01T00:00:00",
          "2020-01-01T00:00:00",
          "2020-01-01T00:00:00",
          "2020-01-01T00:00:00",
          "2020-01-01T00:00:00",
          "2020-01-01T00:00:00",
          "2020-01-01T00:00:00",
          "2020-01-01T00:00:00",
          "2020-01-01T00:00:00",
          "2020-01-01T00:00:00",
          "2020-01-01T00:00:00",
          "2020-01-01T00:00:00",
          "2020-01-01T00:00:00",
          "2020-01-01T00:00:00",
          "2020-01-01T00:00:00",
          "2020-01-01T00:00:00",
          "2020-01-01T00:00:00",
          "2020-01-01T00:00:00",
          "2020-01-01T00:00:00",
          "2020-01-01T00:00:00",
          "2020-01-01T00:00:00",
          "2020-01-01T00:00:00",
          "2020-01-01T00:00:00",
          "2020-01-01T00:00:00",
          "2020-01-01T00:00:00",
          "2020-01-01T00:00:00",
          "2020-01-01T00:00:00",
          "2020-01-01T00:00:00",
          "2020-01-01T00:00:00",
          "2020-01-01T00:00:00",
          "2020-01-01T00:00:00",
          "2020-01-01T00:00:00",
          "2020-01-01T00:00:00",
          "2020-01-01T00:00:00",
          "2020-01-01T00:00:00",
          "2020-01-01T00:00:00",
          "2020-01-01T00:00:00",
          "2020-01-01T00:00:00",
          "2020-01-01T00:00:00",
          "2020-01-01T00:00:00",
          "2020-01-01T00:00:00",
          "2020-01-01T00:00:00",
          "2020-01-01T00:00:00",
          "2020-01-01T00:00:00",
          "2020-01-01T00:00:00",
          "2020-01-01T00:00:00",
          "2020-01-01T00:00:00",
          "2020-01-01T00:00:00",
          "2020-01-01T00:00:00",
          "2020-01-01T00:00:00",
          "2020-01-01T00:00:00",
          "2020-01-01T00:00:00",
          "2020-01-01T00:00:00",
          "2020-01-01T00:00:00",
          "2020-01-01T00:00:00",
          "2020-01-01T00:00:00",
          "2020-01-01T00:00:00",
          "2020-01-01T00:00:00",
          "2020-01-01T00:00:00",
          "2020-01-01T00:00:00",
          "2020-01-01T00:00:00",
          "2020-01-01T00:00:00",
          "2020-01-01T00:00:00",
          "2020-01-01T00:00:00",
          "2020-01-01T00:00:00",
          "2020-01-01T00:00:00",
          "2020-01-01T00:00:00",
          "2020-01-01T00:00:00",
          "2020-01-01T00:00:00",
          "2020-01-01T00:00:00",
          "2020-01-01T00:00:00",
          "2020-01-01T00:00:00",
          "2020-01-01T00:00:00",
          "2020-01-01T00:00:00",
          "2020-01-01T00:00:00",
          "2020-01-01T00:00:00",
          "2020-01-01T00:00:00",
          "2020-01-01T00:00:00",
          "2020-01-01T00:00:00",
          "2020-01-01T00:00:00",
          "2020-01-01T00:00:00",
          "2020-01-01T00:00:00",
          "2020-01-01T00:00:00",
          "2020-01-01T00:00:00",
          "2020-01-01T00:00:00",
          "2020-01-01T00:00:00",
          "2020-01-01T00:00:00",
          "2020-01-01T00:00:00",
          "2020-01-01T00:00:00",
          "2020-01-01T00:00:00",
          "2020-01-01T00:00:00",
          "2020-01-01T00:00:00",
          "2020-01-01T00:00:00",
          "2020-01-01T00:00:00",
          "2020-01-01T00:00:00",
          "2020-01-01T00:00:00",
          "2020-01-01T00:00:00",
          "2020-01-01T00:00:00",
          "2020-01-01T00:00:00",
          "2020-01-01T00:00:00",
          "2020-01-01T00:00:00",
          "2020-01-01T00:00:00",
          "2020-01-01T00:00:00",
          "2020-01-01T00:00:00",
          "2020-01-01T00:00:00",
          "2020-01-01T00:00:00",
          "2020-01-01T00:00:00",
          "2020-01-01T00:00:00",
          "2020-01-01T00:00:00",
          "2020-01-01T00:00:00",
          "2020-01-01T00:00:00",
          "2020-01-01T00:00:00",
          "2020-01-01T00:00:00",
          "2020-01-01T00:00:00",
          "2020-01-01T00:00:00",
          "2020-01-01T00:00:00",
          "2020-01-01T00:00:00",
          "2020-01-01T00:00:00",
          "2020-01-01T00:00:00",
          "2020-01-01T00:00:00",
          "2020-01-01T00:00:00",
          "2020-01-01T00:00:00",
          "2020-01-01T00:00:00",
          "2020-01-01T00:00:00",
          "2020-01-01T00:00:00",
          "2020-01-01T00:00:00",
          "2020-01-01T00:00:00",
          "2020-01-01T00:00:00",
          "2020-01-01T00:00:00",
          "2020-01-01T00:00:00",
          "2020-01-01T00:00:00",
          "2020-01-01T00:00:00",
          "2020-01-01T00:00:00",
          "2020-01-01T00:00:00",
          "2020-01-01T00:00:00",
          "2020-01-01T00:00:00",
          "2020-01-01T00:00:00",
          "2020-01-01T00:00:00",
          "2020-01-01T00:00:00",
          "2020-01-01T00:00:00",
          "2020-01-01T00:00:00",
          "2020-01-01T00:00:00",
          "2020-01-01T00:00:00",
          "2020-01-01T00:00:00",
          "2020-01-01T00:00:00",
          "2020-01-01T00:00:00",
          "2020-01-01T00:00:00",
          "2020-01-01T00:00:00",
          "2020-01-01T00:00:00",
          "2020-01-01T00:00:00",
          "2020-01-01T00:00:00",
          "2020-01-01T00:00:00",
          "2020-01-01T00:00:00",
          "2020-01-01T00:00:00",
          "2020-01-01T00:00:00",
          "2020-01-01T00:00:00",
          "2020-01-01T00:00:00",
          "2020-01-01T00:00:00",
          "2020-01-01T00:00:00",
          "2020-01-01T00:00:00",
          "2020-01-01T00:00:00",
          "2020-01-01T00:00:00",
          "2020-01-01T00:00:00",
          "2020-01-01T00:00:00",
          "2020-01-01T00:00:00",
          "2020-01-01T00:00:00",
          "2020-01-01T00:00:00",
          "2020-01-01T00:00:00",
          "2020-01-01T00:00:00",
          "2020-01-01T00:00:00",
          "2020-01-01T00:00:00",
          "2020-01-01T00:00:00",
          "2020-01-01T00:00:00",
          "2020-01-01T00:00:00",
          "2020-01-01T00:00:00",
          "2020-01-01T00:00:00",
          "2020-01-01T00:00:00",
          "2020-01-01T00:00:00",
          "2020-01-01T00:00:00",
          "2020-01-01T00:00:00",
          "2020-01-01T00:00:00",
          "2020-01-01T00:00:00",
          "2020-01-01T00:00:00",
          "2020-01-01T00:00:00",
          "2020-01-01T00:00:00",
          "2020-01-01T00:00:00",
          "2020-01-01T00:00:00",
          "2020-01-01T00:00:00",
          "2020-01-01T00:00:00",
          "2020-01-01T00:00:00",
          "2020-01-01T00:00:00",
          "2020-01-01T00:00:00",
          "2020-01-01T00:00:00",
          "2020-01-01T00:00:00",
          "2020-01-01T00:00:00",
          "2020-01-01T00:00:00",
          "2020-01-01T00:00:00",
          "2020-01-01T00:00:00",
          "2020-01-01T00:00:00",
          "2020-01-01T00:00:00",
          "2020-01-01T00:00:00",
          "2020-01-01T00:00:00",
          "2020-01-01T00:00:00",
          "2020-01-01T00:00:00",
          "2020-01-01T00:00:00",
          "2020-01-01T00:00:00",
          "2020-01-01T00:00:00",
          "2020-01-01T00:00:00",
          "2020-01-01T00:00:00",
          "2020-01-01T00:00:00",
          "2020-01-01T00:00:00",
          "2020-01-01T00:00:00",
          "2020-01-01T00:00:00",
          "2020-01-01T00:00:00",
          "2020-01-01T00:00:00",
          "2020-01-01T00:00:00",
          "2020-01-01T00:00:00",
          "2020-01-01T00:00:00",
          "2020-01-01T00:00:00",
          "2020-01-01T00:00:00",
          "2020-01-01T00:00:00",
          "2020-01-01T00:00:00",
          "2020-01-01T00:00:00",
          "2020-01-01T00:00:00",
          "2020-01-01T00:00:00",
          "2020-01-01T00:00:00",
          "2020-01-01T00:00:00",
          "2020-01-01T00:00:00",
          "2020-01-01T00:00:00",
          "2020-01-01T00:00:00",
          "2020-01-01T00:00:00",
          "2020-01-01T00:00:00",
          "2020-01-01T00:00:00",
          "2020-01-01T00:00:00",
          "2020-01-01T00:00:00",
          "2020-01-01T00:00:00",
          "2020-01-01T00:00:00",
          "2020-01-01T00:00:00",
          "2020-01-01T00:00:00",
          "2020-01-01T00:00:00",
          "2020-01-01T00:00:00",
          "2020-01-01T00:00:00",
          "2020-01-01T00:00:00",
          "2020-01-01T00:00:00",
          "2020-01-01T00:00:00",
          "2020-01-01T00:00:00",
          "2020-01-01T00:00:00",
          "2020-01-01T00:00:00",
          "2020-01-01T00:00:00",
          "2020-01-01T00:00:00",
          "2020-01-01T00:00:00",
          "2020-01-01T00:00:00",
          "2020-01-01T00:00:00",
          "2020-01-01T00:00:00",
          "2020-01-01T00:00:00",
          "2020-01-01T00:00:00",
          "2020-01-01T00:00:00",
          "2020-01-01T00:00:00",
          "2020-01-01T00:00:00",
          "2020-01-01T00:00:00",
          "2020-01-01T00:00:00",
          "2020-01-01T00:00:00",
          "2020-01-01T00:00:00",
          "2020-01-01T00:00:00",
          "2020-01-01T00:00:00",
          "2020-01-01T00:00:00",
          "2020-01-01T00:00:00",
          "2020-01-01T00:00:00",
          "2020-01-01T00:00:00",
          "2020-01-01T00:00:00",
          "2020-01-01T00:00:00",
          "2020-01-01T00:00:00",
          "2020-01-01T00:00:00",
          "2020-01-01T00:00:00",
          "2020-01-01T00:00:00",
          "2020-01-01T00:00:00",
          "2020-01-01T00:00:00",
          "2020-01-01T00:00:00",
          "2020-01-01T00:00:00",
          "2020-01-01T00:00:00",
          "2020-01-01T00:00:00",
          "2020-01-01T00:00:00",
          "2020-01-01T00:00:00",
          "2020-01-01T00:00:00",
          "2020-01-01T00:00:00",
          "2020-01-01T00:00:00",
          "2020-01-01T00:00:00",
          "2020-01-01T00:00:00",
          "2020-01-01T00:00:00",
          "2020-01-01T00:00:00",
          "2020-01-01T00:00:00",
          "2020-01-01T00:00:00",
          "2020-01-01T00:00:00",
          "2020-01-01T00:00:00",
          "2020-01-01T00:00:00",
          "2020-01-01T00:00:00",
          "2020-01-01T00:00:00",
          "2020-01-01T00:00:00",
          "2020-01-01T00:00:00",
          "2020-01-01T00:00:00",
          "2020-01-01T00:00:00",
          "2020-01-01T00:00:00",
          "2020-01-01T00:00:00",
          "2020-01-01T00:00:00",
          "2020-01-01T00:00:00",
          "2020-01-01T00:00:00",
          "2020-01-01T00:00:00",
          "2020-01-01T00:00:00",
          "2020-01-01T00:00:00",
          "2020-01-01T00:00:00",
          "2020-01-01T00:00:00",
          "2020-01-01T00:00:00",
          "2020-01-01T00:00:00",
          "2020-01-01T00:00:00",
          "2020-01-01T00:00:00",
          "2020-01-01T00:00:00",
          "2020-01-01T00:00:00",
          "2020-01-01T00:00:00",
          "2020-01-01T00:00:00",
          "2020-01-01T00:00:00",
          "2020-01-01T00:00:00",
          "2020-01-01T00:00:00",
          "2020-01-01T00:00:00",
          "2020-01-01T00:00:00",
          "2020-01-01T00:00:00",
          "2020-01-01T00:00:00",
          "2020-01-01T00:00:00",
          "2020-01-01T00:00:00",
          "2020-01-01T00:00:00",
          "2020-01-01T00:00:00",
          "2020-01-01T00:00:00",
          "2020-01-01T00:00:00",
          "2020-01-01T00:00:00",
          "2020-01-01T00:00:00",
          "2020-01-01T00:00:00",
          "2020-01-01T00:00:00",
          "2020-01-01T00:00:00",
          "2020-01-01T00:00:00",
          "2020-01-01T00:00:00",
          "2020-01-01T00:00:00",
          "2020-01-01T00:00:00",
          "2020-01-01T00:00:00",
          "2020-01-01T00:00:00",
          "2020-01-01T00:00:00",
          "2020-01-01T00:00:00",
          "2020-01-01T00:00:00",
          "2020-01-01T00:00:00",
          "2020-01-01T00:00:00",
          "2020-01-01T00:00:00",
          "2020-01-01T00:00:00",
          "2020-01-01T00:00:00",
          "2020-01-01T00:00:00",
          "2020-01-01T00:00:00",
          "2020-01-01T00:00:00",
          "2020-01-01T00:00:00",
          "2020-01-01T00:00:00",
          "2020-01-01T00:00:00",
          "2020-01-01T00:00:00",
          "2020-01-01T00:00:00",
          "2020-01-01T00:00:00",
          "2020-01-01T00:00:00",
          "2020-01-01T00:00:00",
          "2020-01-01T00:00:00",
          "2020-01-01T00:00:00",
          "2020-01-01T00:00:00",
          "2020-01-01T00:00:00",
          "2020-01-01T00:00:00",
          "2020-01-01T00:00:00",
          "2020-01-01T00:00:00",
          "2020-01-01T00:00:00",
          "2020-01-01T00:00:00",
          "2020-01-01T00:00:00",
          "2020-01-01T00:00:00",
          "2020-01-01T00:00:00",
          "2020-01-01T00:00:00",
          "2020-01-01T00:00:00",
          "2020-01-01T00:00:00",
          "2020-01-01T00:00:00",
          "2020-01-01T00:00:00",
          "2020-01-01T00:00:00",
          "2020-01-01T00:00:00",
          "2020-01-01T00:00:00",
          "2020-01-01T00:00:00",
          "2020-01-01T00:00:00",
          "2020-01-01T00:00:00",
          "2020-01-01T00:00:00",
          "2020-01-01T00:00:00",
          "2020-01-01T00:00:00",
          "2020-01-01T00:00:00",
          "2020-01-01T00:00:00",
          "2020-01-01T00:00:00",
          "2020-01-01T00:00:00",
          "2020-01-01T00:00:00",
          "2020-01-01T00:00:00",
          "2020-01-01T00:00:00",
          "2020-01-01T00:00:00",
          "2020-01-01T00:00:00",
          "2020-01-01T00:00:00",
          "2020-01-01T00:00:00",
          "2020-01-01T00:00:00",
          "2020-01-01T00:00:00",
          "2020-01-01T00:00:00",
          "2020-01-01T00:00:00",
          "2020-01-01T00:00:00",
          "2020-01-01T00:00:00",
          "2020-01-01T00:00:00",
          "2020-01-01T00:00:00",
          "2020-01-01T00:00:00",
          "2020-01-01T00:00:00",
          "2020-01-01T00:00:00",
          "2020-01-01T00:00:00",
          "2020-01-01T00:00:00",
          "2020-01-01T00:00:00",
          "2020-01-01T00:00:00",
          "2020-01-01T00:00:00",
          "2020-01-01T00:00:00",
          "2020-01-01T00:00:00",
          "2020-01-01T00:00:00",
          "2020-01-01T00:00:00",
          "2020-01-01T00:00:00",
          "2020-01-01T00:00:00",
          "2020-01-01T00:00:00",
          "2020-01-01T00:00:00",
          "2020-01-01T00:00:00",
          "2020-01-01T00:00:00",
          "2020-01-01T00:00:00",
          "2020-01-01T00:00:00",
          "2020-01-01T00:00:00",
          "2020-01-01T00:00:00",
          "2020-01-01T00:00:00",
          "2020-01-01T00:00:00",
          "2020-01-01T00:00:00",
          "2020-01-01T00:00:00",
          "2020-01-01T00:00:00",
          "2020-01-01T00:00:00",
          "2020-01-01T00:00:00",
          "2020-01-01T00:00:00",
          "2020-01-01T00:00:00",
          "2020-01-01T00:00:00",
          "2020-01-01T00:00:00",
          "2020-01-01T00:00:00",
          "2020-01-01T00:00:00",
          "2020-01-01T00:00:00",
          "2020-01-01T00:00:00",
          "2020-01-01T00:00:00",
          "2020-01-01T00:00:00",
          "2020-01-01T00:00:00",
          "2020-01-01T00:00:00",
          "2020-01-01T00:00:00",
          "2020-01-01T00:00:00",
          "2020-01-01T00:00:00",
          "2020-01-01T00:00:00",
          "2020-01-01T00:00:00",
          "2020-01-01T00:00:00",
          "2020-01-01T00:00:00",
          "2020-01-01T00:00:00",
          "2020-01-01T00:00:00",
          "2020-01-01T00:00:00",
          "2020-01-01T00:00:00",
          "2020-01-01T00:00:00",
          "2020-01-01T00:00:00",
          "2020-01-01T00:00:00",
          "2020-01-01T00:00:00",
          "2020-01-01T00:00:00",
          "2020-01-01T00:00:00",
          "2020-01-01T00:00:00",
          "2020-01-01T00:00:00",
          "2020-01-01T00:00:00",
          "2020-01-01T00:00:00",
          "2020-01-01T00:00:00",
          "2020-01-01T00:00:00",
          "2020-01-01T00:00:00",
          "2020-01-01T00:00:00",
          "2020-01-01T00:00:00",
          "2020-01-01T00:00:00",
          "2020-01-01T00:00:00",
          "2020-01-01T00:00:00",
          "2020-01-01T00:00:00",
          "2020-01-01T00:00:00",
          "2020-01-01T00:00:00",
          "2020-01-01T00:00:00",
          "2020-01-01T00:00:00",
          "2020-01-01T00:00:00",
          "2020-01-01T00:00:00",
          "2020-01-01T00:00:00",
          "2020-01-01T00:00:00",
          "2020-01-01T00:00:00",
          "2020-01-01T00:00:00",
          "2020-01-01T00:00:00",
          "2020-01-01T00:00:00",
          "2020-01-01T00:00:00",
          "2020-01-01T00:00:00",
          "2020-01-01T00:00:00",
          "2020-01-01T00:00:00",
          "2020-01-01T00:00:00",
          "2020-01-01T00:00:00",
          "2020-01-01T00:00:00",
          "2020-01-01T00:00:00",
          "2020-01-01T00:00:00",
          "2020-01-01T00:00:00",
          "2020-01-01T00:00:00",
          "2020-01-01T00:00:00",
          "2020-01-01T00:00:00",
          "2020-01-01T00:00:00",
          "2020-01-01T00:00:00",
          "2020-01-01T00:00:00",
          "2020-01-01T00:00:00",
          "2020-01-01T00:00:00",
          "2020-01-01T00:00:00",
          "2020-01-01T00:00:00",
          "2020-01-01T00:00:00",
          "2020-01-01T00:00:00",
          "2020-01-01T00:00:00",
          "2020-01-01T00:00:00",
          "2020-01-01T00:00:00",
          "2020-01-01T00:00:00",
          "2020-01-01T00:00:00",
          "2020-01-01T00:00:00",
          "2020-01-01T00:00:00",
          "2020-01-01T00:00:00",
          "2020-01-01T00:00:00",
          "2020-01-01T00:00:00",
          "2020-01-01T00:00:00",
          "2020-01-01T00:00:00",
          "2020-01-01T00:00:00",
          "2020-01-01T00:00:00",
          "2020-01-01T00:00:00",
          "2020-01-01T00:00:00",
          "2020-01-01T00:00:00",
          "2020-01-01T00:00:00",
          "2020-01-01T00:00:00",
          "2020-01-01T00:00:00",
          "2020-01-01T00:00:00",
          "2020-01-01T00:00:00",
          "2020-01-01T00:00:00",
          "2020-01-01T00:00:00",
          "2020-01-01T00:00:00",
          "2020-01-01T00:00:00",
          "2020-01-01T00:00:00",
          "2020-01-01T00:00:00",
          "2020-01-01T00:00:00",
          "2020-01-01T00:00:00",
          "2020-01-01T00:00:00",
          "2020-01-01T00:00:00",
          "2020-01-01T00:00:00",
          "2020-01-01T00:00:00",
          "2020-01-01T00:00:00",
          "2020-01-01T00:00:00",
          "2020-01-01T00:00:00",
          "2020-01-01T00:00:00",
          "2020-01-01T00:00:00",
          "2020-01-01T00:00:00",
          "2020-01-01T00:00:00",
          "2020-01-01T00:00:00",
          "2020-01-01T00:00:00",
          "2020-01-01T00:00:00",
          "2020-01-01T00:00:00",
          "2020-01-01T00:00:00",
          "2020-01-01T00:00:00",
          "2020-01-01T00:00:00",
          "2020-01-01T00:00:00",
          "2020-01-01T00:00:00",
          "2020-01-01T00:00:00",
          "2020-01-01T00:00:00",
          "2020-01-01T00:00:00",
          "2020-01-01T00:00:00",
          "2020-01-01T00:00:00",
          "2020-01-01T00:00:00",
          "2020-01-01T00:00:00",
          "2020-01-01T00:00:00",
          "2020-01-01T00:00:00",
          "2020-01-01T00:00:00",
          "2020-01-01T00:00:00",
          "2020-01-01T00:00:00",
          "2020-01-01T00:00:00",
          "2020-01-01T00:00:00",
          "2020-01-01T00:00:00",
          "2020-01-01T00:00:00",
          "2020-01-01T00:00:00",
          "2020-01-01T00:00:00",
          "2020-01-01T00:00:00",
          "2020-01-01T00:00:00",
          "2020-01-01T00:00:00",
          "2020-01-01T00:00:00",
          "2020-01-01T00:00:00",
          "2020-01-01T00:00:00",
          "2020-01-01T00:00:00",
          "2020-01-01T00:00:00",
          "2020-01-01T00:00:00",
          "2020-01-01T00:00:00",
          "2020-01-01T00:00:00",
          "2020-01-01T00:00:00",
          "2020-01-01T00:00:00",
          "2020-01-01T00:00:00",
          "2020-01-01T00:00:00",
          "2020-01-01T00:00:00",
          "2020-01-01T00:00:00",
          "2020-01-01T00:00:00",
          "2020-01-01T00:00:00",
          "2020-01-01T00:00:00",
          "2020-01-01T00:00:00",
          "2020-01-01T00:00:00",
          "2020-01-01T00:00:00",
          "2020-01-01T00:00:00",
          "2020-01-01T00:00:00",
          "2020-01-01T00:00:00",
          "2020-01-01T00:00:00",
          "2020-01-01T00:00:00",
          "2020-01-01T00:00:00",
          "2020-01-01T00:00:00",
          "2020-01-01T00:00:00",
          "2020-01-01T00:00:00",
          "2020-01-01T00:00:00",
          "2020-01-01T00:00:00",
          "2020-01-01T00:00:00",
          "2020-01-01T00:00:00",
          "2020-01-01T00:00:00",
          "2020-01-01T00:00:00",
          "2020-01-01T00:00:00",
          "2020-01-01T00:00:00",
          "2020-01-01T00:00:00",
          "2020-01-01T00:00:00",
          "2020-01-01T00:00:00",
          "2020-01-01T00:00:00",
          "2020-01-01T00:00:00",
          "2020-01-01T00:00:00",
          "2020-01-01T00:00:00",
          "2020-01-01T00:00:00",
          "2020-01-01T00:00:00",
          "2020-01-01T00:00:00",
          "2020-01-01T00:00:00",
          "2020-01-01T00:00:00",
          "2020-01-01T00:00:00",
          "2020-01-01T00:00:00",
          "2020-01-01T00:00:00",
          "2020-01-01T00:00:00",
          "2020-01-01T00:00:00",
          "2020-01-01T00:00:00",
          "2020-01-01T00:00:00",
          "2020-01-01T00:00:00",
          "2020-01-01T00:00:00",
          "2020-01-01T00:00:00",
          "2020-01-01T00:00:00",
          "2020-01-01T00:00:00",
          "2020-01-01T00:00:00",
          "2020-01-01T00:00:00",
          "2020-01-01T00:00:00",
          "2020-01-01T00:00:00",
          "2020-01-01T00:00:00",
          "2020-01-01T00:00:00",
          "2020-01-01T00:00:00",
          "2020-01-01T00:00:00",
          "2020-01-01T00:00:00",
          "2020-01-01T00:00:00",
          "2020-01-01T00:00:00",
          "2020-01-01T00:00:00",
          "2020-01-01T00:00:00",
          "2020-01-01T00:00:00",
          "2020-01-01T00:00:00",
          "2020-01-01T00:00:00",
          "2020-01-01T00:00:00",
          "2020-01-01T00:00:00",
          "2020-01-01T00:00:00",
          "2020-01-01T00:00:00",
          "2020-01-01T00:00:00",
          "2020-01-01T00:00:00",
          "2020-01-01T00:00:00",
          "2020-01-01T00:00:00",
          "2020-01-01T00:00:00",
          "2020-01-01T00:00:00",
          "2020-01-01T00:00:00",
          "2020-01-01T00:00:00",
          "2020-01-01T00:00:00",
          "2020-01-01T00:00:00",
          "2020-01-01T00:00:00",
          "2020-01-01T00:00:00",
          "2020-01-01T00:00:00",
          "2020-01-01T00:00:00",
          "2020-01-01T00:00:00",
          "2020-01-01T00:00:00",
          "2020-01-01T00:00:00",
          "2020-01-01T00:00:00",
          "2020-01-01T00:00:00",
          "2020-01-01T00:00:00",
          "2020-01-01T00:00:00",
          "2020-01-01T00:00:00",
          "2020-01-01T00:00:00",
          "2020-01-01T00:00:00",
          "2020-01-01T00:00:00",
          "2020-01-01T00:00:00",
          "2020-01-01T00:00:00",
          "2020-01-01T00:00:00",
          "2020-01-01T00:00:00",
          "2020-01-01T00:00:00",
          "2020-01-01T00:00:00",
          "2020-01-01T00:00:00",
          "2020-01-01T00:00:00",
          "2020-01-01T00:00:00",
          "2020-01-01T00:00:00",
          "2020-01-01T00:00:00",
          "2020-01-01T00:00:00",
          "2020-01-01T00:00:00",
          "2020-01-01T00:00:00",
          "2020-01-01T00:00:00",
          "2020-01-01T00:00:00",
          "2020-01-01T00:00:00",
          "2020-01-01T00:00:00",
          "2020-01-01T00:00:00",
          "2020-01-01T00:00:00",
          "2020-01-01T00:00:00",
          "2020-01-01T00:00:00",
          "2020-01-01T00:00:00",
          "2020-01-01T00:00:00",
          "2020-01-01T00:00:00",
          "2020-01-01T00:00:00",
          "2020-01-01T00:00:00",
          "2020-01-01T00:00:00",
          "2020-01-01T00:00:00",
          "2020-01-01T00:00:00",
          "2020-01-01T00:00:00",
          "2020-01-01T00:00:00",
          "2020-01-01T00:00:00",
          "2020-01-01T00:00:00",
          "2020-01-01T00:00:00",
          "2020-01-01T00:00:00",
          "2020-01-01T00:00:00",
          "2020-01-01T00:00:00",
          "2020-01-01T00:00:00",
          "2020-01-01T00:00:00",
          "2020-01-01T00:00:00",
          "2020-01-01T00:00:00",
          "2020-01-01T00:00:00",
          "2020-01-01T00:00:00",
          "2020-01-01T00:00:00",
          "2020-01-01T00:00:00",
          "2020-01-01T00:00:00",
          "2020-01-01T00:00:00",
          "2020-01-01T00:00:00",
          "2020-01-01T00:00:00",
          "2020-01-01T00:00:00",
          "2020-01-01T00:00:00",
          "2020-01-01T00:00:00",
          "2020-01-01T00:00:00",
          "2020-01-01T00:00:00",
          "2020-01-01T00:00:00",
          "2020-01-01T00:00:00",
          "2020-01-01T00:00:00",
          "2020-01-01T00:00:00",
          "2020-01-01T00:00:00",
          "2020-01-01T00:00:00",
          "2020-01-01T00:00:00",
          "2020-01-01T00:00:00",
          "2020-01-01T00:00:00",
          "2020-01-01T00:00:00",
          "2020-01-01T00:00:00",
          "2020-01-01T00:00:00",
          "2020-01-01T00:00:00",
          "2020-01-01T00:00:00",
          "2020-01-01T00:00:00",
          "2020-01-01T00:00:00",
          "2020-01-01T00:00:00",
          "2020-01-01T00:00:00",
          "2020-01-01T00:00:00",
          "2021-01-01T00:00:00",
          "2021-01-01T00:00:00",
          "2021-01-01T00:00:00",
          "2021-01-01T00:00:00",
          "2021-01-01T00:00:00",
          "2021-01-01T00:00:00",
          "2021-01-01T00:00:00",
          "2021-01-01T00:00:00",
          "2021-01-01T00:00:00",
          "2021-01-01T00:00:00",
          "2021-01-01T00:00:00",
          "2021-01-01T00:00:00",
          "2021-01-01T00:00:00",
          "2021-01-01T00:00:00",
          "2021-01-01T00:00:00",
          "2021-01-01T00:00:00",
          "2021-01-01T00:00:00",
          "2021-01-01T00:00:00",
          "2021-01-01T00:00:00",
          "2021-01-01T00:00:00",
          "2021-01-01T00:00:00",
          "2021-01-01T00:00:00",
          "2021-01-01T00:00:00",
          "2021-01-01T00:00:00",
          "2021-01-01T00:00:00",
          "2021-01-01T00:00:00",
          "2021-01-01T00:00:00",
          "2021-01-01T00:00:00",
          "2021-01-01T00:00:00",
          "2021-01-01T00:00:00",
          "2021-01-01T00:00:00",
          "2021-01-01T00:00:00",
          "2021-01-01T00:00:00",
          "2021-01-01T00:00:00",
          "2021-01-01T00:00:00",
          "2021-01-01T00:00:00",
          "2021-01-01T00:00:00",
          "2021-01-01T00:00:00",
          "2021-01-01T00:00:00",
          "2021-01-01T00:00:00",
          "2021-01-01T00:00:00",
          "2021-01-01T00:00:00",
          "2021-01-01T00:00:00",
          "2021-01-01T00:00:00",
          "2021-01-01T00:00:00",
          "2021-01-01T00:00:00",
          "2021-01-01T00:00:00",
          "2021-01-01T00:00:00",
          "2021-01-01T00:00:00",
          "2021-01-01T00:00:00",
          "2021-01-01T00:00:00",
          "2021-01-01T00:00:00",
          "2021-01-01T00:00:00",
          "2021-01-01T00:00:00",
          "2021-01-01T00:00:00",
          "2021-01-01T00:00:00",
          "2021-01-01T00:00:00",
          "2021-01-01T00:00:00",
          "2021-01-01T00:00:00",
          "2021-01-01T00:00:00",
          "2021-01-01T00:00:00",
          "2021-01-01T00:00:00",
          "2021-01-01T00:00:00",
          "2021-01-01T00:00:00",
          "2021-01-01T00:00:00",
          "2021-01-01T00:00:00",
          "2021-01-01T00:00:00",
          "2021-01-01T00:00:00",
          "2021-01-01T00:00:00",
          "2021-01-01T00:00:00",
          "2021-01-01T00:00:00",
          "2021-01-01T00:00:00",
          "2021-01-01T00:00:00",
          "2021-01-01T00:00:00",
          "2021-01-01T00:00:00",
          "2021-01-01T00:00:00",
          "2021-01-01T00:00:00",
          "2021-01-01T00:00:00",
          "2021-01-01T00:00:00",
          "2021-01-01T00:00:00",
          "2021-01-01T00:00:00",
          "2021-01-01T00:00:00",
          "2021-01-01T00:00:00",
          "2021-01-01T00:00:00",
          "2021-01-01T00:00:00",
          "2021-01-01T00:00:00",
          "2021-01-01T00:00:00",
          "2021-01-01T00:00:00",
          "2021-01-01T00:00:00",
          "2021-01-01T00:00:00",
          "2021-01-01T00:00:00",
          "2021-01-01T00:00:00",
          "2021-01-01T00:00:00",
          "2021-01-01T00:00:00",
          "2021-01-01T00:00:00",
          "2021-01-01T00:00:00",
          "2021-01-01T00:00:00",
          "2021-01-01T00:00:00",
          "2021-01-01T00:00:00",
          "2021-01-01T00:00:00",
          "2021-01-01T00:00:00",
          "2021-01-01T00:00:00",
          "2021-01-01T00:00:00",
          "2021-01-01T00:00:00",
          "2021-01-01T00:00:00",
          "2021-01-01T00:00:00",
          "2021-01-01T00:00:00",
          "2021-01-01T00:00:00",
          "2021-01-01T00:00:00",
          "2021-01-01T00:00:00",
          "2021-01-01T00:00:00",
          "2021-01-01T00:00:00",
          "2021-01-01T00:00:00",
          "2021-01-01T00:00:00",
          "2021-01-01T00:00:00",
          "2021-01-01T00:00:00",
          "2021-01-01T00:00:00",
          "2021-01-01T00:00:00",
          "2021-01-01T00:00:00",
          "2021-01-01T00:00:00",
          "2021-01-01T00:00:00",
          "2021-01-01T00:00:00",
          "2021-01-01T00:00:00",
          "2021-01-01T00:00:00",
          "2021-01-01T00:00:00",
          "2021-01-01T00:00:00",
          "2021-01-01T00:00:00",
          "2021-01-01T00:00:00",
          "2021-01-01T00:00:00",
          "2021-01-01T00:00:00",
          "2021-01-01T00:00:00",
          "2021-01-01T00:00:00",
          "2021-01-01T00:00:00",
          "2021-01-01T00:00:00",
          "2021-01-01T00:00:00",
          "2021-01-01T00:00:00",
          "2021-01-01T00:00:00",
          "2021-01-01T00:00:00",
          "2021-01-01T00:00:00",
          "2021-01-01T00:00:00",
          "2021-01-01T00:00:00",
          "2021-01-01T00:00:00",
          "2021-01-01T00:00:00",
          "2021-01-01T00:00:00",
          "2021-01-01T00:00:00",
          "2021-01-01T00:00:00",
          "2021-01-01T00:00:00",
          "2021-01-01T00:00:00",
          "2021-01-01T00:00:00",
          "2021-01-01T00:00:00",
          "2021-01-01T00:00:00",
          "2021-01-01T00:00:00",
          "2021-01-01T00:00:00",
          "2021-01-01T00:00:00",
          "2021-01-01T00:00:00",
          "2021-01-01T00:00:00",
          "2021-01-01T00:00:00",
          "2021-01-01T00:00:00",
          "2021-01-01T00:00:00",
          "2021-01-01T00:00:00",
          "2021-01-01T00:00:00",
          "2021-01-01T00:00:00",
          "2021-01-01T00:00:00",
          "2021-01-01T00:00:00",
          "2021-01-01T00:00:00",
          "2021-01-01T00:00:00",
          "2021-01-01T00:00:00",
          "2021-01-01T00:00:00",
          "2021-01-01T00:00:00",
          "2021-01-01T00:00:00",
          "2021-01-01T00:00:00",
          "2021-01-01T00:00:00",
          "2021-01-01T00:00:00",
          "2021-01-01T00:00:00",
          "2021-01-01T00:00:00",
          "2021-01-01T00:00:00",
          "2021-01-01T00:00:00",
          "2021-01-01T00:00:00",
          "2021-01-01T00:00:00",
          "2021-01-01T00:00:00",
          "2021-01-01T00:00:00",
          "2021-01-01T00:00:00",
          "2021-01-01T00:00:00",
          "2021-01-01T00:00:00",
          "2021-01-01T00:00:00",
          "2021-01-01T00:00:00",
          "2021-01-01T00:00:00",
          "2021-01-01T00:00:00",
          "2021-01-01T00:00:00",
          "2021-01-01T00:00:00",
          "2021-01-01T00:00:00",
          "2021-01-01T00:00:00",
          "2021-01-01T00:00:00",
          "2021-01-01T00:00:00",
          "2021-01-01T00:00:00",
          "2021-01-01T00:00:00",
          "2021-01-01T00:00:00",
          "2021-01-01T00:00:00",
          "2021-01-01T00:00:00",
          "2021-01-01T00:00:00",
          "2021-01-01T00:00:00",
          "2021-01-01T00:00:00",
          "2021-01-01T00:00:00",
          "2021-01-01T00:00:00",
          "2021-01-01T00:00:00",
          "2021-01-01T00:00:00",
          "2021-01-01T00:00:00",
          "2021-01-01T00:00:00",
          "2021-01-01T00:00:00",
          "2021-01-01T00:00:00",
          "2021-01-01T00:00:00",
          "2021-01-01T00:00:00",
          "2021-01-01T00:00:00",
          "2021-01-01T00:00:00",
          "2021-01-01T00:00:00",
          "2021-01-01T00:00:00",
          "2021-01-01T00:00:00",
          "2021-01-01T00:00:00",
          "2021-01-01T00:00:00",
          "2021-01-01T00:00:00",
          "2021-01-01T00:00:00",
          "2021-01-01T00:00:00",
          "2021-01-01T00:00:00",
          "2021-01-01T00:00:00",
          "2021-01-01T00:00:00",
          "2021-01-01T00:00:00",
          "2021-01-01T00:00:00",
          "2021-01-01T00:00:00",
          "2021-01-01T00:00:00",
          "2021-01-01T00:00:00",
          "2021-01-01T00:00:00",
          "2021-01-01T00:00:00",
          "2021-01-01T00:00:00",
          "2021-01-01T00:00:00",
          "2021-01-01T00:00:00",
          "2021-01-01T00:00:00",
          "2021-01-01T00:00:00",
          "2021-01-01T00:00:00",
          "2021-01-01T00:00:00",
          "2021-01-01T00:00:00",
          "2021-01-01T00:00:00",
          "2021-01-01T00:00:00",
          "2021-01-01T00:00:00",
          "2021-01-01T00:00:00",
          "2021-01-01T00:00:00",
          "2021-01-01T00:00:00",
          "2021-01-01T00:00:00",
          "2021-01-01T00:00:00",
          "2021-01-01T00:00:00",
          "2021-01-01T00:00:00",
          "2021-01-01T00:00:00",
          "2021-01-01T00:00:00",
          "2021-01-01T00:00:00",
          "2021-01-01T00:00:00",
          "2021-01-01T00:00:00",
          "2021-01-01T00:00:00",
          "2021-01-01T00:00:00",
          "2021-01-01T00:00:00",
          "2021-01-01T00:00:00",
          "2021-01-01T00:00:00",
          "2021-01-01T00:00:00",
          "2021-01-01T00:00:00",
          "2021-01-01T00:00:00",
          "2021-01-01T00:00:00",
          "2021-01-01T00:00:00",
          "2021-01-01T00:00:00",
          "2021-01-01T00:00:00",
          "2021-01-01T00:00:00",
          "2021-01-01T00:00:00",
          "2021-01-01T00:00:00",
          "2021-01-01T00:00:00",
          "2021-01-01T00:00:00",
          "2021-01-01T00:00:00",
          "2021-01-01T00:00:00",
          "2021-01-01T00:00:00",
          "2021-01-01T00:00:00",
          "2021-01-01T00:00:00",
          "2021-01-01T00:00:00",
          "2021-01-01T00:00:00",
          "2021-01-01T00:00:00",
          "2021-01-01T00:00:00",
          "2021-01-01T00:00:00",
          "2021-01-01T00:00:00",
          "2021-01-01T00:00:00",
          "2021-01-01T00:00:00",
          "2021-01-01T00:00:00",
          "2021-01-01T00:00:00",
          "2021-01-01T00:00:00",
          "2021-01-01T00:00:00",
          "2021-01-01T00:00:00",
          "2021-01-01T00:00:00",
          "2021-01-01T00:00:00",
          "2021-01-01T00:00:00",
          "2021-01-01T00:00:00",
          "2021-01-01T00:00:00",
          "2021-01-01T00:00:00",
          "2021-01-01T00:00:00",
          "2021-01-01T00:00:00",
          "2021-01-01T00:00:00",
          "2021-01-01T00:00:00",
          "2021-01-01T00:00:00",
          "2021-01-01T00:00:00",
          "2021-01-01T00:00:00",
          "2021-01-01T00:00:00",
          "2021-01-01T00:00:00",
          "2021-01-01T00:00:00",
          "2021-01-01T00:00:00",
          "2021-01-01T00:00:00",
          "2021-01-01T00:00:00",
          "2021-01-01T00:00:00",
          "2021-01-01T00:00:00",
          "2021-01-01T00:00:00",
          "2021-01-01T00:00:00",
          "2021-01-01T00:00:00",
          "2021-01-01T00:00:00",
          "2021-01-01T00:00:00",
          "2021-01-01T00:00:00",
          "2021-01-01T00:00:00",
          "2021-01-01T00:00:00",
          "2021-01-01T00:00:00",
          "2021-01-01T00:00:00",
          "2021-01-01T00:00:00",
          "2021-01-01T00:00:00",
          "2021-01-01T00:00:00",
          "2021-01-01T00:00:00",
          "2021-01-01T00:00:00",
          "2021-01-01T00:00:00",
          "2021-01-01T00:00:00",
          "2021-01-01T00:00:00",
          "2021-01-01T00:00:00",
          "2021-01-01T00:00:00",
          "2021-01-01T00:00:00",
          "2021-01-01T00:00:00",
          "2021-01-01T00:00:00",
          "2021-01-01T00:00:00",
          "2021-01-01T00:00:00",
          "2021-01-01T00:00:00",
          "2021-01-01T00:00:00",
          "2021-01-01T00:00:00",
          "2021-01-01T00:00:00",
          "2021-01-01T00:00:00",
          "2021-01-01T00:00:00",
          "2021-01-01T00:00:00",
          "2021-01-01T00:00:00",
          "2021-01-01T00:00:00",
          "2021-01-01T00:00:00",
          "2021-01-01T00:00:00",
          "2021-01-01T00:00:00",
          "2021-01-01T00:00:00",
          "2021-01-01T00:00:00",
          "2021-01-01T00:00:00",
          "2021-01-01T00:00:00",
          "2021-01-01T00:00:00",
          "2021-01-01T00:00:00",
          "2021-01-01T00:00:00",
          "2021-01-01T00:00:00",
          "2021-01-01T00:00:00",
          "2021-01-01T00:00:00",
          "2021-01-01T00:00:00",
          "2021-01-01T00:00:00",
          "2021-01-01T00:00:00",
          "2021-01-01T00:00:00",
          "2021-01-01T00:00:00",
          "2021-01-01T00:00:00",
          "2021-01-01T00:00:00",
          "2021-01-01T00:00:00",
          "2021-01-01T00:00:00",
          "2021-01-01T00:00:00",
          "2021-01-01T00:00:00",
          "2021-01-01T00:00:00",
          "2021-01-01T00:00:00",
          "2021-01-01T00:00:00",
          "2021-01-01T00:00:00",
          "2021-01-01T00:00:00",
          "2021-01-01T00:00:00",
          "2021-01-01T00:00:00",
          "2021-01-01T00:00:00",
          "2021-01-01T00:00:00",
          "2021-01-01T00:00:00",
          "2021-01-01T00:00:00",
          "2021-01-01T00:00:00",
          "2021-01-01T00:00:00",
          "2021-01-01T00:00:00",
          "2021-01-01T00:00:00",
          "2021-01-01T00:00:00",
          "2021-01-01T00:00:00",
          "2021-01-01T00:00:00",
          "2021-01-01T00:00:00",
          "2021-01-01T00:00:00",
          "2021-01-01T00:00:00",
          "2021-01-01T00:00:00",
          "2021-01-01T00:00:00",
          "2021-01-01T00:00:00",
          "2021-01-01T00:00:00",
          "2021-01-01T00:00:00",
          "2021-01-01T00:00:00",
          "2021-01-01T00:00:00",
          "2021-01-01T00:00:00",
          "2021-01-01T00:00:00",
          "2021-01-01T00:00:00",
          "2021-01-01T00:00:00",
          "2021-01-01T00:00:00",
          "2021-01-01T00:00:00",
          "2021-01-01T00:00:00",
          "2021-01-01T00:00:00",
          "2021-01-01T00:00:00",
          "2021-01-01T00:00:00",
          "2021-01-01T00:00:00",
          "2021-01-01T00:00:00",
          "2021-01-01T00:00:00",
          "2021-01-01T00:00:00",
          "2021-01-01T00:00:00",
          "2021-01-01T00:00:00",
          "2021-01-01T00:00:00",
          "2021-01-01T00:00:00",
          "2021-01-01T00:00:00",
          "2021-01-01T00:00:00",
          "2021-01-01T00:00:00",
          "2021-01-01T00:00:00",
          "2021-01-01T00:00:00",
          "2021-01-01T00:00:00",
          "2021-01-01T00:00:00",
          "2021-01-01T00:00:00",
          "2021-01-01T00:00:00",
          "2021-01-01T00:00:00",
          "2021-01-01T00:00:00",
          "2021-01-01T00:00:00",
          "2021-01-01T00:00:00",
          "2021-01-01T00:00:00",
          "2021-01-01T00:00:00",
          "2021-01-01T00:00:00",
          "2021-01-01T00:00:00",
          "2021-01-01T00:00:00",
          "2021-01-01T00:00:00",
          "2021-01-01T00:00:00",
          "2021-01-01T00:00:00",
          "2021-01-01T00:00:00",
          "2021-01-01T00:00:00",
          "2021-01-01T00:00:00",
          "2021-01-01T00:00:00",
          "2021-01-01T00:00:00",
          "2021-01-01T00:00:00",
          "2021-01-01T00:00:00",
          "2021-01-01T00:00:00",
          "2021-01-01T00:00:00",
          "2021-01-01T00:00:00",
          "2021-01-01T00:00:00",
          "2021-01-01T00:00:00",
          "2021-01-01T00:00:00",
          "2021-01-01T00:00:00",
          "2021-01-01T00:00:00",
          "2021-01-01T00:00:00",
          "2021-01-01T00:00:00",
          "2021-01-01T00:00:00",
          "2021-01-01T00:00:00",
          "2021-01-01T00:00:00",
          "2021-01-01T00:00:00",
          "2021-01-01T00:00:00",
          "2021-01-01T00:00:00",
          "2021-01-01T00:00:00",
          "2021-01-01T00:00:00",
          "2021-01-01T00:00:00",
          "2021-01-01T00:00:00",
          "2021-01-01T00:00:00",
          "2021-01-01T00:00:00",
          "2021-01-01T00:00:00",
          "2021-01-01T00:00:00",
          "2021-01-01T00:00:00",
          "2021-01-01T00:00:00",
          "2021-01-01T00:00:00",
          "2021-01-01T00:00:00",
          "2021-01-01T00:00:00",
          "2021-01-01T00:00:00",
          "2021-01-01T00:00:00",
          "2021-01-01T00:00:00",
          "2021-01-01T00:00:00",
          "2021-01-01T00:00:00",
          "2021-01-01T00:00:00",
          "2021-01-01T00:00:00",
          "2021-01-01T00:00:00",
          "2021-01-01T00:00:00",
          "2021-01-01T00:00:00",
          "2021-01-01T00:00:00",
          "2021-01-01T00:00:00",
          "2021-01-01T00:00:00",
          "2021-01-01T00:00:00",
          "2021-01-01T00:00:00",
          "2021-01-01T00:00:00",
          "2021-01-01T00:00:00",
          "2021-01-01T00:00:00",
          "2021-01-01T00:00:00",
          "2021-01-01T00:00:00",
          "2021-01-01T00:00:00",
          "2021-01-01T00:00:00",
          "2021-01-01T00:00:00",
          "2021-01-01T00:00:00",
          "2021-01-01T00:00:00",
          "2021-01-01T00:00:00",
          "2021-01-01T00:00:00",
          "2021-01-01T00:00:00",
          "2021-01-01T00:00:00",
          "2021-01-01T00:00:00",
          "2021-01-01T00:00:00",
          "2021-01-01T00:00:00",
          "2021-01-01T00:00:00",
          "2021-01-01T00:00:00",
          "2021-01-01T00:00:00",
          "2021-01-01T00:00:00",
          "2021-01-01T00:00:00",
          "2021-01-01T00:00:00",
          "2021-01-01T00:00:00",
          "2021-01-01T00:00:00",
          "2021-01-01T00:00:00",
          "2021-01-01T00:00:00",
          "2021-01-01T00:00:00",
          "2021-01-01T00:00:00",
          "2021-01-01T00:00:00",
          "2021-01-01T00:00:00",
          "2021-01-01T00:00:00",
          "2021-01-01T00:00:00",
          "2021-01-01T00:00:00",
          "2021-01-01T00:00:00",
          "2021-01-01T00:00:00",
          "2021-01-01T00:00:00",
          "2021-01-01T00:00:00",
          "2021-01-01T00:00:00",
          "2021-01-01T00:00:00",
          "2021-01-01T00:00:00",
          "2021-01-01T00:00:00",
          "2021-01-01T00:00:00",
          "2021-01-01T00:00:00",
          "2021-01-01T00:00:00",
          "2021-01-01T00:00:00",
          "2021-01-01T00:00:00",
          "2021-01-01T00:00:00",
          "2021-01-01T00:00:00",
          "2021-01-01T00:00:00",
          "2021-01-01T00:00:00",
          "2021-01-01T00:00:00",
          "2021-01-01T00:00:00",
          "2021-01-01T00:00:00",
          "2021-01-01T00:00:00",
          "2021-01-01T00:00:00",
          "2021-01-01T00:00:00",
          "2021-01-01T00:00:00",
          "2021-01-01T00:00:00",
          "2021-01-01T00:00:00",
          "2021-01-01T00:00:00",
          "2021-01-01T00:00:00",
          "2021-01-01T00:00:00",
          "2021-01-01T00:00:00",
          "2021-01-01T00:00:00",
          "2021-01-01T00:00:00",
          "2021-01-01T00:00:00",
          "2021-01-01T00:00:00",
          "2021-01-01T00:00:00",
          "2021-01-01T00:00:00",
          "2021-01-01T00:00:00",
          "2021-01-01T00:00:00",
          "2021-01-01T00:00:00",
          "2021-01-01T00:00:00",
          "2021-01-01T00:00:00",
          "2021-01-01T00:00:00",
          "2021-01-01T00:00:00",
          "2021-01-01T00:00:00",
          "2021-01-01T00:00:00",
          "2021-01-01T00:00:00",
          "2021-01-01T00:00:00",
          "2021-01-01T00:00:00",
          "2021-01-01T00:00:00",
          "2021-01-01T00:00:00",
          "2021-01-01T00:00:00",
          "2021-01-01T00:00:00",
          "2021-01-01T00:00:00",
          "2021-01-01T00:00:00",
          "2021-01-01T00:00:00",
          "2021-01-01T00:00:00",
          "2021-01-01T00:00:00",
          "2021-01-01T00:00:00",
          "2021-01-01T00:00:00",
          "2021-01-01T00:00:00",
          "2021-01-01T00:00:00",
          "2021-01-01T00:00:00",
          "2021-01-01T00:00:00",
          "2021-01-01T00:00:00",
          "2021-01-01T00:00:00",
          "2021-01-01T00:00:00",
          "2021-01-01T00:00:00",
          "2021-01-01T00:00:00",
          "2021-01-01T00:00:00",
          "2021-01-01T00:00:00",
          "2021-01-01T00:00:00",
          "2021-01-01T00:00:00",
          "2021-01-01T00:00:00",
          "2021-01-01T00:00:00",
          "2021-01-01T00:00:00",
          "2021-01-01T00:00:00",
          "2021-01-01T00:00:00",
          "2021-01-01T00:00:00",
          "2021-01-01T00:00:00",
          "2021-01-01T00:00:00",
          "2021-01-01T00:00:00",
          "2021-01-01T00:00:00",
          "2021-01-01T00:00:00",
          "2021-01-01T00:00:00",
          "2021-01-01T00:00:00",
          "2021-01-01T00:00:00",
          "2021-01-01T00:00:00",
          "2021-01-01T00:00:00",
          "2021-01-01T00:00:00",
          "2021-01-01T00:00:00",
          "2021-01-01T00:00:00",
          "2021-01-01T00:00:00",
          "2021-01-01T00:00:00",
          "2021-01-01T00:00:00",
          "2021-01-01T00:00:00",
          "2021-01-01T00:00:00",
          "2021-01-01T00:00:00",
          "2021-01-01T00:00:00",
          "2021-01-01T00:00:00",
          "2021-01-01T00:00:00",
          "2021-01-01T00:00:00",
          "2021-01-01T00:00:00",
          "2021-01-01T00:00:00",
          "2021-01-01T00:00:00",
          "2021-01-01T00:00:00",
          "2021-01-01T00:00:00",
          "2021-01-01T00:00:00",
          "2021-01-01T00:00:00",
          "2021-01-01T00:00:00",
          "2021-01-01T00:00:00",
          "2021-01-01T00:00:00",
          "2021-01-01T00:00:00",
          "2021-01-01T00:00:00",
          "2021-01-01T00:00:00",
          "2021-01-01T00:00:00",
          "2021-01-01T00:00:00",
          "2021-01-01T00:00:00",
          "2021-01-01T00:00:00",
          "2021-01-01T00:00:00",
          "2021-01-01T00:00:00",
          "2021-01-01T00:00:00",
          "2021-01-01T00:00:00",
          "2021-01-01T00:00:00",
          "2021-01-01T00:00:00",
          "2021-01-01T00:00:00",
          "2021-01-01T00:00:00",
          "2021-01-01T00:00:00",
          "2021-01-01T00:00:00",
          "2021-01-01T00:00:00",
          "2021-01-01T00:00:00",
          "2021-01-01T00:00:00",
          "2021-01-01T00:00:00",
          "2021-01-01T00:00:00",
          "2021-01-01T00:00:00",
          "2021-01-01T00:00:00",
          "2021-01-01T00:00:00",
          "2021-01-01T00:00:00",
          "2021-01-01T00:00:00",
          "2021-01-01T00:00:00",
          "2021-01-01T00:00:00",
          "2021-01-01T00:00:00",
          "2021-01-01T00:00:00",
          "2021-01-01T00:00:00",
          "2021-01-01T00:00:00",
          "2021-01-01T00:00:00",
          "2021-01-01T00:00:00",
          "2021-01-01T00:00:00",
          "2021-01-01T00:00:00",
          "2021-01-01T00:00:00",
          "2021-01-01T00:00:00",
          "2021-01-01T00:00:00",
          "2021-01-01T00:00:00",
          "2021-01-01T00:00:00",
          "2021-01-01T00:00:00",
          "2021-01-01T00:00:00",
          "2021-01-01T00:00:00",
          "2021-01-01T00:00:00",
          "2021-01-01T00:00:00",
          "2021-01-01T00:00:00",
          "2021-01-01T00:00:00",
          "2021-01-01T00:00:00",
          "2021-01-01T00:00:00",
          "2021-01-01T00:00:00",
          "2021-01-01T00:00:00",
          "2021-01-01T00:00:00",
          "2021-01-01T00:00:00",
          "2021-01-01T00:00:00",
          "2021-01-01T00:00:00",
          "2021-01-01T00:00:00",
          "2021-01-01T00:00:00",
          "2021-01-01T00:00:00",
          "2021-01-01T00:00:00",
          "2021-01-01T00:00:00",
          "2021-01-01T00:00:00",
          "2021-01-01T00:00:00",
          "2021-01-01T00:00:00",
          "2021-01-01T00:00:00",
          "2021-01-01T00:00:00",
          "2021-01-01T00:00:00",
          "2021-01-01T00:00:00",
          "2021-01-01T00:00:00",
          "2021-01-01T00:00:00",
          "2021-01-01T00:00:00",
          "2021-01-01T00:00:00",
          "2021-01-01T00:00:00",
          "2021-01-01T00:00:00",
          "2021-01-01T00:00:00",
          "2021-01-01T00:00:00",
          "2021-01-01T00:00:00",
          "2021-01-01T00:00:00",
          "2021-01-01T00:00:00",
          "2021-01-01T00:00:00",
          "2021-01-01T00:00:00",
          "2021-01-01T00:00:00",
          "2021-01-01T00:00:00",
          "2021-01-01T00:00:00",
          "2021-01-01T00:00:00",
          "2021-01-01T00:00:00",
          "2021-01-01T00:00:00",
          "2021-01-01T00:00:00",
          "2021-01-01T00:00:00",
          "2021-01-01T00:00:00",
          "2021-01-01T00:00:00",
          "2021-01-01T00:00:00",
          "2021-01-01T00:00:00",
          "2021-01-01T00:00:00",
          "2021-01-01T00:00:00",
          "2021-01-01T00:00:00",
          "2021-01-01T00:00:00",
          "2021-01-01T00:00:00",
          "2021-01-01T00:00:00",
          "2021-01-01T00:00:00",
          "2021-01-01T00:00:00",
          "2021-01-01T00:00:00",
          "2021-01-01T00:00:00",
          "2021-01-01T00:00:00",
          "2021-01-01T00:00:00",
          "2021-01-01T00:00:00",
          "2021-01-01T00:00:00",
          "2021-01-01T00:00:00",
          "2021-01-01T00:00:00",
          "2021-01-01T00:00:00",
          "2021-01-01T00:00:00",
          "2021-01-01T00:00:00",
          "2021-01-01T00:00:00",
          "2021-01-01T00:00:00",
          "2021-01-01T00:00:00",
          "2021-01-01T00:00:00",
          "2021-01-01T00:00:00",
          "2021-01-01T00:00:00",
          "2021-01-01T00:00:00",
          "2021-01-01T00:00:00",
          "2021-01-01T00:00:00",
          "2021-01-01T00:00:00",
          "2021-01-01T00:00:00",
          "2021-01-01T00:00:00",
          "2021-01-01T00:00:00",
          "2021-01-01T00:00:00",
          "2021-01-01T00:00:00",
          "2021-01-01T00:00:00",
          "2021-01-01T00:00:00",
          "2021-01-01T00:00:00",
          "2021-01-01T00:00:00",
          "2021-01-01T00:00:00",
          "2021-01-01T00:00:00",
          "2021-01-01T00:00:00",
          "2021-01-01T00:00:00",
          "2021-01-01T00:00:00",
          "2021-01-01T00:00:00",
          "2021-01-01T00:00:00",
          "2021-01-01T00:00:00",
          "2021-01-01T00:00:00",
          "2021-01-01T00:00:00",
          "2021-01-01T00:00:00",
          "2021-01-01T00:00:00",
          "2021-01-01T00:00:00",
          "2021-01-01T00:00:00",
          "2021-01-01T00:00:00",
          "2021-01-01T00:00:00",
          "2021-01-01T00:00:00",
          "2021-01-01T00:00:00",
          "2021-01-01T00:00:00",
          "2021-01-01T00:00:00",
          "2021-01-01T00:00:00",
          "2021-01-01T00:00:00",
          "2021-01-01T00:00:00",
          "2021-01-01T00:00:00",
          "2021-01-01T00:00:00",
          "2021-01-01T00:00:00",
          "2021-01-01T00:00:00",
          "2021-01-01T00:00:00",
          "2021-01-01T00:00:00",
          "2021-01-01T00:00:00",
          "2021-01-01T00:00:00",
          "2021-01-01T00:00:00",
          "2021-01-01T00:00:00",
          "2021-01-01T00:00:00",
          "2021-01-01T00:00:00",
          "2021-01-01T00:00:00",
          "2021-01-01T00:00:00",
          "2021-01-01T00:00:00",
          "2021-01-01T00:00:00",
          "2021-01-01T00:00:00",
          "2021-01-01T00:00:00",
          "2021-01-01T00:00:00",
          "2021-01-01T00:00:00",
          "2021-01-01T00:00:00",
          "2021-01-01T00:00:00",
          "2021-01-01T00:00:00",
          "2021-01-01T00:00:00",
          "2021-01-01T00:00:00",
          "2021-01-01T00:00:00",
          "2021-01-01T00:00:00",
          "2021-01-01T00:00:00",
          "2021-01-01T00:00:00",
          "2021-01-01T00:00:00",
          "2021-01-01T00:00:00",
          "2021-01-01T00:00:00",
          "2021-01-01T00:00:00",
          "2021-01-01T00:00:00",
          "2021-01-01T00:00:00",
          "2021-01-01T00:00:00",
          "2021-01-01T00:00:00",
          "2021-01-01T00:00:00",
          "2021-01-01T00:00:00",
          "2021-01-01T00:00:00",
          "2021-01-01T00:00:00",
          "2021-01-01T00:00:00",
          "2021-01-01T00:00:00",
          "2021-01-01T00:00:00",
          "2021-01-01T00:00:00",
          "2021-01-01T00:00:00",
          "2021-01-01T00:00:00",
          "2021-01-01T00:00:00",
          "2021-01-01T00:00:00",
          "2021-01-01T00:00:00",
          "2021-01-01T00:00:00",
          "2021-01-01T00:00:00",
          "2021-01-01T00:00:00",
          "2021-01-01T00:00:00",
          "2021-01-01T00:00:00",
          "2021-01-01T00:00:00",
          "2021-01-01T00:00:00",
          "2021-01-01T00:00:00",
          "2021-01-01T00:00:00",
          "2021-01-01T00:00:00",
          "2021-01-01T00:00:00",
          "2021-01-01T00:00:00",
          "2021-01-01T00:00:00",
          "2021-01-01T00:00:00",
          "2021-01-01T00:00:00",
          "2021-01-01T00:00:00",
          "2021-01-01T00:00:00",
          "2021-01-01T00:00:00",
          "2021-01-01T00:00:00",
          "2021-01-01T00:00:00",
          "2021-01-01T00:00:00",
          "2021-01-01T00:00:00",
          "2021-01-01T00:00:00",
          "2021-01-01T00:00:00",
          "2021-01-01T00:00:00",
          "2021-01-01T00:00:00",
          "2021-01-01T00:00:00",
          "2021-01-01T00:00:00",
          "2021-01-01T00:00:00",
          "2021-01-01T00:00:00",
          "2021-01-01T00:00:00",
          "2021-01-01T00:00:00",
          "2021-01-01T00:00:00",
          "2021-01-01T00:00:00",
          "2021-01-01T00:00:00",
          "2021-01-01T00:00:00",
          "2021-01-01T00:00:00",
          "2021-01-01T00:00:00",
          "2021-01-01T00:00:00",
          "2021-01-01T00:00:00",
          "2021-01-01T00:00:00",
          "2021-01-01T00:00:00",
          "2021-01-01T00:00:00",
          "2021-01-01T00:00:00",
          "2021-01-01T00:00:00",
          "2021-01-01T00:00:00",
          "2021-01-01T00:00:00",
          "2021-01-01T00:00:00",
          "2021-01-01T00:00:00",
          "2021-01-01T00:00:00",
          "2021-01-01T00:00:00",
          "2021-01-01T00:00:00",
          "2021-01-01T00:00:00",
          "2021-01-01T00:00:00",
          "2021-01-01T00:00:00",
          "2021-01-01T00:00:00",
          "2021-01-01T00:00:00",
          "2021-01-01T00:00:00",
          "2021-01-01T00:00:00",
          "2021-01-01T00:00:00",
          "2021-01-01T00:00:00",
          "2021-01-01T00:00:00",
          "2021-01-01T00:00:00",
          "2021-01-01T00:00:00",
          "2021-01-01T00:00:00",
          "2021-01-01T00:00:00",
          "2021-01-01T00:00:00",
          "2021-01-01T00:00:00",
          "2021-01-01T00:00:00",
          "2021-01-01T00:00:00",
          "2021-01-01T00:00:00",
          "2021-01-01T00:00:00",
          "2021-01-01T00:00:00",
          "2021-01-01T00:00:00",
          "2021-01-01T00:00:00",
          "2021-01-01T00:00:00",
          "2021-01-01T00:00:00",
          "2021-01-01T00:00:00",
          "2021-01-01T00:00:00",
          "2021-01-01T00:00:00",
          "2021-01-01T00:00:00",
          "2021-01-01T00:00:00",
          "2021-01-01T00:00:00",
          "2021-01-01T00:00:00",
          "2021-01-01T00:00:00",
          "2021-01-01T00:00:00",
          "2021-01-01T00:00:00",
          "2021-01-01T00:00:00",
          "2021-01-01T00:00:00",
          "2021-01-01T00:00:00",
          "2021-01-01T00:00:00",
          "2021-01-01T00:00:00",
          "2021-01-01T00:00:00",
          "2021-01-01T00:00:00",
          "2021-01-01T00:00:00",
          "2021-01-01T00:00:00",
          "2021-01-01T00:00:00",
          "2021-01-01T00:00:00",
          "2021-01-01T00:00:00",
          "2021-01-01T00:00:00",
          "2021-01-01T00:00:00",
          "2021-01-01T00:00:00",
          "2021-01-01T00:00:00",
          "2021-01-01T00:00:00",
          "2021-01-01T00:00:00",
          "2021-01-01T00:00:00",
          "2021-01-01T00:00:00",
          "2021-01-01T00:00:00",
          "2021-01-01T00:00:00",
          "2021-01-01T00:00:00",
          "2021-01-01T00:00:00",
          "2021-01-01T00:00:00",
          "2021-01-01T00:00:00",
          "2021-01-01T00:00:00",
          "2021-01-01T00:00:00",
          "2021-01-01T00:00:00",
          "2021-01-01T00:00:00",
          "2021-01-01T00:00:00",
          "2021-01-01T00:00:00",
          "2021-01-01T00:00:00",
          "2021-01-01T00:00:00",
          "2021-01-01T00:00:00",
          "2021-01-01T00:00:00",
          "2021-01-01T00:00:00",
          "2021-01-01T00:00:00",
          "2021-01-01T00:00:00",
          "2021-01-01T00:00:00",
          "2021-01-01T00:00:00",
          "2021-01-01T00:00:00",
          "2021-01-01T00:00:00",
          "2021-01-01T00:00:00",
          "2021-01-01T00:00:00",
          "2021-01-01T00:00:00",
          "2021-01-01T00:00:00",
          "2021-01-01T00:00:00",
          "2021-01-01T00:00:00",
          "2021-01-01T00:00:00",
          "2021-01-01T00:00:00",
          "2021-01-01T00:00:00",
          "2021-01-01T00:00:00",
          "2021-01-01T00:00:00",
          "2021-01-01T00:00:00",
          "2021-01-01T00:00:00",
          "2021-01-01T00:00:00",
          "2021-01-01T00:00:00",
          "2021-01-01T00:00:00",
          "2021-01-01T00:00:00",
          "2021-01-01T00:00:00",
          "2021-01-01T00:00:00",
          "2021-01-01T00:00:00",
          "2021-01-01T00:00:00",
          "2021-01-01T00:00:00",
          "2021-01-01T00:00:00",
          "2021-01-01T00:00:00",
          "2021-01-01T00:00:00",
          "2021-01-01T00:00:00",
          "2021-01-01T00:00:00",
          "2021-01-01T00:00:00",
          "2021-01-01T00:00:00",
          "2021-01-01T00:00:00",
          "2021-01-01T00:00:00",
          "2021-01-01T00:00:00",
          "2021-01-01T00:00:00",
          "2021-01-01T00:00:00",
          "2021-01-01T00:00:00",
          "2021-01-01T00:00:00",
          "2021-01-01T00:00:00",
          "2021-01-01T00:00:00",
          "2021-01-01T00:00:00",
          "2021-01-01T00:00:00",
          "2021-01-01T00:00:00",
          "2021-01-01T00:00:00",
          "2021-01-01T00:00:00",
          "2021-01-01T00:00:00",
          "2021-01-01T00:00:00",
          "2021-01-01T00:00:00",
          "2021-01-01T00:00:00",
          "2021-01-01T00:00:00",
          "2021-01-01T00:00:00",
          "2021-01-01T00:00:00",
          "2021-01-01T00:00:00",
          "2021-01-01T00:00:00",
          "2021-01-01T00:00:00",
          "2021-01-01T00:00:00",
          "2021-01-01T00:00:00",
          "2021-01-01T00:00:00",
          "2021-01-01T00:00:00",
          "2021-01-01T00:00:00",
          "2021-01-01T00:00:00",
          "2021-01-01T00:00:00",
          "2021-01-01T00:00:00",
          "2021-01-01T00:00:00",
          "2021-01-01T00:00:00",
          "2021-01-01T00:00:00",
          "2021-01-01T00:00:00",
          "2021-01-01T00:00:00",
          "2021-01-01T00:00:00",
          "2021-01-01T00:00:00",
          "2021-01-01T00:00:00",
          "2021-01-01T00:00:00",
          "2021-01-01T00:00:00",
          "2021-01-01T00:00:00",
          "2021-01-01T00:00:00",
          "2021-01-01T00:00:00",
          "2021-01-01T00:00:00",
          "2021-01-01T00:00:00",
          "2021-01-01T00:00:00",
          "2021-01-01T00:00:00",
          "2021-01-01T00:00:00",
          "2021-01-01T00:00:00",
          "2021-01-01T00:00:00",
          "2021-01-01T00:00:00",
          "2021-01-01T00:00:00",
          "2021-01-01T00:00:00",
          "2021-01-01T00:00:00",
          "2021-01-01T00:00:00",
          "2021-01-01T00:00:00",
          "2021-01-01T00:00:00",
          "2021-01-01T00:00:00",
          "2021-01-01T00:00:00",
          "2021-01-01T00:00:00",
          "2021-01-01T00:00:00",
          "2021-01-01T00:00:00",
          "2021-01-01T00:00:00",
          "2021-01-01T00:00:00",
          "2021-01-01T00:00:00",
          "2021-01-01T00:00:00",
          "2021-01-01T00:00:00",
          "2021-01-01T00:00:00",
          "2021-01-01T00:00:00",
          "2021-01-01T00:00:00",
          "2021-01-01T00:00:00",
          "2021-01-01T00:00:00",
          "2021-01-01T00:00:00",
          "2021-01-01T00:00:00",
          "2021-01-01T00:00:00",
          "2021-01-01T00:00:00",
          "2021-01-01T00:00:00",
          "2021-01-01T00:00:00",
          "2021-01-01T00:00:00",
          "2021-01-01T00:00:00",
          "2021-01-01T00:00:00",
          "2021-01-01T00:00:00",
          "2021-01-01T00:00:00",
          "2021-01-01T00:00:00",
          "2021-01-01T00:00:00",
          "2021-01-01T00:00:00",
          "2021-01-01T00:00:00",
          "2021-01-01T00:00:00",
          "2021-01-01T00:00:00",
          "2021-01-01T00:00:00",
          "2021-01-01T00:00:00",
          "2021-01-01T00:00:00",
          "2021-01-01T00:00:00",
          "2021-01-01T00:00:00",
          "2021-01-01T00:00:00",
          "2021-01-01T00:00:00",
          "2021-01-01T00:00:00",
          "2021-01-01T00:00:00",
          "2021-01-01T00:00:00",
          "2021-01-01T00:00:00",
          "2021-01-01T00:00:00",
          "2021-01-01T00:00:00",
          "2021-01-01T00:00:00",
          "2021-01-01T00:00:00",
          "2021-01-01T00:00:00",
          "2021-01-01T00:00:00",
          "2021-01-01T00:00:00",
          "2021-01-01T00:00:00",
          "2021-01-01T00:00:00",
          "2021-01-01T00:00:00",
          "2021-01-01T00:00:00",
          "2021-01-01T00:00:00",
          "2021-01-01T00:00:00",
          "2021-01-01T00:00:00",
          "2021-01-01T00:00:00",
          "2021-01-01T00:00:00",
          "2021-01-01T00:00:00",
          "2021-01-01T00:00:00",
          "2021-01-01T00:00:00",
          "2021-01-01T00:00:00",
          "2021-01-01T00:00:00",
          "2021-01-01T00:00:00",
          "2021-01-01T00:00:00",
          "2021-01-01T00:00:00",
          "2021-01-01T00:00:00",
          "2021-01-01T00:00:00",
          "2021-01-01T00:00:00",
          "2021-01-01T00:00:00",
          "2021-01-01T00:00:00",
          "2021-01-01T00:00:00",
          "2021-01-01T00:00:00",
          "2021-01-01T00:00:00",
          "2021-01-01T00:00:00",
          "2021-01-01T00:00:00",
          "2021-01-01T00:00:00",
          "2021-01-01T00:00:00",
          "2021-01-01T00:00:00",
          "2021-01-01T00:00:00",
          "2021-01-01T00:00:00",
          "2021-01-01T00:00:00",
          "2021-01-01T00:00:00",
          "2021-01-01T00:00:00",
          "2021-01-01T00:00:00",
          "2021-01-01T00:00:00",
          "2021-01-01T00:00:00",
          "2019-01-01T00:00:00",
          "2019-01-01T00:00:00",
          "2019-01-01T00:00:00",
          "2019-01-01T00:00:00",
          "2019-01-01T00:00:00",
          "2019-01-01T00:00:00",
          "2019-01-01T00:00:00",
          "2019-01-01T00:00:00",
          "2019-01-01T00:00:00",
          "2019-01-01T00:00:00",
          "2019-01-01T00:00:00",
          "2019-01-01T00:00:00",
          "2019-01-01T00:00:00",
          "2019-01-01T00:00:00",
          "2019-01-01T00:00:00",
          "2019-01-01T00:00:00",
          "2019-01-01T00:00:00",
          "2019-01-01T00:00:00",
          "2019-01-01T00:00:00",
          "2019-01-01T00:00:00",
          "2019-01-01T00:00:00",
          "2019-01-01T00:00:00",
          "2019-01-01T00:00:00",
          "2019-01-01T00:00:00",
          "2019-01-01T00:00:00",
          "2019-01-01T00:00:00",
          "2019-01-01T00:00:00",
          "2019-01-01T00:00:00",
          "2019-01-01T00:00:00",
          "2019-01-01T00:00:00",
          "2019-01-01T00:00:00",
          "2019-01-01T00:00:00",
          "2019-01-01T00:00:00",
          "2019-01-01T00:00:00",
          "2019-01-01T00:00:00",
          "2019-01-01T00:00:00",
          "2019-01-01T00:00:00",
          "2019-01-01T00:00:00",
          "2019-01-01T00:00:00",
          "2019-01-01T00:00:00",
          "2019-01-01T00:00:00",
          "2019-01-01T00:00:00",
          "2019-01-01T00:00:00",
          "2019-01-01T00:00:00",
          "2019-01-01T00:00:00",
          "2019-01-01T00:00:00",
          "2019-01-01T00:00:00",
          "2019-01-01T00:00:00",
          "2019-01-01T00:00:00",
          "2019-01-01T00:00:00",
          "2019-01-01T00:00:00",
          "2019-01-01T00:00:00",
          "2019-01-01T00:00:00",
          "2019-01-01T00:00:00",
          "2019-01-01T00:00:00",
          "2019-01-01T00:00:00",
          "2019-01-01T00:00:00",
          "2019-01-01T00:00:00",
          "2019-01-01T00:00:00",
          "2019-01-01T00:00:00",
          "2019-01-01T00:00:00",
          "2019-01-01T00:00:00",
          "2019-01-01T00:00:00",
          "2019-01-01T00:00:00",
          "2019-01-01T00:00:00",
          "2019-01-01T00:00:00",
          "2019-01-01T00:00:00",
          "2019-01-01T00:00:00",
          "2019-01-01T00:00:00",
          "2019-01-01T00:00:00",
          "2019-01-01T00:00:00",
          "2019-01-01T00:00:00",
          "2019-01-01T00:00:00",
          "2019-01-01T00:00:00",
          "2019-01-01T00:00:00",
          "2019-01-01T00:00:00",
          "2019-01-01T00:00:00",
          "2019-01-01T00:00:00",
          "2019-01-01T00:00:00",
          "2019-01-01T00:00:00",
          "2019-01-01T00:00:00",
          "2019-01-01T00:00:00",
          "2019-01-01T00:00:00",
          "2019-01-01T00:00:00",
          "2019-01-01T00:00:00",
          "2019-01-01T00:00:00",
          "2019-01-01T00:00:00",
          "2019-01-01T00:00:00",
          "2019-01-01T00:00:00",
          "2018-01-01T00:00:00",
          "2018-01-01T00:00:00",
          "2018-01-01T00:00:00",
          "2018-01-01T00:00:00",
          "2018-01-01T00:00:00",
          "2018-01-01T00:00:00",
          "2018-01-01T00:00:00",
          "2018-01-01T00:00:00",
          "2018-01-01T00:00:00",
          "2018-01-01T00:00:00",
          "2018-01-01T00:00:00",
          "2018-01-01T00:00:00",
          "2018-01-01T00:00:00",
          "2018-01-01T00:00:00",
          "2018-01-01T00:00:00",
          "2018-01-01T00:00:00",
          "2018-01-01T00:00:00",
          "2018-01-01T00:00:00",
          "2018-01-01T00:00:00",
          "2018-01-01T00:00:00",
          "2018-01-01T00:00:00",
          "2018-01-01T00:00:00",
          "2018-01-01T00:00:00",
          "2018-01-01T00:00:00",
          "2018-01-01T00:00:00",
          "2018-01-01T00:00:00",
          "2018-01-01T00:00:00",
          "2018-01-01T00:00:00",
          "2018-01-01T00:00:00",
          "2018-01-01T00:00:00",
          "2018-01-01T00:00:00",
          "2018-01-01T00:00:00",
          "2018-01-01T00:00:00",
          "2018-01-01T00:00:00",
          "2018-01-01T00:00:00",
          "2018-01-01T00:00:00",
          "2018-01-01T00:00:00",
          "2018-01-01T00:00:00",
          "2018-01-01T00:00:00",
          "2018-01-01T00:00:00",
          "2018-01-01T00:00:00",
          "2018-01-01T00:00:00",
          "2018-01-01T00:00:00",
          "2018-01-01T00:00:00",
          "2018-01-01T00:00:00",
          "2018-01-01T00:00:00",
          "2018-01-01T00:00:00",
          "2018-01-01T00:00:00",
          "2018-01-01T00:00:00",
          "2018-01-01T00:00:00",
          "2018-01-01T00:00:00",
          "2018-01-01T00:00:00",
          "2018-01-01T00:00:00",
          "2018-01-01T00:00:00",
          "2018-01-01T00:00:00",
          "2018-01-01T00:00:00",
          "2018-01-01T00:00:00",
          "2018-01-01T00:00:00",
          "2018-01-01T00:00:00",
          "2018-01-01T00:00:00",
          "2018-01-01T00:00:00",
          "2018-01-01T00:00:00",
          "2018-01-01T00:00:00",
          "2018-01-01T00:00:00",
          "2018-01-01T00:00:00",
          "2018-01-01T00:00:00",
          "2018-01-01T00:00:00",
          "2018-01-01T00:00:00",
          "2018-01-01T00:00:00",
          "2018-01-01T00:00:00",
          "2018-01-01T00:00:00",
          "2018-01-01T00:00:00",
          "2018-01-01T00:00:00",
          "2018-01-01T00:00:00",
          "2018-01-01T00:00:00",
          "2018-01-01T00:00:00",
          "2018-01-01T00:00:00",
          "2018-01-01T00:00:00",
          "2018-01-01T00:00:00",
          "2018-01-01T00:00:00",
          "2018-01-01T00:00:00",
          "2018-01-01T00:00:00",
          "2018-01-01T00:00:00",
          "2018-01-01T00:00:00",
          "2018-01-01T00:00:00",
          "2018-01-01T00:00:00",
          "2018-01-01T00:00:00",
          "2018-01-01T00:00:00",
          "2018-01-01T00:00:00",
          "2018-01-01T00:00:00",
          "2018-01-01T00:00:00",
          "2018-01-01T00:00:00",
          "2018-01-01T00:00:00",
          "2018-01-01T00:00:00",
          "2018-01-01T00:00:00",
          "2018-01-01T00:00:00",
          "2018-01-01T00:00:00",
          "2018-01-01T00:00:00",
          "2018-01-01T00:00:00",
          "2018-01-01T00:00:00",
          "2018-01-01T00:00:00",
          "2018-01-01T00:00:00",
          "2018-01-01T00:00:00",
          "2018-01-01T00:00:00",
          "2018-01-01T00:00:00",
          "2018-01-01T00:00:00",
          "2018-01-01T00:00:00",
          "2018-01-01T00:00:00",
          "2018-01-01T00:00:00",
          "2018-01-01T00:00:00",
          "2018-01-01T00:00:00",
          "2018-01-01T00:00:00",
          "2018-01-01T00:00:00",
          "2018-01-01T00:00:00",
          "2018-01-01T00:00:00",
          "2018-01-01T00:00:00",
          "2018-01-01T00:00:00",
          "2018-01-01T00:00:00",
          "2018-01-01T00:00:00",
          "2018-01-01T00:00:00",
          "2018-01-01T00:00:00",
          "2018-01-01T00:00:00",
          "2018-01-01T00:00:00",
          "2018-01-01T00:00:00",
          "2018-01-01T00:00:00",
          "2018-01-01T00:00:00",
          "2018-01-01T00:00:00",
          "2018-01-01T00:00:00",
          "2018-01-01T00:00:00",
          "2018-01-01T00:00:00",
          "2018-01-01T00:00:00",
          "2018-01-01T00:00:00",
          "2018-01-01T00:00:00",
          "2018-01-01T00:00:00",
          "2018-01-01T00:00:00",
          "2018-01-01T00:00:00",
          "2018-01-01T00:00:00",
          "2018-01-01T00:00:00",
          "2018-01-01T00:00:00",
          "2018-01-01T00:00:00",
          "2018-01-01T00:00:00",
          "2018-01-01T00:00:00",
          "2018-01-01T00:00:00",
          "2018-01-01T00:00:00",
          "2018-01-01T00:00:00",
          "2018-01-01T00:00:00",
          "2018-01-01T00:00:00",
          "2018-01-01T00:00:00",
          "2018-01-01T00:00:00",
          "2018-01-01T00:00:00",
          "2018-01-01T00:00:00",
          "2018-01-01T00:00:00",
          "2018-01-01T00:00:00",
          "2018-01-01T00:00:00",
          "2018-01-01T00:00:00",
          "2018-01-01T00:00:00",
          "2018-01-01T00:00:00",
          "2018-01-01T00:00:00",
          "2018-01-01T00:00:00",
          "2018-01-01T00:00:00",
          "2018-01-01T00:00:00",
          "2018-01-01T00:00:00",
          "2018-01-01T00:00:00",
          "2018-01-01T00:00:00",
          "2018-01-01T00:00:00",
          "2018-01-01T00:00:00",
          "2018-01-01T00:00:00",
          "2018-01-01T00:00:00",
          "2018-01-01T00:00:00",
          "2018-01-01T00:00:00",
          "2018-01-01T00:00:00",
          "2018-01-01T00:00:00",
          "2018-01-01T00:00:00",
          "2018-01-01T00:00:00",
          "2018-01-01T00:00:00",
          "2018-01-01T00:00:00",
          "2018-01-01T00:00:00",
          "2018-01-01T00:00:00",
          "2018-01-01T00:00:00",
          "2018-01-01T00:00:00",
          "2018-01-01T00:00:00",
          "2018-01-01T00:00:00",
          "2018-01-01T00:00:00",
          "2018-01-01T00:00:00",
          "2018-01-01T00:00:00",
          "2018-01-01T00:00:00",
          "2018-01-01T00:00:00",
          "2018-01-01T00:00:00",
          "2018-01-01T00:00:00",
          "2018-01-01T00:00:00",
          "2018-01-01T00:00:00",
          "2018-01-01T00:00:00",
          "2018-01-01T00:00:00",
          "2018-01-01T00:00:00",
          "2018-01-01T00:00:00",
          "2018-01-01T00:00:00",
          "2018-01-01T00:00:00",
          "2018-01-01T00:00:00",
          "2018-01-01T00:00:00",
          "2018-01-01T00:00:00",
          "2018-01-01T00:00:00",
          "2018-01-01T00:00:00",
          "2018-01-01T00:00:00",
          "2018-01-01T00:00:00",
          "2018-01-01T00:00:00",
          "2018-01-01T00:00:00",
          "2018-01-01T00:00:00",
          "2018-01-01T00:00:00",
          "2018-01-01T00:00:00",
          "2018-01-01T00:00:00",
          "2018-01-01T00:00:00",
          "2018-01-01T00:00:00",
          "2018-01-01T00:00:00",
          "2018-01-01T00:00:00",
          "2018-01-01T00:00:00",
          "2018-01-01T00:00:00",
          "2018-01-01T00:00:00",
          "2018-01-01T00:00:00",
          "2018-01-01T00:00:00",
          "2018-01-01T00:00:00",
          "2018-01-01T00:00:00",
          "2018-01-01T00:00:00",
          "2018-01-01T00:00:00",
          "2018-01-01T00:00:00",
          "2018-01-01T00:00:00",
          "2018-01-01T00:00:00",
          "2018-01-01T00:00:00",
          "2018-01-01T00:00:00",
          "2018-01-01T00:00:00",
          "2018-01-01T00:00:00",
          "2018-01-01T00:00:00",
          "2018-01-01T00:00:00",
          "2018-01-01T00:00:00",
          "2018-01-01T00:00:00",
          "2018-01-01T00:00:00",
          "2018-01-01T00:00:00",
          "2018-01-01T00:00:00",
          "2018-01-01T00:00:00",
          "2018-01-01T00:00:00",
          "2018-01-01T00:00:00",
          "2018-01-01T00:00:00",
          "2018-01-01T00:00:00",
          "2018-01-01T00:00:00",
          "2018-01-01T00:00:00",
          "2018-01-01T00:00:00",
          "2018-01-01T00:00:00",
          "2018-01-01T00:00:00",
          "2018-01-01T00:00:00",
          "2018-01-01T00:00:00",
          "2018-01-01T00:00:00",
          "2018-01-01T00:00:00",
          "2018-01-01T00:00:00",
          "2018-01-01T00:00:00",
          "2018-01-01T00:00:00",
          "2018-01-01T00:00:00",
          "2018-01-01T00:00:00",
          "2018-01-01T00:00:00",
          "2018-01-01T00:00:00",
          "2018-01-01T00:00:00",
          "2018-01-01T00:00:00",
          "2018-01-01T00:00:00",
          "2018-01-01T00:00:00",
          "2018-01-01T00:00:00",
          "2018-01-01T00:00:00",
          "2018-01-01T00:00:00",
          "2018-01-01T00:00:00",
          "2018-01-01T00:00:00",
          "2018-01-01T00:00:00",
          "2018-01-01T00:00:00",
          "2018-01-01T00:00:00",
          "2018-01-01T00:00:00",
          "2018-01-01T00:00:00",
          "2018-01-01T00:00:00",
          "2018-01-01T00:00:00",
          "2018-01-01T00:00:00",
          "2018-01-01T00:00:00",
          "2018-01-01T00:00:00",
          "2018-01-01T00:00:00",
          "2018-01-01T00:00:00",
          "2018-01-01T00:00:00",
          "2018-01-01T00:00:00",
          "2018-01-01T00:00:00",
          "2018-01-01T00:00:00",
          "2018-01-01T00:00:00",
          "2018-01-01T00:00:00",
          "2018-01-01T00:00:00",
          "2018-01-01T00:00:00",
          "2018-01-01T00:00:00",
          "2018-01-01T00:00:00",
          "2018-01-01T00:00:00",
          "2018-01-01T00:00:00",
          "2018-01-01T00:00:00",
          "2018-01-01T00:00:00",
          "2018-01-01T00:00:00",
          "2018-01-01T00:00:00",
          "2018-01-01T00:00:00",
          "2018-01-01T00:00:00",
          "2018-01-01T00:00:00",
          "2018-01-01T00:00:00",
          "2018-01-01T00:00:00",
          "2018-01-01T00:00:00",
          "2018-01-01T00:00:00",
          "2018-01-01T00:00:00",
          "2018-01-01T00:00:00",
          "2018-01-01T00:00:00",
          "2018-01-01T00:00:00",
          "2018-01-01T00:00:00",
          "2018-01-01T00:00:00",
          "2018-01-01T00:00:00",
          "2018-01-01T00:00:00",
          "2018-01-01T00:00:00",
          "2018-01-01T00:00:00",
          "2018-01-01T00:00:00",
          "2018-01-01T00:00:00",
          "2018-01-01T00:00:00",
          "2018-01-01T00:00:00",
          "2018-01-01T00:00:00",
          "2018-01-01T00:00:00",
          "2018-01-01T00:00:00",
          "2018-01-01T00:00:00",
          "2018-01-01T00:00:00",
          "2018-01-01T00:00:00",
          "2018-01-01T00:00:00",
          "2018-01-01T00:00:00",
          "2018-01-01T00:00:00",
          "2018-01-01T00:00:00",
          "2018-01-01T00:00:00",
          "2018-01-01T00:00:00",
          "2018-01-01T00:00:00",
          "2018-01-01T00:00:00",
          "2018-01-01T00:00:00",
          "2018-01-01T00:00:00",
          "2018-01-01T00:00:00",
          "2018-01-01T00:00:00",
          "2018-01-01T00:00:00",
          "2018-01-01T00:00:00",
          "2018-01-01T00:00:00",
          "2018-01-01T00:00:00",
          "2018-01-01T00:00:00",
          "2018-01-01T00:00:00",
          "2018-01-01T00:00:00",
          "2018-01-01T00:00:00",
          "2018-01-01T00:00:00",
          "2018-01-01T00:00:00",
          "2018-01-01T00:00:00",
          "2018-01-01T00:00:00",
          "2018-01-01T00:00:00",
          "2018-01-01T00:00:00",
          "2018-01-01T00:00:00",
          "2018-01-01T00:00:00",
          "2018-01-01T00:00:00",
          "2018-01-01T00:00:00",
          "2018-01-01T00:00:00",
          "2018-01-01T00:00:00",
          "2018-01-01T00:00:00",
          "2018-01-01T00:00:00",
          "2018-01-01T00:00:00",
          "2018-01-01T00:00:00",
          "2018-01-01T00:00:00",
          "2018-01-01T00:00:00",
          "2018-01-01T00:00:00",
          "2018-01-01T00:00:00",
          "2018-01-01T00:00:00",
          "2018-01-01T00:00:00",
          "2018-01-01T00:00:00",
          "2018-01-01T00:00:00",
          "2018-01-01T00:00:00",
          "2018-01-01T00:00:00",
          "2018-01-01T00:00:00",
          "2018-01-01T00:00:00",
          "2018-01-01T00:00:00",
          "2018-01-01T00:00:00",
          "2018-01-01T00:00:00",
          "2018-01-01T00:00:00",
          "2018-01-01T00:00:00",
          "2018-01-01T00:00:00",
          "2018-01-01T00:00:00",
          "2018-01-01T00:00:00",
          "2018-01-01T00:00:00",
          "2018-01-01T00:00:00",
          "2018-01-01T00:00:00",
          "2018-01-01T00:00:00",
          "2018-01-01T00:00:00",
          "2018-01-01T00:00:00",
          "2018-01-01T00:00:00",
          "2018-01-01T00:00:00",
          "2018-01-01T00:00:00",
          "2018-01-01T00:00:00",
          "2018-01-01T00:00:00",
          "2018-01-01T00:00:00",
          "2018-01-01T00:00:00",
          "2018-01-01T00:00:00",
          "2018-01-01T00:00:00",
          "2018-01-01T00:00:00",
          "2018-01-01T00:00:00",
          "2018-01-01T00:00:00",
          "2018-01-01T00:00:00",
          "2018-01-01T00:00:00",
          "2018-01-01T00:00:00",
          "2018-01-01T00:00:00",
          "2018-01-01T00:00:00",
          "2018-01-01T00:00:00",
          "2018-01-01T00:00:00",
          "2018-01-01T00:00:00",
          "2018-01-01T00:00:00",
          "2018-01-01T00:00:00",
          "2018-01-01T00:00:00",
          "2018-01-01T00:00:00",
          "2018-01-01T00:00:00",
          "2018-01-01T00:00:00",
          "2018-01-01T00:00:00",
          "2018-01-01T00:00:00",
          "2018-01-01T00:00:00",
          "2018-01-01T00:00:00",
          "2018-01-01T00:00:00",
          "2018-01-01T00:00:00",
          "2018-01-01T00:00:00",
          "2018-01-01T00:00:00",
          "2018-01-01T00:00:00",
          "2018-01-01T00:00:00",
          "2018-01-01T00:00:00",
          "2018-01-01T00:00:00",
          "2018-01-01T00:00:00",
          "2018-01-01T00:00:00",
          "2018-01-01T00:00:00",
          "2018-01-01T00:00:00",
          "2018-01-01T00:00:00",
          "2018-01-01T00:00:00",
          "2018-01-01T00:00:00",
          "2018-01-01T00:00:00",
          "2018-01-01T00:00:00",
          "2018-01-01T00:00:00",
          "2018-01-01T00:00:00",
          "2018-01-01T00:00:00",
          "2018-01-01T00:00:00",
          "2018-01-01T00:00:00",
          "2018-01-01T00:00:00",
          "2018-01-01T00:00:00",
          "2018-01-01T00:00:00",
          "2018-01-01T00:00:00",
          "2018-01-01T00:00:00",
          "2018-01-01T00:00:00",
          "2018-01-01T00:00:00",
          "2018-01-01T00:00:00",
          "2018-01-01T00:00:00",
          "2018-01-01T00:00:00",
          "2018-01-01T00:00:00",
          "2018-01-01T00:00:00",
          "2018-01-01T00:00:00",
          "2018-01-01T00:00:00",
          "2018-01-01T00:00:00",
          "2018-01-01T00:00:00",
          "2018-01-01T00:00:00",
          "2018-01-01T00:00:00",
          "2018-01-01T00:00:00",
          "2018-01-01T00:00:00",
          "2018-01-01T00:00:00",
          "2018-01-01T00:00:00",
          "2018-01-01T00:00:00",
          "2018-01-01T00:00:00",
          "2018-01-01T00:00:00",
          "2018-01-01T00:00:00",
          "2018-01-01T00:00:00",
          "2018-01-01T00:00:00",
          "2018-01-01T00:00:00",
          "2018-01-01T00:00:00",
          "2018-01-01T00:00:00",
          "2018-01-01T00:00:00",
          "2018-01-01T00:00:00",
          "2018-01-01T00:00:00",
          "2018-01-01T00:00:00",
          "2018-01-01T00:00:00",
          "2018-01-01T00:00:00",
          "2018-01-01T00:00:00",
          "2018-01-01T00:00:00",
          "2018-01-01T00:00:00",
          "2018-01-01T00:00:00",
          "2018-01-01T00:00:00",
          "2018-01-01T00:00:00",
          "2018-01-01T00:00:00",
          "2018-01-01T00:00:00",
          "2018-01-01T00:00:00",
          "2018-01-01T00:00:00",
          "2018-01-01T00:00:00",
          "2018-01-01T00:00:00",
          "2018-01-01T00:00:00",
          "2018-01-01T00:00:00",
          "2018-01-01T00:00:00",
          "2018-01-01T00:00:00",
          "2018-01-01T00:00:00",
          "2018-01-01T00:00:00",
          "2018-01-01T00:00:00",
          "2018-01-01T00:00:00",
          "2018-01-01T00:00:00",
          "2018-01-01T00:00:00",
          "2018-01-01T00:00:00",
          "2018-01-01T00:00:00",
          "2018-01-01T00:00:00",
          "2018-01-01T00:00:00",
          "2018-01-01T00:00:00",
          "2018-01-01T00:00:00",
          "2018-01-01T00:00:00",
          "2018-01-01T00:00:00",
          "2018-01-01T00:00:00",
          "2018-01-01T00:00:00",
          "2018-01-01T00:00:00",
          "2018-01-01T00:00:00",
          "2018-01-01T00:00:00",
          "2018-01-01T00:00:00",
          "2018-01-01T00:00:00",
          "2018-01-01T00:00:00",
          "2018-01-01T00:00:00",
          "2018-01-01T00:00:00",
          "2018-01-01T00:00:00",
          "2018-01-01T00:00:00",
          "2018-01-01T00:00:00",
          "2018-01-01T00:00:00",
          "2018-01-01T00:00:00",
          "2018-01-01T00:00:00",
          "2018-01-01T00:00:00",
          "2018-01-01T00:00:00",
          "2018-01-01T00:00:00",
          "2018-01-01T00:00:00",
          "2018-01-01T00:00:00",
          "2018-01-01T00:00:00"
         ],
         "xaxis": "x",
         "y": [
          200000,
          100000,
          3000000,
          400000,
          340000,
          600000,
          600000,
          3000000,
          45000000,
          1000000,
          2000000,
          3000000,
          3000000,
          1200000,
          600000,
          660000000,
          120000,
          7500000,
          3000000,
          1000000,
          3000000,
          5000000,
          1000000,
          500000,
          3000000,
          10000000,
          145000000,
          100000000,
          3000000,
          3000000,
          21000000,
          4000000,
          20000000,
          1000000,
          560000,
          3000000,
          400000,
          275000,
          20000000,
          1000000,
          3000000,
          4500000,
          5000000,
          15000000,
          3000000,
          390000000,
          7000000,
          3000000,
          5100000,
          500000,
          700000000,
          2300000,
          3000000,
          3000000,
          700000,
          500000,
          7000000,
          100000,
          1000000,
          19000000,
          3000000,
          3000000,
          3000000,
          3000000,
          3000000,
          3000000,
          400000,
          1000000,
          3000000,
          3000000,
          9000000,
          21000000,
          3000000,
          40000000,
          3000000,
          1200000,
          750000,
          1500000,
          500000,
          7800000,
          20000000,
          50000000,
          4000000,
          560000,
          80000000,
          30000000,
          1700000,
          600000,
          600000,
          3000000,
          3000000,
          2500000,
          1000000,
          40000,
          500000,
          33000000,
          3000000,
          3000000,
          1500000,
          35000000,
          3000000,
          300000,
          25000000,
          3500000,
          200000000,
          3000000,
          3000000,
          7000000,
          200000,
          3000000,
          3000000,
          300000,
          6000000,
          1000000,
          3000000,
          3000000,
          3000000,
          1300000,
          4100000,
          1000000,
          3000000,
          575000,
          1000000,
          3000000,
          200000000,
          6000000,
          25000000,
          800000,
          300000,
          600000,
          1000000,
          3000000,
          3000000,
          30000000,
          1000000,
          5000000,
          28000000,
          3000000,
          3000000,
          100000,
          18000000,
          3200000,
          3000000,
          3000000,
          100000000,
          5000000,
          300000,
          3000000,
          3000000,
          80000000,
          10000000,
          15000000,
          800000,
          100000000,
          3000000,
          100000000,
          500000,
          2000000,
          400000,
          2000000,
          900000,
          250000,
          3000000,
          3200000,
          10000000,
          3000000,
          35000000,
          2000000,
          4700000,
          3000000,
          3000000,
          1500000,
          3000000,
          3000000,
          2000000,
          75000000,
          1000000,
          1200000,
          1000000,
          3000000,
          2000000,
          3000000,
          800000,
          100000,
          3000000,
          8000000,
          1000000,
          300000,
          1000000,
          1000000,
          1000000,
          6000000,
          3000000,
          3000000,
          121000000,
          4500000,
          5000000,
          55000000,
          3500000,
          3000000,
          200000,
          3300000,
          3000000,
          3000000,
          3000000,
          11000000,
          2000000,
          5000000,
          5000000,
          3000000,
          16000000,
          11000000,
          3000000,
          3000000,
          2000000,
          500000,
          4000000,
          5000000,
          10000000,
          600000,
          15000000,
          7500000,
          4500000,
          5000000,
          18000000,
          2000000,
          5400000,
          3000000,
          150000000,
          5400000,
          200000,
          3000000,
          2000000,
          4000000,
          3000000,
          400000,
          2500000,
          1500000,
          7500000,
          4200000,
          4000000,
          200000,
          500000,
          3000000,
          22000000,
          3000000,
          52000000,
          6000000,
          2000000,
          500000,
          3000000,
          1100000,
          100000,
          900000,
          3000000,
          3000000,
          3000000,
          3000000,
          7000000,
          118000000,
          15000000,
          2300000,
          3000000,
          4500000,
          3000000,
          3000000,
          100000000,
          30000000,
          5000000,
          4200000,
          4000000,
          600000,
          25000000,
          11000000,
          1700000,
          1600000,
          18500000,
          6000000,
          55000000,
          70000000000,
          2000000,
          300000,
          1500000,
          5000000,
          1000000,
          3000000,
          500000,
          3000000,
          3000000,
          2000000,
          3000000,
          3000000,
          1000000,
          6000000,
          3000000,
          30000000,
          1000000,
          3000000,
          19000000,
          25000000,
          300000,
          800000000,
          400000000,
          500000,
          150000,
          176000000,
          15000000,
          15000000,
          25000000,
          11000000,
          1000000,
          60000000,
          470000,
          3000000,
          240000,
          3000000,
          3000000000,
          750000,
          10000000,
          74000000,
          16000000,
          62000000,
          1000000,
          20000000,
          2100000,
          500000000,
          12500000,
          2200000000,
          10000000,
          5060000,
          3000000,
          3000000,
          3000000,
          225000000,
          750000,
          40000000,
          10000000,
          1600000,
          50000000,
          24700000,
          7700000,
          800000,
          1300000,
          150000000,
          19067328,
          100000000,
          3000000,
          62000000,
          3000000,
          51000000,
          1000000,
          115000,
          54000,
          20000,
          3000000,
          9000000,
          3000000,
          2000000,
          803146,
          238000,
          300000,
          500000000,
          3000000,
          10220000,
          300000,
          1020000,
          100000000,
          3000000,
          3000000,
          3000000,
          3000000,
          200000,
          5000000,
          3000000,
          10000000,
          3000000,
          3000000,
          2000000,
          3000000,
          1500000,
          3000000,
          20000000,
          3000000,
          12000000,
          13400000,
          2000000,
          1000000,
          1300000,
          200000,
          170000000,
          1100000,
          2900000,
          2000000,
          543000,
          3000000,
          90000000,
          1300000,
          30000000,
          3000000,
          3400000,
          600000,
          23000000,
          40000000,
          1500000,
          8090000,
          1030000,
          5040000,
          800000,
          1500000,
          360000,
          3000000,
          8000000,
          1400000,
          10000000,
          2000000,
          100000,
          10000000,
          650000,
          12000000,
          54000000,
          5000000,
          35000000,
          42500000,
          28000000,
          11370000,
          7500000,
          8000000,
          325000,
          28000000,
          8000000,
          9000000,
          410000,
          18000000,
          5000000,
          900000,
          450000,
          2000000,
          500000,
          8000000,
          1000000,
          682000,
          7000000,
          5060000,
          4050000,
          1050000,
          800000,
          7000000,
          3000000,
          50000000,
          1000000,
          750000,
          30000000,
          1050000,
          1000000,
          400000,
          4000000,
          25000000,
          1080000,
          9000000,
          4300000,
          1400000,
          3000000,
          6800000,
          2110000,
          3000000,
          764000,
          603000,
          409000,
          292000,
          286000,
          136000,
          3000000,
          546000,
          887000,
          43000,
          40900,
          40900,
          3000000,
          3000000,
          3000000,
          3000000,
          3000000,
          7000000,
          2200000,
          2000000,
          340000,
          5660000,
          2000000,
          3000000,
          350000,
          110000,
          4300000,
          3000000,
          122000000,
          11635000,
          3000000,
          2800000,
          3000000,
          5000000,
          1000000,
          3000000,
          28000000,
          11000000,
          2300000,
          3000000,
          5000000,
          3000000,
          1065000,
          2000000,
          3000000,
          3000000,
          10000000,
          2500000,
          5000000,
          669000,
          3000000,
          16076000,
          649600,
          3000000,
          1000000,
          2000000,
          1000000,
          1000000,
          6700000,
          3000000,
          5000000,
          2000000,
          220000,
          3000000,
          1300000,
          300000,
          266500,
          2500000,
          2879000,
          700000,
          3000000,
          3000000,
          26500000,
          8000000,
          2000000,
          1000000,
          351000,
          3000000,
          3000000,
          200000,
          3000000,
          500000,
          3000000,
          46761000,
          175000,
          3000000,
          3000000,
          3000000,
          15000000,
          1700000,
          3000000,
          21000000,
          3000000,
          11241000,
          804000,
          2500000,
          3000000,
          10000000,
          1340000,
          467000,
          133000,
          3000000,
          100000000,
          7000000,
          3823000,
          1000000,
          934000,
          500000,
          293000,
          3000000,
          3000000,
          3000000,
          198000,
          927000,
          4000000,
          971000,
          3060000,
          1862000,
          232000,
          3000000,
          2888000,
          1328000,
          40000000,
          3000000,
          3000000,
          1200000,
          3000000,
          15500000,
          56000000,
          2250000,
          3000000,
          16753000,
          3700000,
          1470000,
          1000000,
          530000,
          500000,
          3000000,
          267000,
          3344000,
          600000,
          1000000,
          7200000,
          21000000,
          650000,
          3000000,
          1100000,
          1700000,
          3000000,
          3000000,
          3000000,
          2743000,
          3000000,
          6082000,
          1500000,
          6609000,
          5000000,
          27700000,
          3000000,
          5940000,
          3964000,
          5500000,
          197000,
          3000000,
          10000000,
          4327000,
          25000000,
          2000000,
          459000,
          3000000,
          3000000,
          3937000,
          3000000,
          1313500,
          3000000,
          229800,
          3000000,
          150000,
          11370000,
          5305000,
          3000000,
          18000000,
          150000000,
          3000000,
          5500000,
          3000000,
          264000,
          1000000,
          3000000,
          6000000,
          3300000,
          4000000,
          1750000,
          1000000,
          1000000,
          3000000,
          3000000,
          5967000,
          2980000,
          3000000,
          323000,
          1326000,
          3000000,
          3000000,
          500000,
          5000000,
          2000000,
          27000000,
          5200000,
          55000000,
          3000000,
          3000000,
          3000000,
          1000000,
          3000000,
          2500000,
          3000000,
          2530000,
          3000000,
          3000000,
          3000000,
          340000,
          792000,
          1000000,
          3000000,
          3000000,
          60000000,
          11363000,
          100000,
          1715000,
          329000,
          3000000,
          5271000,
          650000,
          3000000,
          3000000,
          8700000,
          3226000,
          3000000,
          5900000,
          44000000,
          3879000,
          3000000,
          1000000,
          13000000,
          3000000,
          8800000,
          9500000,
          1000000,
          3000000,
          3000000,
          2000000,
          10000000,
          3000000,
          5100000,
          920000,
          15000000,
          3000000,
          3000000,
          1700000,
          3000000,
          3000000,
          35600000,
          9400000,
          790000,
          480000,
          250000,
          160000,
          3000000,
          3000000,
          3000000,
          400000,
          8200000,
          15500000,
          3000000,
          4257000,
          1410000,
          3000000,
          3000000,
          1500000,
          500000,
          2100000,
          4000000,
          2000000,
          3000000,
          20000000,
          3000000,
          349800,
          786000,
          2004000,
          6800000,
          5000000,
          123000000,
          248000,
          3000000,
          12000000,
          7500000,
          3000000,
          4500000,
          3000000,
          150000,
          3000000,
          24000000,
          30000000,
          4000000,
          15000000,
          13000000,
          3000000,
          2000000,
          3000000,
          3000000,
          20000000,
          400000,
          200000,
          14259000,
          4000000,
          3000000,
          3000000,
          24500000,
          50000000,
          3800000,
          18370000,
          68525000,
          4800000,
          60000000,
          2000000,
          12500000,
          1834000,
          3000000,
          8000000,
          12000000,
          7500000,
          23850000,
          43000000,
          7000000,
          5000000,
          800000,
          21600000,
          3000000,
          3500000,
          6000000,
          10000000,
          150000,
          500000,
          4000000,
          55000000,
          4598000,
          13137000,
          3000000,
          3000000,
          3000000,
          115000000,
          3000000,
          200000,
          3000000,
          400000,
          3900000,
          3000000,
          3000000,
          3000000,
          3000000,
          670000,
          1600000,
          100000,
          1000000,
          1500000,
          2500000,
          1100000,
          3000000,
          8500000,
          50000000,
          3148000,
          2600000,
          3000000,
          7000000,
          3000000,
          3900000,
          3000000,
          1100000,
          3000000,
          3000000,
          1000000,
          6000000,
          4700000,
          500000,
          2000000,
          3000000,
          1000000,
          3000000,
          3000000,
          3000000,
          3000000,
          3000000,
          4049500,
          1500000,
          8000000,
          6000000,
          5500000,
          3000000,
          10500000,
          3000000,
          4000000,
          500000,
          6500000,
          1000000,
          5000000,
          30000000,
          3000000,
          43700000,
          3000000,
          23000000,
          20000000,
          3000000,
          16000000,
          3000000,
          1500000,
          3000000,
          13800000,
          1500000,
          306900,
          30000000,
          20000000,
          75000000,
          2500000,
          420000,
          300000,
          3000000,
          1200000,
          1100000,
          627300,
          113000000,
          32000000,
          110000000,
          5500000,
          11000000,
          340000,
          600000,
          1397000,
          3000000,
          16000000,
          19000000,
          250000,
          448500,
          3000000,
          8000000,
          7975700,
          3000000,
          3000000,
          3000000,
          330000,
          3500000,
          3000000,
          5000000,
          5600000,
          24000000,
          1402000,
          5500000,
          50000000,
          5200000,
          2200000,
          1500000,
          1000000,
          25000000,
          2500000,
          21500000,
          2000000,
          3000000,
          40000000,
          296000000,
          200000000,
          32000000,
          6000000,
          3500000,
          30000000,
          250000,
          20000,
          3000000,
          8000000,
          5500000,
          1000000,
          4900000,
          3000000,
          2500000,
          3500000,
          1402400,
          12618300,
          1400000,
          10000000,
          3000000,
          3000000,
          9900000,
          3000000,
          15000000,
          3000000,
          3000000,
          100000000,
          3000000,
          35000000,
          600000,
          2000000,
          2200000,
          500000,
          982530,
          200000000,
          70185200,
          3000000,
          12000000,
          30000000,
          210000000,
          84000000,
          60000000,
          3000000,
          3000000,
          3000000,
          3000000,
          3000000,
          39000000,
          2700000,
          1403400,
          4300000,
          105000000,
          11000000,
          400000,
          1000000,
          103000000,
          220000,
          30000000,
          250000,
          6000000,
          6000000,
          281300,
          3000000,
          3000000,
          3000000,
          12700,
          12700,
          12700,
          3000000,
          30000000,
          700000,
          600000,
          25000,
          400000,
          97500000,
          90000000,
          507000,
          3000000,
          3000000,
          15000000,
          10000000,
          2000000,
          2000000,
          160000,
          2000000,
          3000000,
          3000000,
          3000000,
          3000000,
          3000000,
          2000000,
          5200000,
          15000000,
          3000000,
          8400000,
          1100000,
          3400000,
          18300000,
          2000000,
          150000000,
          200000000,
          1400000,
          125000000,
          1000000,
          3400000,
          3000000,
          181000,
          500000,
          280000,
          15000000,
          10000000,
          3000000,
          3000000,
          14700000,
          1000000,
          1500000,
          13200000,
          8000000,
          8043000,
          9000000,
          1200000,
          120000000,
          30000000,
          51000000,
          2000000,
          188000000,
          200000,
          1000000,
          3000000,
          100000,
          700000,
          2000000,
          9000000,
          40000000,
          49000000,
          400000,
          300000,
          25000000,
          160000000,
          150000,
          1800000,
          5000000,
          850000,
          3000000,
          53000000,
          2000000,
          500000,
          1100000,
          6000000,
          800000,
          500000,
          1000000,
          10000000,
          500000,
          200000,
          6000000,
          21000000,
          100000,
          1000000,
          7500000,
          100000,
          1000000,
          26000000,
          1000000,
          7400000,
          2000000,
          1500000,
          3000000,
          600000,
          800000000,
          17000000,
          3500000,
          15000000,
          215000000,
          2500000,
          350000000,
          2000000,
          5500000,
          600000,
          83000000,
          26000000,
          110000000,
          3000000,
          500000000,
          1000000,
          65000000,
          150000000000,
          6000000,
          700000,
          10000000,
          700000,
          300000000,
          2200000,
          35000000,
          140000000,
          200000,
          4000000,
          13000000,
          1100000,
          3500000,
          3500000,
          2000000,
          2000000,
          800000,
          6000000,
          2500000,
          9500000,
          13000000,
          5000000,
          8000000,
          1000000,
          3500000,
          200000,
          12000000,
          1500000,
          2000000,
          1700000,
          5500000,
          1000000,
          13000000,
          5000000,
          8000000,
          1000000,
          3500000,
          200000,
          12000000,
          1500000,
          2000000,
          1000000,
          400000,
          150000000,
          4000000,
          3500000,
          100000000,
          6000000,
          1000000,
          3500000,
          500000,
          2000000,
          3500000,
          5500000,
          3500000,
          15000000,
          2000000,
          500000,
          1000000,
          10000000,
          40000000,
          10000000,
          3500000,
          225000000,
          6700000,
          1300000,
          20000000,
          250000,
          3500000,
          21000000,
          400000,
          1200000,
          5000000,
          52000000,
          400000,
          3800000,
          17500000,
          42000000,
          6000000,
          3800000,
          2000000,
          2300000,
          5000000,
          20000000,
          1000000,
          7000000,
          30000000,
          1000000,
          450000000,
          3500000,
          28000000,
          300000,
          3500000,
          3500000,
          8500000,
          25000000,
          500000,
          1700000,
          3500000,
          25000000,
          400000,
          1000000,
          12000000,
          225000000,
          3000000,
          37000000,
          2000000,
          2000000,
          370000000,
          700000,
          5000000,
          16000000,
          2000000,
          500000,
          3500000,
          3500000,
          200000,
          10000000,
          2000000,
          100000,
          44000000,
          1000000,
          500000,
          20000000,
          10000000,
          1700000,
          3500000,
          300000,
          20000000,
          3500000,
          770000,
          1200000,
          3500000,
          125000000,
          35000000,
          40000000,
          40000000,
          50000000,
          4900000,
          145000000,
          22000000,
          10000000,
          13000000,
          10000000,
          10000000,
          70000000,
          100000000,
          6700000,
          30000000,
          7000000,
          5000000,
          6600000,
          32000000,
          150000000,
          24000000,
          700000,
          3500000,
          200000,
          1500000,
          1300000,
          1000000,
          725000,
          500000,
          461000,
          200000,
          500000,
          96000000,
          5000000,
          70000000,
          5000000,
          4000000,
          32000000,
          60000000,
          7000000,
          20000000,
          500000000,
          266000000,
          4500000,
          1200000,
          4000000,
          300000,
          200000,
          9500000,
          1200000,
          325000000,
          100000000,
          6500000,
          4000000,
          1600000,
          150000,
          400000,
          225000,
          5000000,
          100000000,
          10000000,
          85000000,
          40000000,
          200000,
          235000,
          260000,
          7000000,
          30000000,
          2900000,
          12000000,
          53000000,
          3500000,
          700000,
          3000000,
          1000000,
          3500000,
          3000000,
          1100000,
          3500000,
          3500000,
          86000000,
          130000,
          10000,
          111000000,
          37000000,
          6000000,
          265000,
          1000000,
          76000000,
          30000000,
          100000000,
          200000,
          2000000,
          4000000,
          75000000,
          1000000,
          3800000,
          1500000,
          800000,
          15000000,
          3000000,
          2000000,
          1000000,
          100000000,
          12000000,
          100000,
          1600000,
          100000000,
          260000,
          2000000,
          300000,
          30000000,
          400000,
          1000000000,
          200000,
          400000,
          5000000,
          15000000,
          1000000,
          10000000,
          1000000,
          2000000,
          10000000,
          200000,
          1000000,
          600000,
          10000000,
          6000000,
          18000000,
          2200000,
          150000,
          40000000,
          120000000,
          500000,
          20000000,
          350000,
          1000000,
          200000,
          95000000,
          4100000,
          5200000,
          10000000,
          5000000,
          4000000,
          8000000,
          1400000,
          1500000,
          10000000,
          1000000,
          1000000,
          300000,
          1000000,
          9000000,
          3000000,
          5000000,
          2000000,
          6000000,
          40000000,
          2000000,
          1000000,
          2600000,
          6000000,
          1600000,
          2000000,
          900000,
          250000,
          10000000,
          16000000,
          2500000,
          7000000,
          15000000,
          30000000,
          10000000,
          1500000,
          1000000,
          1000000,
          2000000,
          300000,
          1500000,
          3000000,
          15000000,
          11000000,
          6000000,
          1000000,
          7000000,
          280000000,
          50000000,
          3000000,
          200000,
          1800000,
          5000000,
          14300000,
          4000000,
          10000000,
          300000,
          500000,
          4000000,
          81000000,
          1000000,
          1300000,
          100000000,
          2000000,
          5000000,
          300000,
          8200000,
          20000000,
          200000,
          7000000,
          4000000,
          100000,
          500000,
          70000000,
          720000,
          3000000,
          3000000,
          15000000,
          600000,
          10000000,
          9000000,
          1000000,
          10000000,
          5000000,
          1800000,
          6000000,
          300000,
          1500000,
          2000000,
          1000000,
          4000000,
          40000000,
          1600000,
          2000000,
          2000000,
          5000000,
          300000,
          330000,
          1000000,
          53000000,
          6000000,
          800000,
          3500000,
          200000000,
          1000000,
          2000000,
          50000000,
          36000000,
          3500000,
          300000,
          200000,
          1000000,
          5000000,
          67000000,
          2000000,
          3500000,
          2500000,
          3500000,
          3500000,
          5000000,
          12000000,
          10200000,
          220000000,
          4500000,
          200000,
          1000000,
          25000000,
          150000000,
          108000000,
          4000000,
          500000,
          330000,
          13000000,
          500000,
          3500000,
          75000000,
          450000,
          10000000,
          10000000,
          3500000,
          2000000,
          9000000,
          500000,
          5000000,
          1200000,
          60000000,
          2500000,
          700000,
          25000000,
          660000000,
          3500000,
          3500000,
          100000000,
          1300000,
          3000000,
          45000000,
          1000000,
          500000,
          3500000,
          3200000,
          370000,
          3500000,
          4000000,
          1800000,
          300000,
          150000,
          3500000,
          3500000,
          48000000,
          35000000,
          300000,
          3000000,
          1000000,
          3500000,
          3600000,
          200000000,
          11000000,
          192000000,
          65000000,
          100000000,
          3000000,
          3500000,
          3500000,
          2500000,
          3500000,
          1400000,
          600000,
          2000000,
          3500000,
          370000,
          3500000,
          5000000,
          1200000,
          1900000,
          1000000,
          300000,
          3500000,
          200000,
          41000000,
          144000000,
          20000000,
          5000000,
          1000000,
          3500000,
          3500000,
          5200000,
          3500000,
          270000000,
          600000,
          140000,
          3500000,
          1000000,
          3500000,
          5000000,
          250000000,
          1000000,
          50000000,
          3000000,
          500000,
          8000000,
          400000,
          3500000,
          3500000,
          3500000,
          3000000,
          1000000,
          400000,
          3500000,
          300000,
          3000000,
          3500000,
          2000000,
          5000000,
          3000000,
          3000000,
          300000,
          6000000,
          100000,
          1000000,
          20000000,
          4500000,
          150000,
          2000000,
          5000000,
          320000,
          2000000,
          3500000,
          3000000,
          1000000,
          1800000,
          1000000,
          4000000,
          350000000,
          1000000,
          9000000,
          600000,
          3500000,
          4800000,
          38000000,
          70000000,
          4000000,
          3500000,
          200000000,
          3000000,
          3500000,
          125000,
          500000,
          1000000,
          45000000,
          3500000,
          26000000,
          3800000,
          1200000,
          3500000,
          3500000,
          6000000,
          2500000,
          3000000,
          22000000,
          50000000,
          64000000,
          3500000,
          1500000,
          3500000,
          620000,
          3500000,
          600000,
          900000,
          3500000,
          500000,
          3500000,
          4000000,
          3500000,
          300000,
          42000000,
          2000000,
          60000000,
          3500000,
          65000000,
          500000,
          3500000,
          3500000,
          3500000,
          3500000,
          20000000,
          9000000,
          2000000,
          300000,
          20000000,
          3500000,
          5200000,
          3500000,
          3500000,
          100000,
          12000000,
          6500000,
          125000000,
          3000000,
          2000000,
          3500000,
          5000000,
          3500000,
          100000,
          16000000,
          700000,
          6000000,
          2600000,
          300000,
          1500000,
          1300000,
          400000,
          40000000,
          1000000,
          1250000,
          1800000,
          400000000,
          50000000,
          4100000,
          3000000,
          11000000,
          1000000,
          1700000,
          2000000,
          27000000,
          234000000,
          460000000,
          30000000,
          13500000,
          5000000,
          4000000,
          5100000,
          195000000,
          125000,
          15000000,
          10000000,
          75000000,
          10000000,
          1000000,
          45000000,
          10000000,
          1500000,
          200000000,
          12000000,
          1000000,
          30000000,
          2600000,
          7300000,
          3500000,
          20000000,
          300000,
          75000000,
          5000000,
          6300000,
          4000000,
          2000000,
          40000000,
          5000000,
          1000000,
          300000,
          500000,
          10000000,
          17000000,
          3000000,
          200000000,
          140000000,
          2000000,
          400000,
          500000,
          6000000,
          5000000,
          20000000,
          12500000,
          20000000,
          45000000,
          3000000,
          10000000,
          800000,
          500000,
          200000,
          1000000,
          15000000,
          1000000,
          3000000,
          4000000,
          40000000,
          1800000,
          1500000,
          12500000,
          2000000,
          500000,
          50000000,
          95000000,
          3000000,
          200000,
          2000000,
          350000,
          15000000,
          400000,
          15000000,
          1000000,
          5000000,
          11000000,
          200000,
          1500000,
          15000000,
          3000000,
          30000000,
          200000,
          1800000,
          600000,
          24000000,
          8000000,
          6000000,
          500000,
          50000000,
          30000000,
          15000000,
          140000,
          200000,
          300000,
          50000000,
          200000,
          5000000,
          200000,
          6000000,
          1000000,
          800000,
          4000000,
          2000000,
          800000,
          200000,
          1000000,
          3000000,
          1000000,
          16500000,
          100000,
          340000,
          43000000,
          150000000,
          75000000,
          3000000,
          1600000,
          1000000,
          1000000,
          60000000,
          50000000,
          1000000,
          3500000,
          1000000,
          3500000,
          2000000,
          2000000,
          7000000,
          3300000,
          150000,
          92000000,
          10000000,
          400000,
          600000,
          7000000,
          150000000,
          24000000,
          300000,
          2000000,
          1500000,
          7000000,
          300000,
          7000000,
          3000000,
          20000000,
          100000,
          3000000,
          30000000,
          100000,
          150000,
          4500000,
          17000000,
          3000000,
          2000000,
          2000000,
          3000000,
          12000000,
          4000000,
          2500000,
          135000000,
          8000000,
          1600000,
          20000000,
          15000000,
          20000000,
          4000000,
          200000,
          15000000,
          5000000,
          3500000,
          13000000,
          3500000,
          300000,
          5500000,
          6000000,
          155000,
          1000000,
          2100000,
          20000000,
          30000000,
          400000,
          700000,
          40000000,
          500000,
          25000000,
          21000000,
          840000000,
          248000000,
          10000000,
          220000000,
          5000000,
          20000000,
          12000000,
          1000000,
          1500000,
          400000,
          30000000,
          4300000,
          570000,
          2200000,
          4700000,
          7000000,
          300000000,
          1300000,
          52000000,
          40000000,
          4000000,
          3500000,
          28000000,
          5000000,
          260000000,
          3500000,
          2000000,
          1000000,
          3500000,
          3500000,
          140000000,
          3000000,
          3500000,
          175000000,
          3000000,
          2000000,
          19000000,
          1000000,
          200000000,
          810000,
          600000,
          400000,
          500000,
          500000,
          7500000,
          700000,
          1000000,
          30000000,
          600000000,
          125000000,
          35000000,
          90000000,
          3500000,
          400000,
          250000000,
          24000000,
          1000000,
          11000000,
          500000,
          50000000,
          2300000,
          5700000,
          200000,
          1500000,
          30000000,
          4000000,
          60000000,
          8000000,
          2200000,
          100000,
          17000000,
          600000,
          250000000,
          5000000,
          1000000,
          30000000,
          5500000,
          7000000,
          50000000,
          3000000,
          4000000,
          1000000,
          500000,
          10000000,
          6750000,
          10000000,
          4000000,
          1200000,
          3000000,
          400000,
          1300000,
          100000000,
          6000000,
          75000000,
          250000000,
          1100000,
          10000000,
          78000000,
          100000000,
          6000000,
          200000,
          3500000,
          3200000,
          500000,
          10000000,
          6000000,
          5400000,
          400000,
          115000000,
          3500000,
          40000000,
          8000000,
          400000,
          3000000,
          1100000,
          1900000,
          5000000,
          255000000,
          18000000,
          1200000,
          10000000,
          4000000,
          5500000,
          15000000,
          700000,
          70000000,
          3500000,
          48000000,
          3500000,
          400000,
          2300000,
          90000000,
          100000000,
          35000000,
          2000000,
          570000000,
          3500000,
          100000,
          7000000,
          2500000,
          400000,
          200000000,
          550000,
          5000000,
          3500000,
          150000,
          2500000,
          2700000,
          12000000,
          400000,
          10000000,
          11000000,
          75000000,
          3500000,
          125000000,
          4200000,
          10000000,
          3000000,
          3500000,
          1000000,
          1500000,
          30000000,
          30000000,
          50000000,
          1000000,
          3500000,
          3000000,
          2300000,
          1700000,
          4000000,
          7000000,
          1200000,
          3000000,
          200000,
          30000000,
          450000000,
          2000000,
          200000,
          31000000,
          540000,
          25000000,
          3500000,
          3000000,
          3500000,
          1000000,
          15000000,
          700000,
          30000000,
          50000000,
          14000000,
          600000,
          300000,
          3500000,
          3500000,
          3000000,
          5000000,
          2200000,
          340000,
          200000,
          24000000,
          1000000,
          4000000,
          3500000,
          2000000,
          900000,
          4500000,
          10000000,
          1000000,
          6200000,
          200000,
          8000000,
          3500000,
          800000,
          750000,
          2000000,
          6300000,
          100000000,
          6500000,
          1000000,
          10000000,
          700000,
          100000000,
          1500000,
          1100000,
          3500000,
          3500000,
          1000000,
          320000,
          800000,
          500000,
          3500000,
          8000000,
          10000000,
          50000000,
          10000000,
          4500000,
          600000,
          1200000,
          1200000,
          23000000,
          75000000,
          4000000,
          7000000,
          10000000,
          320000,
          10000000,
          10000000,
          11000000,
          500000,
          1000000,
          200000,
          800000,
          1000000,
          700000,
          200000,
          2000000,
          2000000,
          3500000,
          500000,
          76000000,
          2000000,
          1000000,
          5000000,
          2000000,
          200000,
          500000,
          5000000,
          2000000,
          3000000,
          20000000,
          55000000,
          26000000,
          8000000,
          6300000,
          150000000,
          28000000,
          30000000,
          6000000,
          0,
          0,
          1000000,
          20000000,
          275000000,
          0,
          22000000,
          5000000,
          140500,
          0,
          5000000,
          540000000,
          15000000,
          182700,
          0,
          5000000,
          12000000,
          11000000,
          0,
          15500000,
          1500000,
          5500000,
          5000000,
          12000000,
          2500000,
          30000000,
          140000,
          0,
          230000000,
          20000000,
          49400000,
          32000000,
          26000000,
          150000,
          400000,
          2000000,
          100000000,
          8000000,
          1500000,
          100000,
          0,
          50000000,
          6000000,
          120000000,
          4000000,
          30000000,
          4000000,
          1500000,
          1000000,
          0,
          0,
          26000000,
          5500000,
          6800000,
          6000000,
          36000000,
          5700000,
          50000000,
          2000000,
          5000000,
          0,
          100000,
          5500000,
          25000000,
          600000,
          4000000,
          1500000,
          70000000,
          60000000,
          6000000,
          0,
          220000,
          2800000,
          2100000,
          7000000,
          311000000,
          4800000,
          1000000,
          1000000,
          20000000,
          693000000,
          5000000,
          50000000,
          33000000,
          250000,
          1550000,
          1550000,
          2000000,
          1550000,
          1600000,
          1550000,
          1550000,
          1550000,
          1550000,
          1550000,
          1550000,
          1550000,
          1550000,
          1550000,
          1550000,
          150000,
          1100000,
          1550000,
          1550000,
          6000000,
          650000,
          1550000,
          1550000,
          1550000,
          1550000,
          2000000,
          2000000,
          2000000,
          1550000,
          1550000,
          1000000,
          1550000,
          650000,
          1000000,
          5000000,
          4000000,
          1550000,
          1000000,
          2800000,
          1550000,
          150000,
          1550000,
          1000000,
          1700000,
          1550000,
          1300000,
          2000000,
          1550000,
          1550000,
          1550000,
          1550000,
          1550000,
          1000000,
          1550000,
          1550000,
          500000,
          5000000,
          1550000,
          1550000,
          13400000,
          1550000,
          500000,
          1550000,
          1550000,
          1550000,
          1550000,
          1550000,
          1550000,
          1550000,
          1550000,
          4000000,
          9000000,
          1550000,
          100000,
          20000,
          1550000,
          1000000,
          1550000,
          4000000,
          250000,
          1550000,
          120000,
          1550000,
          1550000,
          1550000,
          143145,
          1550000,
          1550000,
          1550000,
          742000000,
          1550000,
          1550000,
          3980000,
          1550000,
          10000,
          1550000,
          1550000,
          1550000,
          1550000,
          1550000,
          1000000000,
          7000000,
          1550000,
          35000000,
          1550000,
          28500000,
          1550000,
          2000000,
          1550000,
          1550000,
          1550000,
          1550000,
          1550000,
          2400000,
          30000000,
          1550000,
          23000000,
          1550000,
          150000,
          1550000,
          1550000,
          11000000,
          1550000,
          3240000,
          1550000,
          1550000,
          1550000,
          1550000,
          1550000,
          540000000,
          1550000,
          1550000,
          1550000,
          900000,
          10000000,
          1550000,
          1550000,
          1500000,
          1550000,
          1550000,
          1550000,
          1550000,
          1000000,
          5000000,
          1550000,
          14000000,
          1550000,
          100000000,
          1550000,
          1550000,
          1550000,
          2000000,
          1550000,
          1550000,
          1550000,
          1550000,
          1550000,
          1550000,
          800000,
          1041000,
          100000,
          100000,
          1550000,
          1550000,
          1550000,
          15000,
          500000,
          1400000,
          5000000,
          1200000,
          1550000,
          1550000,
          1000000,
          1550000,
          2200000,
          500000,
          1550000,
          2000000,
          1800000,
          500000,
          1550000,
          150000,
          3600000,
          500000,
          1550000,
          1550000,
          300000,
          500000,
          6830000,
          1400000,
          200000,
          2000000,
          1550000,
          1550000,
          1000000,
          4300000,
          1550000,
          1550000,
          1550000,
          300000,
          1550000,
          364846,
          4000000,
          500000,
          400000,
          1550000,
          1500000,
          1550000,
          120000,
          1550000,
          1550000,
          1550000,
          500000,
          1550000,
          1550000,
          1550000,
          1550000,
          500000,
          1000000,
          1550000,
          1550000,
          1550000,
          13200000,
          1550000,
          1550000,
          1550000,
          500000,
          1000000,
          1550000,
          50000,
          1550000,
          200000,
          1550000,
          3000000,
          400000,
          1100000,
          500000,
          1250000,
          180000,
          1550000,
          1550000,
          1550000,
          1550000,
          1550000,
          1000000,
          1500000,
          2000000,
          1550000,
          4200000,
          175000,
          1550000,
          1550000,
          1550000,
          1300000,
          1550000,
          1450000,
          1550000,
          1550000,
          1000000,
          4500000,
          1000000,
          500000,
          600000,
          250000,
          2000000,
          1550000,
          4500000,
          1550000,
          1550000,
          1000000,
          1550000,
          15000000,
          1550000,
          300000,
          50000,
          1550000,
          1550000,
          1550000,
          1550000,
          1550000,
          1550000,
          1550000,
          1550000,
          125000,
          4000000,
          1000000,
          1550000,
          130000,
          300000,
          1550000,
          1000000,
          2000000,
          1550000,
          250000,
          1550000,
          1550000,
          1550000,
          1550000,
          1550000,
          1550000,
          1550000,
          120000,
          1550000,
          17200000,
          600000,
          1550000,
          1550000,
          1550000,
          1550000,
          100000,
          1000000,
          1550000,
          3500000,
          1550000,
          1550000,
          1550000,
          250000,
          1100000,
          1000000,
          1550000,
          3000000,
          1550000,
          1550000,
          1550000,
          1500000,
          1600000,
          200000,
          12000000,
          1550000,
          1550000,
          1550000,
          1000000,
          1550000,
          1550000,
          3000000,
          1550000,
          1550000,
          1550000,
          1550000,
          4200000,
          1550000,
          1550000,
          1550000,
          1550000,
          1550000,
          1550000,
          1550000,
          10000000,
          1550000,
          40000000,
          1550000,
          1100000,
          50000000,
          1500000,
          1550000,
          1550000,
          3000000,
          1550000,
          100000000,
          1500000,
          6000000,
          1550000,
          1550000,
          3000000,
          1550000,
          100000,
          1550000,
          41900000,
          11000000,
          1550000,
          100000000,
          1550000,
          1550000,
          3530000,
          1550000,
          200000,
          3300000,
          1550000,
          1000000,
          1550000,
          1550000,
          1550000,
          2000000,
          100000,
          6000000,
          1550000,
          1550000,
          210000000,
          1550000,
          1550000,
          11000000,
          1550000,
          1550000,
          1550000,
          5000000,
          37680000,
          1550000,
          50000000,
          1000000,
          250000,
          1550000,
          20000,
          900000,
          1550000,
          1550000,
          1550000,
          5000000,
          1550000,
          1550000,
          1550000,
          1550000,
          5000000,
          1000000,
          22000000,
          1550000,
          70000,
          1550000,
          10000000,
          1550000,
          1550000,
          1550000,
          1000000,
          1550000,
          185000000,
          1550000,
          1550000,
          1550000,
          1550000,
          1550000,
          1550000,
          1550000,
          1000000,
          65000000,
          2000000,
          1550000,
          1550000,
          1550000,
          1550000,
          700000,
          30000000,
          1550000,
          1550000,
          210000000,
          4000000,
          1550000,
          1550000,
          1550000,
          75000000,
          1550000,
          30000000,
          1550000,
          1760000,
          2700000,
          400000,
          1550000,
          1550000,
          750000,
          2500000,
          1550000,
          1550000,
          80000000,
          25000000,
          1550000,
          1550000,
          3000000,
          1550000,
          3500000,
          1550000,
          1550000,
          1100000,
          3700000,
          1300000,
          1550000,
          5600000,
          1550000,
          1550000,
          1550000,
          1550000,
          1550000,
          1550000,
          99230000,
          1000000,
          70000000,
          1000000,
          2000000,
          1550000,
          1550000,
          40000,
          550000,
          1550000,
          50000000,
          50000000,
          365000000,
          1550000,
          1550000,
          1500000,
          30000000,
          5000000,
          1550000,
          4000000,
          1550000,
          28000000,
          15000000,
          1550000,
          5000000,
          1550000,
          1550000,
          1550000,
          1550000,
          100000000,
          1550000,
          1550000,
          1550000,
          1550000,
          1550000,
          1550000,
          1550000,
          6000000,
          14900000,
          225000000,
          1550000,
          7500,
          1550000,
          35000000
         ],
         "yaxis": "y"
        }
       ],
       "layout": {
        "legend": {
         "tracegroupgap": 0
        },
        "margin": {
         "t": 60
        },
        "template": {
         "data": {
          "bar": [
           {
            "error_x": {
             "color": "#2a3f5f"
            },
            "error_y": {
             "color": "#2a3f5f"
            },
            "marker": {
             "line": {
              "color": "#E5ECF6",
              "width": 0.5
             },
             "pattern": {
              "fillmode": "overlay",
              "size": 10,
              "solidity": 0.2
             }
            },
            "type": "bar"
           }
          ],
          "barpolar": [
           {
            "marker": {
             "line": {
              "color": "#E5ECF6",
              "width": 0.5
             },
             "pattern": {
              "fillmode": "overlay",
              "size": 10,
              "solidity": 0.2
             }
            },
            "type": "barpolar"
           }
          ],
          "carpet": [
           {
            "aaxis": {
             "endlinecolor": "#2a3f5f",
             "gridcolor": "white",
             "linecolor": "white",
             "minorgridcolor": "white",
             "startlinecolor": "#2a3f5f"
            },
            "baxis": {
             "endlinecolor": "#2a3f5f",
             "gridcolor": "white",
             "linecolor": "white",
             "minorgridcolor": "white",
             "startlinecolor": "#2a3f5f"
            },
            "type": "carpet"
           }
          ],
          "choropleth": [
           {
            "colorbar": {
             "outlinewidth": 0,
             "ticks": ""
            },
            "type": "choropleth"
           }
          ],
          "contour": [
           {
            "colorbar": {
             "outlinewidth": 0,
             "ticks": ""
            },
            "colorscale": [
             [
              0,
              "#0d0887"
             ],
             [
              0.1111111111111111,
              "#46039f"
             ],
             [
              0.2222222222222222,
              "#7201a8"
             ],
             [
              0.3333333333333333,
              "#9c179e"
             ],
             [
              0.4444444444444444,
              "#bd3786"
             ],
             [
              0.5555555555555556,
              "#d8576b"
             ],
             [
              0.6666666666666666,
              "#ed7953"
             ],
             [
              0.7777777777777778,
              "#fb9f3a"
             ],
             [
              0.8888888888888888,
              "#fdca26"
             ],
             [
              1,
              "#f0f921"
             ]
            ],
            "type": "contour"
           }
          ],
          "contourcarpet": [
           {
            "colorbar": {
             "outlinewidth": 0,
             "ticks": ""
            },
            "type": "contourcarpet"
           }
          ],
          "heatmap": [
           {
            "colorbar": {
             "outlinewidth": 0,
             "ticks": ""
            },
            "colorscale": [
             [
              0,
              "#0d0887"
             ],
             [
              0.1111111111111111,
              "#46039f"
             ],
             [
              0.2222222222222222,
              "#7201a8"
             ],
             [
              0.3333333333333333,
              "#9c179e"
             ],
             [
              0.4444444444444444,
              "#bd3786"
             ],
             [
              0.5555555555555556,
              "#d8576b"
             ],
             [
              0.6666666666666666,
              "#ed7953"
             ],
             [
              0.7777777777777778,
              "#fb9f3a"
             ],
             [
              0.8888888888888888,
              "#fdca26"
             ],
             [
              1,
              "#f0f921"
             ]
            ],
            "type": "heatmap"
           }
          ],
          "heatmapgl": [
           {
            "colorbar": {
             "outlinewidth": 0,
             "ticks": ""
            },
            "colorscale": [
             [
              0,
              "#0d0887"
             ],
             [
              0.1111111111111111,
              "#46039f"
             ],
             [
              0.2222222222222222,
              "#7201a8"
             ],
             [
              0.3333333333333333,
              "#9c179e"
             ],
             [
              0.4444444444444444,
              "#bd3786"
             ],
             [
              0.5555555555555556,
              "#d8576b"
             ],
             [
              0.6666666666666666,
              "#ed7953"
             ],
             [
              0.7777777777777778,
              "#fb9f3a"
             ],
             [
              0.8888888888888888,
              "#fdca26"
             ],
             [
              1,
              "#f0f921"
             ]
            ],
            "type": "heatmapgl"
           }
          ],
          "histogram": [
           {
            "marker": {
             "pattern": {
              "fillmode": "overlay",
              "size": 10,
              "solidity": 0.2
             }
            },
            "type": "histogram"
           }
          ],
          "histogram2d": [
           {
            "colorbar": {
             "outlinewidth": 0,
             "ticks": ""
            },
            "colorscale": [
             [
              0,
              "#0d0887"
             ],
             [
              0.1111111111111111,
              "#46039f"
             ],
             [
              0.2222222222222222,
              "#7201a8"
             ],
             [
              0.3333333333333333,
              "#9c179e"
             ],
             [
              0.4444444444444444,
              "#bd3786"
             ],
             [
              0.5555555555555556,
              "#d8576b"
             ],
             [
              0.6666666666666666,
              "#ed7953"
             ],
             [
              0.7777777777777778,
              "#fb9f3a"
             ],
             [
              0.8888888888888888,
              "#fdca26"
             ],
             [
              1,
              "#f0f921"
             ]
            ],
            "type": "histogram2d"
           }
          ],
          "histogram2dcontour": [
           {
            "colorbar": {
             "outlinewidth": 0,
             "ticks": ""
            },
            "colorscale": [
             [
              0,
              "#0d0887"
             ],
             [
              0.1111111111111111,
              "#46039f"
             ],
             [
              0.2222222222222222,
              "#7201a8"
             ],
             [
              0.3333333333333333,
              "#9c179e"
             ],
             [
              0.4444444444444444,
              "#bd3786"
             ],
             [
              0.5555555555555556,
              "#d8576b"
             ],
             [
              0.6666666666666666,
              "#ed7953"
             ],
             [
              0.7777777777777778,
              "#fb9f3a"
             ],
             [
              0.8888888888888888,
              "#fdca26"
             ],
             [
              1,
              "#f0f921"
             ]
            ],
            "type": "histogram2dcontour"
           }
          ],
          "mesh3d": [
           {
            "colorbar": {
             "outlinewidth": 0,
             "ticks": ""
            },
            "type": "mesh3d"
           }
          ],
          "parcoords": [
           {
            "line": {
             "colorbar": {
              "outlinewidth": 0,
              "ticks": ""
             }
            },
            "type": "parcoords"
           }
          ],
          "pie": [
           {
            "automargin": true,
            "type": "pie"
           }
          ],
          "scatter": [
           {
            "fillpattern": {
             "fillmode": "overlay",
             "size": 10,
             "solidity": 0.2
            },
            "type": "scatter"
           }
          ],
          "scatter3d": [
           {
            "line": {
             "colorbar": {
              "outlinewidth": 0,
              "ticks": ""
             }
            },
            "marker": {
             "colorbar": {
              "outlinewidth": 0,
              "ticks": ""
             }
            },
            "type": "scatter3d"
           }
          ],
          "scattercarpet": [
           {
            "marker": {
             "colorbar": {
              "outlinewidth": 0,
              "ticks": ""
             }
            },
            "type": "scattercarpet"
           }
          ],
          "scattergeo": [
           {
            "marker": {
             "colorbar": {
              "outlinewidth": 0,
              "ticks": ""
             }
            },
            "type": "scattergeo"
           }
          ],
          "scattergl": [
           {
            "marker": {
             "colorbar": {
              "outlinewidth": 0,
              "ticks": ""
             }
            },
            "type": "scattergl"
           }
          ],
          "scattermapbox": [
           {
            "marker": {
             "colorbar": {
              "outlinewidth": 0,
              "ticks": ""
             }
            },
            "type": "scattermapbox"
           }
          ],
          "scatterpolar": [
           {
            "marker": {
             "colorbar": {
              "outlinewidth": 0,
              "ticks": ""
             }
            },
            "type": "scatterpolar"
           }
          ],
          "scatterpolargl": [
           {
            "marker": {
             "colorbar": {
              "outlinewidth": 0,
              "ticks": ""
             }
            },
            "type": "scatterpolargl"
           }
          ],
          "scatterternary": [
           {
            "marker": {
             "colorbar": {
              "outlinewidth": 0,
              "ticks": ""
             }
            },
            "type": "scatterternary"
           }
          ],
          "surface": [
           {
            "colorbar": {
             "outlinewidth": 0,
             "ticks": ""
            },
            "colorscale": [
             [
              0,
              "#0d0887"
             ],
             [
              0.1111111111111111,
              "#46039f"
             ],
             [
              0.2222222222222222,
              "#7201a8"
             ],
             [
              0.3333333333333333,
              "#9c179e"
             ],
             [
              0.4444444444444444,
              "#bd3786"
             ],
             [
              0.5555555555555556,
              "#d8576b"
             ],
             [
              0.6666666666666666,
              "#ed7953"
             ],
             [
              0.7777777777777778,
              "#fb9f3a"
             ],
             [
              0.8888888888888888,
              "#fdca26"
             ],
             [
              1,
              "#f0f921"
             ]
            ],
            "type": "surface"
           }
          ],
          "table": [
           {
            "cells": {
             "fill": {
              "color": "#EBF0F8"
             },
             "line": {
              "color": "white"
             }
            },
            "header": {
             "fill": {
              "color": "#C8D4E3"
             },
             "line": {
              "color": "white"
             }
            },
            "type": "table"
           }
          ]
         },
         "layout": {
          "annotationdefaults": {
           "arrowcolor": "#2a3f5f",
           "arrowhead": 0,
           "arrowwidth": 1
          },
          "autotypenumbers": "strict",
          "coloraxis": {
           "colorbar": {
            "outlinewidth": 0,
            "ticks": ""
           }
          },
          "colorscale": {
           "diverging": [
            [
             0,
             "#8e0152"
            ],
            [
             0.1,
             "#c51b7d"
            ],
            [
             0.2,
             "#de77ae"
            ],
            [
             0.3,
             "#f1b6da"
            ],
            [
             0.4,
             "#fde0ef"
            ],
            [
             0.5,
             "#f7f7f7"
            ],
            [
             0.6,
             "#e6f5d0"
            ],
            [
             0.7,
             "#b8e186"
            ],
            [
             0.8,
             "#7fbc41"
            ],
            [
             0.9,
             "#4d9221"
            ],
            [
             1,
             "#276419"
            ]
           ],
           "sequential": [
            [
             0,
             "#0d0887"
            ],
            [
             0.1111111111111111,
             "#46039f"
            ],
            [
             0.2222222222222222,
             "#7201a8"
            ],
            [
             0.3333333333333333,
             "#9c179e"
            ],
            [
             0.4444444444444444,
             "#bd3786"
            ],
            [
             0.5555555555555556,
             "#d8576b"
            ],
            [
             0.6666666666666666,
             "#ed7953"
            ],
            [
             0.7777777777777778,
             "#fb9f3a"
            ],
            [
             0.8888888888888888,
             "#fdca26"
            ],
            [
             1,
             "#f0f921"
            ]
           ],
           "sequentialminus": [
            [
             0,
             "#0d0887"
            ],
            [
             0.1111111111111111,
             "#46039f"
            ],
            [
             0.2222222222222222,
             "#7201a8"
            ],
            [
             0.3333333333333333,
             "#9c179e"
            ],
            [
             0.4444444444444444,
             "#bd3786"
            ],
            [
             0.5555555555555556,
             "#d8576b"
            ],
            [
             0.6666666666666666,
             "#ed7953"
            ],
            [
             0.7777777777777778,
             "#fb9f3a"
            ],
            [
             0.8888888888888888,
             "#fdca26"
            ],
            [
             1,
             "#f0f921"
            ]
           ]
          },
          "colorway": [
           "#636efa",
           "#EF553B",
           "#00cc96",
           "#ab63fa",
           "#FFA15A",
           "#19d3f3",
           "#FF6692",
           "#B6E880",
           "#FF97FF",
           "#FECB52"
          ],
          "font": {
           "color": "#2a3f5f"
          },
          "geo": {
           "bgcolor": "white",
           "lakecolor": "white",
           "landcolor": "#E5ECF6",
           "showlakes": true,
           "showland": true,
           "subunitcolor": "white"
          },
          "hoverlabel": {
           "align": "left"
          },
          "hovermode": "closest",
          "mapbox": {
           "style": "light"
          },
          "paper_bgcolor": "white",
          "plot_bgcolor": "#E5ECF6",
          "polar": {
           "angularaxis": {
            "gridcolor": "white",
            "linecolor": "white",
            "ticks": ""
           },
           "bgcolor": "#E5ECF6",
           "radialaxis": {
            "gridcolor": "white",
            "linecolor": "white",
            "ticks": ""
           }
          },
          "scene": {
           "xaxis": {
            "backgroundcolor": "#E5ECF6",
            "gridcolor": "white",
            "gridwidth": 2,
            "linecolor": "white",
            "showbackground": true,
            "ticks": "",
            "zerolinecolor": "white"
           },
           "yaxis": {
            "backgroundcolor": "#E5ECF6",
            "gridcolor": "white",
            "gridwidth": 2,
            "linecolor": "white",
            "showbackground": true,
            "ticks": "",
            "zerolinecolor": "white"
           },
           "zaxis": {
            "backgroundcolor": "#E5ECF6",
            "gridcolor": "white",
            "gridwidth": 2,
            "linecolor": "white",
            "showbackground": true,
            "ticks": "",
            "zerolinecolor": "white"
           }
          },
          "shapedefaults": {
           "line": {
            "color": "#2a3f5f"
           }
          },
          "ternary": {
           "aaxis": {
            "gridcolor": "white",
            "linecolor": "white",
            "ticks": ""
           },
           "baxis": {
            "gridcolor": "white",
            "linecolor": "white",
            "ticks": ""
           },
           "bgcolor": "#E5ECF6",
           "caxis": {
            "gridcolor": "white",
            "linecolor": "white",
            "ticks": ""
           }
          },
          "title": {
           "x": 0.05
          },
          "xaxis": {
           "automargin": true,
           "gridcolor": "white",
           "linecolor": "white",
           "ticks": "",
           "title": {
            "standoff": 15
           },
           "zerolinecolor": "white",
           "zerolinewidth": 2
          },
          "yaxis": {
           "automargin": true,
           "gridcolor": "white",
           "linecolor": "white",
           "ticks": "",
           "title": {
            "standoff": 15
           },
           "zerolinecolor": "white",
           "zerolinewidth": 2
          }
         }
        },
        "title": {
         "text": "Total Funding Amount Trend (2018-2021)"
        },
        "xaxis": {
         "anchor": "y",
         "domain": [
          0,
          1
         ],
         "title": {
          "text": "Year"
         }
        },
        "yaxis": {
         "anchor": "x",
         "domain": [
          0,
          1
         ],
         "title": {
          "text": "Total_funding"
         }
        }
       }
      }
     },
     "metadata": {},
     "output_type": "display_data"
    }
   ],
   "source": [
    "# Create the line plot\n",
    "fig = px.line(df_combined, x='Year', y='Amount', markers=True)\n",
    "\n",
    "# Set axis labels and title\n",
    "fig.update_layout(\n",
    "    xaxis_title='Year',\n",
    "    yaxis_title='Total_funding',\n",
    "    title='Total Funding Amount Trend (2018-2021)'\n",
    ")\n",
    "\n",
    "# Show the plot\n",
    "fig.show()"
   ]
  },
  {
   "cell_type": "code",
   "execution_count": 156,
   "metadata": {},
   "outputs": [
    {
     "data": {
      "text/html": [
       "<div>\n",
       "<style scoped>\n",
       "    .dataframe tbody tr th:only-of-type {\n",
       "        vertical-align: middle;\n",
       "    }\n",
       "\n",
       "    .dataframe tbody tr th {\n",
       "        vertical-align: top;\n",
       "    }\n",
       "\n",
       "    .dataframe thead th {\n",
       "        text-align: right;\n",
       "    }\n",
       "</style>\n",
       "<table border=\"1\" class=\"dataframe\">\n",
       "  <thead>\n",
       "    <tr style=\"text-align: right;\">\n",
       "      <th></th>\n",
       "      <th>Sector</th>\n",
       "      <th>Year</th>\n",
       "      <th>Amount</th>\n",
       "    </tr>\n",
       "  </thead>\n",
       "  <tbody>\n",
       "    <tr>\n",
       "      <th>586</th>\n",
       "      <td>Retail</td>\n",
       "      <td>2020-01-01</td>\n",
       "      <td>1.170657e+10</td>\n",
       "    </tr>\n",
       "    <tr>\n",
       "      <th>525</th>\n",
       "      <td>Multinational Conglomerate Company</td>\n",
       "      <td>2020-01-01</td>\n",
       "      <td>2.200000e+09</td>\n",
       "    </tr>\n",
       "    <tr>\n",
       "      <th>323</th>\n",
       "      <td>Fintech</td>\n",
       "      <td>2021-01-01</td>\n",
       "      <td>1.315832e+09</td>\n",
       "    </tr>\n",
       "    <tr>\n",
       "      <th>345</th>\n",
       "      <td>Food Delivery</td>\n",
       "      <td>2021-01-01</td>\n",
       "      <td>8.000000e+08</td>\n",
       "    </tr>\n",
       "    <tr>\n",
       "      <th>403</th>\n",
       "      <td>Hospitality</td>\n",
       "      <td>2019-01-01</td>\n",
       "      <td>6.930000e+08</td>\n",
       "    </tr>\n",
       "    <tr>\n",
       "      <th>...</th>\n",
       "      <td>...</td>\n",
       "      <td>...</td>\n",
       "      <td>...</td>\n",
       "    </tr>\n",
       "    <tr>\n",
       "      <th>248</th>\n",
       "      <td>E-Commerce &amp; Ar</td>\n",
       "      <td>2019-01-01</td>\n",
       "      <td>0.000000e+00</td>\n",
       "    </tr>\n",
       "    <tr>\n",
       "      <th>373</th>\n",
       "      <td>Health</td>\n",
       "      <td>2019-01-01</td>\n",
       "      <td>0.000000e+00</td>\n",
       "    </tr>\n",
       "    <tr>\n",
       "      <th>353</th>\n",
       "      <td>Food Tech</td>\n",
       "      <td>2019-01-01</td>\n",
       "      <td>0.000000e+00</td>\n",
       "    </tr>\n",
       "    <tr>\n",
       "      <th>640</th>\n",
       "      <td>Sports</td>\n",
       "      <td>2019-01-01</td>\n",
       "      <td>0.000000e+00</td>\n",
       "    </tr>\n",
       "    <tr>\n",
       "      <th>364</th>\n",
       "      <td>Games</td>\n",
       "      <td>2019-01-01</td>\n",
       "      <td>0.000000e+00</td>\n",
       "    </tr>\n",
       "  </tbody>\n",
       "</table>\n",
       "<p>718 rows × 3 columns</p>\n",
       "</div>"
      ],
      "text/plain": [
       "                                 Sector       Year        Amount\n",
       "586                              Retail 2020-01-01  1.170657e+10\n",
       "525  Multinational Conglomerate Company 2020-01-01  2.200000e+09\n",
       "323                             Fintech 2021-01-01  1.315832e+09\n",
       "345                       Food Delivery 2021-01-01  8.000000e+08\n",
       "403                         Hospitality 2019-01-01  6.930000e+08\n",
       "..                                  ...        ...           ...\n",
       "248                     E-Commerce & Ar 2019-01-01  0.000000e+00\n",
       "373                              Health 2019-01-01  0.000000e+00\n",
       "353                           Food Tech 2019-01-01  0.000000e+00\n",
       "640                              Sports 2019-01-01  0.000000e+00\n",
       "364                               Games 2019-01-01  0.000000e+00\n",
       "\n",
       "[718 rows x 3 columns]"
      ]
     },
     "execution_count": 156,
     "metadata": {},
     "output_type": "execute_result"
    }
   ],
   "source": [
    "# HoW has the average funding amount in each Sector changed over the years \n",
    "\n",
    "# The data to include years 2018 to 2021\n",
    "Year = df_combined['Year']\n",
    "\n",
    "# Group the data by 'Sector' and 'Year', and calculate the mean 'Amount'\n",
    "average_funding = df_combined.groupby(['Sector', 'Year'])['Amount'].mean().reset_index()\n",
    "\n",
    "# Sort the DataFrame in descending order based on 'Amount'\n",
    "average_funding = average_funding.sort_values('Amount', ascending=False)\n",
    "\n",
    "average_funding"
   ]
  },
  {
   "cell_type": "code",
   "execution_count": 157,
   "metadata": {},
   "outputs": [
    {
     "data": {
      "application/vnd.plotly.v1+json": {
       "config": {
        "plotlyServerURL": "https://plot.ly"
       },
       "data": [
        {
         "hovertemplate": "Sector=Retail<br>Year=%{x}<br>Amount=%{y}<extra></extra>",
         "legendgroup": "Retail",
         "line": {
          "color": "#636efa",
          "dash": "solid"
         },
         "marker": {
          "symbol": "circle"
         },
         "mode": "lines",
         "name": "Retail",
         "orientation": "v",
         "showlegend": true,
         "type": "scatter",
         "x": [
          "2020-01-01T00:00:00",
          "2018-01-01T00:00:00",
          "2021-01-01T00:00:00"
         ],
         "xaxis": "x",
         "y": [
          11706566666.666666,
          19615000,
          14933333.333333334
         ],
         "yaxis": "y"
        },
        {
         "hovertemplate": "Sector=Multinational Conglomerate Company<br>Year=%{x}<br>Amount=%{y}<extra></extra>",
         "legendgroup": "Multinational Conglomerate Company",
         "line": {
          "color": "#EF553B",
          "dash": "solid"
         },
         "marker": {
          "symbol": "circle"
         },
         "mode": "lines",
         "name": "Multinational Conglomerate Company",
         "orientation": "v",
         "showlegend": true,
         "type": "scatter",
         "x": [
          "2020-01-01T00:00:00"
         ],
         "xaxis": "x",
         "y": [
          2200000000
         ],
         "yaxis": "y"
        },
        {
         "hovertemplate": "Sector=Food Delivery<br>Year=%{x}<br>Amount=%{y}<extra></extra>",
         "legendgroup": "Food Delivery",
         "line": {
          "color": "#00cc96",
          "dash": "solid"
         },
         "marker": {
          "symbol": "circle"
         },
         "mode": "lines",
         "name": "Food Delivery",
         "orientation": "v",
         "showlegend": true,
         "type": "scatter",
         "x": [
          "2021-01-01T00:00:00",
          "2020-01-01T00:00:00",
          "2018-01-01T00:00:00"
         ],
         "xaxis": "x",
         "y": [
          800000000,
          660000000,
          243060000
         ],
         "yaxis": "y"
        },
        {
         "hovertemplate": "Sector=Innovation Management<br>Year=%{x}<br>Amount=%{y}<extra></extra>",
         "legendgroup": "Innovation Management",
         "line": {
          "color": "#ab63fa",
          "dash": "solid"
         },
         "marker": {
          "symbol": "circle"
         },
         "mode": "lines",
         "name": "Innovation Management",
         "orientation": "v",
         "showlegend": true,
         "type": "scatter",
         "x": [
          "2021-01-01T00:00:00"
         ],
         "xaxis": "x",
         "y": [
          500250000
         ],
         "yaxis": "y"
        },
        {
         "hovertemplate": "Sector=Renewable Player<br>Year=%{x}<br>Amount=%{y}<extra></extra>",
         "legendgroup": "Renewable Player",
         "line": {
          "color": "#FFA15A",
          "dash": "solid"
         },
         "marker": {
          "symbol": "circle"
         },
         "mode": "lines",
         "name": "Renewable Player",
         "orientation": "v",
         "showlegend": true,
         "type": "scatter",
         "x": [
          "2020-01-01T00:00:00"
         ],
         "xaxis": "x",
         "y": [
          390000000
         ],
         "yaxis": "y"
        }
       ],
       "layout": {
        "font": {
         "size": 14
        },
        "legend": {
         "orientation": "h",
         "title": {
          "text": "Sector"
         },
         "tracegroupgap": 0,
         "x": 1,
         "xanchor": "right",
         "y": 1.02,
         "yanchor": "bottom"
        },
        "template": {
         "data": {
          "bar": [
           {
            "error_x": {
             "color": "#2a3f5f"
            },
            "error_y": {
             "color": "#2a3f5f"
            },
            "marker": {
             "line": {
              "color": "#E5ECF6",
              "width": 0.5
             },
             "pattern": {
              "fillmode": "overlay",
              "size": 10,
              "solidity": 0.2
             }
            },
            "type": "bar"
           }
          ],
          "barpolar": [
           {
            "marker": {
             "line": {
              "color": "#E5ECF6",
              "width": 0.5
             },
             "pattern": {
              "fillmode": "overlay",
              "size": 10,
              "solidity": 0.2
             }
            },
            "type": "barpolar"
           }
          ],
          "carpet": [
           {
            "aaxis": {
             "endlinecolor": "#2a3f5f",
             "gridcolor": "white",
             "linecolor": "white",
             "minorgridcolor": "white",
             "startlinecolor": "#2a3f5f"
            },
            "baxis": {
             "endlinecolor": "#2a3f5f",
             "gridcolor": "white",
             "linecolor": "white",
             "minorgridcolor": "white",
             "startlinecolor": "#2a3f5f"
            },
            "type": "carpet"
           }
          ],
          "choropleth": [
           {
            "colorbar": {
             "outlinewidth": 0,
             "ticks": ""
            },
            "type": "choropleth"
           }
          ],
          "contour": [
           {
            "colorbar": {
             "outlinewidth": 0,
             "ticks": ""
            },
            "colorscale": [
             [
              0,
              "#0d0887"
             ],
             [
              0.1111111111111111,
              "#46039f"
             ],
             [
              0.2222222222222222,
              "#7201a8"
             ],
             [
              0.3333333333333333,
              "#9c179e"
             ],
             [
              0.4444444444444444,
              "#bd3786"
             ],
             [
              0.5555555555555556,
              "#d8576b"
             ],
             [
              0.6666666666666666,
              "#ed7953"
             ],
             [
              0.7777777777777778,
              "#fb9f3a"
             ],
             [
              0.8888888888888888,
              "#fdca26"
             ],
             [
              1,
              "#f0f921"
             ]
            ],
            "type": "contour"
           }
          ],
          "contourcarpet": [
           {
            "colorbar": {
             "outlinewidth": 0,
             "ticks": ""
            },
            "type": "contourcarpet"
           }
          ],
          "heatmap": [
           {
            "colorbar": {
             "outlinewidth": 0,
             "ticks": ""
            },
            "colorscale": [
             [
              0,
              "#0d0887"
             ],
             [
              0.1111111111111111,
              "#46039f"
             ],
             [
              0.2222222222222222,
              "#7201a8"
             ],
             [
              0.3333333333333333,
              "#9c179e"
             ],
             [
              0.4444444444444444,
              "#bd3786"
             ],
             [
              0.5555555555555556,
              "#d8576b"
             ],
             [
              0.6666666666666666,
              "#ed7953"
             ],
             [
              0.7777777777777778,
              "#fb9f3a"
             ],
             [
              0.8888888888888888,
              "#fdca26"
             ],
             [
              1,
              "#f0f921"
             ]
            ],
            "type": "heatmap"
           }
          ],
          "heatmapgl": [
           {
            "colorbar": {
             "outlinewidth": 0,
             "ticks": ""
            },
            "colorscale": [
             [
              0,
              "#0d0887"
             ],
             [
              0.1111111111111111,
              "#46039f"
             ],
             [
              0.2222222222222222,
              "#7201a8"
             ],
             [
              0.3333333333333333,
              "#9c179e"
             ],
             [
              0.4444444444444444,
              "#bd3786"
             ],
             [
              0.5555555555555556,
              "#d8576b"
             ],
             [
              0.6666666666666666,
              "#ed7953"
             ],
             [
              0.7777777777777778,
              "#fb9f3a"
             ],
             [
              0.8888888888888888,
              "#fdca26"
             ],
             [
              1,
              "#f0f921"
             ]
            ],
            "type": "heatmapgl"
           }
          ],
          "histogram": [
           {
            "marker": {
             "pattern": {
              "fillmode": "overlay",
              "size": 10,
              "solidity": 0.2
             }
            },
            "type": "histogram"
           }
          ],
          "histogram2d": [
           {
            "colorbar": {
             "outlinewidth": 0,
             "ticks": ""
            },
            "colorscale": [
             [
              0,
              "#0d0887"
             ],
             [
              0.1111111111111111,
              "#46039f"
             ],
             [
              0.2222222222222222,
              "#7201a8"
             ],
             [
              0.3333333333333333,
              "#9c179e"
             ],
             [
              0.4444444444444444,
              "#bd3786"
             ],
             [
              0.5555555555555556,
              "#d8576b"
             ],
             [
              0.6666666666666666,
              "#ed7953"
             ],
             [
              0.7777777777777778,
              "#fb9f3a"
             ],
             [
              0.8888888888888888,
              "#fdca26"
             ],
             [
              1,
              "#f0f921"
             ]
            ],
            "type": "histogram2d"
           }
          ],
          "histogram2dcontour": [
           {
            "colorbar": {
             "outlinewidth": 0,
             "ticks": ""
            },
            "colorscale": [
             [
              0,
              "#0d0887"
             ],
             [
              0.1111111111111111,
              "#46039f"
             ],
             [
              0.2222222222222222,
              "#7201a8"
             ],
             [
              0.3333333333333333,
              "#9c179e"
             ],
             [
              0.4444444444444444,
              "#bd3786"
             ],
             [
              0.5555555555555556,
              "#d8576b"
             ],
             [
              0.6666666666666666,
              "#ed7953"
             ],
             [
              0.7777777777777778,
              "#fb9f3a"
             ],
             [
              0.8888888888888888,
              "#fdca26"
             ],
             [
              1,
              "#f0f921"
             ]
            ],
            "type": "histogram2dcontour"
           }
          ],
          "mesh3d": [
           {
            "colorbar": {
             "outlinewidth": 0,
             "ticks": ""
            },
            "type": "mesh3d"
           }
          ],
          "parcoords": [
           {
            "line": {
             "colorbar": {
              "outlinewidth": 0,
              "ticks": ""
             }
            },
            "type": "parcoords"
           }
          ],
          "pie": [
           {
            "automargin": true,
            "type": "pie"
           }
          ],
          "scatter": [
           {
            "fillpattern": {
             "fillmode": "overlay",
             "size": 10,
             "solidity": 0.2
            },
            "type": "scatter"
           }
          ],
          "scatter3d": [
           {
            "line": {
             "colorbar": {
              "outlinewidth": 0,
              "ticks": ""
             }
            },
            "marker": {
             "colorbar": {
              "outlinewidth": 0,
              "ticks": ""
             }
            },
            "type": "scatter3d"
           }
          ],
          "scattercarpet": [
           {
            "marker": {
             "colorbar": {
              "outlinewidth": 0,
              "ticks": ""
             }
            },
            "type": "scattercarpet"
           }
          ],
          "scattergeo": [
           {
            "marker": {
             "colorbar": {
              "outlinewidth": 0,
              "ticks": ""
             }
            },
            "type": "scattergeo"
           }
          ],
          "scattergl": [
           {
            "marker": {
             "colorbar": {
              "outlinewidth": 0,
              "ticks": ""
             }
            },
            "type": "scattergl"
           }
          ],
          "scattermapbox": [
           {
            "marker": {
             "colorbar": {
              "outlinewidth": 0,
              "ticks": ""
             }
            },
            "type": "scattermapbox"
           }
          ],
          "scatterpolar": [
           {
            "marker": {
             "colorbar": {
              "outlinewidth": 0,
              "ticks": ""
             }
            },
            "type": "scatterpolar"
           }
          ],
          "scatterpolargl": [
           {
            "marker": {
             "colorbar": {
              "outlinewidth": 0,
              "ticks": ""
             }
            },
            "type": "scatterpolargl"
           }
          ],
          "scatterternary": [
           {
            "marker": {
             "colorbar": {
              "outlinewidth": 0,
              "ticks": ""
             }
            },
            "type": "scatterternary"
           }
          ],
          "surface": [
           {
            "colorbar": {
             "outlinewidth": 0,
             "ticks": ""
            },
            "colorscale": [
             [
              0,
              "#0d0887"
             ],
             [
              0.1111111111111111,
              "#46039f"
             ],
             [
              0.2222222222222222,
              "#7201a8"
             ],
             [
              0.3333333333333333,
              "#9c179e"
             ],
             [
              0.4444444444444444,
              "#bd3786"
             ],
             [
              0.5555555555555556,
              "#d8576b"
             ],
             [
              0.6666666666666666,
              "#ed7953"
             ],
             [
              0.7777777777777778,
              "#fb9f3a"
             ],
             [
              0.8888888888888888,
              "#fdca26"
             ],
             [
              1,
              "#f0f921"
             ]
            ],
            "type": "surface"
           }
          ],
          "table": [
           {
            "cells": {
             "fill": {
              "color": "#EBF0F8"
             },
             "line": {
              "color": "white"
             }
            },
            "header": {
             "fill": {
              "color": "#C8D4E3"
             },
             "line": {
              "color": "white"
             }
            },
            "type": "table"
           }
          ]
         },
         "layout": {
          "annotationdefaults": {
           "arrowcolor": "#2a3f5f",
           "arrowhead": 0,
           "arrowwidth": 1
          },
          "autotypenumbers": "strict",
          "coloraxis": {
           "colorbar": {
            "outlinewidth": 0,
            "ticks": ""
           }
          },
          "colorscale": {
           "diverging": [
            [
             0,
             "#8e0152"
            ],
            [
             0.1,
             "#c51b7d"
            ],
            [
             0.2,
             "#de77ae"
            ],
            [
             0.3,
             "#f1b6da"
            ],
            [
             0.4,
             "#fde0ef"
            ],
            [
             0.5,
             "#f7f7f7"
            ],
            [
             0.6,
             "#e6f5d0"
            ],
            [
             0.7,
             "#b8e186"
            ],
            [
             0.8,
             "#7fbc41"
            ],
            [
             0.9,
             "#4d9221"
            ],
            [
             1,
             "#276419"
            ]
           ],
           "sequential": [
            [
             0,
             "#0d0887"
            ],
            [
             0.1111111111111111,
             "#46039f"
            ],
            [
             0.2222222222222222,
             "#7201a8"
            ],
            [
             0.3333333333333333,
             "#9c179e"
            ],
            [
             0.4444444444444444,
             "#bd3786"
            ],
            [
             0.5555555555555556,
             "#d8576b"
            ],
            [
             0.6666666666666666,
             "#ed7953"
            ],
            [
             0.7777777777777778,
             "#fb9f3a"
            ],
            [
             0.8888888888888888,
             "#fdca26"
            ],
            [
             1,
             "#f0f921"
            ]
           ],
           "sequentialminus": [
            [
             0,
             "#0d0887"
            ],
            [
             0.1111111111111111,
             "#46039f"
            ],
            [
             0.2222222222222222,
             "#7201a8"
            ],
            [
             0.3333333333333333,
             "#9c179e"
            ],
            [
             0.4444444444444444,
             "#bd3786"
            ],
            [
             0.5555555555555556,
             "#d8576b"
            ],
            [
             0.6666666666666666,
             "#ed7953"
            ],
            [
             0.7777777777777778,
             "#fb9f3a"
            ],
            [
             0.8888888888888888,
             "#fdca26"
            ],
            [
             1,
             "#f0f921"
            ]
           ]
          },
          "colorway": [
           "#636efa",
           "#EF553B",
           "#00cc96",
           "#ab63fa",
           "#FFA15A",
           "#19d3f3",
           "#FF6692",
           "#B6E880",
           "#FF97FF",
           "#FECB52"
          ],
          "font": {
           "color": "#2a3f5f"
          },
          "geo": {
           "bgcolor": "white",
           "lakecolor": "white",
           "landcolor": "#E5ECF6",
           "showlakes": true,
           "showland": true,
           "subunitcolor": "white"
          },
          "hoverlabel": {
           "align": "left"
          },
          "hovermode": "closest",
          "mapbox": {
           "style": "light"
          },
          "paper_bgcolor": "white",
          "plot_bgcolor": "#E5ECF6",
          "polar": {
           "angularaxis": {
            "gridcolor": "white",
            "linecolor": "white",
            "ticks": ""
           },
           "bgcolor": "#E5ECF6",
           "radialaxis": {
            "gridcolor": "white",
            "linecolor": "white",
            "ticks": ""
           }
          },
          "scene": {
           "xaxis": {
            "backgroundcolor": "#E5ECF6",
            "gridcolor": "white",
            "gridwidth": 2,
            "linecolor": "white",
            "showbackground": true,
            "ticks": "",
            "zerolinecolor": "white"
           },
           "yaxis": {
            "backgroundcolor": "#E5ECF6",
            "gridcolor": "white",
            "gridwidth": 2,
            "linecolor": "white",
            "showbackground": true,
            "ticks": "",
            "zerolinecolor": "white"
           },
           "zaxis": {
            "backgroundcolor": "#E5ECF6",
            "gridcolor": "white",
            "gridwidth": 2,
            "linecolor": "white",
            "showbackground": true,
            "ticks": "",
            "zerolinecolor": "white"
           }
          },
          "shapedefaults": {
           "line": {
            "color": "#2a3f5f"
           }
          },
          "ternary": {
           "aaxis": {
            "gridcolor": "white",
            "linecolor": "white",
            "ticks": ""
           },
           "baxis": {
            "gridcolor": "white",
            "linecolor": "white",
            "ticks": ""
           },
           "bgcolor": "#E5ECF6",
           "caxis": {
            "gridcolor": "white",
            "linecolor": "white",
            "ticks": ""
           }
          },
          "title": {
           "x": 0.05
          },
          "xaxis": {
           "automargin": true,
           "gridcolor": "white",
           "linecolor": "white",
           "ticks": "",
           "title": {
            "standoff": 15
           },
           "zerolinecolor": "white",
           "zerolinewidth": 2
          },
          "yaxis": {
           "automargin": true,
           "gridcolor": "white",
           "linecolor": "white",
           "ticks": "",
           "title": {
            "standoff": 15
           },
           "zerolinecolor": "white",
           "zerolinewidth": 2
          }
         }
        },
        "title": {
         "text": "Average Funding Amount by Sector and Year (Top 5 Sectors)"
        },
        "xaxis": {
         "anchor": "y",
         "domain": [
          0,
          1
         ],
         "tickangle": 45,
         "title": {
          "text": "Year"
         }
        },
        "yaxis": {
         "anchor": "x",
         "domain": [
          0,
          1
         ],
         "title": {
          "text": "Average Funding Amount"
         }
        }
       }
      }
     },
     "metadata": {},
     "output_type": "display_data"
    }
   ],
   "source": [
    "# Select the top 10 sectors\n",
    "top_5_sectors = average_funding.groupby('Sector')['Amount'].mean().sort_values(ascending=False).head(5).reset_index()\n",
    "\n",
    "# Filter the data for the top 10 sectors\n",
    "filtered_data = average_funding[average_funding['Sector'].isin(top_5_sectors['Sector'])]\n",
    "\n",
    "# Create the line plot\n",
    "fig = px.line(filtered_data, x='Year', y='Amount', color='Sector', title='Average Funding Amount by Sector and Year (Top 5 Sectors)')\n",
    "\n",
    "# Customize the plot\n",
    "fig.update_layout(\n",
    "    xaxis_title='Year',\n",
    "    yaxis_title='Average Funding Amount',\n",
    "    legend_title='Sector',\n",
    "    legend=dict(orientation='h', yanchor='bottom', y=1.02, xanchor='right', x=1),\n",
    "    font=dict(size=14)\n",
    ")\n",
    "\n",
    "# Rotate the x-axis tick labels\n",
    "fig.update_xaxes(tickangle=45)\n",
    "\n",
    "# Show the plot\n",
    "fig.show()"
   ]
  },
  {
   "cell_type": "markdown",
   "metadata": {},
   "source": [
    "2. Sector Analysis:\n",
    "Which sectors have received the most funding, and how does the funding distribution vary across sectors?"
   ]
  },
  {
   "cell_type": "code",
   "execution_count": 158,
   "metadata": {},
   "outputs": [
    {
     "name": "stdout",
     "output_type": "stream",
     "text": [
      "Top Sectors by Total Funding Amount:\n",
      "                                 Sector        Amount\n",
      "249                             Fintech  1.548741e+11\n",
      "447                              Retail  7.054743e+10\n",
      "206                              Edtech  6.495995e+09\n",
      "195                          E-Commerce  3.087002e+09\n",
      "497                        Tech Company  3.028700e+09\n",
      "263                       Food Delivery  2.675300e+09\n",
      "49                           Automotive  2.272565e+09\n",
      "396  Multinational Conglomerate Company  2.200000e+09\n",
      "248                  Financial Services  1.826480e+09\n",
      "305                         Hospitality  1.733930e+09\n"
     ]
    },
    {
     "data": {
      "application/vnd.plotly.v1+json": {
       "config": {
        "plotlyServerURL": "https://plot.ly"
       },
       "data": [
        {
         "alignmentgroup": "True",
         "hovertemplate": "Sector=%{x}<br>Total Funding Amount=%{y}<extra></extra>",
         "legendgroup": "",
         "marker": {
          "color": "#636efa",
          "pattern": {
           "shape": ""
          }
         },
         "name": "",
         "offsetgroup": "",
         "orientation": "v",
         "showlegend": false,
         "textposition": "auto",
         "type": "bar",
         "x": [
          "Fintech",
          "Retail",
          "Edtech",
          "E-Commerce",
          "Tech Company",
          "Food Delivery",
          "Automotive",
          "Multinational Conglomerate Company",
          "Financial Services",
          "Hospitality"
         ],
         "xaxis": "x",
         "y": [
          154874078900,
          70547430000,
          6495994730,
          3087002000,
          3028700000,
          2675300000,
          2272564846,
          2200000000,
          1826480000,
          1733930000
         ],
         "yaxis": "y"
        }
       ],
       "layout": {
        "barmode": "relative",
        "legend": {
         "tracegroupgap": 0
        },
        "template": {
         "data": {
          "bar": [
           {
            "error_x": {
             "color": "#2a3f5f"
            },
            "error_y": {
             "color": "#2a3f5f"
            },
            "marker": {
             "line": {
              "color": "#E5ECF6",
              "width": 0.5
             },
             "pattern": {
              "fillmode": "overlay",
              "size": 10,
              "solidity": 0.2
             }
            },
            "type": "bar"
           }
          ],
          "barpolar": [
           {
            "marker": {
             "line": {
              "color": "#E5ECF6",
              "width": 0.5
             },
             "pattern": {
              "fillmode": "overlay",
              "size": 10,
              "solidity": 0.2
             }
            },
            "type": "barpolar"
           }
          ],
          "carpet": [
           {
            "aaxis": {
             "endlinecolor": "#2a3f5f",
             "gridcolor": "white",
             "linecolor": "white",
             "minorgridcolor": "white",
             "startlinecolor": "#2a3f5f"
            },
            "baxis": {
             "endlinecolor": "#2a3f5f",
             "gridcolor": "white",
             "linecolor": "white",
             "minorgridcolor": "white",
             "startlinecolor": "#2a3f5f"
            },
            "type": "carpet"
           }
          ],
          "choropleth": [
           {
            "colorbar": {
             "outlinewidth": 0,
             "ticks": ""
            },
            "type": "choropleth"
           }
          ],
          "contour": [
           {
            "colorbar": {
             "outlinewidth": 0,
             "ticks": ""
            },
            "colorscale": [
             [
              0,
              "#0d0887"
             ],
             [
              0.1111111111111111,
              "#46039f"
             ],
             [
              0.2222222222222222,
              "#7201a8"
             ],
             [
              0.3333333333333333,
              "#9c179e"
             ],
             [
              0.4444444444444444,
              "#bd3786"
             ],
             [
              0.5555555555555556,
              "#d8576b"
             ],
             [
              0.6666666666666666,
              "#ed7953"
             ],
             [
              0.7777777777777778,
              "#fb9f3a"
             ],
             [
              0.8888888888888888,
              "#fdca26"
             ],
             [
              1,
              "#f0f921"
             ]
            ],
            "type": "contour"
           }
          ],
          "contourcarpet": [
           {
            "colorbar": {
             "outlinewidth": 0,
             "ticks": ""
            },
            "type": "contourcarpet"
           }
          ],
          "heatmap": [
           {
            "colorbar": {
             "outlinewidth": 0,
             "ticks": ""
            },
            "colorscale": [
             [
              0,
              "#0d0887"
             ],
             [
              0.1111111111111111,
              "#46039f"
             ],
             [
              0.2222222222222222,
              "#7201a8"
             ],
             [
              0.3333333333333333,
              "#9c179e"
             ],
             [
              0.4444444444444444,
              "#bd3786"
             ],
             [
              0.5555555555555556,
              "#d8576b"
             ],
             [
              0.6666666666666666,
              "#ed7953"
             ],
             [
              0.7777777777777778,
              "#fb9f3a"
             ],
             [
              0.8888888888888888,
              "#fdca26"
             ],
             [
              1,
              "#f0f921"
             ]
            ],
            "type": "heatmap"
           }
          ],
          "heatmapgl": [
           {
            "colorbar": {
             "outlinewidth": 0,
             "ticks": ""
            },
            "colorscale": [
             [
              0,
              "#0d0887"
             ],
             [
              0.1111111111111111,
              "#46039f"
             ],
             [
              0.2222222222222222,
              "#7201a8"
             ],
             [
              0.3333333333333333,
              "#9c179e"
             ],
             [
              0.4444444444444444,
              "#bd3786"
             ],
             [
              0.5555555555555556,
              "#d8576b"
             ],
             [
              0.6666666666666666,
              "#ed7953"
             ],
             [
              0.7777777777777778,
              "#fb9f3a"
             ],
             [
              0.8888888888888888,
              "#fdca26"
             ],
             [
              1,
              "#f0f921"
             ]
            ],
            "type": "heatmapgl"
           }
          ],
          "histogram": [
           {
            "marker": {
             "pattern": {
              "fillmode": "overlay",
              "size": 10,
              "solidity": 0.2
             }
            },
            "type": "histogram"
           }
          ],
          "histogram2d": [
           {
            "colorbar": {
             "outlinewidth": 0,
             "ticks": ""
            },
            "colorscale": [
             [
              0,
              "#0d0887"
             ],
             [
              0.1111111111111111,
              "#46039f"
             ],
             [
              0.2222222222222222,
              "#7201a8"
             ],
             [
              0.3333333333333333,
              "#9c179e"
             ],
             [
              0.4444444444444444,
              "#bd3786"
             ],
             [
              0.5555555555555556,
              "#d8576b"
             ],
             [
              0.6666666666666666,
              "#ed7953"
             ],
             [
              0.7777777777777778,
              "#fb9f3a"
             ],
             [
              0.8888888888888888,
              "#fdca26"
             ],
             [
              1,
              "#f0f921"
             ]
            ],
            "type": "histogram2d"
           }
          ],
          "histogram2dcontour": [
           {
            "colorbar": {
             "outlinewidth": 0,
             "ticks": ""
            },
            "colorscale": [
             [
              0,
              "#0d0887"
             ],
             [
              0.1111111111111111,
              "#46039f"
             ],
             [
              0.2222222222222222,
              "#7201a8"
             ],
             [
              0.3333333333333333,
              "#9c179e"
             ],
             [
              0.4444444444444444,
              "#bd3786"
             ],
             [
              0.5555555555555556,
              "#d8576b"
             ],
             [
              0.6666666666666666,
              "#ed7953"
             ],
             [
              0.7777777777777778,
              "#fb9f3a"
             ],
             [
              0.8888888888888888,
              "#fdca26"
             ],
             [
              1,
              "#f0f921"
             ]
            ],
            "type": "histogram2dcontour"
           }
          ],
          "mesh3d": [
           {
            "colorbar": {
             "outlinewidth": 0,
             "ticks": ""
            },
            "type": "mesh3d"
           }
          ],
          "parcoords": [
           {
            "line": {
             "colorbar": {
              "outlinewidth": 0,
              "ticks": ""
             }
            },
            "type": "parcoords"
           }
          ],
          "pie": [
           {
            "automargin": true,
            "type": "pie"
           }
          ],
          "scatter": [
           {
            "fillpattern": {
             "fillmode": "overlay",
             "size": 10,
             "solidity": 0.2
            },
            "type": "scatter"
           }
          ],
          "scatter3d": [
           {
            "line": {
             "colorbar": {
              "outlinewidth": 0,
              "ticks": ""
             }
            },
            "marker": {
             "colorbar": {
              "outlinewidth": 0,
              "ticks": ""
             }
            },
            "type": "scatter3d"
           }
          ],
          "scattercarpet": [
           {
            "marker": {
             "colorbar": {
              "outlinewidth": 0,
              "ticks": ""
             }
            },
            "type": "scattercarpet"
           }
          ],
          "scattergeo": [
           {
            "marker": {
             "colorbar": {
              "outlinewidth": 0,
              "ticks": ""
             }
            },
            "type": "scattergeo"
           }
          ],
          "scattergl": [
           {
            "marker": {
             "colorbar": {
              "outlinewidth": 0,
              "ticks": ""
             }
            },
            "type": "scattergl"
           }
          ],
          "scattermapbox": [
           {
            "marker": {
             "colorbar": {
              "outlinewidth": 0,
              "ticks": ""
             }
            },
            "type": "scattermapbox"
           }
          ],
          "scatterpolar": [
           {
            "marker": {
             "colorbar": {
              "outlinewidth": 0,
              "ticks": ""
             }
            },
            "type": "scatterpolar"
           }
          ],
          "scatterpolargl": [
           {
            "marker": {
             "colorbar": {
              "outlinewidth": 0,
              "ticks": ""
             }
            },
            "type": "scatterpolargl"
           }
          ],
          "scatterternary": [
           {
            "marker": {
             "colorbar": {
              "outlinewidth": 0,
              "ticks": ""
             }
            },
            "type": "scatterternary"
           }
          ],
          "surface": [
           {
            "colorbar": {
             "outlinewidth": 0,
             "ticks": ""
            },
            "colorscale": [
             [
              0,
              "#0d0887"
             ],
             [
              0.1111111111111111,
              "#46039f"
             ],
             [
              0.2222222222222222,
              "#7201a8"
             ],
             [
              0.3333333333333333,
              "#9c179e"
             ],
             [
              0.4444444444444444,
              "#bd3786"
             ],
             [
              0.5555555555555556,
              "#d8576b"
             ],
             [
              0.6666666666666666,
              "#ed7953"
             ],
             [
              0.7777777777777778,
              "#fb9f3a"
             ],
             [
              0.8888888888888888,
              "#fdca26"
             ],
             [
              1,
              "#f0f921"
             ]
            ],
            "type": "surface"
           }
          ],
          "table": [
           {
            "cells": {
             "fill": {
              "color": "#EBF0F8"
             },
             "line": {
              "color": "white"
             }
            },
            "header": {
             "fill": {
              "color": "#C8D4E3"
             },
             "line": {
              "color": "white"
             }
            },
            "type": "table"
           }
          ]
         },
         "layout": {
          "annotationdefaults": {
           "arrowcolor": "#2a3f5f",
           "arrowhead": 0,
           "arrowwidth": 1
          },
          "autotypenumbers": "strict",
          "coloraxis": {
           "colorbar": {
            "outlinewidth": 0,
            "ticks": ""
           }
          },
          "colorscale": {
           "diverging": [
            [
             0,
             "#8e0152"
            ],
            [
             0.1,
             "#c51b7d"
            ],
            [
             0.2,
             "#de77ae"
            ],
            [
             0.3,
             "#f1b6da"
            ],
            [
             0.4,
             "#fde0ef"
            ],
            [
             0.5,
             "#f7f7f7"
            ],
            [
             0.6,
             "#e6f5d0"
            ],
            [
             0.7,
             "#b8e186"
            ],
            [
             0.8,
             "#7fbc41"
            ],
            [
             0.9,
             "#4d9221"
            ],
            [
             1,
             "#276419"
            ]
           ],
           "sequential": [
            [
             0,
             "#0d0887"
            ],
            [
             0.1111111111111111,
             "#46039f"
            ],
            [
             0.2222222222222222,
             "#7201a8"
            ],
            [
             0.3333333333333333,
             "#9c179e"
            ],
            [
             0.4444444444444444,
             "#bd3786"
            ],
            [
             0.5555555555555556,
             "#d8576b"
            ],
            [
             0.6666666666666666,
             "#ed7953"
            ],
            [
             0.7777777777777778,
             "#fb9f3a"
            ],
            [
             0.8888888888888888,
             "#fdca26"
            ],
            [
             1,
             "#f0f921"
            ]
           ],
           "sequentialminus": [
            [
             0,
             "#0d0887"
            ],
            [
             0.1111111111111111,
             "#46039f"
            ],
            [
             0.2222222222222222,
             "#7201a8"
            ],
            [
             0.3333333333333333,
             "#9c179e"
            ],
            [
             0.4444444444444444,
             "#bd3786"
            ],
            [
             0.5555555555555556,
             "#d8576b"
            ],
            [
             0.6666666666666666,
             "#ed7953"
            ],
            [
             0.7777777777777778,
             "#fb9f3a"
            ],
            [
             0.8888888888888888,
             "#fdca26"
            ],
            [
             1,
             "#f0f921"
            ]
           ]
          },
          "colorway": [
           "#636efa",
           "#EF553B",
           "#00cc96",
           "#ab63fa",
           "#FFA15A",
           "#19d3f3",
           "#FF6692",
           "#B6E880",
           "#FF97FF",
           "#FECB52"
          ],
          "font": {
           "color": "#2a3f5f"
          },
          "geo": {
           "bgcolor": "white",
           "lakecolor": "white",
           "landcolor": "#E5ECF6",
           "showlakes": true,
           "showland": true,
           "subunitcolor": "white"
          },
          "hoverlabel": {
           "align": "left"
          },
          "hovermode": "closest",
          "mapbox": {
           "style": "light"
          },
          "paper_bgcolor": "white",
          "plot_bgcolor": "#E5ECF6",
          "polar": {
           "angularaxis": {
            "gridcolor": "white",
            "linecolor": "white",
            "ticks": ""
           },
           "bgcolor": "#E5ECF6",
           "radialaxis": {
            "gridcolor": "white",
            "linecolor": "white",
            "ticks": ""
           }
          },
          "scene": {
           "xaxis": {
            "backgroundcolor": "#E5ECF6",
            "gridcolor": "white",
            "gridwidth": 2,
            "linecolor": "white",
            "showbackground": true,
            "ticks": "",
            "zerolinecolor": "white"
           },
           "yaxis": {
            "backgroundcolor": "#E5ECF6",
            "gridcolor": "white",
            "gridwidth": 2,
            "linecolor": "white",
            "showbackground": true,
            "ticks": "",
            "zerolinecolor": "white"
           },
           "zaxis": {
            "backgroundcolor": "#E5ECF6",
            "gridcolor": "white",
            "gridwidth": 2,
            "linecolor": "white",
            "showbackground": true,
            "ticks": "",
            "zerolinecolor": "white"
           }
          },
          "shapedefaults": {
           "line": {
            "color": "#2a3f5f"
           }
          },
          "ternary": {
           "aaxis": {
            "gridcolor": "white",
            "linecolor": "white",
            "ticks": ""
           },
           "baxis": {
            "gridcolor": "white",
            "linecolor": "white",
            "ticks": ""
           },
           "bgcolor": "#E5ECF6",
           "caxis": {
            "gridcolor": "white",
            "linecolor": "white",
            "ticks": ""
           }
          },
          "title": {
           "x": 0.05
          },
          "xaxis": {
           "automargin": true,
           "gridcolor": "white",
           "linecolor": "white",
           "ticks": "",
           "title": {
            "standoff": 15
           },
           "zerolinecolor": "white",
           "zerolinewidth": 2
          },
          "yaxis": {
           "automargin": true,
           "gridcolor": "white",
           "linecolor": "white",
           "ticks": "",
           "title": {
            "standoff": 15
           },
           "zerolinecolor": "white",
           "zerolinewidth": 2
          }
         }
        },
        "title": {
         "text": "Top Sectors by Total Funding Amount"
        },
        "xaxis": {
         "anchor": "y",
         "domain": [
          0,
          1
         ],
         "tickangle": 45,
         "title": {
          "text": "Sector"
         }
        },
        "yaxis": {
         "anchor": "x",
         "domain": [
          0,
          1
         ],
         "title": {
          "text": "Total Funding Amount"
         }
        }
       }
      }
     },
     "metadata": {},
     "output_type": "display_data"
    }
   ],
   "source": [
    "# Calculate total funding amount for each sector\n",
    "total_funding_by_sector = df_combined.groupby('Sector')['Amount'].sum().reset_index()\n",
    "\n",
    "# Sort the sectors by total funding amount in descending order\n",
    "total_funding_by_sector = total_funding_by_sector.sort_values('Amount', ascending=False)\n",
    "\n",
    "# Print the top sectors by total funding amount\n",
    "print(\"Top Sectors by Total Funding Amount:\")\n",
    "print(total_funding_by_sector.head(10))\n",
    "\n",
    "# Visualize the funding distribution across sectors\n",
    "fig = px.bar(total_funding_by_sector.head(10), x='Sector', y='Amount',\n",
    "             title='Top Sectors by Total Funding Amount',\n",
    "             labels={'Sector': 'Sector', 'Amount': 'Total Funding Amount'})\n",
    "\n",
    "# Rotate the x-axis tick labels\n",
    "fig.update_xaxes(tickangle=45)\n",
    "\n",
    "# Show the plot\n",
    "fig.show()"
   ]
  },
  {
   "cell_type": "markdown",
   "metadata": {},
   "source": [
    "3. Stage Analysis:\n",
    "What is the distribution of funding across different investment stages (e.g., Pre-seed, Seed, Series A)?"
   ]
  },
  {
   "cell_type": "code",
   "execution_count": 162,
   "metadata": {},
   "outputs": [
    {
     "name": "stdout",
     "output_type": "stream",
     "text": [
      "Investment Stages by Total Funding Amount:\n",
      "                    Stage        Amount\n",
      "6                    Debt  1.522866e+11\n",
      "38                   Seed  7.562837e+10\n",
      "58               Series C  1.148721e+10\n",
      "50               Series A  9.035629e+09\n",
      "54               Series B  8.434891e+09\n",
      "..                    ...           ...\n",
      "52             Series A-1  1.000000e+06\n",
      "39                 Seed A  1.000000e+06\n",
      "13             Mid series  5.000000e+05\n",
      "23          Pre series A1  3.000000e+05\n",
      "14  Non-equity Assistance  4.000000e+04\n",
      "\n",
      "[72 rows x 2 columns]\n"
     ]
    },
    {
     "data": {
      "application/vnd.plotly.v1+json": {
       "config": {
        "plotlyServerURL": "https://plot.ly"
       },
       "data": [
        {
         "alignmentgroup": "True",
         "hovertemplate": "Investment Stage=%{x}<br>Total Funding Amount=%{y}<extra></extra>",
         "legendgroup": "",
         "marker": {
          "color": "#636efa",
          "pattern": {
           "shape": ""
          }
         },
         "name": "",
         "offsetgroup": "",
         "orientation": "v",
         "showlegend": false,
         "textposition": "auto",
         "type": "bar",
         "x": [
          "Debt",
          "Seed",
          "Series C",
          "Series A",
          "Series B",
          "Series D",
          "Series E",
          "Series H",
          "Pre-series A",
          "Pre-seed"
         ],
         "xaxis": "x",
         "y": [
          152286627000,
          75628366491,
          11487208528,
          9035629000,
          8434891100,
          3656102700,
          3358153000,
          2312500000,
          2235428000,
          2151130000
         ],
         "yaxis": "y"
        }
       ],
       "layout": {
        "barmode": "relative",
        "legend": {
         "tracegroupgap": 0
        },
        "template": {
         "data": {
          "bar": [
           {
            "error_x": {
             "color": "#2a3f5f"
            },
            "error_y": {
             "color": "#2a3f5f"
            },
            "marker": {
             "line": {
              "color": "#E5ECF6",
              "width": 0.5
             },
             "pattern": {
              "fillmode": "overlay",
              "size": 10,
              "solidity": 0.2
             }
            },
            "type": "bar"
           }
          ],
          "barpolar": [
           {
            "marker": {
             "line": {
              "color": "#E5ECF6",
              "width": 0.5
             },
             "pattern": {
              "fillmode": "overlay",
              "size": 10,
              "solidity": 0.2
             }
            },
            "type": "barpolar"
           }
          ],
          "carpet": [
           {
            "aaxis": {
             "endlinecolor": "#2a3f5f",
             "gridcolor": "white",
             "linecolor": "white",
             "minorgridcolor": "white",
             "startlinecolor": "#2a3f5f"
            },
            "baxis": {
             "endlinecolor": "#2a3f5f",
             "gridcolor": "white",
             "linecolor": "white",
             "minorgridcolor": "white",
             "startlinecolor": "#2a3f5f"
            },
            "type": "carpet"
           }
          ],
          "choropleth": [
           {
            "colorbar": {
             "outlinewidth": 0,
             "ticks": ""
            },
            "type": "choropleth"
           }
          ],
          "contour": [
           {
            "colorbar": {
             "outlinewidth": 0,
             "ticks": ""
            },
            "colorscale": [
             [
              0,
              "#0d0887"
             ],
             [
              0.1111111111111111,
              "#46039f"
             ],
             [
              0.2222222222222222,
              "#7201a8"
             ],
             [
              0.3333333333333333,
              "#9c179e"
             ],
             [
              0.4444444444444444,
              "#bd3786"
             ],
             [
              0.5555555555555556,
              "#d8576b"
             ],
             [
              0.6666666666666666,
              "#ed7953"
             ],
             [
              0.7777777777777778,
              "#fb9f3a"
             ],
             [
              0.8888888888888888,
              "#fdca26"
             ],
             [
              1,
              "#f0f921"
             ]
            ],
            "type": "contour"
           }
          ],
          "contourcarpet": [
           {
            "colorbar": {
             "outlinewidth": 0,
             "ticks": ""
            },
            "type": "contourcarpet"
           }
          ],
          "heatmap": [
           {
            "colorbar": {
             "outlinewidth": 0,
             "ticks": ""
            },
            "colorscale": [
             [
              0,
              "#0d0887"
             ],
             [
              0.1111111111111111,
              "#46039f"
             ],
             [
              0.2222222222222222,
              "#7201a8"
             ],
             [
              0.3333333333333333,
              "#9c179e"
             ],
             [
              0.4444444444444444,
              "#bd3786"
             ],
             [
              0.5555555555555556,
              "#d8576b"
             ],
             [
              0.6666666666666666,
              "#ed7953"
             ],
             [
              0.7777777777777778,
              "#fb9f3a"
             ],
             [
              0.8888888888888888,
              "#fdca26"
             ],
             [
              1,
              "#f0f921"
             ]
            ],
            "type": "heatmap"
           }
          ],
          "heatmapgl": [
           {
            "colorbar": {
             "outlinewidth": 0,
             "ticks": ""
            },
            "colorscale": [
             [
              0,
              "#0d0887"
             ],
             [
              0.1111111111111111,
              "#46039f"
             ],
             [
              0.2222222222222222,
              "#7201a8"
             ],
             [
              0.3333333333333333,
              "#9c179e"
             ],
             [
              0.4444444444444444,
              "#bd3786"
             ],
             [
              0.5555555555555556,
              "#d8576b"
             ],
             [
              0.6666666666666666,
              "#ed7953"
             ],
             [
              0.7777777777777778,
              "#fb9f3a"
             ],
             [
              0.8888888888888888,
              "#fdca26"
             ],
             [
              1,
              "#f0f921"
             ]
            ],
            "type": "heatmapgl"
           }
          ],
          "histogram": [
           {
            "marker": {
             "pattern": {
              "fillmode": "overlay",
              "size": 10,
              "solidity": 0.2
             }
            },
            "type": "histogram"
           }
          ],
          "histogram2d": [
           {
            "colorbar": {
             "outlinewidth": 0,
             "ticks": ""
            },
            "colorscale": [
             [
              0,
              "#0d0887"
             ],
             [
              0.1111111111111111,
              "#46039f"
             ],
             [
              0.2222222222222222,
              "#7201a8"
             ],
             [
              0.3333333333333333,
              "#9c179e"
             ],
             [
              0.4444444444444444,
              "#bd3786"
             ],
             [
              0.5555555555555556,
              "#d8576b"
             ],
             [
              0.6666666666666666,
              "#ed7953"
             ],
             [
              0.7777777777777778,
              "#fb9f3a"
             ],
             [
              0.8888888888888888,
              "#fdca26"
             ],
             [
              1,
              "#f0f921"
             ]
            ],
            "type": "histogram2d"
           }
          ],
          "histogram2dcontour": [
           {
            "colorbar": {
             "outlinewidth": 0,
             "ticks": ""
            },
            "colorscale": [
             [
              0,
              "#0d0887"
             ],
             [
              0.1111111111111111,
              "#46039f"
             ],
             [
              0.2222222222222222,
              "#7201a8"
             ],
             [
              0.3333333333333333,
              "#9c179e"
             ],
             [
              0.4444444444444444,
              "#bd3786"
             ],
             [
              0.5555555555555556,
              "#d8576b"
             ],
             [
              0.6666666666666666,
              "#ed7953"
             ],
             [
              0.7777777777777778,
              "#fb9f3a"
             ],
             [
              0.8888888888888888,
              "#fdca26"
             ],
             [
              1,
              "#f0f921"
             ]
            ],
            "type": "histogram2dcontour"
           }
          ],
          "mesh3d": [
           {
            "colorbar": {
             "outlinewidth": 0,
             "ticks": ""
            },
            "type": "mesh3d"
           }
          ],
          "parcoords": [
           {
            "line": {
             "colorbar": {
              "outlinewidth": 0,
              "ticks": ""
             }
            },
            "type": "parcoords"
           }
          ],
          "pie": [
           {
            "automargin": true,
            "type": "pie"
           }
          ],
          "scatter": [
           {
            "fillpattern": {
             "fillmode": "overlay",
             "size": 10,
             "solidity": 0.2
            },
            "type": "scatter"
           }
          ],
          "scatter3d": [
           {
            "line": {
             "colorbar": {
              "outlinewidth": 0,
              "ticks": ""
             }
            },
            "marker": {
             "colorbar": {
              "outlinewidth": 0,
              "ticks": ""
             }
            },
            "type": "scatter3d"
           }
          ],
          "scattercarpet": [
           {
            "marker": {
             "colorbar": {
              "outlinewidth": 0,
              "ticks": ""
             }
            },
            "type": "scattercarpet"
           }
          ],
          "scattergeo": [
           {
            "marker": {
             "colorbar": {
              "outlinewidth": 0,
              "ticks": ""
             }
            },
            "type": "scattergeo"
           }
          ],
          "scattergl": [
           {
            "marker": {
             "colorbar": {
              "outlinewidth": 0,
              "ticks": ""
             }
            },
            "type": "scattergl"
           }
          ],
          "scattermapbox": [
           {
            "marker": {
             "colorbar": {
              "outlinewidth": 0,
              "ticks": ""
             }
            },
            "type": "scattermapbox"
           }
          ],
          "scatterpolar": [
           {
            "marker": {
             "colorbar": {
              "outlinewidth": 0,
              "ticks": ""
             }
            },
            "type": "scatterpolar"
           }
          ],
          "scatterpolargl": [
           {
            "marker": {
             "colorbar": {
              "outlinewidth": 0,
              "ticks": ""
             }
            },
            "type": "scatterpolargl"
           }
          ],
          "scatterternary": [
           {
            "marker": {
             "colorbar": {
              "outlinewidth": 0,
              "ticks": ""
             }
            },
            "type": "scatterternary"
           }
          ],
          "surface": [
           {
            "colorbar": {
             "outlinewidth": 0,
             "ticks": ""
            },
            "colorscale": [
             [
              0,
              "#0d0887"
             ],
             [
              0.1111111111111111,
              "#46039f"
             ],
             [
              0.2222222222222222,
              "#7201a8"
             ],
             [
              0.3333333333333333,
              "#9c179e"
             ],
             [
              0.4444444444444444,
              "#bd3786"
             ],
             [
              0.5555555555555556,
              "#d8576b"
             ],
             [
              0.6666666666666666,
              "#ed7953"
             ],
             [
              0.7777777777777778,
              "#fb9f3a"
             ],
             [
              0.8888888888888888,
              "#fdca26"
             ],
             [
              1,
              "#f0f921"
             ]
            ],
            "type": "surface"
           }
          ],
          "table": [
           {
            "cells": {
             "fill": {
              "color": "#EBF0F8"
             },
             "line": {
              "color": "white"
             }
            },
            "header": {
             "fill": {
              "color": "#C8D4E3"
             },
             "line": {
              "color": "white"
             }
            },
            "type": "table"
           }
          ]
         },
         "layout": {
          "annotationdefaults": {
           "arrowcolor": "#2a3f5f",
           "arrowhead": 0,
           "arrowwidth": 1
          },
          "autotypenumbers": "strict",
          "coloraxis": {
           "colorbar": {
            "outlinewidth": 0,
            "ticks": ""
           }
          },
          "colorscale": {
           "diverging": [
            [
             0,
             "#8e0152"
            ],
            [
             0.1,
             "#c51b7d"
            ],
            [
             0.2,
             "#de77ae"
            ],
            [
             0.3,
             "#f1b6da"
            ],
            [
             0.4,
             "#fde0ef"
            ],
            [
             0.5,
             "#f7f7f7"
            ],
            [
             0.6,
             "#e6f5d0"
            ],
            [
             0.7,
             "#b8e186"
            ],
            [
             0.8,
             "#7fbc41"
            ],
            [
             0.9,
             "#4d9221"
            ],
            [
             1,
             "#276419"
            ]
           ],
           "sequential": [
            [
             0,
             "#0d0887"
            ],
            [
             0.1111111111111111,
             "#46039f"
            ],
            [
             0.2222222222222222,
             "#7201a8"
            ],
            [
             0.3333333333333333,
             "#9c179e"
            ],
            [
             0.4444444444444444,
             "#bd3786"
            ],
            [
             0.5555555555555556,
             "#d8576b"
            ],
            [
             0.6666666666666666,
             "#ed7953"
            ],
            [
             0.7777777777777778,
             "#fb9f3a"
            ],
            [
             0.8888888888888888,
             "#fdca26"
            ],
            [
             1,
             "#f0f921"
            ]
           ],
           "sequentialminus": [
            [
             0,
             "#0d0887"
            ],
            [
             0.1111111111111111,
             "#46039f"
            ],
            [
             0.2222222222222222,
             "#7201a8"
            ],
            [
             0.3333333333333333,
             "#9c179e"
            ],
            [
             0.4444444444444444,
             "#bd3786"
            ],
            [
             0.5555555555555556,
             "#d8576b"
            ],
            [
             0.6666666666666666,
             "#ed7953"
            ],
            [
             0.7777777777777778,
             "#fb9f3a"
            ],
            [
             0.8888888888888888,
             "#fdca26"
            ],
            [
             1,
             "#f0f921"
            ]
           ]
          },
          "colorway": [
           "#636efa",
           "#EF553B",
           "#00cc96",
           "#ab63fa",
           "#FFA15A",
           "#19d3f3",
           "#FF6692",
           "#B6E880",
           "#FF97FF",
           "#FECB52"
          ],
          "font": {
           "color": "#2a3f5f"
          },
          "geo": {
           "bgcolor": "white",
           "lakecolor": "white",
           "landcolor": "#E5ECF6",
           "showlakes": true,
           "showland": true,
           "subunitcolor": "white"
          },
          "hoverlabel": {
           "align": "left"
          },
          "hovermode": "closest",
          "mapbox": {
           "style": "light"
          },
          "paper_bgcolor": "white",
          "plot_bgcolor": "#E5ECF6",
          "polar": {
           "angularaxis": {
            "gridcolor": "white",
            "linecolor": "white",
            "ticks": ""
           },
           "bgcolor": "#E5ECF6",
           "radialaxis": {
            "gridcolor": "white",
            "linecolor": "white",
            "ticks": ""
           }
          },
          "scene": {
           "xaxis": {
            "backgroundcolor": "#E5ECF6",
            "gridcolor": "white",
            "gridwidth": 2,
            "linecolor": "white",
            "showbackground": true,
            "ticks": "",
            "zerolinecolor": "white"
           },
           "yaxis": {
            "backgroundcolor": "#E5ECF6",
            "gridcolor": "white",
            "gridwidth": 2,
            "linecolor": "white",
            "showbackground": true,
            "ticks": "",
            "zerolinecolor": "white"
           },
           "zaxis": {
            "backgroundcolor": "#E5ECF6",
            "gridcolor": "white",
            "gridwidth": 2,
            "linecolor": "white",
            "showbackground": true,
            "ticks": "",
            "zerolinecolor": "white"
           }
          },
          "shapedefaults": {
           "line": {
            "color": "#2a3f5f"
           }
          },
          "ternary": {
           "aaxis": {
            "gridcolor": "white",
            "linecolor": "white",
            "ticks": ""
           },
           "baxis": {
            "gridcolor": "white",
            "linecolor": "white",
            "ticks": ""
           },
           "bgcolor": "#E5ECF6",
           "caxis": {
            "gridcolor": "white",
            "linecolor": "white",
            "ticks": ""
           }
          },
          "title": {
           "x": 0.05
          },
          "xaxis": {
           "automargin": true,
           "gridcolor": "white",
           "linecolor": "white",
           "ticks": "",
           "title": {
            "standoff": 15
           },
           "zerolinecolor": "white",
           "zerolinewidth": 2
          },
          "yaxis": {
           "automargin": true,
           "gridcolor": "white",
           "linecolor": "white",
           "ticks": "",
           "title": {
            "standoff": 15
           },
           "zerolinecolor": "white",
           "zerolinewidth": 2
          }
         }
        },
        "title": {
         "text": "Funding Distribution across Top 10 Investment Stages"
        },
        "xaxis": {
         "anchor": "y",
         "domain": [
          0,
          1
         ],
         "tickangle": 45,
         "title": {
          "text": "Investment Stage"
         }
        },
        "yaxis": {
         "anchor": "x",
         "domain": [
          0,
          1
         ],
         "title": {
          "text": "Total Funding Amount"
         }
        }
       }
      }
     },
     "metadata": {},
     "output_type": "display_data"
    }
   ],
   "source": [
    "# Calculate total funding amount for each investment stage\n",
    "total_funding_by_stage = df_combined.groupby('Stage')['Amount'].sum().reset_index()\n",
    "\n",
    "# Sort the investment stages by total funding amount in descending order\n",
    "total_funding_by_stage = total_funding_by_stage.sort_values('Amount', ascending=False)\n",
    "\n",
    "# Print the investment stages by total funding amount\n",
    "print(\"Investment Stages by Total Funding Amount:\")\n",
    "print(total_funding_by_stage)\n",
    "\n",
    "# Select the top 10 stages\n",
    "top_10_stages = total_funding_by_stage.head(10)\n",
    "\n",
    "# Visualize the funding distribution across the top 10 investment stages\n",
    "fig = px.bar(top_10_stages, x='Stage', y='Amount',\n",
    "             title='Funding Distribution across Top 10 Investment Stages',\n",
    "             labels={'Stage': 'Investment Stage', 'Amount': 'Total Funding Amount'})\n",
    "\n",
    "# Rotate the x-axis tick labels\n",
    "fig.update_xaxes(tickangle=45)\n",
    "\n",
    "# Show the plot\n",
    "fig.show()\n"
   ]
  },
  {
   "cell_type": "markdown",
   "metadata": {},
   "source": [
    "4. Geographical Analysis:\n",
    "Which cities or regions (HeadQuarter) have the highest concentration of funded startups?"
   ]
  },
  {
   "cell_type": "code",
   "execution_count": 163,
   "metadata": {},
   "outputs": [
    {
     "name": "stdout",
     "output_type": "stream",
     "text": [
      "Top 10 HeadQuarter Locations by Total Funding Amount:\n",
      "                     HeadQuarter        Amount\n",
      "98                        Mumbai  2.292305e+11\n",
      "11                     Bangalore  2.250635e+10\n",
      "55                      Gurugram  5.658472e+09\n",
      "102                    New Delhi  3.235210e+09\n",
      "27                    California  3.088100e+09\n",
      "13   Bangalore, Karnataka, India  2.323135e+09\n",
      "120                         Pune  2.174998e+09\n",
      "99    Mumbai, Maharashtra, India  1.608798e+09\n",
      "30                       Chennai  1.147509e+09\n",
      "37                         Delhi  1.010016e+09\n"
     ]
    },
    {
     "data": {
      "application/vnd.plotly.v1+json": {
       "config": {
        "plotlyServerURL": "https://plot.ly"
       },
       "data": [
        {
         "alignmentgroup": "True",
         "hovertemplate": "HeadQuarter Location=%{x}<br>Total Funding Amount=%{y}<extra></extra>",
         "legendgroup": "",
         "marker": {
          "color": "#636efa",
          "pattern": {
           "shape": ""
          }
         },
         "name": "",
         "offsetgroup": "",
         "orientation": "v",
         "showlegend": false,
         "textposition": "auto",
         "type": "bar",
         "x": [
          "Mumbai",
          "Bangalore",
          "Gurugram",
          "New Delhi",
          "California",
          "Bangalore, Karnataka, India",
          "Pune",
          "Mumbai, Maharashtra, India",
          "Chennai",
          "Delhi"
         ],
         "xaxis": "x",
         "y": [
          229230461500,
          22506345358,
          5658471500,
          3235209700,
          3088100000,
          2323135000,
          2174998000,
          1608798500,
          1147509446,
          1010016200
         ],
         "yaxis": "y"
        }
       ],
       "layout": {
        "barmode": "relative",
        "legend": {
         "tracegroupgap": 0
        },
        "template": {
         "data": {
          "bar": [
           {
            "error_x": {
             "color": "#2a3f5f"
            },
            "error_y": {
             "color": "#2a3f5f"
            },
            "marker": {
             "line": {
              "color": "#E5ECF6",
              "width": 0.5
             },
             "pattern": {
              "fillmode": "overlay",
              "size": 10,
              "solidity": 0.2
             }
            },
            "type": "bar"
           }
          ],
          "barpolar": [
           {
            "marker": {
             "line": {
              "color": "#E5ECF6",
              "width": 0.5
             },
             "pattern": {
              "fillmode": "overlay",
              "size": 10,
              "solidity": 0.2
             }
            },
            "type": "barpolar"
           }
          ],
          "carpet": [
           {
            "aaxis": {
             "endlinecolor": "#2a3f5f",
             "gridcolor": "white",
             "linecolor": "white",
             "minorgridcolor": "white",
             "startlinecolor": "#2a3f5f"
            },
            "baxis": {
             "endlinecolor": "#2a3f5f",
             "gridcolor": "white",
             "linecolor": "white",
             "minorgridcolor": "white",
             "startlinecolor": "#2a3f5f"
            },
            "type": "carpet"
           }
          ],
          "choropleth": [
           {
            "colorbar": {
             "outlinewidth": 0,
             "ticks": ""
            },
            "type": "choropleth"
           }
          ],
          "contour": [
           {
            "colorbar": {
             "outlinewidth": 0,
             "ticks": ""
            },
            "colorscale": [
             [
              0,
              "#0d0887"
             ],
             [
              0.1111111111111111,
              "#46039f"
             ],
             [
              0.2222222222222222,
              "#7201a8"
             ],
             [
              0.3333333333333333,
              "#9c179e"
             ],
             [
              0.4444444444444444,
              "#bd3786"
             ],
             [
              0.5555555555555556,
              "#d8576b"
             ],
             [
              0.6666666666666666,
              "#ed7953"
             ],
             [
              0.7777777777777778,
              "#fb9f3a"
             ],
             [
              0.8888888888888888,
              "#fdca26"
             ],
             [
              1,
              "#f0f921"
             ]
            ],
            "type": "contour"
           }
          ],
          "contourcarpet": [
           {
            "colorbar": {
             "outlinewidth": 0,
             "ticks": ""
            },
            "type": "contourcarpet"
           }
          ],
          "heatmap": [
           {
            "colorbar": {
             "outlinewidth": 0,
             "ticks": ""
            },
            "colorscale": [
             [
              0,
              "#0d0887"
             ],
             [
              0.1111111111111111,
              "#46039f"
             ],
             [
              0.2222222222222222,
              "#7201a8"
             ],
             [
              0.3333333333333333,
              "#9c179e"
             ],
             [
              0.4444444444444444,
              "#bd3786"
             ],
             [
              0.5555555555555556,
              "#d8576b"
             ],
             [
              0.6666666666666666,
              "#ed7953"
             ],
             [
              0.7777777777777778,
              "#fb9f3a"
             ],
             [
              0.8888888888888888,
              "#fdca26"
             ],
             [
              1,
              "#f0f921"
             ]
            ],
            "type": "heatmap"
           }
          ],
          "heatmapgl": [
           {
            "colorbar": {
             "outlinewidth": 0,
             "ticks": ""
            },
            "colorscale": [
             [
              0,
              "#0d0887"
             ],
             [
              0.1111111111111111,
              "#46039f"
             ],
             [
              0.2222222222222222,
              "#7201a8"
             ],
             [
              0.3333333333333333,
              "#9c179e"
             ],
             [
              0.4444444444444444,
              "#bd3786"
             ],
             [
              0.5555555555555556,
              "#d8576b"
             ],
             [
              0.6666666666666666,
              "#ed7953"
             ],
             [
              0.7777777777777778,
              "#fb9f3a"
             ],
             [
              0.8888888888888888,
              "#fdca26"
             ],
             [
              1,
              "#f0f921"
             ]
            ],
            "type": "heatmapgl"
           }
          ],
          "histogram": [
           {
            "marker": {
             "pattern": {
              "fillmode": "overlay",
              "size": 10,
              "solidity": 0.2
             }
            },
            "type": "histogram"
           }
          ],
          "histogram2d": [
           {
            "colorbar": {
             "outlinewidth": 0,
             "ticks": ""
            },
            "colorscale": [
             [
              0,
              "#0d0887"
             ],
             [
              0.1111111111111111,
              "#46039f"
             ],
             [
              0.2222222222222222,
              "#7201a8"
             ],
             [
              0.3333333333333333,
              "#9c179e"
             ],
             [
              0.4444444444444444,
              "#bd3786"
             ],
             [
              0.5555555555555556,
              "#d8576b"
             ],
             [
              0.6666666666666666,
              "#ed7953"
             ],
             [
              0.7777777777777778,
              "#fb9f3a"
             ],
             [
              0.8888888888888888,
              "#fdca26"
             ],
             [
              1,
              "#f0f921"
             ]
            ],
            "type": "histogram2d"
           }
          ],
          "histogram2dcontour": [
           {
            "colorbar": {
             "outlinewidth": 0,
             "ticks": ""
            },
            "colorscale": [
             [
              0,
              "#0d0887"
             ],
             [
              0.1111111111111111,
              "#46039f"
             ],
             [
              0.2222222222222222,
              "#7201a8"
             ],
             [
              0.3333333333333333,
              "#9c179e"
             ],
             [
              0.4444444444444444,
              "#bd3786"
             ],
             [
              0.5555555555555556,
              "#d8576b"
             ],
             [
              0.6666666666666666,
              "#ed7953"
             ],
             [
              0.7777777777777778,
              "#fb9f3a"
             ],
             [
              0.8888888888888888,
              "#fdca26"
             ],
             [
              1,
              "#f0f921"
             ]
            ],
            "type": "histogram2dcontour"
           }
          ],
          "mesh3d": [
           {
            "colorbar": {
             "outlinewidth": 0,
             "ticks": ""
            },
            "type": "mesh3d"
           }
          ],
          "parcoords": [
           {
            "line": {
             "colorbar": {
              "outlinewidth": 0,
              "ticks": ""
             }
            },
            "type": "parcoords"
           }
          ],
          "pie": [
           {
            "automargin": true,
            "type": "pie"
           }
          ],
          "scatter": [
           {
            "fillpattern": {
             "fillmode": "overlay",
             "size": 10,
             "solidity": 0.2
            },
            "type": "scatter"
           }
          ],
          "scatter3d": [
           {
            "line": {
             "colorbar": {
              "outlinewidth": 0,
              "ticks": ""
             }
            },
            "marker": {
             "colorbar": {
              "outlinewidth": 0,
              "ticks": ""
             }
            },
            "type": "scatter3d"
           }
          ],
          "scattercarpet": [
           {
            "marker": {
             "colorbar": {
              "outlinewidth": 0,
              "ticks": ""
             }
            },
            "type": "scattercarpet"
           }
          ],
          "scattergeo": [
           {
            "marker": {
             "colorbar": {
              "outlinewidth": 0,
              "ticks": ""
             }
            },
            "type": "scattergeo"
           }
          ],
          "scattergl": [
           {
            "marker": {
             "colorbar": {
              "outlinewidth": 0,
              "ticks": ""
             }
            },
            "type": "scattergl"
           }
          ],
          "scattermapbox": [
           {
            "marker": {
             "colorbar": {
              "outlinewidth": 0,
              "ticks": ""
             }
            },
            "type": "scattermapbox"
           }
          ],
          "scatterpolar": [
           {
            "marker": {
             "colorbar": {
              "outlinewidth": 0,
              "ticks": ""
             }
            },
            "type": "scatterpolar"
           }
          ],
          "scatterpolargl": [
           {
            "marker": {
             "colorbar": {
              "outlinewidth": 0,
              "ticks": ""
             }
            },
            "type": "scatterpolargl"
           }
          ],
          "scatterternary": [
           {
            "marker": {
             "colorbar": {
              "outlinewidth": 0,
              "ticks": ""
             }
            },
            "type": "scatterternary"
           }
          ],
          "surface": [
           {
            "colorbar": {
             "outlinewidth": 0,
             "ticks": ""
            },
            "colorscale": [
             [
              0,
              "#0d0887"
             ],
             [
              0.1111111111111111,
              "#46039f"
             ],
             [
              0.2222222222222222,
              "#7201a8"
             ],
             [
              0.3333333333333333,
              "#9c179e"
             ],
             [
              0.4444444444444444,
              "#bd3786"
             ],
             [
              0.5555555555555556,
              "#d8576b"
             ],
             [
              0.6666666666666666,
              "#ed7953"
             ],
             [
              0.7777777777777778,
              "#fb9f3a"
             ],
             [
              0.8888888888888888,
              "#fdca26"
             ],
             [
              1,
              "#f0f921"
             ]
            ],
            "type": "surface"
           }
          ],
          "table": [
           {
            "cells": {
             "fill": {
              "color": "#EBF0F8"
             },
             "line": {
              "color": "white"
             }
            },
            "header": {
             "fill": {
              "color": "#C8D4E3"
             },
             "line": {
              "color": "white"
             }
            },
            "type": "table"
           }
          ]
         },
         "layout": {
          "annotationdefaults": {
           "arrowcolor": "#2a3f5f",
           "arrowhead": 0,
           "arrowwidth": 1
          },
          "autotypenumbers": "strict",
          "coloraxis": {
           "colorbar": {
            "outlinewidth": 0,
            "ticks": ""
           }
          },
          "colorscale": {
           "diverging": [
            [
             0,
             "#8e0152"
            ],
            [
             0.1,
             "#c51b7d"
            ],
            [
             0.2,
             "#de77ae"
            ],
            [
             0.3,
             "#f1b6da"
            ],
            [
             0.4,
             "#fde0ef"
            ],
            [
             0.5,
             "#f7f7f7"
            ],
            [
             0.6,
             "#e6f5d0"
            ],
            [
             0.7,
             "#b8e186"
            ],
            [
             0.8,
             "#7fbc41"
            ],
            [
             0.9,
             "#4d9221"
            ],
            [
             1,
             "#276419"
            ]
           ],
           "sequential": [
            [
             0,
             "#0d0887"
            ],
            [
             0.1111111111111111,
             "#46039f"
            ],
            [
             0.2222222222222222,
             "#7201a8"
            ],
            [
             0.3333333333333333,
             "#9c179e"
            ],
            [
             0.4444444444444444,
             "#bd3786"
            ],
            [
             0.5555555555555556,
             "#d8576b"
            ],
            [
             0.6666666666666666,
             "#ed7953"
            ],
            [
             0.7777777777777778,
             "#fb9f3a"
            ],
            [
             0.8888888888888888,
             "#fdca26"
            ],
            [
             1,
             "#f0f921"
            ]
           ],
           "sequentialminus": [
            [
             0,
             "#0d0887"
            ],
            [
             0.1111111111111111,
             "#46039f"
            ],
            [
             0.2222222222222222,
             "#7201a8"
            ],
            [
             0.3333333333333333,
             "#9c179e"
            ],
            [
             0.4444444444444444,
             "#bd3786"
            ],
            [
             0.5555555555555556,
             "#d8576b"
            ],
            [
             0.6666666666666666,
             "#ed7953"
            ],
            [
             0.7777777777777778,
             "#fb9f3a"
            ],
            [
             0.8888888888888888,
             "#fdca26"
            ],
            [
             1,
             "#f0f921"
            ]
           ]
          },
          "colorway": [
           "#636efa",
           "#EF553B",
           "#00cc96",
           "#ab63fa",
           "#FFA15A",
           "#19d3f3",
           "#FF6692",
           "#B6E880",
           "#FF97FF",
           "#FECB52"
          ],
          "font": {
           "color": "#2a3f5f"
          },
          "geo": {
           "bgcolor": "white",
           "lakecolor": "white",
           "landcolor": "#E5ECF6",
           "showlakes": true,
           "showland": true,
           "subunitcolor": "white"
          },
          "hoverlabel": {
           "align": "left"
          },
          "hovermode": "closest",
          "mapbox": {
           "style": "light"
          },
          "paper_bgcolor": "white",
          "plot_bgcolor": "#E5ECF6",
          "polar": {
           "angularaxis": {
            "gridcolor": "white",
            "linecolor": "white",
            "ticks": ""
           },
           "bgcolor": "#E5ECF6",
           "radialaxis": {
            "gridcolor": "white",
            "linecolor": "white",
            "ticks": ""
           }
          },
          "scene": {
           "xaxis": {
            "backgroundcolor": "#E5ECF6",
            "gridcolor": "white",
            "gridwidth": 2,
            "linecolor": "white",
            "showbackground": true,
            "ticks": "",
            "zerolinecolor": "white"
           },
           "yaxis": {
            "backgroundcolor": "#E5ECF6",
            "gridcolor": "white",
            "gridwidth": 2,
            "linecolor": "white",
            "showbackground": true,
            "ticks": "",
            "zerolinecolor": "white"
           },
           "zaxis": {
            "backgroundcolor": "#E5ECF6",
            "gridcolor": "white",
            "gridwidth": 2,
            "linecolor": "white",
            "showbackground": true,
            "ticks": "",
            "zerolinecolor": "white"
           }
          },
          "shapedefaults": {
           "line": {
            "color": "#2a3f5f"
           }
          },
          "ternary": {
           "aaxis": {
            "gridcolor": "white",
            "linecolor": "white",
            "ticks": ""
           },
           "baxis": {
            "gridcolor": "white",
            "linecolor": "white",
            "ticks": ""
           },
           "bgcolor": "#E5ECF6",
           "caxis": {
            "gridcolor": "white",
            "linecolor": "white",
            "ticks": ""
           }
          },
          "title": {
           "x": 0.05
          },
          "xaxis": {
           "automargin": true,
           "gridcolor": "white",
           "linecolor": "white",
           "ticks": "",
           "title": {
            "standoff": 15
           },
           "zerolinecolor": "white",
           "zerolinewidth": 2
          },
          "yaxis": {
           "automargin": true,
           "gridcolor": "white",
           "linecolor": "white",
           "ticks": "",
           "title": {
            "standoff": 15
           },
           "zerolinecolor": "white",
           "zerolinewidth": 2
          }
         }
        },
        "title": {
         "text": "Top 10 HeadQuarter Locations by Total Funding Amount"
        },
        "xaxis": {
         "anchor": "y",
         "domain": [
          0,
          1
         ],
         "tickangle": 45,
         "title": {
          "text": "HeadQuarter Location"
         }
        },
        "yaxis": {
         "anchor": "x",
         "domain": [
          0,
          1
         ],
         "title": {
          "text": "Total Funding Amount"
         }
        }
       }
      }
     },
     "metadata": {},
     "output_type": "display_data"
    }
   ],
   "source": [
    "# Calculate total funding amount for each HeadQuarter\n",
    "total_funding_by_hq = df_combined.groupby('HeadQuarter')['Amount'].sum().reset_index()\n",
    "\n",
    "# Sort the HeadQuarter locations by total funding amount in descending order\n",
    "total_funding_by_hq = total_funding_by_hq.sort_values('Amount', ascending=False)\n",
    "\n",
    "# Print the top 10 HeadQuarter locations by total funding amount\n",
    "print(\"Top 10 HeadQuarter Locations by Total Funding Amount:\")\n",
    "print(total_funding_by_hq.head(10))\n",
    "\n",
    "# Visualize the funding distribution across HeadQuarter locations\n",
    "fig = px.bar(total_funding_by_hq.head(10), x='HeadQuarter', y='Amount',\n",
    "             title='Top 10 HeadQuarter Locations by Total Funding Amount',\n",
    "             labels={'HeadQuarter': 'HeadQuarter Location', 'Amount': 'Total Funding Amount'})\n",
    "\n",
    "# Rotate the x-axis tick labels\n",
    "fig.update_xaxes(tickangle=45)\n",
    "\n",
    "# Show the plot\n",
    "fig.show()"
   ]
  },
  {
   "cell_type": "markdown",
   "metadata": {},
   "source": [
    "5. Investor Influence:\n",
    "Who are the top investors in the Indian startup ecosystem, and what is their funding pattern?"
   ]
  },
  {
   "cell_type": "code",
   "execution_count": 164,
   "metadata": {},
   "outputs": [
    {
     "name": "stdout",
     "output_type": "stream",
     "text": [
      "Top 10 Investors in Indian Startup Ecosystem:\n",
      "                                               Investor        Amount\n",
      "1595                                  Venture Catalysts  1.503436e+11\n",
      "1341           Silver Lake, Mubadala Investment Company  7.000000e+10\n",
      "1253    Salesforce Ventures, Dragoneer Investment Group  3.000000e+09\n",
      "480                  Facebook, Google, Kkr, Silver Lake  2.200000e+09\n",
      "1492                                       Tiger Global  1.417000e+09\n",
      "1071              Owl Ventures, Tiger Global Management  1.200000e+09\n",
      "332   Canaan Valley Capital, Glade Brook Capital Par...  1.000000e+09\n",
      "487   Falcon Edge, Dst Global, D1 Capital, Redbird C...  8.400000e+08\n",
      "340                      Carmignac, Falcon Edge Capital  8.000000e+08\n",
      "528           General Atlantic, Kohlberg Kravis Roberts  8.000000e+08\n"
     ]
    },
    {
     "data": {
      "application/vnd.plotly.v1+json": {
       "config": {
        "plotlyServerURL": "https://plot.ly"
       },
       "data": [
        {
         "alignmentgroup": "True",
         "hovertemplate": "Investor=%{x}<br>Total Funding Amount=%{y}<extra></extra>",
         "legendgroup": "",
         "marker": {
          "color": "#636efa",
          "pattern": {
           "shape": ""
          }
         },
         "name": "",
         "offsetgroup": "",
         "orientation": "v",
         "showlegend": false,
         "textposition": "auto",
         "type": "bar",
         "x": [
          "Venture Catalysts",
          "Silver Lake, Mubadala Investment Company",
          "Salesforce Ventures, Dragoneer Investment Group",
          "Facebook, Google, Kkr, Silver Lake",
          "Tiger Global",
          "Owl Ventures, Tiger Global Management",
          "Canaan Valley Capital, Glade Brook Capital Partners",
          "Falcon Edge, Dst Global, D1 Capital, Redbird Capital, Tiger Global",
          "Carmignac, Falcon Edge Capital",
          "General Atlantic, Kohlberg Kravis Roberts"
         ],
         "xaxis": "x",
         "y": [
          150343650000,
          70000000000,
          3000000000,
          2200000000,
          1417000000,
          1200000000,
          1000000000,
          840000000,
          800000000,
          800000000
         ],
         "yaxis": "y"
        }
       ],
       "layout": {
        "barmode": "relative",
        "legend": {
         "tracegroupgap": 0
        },
        "template": {
         "data": {
          "bar": [
           {
            "error_x": {
             "color": "#2a3f5f"
            },
            "error_y": {
             "color": "#2a3f5f"
            },
            "marker": {
             "line": {
              "color": "#E5ECF6",
              "width": 0.5
             },
             "pattern": {
              "fillmode": "overlay",
              "size": 10,
              "solidity": 0.2
             }
            },
            "type": "bar"
           }
          ],
          "barpolar": [
           {
            "marker": {
             "line": {
              "color": "#E5ECF6",
              "width": 0.5
             },
             "pattern": {
              "fillmode": "overlay",
              "size": 10,
              "solidity": 0.2
             }
            },
            "type": "barpolar"
           }
          ],
          "carpet": [
           {
            "aaxis": {
             "endlinecolor": "#2a3f5f",
             "gridcolor": "white",
             "linecolor": "white",
             "minorgridcolor": "white",
             "startlinecolor": "#2a3f5f"
            },
            "baxis": {
             "endlinecolor": "#2a3f5f",
             "gridcolor": "white",
             "linecolor": "white",
             "minorgridcolor": "white",
             "startlinecolor": "#2a3f5f"
            },
            "type": "carpet"
           }
          ],
          "choropleth": [
           {
            "colorbar": {
             "outlinewidth": 0,
             "ticks": ""
            },
            "type": "choropleth"
           }
          ],
          "contour": [
           {
            "colorbar": {
             "outlinewidth": 0,
             "ticks": ""
            },
            "colorscale": [
             [
              0,
              "#0d0887"
             ],
             [
              0.1111111111111111,
              "#46039f"
             ],
             [
              0.2222222222222222,
              "#7201a8"
             ],
             [
              0.3333333333333333,
              "#9c179e"
             ],
             [
              0.4444444444444444,
              "#bd3786"
             ],
             [
              0.5555555555555556,
              "#d8576b"
             ],
             [
              0.6666666666666666,
              "#ed7953"
             ],
             [
              0.7777777777777778,
              "#fb9f3a"
             ],
             [
              0.8888888888888888,
              "#fdca26"
             ],
             [
              1,
              "#f0f921"
             ]
            ],
            "type": "contour"
           }
          ],
          "contourcarpet": [
           {
            "colorbar": {
             "outlinewidth": 0,
             "ticks": ""
            },
            "type": "contourcarpet"
           }
          ],
          "heatmap": [
           {
            "colorbar": {
             "outlinewidth": 0,
             "ticks": ""
            },
            "colorscale": [
             [
              0,
              "#0d0887"
             ],
             [
              0.1111111111111111,
              "#46039f"
             ],
             [
              0.2222222222222222,
              "#7201a8"
             ],
             [
              0.3333333333333333,
              "#9c179e"
             ],
             [
              0.4444444444444444,
              "#bd3786"
             ],
             [
              0.5555555555555556,
              "#d8576b"
             ],
             [
              0.6666666666666666,
              "#ed7953"
             ],
             [
              0.7777777777777778,
              "#fb9f3a"
             ],
             [
              0.8888888888888888,
              "#fdca26"
             ],
             [
              1,
              "#f0f921"
             ]
            ],
            "type": "heatmap"
           }
          ],
          "heatmapgl": [
           {
            "colorbar": {
             "outlinewidth": 0,
             "ticks": ""
            },
            "colorscale": [
             [
              0,
              "#0d0887"
             ],
             [
              0.1111111111111111,
              "#46039f"
             ],
             [
              0.2222222222222222,
              "#7201a8"
             ],
             [
              0.3333333333333333,
              "#9c179e"
             ],
             [
              0.4444444444444444,
              "#bd3786"
             ],
             [
              0.5555555555555556,
              "#d8576b"
             ],
             [
              0.6666666666666666,
              "#ed7953"
             ],
             [
              0.7777777777777778,
              "#fb9f3a"
             ],
             [
              0.8888888888888888,
              "#fdca26"
             ],
             [
              1,
              "#f0f921"
             ]
            ],
            "type": "heatmapgl"
           }
          ],
          "histogram": [
           {
            "marker": {
             "pattern": {
              "fillmode": "overlay",
              "size": 10,
              "solidity": 0.2
             }
            },
            "type": "histogram"
           }
          ],
          "histogram2d": [
           {
            "colorbar": {
             "outlinewidth": 0,
             "ticks": ""
            },
            "colorscale": [
             [
              0,
              "#0d0887"
             ],
             [
              0.1111111111111111,
              "#46039f"
             ],
             [
              0.2222222222222222,
              "#7201a8"
             ],
             [
              0.3333333333333333,
              "#9c179e"
             ],
             [
              0.4444444444444444,
              "#bd3786"
             ],
             [
              0.5555555555555556,
              "#d8576b"
             ],
             [
              0.6666666666666666,
              "#ed7953"
             ],
             [
              0.7777777777777778,
              "#fb9f3a"
             ],
             [
              0.8888888888888888,
              "#fdca26"
             ],
             [
              1,
              "#f0f921"
             ]
            ],
            "type": "histogram2d"
           }
          ],
          "histogram2dcontour": [
           {
            "colorbar": {
             "outlinewidth": 0,
             "ticks": ""
            },
            "colorscale": [
             [
              0,
              "#0d0887"
             ],
             [
              0.1111111111111111,
              "#46039f"
             ],
             [
              0.2222222222222222,
              "#7201a8"
             ],
             [
              0.3333333333333333,
              "#9c179e"
             ],
             [
              0.4444444444444444,
              "#bd3786"
             ],
             [
              0.5555555555555556,
              "#d8576b"
             ],
             [
              0.6666666666666666,
              "#ed7953"
             ],
             [
              0.7777777777777778,
              "#fb9f3a"
             ],
             [
              0.8888888888888888,
              "#fdca26"
             ],
             [
              1,
              "#f0f921"
             ]
            ],
            "type": "histogram2dcontour"
           }
          ],
          "mesh3d": [
           {
            "colorbar": {
             "outlinewidth": 0,
             "ticks": ""
            },
            "type": "mesh3d"
           }
          ],
          "parcoords": [
           {
            "line": {
             "colorbar": {
              "outlinewidth": 0,
              "ticks": ""
             }
            },
            "type": "parcoords"
           }
          ],
          "pie": [
           {
            "automargin": true,
            "type": "pie"
           }
          ],
          "scatter": [
           {
            "fillpattern": {
             "fillmode": "overlay",
             "size": 10,
             "solidity": 0.2
            },
            "type": "scatter"
           }
          ],
          "scatter3d": [
           {
            "line": {
             "colorbar": {
              "outlinewidth": 0,
              "ticks": ""
             }
            },
            "marker": {
             "colorbar": {
              "outlinewidth": 0,
              "ticks": ""
             }
            },
            "type": "scatter3d"
           }
          ],
          "scattercarpet": [
           {
            "marker": {
             "colorbar": {
              "outlinewidth": 0,
              "ticks": ""
             }
            },
            "type": "scattercarpet"
           }
          ],
          "scattergeo": [
           {
            "marker": {
             "colorbar": {
              "outlinewidth": 0,
              "ticks": ""
             }
            },
            "type": "scattergeo"
           }
          ],
          "scattergl": [
           {
            "marker": {
             "colorbar": {
              "outlinewidth": 0,
              "ticks": ""
             }
            },
            "type": "scattergl"
           }
          ],
          "scattermapbox": [
           {
            "marker": {
             "colorbar": {
              "outlinewidth": 0,
              "ticks": ""
             }
            },
            "type": "scattermapbox"
           }
          ],
          "scatterpolar": [
           {
            "marker": {
             "colorbar": {
              "outlinewidth": 0,
              "ticks": ""
             }
            },
            "type": "scatterpolar"
           }
          ],
          "scatterpolargl": [
           {
            "marker": {
             "colorbar": {
              "outlinewidth": 0,
              "ticks": ""
             }
            },
            "type": "scatterpolargl"
           }
          ],
          "scatterternary": [
           {
            "marker": {
             "colorbar": {
              "outlinewidth": 0,
              "ticks": ""
             }
            },
            "type": "scatterternary"
           }
          ],
          "surface": [
           {
            "colorbar": {
             "outlinewidth": 0,
             "ticks": ""
            },
            "colorscale": [
             [
              0,
              "#0d0887"
             ],
             [
              0.1111111111111111,
              "#46039f"
             ],
             [
              0.2222222222222222,
              "#7201a8"
             ],
             [
              0.3333333333333333,
              "#9c179e"
             ],
             [
              0.4444444444444444,
              "#bd3786"
             ],
             [
              0.5555555555555556,
              "#d8576b"
             ],
             [
              0.6666666666666666,
              "#ed7953"
             ],
             [
              0.7777777777777778,
              "#fb9f3a"
             ],
             [
              0.8888888888888888,
              "#fdca26"
             ],
             [
              1,
              "#f0f921"
             ]
            ],
            "type": "surface"
           }
          ],
          "table": [
           {
            "cells": {
             "fill": {
              "color": "#EBF0F8"
             },
             "line": {
              "color": "white"
             }
            },
            "header": {
             "fill": {
              "color": "#C8D4E3"
             },
             "line": {
              "color": "white"
             }
            },
            "type": "table"
           }
          ]
         },
         "layout": {
          "annotationdefaults": {
           "arrowcolor": "#2a3f5f",
           "arrowhead": 0,
           "arrowwidth": 1
          },
          "autotypenumbers": "strict",
          "coloraxis": {
           "colorbar": {
            "outlinewidth": 0,
            "ticks": ""
           }
          },
          "colorscale": {
           "diverging": [
            [
             0,
             "#8e0152"
            ],
            [
             0.1,
             "#c51b7d"
            ],
            [
             0.2,
             "#de77ae"
            ],
            [
             0.3,
             "#f1b6da"
            ],
            [
             0.4,
             "#fde0ef"
            ],
            [
             0.5,
             "#f7f7f7"
            ],
            [
             0.6,
             "#e6f5d0"
            ],
            [
             0.7,
             "#b8e186"
            ],
            [
             0.8,
             "#7fbc41"
            ],
            [
             0.9,
             "#4d9221"
            ],
            [
             1,
             "#276419"
            ]
           ],
           "sequential": [
            [
             0,
             "#0d0887"
            ],
            [
             0.1111111111111111,
             "#46039f"
            ],
            [
             0.2222222222222222,
             "#7201a8"
            ],
            [
             0.3333333333333333,
             "#9c179e"
            ],
            [
             0.4444444444444444,
             "#bd3786"
            ],
            [
             0.5555555555555556,
             "#d8576b"
            ],
            [
             0.6666666666666666,
             "#ed7953"
            ],
            [
             0.7777777777777778,
             "#fb9f3a"
            ],
            [
             0.8888888888888888,
             "#fdca26"
            ],
            [
             1,
             "#f0f921"
            ]
           ],
           "sequentialminus": [
            [
             0,
             "#0d0887"
            ],
            [
             0.1111111111111111,
             "#46039f"
            ],
            [
             0.2222222222222222,
             "#7201a8"
            ],
            [
             0.3333333333333333,
             "#9c179e"
            ],
            [
             0.4444444444444444,
             "#bd3786"
            ],
            [
             0.5555555555555556,
             "#d8576b"
            ],
            [
             0.6666666666666666,
             "#ed7953"
            ],
            [
             0.7777777777777778,
             "#fb9f3a"
            ],
            [
             0.8888888888888888,
             "#fdca26"
            ],
            [
             1,
             "#f0f921"
            ]
           ]
          },
          "colorway": [
           "#636efa",
           "#EF553B",
           "#00cc96",
           "#ab63fa",
           "#FFA15A",
           "#19d3f3",
           "#FF6692",
           "#B6E880",
           "#FF97FF",
           "#FECB52"
          ],
          "font": {
           "color": "#2a3f5f"
          },
          "geo": {
           "bgcolor": "white",
           "lakecolor": "white",
           "landcolor": "#E5ECF6",
           "showlakes": true,
           "showland": true,
           "subunitcolor": "white"
          },
          "hoverlabel": {
           "align": "left"
          },
          "hovermode": "closest",
          "mapbox": {
           "style": "light"
          },
          "paper_bgcolor": "white",
          "plot_bgcolor": "#E5ECF6",
          "polar": {
           "angularaxis": {
            "gridcolor": "white",
            "linecolor": "white",
            "ticks": ""
           },
           "bgcolor": "#E5ECF6",
           "radialaxis": {
            "gridcolor": "white",
            "linecolor": "white",
            "ticks": ""
           }
          },
          "scene": {
           "xaxis": {
            "backgroundcolor": "#E5ECF6",
            "gridcolor": "white",
            "gridwidth": 2,
            "linecolor": "white",
            "showbackground": true,
            "ticks": "",
            "zerolinecolor": "white"
           },
           "yaxis": {
            "backgroundcolor": "#E5ECF6",
            "gridcolor": "white",
            "gridwidth": 2,
            "linecolor": "white",
            "showbackground": true,
            "ticks": "",
            "zerolinecolor": "white"
           },
           "zaxis": {
            "backgroundcolor": "#E5ECF6",
            "gridcolor": "white",
            "gridwidth": 2,
            "linecolor": "white",
            "showbackground": true,
            "ticks": "",
            "zerolinecolor": "white"
           }
          },
          "shapedefaults": {
           "line": {
            "color": "#2a3f5f"
           }
          },
          "ternary": {
           "aaxis": {
            "gridcolor": "white",
            "linecolor": "white",
            "ticks": ""
           },
           "baxis": {
            "gridcolor": "white",
            "linecolor": "white",
            "ticks": ""
           },
           "bgcolor": "#E5ECF6",
           "caxis": {
            "gridcolor": "white",
            "linecolor": "white",
            "ticks": ""
           }
          },
          "title": {
           "x": 0.05
          },
          "xaxis": {
           "automargin": true,
           "gridcolor": "white",
           "linecolor": "white",
           "ticks": "",
           "title": {
            "standoff": 15
           },
           "zerolinecolor": "white",
           "zerolinewidth": 2
          },
          "yaxis": {
           "automargin": true,
           "gridcolor": "white",
           "linecolor": "white",
           "ticks": "",
           "title": {
            "standoff": 15
           },
           "zerolinecolor": "white",
           "zerolinewidth": 2
          }
         }
        },
        "title": {
         "text": "Top 10 Investors in Indian Startup Ecosystem"
        },
        "xaxis": {
         "anchor": "y",
         "domain": [
          0,
          1
         ],
         "tickangle": 45,
         "title": {
          "text": "Investor"
         }
        },
        "yaxis": {
         "anchor": "x",
         "domain": [
          0,
          1
         ],
         "title": {
          "text": "Total Funding Amount"
         }
        }
       }
      }
     },
     "metadata": {},
     "output_type": "display_data"
    }
   ],
   "source": [
    "# Calculate total funding amount for each investor\n",
    "total_funding_by_investor = df_combined.groupby('Investor')['Amount'].sum().reset_index()\n",
    "\n",
    "# Sort the investors by total funding amount in descending order\n",
    "total_funding_by_investor = total_funding_by_investor.sort_values('Amount', ascending=False)\n",
    "\n",
    "# Print the top 10 investors by total funding amount\n",
    "print(\"Top 10 Investors in Indian Startup Ecosystem:\")\n",
    "print(total_funding_by_investor.head(10))\n",
    "\n",
    "# Visualize the funding distribution across top investors\n",
    "fig = px.bar(total_funding_by_investor.head(10), x='Investor', y='Amount',\n",
    "             title='Top 10 Investors in Indian Startup Ecosystem',\n",
    "             labels={'Investor': 'Investor', 'Amount': 'Total Funding Amount'})\n",
    "\n",
    "# Rotate the x-axis tick labels\n",
    "fig.update_xaxes(tickangle=45)\n",
    "\n",
    "# Show the plot\n",
    "fig.show()"
   ]
  },
  {
   "cell_type": "markdown",
   "metadata": {},
   "source": [
    "6. Founder Impact:\n",
    "Is there a correlation between the number of founders and the amount of funding received?"
   ]
  },
  {
   "cell_type": "code",
   "execution_count": 165,
   "metadata": {},
   "outputs": [
    {
     "data": {
      "application/vnd.plotly.v1+json": {
       "config": {
        "plotlyServerURL": "https://plot.ly"
       },
       "data": [
        {
         "hovertemplate": "Number of Founders=%{x}<br>Median Funding Amount=%{y}<extra></extra>",
         "legendgroup": "",
         "marker": {
          "color": "#636efa",
          "symbol": "circle"
         },
         "mode": "markers",
         "name": "",
         "orientation": "v",
         "showlegend": false,
         "type": "scatter",
         "x": [
          "Benoit Dageville, Bob Muglia, Marcin Zukowski, Thierry Cruanes",
          "Bhavish Aggarwal",
          "Byju Raveendran",
          "Byju Raveendran, Divya Gokulnath",
          "Dhirubhai Ambani",
          "Mukesh Ambani",
          "Ritesh Agarwal",
          "Sanjeev Barnwal, Vidit Aatrey",
          "Vinod Murali",
          "Virendra Gupta"
         ],
         "xaxis": "x",
         "y": [
          3000000000,
          1028500000,
          2066716100,
          1510000000,
          2200000000,
          70820220000,
          1565000000,
          870000000,
          150000000000,
          1159600000
         ],
         "yaxis": "y"
        }
       ],
       "layout": {
        "legend": {
         "tracegroupgap": 0
        },
        "template": {
         "data": {
          "bar": [
           {
            "error_x": {
             "color": "#2a3f5f"
            },
            "error_y": {
             "color": "#2a3f5f"
            },
            "marker": {
             "line": {
              "color": "#E5ECF6",
              "width": 0.5
             },
             "pattern": {
              "fillmode": "overlay",
              "size": 10,
              "solidity": 0.2
             }
            },
            "type": "bar"
           }
          ],
          "barpolar": [
           {
            "marker": {
             "line": {
              "color": "#E5ECF6",
              "width": 0.5
             },
             "pattern": {
              "fillmode": "overlay",
              "size": 10,
              "solidity": 0.2
             }
            },
            "type": "barpolar"
           }
          ],
          "carpet": [
           {
            "aaxis": {
             "endlinecolor": "#2a3f5f",
             "gridcolor": "white",
             "linecolor": "white",
             "minorgridcolor": "white",
             "startlinecolor": "#2a3f5f"
            },
            "baxis": {
             "endlinecolor": "#2a3f5f",
             "gridcolor": "white",
             "linecolor": "white",
             "minorgridcolor": "white",
             "startlinecolor": "#2a3f5f"
            },
            "type": "carpet"
           }
          ],
          "choropleth": [
           {
            "colorbar": {
             "outlinewidth": 0,
             "ticks": ""
            },
            "type": "choropleth"
           }
          ],
          "contour": [
           {
            "colorbar": {
             "outlinewidth": 0,
             "ticks": ""
            },
            "colorscale": [
             [
              0,
              "#0d0887"
             ],
             [
              0.1111111111111111,
              "#46039f"
             ],
             [
              0.2222222222222222,
              "#7201a8"
             ],
             [
              0.3333333333333333,
              "#9c179e"
             ],
             [
              0.4444444444444444,
              "#bd3786"
             ],
             [
              0.5555555555555556,
              "#d8576b"
             ],
             [
              0.6666666666666666,
              "#ed7953"
             ],
             [
              0.7777777777777778,
              "#fb9f3a"
             ],
             [
              0.8888888888888888,
              "#fdca26"
             ],
             [
              1,
              "#f0f921"
             ]
            ],
            "type": "contour"
           }
          ],
          "contourcarpet": [
           {
            "colorbar": {
             "outlinewidth": 0,
             "ticks": ""
            },
            "type": "contourcarpet"
           }
          ],
          "heatmap": [
           {
            "colorbar": {
             "outlinewidth": 0,
             "ticks": ""
            },
            "colorscale": [
             [
              0,
              "#0d0887"
             ],
             [
              0.1111111111111111,
              "#46039f"
             ],
             [
              0.2222222222222222,
              "#7201a8"
             ],
             [
              0.3333333333333333,
              "#9c179e"
             ],
             [
              0.4444444444444444,
              "#bd3786"
             ],
             [
              0.5555555555555556,
              "#d8576b"
             ],
             [
              0.6666666666666666,
              "#ed7953"
             ],
             [
              0.7777777777777778,
              "#fb9f3a"
             ],
             [
              0.8888888888888888,
              "#fdca26"
             ],
             [
              1,
              "#f0f921"
             ]
            ],
            "type": "heatmap"
           }
          ],
          "heatmapgl": [
           {
            "colorbar": {
             "outlinewidth": 0,
             "ticks": ""
            },
            "colorscale": [
             [
              0,
              "#0d0887"
             ],
             [
              0.1111111111111111,
              "#46039f"
             ],
             [
              0.2222222222222222,
              "#7201a8"
             ],
             [
              0.3333333333333333,
              "#9c179e"
             ],
             [
              0.4444444444444444,
              "#bd3786"
             ],
             [
              0.5555555555555556,
              "#d8576b"
             ],
             [
              0.6666666666666666,
              "#ed7953"
             ],
             [
              0.7777777777777778,
              "#fb9f3a"
             ],
             [
              0.8888888888888888,
              "#fdca26"
             ],
             [
              1,
              "#f0f921"
             ]
            ],
            "type": "heatmapgl"
           }
          ],
          "histogram": [
           {
            "marker": {
             "pattern": {
              "fillmode": "overlay",
              "size": 10,
              "solidity": 0.2
             }
            },
            "type": "histogram"
           }
          ],
          "histogram2d": [
           {
            "colorbar": {
             "outlinewidth": 0,
             "ticks": ""
            },
            "colorscale": [
             [
              0,
              "#0d0887"
             ],
             [
              0.1111111111111111,
              "#46039f"
             ],
             [
              0.2222222222222222,
              "#7201a8"
             ],
             [
              0.3333333333333333,
              "#9c179e"
             ],
             [
              0.4444444444444444,
              "#bd3786"
             ],
             [
              0.5555555555555556,
              "#d8576b"
             ],
             [
              0.6666666666666666,
              "#ed7953"
             ],
             [
              0.7777777777777778,
              "#fb9f3a"
             ],
             [
              0.8888888888888888,
              "#fdca26"
             ],
             [
              1,
              "#f0f921"
             ]
            ],
            "type": "histogram2d"
           }
          ],
          "histogram2dcontour": [
           {
            "colorbar": {
             "outlinewidth": 0,
             "ticks": ""
            },
            "colorscale": [
             [
              0,
              "#0d0887"
             ],
             [
              0.1111111111111111,
              "#46039f"
             ],
             [
              0.2222222222222222,
              "#7201a8"
             ],
             [
              0.3333333333333333,
              "#9c179e"
             ],
             [
              0.4444444444444444,
              "#bd3786"
             ],
             [
              0.5555555555555556,
              "#d8576b"
             ],
             [
              0.6666666666666666,
              "#ed7953"
             ],
             [
              0.7777777777777778,
              "#fb9f3a"
             ],
             [
              0.8888888888888888,
              "#fdca26"
             ],
             [
              1,
              "#f0f921"
             ]
            ],
            "type": "histogram2dcontour"
           }
          ],
          "mesh3d": [
           {
            "colorbar": {
             "outlinewidth": 0,
             "ticks": ""
            },
            "type": "mesh3d"
           }
          ],
          "parcoords": [
           {
            "line": {
             "colorbar": {
              "outlinewidth": 0,
              "ticks": ""
             }
            },
            "type": "parcoords"
           }
          ],
          "pie": [
           {
            "automargin": true,
            "type": "pie"
           }
          ],
          "scatter": [
           {
            "fillpattern": {
             "fillmode": "overlay",
             "size": 10,
             "solidity": 0.2
            },
            "type": "scatter"
           }
          ],
          "scatter3d": [
           {
            "line": {
             "colorbar": {
              "outlinewidth": 0,
              "ticks": ""
             }
            },
            "marker": {
             "colorbar": {
              "outlinewidth": 0,
              "ticks": ""
             }
            },
            "type": "scatter3d"
           }
          ],
          "scattercarpet": [
           {
            "marker": {
             "colorbar": {
              "outlinewidth": 0,
              "ticks": ""
             }
            },
            "type": "scattercarpet"
           }
          ],
          "scattergeo": [
           {
            "marker": {
             "colorbar": {
              "outlinewidth": 0,
              "ticks": ""
             }
            },
            "type": "scattergeo"
           }
          ],
          "scattergl": [
           {
            "marker": {
             "colorbar": {
              "outlinewidth": 0,
              "ticks": ""
             }
            },
            "type": "scattergl"
           }
          ],
          "scattermapbox": [
           {
            "marker": {
             "colorbar": {
              "outlinewidth": 0,
              "ticks": ""
             }
            },
            "type": "scattermapbox"
           }
          ],
          "scatterpolar": [
           {
            "marker": {
             "colorbar": {
              "outlinewidth": 0,
              "ticks": ""
             }
            },
            "type": "scatterpolar"
           }
          ],
          "scatterpolargl": [
           {
            "marker": {
             "colorbar": {
              "outlinewidth": 0,
              "ticks": ""
             }
            },
            "type": "scatterpolargl"
           }
          ],
          "scatterternary": [
           {
            "marker": {
             "colorbar": {
              "outlinewidth": 0,
              "ticks": ""
             }
            },
            "type": "scatterternary"
           }
          ],
          "surface": [
           {
            "colorbar": {
             "outlinewidth": 0,
             "ticks": ""
            },
            "colorscale": [
             [
              0,
              "#0d0887"
             ],
             [
              0.1111111111111111,
              "#46039f"
             ],
             [
              0.2222222222222222,
              "#7201a8"
             ],
             [
              0.3333333333333333,
              "#9c179e"
             ],
             [
              0.4444444444444444,
              "#bd3786"
             ],
             [
              0.5555555555555556,
              "#d8576b"
             ],
             [
              0.6666666666666666,
              "#ed7953"
             ],
             [
              0.7777777777777778,
              "#fb9f3a"
             ],
             [
              0.8888888888888888,
              "#fdca26"
             ],
             [
              1,
              "#f0f921"
             ]
            ],
            "type": "surface"
           }
          ],
          "table": [
           {
            "cells": {
             "fill": {
              "color": "#EBF0F8"
             },
             "line": {
              "color": "white"
             }
            },
            "header": {
             "fill": {
              "color": "#C8D4E3"
             },
             "line": {
              "color": "white"
             }
            },
            "type": "table"
           }
          ]
         },
         "layout": {
          "annotationdefaults": {
           "arrowcolor": "#2a3f5f",
           "arrowhead": 0,
           "arrowwidth": 1
          },
          "autotypenumbers": "strict",
          "coloraxis": {
           "colorbar": {
            "outlinewidth": 0,
            "ticks": ""
           }
          },
          "colorscale": {
           "diverging": [
            [
             0,
             "#8e0152"
            ],
            [
             0.1,
             "#c51b7d"
            ],
            [
             0.2,
             "#de77ae"
            ],
            [
             0.3,
             "#f1b6da"
            ],
            [
             0.4,
             "#fde0ef"
            ],
            [
             0.5,
             "#f7f7f7"
            ],
            [
             0.6,
             "#e6f5d0"
            ],
            [
             0.7,
             "#b8e186"
            ],
            [
             0.8,
             "#7fbc41"
            ],
            [
             0.9,
             "#4d9221"
            ],
            [
             1,
             "#276419"
            ]
           ],
           "sequential": [
            [
             0,
             "#0d0887"
            ],
            [
             0.1111111111111111,
             "#46039f"
            ],
            [
             0.2222222222222222,
             "#7201a8"
            ],
            [
             0.3333333333333333,
             "#9c179e"
            ],
            [
             0.4444444444444444,
             "#bd3786"
            ],
            [
             0.5555555555555556,
             "#d8576b"
            ],
            [
             0.6666666666666666,
             "#ed7953"
            ],
            [
             0.7777777777777778,
             "#fb9f3a"
            ],
            [
             0.8888888888888888,
             "#fdca26"
            ],
            [
             1,
             "#f0f921"
            ]
           ],
           "sequentialminus": [
            [
             0,
             "#0d0887"
            ],
            [
             0.1111111111111111,
             "#46039f"
            ],
            [
             0.2222222222222222,
             "#7201a8"
            ],
            [
             0.3333333333333333,
             "#9c179e"
            ],
            [
             0.4444444444444444,
             "#bd3786"
            ],
            [
             0.5555555555555556,
             "#d8576b"
            ],
            [
             0.6666666666666666,
             "#ed7953"
            ],
            [
             0.7777777777777778,
             "#fb9f3a"
            ],
            [
             0.8888888888888888,
             "#fdca26"
            ],
            [
             1,
             "#f0f921"
            ]
           ]
          },
          "colorway": [
           "#636efa",
           "#EF553B",
           "#00cc96",
           "#ab63fa",
           "#FFA15A",
           "#19d3f3",
           "#FF6692",
           "#B6E880",
           "#FF97FF",
           "#FECB52"
          ],
          "font": {
           "color": "#2a3f5f"
          },
          "geo": {
           "bgcolor": "white",
           "lakecolor": "white",
           "landcolor": "#E5ECF6",
           "showlakes": true,
           "showland": true,
           "subunitcolor": "white"
          },
          "hoverlabel": {
           "align": "left"
          },
          "hovermode": "closest",
          "mapbox": {
           "style": "light"
          },
          "paper_bgcolor": "white",
          "plot_bgcolor": "#E5ECF6",
          "polar": {
           "angularaxis": {
            "gridcolor": "white",
            "linecolor": "white",
            "ticks": ""
           },
           "bgcolor": "#E5ECF6",
           "radialaxis": {
            "gridcolor": "white",
            "linecolor": "white",
            "ticks": ""
           }
          },
          "scene": {
           "xaxis": {
            "backgroundcolor": "#E5ECF6",
            "gridcolor": "white",
            "gridwidth": 2,
            "linecolor": "white",
            "showbackground": true,
            "ticks": "",
            "zerolinecolor": "white"
           },
           "yaxis": {
            "backgroundcolor": "#E5ECF6",
            "gridcolor": "white",
            "gridwidth": 2,
            "linecolor": "white",
            "showbackground": true,
            "ticks": "",
            "zerolinecolor": "white"
           },
           "zaxis": {
            "backgroundcolor": "#E5ECF6",
            "gridcolor": "white",
            "gridwidth": 2,
            "linecolor": "white",
            "showbackground": true,
            "ticks": "",
            "zerolinecolor": "white"
           }
          },
          "shapedefaults": {
           "line": {
            "color": "#2a3f5f"
           }
          },
          "ternary": {
           "aaxis": {
            "gridcolor": "white",
            "linecolor": "white",
            "ticks": ""
           },
           "baxis": {
            "gridcolor": "white",
            "linecolor": "white",
            "ticks": ""
           },
           "bgcolor": "#E5ECF6",
           "caxis": {
            "gridcolor": "white",
            "linecolor": "white",
            "ticks": ""
           }
          },
          "title": {
           "x": 0.05
          },
          "xaxis": {
           "automargin": true,
           "gridcolor": "white",
           "linecolor": "white",
           "ticks": "",
           "title": {
            "standoff": 15
           },
           "zerolinecolor": "white",
           "zerolinewidth": 2
          },
          "yaxis": {
           "automargin": true,
           "gridcolor": "white",
           "linecolor": "white",
           "ticks": "",
           "title": {
            "standoff": 15
           },
           "zerolinecolor": "white",
           "zerolinewidth": 2
          }
         }
        },
        "title": {
         "text": "Relationship between Number of Founders and Funding Amount (Top 10 Founders)"
        },
        "xaxis": {
         "anchor": "y",
         "domain": [
          0,
          1
         ],
         "title": {
          "text": "Number of Founders"
         }
        },
        "yaxis": {
         "anchor": "x",
         "domain": [
          0,
          1
         ],
         "title": {
          "text": "Median Funding Amount"
         }
        }
       }
      }
     },
     "metadata": {},
     "output_type": "display_data"
    }
   ],
   "source": [
    "# Calculate total funding amount for each founder\n",
    "total_funding_by_founder = df_combined.groupby('Founders')['Amount'].sum().reset_index()\n",
    "\n",
    "# Sort the founders by total funding amount in descending order\n",
    "total_funding_by_founder = total_funding_by_founder.sort_values('Amount', ascending=False)\n",
    "\n",
    "# Select the top 10 founders\n",
    "top_10_founders = total_funding_by_founder.head(10)\n",
    "\n",
    "# Group the data by the number of founders and calculate the median funding amount\n",
    "funding_by_num_founders = top_10_founders.groupby('Founders')['Amount'].median().reset_index()\n",
    "\n",
    "# Plot the data\n",
    "fig = px.scatter(funding_by_num_founders, x='Founders', y='Amount',\n",
    "                 title='Relationship between Number of Founders and Funding Amount (Top 10 Founders)',\n",
    "                 labels={'Founders': 'Number of Founders', 'Amount': 'Median Funding Amount'})\n",
    "\n",
    "# Show the plot\n",
    "fig.show()"
   ]
  },
  {
   "cell_type": "markdown",
   "metadata": {},
   "source": [
    "7. What are the characteristics of startups in the highest-funded sectors (e.g., number of founders, location)?"
   ]
  },
  {
   "cell_type": "code",
   "execution_count": 166,
   "metadata": {},
   "outputs": [
    {
     "name": "stdout",
     "output_type": "stream",
     "text": [
      "Company Brand: Krayonnz\n",
      "Headquarters: Bangalore\n",
      "Stage: Pre-seed\n",
      "What it does: An academy-guardian-scholar centric ecosystem which provides state of the art technological solutions.\n",
      "---\n",
      "Company Brand: Myclassboard\n",
      "Headquarters: Hyderabad\n",
      "Stage: Pre-series A\n",
      "What it does: MyClassboard is a full-fledged School / College Management Software.\n",
      "---\n",
      "Company Brand: Rupeek\n",
      "Headquarters: Bangalore\n",
      "Stage: Series C\n",
      "What it does: Rupeek is an online lending platform that specializes in credit risk, gold loans, and personal loans.\n",
      "---\n",
      "Company Brand: Zomato\n",
      "Headquarters: Gurgaon\n",
      "Stage: Seed\n",
      "What it does: Zomato is a food delivery and restaurant discovery site that provides information and reviews about restaurants\n",
      "---\n",
      "Company Brand: Shiprocket\n",
      "Headquarters: New Delhi\n",
      "Stage: Series C\n",
      "What it does: Shiprocket helps online retailers simplify their shipping by providing a delightful post purchase experience to their consumers.\n",
      "---\n",
      "Company Brand: Pine Labs\n",
      "Headquarters: Noida\n",
      "Stage: Pre series A\n",
      "What it does: A merchant platform company that provides financing and last-mile retail transaction technology to merchants.\n",
      "---\n",
      "Company Brand: Moneyboxx Finance\n",
      "Headquarters: New Delhi\n",
      "Stage: Seed\n",
      "What it does: MONEYBOXX FINANCE LTD is committed to providing easy access to financing to the deserving micro enterprises in the tier 2 and tier 3 cities of India\n",
      "---\n",
      "Company Brand: Sucseed Indovation\n",
      "Headquarters: Hyderabad\n",
      "Stage: Series A\n",
      "What it does: SucSEED INDOVATION FACILITATES ACCESS TO CAPITAL FOR DEEP TECH STARTUPS TO INNOVATE, SCALE & GROW\n",
      "---\n",
      "Company Brand: Taxbuddy.Com\n",
      "Headquarters: Mumbai\n",
      "Stage: Pre series A\n",
      "What it does: TaxBuddy for any tax related issues.\n",
      "---\n",
      "Company Brand: Circle Of Angels\n",
      "Headquarters: Gurgaon\n",
      "Stage: Seed\n",
      "What it does: Circles of Angels aims to solve this issue through the creation of a funding network that makes impact funding accessible to everyone.\n",
      "---\n",
      "Company Brand: Coindcx\n",
      "Headquarters: Mumbai\n",
      "Stage: Series B\n",
      "What it does: CoinDCX is a company that specializes in crypto-enabled financial services.\n",
      "---\n",
      "Company Brand: Delhivery\n",
      "Headquarters: Gurgaon\n",
      "Stage: Series B\n",
      "What it does: Delhivery is a supply chain services company that provides products and services to build trust and improve the lives of consumers.\n",
      "---\n",
      "Company Brand: Phonepe\n",
      "Headquarters: Andheri\n",
      "Stage: Seed\n",
      "What it does: PhonePe is a mobile payment application that enables users to transfer money instantly.\n",
      "---\n",
      "Company Brand: Countingwell\n",
      "Headquarters: Bangalore\n",
      "Stage: Pre-series A\n",
      "What it does: An interactive Maths app, Countingwell breaks Maths concepts into short, simple modules that get kids learning with the least amount of screen time.\n",
      "---\n",
      "Company Brand: Cover It Up\n",
      "Headquarters: Chennai\n",
      "Stage: Seed\n",
      "What it does: Online portal that churns out high quality products\n",
      "---\n",
      "Company Brand: Bitespeed\n",
      "Headquarters: Gurgaon\n",
      "Stage: Seed\n",
      "What it does: Chat-based commerce for E-commerce brands\n",
      "---\n",
      "Company Brand: Wakefit\n",
      "Headquarters: Bangalore\n",
      "Stage: Series B\n",
      "What it does: Wakefitkart is a mattress manufacturing company\n",
      "---\n",
      "Company Brand: M1Xchange\n",
      "Headquarters: Gurgaon\n",
      "Stage: Seed Round\n",
      "What it does: M1 an online exchange for TReDS set up under the approval RBI to facilitate discounting of invoices on a PAN India basis.\n",
      "---\n",
      "Company Brand: Fisdom\n",
      "Headquarters: Bangalore\n",
      "Stage: Series A\n",
      "What it does: Fisdom is a fintech company that offers investment advisory services through an application.\n",
      "---\n",
      "Company Brand: Tinker Coders\n",
      "Headquarters: Noida\n",
      "Stage: Seed\n",
      "What it does: Tinker Coder is a LIVE Online Platform through which kids will learn the art of coding\n",
      "---\n",
      "Company Brand: Phonepe\n",
      "Headquarters: New Delhi\n",
      "Stage: Series A\n",
      "What it does: PhonePe is a mobile payments application that allows the user to transfer money instantly.\n",
      "---\n",
      "Company Brand: Mobikwik\n",
      "Headquarters: Gurgaon\n",
      "Stage: Series B\n",
      "What it does: MobiKwik is India’s leading fintech platform, operating businesses in consumer payments, payment gateway, and financial services.\n",
      "---\n",
      "Company Brand: Debugsbunny\n",
      "Headquarters: Pune\n",
      "Stage: Series B\n",
      "What it does: DebugsBunny is the best Kids Coding Platform where kids are taught to code online by our expert teachers.\n",
      "---\n",
      "Company Brand: Swipez\n",
      "Headquarters: Pune\n",
      "Stage: Series B\n",
      "What it does: Swipez is a payment collection platform.\n",
      "---\n",
      "Company Brand: Artivatic.Ai\n",
      "Headquarters: Bangalore\n",
      "Stage: Seed\n",
      "What it does: Artivatic's patent pending technology solves complex problems in Insurance for On-boarding, Fraud, Risk Profiling, Underwriting & claims.\n",
      "---\n",
      "Company Brand: Freshtohome\n",
      "Headquarters: Bangalore\n",
      "Stage: Series A\n",
      "What it does: Freshtohome is an e-commerce platform for fresh and chemical-free seafood.\n",
      "---\n",
      "Company Brand: Dealshare\n",
      "Headquarters: Jaipur\n",
      "Stage: Series C\n",
      "What it does: DealShare is a Social Commerce Startup\n",
      "---\n",
      "Company Brand: Smallcase\n",
      "Headquarters: Bangalore\n",
      "Stage: Series B\n",
      "What it does: Changing how India invests in equities\n",
      "---\n",
      "Company Brand: Cuemath\n",
      "Headquarters: Bangalore\n",
      "Stage: Series C\n",
      "What it does: Cuemath is an engaging ‘learning-by-doing’ methodology for students with face-to-face sessions from highly-trained Cuemath teachers.\n",
      "---\n",
      "Company Brand: Ruralbasket\n",
      "Headquarters: Tirunelveli, Tamilnadu\n",
      "Stage: Seed Round\n",
      "What it does: Naturally grown and healthy products directly from farmers.\n",
      "---\n",
      "Company Brand: Clovia\n",
      "Headquarters: Noida\n",
      "Stage: Pre-series C\n",
      "What it does: Clovia is the online lingerie retailer\n",
      "---\n",
      "Company Brand: Codingal\n",
      "Headquarters: Bangalore\n",
      "Stage: Seed\n",
      "What it does: Coding education platform for K-12 students\n",
      "---\n",
      "Company Brand: Habitat\n",
      "Headquarters: Pune\n",
      "Stage: Seed\n",
      "What it does: Habitat, a social learning edtech platform for civil service aspirants\n",
      "---\n",
      "Company Brand: Kopykitab\n",
      "Headquarters: Bangalore\n",
      "Stage: Seed Round\n",
      "What it does: Kopykitab is an India-based digital library that provides eBooks, and digital content in school and higher education.\n",
      "---\n",
      "Company Brand: Kyt\n",
      "Headquarters: Singapore\n",
      "Stage: Seed\n",
      "What it does: Holistic education for every child | Individual and small group live classes for ages 5 - 15 years\n",
      "---\n",
      "Company Brand: Omatra Hotels\n",
      "Headquarters: Kolkata\n",
      "Stage: Seed\n",
      "What it does: Omatra is very new hotel management firm recently registered as Omatra Hospitality Services Private Limited.\n",
      "---\n",
      "Company Brand: Cashfree\n",
      "Headquarters: Bangalore\n",
      "Stage: Series B\n",
      "What it does: Cashfree is a payments and banking technology company that enables businesses in India to collect payments online and make payouts.\n",
      "---\n",
      "Company Brand: Credgenics\n",
      "Headquarters: New Delhi\n",
      "Stage: Pre-series A\n",
      "What it does: Credgenics is a tech-enabled platform backed by Titan Capital, helping fintech lenders and Banks in their critical NPA reduction\n",
      "---\n",
      "Company Brand: Cars24\n",
      "Headquarters: Haryana\n",
      "Stage: Series E\n",
      "What it does: CARS24 is an India-based platform for selling used cars.\n",
      "---\n",
      "Company Brand: Credgenics\n",
      "Headquarters: Gurugram\n",
      "Stage: Pre-series A\n",
      "What it does: Credgenics is a tech-enabled platform backed by Titan Capital, helping fintech lenders and Banks in their critical NPA reduction\n",
      "---\n",
      "Company Brand: Inntot\n",
      "Headquarters: Kerala\n",
      "Stage: Series C\n",
      "What it does: Inntot Technologies, is a technology driven company.\n",
      "---\n",
      "Company Brand: Ensuredit\n",
      "Headquarters: Gurugram\n",
      "Stage: Pre-series A\n",
      "What it does: ENSUREDIT enables and empowers end customers and Insurance Intermediaries with AI-based product platforms for transformational customer experience.\n",
      "---\n",
      "Company Brand: Erpnext\n",
      "Headquarters: Mumbai\n",
      "Stage: Seed\n",
      "What it does: ERPNext is an Open Source, Online ERP solution which includes Accounting, CRM, Inventory, Purchasing, HR, Support and a lot more.\n",
      "---\n",
      "Company Brand: Grip Invest\n",
      "Headquarters: Gurugram\n",
      "Stage: Pre-series A\n",
      "What it does: Grip is an investment platform that allows retail investors to make small ticket investments in physical assets that earn lease income.\n",
      "---\n",
      "Company Brand: Unacademy\n",
      "Headquarters: Bangalore\n",
      "Stage: Series A\n",
      "What it does: Unacademy is an online learning platform providing educational content such as video lectures and examinations.\n",
      "---\n",
      "Company Brand: Yellow Classes\n",
      "Headquarters: Gurugram\n",
      "Stage: Pre-series A\n",
      "What it does: New-age fun-learning platform for kids.\n",
      "---\n",
      "Company Brand: Nira\n",
      "Headquarters: Bangalore\n",
      "Stage: Pre series A\n",
      "What it does: NIRA promotes financial inclusion by creating simple, transparent products that empower individuals to live a life of choice and freedom.\n",
      "---\n",
      "Company Brand: Byju'S\n",
      "Headquarters: Bangalore\n",
      "Stage: Series C\n",
      "What it does: BYJU'S is an educational technology company that develops personalized learning programs for K-12 students.\n",
      "---\n",
      "Company Brand: Damensch\n",
      "Headquarters: Bangalore\n",
      "Stage: Series B\n",
      "What it does: DaMENSCH is a designer and seller of men's apparel.\n",
      "---\n",
      "Company Brand: Lancify\n",
      "Headquarters: Bangalore\n",
      "Stage: Pre series A\n",
      "What it does: Lancify is building the world's strongest young workforce\n",
      "---\n",
      "Company Brand: Instamojo\n",
      "Headquarters: Bangalore\n",
      "Stage: Series B\n",
      "What it does: Instamojo is an on-demand payments platform that enables entrepreneurs to build, manage, and grow their business online.\n",
      "---\n",
      "Company Brand: Arata\n",
      "Headquarters: New Delhi\n",
      "Stage: Pre-series A\n",
      "What it does: Arata is an e-commerce site for beauty products and cosmetics.\n",
      "---\n",
      "Company Brand: True Balance\n",
      "Headquarters: Gurugram\n",
      "Stage: Seed Round\n",
      "What it does: True Balance is a digital wallet that enables users to access utility bill payment and other financial products.\n",
      "---\n",
      "Company Brand: Slice\n",
      "Headquarters: Bangalore\n",
      "Stage: Debt\n",
      "What it does: Slice is a card for first-time credit card users. They are inventing the future of finance for young Indians\n",
      "---\n",
      "Company Brand: Rapawalk\n",
      "Headquarters: Bangalore\n",
      "Stage: Seed\n",
      "What it does: Rapawalk is an online brand that offers a personalized service of creating your own shoes.\n",
      "---\n",
      "Company Brand: Blacksoil\n",
      "Headquarters: Mumbai\n",
      "Stage: Series B\n",
      "What it does: Blacksoil Advisory is an independent boutique advisory firm.\n",
      "---\n",
      "Company Brand: Xpressbees\n",
      "Headquarters: Pune\n",
      "Stage: Pre series A\n",
      "What it does: Xpressbees is an e-commerce logistics company that provides reliable logistics solutions to its partners.\n",
      "---\n",
      "Company Brand: Galaxycard\n",
      "Headquarters: Gurugram\n",
      "Stage: Seed\n",
      "What it does: Mobile based Instant credit card. | Easiest way to get a credit card. Get one in 3 minutes\n",
      "---\n",
      "Company Brand: Uolo\n",
      "Headquarters: Bangalore\n",
      "Stage: Seed\n",
      "What it does: Uolo Technology is founded by paranoid parents who want to make a difference to preschool experience.\n",
      "---\n",
      "Company Brand: Kirana King\n",
      "Headquarters: Jaipur, Rajastan\n",
      "Stage: Pre-series A\n",
      "What it does: A revolutionary idea of standardization, digitization & centralization to traditional Grocery system.\n",
      "---\n",
      "Company Brand: Frontrow\n",
      "Headquarters: Bangalore\n",
      "Stage: Seed\n",
      "What it does: Comprehensive courses, taught by idols.\n",
      "---\n",
      "Company Brand: Reliance Retail\n",
      "Headquarters: Mumbai\n",
      "Stage: Seed Round\n",
      "What it does: Reliance Retail Ventures Limited is a subsidiary company of Reliance Industries Limited.\n",
      "---\n",
      "Company Brand: Livfin\n",
      "Headquarters: New Delhi\n",
      "Stage: Series C\n",
      "What it does: LivFin is a non-banking financial company registered with the Reserve Bank of India (RBI)\n",
      "---\n",
      "Company Brand: Lattu Kids\n",
      "Headquarters: Mumbai\n",
      "Stage: Seed\n",
      "What it does: Lattu kids is an edutainment platform for preschool kids.\n",
      "---\n",
      "Company Brand: Stones2Milestones\n",
      "Headquarters: Gurugram\n",
      "Stage: Bridge\n",
      "What it does: Stones2milestones is India (Delhi) Based EdTech Company\n",
      "---\n",
      "Company Brand: Udacity\n",
      "Headquarters: California\n",
      "Stage: Debt\n",
      "What it does: Udacity develops an online learning platform offering programs in artificial intelligence, machine learning, and robotics sector.\n",
      "---\n",
      "Company Brand: Gully Network\n",
      "Headquarters: Bangalore\n",
      "Stage: Pre-series A\n",
      "What it does: Gully Network is a tech-enabled network of mid-sized grocery stores.\n",
      "---\n",
      "Company Brand: Dhurnia\n",
      "Headquarters: Dhingsara, Haryana\n",
      "Stage: Seed Round\n",
      "What it does: Developer of an online learning platform intended for various competitive exam preparations.\n",
      "---\n",
      "Company Brand: Expertrons\n",
      "Headquarters: Mumbai\n",
      "Stage: Pre series A\n",
      "What it does: Expertrons is an AI video bot platform created to help students and professionals prepare for interviews.\n",
      "---\n",
      "Company Brand: Fabhotels\n",
      "Headquarters: Gurugram\n",
      "Stage: Seed\n",
      "What it does: Fabhotels is the online aggregator for hotel rooms. It aims to provide standardized services at economical budgets.\n",
      "---\n",
      "Company Brand: Flexiloans\n",
      "Headquarters: Mumbai\n",
      "Stage: Debt\n",
      "What it does: an online lending platform started with an endeavour to solve the problem that SMEs face in accessing Quick, Flexible and Adequate funds for growing their Businesses.\n",
      "---\n",
      "Company Brand: Freshtohome\n",
      "Headquarters: Bangalore\n",
      "Stage: Series C\n",
      "What it does: Freshtohome is an e-commerce platform for fresh and chemical-free seafood.\n",
      "---\n",
      "Company Brand: Credable\n",
      "Headquarters: Mumbai\n",
      "Stage: Series C\n",
      "What it does: CredAble provides working capital & supply chain finance programs for large enterprises and their suppliers and distributors.\n",
      "---\n",
      "Company Brand: Finova Capital\n",
      "Headquarters: Jaipur, Rajastan\n",
      "Stage: Seed Round\n",
      "What it does: Finova Capital is a non-banking financial company.\n",
      "---\n",
      "Company Brand: Teachmint\n",
      "Headquarters: Bangalore\n",
      "Stage: Seed\n",
      "What it does: Teachmint is an easy to use platform for tutors to conduct unlimited live classes and manage their classrooms\n",
      "---\n",
      "Company Brand: Peel-Works\n",
      "Headquarters: Mumbai\n",
      "Stage: Series C\n",
      "What it does: Peel-Works is a tech and data analytics company specializing in e-commerce for corner stores.\n",
      "---\n",
      "Company Brand: Credgenics\n",
      "Headquarters: Gurugram\n",
      "Stage: Seed\n",
      "What it does: Credgenics is a tech-enabled platform backed by Titan Capital, helping fintech lenders and Banks in their critical NPA reduction\n",
      "---\n",
      "Company Brand: Jumbotail\n",
      "Headquarters: Bangalore\n",
      "Stage: Series B2\n",
      "What it does: Jumbotail is solving an important problem of organising food and grocery ecosystem in India through technology, data science and design.\n",
      "---\n",
      "Company Brand: Freshtohome\n",
      "Headquarters: Bangalore\n",
      "Stage: Seed\n",
      "What it does: Freshtohome is an e-commerce platform for fresh and chemical-free seafood.\n",
      "---\n",
      "Company Brand: Jumbotail\n",
      "Headquarters: Bangalore\n",
      "Stage: Series B2\n",
      "What it does: Jumbotail is solving an important problem of organising food and grocery ecosystem in India\n",
      "---\n",
      "Company Brand: Nykaa\n",
      "Headquarters: Mumbai\n",
      "Stage: Pre series A\n",
      "What it does: Nykaa is an online marketplace for different beauty and wellness products.\n",
      "---\n",
      "Company Brand: Genius Teacher\n",
      "Headquarters: Mumbai\n",
      "Stage: Series B\n",
      "What it does: Genius Teacher creates engaging educational content, delivers fun learning experience to the students\n",
      "---\n",
      "Company Brand: Getvantage\n",
      "Headquarters: Mumbai\n",
      "Stage: Seed\n",
      "What it does: GetVantage is India and Southeast Asia's first fintech enabled Revenue-based financing platform.\n",
      "---\n",
      "Company Brand: Hubilo\n",
      "Headquarters: San Francisco, California, United States\n",
      "Stage: Seed\n",
      "What it does: World’s smartest virtual event platform that brings Experience & Intelligence together\n",
      "---\n",
      "Company Brand: Basic Home Loan\n",
      "Headquarters: Gurugram\n",
      "Stage: Seed\n",
      "What it does: A platform for automating home loans for middle and low-income households in India,\n",
      "---\n",
      "Company Brand: Signzy\n",
      "Headquarters: Bangalore\n",
      "Stage: Series C\n",
      "What it does: It is creating 'building blocks for a Digital Trust system.\n",
      "---\n",
      "Company Brand: Ahaguru\n",
      "Headquarters: Chennai\n",
      "Stage: Series A\n",
      "What it does: It is conducting IIT JEE Coach for Physics, Math and Chemistry easily.\n",
      "---\n",
      "Company Brand: Brighteye Ventures\n",
      "Headquarters: Paris, Ile-De-France, France\n",
      "Stage: Seed\n",
      "What it does: Education technology venture capital firm.\n",
      "---\n",
      "Company Brand: Genius Teacher\n",
      "Headquarters: Mumbai\n",
      "Stage: Pre series A\n",
      "What it does: Genius Teacher creates engaging educational content, delivers fun learning experience to the students\n",
      "---\n",
      "Company Brand: Tiliter\n",
      "Headquarters: Sydney\n",
      "Stage: Series A\n",
      "What it does: Software that uses computer vision to recognise products without barcodes\n",
      "---\n",
      "Company Brand: Hobspace\n",
      "Headquarters: Mumbai\n",
      "Stage: Seed\n",
      "What it does: India's Activity Hub for Kids\n",
      "---\n",
      "Company Brand: Shopup\n",
      "Headquarters: Bangaldesh\n",
      "Stage: Series A\n",
      "What it does: ShopUp provides easy access to B2B sourcing, last-mile logistics, digital credit, and business management solutions to small businesses.\n",
      "---\n",
      "Company Brand: Cover Genius\n",
      "Headquarters: Sydney, New South Wales, Australia\n",
      "Stage: Seed\n",
      "What it does: Cover Genius provides an insurance distribution platform designed to protect the customers of e-commerce companies\n",
      "---\n",
      "Company Brand: Clair\n",
      "Headquarters: New York, United States\n",
      "Stage: Seed\n",
      "What it does: Clair is a social fintech that provides Instant Pay Access as a Service for human capital management and gig platforms.\n",
      "---\n",
      "Company Brand: Razorpay\n",
      "Headquarters: Bangalore\n",
      "Stage: Series D\n",
      "What it does: Razorpay is a platform that enables businesses to accept, process, and disburse payments.\n",
      "---\n",
      "Company Brand: Antaios\n",
      "Headquarters: France\n",
      "Stage: Series A\n",
      "What it does: Developer of memory-based technology intended to solve issues of advanced computing.\n",
      "---\n",
      "Company Brand: Disprz\n",
      "Headquarters: Chennai\n",
      "Stage: Pre-series B\n",
      "What it does: Disprz is a one-of-its-kind “knowledge-tech” start-up that strives to make people knowledgeable, productive and smarter at what they do.\n",
      "---\n",
      "Company Brand: Uni\n",
      "Headquarters: Mumbai\n",
      "Stage: Seed\n",
      "What it does: The team aims to bridge the gap for credit cards and make them more accessible for people across different regions.\n",
      "---\n",
      "Company Brand: Credit Wise Capital\n",
      "Headquarters: Mumbai\n",
      "Stage: Seed\n",
      "What it does: CreditWise Capital is a consumer finance company.\n",
      "---\n",
      "Company Brand: Reliance Retail Ventures Ltd\n",
      "Headquarters: Mumbai\n",
      "Stage: Seed\n",
      "What it does: Reliance Retail offers online shopping and a chain of neighborhood stores, supermarkets, and wholesale/specialty stores.\n",
      "---\n",
      "Company Brand: Winuall\n",
      "Headquarters: Bangalore\n",
      "Stage: Series B\n",
      "What it does: Winuall specializes in the fields of E-learning, online quizzes, and tests, study material for competitive exams.\n",
      "---\n",
      "Company Brand: Unocoin\n",
      "Headquarters: Tumkur, Karnataka\n",
      "Stage: Series A\n",
      "What it does: Unocoin is an Indian bitcoin processor that enables users to buy, sell, store, use, and accept bitcoins.\n",
      "---\n",
      "Company Brand: Pesto\n",
      "Headquarters: New Delhi\n",
      "Stage: Series B\n",
      "What it does: Pesto is a career accelerator for software engineers with the mission to take opportunities to places where talent exists.\n",
      "---\n",
      "Company Brand: Treebo Hotels\n",
      "Headquarters: Bangalore\n",
      "Stage: Pre series A\n",
      "What it does: Treebo is India's tech-enabled, asset-light affordable accommodation brand.\n",
      "---\n",
      "Company Brand: Equiwatt\n",
      "Headquarters: Newcastle Upon Tyne, Newcastle Upon Tyne, United Kingdom\n",
      "Stage: Seed\n",
      "What it does: Equiwatt is a digital platform enabling households to get paid for saving energy at peak times.\n",
      "---\n",
      "Company Brand: Reliance Retail Ventures\n",
      "Headquarters: Mumbai\n",
      "Stage: Series C\n",
      "What it does: Reliance Retail offers online shopping and a chain of neighborhood stores, supermarkets, and wholesale/specialty stores.\n",
      "---\n",
      "Company Brand: Zhangmen\n",
      "Headquarters: Shanghai, China\n",
      "Stage: Pre series A\n",
      "What it does: Zhangmen is an online tutoring platform provides tutoring courses to students.\n",
      "---\n",
      "Company Brand: Sapio Analytics\n",
      "Headquarters: Mumbai\n",
      "Stage: Series C\n",
      "What it does: Sapio Analytics provides AI-powered policymaking solutions for government institutions.\n",
      "---\n",
      "Company Brand: Avanse Financial Services\n",
      "Headquarters: Mumbai\n",
      "Stage: Pre series A\n",
      "What it does: Avanse, regulated by the Reserve Bank of India, is an education finance company that operates as a non-banking finance company (NBFC).\n",
      "---\n",
      "Company Brand: Industry Buying\n",
      "Headquarters: New Delhi\n",
      "Stage: Series A\n",
      "What it does: India's largest industrial ecommerce platform\n",
      "---\n",
      "Company Brand: Hopscotch\n",
      "Headquarters: Mumbai\n",
      "Stage: Series A\n",
      "What it does: Hopscotch provides an insider access to international brands for babies, kids, and moms.\n",
      "---\n",
      "Company Brand: Snowflake\n",
      "Headquarters: California\n",
      "Stage: Series C\n",
      "What it does: Snowflake is a cloud data platform that provides a data warehouse-as-a-service designed for the cloud.\n",
      "---\n",
      "Company Brand: Genietalk\n",
      "Headquarters: Indore\n",
      "Stage: Seed\n",
      "What it does: GenieTalk as a virtual assistant uses AI to bring conversation commerce with a personalised experience on the app.\n",
      "---\n",
      "Company Brand: Classplus\n",
      "Headquarters: Noida\n",
      "Stage: Series C\n",
      "What it does: Classplus offers a mobile-first SaaS platform for 3000+ tutors to offer their curriculum and operations completely online.\n",
      "---\n",
      "Company Brand: Flipkart\n",
      "Headquarters: Bangalore\n",
      "Stage: Seed Round\n",
      "What it does: Flipkart is an e-commerce marketplace that offers over 30 million products cross 70+ categories.\n",
      "---\n",
      "Company Brand: Vivriti Capital\n",
      "Headquarters: Chennai\n",
      "Stage: Seed\n",
      "What it does: Vivriti Capital is a marketplace for small enterprises and individuals that lack efficient access to financial services.\n",
      "---\n",
      "Company Brand: Insurancedekho\n",
      "Headquarters: Ludhiana\n",
      "Stage: Series A\n",
      "What it does: The funding for branding and marketing activities as well as strengthening the product and technology teams\n",
      "---\n",
      "Company Brand: Byju’S\n",
      "Headquarters: Bangalore\n",
      "Stage: Series A\n",
      "What it does: An Indian educational technology and online tutoring firm\n",
      "---\n",
      "Company Brand: Reliance\n",
      "Headquarters: Mumbai\n",
      "Stage: Series A\n",
      "What it does: Reliance owns businesses across India engaged in energy, petrochemicals, textiles, natural resources\n",
      "---\n",
      "Company Brand: Inflexor Ventures\n",
      "Headquarters: Mumbai\n",
      "Stage: Seed\n",
      "What it does: Experienced Venture Capital-General Partner focused on Technology investments.\n",
      "---\n",
      "Company Brand: Unacademy\n",
      "Headquarters: Bangalore\n",
      "Stage: Pre series A\n",
      "What it does: Unacademy is an Indian online education technology company\n",
      "---\n",
      "Company Brand: Byju’S\n",
      "Headquarters: Bangalore\n",
      "Stage: Series B\n",
      "What it does: An Indian educational technology and online tutoring firm\n",
      "---\n",
      "Company Brand: Reliance Retail\n",
      "Headquarters: Mumbai\n",
      "Stage: Pre series A\n",
      "What it does: Retailer delivering superior value to its customers, suppliers and shareholders.\n",
      "---\n",
      "Company Brand: Qshala\n",
      "Headquarters: Bangalore\n",
      "Stage: Series C\n",
      "What it does: A platform that helps kids learn about life skills\n",
      "---\n",
      "Company Brand: Shipskart\n",
      "Headquarters: New Delhi\n",
      "Stage: Pre-series A\n",
      "What it does: ShipsKart platform that streamlines the way marine stores are ordered, approved and received on board with the help of technology.\n",
      "---\n",
      "Company Brand: Squadstack\n",
      "Headquarters: San Francisco\n",
      "Stage: Series A\n",
      "What it does: Empowering consumer businesses to improve their sales conversions and funnel efficiency, using Artificial Intelligence & Data Science.\n",
      "---\n",
      "Company Brand: Financepeer\n",
      "Headquarters: Mumbai\n",
      "Stage: Pre-series A\n",
      "What it does: Financepeer is an AI based peer to peer lending platform.\n",
      "---\n",
      "Company Brand: Cashify\n",
      "Headquarters: Gurugram\n",
      "Stage: Debt\n",
      "What it does: Cashify.in is an e-commerce platform for reselling used electronic gadgets.\n",
      "---\n",
      "Company Brand: Codeyoung\n",
      "Headquarters: Bangalore\n",
      "Stage: Seed\n",
      "What it does: Codeyoung provides live online coding classes for kids between the age of 5 - 17.\n",
      "---\n",
      "Company Brand: Stayqrious\n",
      "Headquarters: Bangalore\n",
      "Stage: Seed\n",
      "What it does: Live online coding courses with social learning. Build coding skills, confident communication and leadership skills with your very own coach.\n",
      "---\n",
      "Company Brand: Sunstone Eduversity\n",
      "Headquarters: Gurugram\n",
      "Stage: Series A\n",
      "What it does: India's Only Business School That Offers MBA & PGDM Programs With 100% Placement Assurance.\n",
      "---\n",
      "Company Brand: Mobigarage\n",
      "Headquarters: New Delhi\n",
      "Stage: Pre-series A\n",
      "What it does: An ecommerce platform for refurbished electronics.\n",
      "---\n",
      "Company Brand: Smallcase\n",
      "Headquarters: Bangalore\n",
      "Stage: Series B\n",
      "What it does: Smallcases are portfolios of stocks or ETFs created by India's top financial experts.\n",
      "---\n",
      "Company Brand: Assiduus\n",
      "Headquarters: Bangalore\n",
      "Stage: Series A\n",
      "What it does: Assiduus leverages its eCommerce experience to help build, grow and scale your brand on various eCommerce platforms\n",
      "---\n",
      "Company Brand: Origa\n",
      "Headquarters: Andheri\n",
      "Stage: Debt\n",
      "What it does: The charioteer of your growth at all times.\n",
      "---\n",
      "Company Brand: Recordent\n",
      "Headquarters: Hyderabad\n",
      "Stage: Seed\n",
      "What it does: A technology-enabled platform that helps MSMEs to increase their business efficiency through collection of dues\n",
      "---\n",
      "Company Brand: Fabhotels\n",
      "Headquarters: Gurugram\n",
      "Stage: Series B\n",
      "What it does: FabHotels is a network of 3 star budget hotels in India\n",
      "---\n",
      "Company Brand: Fpl Technologies\n",
      "Headquarters: Pune\n",
      "Stage: Series A\n",
      "What it does: FPL is on a mission to re-imagine credit and payments from first principles and is building a mobile-first credit card\n",
      "---\n",
      "Company Brand: Cashkaro\n",
      "Headquarters: Gurgaon\n",
      "Stage: Series B\n",
      "What it does: Cashkaro is a coupons and cashback site rewarding customers for visiting online retailers through their site.\n",
      "---\n",
      "Company Brand: Toppr\n",
      "Headquarters: Mumbai\n",
      "Stage: Series D\n",
      "What it does: Toppr is an Indian educational technology and online tutoring firm\n",
      "---\n",
      "Company Brand: Lido Learning\n",
      "Headquarters: Mumbai\n",
      "Stage: Series B\n",
      "What it does: Online classes for Std 4-9 in Math, Science, Coding, English & Leadership with top 1% tutors ?\n",
      "---\n",
      "Company Brand: Pulse\n",
      "Headquarters: Mumbai\n",
      "Stage: Pre-series A\n",
      "What it does: Helps people navigate through and profit off financial markets\n",
      "---\n",
      "Company Brand: Groww\n",
      "Headquarters: Bangalore\n",
      "Stage: Series C\n",
      "What it does: Leading Investment and Trading Platform\n",
      "---\n",
      "Company Brand: Soal\n",
      "Headquarters: Mumbai\n",
      "Stage: Series A-1\n",
      "What it does: A skill-tank nurturing students into disruptive, tech-empowered creators and future leaders\n",
      "---\n",
      "Company Brand: Ockypocky\n",
      "Headquarters: Gurugram\n",
      "Stage: Seed\n",
      "What it does: Ockypocky helps kids in learning spoken english\n",
      "---\n",
      "Company Brand: Qapita\n",
      "Headquarters: Singapore\n",
      "Stage: Seed\n",
      "What it does: Qapita provides digital equity management tools for private companies and startups.\n",
      "---\n",
      "Company Brand: Sunday\n",
      "Headquarters: Bangkok\n",
      "Stage: Pre-Series B\n",
      "What it does: An end-to-end insurance products and services provider that uses AI to offer personalized packages.\n",
      "---\n",
      "Company Brand: Max Wholesale\n",
      "Headquarters: New Delhi\n",
      "Stage: Pre series A\n",
      "What it does: MaxWholesale is an online distributor that provides authentic FMCG goods\n",
      "---\n",
      "Company Brand: Craftsvilla\n",
      "Headquarters: Mumbai\n",
      "Stage: Seed\n",
      "What it does: Sells ethnic apparel, footwear, fashion accessories, beauty products, handcrafted home accessories\n",
      "---\n",
      "Company Brand: Univ.Ai\n",
      "Headquarters: Bangalore\n",
      "Stage: Series C\n",
      "What it does: A distributed, global educational powerhouse that draws on technology\n",
      "---\n",
      "Company Brand: Bikayi\n",
      "Headquarters: Hyderabad\n",
      "Stage: Seed round\n",
      "What it does: Provides free whatsapp integrated E-Commerce Store\n",
      "---\n",
      "Company Brand: Byju'S\n",
      "Headquarters: Bangalore\n",
      "Stage: Series A\n",
      "What it does: Provides online learning classes\n",
      "---\n",
      "Company Brand: Avail Finance\n",
      "Headquarters: Bangalore\n",
      "Stage: Series B\n",
      "What it does: Instant online loan app\n",
      "---\n",
      "Company Brand: Lead School\n",
      "Headquarters: Mumbai\n",
      "Stage: Series C\n",
      "What it does: Offers an integrated system for schools by helping them digitize the entire curriculum\n",
      "---\n",
      "Company Brand: Teachmint\n",
      "Headquarters: Bangalore\n",
      "Stage: Seed Round\n",
      "What it does: Empowers tutors with tools to deliver effective learning outcomes for students and parents\n",
      "---\n",
      "Company Brand: Stack Finance\n",
      "Headquarters: Bangalore\n",
      "Stage: Seed round\n",
      "What it does: It automates invesments, expenses, borrowing under a single platform\n",
      "---\n",
      "Company Brand: Fpl Technologies\n",
      "Headquarters: Pune\n",
      "Stage: Series A\n",
      "What it does: OneScore app is built by FPL - Free credit scoring and monitoring\n",
      "---\n",
      "Company Brand: Masai School\n",
      "Headquarters: Bangalore\n",
      "Stage: Series A\n",
      "What it does: It trains tech aspirants in full stack wed and android development\n",
      "---\n",
      "Company Brand: Lendingkart\n",
      "Headquarters: Ahmedabad\n",
      "Stage: Series D\n",
      "What it does: Provides working capital loans and business loans to MSMEs\n",
      "---\n",
      "Company Brand: Grayquest\n",
      "Headquarters: Mumbai\n",
      "Stage: Pre Series A\n",
      "What it does: Enables parents to pay their annual education fees in up to 12 monthly installments\n",
      "---\n",
      "Company Brand: Citycash\n",
      "Headquarters: Mumbai\n",
      "Stage: Seed round\n",
      "What it does: Focusses on creating a transit led micro-payments ecosystem\n",
      "---\n",
      "Company Brand: Eduvanz\n",
      "Headquarters: Mumbai\n",
      "Stage: Series A\n",
      "What it does: Digital finance NBFC that provides affordable education loans\n",
      "---\n",
      "Company Brand: Ziploan\n",
      "Headquarters: Delhi\n",
      "Stage: Seed\n",
      "What it does: Provides loans to MSMEs\n",
      "---\n",
      "Company Brand: Datstop\n",
      "Headquarters: Delhi\n",
      "Stage: Series A\n",
      "What it does: It offers urban social space\n",
      "---\n",
      "Company Brand: Toppr\n",
      "Headquarters: Mumbai\n",
      "Stage: Series D\n",
      "What it does: It provides AI-based after school learning app for K12\n",
      "---\n",
      "Company Brand: Pickright Technologies\n",
      "Headquarters: Bangalore\n",
      "Stage: Seed Round\n",
      "What it does: Marketplace for stock market investors and advisors\n",
      "---\n",
      "Company Brand: Satya Microcapital\n",
      "Headquarters: Delhi\n",
      "Stage: Series B\n",
      "What it does: Microfinance company that offers collateral-free credit to micro enterprises\n",
      "---\n",
      "Company Brand: Entri\n",
      "Headquarters: Kochi\n",
      "Stage: Pre series A\n",
      "What it does: Local language learning startup\n",
      "---\n",
      "Company Brand: Finn\n",
      "Headquarters: Bangalore\n",
      "Stage: Pre series A\n",
      "What it does: Neobanking startup that digitises all banking transactions\n",
      "---\n",
      "Company Brand: Inurture\n",
      "Headquarters: Bangalore\n",
      "Stage: Series A\n",
      "What it does: It provides a conducive and healthy teaching, learning environment\n",
      "---\n",
      "Company Brand: Vedantu\n",
      "Headquarters: Bangalore\n",
      "Stage: Series D\n",
      "What it does: Onine learning platform\n",
      "---\n",
      "Company Brand: Crio\n",
      "Headquarters: Bangalore\n",
      "Stage: Seed Round\n",
      "What it does: A learning platform for developers\n",
      "---\n",
      "Company Brand: Ufony Services Pvt Ltd\n",
      "Headquarters: Pune\n",
      "Stage: Pre series A\n",
      "What it does: School Diary, a platform that brings education to smartphones\n",
      "---\n",
      "Company Brand: Uable\n",
      "Headquarters: Bangalore\n",
      "Stage: Seed Round\n",
      "What it does: Online life skills development platform for children\n",
      "---\n",
      "Company Brand: Cuemath\n",
      "Headquarters: Bangalore\n",
      "Stage: Series B\n",
      "What it does: It helps students to learn math online\n",
      "---\n",
      "Company Brand: Edhusk\n",
      "Headquarters: Jaipur\n",
      "Stage: Series B\n",
      "What it does: Provieds personalised learning to students by leveraging technology-driven models\n",
      "---\n",
      "Company Brand: Decentro\n",
      "Headquarters: Bangalore\n",
      "Stage: Series A\n",
      "What it does: Automated API-based platform that enables financial integrations.\n",
      "---\n",
      "Company Brand: Aye Finance\n",
      "Headquarters: Gurugram\n",
      "Stage: Series E\n",
      "What it does: A finance lender to SMEs\n",
      "---\n",
      "Company Brand: Ken42\n",
      "Headquarters: Bangalore\n",
      "Stage: Series B\n",
      "What it does: A platform that caters to evolving needs of institutions\n",
      "---\n",
      "Company Brand: Aerostrovilos\n",
      "Headquarters: Chennai\n",
      "Stage: Series A\n",
      "What it does: Manufactures micro gas turbines for power-based application\n",
      "---\n",
      "Company Brand: Flinto\n",
      "Headquarters: Chennai\n",
      "Stage: Pre series B\n",
      "What it does: It is an educational subscription-box focussed at activity-based learning for the ages 2-12\n",
      "---\n",
      "Company Brand: Chitmonks\n",
      "Headquarters: Hyderabad\n",
      "Stage: Pre series A\n",
      "What it does: Offers enterprise private platform for chit fund firms\n",
      "---\n",
      "Company Brand: Walrus\n",
      "Headquarters: Bangalore\n",
      "Stage: Pre-Seed\n",
      "What it does: It provides banking solutions for teens and young adults\n",
      "---\n",
      "Company Brand: Godutch\n",
      "Headquarters: Mumbai\n",
      "Stage: Seed Round\n",
      "What it does: Group Payments platform\n",
      "---\n",
      "Company Brand: Byju'S\n",
      "Headquarters: Bangalore\n",
      "Stage: Seed Round\n",
      "What it does: Provides online learning classes\n",
      "---\n",
      "Company Brand: Slice\n",
      "Headquarters: Bangalore\n",
      "Stage: Pre series B\n",
      "What it does: A financial platform for youngsters\n",
      "---\n",
      "Company Brand: Aye Finance\n",
      "Headquarters: Gurugram\n",
      "Stage: Series E\n",
      "What it does: A finance lender to SMEs\n",
      "---\n",
      "Company Brand: Instasolv\n",
      "Headquarters: Noida\n",
      "Stage: Pre series A\n",
      "What it does: It is a doubt-solving app for students from Class 6 to 12\n",
      "---\n",
      "Company Brand: Goldenpi\n",
      "Headquarters: Bangalore\n",
      "Stage: Seed Round\n",
      "What it does: An online aggregator of bonds and debentures available in the secondary market\n",
      "---\n",
      "Company Brand: Jai Kisan\n",
      "Headquarters: Mumbai\n",
      "Stage: Pre series A\n",
      "What it does: A platform that caters the need of customers in rural areas\n",
      "---\n",
      "Company Brand: Edvizo\n",
      "Headquarters: Bangalore\n",
      "Stage: Seed Round\n",
      "What it does: Online marketplace to search, compare and enrol in the best institutes for competitive exam preparation\n",
      "---\n",
      "Company Brand: Inurture Education\n",
      "Headquarters: Pune\n",
      "Stage: Seed\n",
      "What it does: It provides a conducive and healthy teaching, learning environment\n",
      "---\n",
      "Company Brand: Bankbazaar\n",
      "Headquarters: Chennai\n",
      "Stage: Series D1\n",
      "What it does: Online marketplace that gives customers instant customised offers on loans and credit cards\n",
      "---\n",
      "Company Brand: Ola Financial Services\n",
      "Headquarters: Bangalore\n",
      "Stage: Series A\n",
      "What it does: It operates Ola Money\n",
      "---\n",
      "Company Brand: Swiflearn\n",
      "Headquarters: Gurugram\n",
      "Stage: Seed Round\n",
      "What it does: Learning platform for K-10 students looking for personalised learning\n",
      "---\n",
      "Company Brand: Homecapital\n",
      "Headquarters: Mumbai\n",
      "Stage: Pre series A\n",
      "What it does: Home Down Payment Assistance Program\n",
      "---\n",
      "Company Brand: Credit Mantri\n",
      "Headquarters: Chennai\n",
      "Stage: Series A\n",
      "What it does: Offers free credit score and a detailed credit analysis report\n",
      "---\n",
      "Company Brand: Xtracap\n",
      "Headquarters: Gurugram\n",
      "Stage: Seed\n",
      "What it does: Offers online payment solution,schemes, order management, insurance etc.,\n",
      "---\n",
      "Company Brand: Khatabook\n",
      "Headquarters: Bangalore\n",
      "Stage: Series B\n",
      "What it does: It helps SMEs to maintain their accounts and ledger online.\n",
      "---\n",
      "Company Brand: Lendingkart\n",
      "Headquarters: Ahmedabad\n",
      "Stage: Series D\n",
      "What it does: Provides working capital loans and business loans to MSMEs\n",
      "---\n",
      "Company Brand: Illumnus\n",
      "Headquarters: Gurugram\n",
      "Stage: Seed Round\n",
      "What it does: Offers Collaborative learning management system for educational institutions\n",
      "---\n",
      "Company Brand: Winuall\n",
      "Headquarters: Bangalore\n",
      "Stage: Pre series A\n",
      "What it does: It helps coaching institutes in digitization\n",
      "---\n",
      "Company Brand: Indian School Finance Company\n",
      "Headquarters: Hyderabad\n",
      "Stage: Seed Round\n",
      "What it does: NBFC that provides funding to education system\n",
      "---\n",
      "Company Brand: Sindhuja Microcredit\n",
      "Headquarters: Noida\n",
      "Stage: Seed Round\n",
      "What it does: It provides financial services to self employed women entrepreneurs\n",
      "---\n",
      "Company Brand: Nium\n",
      "Headquarters: Jaipur\n",
      "Stage: Series C\n",
      "What it does: Open global money platform\n",
      "---\n",
      "Company Brand: Mintoak\n",
      "Headquarters: Mumbai\n",
      "Stage: Pre series A\n",
      "What it does: Merchant payment solutions startup\n",
      "---\n",
      "Company Brand: Varthana\n",
      "Headquarters: Bangalore\n",
      "Stage: Series D\n",
      "What it does: Offers secured and unsecured loans\n",
      "---\n",
      "Company Brand: Pedagogy\n",
      "Headquarters: Hyderabad\n",
      "Stage: Seed Round\n",
      "What it does: It has a single subscription model that allows users to access books and digital courses.\n",
      "---\n",
      "Company Brand: Classplus\n",
      "Headquarters: Delhi\n",
      "Stage: Series B\n",
      "What it does: It provides mobile-first software for coaching institutes, tuition centres and private tutors\n",
      "---\n",
      "Company Brand: Qin1\n",
      "Headquarters: Noida\n",
      "Stage: Series A\n",
      "What it does: It is alearning platform for kids in the age group 5 to 14 yrs\n",
      "---\n",
      "Company Brand: Nira\n",
      "Headquarters: Bangalore\n",
      "Stage: Pre series A\n",
      "What it does: It offers access and credit to working Indians\n",
      "---\n",
      "Company Brand: Finaureus Technologies\n",
      "Headquarters: Pune\n",
      "Stage: Pre series A\n",
      "What it does: Provides investment management solutions\n",
      "---\n",
      "Company Brand: Guvi Geek Network Pvt Ltd\n",
      "Headquarters: Chennai\n",
      "Stage: Pre series A\n",
      "What it does: Operates vernacular-language based education\n",
      "---\n",
      "Company Brand: Vedantu\n",
      "Headquarters: Bangalore\n",
      "Stage: Series C\n",
      "What it does: Onine learning platform\n",
      "---\n",
      "Company Brand: Dmi Group\n",
      "Headquarters: Delhi\n",
      "Stage: Series C\n",
      "What it does: Pan-India Credit providing platform\n",
      "---\n",
      "Company Brand: Yap\n",
      "Headquarters: Chennai\n",
      "Stage: Series A\n",
      "What it does: Banking and payment products-focused API platform\n",
      "---\n",
      "Company Brand: Pariksha\n",
      "Headquarters: Pune\n",
      "Stage: Pre series A\n",
      "What it does: Platform for vernacular test-preparation\n",
      "---\n",
      "Company Brand: Capital Float\n",
      "Headquarters: Bangalore\n",
      "Stage: Pre series A\n",
      "What it does: Online platform that provides working capital finance to SMEs\n",
      "---\n",
      "Company Brand: Setu\n",
      "Headquarters: Kochi\n",
      "Stage: Series A\n",
      "What it does: Offers open APIs across four categories: bills, savings, credit, and payments.\n",
      "---\n",
      "Company Brand: Bankbazaar\n",
      "Headquarters: Chennai\n",
      "Stage: Series D\n",
      "What it does: Online marketplace that gives customers instant customised offers on loans and credit cards\n",
      "---\n",
      "Company Brand: Capital Float\n",
      "Headquarters: Bangalore\n",
      "Stage: Series F\n",
      "What it does: Online platform that provides working capital finance to SMEs\n",
      "---\n",
      "Company Brand: Amica\n",
      "Headquarters: Thane\n",
      "Stage: Series A\n",
      "What it does: Neobanking startup\n",
      "---\n",
      "Company Brand: Vedantu\n",
      "Headquarters: Bangalore\n",
      "Stage: Series C\n",
      "What it does: Onine learning platform\n",
      "---\n",
      "Company Brand: Lido Learning\n",
      "Headquarters: Mumbai\n",
      "Stage: Series B\n",
      "What it does: Online teaching service\n",
      "---\n",
      "Company Brand: Aye Finance\n",
      "Headquarters: Gurugram\n",
      "Stage: Pre series A\n",
      "What it does: A finance lender to SMEs\n",
      "---\n",
      "Company Brand: Juspay\n",
      "Headquarters: Bangalore\n",
      "Stage: Series B\n",
      "What it does: Online payment solutions\n",
      "---\n",
      "Company Brand: Fingpay\n",
      "Headquarters: Mumbai\n",
      "Stage: Series A\n",
      "What it does: Provides payment solutions\n",
      "---\n",
      "Company Brand: Mera Cashier\n",
      "Headquarters: Noida\n",
      "Stage: Series A\n",
      "What it does: App meant for small and micro businessmen to manage their transactions digitally\n",
      "---\n",
      "Company Brand: Camp K12\n",
      "Headquarters: Gurugram\n",
      "Stage: Seed Round\n",
      "What it does: It connects students with tutors online\n",
      "---\n",
      "Company Brand: Lido Learning\n",
      "Headquarters: Mumbai\n",
      "Stage: Series B\n",
      "What it does: Online teaching service\n",
      "---\n",
      "Company Brand: Rupifi\n",
      "Headquarters: Bangalore\n",
      "Stage: Pre seed round\n",
      "What it does: Offers financial products for SMEs\n",
      "---\n",
      "Company Brand: Coindcx\n",
      "Headquarters: Gurgaon\n",
      "Stage: Series A\n",
      "What it does: A cryptocurrency trading platform\n",
      "---\n",
      "Company Brand: Univariety\n",
      "Headquarters: Hyderabad\n",
      "Stage: Series B\n",
      "What it does: Online marketplace that provides career counselling and college guidance\n",
      "---\n",
      "Company Brand: Vivriti Capital\n",
      "Headquarters: Chennai\n",
      "Stage: Series B\n",
      "What it does: Digital lending startup\n",
      "---\n",
      "Company Brand: Fintso\n",
      "Headquarters: Chennai\n",
      "Stage: Seed\n",
      "What it does: Wealth management platform\n",
      "---\n",
      "Company Brand: Khatabook\n",
      "Headquarters: Bangalore\n",
      "Stage: Series C\n",
      "What it does: It helps SMEs to maintain their accounts and ledger online.\n",
      "---\n",
      "Company Brand: Smart Coin\n",
      "Headquarters: Bangalore\n",
      "Stage: Series A\n",
      "What it does: Consumer lending startup\n",
      "---\n",
      "Company Brand: Collegekhabri\n",
      "Headquarters: Bhopal\n",
      "Stage: Seed\n",
      "What it does: Platform is an end-to-end college and career counselling platform for students\n",
      "---\n",
      "Company Brand: Fampay\n",
      "Headquarters: Bangalore\n",
      "Stage: Seed Round\n",
      "What it does: It allows parents to send money to their kids below the age of 18, which they can spend securely under parent supervision.\n",
      "---\n",
      "Company Brand: Karbon Card\n",
      "Headquarters: Bangalore\n",
      "Stage: Seed Round\n",
      "What it does: Specialisde corporate cards for startups\n",
      "---\n",
      "Company Brand: Callido Learning\n",
      "Headquarters: Mumbai\n",
      "Stage: Series B\n",
      "What it does: Provides a structured educational approach to critical thinking and problem solving skills\n",
      "---\n",
      "Company Brand: Leap Finance\n",
      "Headquarters: Bangalore\n",
      "Stage: Series A\n",
      "What it does: Provides education loans to students based on the student’s future income\n",
      "---\n",
      "Company Brand: Chqbook\n",
      "Headquarters: Gurugram\n",
      "Stage: Series A\n",
      "What it does: Marketplace for small business owners, offering them products around lending, credit cards etc\n",
      "---\n",
      "Company Brand: Smecorner\n",
      "Headquarters: Mumbai\n",
      "Stage: Series B\n",
      "What it does: Financial lending firm to SMEs\n",
      "---\n",
      "Company Brand: Oda Class\n",
      "Headquarters: Bangalore\n",
      "Stage: Pre series A\n",
      "What it does: It offers content and material via video, adopting a dual-teacher model with IIT and NIT alumni\n",
      "---\n",
      "Company Brand: Umeed Housing\n",
      "Headquarters: Haryana\n",
      "Stage: Series D\n",
      "What it does: Housing finance company\n",
      "---\n",
      "Company Brand: Vogo\n",
      "Headquarters: Bangalore\n",
      "Stage: Series C\n",
      "What it does: A scooter-sharing platform allowing users to rent a two-wheeler from specific designated pick up points\n",
      "---\n",
      "Company Brand: Phoneparloan\n",
      "Headquarters: Delhi\n",
      "Stage: Seed Round\n",
      "What it does: Provides easy loans\n",
      "---\n",
      "Company Brand: Rupeek\n",
      "Headquarters: Bangalore\n",
      "Stage: Seed Round\n",
      "What it does: An asset backed online lending platform\n",
      "---\n",
      "Company Brand: Bharatpe\n",
      "Headquarters: Delhi\n",
      "Stage: Series C\n",
      "What it does: Digital payments platform\n",
      "---\n",
      "Company Brand: Avalonmeta\n",
      "Headquarters: Pune\n",
      "Stage: Seed\n",
      "What it does: It combines higher education and competitive gaming\n",
      "---\n",
      "Company Brand: Prayaan Capital\n",
      "Headquarters: Chennai\n",
      "Stage: Seed Round\n",
      "What it does: NBFC that lends to micro, small, and medium-sized enterprises (MSMEs)\n",
      "---\n",
      "Company Brand: Unacademy\n",
      "Headquarters: Bangalore\n",
      "Stage: Series E\n",
      "What it does: Platform that offers online education in India\n",
      "---\n",
      "Company Brand: Genius Corner\n",
      "Headquarters: Noida\n",
      "Stage: Series A\n",
      "What it does: Framework to enable personalised learning using artificial intelligence (AI) and machine learning (ML).\n",
      "---\n",
      "Company Brand: Planetspark\n",
      "Headquarters: Gurugram\n",
      "Stage: Pre series A\n",
      "What it does: Provides neighbourhood learning zones where children learn and develop 'new-age' skills under one roof\n",
      "---\n",
      "Company Brand: Classmonitor\n",
      "Headquarters: Indore\n",
      "Stage: Seed Round\n",
      "What it does: The learning platform that blends curriculum-based activities for children\n",
      "---\n",
      "Company Brand: Paytm Money\n",
      "Headquarters: Bangalore\n",
      "Stage: Seed\n",
      "What it does: Wealth Management\n",
      "---\n",
      "Company Brand: Vedantu\n",
      "Headquarters: Bangalore\n",
      "Stage: Series C\n",
      "What it does: Onine learning platform\n",
      "---\n",
      "Company Brand: Yap\n",
      "Headquarters: Chennai\n",
      "Stage: Pre series A\n",
      "What it does: Banking and payment products-focused API platform\n",
      "---\n",
      "Company Brand: Nova Credit\n",
      "Headquarters: Chennai\n",
      "Stage: Series B\n",
      "What it does: Cross-border consumer credit startup\n",
      "---\n",
      "Company Brand: Codingninjas\n",
      "Headquarters: Delhi\n",
      "Stage: Series A\n",
      "What it does: Online learning platform\n",
      "---\n",
      "Company Brand: Classplus\n",
      "Headquarters: Haryana\n",
      "Stage: Pre series A\n",
      "What it does: It allows coaching centres to take their brick-and-mortar setup online\n",
      "---\n",
      "Company Brand: Byju\n",
      "Headquarters: New Delhi\n",
      "Stage: Seed Round\n",
      "What it does: Provides online learning classes\n",
      "---\n",
      "Company Brand: Neetprep\n",
      "Headquarters: Delhi\n",
      "Stage: Series A\n",
      "What it does: Provides crash course for NEET preparation\n",
      "---\n",
      "Company Brand: Dot Pvt. Ltd\n",
      "Headquarters: Gurugram\n",
      "Stage: Seed Round\n",
      "What it does: It provides digital transformation and commerce solutions to brick and mortar outlets\n",
      "---\n",
      "Company Brand: Supermoney\n",
      "Headquarters: Mumbai\n",
      "Stage: Pre series A\n",
      "What it does: Provides financial tools for effective business making\n",
      "---\n",
      "Company Brand: Fox Capital\n",
      "Headquarters: Jaipur\n",
      "Stage: Seed\n",
      "What it does: Digital lending startup\n",
      "---\n",
      "Company Brand: Embibe\n",
      "Headquarters: Mumbai\n",
      "Stage: Seed\n",
      "What it does: It provides AI-based data analytics to personalise learning outcomes\n",
      "---\n",
      "Company Brand: Entri\n",
      "Headquarters: Kochi\n",
      "Stage: Seed Round\n",
      "What it does: It is a app that provides different types of learning content in local languages\n",
      "---\n",
      "Company Brand: Seal Professional\n",
      "Headquarters: Bangalore\n",
      "Stage: Pre series A\n",
      "What it does: Trains students in managemnt and leadership skills and also helps in placement\n",
      "---\n",
      "Company Brand: Aagey\n",
      "Headquarters: Bangalore\n",
      "Stage: Series C\n",
      "What it does: Provides financial assistance to MSMEs\n",
      "---\n",
      "Company Brand: Doubtnut\n",
      "Headquarters: Gurugram\n",
      "Stage: Series A\n",
      "What it does: Multi-lingual digital solutions platform for students\n",
      "---\n",
      "Company Brand: Bharatpe\n",
      "Headquarters: Delhi\n",
      "Stage: Seed\n",
      "What it does: Digital payments platform\n",
      "---\n",
      "Company Brand: Vogo\n",
      "Headquarters: Bangalore\n",
      "Stage: Series C\n",
      "What it does: A scooter-sharing platform allowing users to rent a two-wheeler from specific designated pick up points\n",
      "---\n",
      "Company Brand: Wizklub\n",
      "Headquarters: Bangalore\n",
      "Stage: Seed Funding\n",
      "What it does: Helps students solve problems at complex level\n",
      "---\n",
      "Company Brand: Interviewbit\n",
      "Headquarters: Pune\n",
      "Stage: Series A\n",
      "What it does: Platform that provides coding and interview preparation course by industry professionals from tech companies\n",
      "---\n",
      "Company Brand: Moneytap\n",
      "Headquarters: Indore\n",
      "Stage: Series B\n",
      "What it does: App-based consumer credit line that gives customers access to credit on tap.\n",
      "---\n",
      "Company Brand: Indwealth\n",
      "Headquarters: Gurugram\n",
      "Stage: Series C\n",
      "What it does: An Artificial Intelligence and Machine learning based wealth management platform\n",
      "---\n",
      "Company Brand: Getvantage\n",
      "Headquarters: Mumbai\n",
      "Stage: Seed Round\n",
      "What it does: Revenue based finance provider\n",
      "---\n",
      "Company Brand: Konfinity\n",
      "Headquarters: Noida\n",
      "Stage: Pre series A\n",
      "What it does: Provides online coding courses\n",
      "---\n",
      "Company Brand: Pine Labs\n",
      "Headquarters: Noida\n",
      "Stage: Seed Round\n",
      "What it does: Retail payment and hardware company\n",
      "---\n",
      "Company Brand: Eupheus Learning\n",
      "Headquarters: New Delhi\n",
      "Stage: Series A\n",
      "What it does: Provides technology-led, subscription-based learning solutions to schools\n",
      "---\n",
      "Company Brand: Mera Cashier\n",
      "Headquarters: Noida\n",
      "Stage: Seed Round\n",
      "What it does: App meant for small and micro businessmen to manage their transactions digitally\n",
      "---\n",
      "Company Brand: Monech\n",
      "Headquarters: Mumbai\n",
      "Stage: Seed Round\n",
      "What it does: Automated platform which will help users to take their financial decisions\n",
      "---\n",
      "Company Brand: Teach Us\n",
      "Headquarters: New Delhi\n",
      "Stage: Seed Round\n",
      "What it does: Educational portal which enables the students to access information related to education at one common platform\n",
      "---\n",
      "Company Brand: Extra Edge\n",
      "Headquarters: Pune\n",
      "Stage: Pre Series A\n",
      "What it does: Admission Marketing Automation software for the education industry\n",
      "---\n",
      "Company Brand: Capital Quotient\n",
      "Headquarters: Bangalore\n",
      "Stage: Series C\n",
      "What it does: Investment advisor\n",
      "---\n",
      "Company Brand: Capital Float\n",
      "Headquarters: Bangalore\n",
      "Stage: Series B\n",
      "What it does: Digital lending\n",
      "---\n",
      "Company Brand: Klub\n",
      "Headquarters: Kolkata\n",
      "Stage: Pre seed round\n",
      "What it does: Provides growth financing to high-affinity brands\n",
      "---\n",
      "Company Brand: Harappa Education\n",
      "Headquarters: New Delhi\n",
      "Stage: Pre series A\n",
      "What it does: Provides online courses on foundational skills\n",
      "---\n",
      "Company Brand: Paymart\n",
      "Headquarters: Chandigarh\n",
      "Stage: Series A\n",
      "What it does: Provides cardless cash withdrawals through small merchants shops\n",
      "---\n",
      "Company Brand: Testbook\n",
      "Headquarters: Noida\n",
      "Stage: Series B\n",
      "What it does: Helps students prepare online for competitive exams\n",
      "---\n",
      "Company Brand: Byju\n",
      "Headquarters: Pune\n",
      "Stage: Series B\n",
      "What it does: Provides online learning classes\n",
      "---\n",
      "Company Brand: Shiksha\n",
      "Headquarters: Singapore\n",
      "Stage: Series A\n",
      "What it does: It makes college selection easy for students looking to pursue UG and PG courses in India and abroad\n",
      "---\n",
      "Company Brand: Satin Creditcare\n",
      "Headquarters: Gurgaon\n",
      "Stage: Seed Round\n",
      "What it does: A micro finance company\n",
      "---\n",
      "Company Brand: Wealth Bucket\n",
      "Headquarters: Mumbai\n",
      "Stage: Pre series A\n",
      "What it does: An online platform for mutual fund investments\n",
      "---\n",
      "Company Brand: Leverage Edu\n",
      "Headquarters: Delhi\n",
      "Stage: Seed\n",
      "What it does: AI enabled marketplace that provides career guidance\n",
      "---\n",
      "Company Brand: Epifi\n",
      "Headquarters: Chennai\n",
      "Stage: Seed Round\n",
      "What it does: It offers customers with a single interface for all their financial and banking mandates\n",
      "---\n",
      "Company Brand: Upgrad\n",
      "Headquarters: Mumbai\n",
      "Stage: Series C\n",
      "What it does: UpGrad is an online higher education platform.\n",
      "---\n",
      "Company Brand: Lead School\n",
      "Headquarters: Mumbai\n",
      "Stage: Series D\n",
      "What it does: LEAD School offers technology based school transformation system that assures excellent learning for every child.\n",
      "---\n",
      "Company Brand: Fypmoney\n",
      "Headquarters: Gurugram\n",
      "Stage: Seed\n",
      "What it does: FypMoney is Digital NEO Bank for Teenagers, empowering them with financial literacy and ease of secured financial transactions.\n",
      "---\n",
      "Company Brand: Taikee\n",
      "Headquarters: Mumbai\n",
      "Stage: Series A\n",
      "What it does: Taikee is the ISO-certified, B2B e-commerce platform of Peel-Works, enabling better lives for corner stores.\n",
      "---\n",
      "Company Brand: Dealshare\n",
      "Headquarters: Jaipur\n",
      "Stage: Pre-seed\n",
      "What it does: DealShare is a Social Commerce Startup\n",
      "---\n",
      "Company Brand: Ixambee\n",
      "Headquarters: New Delhi\n",
      "Stage: Seed\n",
      "What it does: ixamBee is to provide best online learning experience for preparation of competitive exams.\n",
      "---\n",
      "Company Brand: Coinswitch Kuber\n",
      "Headquarters: Bangalore\n",
      "Stage: Series B\n",
      "What it does: CoinSwitch Kuber is an India-based cryptocurrency exchange platform.\n",
      "---\n",
      "Company Brand: Razorpay\n",
      "Headquarters: Bangalore\n",
      "Stage: Series E\n",
      "What it does: Razorpay is a platform that enables businesses to accept, process, and disburse payments.\n",
      "---\n",
      "Company Brand: Northern Arc\n",
      "Headquarters: Chennai\n",
      "Stage: Pre-seed\n",
      "What it does: Northern Arc Capital is a Non-Banking Finance Company that provides borrows with access to debt investors.\n",
      "---\n",
      "Company Brand: Vidyakul\n",
      "Headquarters: Pune\n",
      "Stage: Seed\n",
      "What it does: Vidyakul is an vernacular e-learning platform that helps state board students to learn academics via pre-recorded and live lectures\n",
      "---\n",
      "Company Brand: Superk\n",
      "Headquarters: Small Towns, Andhra Pradesh\n",
      "Stage: Seed\n",
      "What it does: SuperK is a full-stack solution to empower small format retail stores in India.\n",
      "---\n",
      "Company Brand: M1Xchange\n",
      "Headquarters: Gurugram\n",
      "Stage: Debt\n",
      "What it does: M1 an online exchange for TReDS set up under the approval RBI to facilitate discounting of invoices on a PAN India basis.\n",
      "---\n",
      "Company Brand: Learnvern\n",
      "Headquarters: Ahmadabad\n",
      "Stage: Series B\n",
      "What it does: LearnVern.com is a training portal where anyone can learn any course in vernacular languages for free.\n",
      "---\n",
      "Company Brand: Wework India\n",
      "Headquarters: Bangalore\n",
      "Stage: Series C\n",
      "What it does: Transform buildings into beautiful, collaborative workspaces and provide infrastructure, services, events and tech\n",
      "---\n",
      "Company Brand: Beldara\n",
      "Headquarters: Mumbai\n",
      "Stage: Seed\n",
      "What it does: BELDARA.COM IS A GLOBAL B2B marketplace, enables businesses to sell worldwide.\n",
      "---\n",
      "Company Brand: Credflow\n",
      "Headquarters: New Delhi\n",
      "Stage: Seed\n",
      "What it does: CredFlow provides financial solutions to automate your cashflows.\n",
      "---\n",
      "Company Brand: Swiggy\n",
      "Headquarters: Bangalore\n",
      "Stage: Series B\n",
      "What it does: Swiggy is an on-demand food delivery platform that brings food from neighborhood restaurants directly to customers' doors.\n",
      "---\n",
      "Company Brand: Playshifu\n",
      "Headquarters: Bangalore\n",
      "Stage: Series B\n",
      "What it does: PlayShifu is an EdTech startup that offers teaching/learning tools for kids (4-12 years of age).\n",
      "---\n",
      "Company Brand: Pitstop\n",
      "Headquarters: Bangalore\n",
      "Stage: Pre-series B\n",
      "What it does: Pitstop offers general repair and maintenance services for cars through its doorstep service vehicles.\n",
      "---\n",
      "Company Brand: Lendingkart\n",
      "Headquarters: Gujarat\n",
      "Stage: Debt\n",
      "What it does: Lendingkart is an online financing company dedicated to help entrepreneurs and small businesses with Working Capital Loans.\n",
      "---\n",
      "Company Brand: Cred\n",
      "Headquarters: Bangalore\n",
      "Stage: Series D\n",
      "What it does: CRED is a members-only credit card management and bill payments platform that rewards users every time they pay their credit card bills.\n",
      "---\n",
      "Company Brand: Shopse\n",
      "Headquarters: Mumbai\n",
      "Stage: Debt\n",
      "What it does: Make purchases online or at neighborhood store in easy EMIs through ShopSe.\n",
      "---\n",
      "Company Brand: Groww\n",
      "Headquarters: Bangalore\n",
      "Stage: Series D\n",
      "What it does: Groww is an investment platform that offers a new way of investing money with stockbroking and direct mutual funds.\n",
      "---\n",
      "Company Brand: Avanti Finance\n",
      "Headquarters: Bangalore\n",
      "Stage: Series A\n",
      "What it does: Avanti Finance lends relatively large but trust-based loans without formal credit footprint.\n",
      "---\n",
      "Company Brand: Ofbusiness\n",
      "Headquarters: Gurugram\n",
      "Stage: Pre-series A\n",
      "What it does: OfBusiness is a financing platform that offers smart financing to SMEs.\n",
      "---\n",
      "Company Brand: Spinny\n",
      "Headquarters: Gurugram\n",
      "Stage: Series C\n",
      "What it does: Spinny is a used car buying platform enabling trustworthy and hassle-free transactions.\n",
      "---\n",
      "Company Brand: Alteria Capital\n",
      "Headquarters: Mumbai\n",
      "Stage: Debt\n",
      "What it does: Alteria Capital is a Venture debt firm .\n",
      "---\n",
      "Company Brand: Safexpay\n",
      "Headquarters: Thane\n",
      "Stage: Series B\n",
      "What it does: SafexPay is set up with the aim to build digital payments businesses and channel platforms encompassing payment gateways\n",
      "---\n",
      "Company Brand: Speciale Invest\n",
      "Headquarters: Bangalore\n",
      "Stage: Debt\n",
      "What it does: Speciale Invest is an early stage investor focusing on Tech-driven/Deep-tech ventures.\n",
      "---\n",
      "Company Brand: Eunimart\n",
      "Headquarters: Hyderabad\n",
      "Stage: Pre-series A\n",
      "What it does: Eunimart is a one stop solution for merchants to create a difference by selling globally.\n",
      "---\n",
      "Company Brand: Meesho\n",
      "Headquarters: Bangalore\n",
      "Stage: Series A\n",
      "What it does: Meesho operates as an online reselling platform that enables anyone to start a business without investment.\n",
      "---\n",
      "Company Brand: Careerlabs\n",
      "Headquarters: Bangalore\n",
      "Stage: Series C\n",
      "What it does: Aim to help students become future-ready, setting them on a path to success that suits them best.\n",
      "---\n",
      "Company Brand: Uable\n",
      "Headquarters: Bangalore\n",
      "Stage: Pre-series A\n",
      "What it does: Uable are on a bold mission to redefine the future for millions of teenagers around the world.\n",
      "---\n",
      "Company Brand: Easebuzz\n",
      "Headquarters: Pune\n",
      "Stage: Series A\n",
      "What it does: Easebuzz is an easy to use portal which allows you to start an online business and sell your favorite products with a free online store.\n",
      "---\n",
      "Company Brand: Dusminute\n",
      "Headquarters: Bangalore\n",
      "Stage: Pre-series A\n",
      "What it does: DusMinute aims to transform how communities live by giving them access to world-class amenities at their doorstep.\n",
      "---\n",
      "Company Brand: Karbon Card\n",
      "Headquarters: Bangalore\n",
      "Stage: Series A\n",
      "What it does: Prime objective is to empower Indian startups by creating the right financial products starting with a high-limit corporate credit card with unlimited benefits\n",
      "---\n",
      "Company Brand: Oto Capital\n",
      "Headquarters: Mumbai\n",
      "Stage: Pre-series A\n",
      "What it does: The Future Of Vehicle Ownership!\n",
      "---\n",
      "Company Brand: Skeps\n",
      "Headquarters: Gurugram\n",
      "Stage: Series A\n",
      "What it does: A blockchain products company, developing a proprietary product in the FinTech space\n",
      "---\n",
      "Company Brand: Isgoingonline\n",
      "Headquarters: Cochin\n",
      "Stage: Pre-seed\n",
      "What it does: Kochi-based digital catalogue and marketplace IsGoingOnline\n",
      "---\n",
      "Company Brand: Camp K12\n",
      "Headquarters: Gurugram\n",
      "Stage: Series C\n",
      "What it does: Camp K12 is a global online school for 21st century skills, teaching Coding and other STEAM subjects to kids age 6-18 via LIVE, interactive, gamified online sessions\n",
      "---\n",
      "Company Brand: Ruptok\n",
      "Headquarters: New Delhi\n",
      "Stage: Pre-series A\n",
      "What it does: Ruptok fintech Pvt. Ltd. is an online gold loan service provider , with attractive interests rate .\n",
      "---\n",
      "Company Brand: Isgoingonline\n",
      "Headquarters: Cochin\n",
      "Stage: Pre-series A\n",
      "What it does: Kochi-based digital catalogue and marketplace IsGoingOnline\n",
      "---\n",
      "Company Brand: Camp K12\n",
      "Headquarters: Gurugram\n",
      "Stage: Series A\n",
      "What it does: Camp K12 is a global online school for 21st century skills, teaching Coding and other STEAM subjects to kids age 6-18 via LIVE, interactive, gamified online sessions\n",
      "---\n",
      "Company Brand: Ruptok\n",
      "Headquarters: New Delhi\n",
      "Stage: Series C\n",
      "What it does: Ruptok fintech Pvt. Ltd. is an online gold loan service provider , with attractive interests rate .\n",
      "---\n",
      "Company Brand: Khatabook\n",
      "Headquarters: Bangalore\n",
      "Stage: Series C\n",
      "What it does: Khatabook is the world's fastest-growing Saas company. It has become India's leading business management app for MSMEs with 50M+ downloads in a remarkably short period of time.\n",
      "---\n",
      "Company Brand: Akudo\n",
      "Headquarters: Bangalore\n",
      "Stage: Pre-seed\n",
      "What it does: Akudo is pioneering the concept of Learning-First Banking for Teenagers.\n",
      "---\n",
      "Company Brand: Goegonetwork\n",
      "Headquarters: Pune\n",
      "Stage: Series A\n",
      "What it does: goEgo is a complete E Mobility charging solution, that combines engagement, rewards & adoption through a mix of online and offline channels.\n",
      "---\n",
      "Company Brand: Smallcase\n",
      "Headquarters: Bangalore\n",
      "Stage: Series C\n",
      "What it does: Smallcase is a new way to invest in the stock markets.\n",
      "---\n",
      "Company Brand: Racenergy\n",
      "Headquarters: Hyderabad\n",
      "Stage: Seed+\n",
      "What it does: RACEnergy is working to power the future of mobility through clean and efficient technologies.\n",
      "---\n",
      "Company Brand: Bharatpe\n",
      "Headquarters: New Delhi\n",
      "Stage: Debt\n",
      "What it does: The vision to make financial inclusion a reality for Indian merchants.\n",
      "---\n",
      "Company Brand: Batterypool\n",
      "Headquarters: Pune\n",
      "Stage: Seed\n",
      "What it does: Building the Operating System for managing Electric Vehicles in fleets.\n",
      "---\n",
      "Company Brand: Oyo\n",
      "Headquarters: Gurugram\n",
      "Stage: Series F2\n",
      "What it does: OYO is a global travel tech company that connects its patrons and guests.\n",
      "---\n",
      "Company Brand: Ypay\n",
      "Headquarters: Noida\n",
      "Stage: Pre-seed\n",
      "What it does: YPay Card is the new way to manage money.\n",
      "---\n",
      "Company Brand: Upscalio\n",
      "Headquarters: Gurugram\n",
      "Stage: Seed\n",
      "What it does: UpScalio is India’s next generation, data-driven consumer goods company.\n",
      "---\n",
      "Company Brand: Yellow Class\n",
      "Headquarters: Gurugram\n",
      "Stage: Series B\n",
      "What it does: Yellow Class is a new-age fun-learning platform where kids between 2-12 years can learn from a wide range of classes like dancing, drawing, personality development, creative writing and so on\n",
      "---\n",
      "Company Brand: Expertrons\n",
      "Headquarters: Mumbai\n",
      "Stage: Series A\n",
      "What it does: The world's largest AI Videobot platform providing futuristic solutions for businesses & colleges and employment\n",
      "---\n",
      "Company Brand: Klub\n",
      "Headquarters: Bangalore\n",
      "Stage: Pre-seed\n",
      "What it does: Klub was founded with the vision of revolutionizing growth capital for Asia’s most loved brands.a\n",
      "---\n",
      "Company Brand: 1K Kirana Bazaar\n",
      "Headquarters: Gurugram\n",
      "Stage: Pre-seed\n",
      "What it does: India's First and Largest Network of Small-Town Kirana Stores\n",
      "---\n",
      "Company Brand: Whiz League\n",
      "Headquarters: New Delhi\n",
      "Stage: Pre-series A\n",
      "What it does: Revolutionizing learning experience that goes beyond academia\n",
      "---\n",
      "Company Brand: Unacademy\n",
      "Headquarters: Bangalore\n",
      "Stage: Series C\n",
      "What it does: Unacademy aims to build the world's largest online knowledge repository for multi-lingual education.\n",
      "---\n",
      "Company Brand: Upgrad\n",
      "Headquarters: Mumbai\n",
      "Stage: Pre-seed\n",
      "What it does: upGrad is India’s largest online higher education company providing programs in Data Science, Technology, Management and Law, to students, working professionals and enterprises.\n",
      "---\n",
      "Company Brand: Flashprep\n",
      "Headquarters: Bangalore\n",
      "Stage: Pre-seed\n",
      "What it does: FlashPrep is the smart way to master learning.\n",
      "---\n",
      "Company Brand: Credgenics\n",
      "Headquarters: New Delhi\n",
      "Stage: Series A\n",
      "What it does: Credgenics is India’s first of it's kind NPA resolution platform backed by credible investors including Accel Partners and Titan Capital.\n",
      "---\n",
      "Company Brand: Bluelearn\n",
      "Headquarters: Goa\n",
      "Stage: Pre-seed\n",
      "What it does: Building India's largest student community. Learn, network, and grow together with 40,000+ students!\n",
      "---\n",
      "Company Brand: Grip Invest\n",
      "Headquarters: Gurugram\n",
      "Stage: Series A\n",
      "What it does: Grip offers investment opportunities to invest in physical assets leased to corporates, to earn fixed monthly returns.\n",
      "---\n",
      "Company Brand: Bharatpe\n",
      "Headquarters: New Delhi\n",
      "Stage: Series E\n",
      "What it does: BharatPe launched India’s first UPI interoperable QR code, first ZERO MDR payment acceptance service, and first UPI payment backed merchant cash advance service.\n",
      "---\n",
      "Company Brand: Gosats\n",
      "Headquarters: Bangalore\n",
      "Stage: Seed\n",
      "What it does: GoSats is a bitcoin stacking app that lets users earn bitcoin cashbacks when they shop with our partnered merchants.\n",
      "---\n",
      "Company Brand: Stockgro\n",
      "Headquarters: Bangalore\n",
      "Stage: Pre-series A\n",
      "What it does: Making Investment Social- India's First Social Trading Platform\n",
      "---\n",
      "Company Brand: Enguru\n",
      "Headquarters: Bangalore\n",
      "Stage: Pre-series A\n",
      "What it does: Enguru provides a personalized & gamified English learning solution to prepare young adults for the workplace.\n",
      "---\n",
      "Company Brand: Rocket Skills\n",
      "Headquarters: Gurugram\n",
      "Stage: Pre-seed\n",
      "What it does: Rocket Skills is the #1 Platform for learning skills which will bring a high positive impact on your business and life skills.\n",
      "---\n",
      "Company Brand: Renewbuy\n",
      "Headquarters: Gurugram\n",
      "Stage: Series C\n",
      "What it does: Simplify insurance and aim to take it to the last Indian, through our digitally enabled POSP advisors.\n",
      "---\n",
      "Company Brand: Payglocal\n",
      "Headquarters: Bangalore\n",
      "Stage: Series A\n",
      "What it does: PayGlocal is a FinTech solving for global payments acceptance\n",
      "---\n",
      "Company Brand: Charge+Zone\n",
      "Headquarters: Vadodara\n",
      "Stage: Pre-seed\n",
      "What it does: CHARGE+ZONE is a tech-driven EV Charging infrastructure company specializing in B2B and B2C charging services on both dedicated and opportunity based charging using smart-grid network.\n",
      "---\n",
      "Company Brand: Lendenclub\n",
      "Headquarters: Mumbai\n",
      "Stage: Series A\n",
      "What it does: P2P lending platform delivering high returns of up to 12% p.a. for 5 years to investors.\n",
      "---\n",
      "Company Brand: Exponent Energy\n",
      "Headquarters: Bangalore\n",
      "Stage: Pre-series A\n",
      "What it does: Simplifying energy for EVs by building a Flexible Energy Stack.\n",
      "---\n",
      "Company Brand: Ultraviolette\n",
      "Headquarters: Bangalore\n",
      "Stage: Series C\n",
      "What it does: Create and Inspire the future of sustainable urban transportation through Accelerated Innovation.\n",
      "---\n",
      "Company Brand: Fananywhere\n",
      "Headquarters: Bangalore\n",
      "Stage: Seed\n",
      "What it does: Celebrity NFT platform\n",
      "---\n",
      "Company Brand: Asqi Advisors\n",
      "Headquarters: Mumbai\n",
      "Stage: Pre-series A\n",
      "What it does: Bringing Blockchain technology intro mainstream finance!\n",
      "---\n",
      "Company Brand: Uni Cards\n",
      "Headquarters: Bangalore\n",
      "Stage: Series A\n",
      "What it does: Uni Card splits your payments into 3 parts, over 3 months, at 0 extra costs.\n",
      "---\n",
      "Company Brand: Nestasia\n",
      "Headquarters: Kolkata\n",
      "Stage: Series A\n",
      "What it does: Artisanal, Handmade, bio conscious crafts from South East Asia.\n",
      "---\n",
      "Company Brand: Juspay\n",
      "Headquarters: Bangalore\n",
      "Stage: Series C\n",
      "What it does: Enable frictionless payments for the billion Indians.\n",
      "---\n",
      "Company Brand: Stack\n",
      "Headquarters: Bangalore\n",
      "Stage: Seed\n",
      "What it does: Stack is an investing platform set to put money to work and help invest like some of the world’s biggest money-makers\n",
      "---\n",
      "Company Brand: Ofbusiness\n",
      "Headquarters: Gurugram\n",
      "Stage: Series B\n",
      "What it does: OfBusiness is a new age commerce and fintech start up, and is technologically driven to provide smart procurement and smart financing to SMEs.\n",
      "---\n",
      "Company Brand: Yodacart\n",
      "Headquarters: Thane\n",
      "Stage: Pre-seed\n",
      "What it does: YODACART is an e-commerce startup offering real-time product discovery using AI/ML for appliances based on consumers’ needs with an AR-enabled browsing experience.\n",
      "---\n",
      "Company Brand: Zepto\n",
      "Headquarters: Bangalore\n",
      "Stage: Series C\n",
      "What it does: Ability to consistently deliver 2,500+ products in 10 minutes flat.\n",
      "---\n",
      "Company Brand: Sk Finance\n",
      "Headquarters: Jaipur\n",
      "Stage: Series F\n",
      "What it does: SK Finance is a leading player in vehicle financing and small business loans lending space with AUM over 4000cr.\n",
      "---\n",
      "Company Brand: Globalbees\n",
      "Headquarters: New Delhi\n",
      "Stage: Series B\n",
      "What it does: Globalbees partners with entrepreneurs who have built an online-first business.\n",
      "---\n",
      "Company Brand: Onecard\n",
      "Headquarters: Pune\n",
      "Stage: Seed\n",
      "What it does: India's finest and smartest metal credit card, reimagined for the mobile generation.\n",
      "---\n",
      "Company Brand: Doubtnut\n",
      "Headquarters: Gurugram\n",
      "Stage: Series B\n",
      "What it does: Doubtnut operates as an e-learning platform that enables users to ask study questions in Physics, Chemistry, and Math.\n",
      "---\n",
      "Company Brand: Kutuki\n",
      "Headquarters: Bangalore\n",
      "Stage: Seed\n",
      "What it does: Kutuki is a learning platform focused on children between the ages of three and seven.\n",
      "---\n",
      "Company Brand: Eupheus\n",
      "Headquarters: New Delhi\n",
      "Stage: Series B\n",
      "What it does: Eupheus Learning offers a seamless integrated learning solution for the K-12 market in India.\n",
      "---\n",
      "Company Brand: Kreditbee\n",
      "Headquarters: Bangalore\n",
      "Stage: Series C\n",
      "What it does: KreditBee is an Instant Personal Loan Platform for Young Professionals.\n",
      "---\n",
      "Company Brand: Marquee Equity\n",
      "Headquarters: Mumbai\n",
      "Stage: Series B\n",
      "What it does: The World's #1 Fundraising Service - Investor Meetings + Deal Documents - Globally\n",
      "---\n",
      "Company Brand: Wizklub\n",
      "Headquarters: Bangalore\n",
      "Stage: Pre-series A\n",
      "What it does: Wizklub uses a unique method of developing and nurturing Higher Order Thinking Skills in children\n",
      "---\n",
      "Company Brand: Zolve\n",
      "Headquarters: Bangalore\n",
      "Stage: Seed\n",
      "What it does: Zolve Innovations operates as a neo-banking startup.\n",
      "---\n",
      "Company Brand: Medibuddy\n",
      "Headquarters: Bangalore\n",
      "Stage: Debt\n",
      "What it does: MediBuddy is a digital healthcare platform for inpatient hospitalization, outpatient services, and corporate wellness benefits.\n",
      "---\n",
      "Company Brand: Pariksha\n",
      "Headquarters: Pune\n",
      "Stage: Pre-series A\n",
      "What it does: Pariksha - The Sucess App, India's largest vernacular test preparation company for the mobile 1st internet users of India.\n",
      "---\n",
      "Company Brand: Express Stores\n",
      "Headquarters: Gurugram\n",
      "Stage: Seed\n",
      "What it does: Express Stores is a retail and omnichannel startup company\n",
      "---\n",
      "Company Brand: Avataar Ventures\n",
      "Headquarters: Bangalore\n",
      "Stage: Pre-seed\n",
      "What it does: Avataar Venture Partners is a growth Capital Investment Firm.\n",
      "---\n",
      "Company Brand: Bharatpe\n",
      "Headquarters: New Delhi\n",
      "Stage: Series D\n",
      "What it does: BharatPe develops a QR code-based payment app for offline retailers and businesses.\n",
      "---\n",
      "Company Brand: Filo\n",
      "Headquarters: New Delhi\n",
      "Stage: Pre-seed\n",
      "What it does: Instant learning platform for students while self study.\n",
      "---\n",
      "Company Brand: Edufund\n",
      "Headquarters: Gujarat\n",
      "Stage: Pre-seed\n",
      "What it does: Changing the way Indians evaluate and plan higher education\n",
      "---\n",
      "Company Brand: Pepperfry\n",
      "Headquarters: Mumbai\n",
      "Stage: Debt\n",
      "What it does: Pepperfry is an online home and lifestyle shopping store selling products with cash on delivery facilities.\n",
      "---\n",
      "Company Brand: Newton School\n",
      "Headquarters: Bangalore\n",
      "Stage: Series A\n",
      "What it does: Newton School is a platform to learn and develop skills that you need for your best Tech career.\n",
      "---\n",
      "Company Brand: Siply\n",
      "Headquarters: Bangalore\n",
      "Stage: Seed\n",
      "What it does: Siply Services operates as a micro-savings platform.\n",
      "---\n",
      "Company Brand: Sarvagram\n",
      "Headquarters: Mumbai\n",
      "Stage: Series B\n",
      "What it does: SarvaGram provides livelihood upgradation for aspiring households based in rural and semi-urban India.\n",
      "---\n",
      "Company Brand: Eduvanz\n",
      "Headquarters: Mumbai\n",
      "Stage: Debt\n",
      "What it does: Eduvanz is new, innovative finance company, which is completely revolutionizing the student loan market.\n",
      "---\n",
      "Company Brand: Owo\n",
      "Headquarters: Gurugram\n",
      "Stage: Seed\n",
      "What it does: Shop packaged drinking water, beverages from your favorite brands i.e. Kinley, Bisleri, Aquafina, Coca-cola, Pepsi etc\n",
      "---\n",
      "Company Brand: Progcap\n",
      "Headquarters: New Delhi\n",
      "Stage: Debt\n",
      "What it does: Progcap is a financial service company that provides financial opportunities for micro and small businesses in the last mile.\n",
      "---\n",
      "Company Brand: Abl Workspaces\n",
      "Headquarters: New Delhi\n",
      "Stage: Pre-series A\n",
      "What it does: ABL Workspaces is a co-working space where professionals from all walks of life come to work under one roof.\n",
      "---\n",
      "Company Brand: Splashlearn\n",
      "Headquarters: Gurugram\n",
      "Stage: Series C\n",
      "What it does: SplashLearn is an EdTech startup company providing game-based math and reading courses to students in pre-kindergarten to grade five.\n",
      "---\n",
      "Company Brand: Zetwerk\n",
      "Headquarters: Bangalore\n",
      "Stage: Series D\n",
      "What it does: Zetwerk is an online marketplace that connects buyers and suppliers for manufacturing jobs.\n",
      "---\n",
      "Company Brand: Satya Microcapital\n",
      "Headquarters: New Delhi\n",
      "Stage: Debt\n",
      "What it does: Satya MicroCapital is a micro finance company based on a group lending model that allows borrowers to share liability.\n",
      "---\n",
      "Company Brand: Aviom Housing Finance\n",
      "Headquarters: New Delhi\n",
      "Stage: Debt\n",
      "What it does: AVIOM India is an Affordable Housing Finance company facilitating families in mostly semi urban areas in realising their dream of owning their first home.\n",
      "---\n",
      "Company Brand: Dotpe\n",
      "Headquarters: Gurugram\n",
      "Stage: Seed\n",
      "What it does: DotPe is an innovative offline technology platform digitising merchant's customer engagement with mobile discovery, ordering and payments.\n",
      "---\n",
      "Company Brand: Mastermentors\n",
      "Headquarters: West Bengal\n",
      "Stage: Series A\n",
      "What it does: India's first online platform for mentors enabling them to translate their expertise into a profitable online course\n",
      "---\n",
      "Company Brand: Ruptok\n",
      "Headquarters: New Delhi\n",
      "Stage: Seed\n",
      "What it does: Ruptok operates as a fintech platform for gold loans\n",
      "---\n",
      "Company Brand: Junio\n",
      "Headquarters: New Delhi\n",
      "Stage: Series C\n",
      "What it does: Junio is a kids-focused digital pocket money-smart card.\n",
      "---\n",
      "Company Brand: Vista Rooms\n",
      "Headquarters: Mumbai\n",
      "Stage: Series C\n",
      "What it does: Vista Rooms is a South Asia's largest luxury holiday home rental management company. We are on a mission to build the \"Marriott for Homes\"\n",
      "---\n",
      "Company Brand: Growfix\n",
      "Headquarters: Bangalore\n",
      "Stage: Seed\n",
      "What it does: Building high-yield Debt assets for retail investors\n",
      "---\n",
      "Company Brand: Beyondskool\n",
      "Headquarters: Mumbai\n",
      "Stage: Seed\n",
      "What it does: BeyondSkool is a live upskilling platform for kids\n",
      "---\n",
      "Company Brand: Mindler\n",
      "Headquarters: New Delhi\n",
      "Stage: Pre-series A\n",
      "What it does: Mindler is a career counseling company that provides career development guidance counseling services for students.\n",
      "---\n",
      "Company Brand: Bharatpe\n",
      "Headquarters: New Delhi\n",
      "Stage: Debt\n",
      "What it does: BharatPe develops a QR code-based payment app for offline retailers and businesses.\n",
      "---\n",
      "Company Brand: Bharatpe\n",
      "Headquarters: New Delhi\n",
      "Stage: Debt\n",
      "What it does: BharatPe develops a QR code-based payment app for offline retailers and businesses.\n",
      "---\n",
      "Company Brand: Udayy\n",
      "Headquarters: Gurgaon\n",
      "Stage: Seed\n",
      "What it does: Interactive learning platform for kids\n",
      "---\n",
      "Company Brand: Siply\n",
      "Headquarters: Bangalore\n",
      "Stage: Seed\n",
      "What it does: Siply Services operates as a micro-savings platform.\n",
      "---\n",
      "Company Brand: Purpletutor\n",
      "Headquarters: Mumbai\n",
      "Stage: Seed\n",
      "What it does: PurpleTutor is the only coding platform that mandates every teacher to have a formal Computer Science degree\n",
      "---\n",
      "Company Brand: Ssa Finserv\n",
      "Headquarters: Mumbai\n",
      "Stage: Debt\n",
      "What it does: Small businesses-focused non-banking lender\n",
      "---\n",
      "Company Brand: Paperfly\n",
      "Headquarters: Bangalore\n",
      "Stage: Series C\n",
      "What it does: Paperfly is an e-commerce fulfillment and nationwide delivery solution in Bangladesh\n",
      "---\n",
      "Company Brand: Infra.Market\n",
      "Headquarters: Thane\n",
      "Stage: Debt\n",
      "What it does: Infra.Market is an online procurement marketplace for every category of materials and products needed for building projects.\n",
      "---\n",
      "Company Brand: Udaan\n",
      "Headquarters: Bangalore\n",
      "Stage: Series B\n",
      "What it does: Udaan is a B2B trade platform that brings manufacturers, traders, retailers, and wholesalers into a single platform\n",
      "---\n",
      "Company Brand: Unacademy\n",
      "Headquarters: Bangalore\n",
      "Stage: Seed\n",
      "What it does: Unacademy is an online learning platform providing educational content such as video lectures and examinations.\n",
      "---\n",
      "Company Brand: Pariksha\n",
      "Headquarters: Pune\n",
      "Stage: Series B\n",
      "What it does: Pariksha - The Sucess App, India's largest vernacular test preparation company for the mobile 1st internet users of India\n",
      "---\n",
      "Company Brand: Phi Commerce\n",
      "Headquarters: Pune\n",
      "Stage: Series A\n",
      "What it does: Payments Facilitator, Payments solution provider etc.\n",
      "---\n",
      "Company Brand: Practically\n",
      "Headquarters: Telangana\n",
      "Stage: Pre-series B\n",
      "What it does: Making Learning personal, immersive and experiental\n",
      "---\n",
      "Company Brand: Cred\n",
      "Headquarters: Bangalore\n",
      "Stage: Series C\n",
      "What it does: CRED is a Bengaluru-based fintech startup that offers rewards for customers who use its platform to pay their credit card bills.\n",
      "---\n",
      "Company Brand: Zerone\n",
      "Headquarters: Gurgaon\n",
      "Stage: Pre-series A\n",
      "What it does: Convert smartphones into a POS machine using our ZUP proximity payment technology, with no additional hardware and no need for NFC.\n",
      "---\n",
      "Company Brand: Kyt\n",
      "Headquarters: Bangalore\n",
      "Stage: Series A\n",
      "What it does: An online-first, global academy for extracurricular learning | Private & small group online classes for kids\n",
      "---\n",
      "Company Brand: Bharatpe\n",
      "Headquarters: New Delhi\n",
      "Stage: Debt\n",
      "What it does: BharatPe develops a QR code-based payment app for offline retailers and businesses.\n",
      "---\n",
      "Company Brand: Oyo\n",
      "Headquarters: Gurgaon\n",
      "Stage: Series F1\n",
      "What it does: OYO operates a branded network of hotels designed to offer standardized stay experiences.\n",
      "---\n",
      "Company Brand: Blacksoil\n",
      "Headquarters: Mumbai\n",
      "Stage: Series C\n",
      "What it does: Blacksoil Advisory is an independent boutique advisory firm.\n",
      "---\n",
      "Company Brand: Hobspace\n",
      "Headquarters: Mumbai\n",
      "Stage: Pre-series A1\n",
      "What it does: HobSpace is a platform for extra-curricular activities online and offline for kids between 3-14 years.\n",
      "---\n",
      "Company Brand: Dcodeai\n",
      "Headquarters: New Delhi\n",
      "Stage: Seed\n",
      "What it does: EMPOWER LEARNERS TO BE FUTURE READY USING AI\n",
      "---\n",
      "Company Brand: Kiranakart\n",
      "Headquarters: Mumbai\n",
      "Stage: Pre-seed\n",
      "What it does: A better model for instant grocery delivery in India.\n",
      "---\n",
      "Company Brand: Sp Robotic Works\n",
      "Headquarters: Chennai\n",
      "Stage: Series A\n",
      "What it does: An innovative place to explore next-generation technologies for students and all tech enthusiasts.\n",
      "---\n",
      "Company Brand: Fixcraft\n",
      "Headquarters: Gurugram\n",
      "Stage: Pre-series A\n",
      "What it does: India's Most Trusted Automotive Repair Brand\n",
      "---\n",
      "Company Brand: Slice\n",
      "Headquarters: Bangalore\n",
      "Stage: Pre-series A\n",
      "What it does: Slice is India's best credit card challenger to pay bills, manage expenses, and unlock rewards\n",
      "---\n",
      "Company Brand: 90+ My Tuition App\n",
      "Headquarters: Bangalore\n",
      "Stage: Series A\n",
      "What it does: Daskalos Virtual Academy Pvt Ltd is a company set up by a group of professionals who perform innovative work in management.\n",
      "---\n",
      "Company Brand: Ourbetterplanet\n",
      "Headquarters: Bangalore\n",
      "Stage: Seed\n",
      "What it does: A curated online marketplace for all things sustainable!\n",
      "---\n",
      "Company Brand: Edukemy\n",
      "Headquarters: Noida\n",
      "Stage: Pre-series A\n",
      "What it does: Edukemy is the first EdTech company in the country, in the non –STEM segment, offering an immersive learning experience to the students, supported by cutting-edge technology and an AI-based evaluation system.\n",
      "---\n",
      "Company Brand: Pencilton\n",
      "Headquarters: Hyderabad\n",
      "Stage: Pre-seed\n",
      "What it does: India's first app for kids & teens to manage and spend pocket money while learning about money in a fun, gamified way.\n",
      "---\n",
      "Company Brand: Knorish\n",
      "Headquarters: Gurugram\n",
      "Stage: Pre-series A\n",
      "What it does: Saas platform offers a feature packed platform enables businesses, experts, professionals, artists, instructors, specialists, coaches, people seeking work from home opportunities\n",
      "---\n",
      "Company Brand: Godi Energy\n",
      "Headquarters: Hyderabad\n",
      "Stage: Series C\n",
      "What it does: GODI is a technology innovation organization focused on the design and manufacturing of green energy storage solutions.\n",
      "---\n",
      "Company Brand: Braingroom\n",
      "Headquarters: Chennai\n",
      "Stage: Debt\n",
      "What it does: BrainGroom is an online marketplace for educational, recreational & wellness classes with defined target segment, quantifiable outcomes & specified time duration.\n",
      "---\n",
      "Company Brand: Credenc\n",
      "Headquarters: New Delhi\n",
      "Stage: Debt\n",
      "What it does: An education loan platform to finance meritorious students for the college expenses by underwriting future employability\n",
      "---\n",
      "Company Brand: Spinny\n",
      "Headquarters: Gurugram\n",
      "Stage: Series D\n",
      "What it does: Spinny is a new age used car end-to-end platform in India.\n",
      "---\n",
      "Company Brand: Automovill\n",
      "Headquarters: Bangalore\n",
      "Stage: Pre-seed\n",
      "What it does: Automovill is a unique platform to aggregate automobile service providers, where we connect vehicle owners with all kind of automobile service providers under one roof.\n",
      "---\n",
      "Company Brand: Galaxycard\n",
      "Headquarters: Gurugram\n",
      "Stage: Debt\n",
      "What it does: GalaxyCard is a mobile based Instant Credit Card.\n",
      "---\n",
      "Company Brand: Smartcoin\n",
      "Headquarters: Bangalore\n",
      "Stage: Seed\n",
      "What it does: India's Most Preferred Instant Loan App\n",
      "---\n",
      "Company Brand: Careerninja\n",
      "Headquarters: Mumbai\n",
      "Stage: Seed\n",
      "What it does: Careerninja Is A Funded, Early-stage Ed-tech Venture Building A Personalized Learning Platform To Help People Achieve Their Career Goals\n",
      "---\n",
      "Company Brand: Oyo\n",
      "Headquarters: Gurugram\n",
      "Stage: Series B\n",
      "What it does: OYO is a global platform that empowers entrepreneurs and small businesses with hotels and homes by providing full-stack technology\n",
      "---\n",
      "Company Brand: Ola Electric\n",
      "Headquarters: Bangalore\n",
      "Stage: Debt\n",
      "What it does: Ola Electric - The future of mobility is here.? Charging ahead to accelerate the world’s transition to sustainable mobility.\n",
      "---\n",
      "Company Brand: Oliveboard\n",
      "Headquarters: Bangalore\n",
      "Stage: Debt\n",
      "What it does: Oliveboard is the top exam preparation platform for Banking & Government Exams.\n",
      "---\n",
      "Company Brand: Kredent\n",
      "Headquarters: Kolkata\n",
      "Stage: Series B\n",
      "What it does: Kredent Academy is the unique concept where financial market professionals have taken the onus of creating a strong knowledge bank in their area of expertise\n",
      "---\n",
      "Company Brand: Vah Vah!\n",
      "Headquarters: Bangalore\n",
      "Stage: Pre-series A\n",
      "What it does: A mission to educate India and make its young and dynamic population job ready.\n",
      "---\n",
      "Company Brand: Ati Motors\n",
      "Headquarters: Bangalore\n",
      "Stage: Pre-series A\n",
      "What it does: Autonomous industrial vehicle maker\n",
      "---\n",
      "Company Brand: Ion Energy\n",
      "Headquarters: Mumbai\n",
      "Stage: Pre-series A\n",
      "What it does: Advanced Electronics & Software Supplier for Electric Vehicles & Battery Energy Storage\n",
      "---\n",
      "Company Brand: Twid\n",
      "Headquarters: Bangalore\n",
      "Stage: Seed\n",
      "What it does: TWID is shaping the future of Digital Currencies, delivering new-age fintech solutions\n",
      "---\n",
      "Company Brand: Peakperformer\n",
      "Headquarters: Bangalore\n",
      "Stage: Early seed\n",
      "What it does: A goal-oriented, outcome-driven platform to make leadership coaching accessible to all.\n",
      "---\n",
      "Company Brand: Pocketly\n",
      "Headquarters: Bangalore\n",
      "Stage: Series B\n",
      "What it does: Pocketly provides quick cash on hand, anytime - anywhere!\n",
      "---\n",
      "Company Brand: Sped@Home\n",
      "Headquarters: Mumbai\n",
      "Stage: Debt\n",
      "What it does: Provide Remediation, Occupational Therapy, Speech Therapy and Socio-emotional coaching for children with Learning Disabilities like Dyslexia, Dysgraphia, Dyscalculia\n",
      "---\n",
      "Company Brand: Dealshare\n",
      "Headquarters: Bangalore\n",
      "Stage: Debt\n",
      "What it does: The next generation disruptive (social) e-commerce product for the masses.\n",
      "---\n",
      "Company Brand: Teachmint\n",
      "Headquarters: Bangalore\n",
      "Stage: Pre-series B\n",
      "What it does: Teachmint is an all-in-one education technology platform created specifically for the tutors of the digital age.\n",
      "---\n",
      "Company Brand: Gostops\n",
      "Headquarters: New Delhi\n",
      "Stage: Pre-series A\n",
      "What it does: goSTOPS aims to be India’s biggest and most loved backpacker hostel brand.\n",
      "---\n",
      "Company Brand: Avishkaar\n",
      "Headquarters: New Delhi\n",
      "Stage: Pre-series A\n",
      "What it does: India's leading Ed-Tech startup spearheading the Maker Revolution in the sub-continent\n",
      "---\n",
      "Company Brand: Crejo.Fun\n",
      "Headquarters: Bangalore\n",
      "Stage: Seed\n",
      "What it does: Crejo.Fun is a digital extracurricular learning platform being built with an intent to help children discover their passions and interests through creative learning.\n",
      "---\n",
      "Company Brand: Bambinos\n",
      "Headquarters: Bangalore\n",
      "Stage: Seed\n",
      "What it does: Cohort based extracurricular course for kids\n",
      "---\n",
      "Company Brand: Kreditbee\n",
      "Headquarters: Bangalore\n",
      "Stage: Series C\n",
      "What it does: KreditBee is a digital lending platform developed to assist young professionals with their personal finances.\n",
      "---\n",
      "Company Brand: Spardha\n",
      "Headquarters: Pune\n",
      "Stage: Pre-series A1\n",
      "What it does: Spardha School Of Music, Spardha Academy, Spardha Online are associated marks with Spardha Learnings Private Limited.\n",
      "---\n",
      "Company Brand: Fable Fintech\n",
      "Headquarters: Mumbai\n",
      "Stage: Series A\n",
      "What it does: Fable Fintech is being seed-funded by the CCAvenue Group, South East Asia’s number 1 eCommerce service provider\n",
      "---\n",
      "Company Brand: Swiflearn\n",
      "Headquarters: Gurugram\n",
      "Stage: Pre-series A\n",
      "What it does: Swiflearn provides online tuition classes to small batches to ensure personalised learning.\n",
      "---\n",
      "Company Brand: Cashfree\n",
      "Headquarters: Bangalore\n",
      "Stage: Seed\n",
      "What it does: Cashfree is a payments and banking technology company that enables businesses in India to collect payments online and make payouts.\n",
      "---\n",
      "Company Brand: Quicksell\n",
      "Headquarters: Mumbai\n",
      "Stage: Pre-series A\n",
      "What it does: B2B Mobile Commerce Platform\n",
      "---\n",
      "Company Brand: Candes\n",
      "Headquarters: New Delhi\n",
      "Stage: Series B\n",
      "What it does: Candes is a home appliances company providing a complete range of home & kitchen electrical appliances at affordable prices.\n",
      "---\n",
      "Company Brand: Capital Float\n",
      "Headquarters: Bangalore\n",
      "Stage: Pre-series A\n",
      "What it does: Capital Float is an online platform that provides working capital finance to SMEs in India.\n",
      "---\n",
      "Company Brand: Refyne\n",
      "Headquarters: Bangalore\n",
      "Stage: Series A\n",
      "What it does: Refyne partners with organisations to extend on-demand Earned Wage Access (EWA) to employees.\n",
      "---\n",
      "Company Brand: Leverage Edu\n",
      "Headquarters: New Delhi\n",
      "Stage: Debt\n",
      "What it does: AI-enabled marketplace designed to help students with their higher education and career growth plans\n",
      "---\n",
      "Company Brand: Chqbook\n",
      "Headquarters: New Delhi\n",
      "Stage: Seed\n",
      "What it does: Chqbook is a fintech startup that allows customers to explore, compare, book and get personal finance products.\n",
      "---\n",
      "Company Brand: Jumbotail\n",
      "Headquarters: Bangalore\n",
      "Stage: Debt\n",
      "What it does: Jumbotail is an operator of an online marketplace that simplifies food and grocery shopping.\n",
      "---\n",
      "Company Brand: Byju'S\n",
      "Headquarters: Bangalore\n",
      "Stage: Pre-series A\n",
      "What it does: BYJU'S is an educational technology company that develops personalized learning programs for K-12 students.\n",
      "---\n",
      "Company Brand: Junio\n",
      "Headquarters: New Delhi\n",
      "Stage: Seed\n",
      "What it does: Junio is a kids-focused digital pocket money-smart card.\n",
      "---\n",
      "Company Brand: Flexmoney\n",
      "Headquarters: Mumbai\n",
      "Stage: Series A\n",
      "What it does: Flexmoney’s mission is to address the enormous digital credit market opportunity created by the disruption from e-commerce, EMI and BNPL checkout finance\n",
      "---\n",
      "Company Brand: Fampay\n",
      "Headquarters: Bangalore\n",
      "Stage: Series A\n",
      "What it does: India's first numberless card and UPI without a bank account\n",
      "---\n",
      "Company Brand: Msmex\n",
      "Headquarters: Andheri\n",
      "Stage: Pre-series A\n",
      "What it does: MSMEx connects micro and small Business Owners with curated Business Experts over live video.\n",
      "---\n",
      "Company Brand: Upside Ai\n",
      "Headquarters: Mumbai\n",
      "Stage: Seed\n",
      "What it does: Upside AI on the thesis that technology will make better investing decisions than humans over the long term.\n",
      "---\n",
      "Company Brand: Skillmatics\n",
      "Headquarters: Mumbai\n",
      "Stage: Series A\n",
      "What it does: Skillmatics develops learning games for pre-school and primary school kids aged under 10\n",
      "---\n",
      "Company Brand: Bueno Finance\n",
      "Headquarters: Gurugram\n",
      "Stage: Seed\n",
      "What it does: Bueno Gig Growth Technologies Pvt Ltd (\"Bueno Finance\") is a financial services platform which aims is to help improve the financial health of customers.\n",
      "---\n",
      "Company Brand: Citymall\n",
      "Headquarters: Gurugram\n",
      "Stage: Series B\n",
      "What it does: CityMall is a social e-commerce platform that sells lifestyle and curated products via peer-to-peer referrals on WhatsApp.\n",
      "---\n",
      "Company Brand: Byju’S\n",
      "Headquarters: Bangalore\n",
      "Stage: Series B\n",
      "What it does: BYJU'S is an educational technology company that develops personalized learning programs for K-12 students.\n",
      "---\n",
      "Company Brand: Digisparsh\n",
      "Headquarters: Mumbai\n",
      "Stage: Seed\n",
      "What it does: DigiSparsh is India's first and only healthcare fintech platform which aims to make healthcare facilities accessible to everyone in the country.\n",
      "---\n",
      "Company Brand: Bimape\n",
      "Headquarters: Mumbai\n",
      "Stage: Pre-seed\n",
      "What it does: BimaPe demystifies Insurance and its Management for individuals and families across India. 'BimaPe Bharosa Karo'\n",
      "---\n",
      "Company Brand: Microdegree\n",
      "Headquarters: Mangalore\n",
      "Stage: Series C\n",
      "What it does: MicroDegree is an ed-tech platform working towards democratising technology and job ready skills for Bharat.\n",
      "---\n",
      "Company Brand: Gomechanic\n",
      "Headquarters: Gurugram\n",
      "Stage: Series C\n",
      "What it does: GoMechanic is India’s leading multi-brand car service company, committed to making the car servicing experience hassle-free & easy for everyone.\n",
      "---\n",
      "Company Brand: Grinntech\n",
      "Headquarters: Chennai\n",
      "Stage: Series C\n",
      "What it does: Grinntech is an investor backed, growth phase start-up, leading on all front of battery design for EV applications.\n",
      "---\n",
      "Company Brand: Classplus\n",
      "Headquarters: Noida\n",
      "Stage: Series C\n",
      "What it does: Classplus was born out of an urge to redefine classroom engagement in this country.\n",
      "---\n",
      "Company Brand: Windo\n",
      "Headquarters: Hyderabad\n",
      "Stage: Seed\n",
      "What it does: Convert Instagram Page Into an Online Store in under 2-minutes. Create a free online store and automate your sales.\n",
      "---\n",
      "Company Brand: Apnaklub\n",
      "Headquarters: Bangalore\n",
      "Stage: Pre-series A\n",
      "What it does: Supporting independent businesses and retail entrepreneurs with better than market wholesale prices and supply chain.\n",
      "---\n",
      "Company Brand: Legalpay\n",
      "Headquarters: New Delhi\n",
      "Stage: Debt\n",
      "What it does: A tech focused B2B litigation finance company in India.\n",
      "---\n",
      "Company Brand: Navars\n",
      "Headquarters: Hyderabad\n",
      "Stage: Debt\n",
      "What it does: Navars Edutech comprises dynamic mix of intellectual professionals, managerial team, Subject matter experts and Astronomy and Space researchers.\n",
      "---\n",
      "Company Brand: Edmingle\n",
      "Headquarters: Bangalore\n",
      "Stage: Debt\n",
      "What it does: Edmingle is a platform for all educators who want to launch their courses and sell them online.\n",
      "---\n",
      "Company Brand: Slice\n",
      "Headquarters: Bangalore\n",
      "Stage: Pre-series A\n",
      "What it does: Slice is India's best credit card challenger to pay bills, manage expenses, and unlock rewards.\n",
      "---\n",
      "Company Brand: Credr\n",
      "Headquarters: Bangalore\n",
      "Stage: Pre-seed\n",
      "What it does: CredR is India’s Most Trusted Used Two-Wheeler Consumer Brand that leverages Technology & Processes to simplify the Used Two-wheeler Market.\n",
      "---\n",
      "Company Brand: Nalanda Learning\n",
      "Headquarters: Kolkata\n",
      "Stage: Pre-seed\n",
      "What it does: India's 1st Online Preschool with Blended Learning Model\n",
      "---\n",
      "Company Brand: Treebo Hotels\n",
      "Headquarters: Bangalore\n",
      "Stage: Series D\n",
      "What it does: Treebo Hotels is India's most loved hotel chain in the premium-budget segment.\n",
      "---\n",
      "Company Brand: Raptee Energy\n",
      "Headquarters: Chennai\n",
      "Stage: Debt\n",
      "What it does: Raptee Energy Inc. is looking to accelerate the transition to smart and sustainable mobility!\n",
      "---\n",
      "Company Brand: Skillovilla\n",
      "Headquarters: Bangalore\n",
      "Stage: Seed\n",
      "What it does: Mission to support young graduates in enhancing their learnings and transform them into big earnings.\n",
      "---\n",
      "Company Brand: Velocity\n",
      "Headquarters: Bangalore\n",
      "Stage: Seed\n",
      "What it does: Velocity provides revenue-based-financing to online businesses. It aims to build the future of banking and financial services for new age businesses in India.\n",
      "---\n",
      "Company Brand: Rupifi\n",
      "Headquarters: Bangalore\n",
      "Stage: Pre-series A\n",
      "What it does: Rupifi operates a software-as-a-service (SaaS) firm focussed on financial products.\n",
      "---\n",
      "Company Brand: Moneyboxx\n",
      "Headquarters: Mumbai\n",
      "Stage: Debt\n",
      "What it does: Moneyboxx Finance provides easy access to financing to the deserving micro enterprises.\n",
      "---\n",
      "Company Brand: Citymall\n",
      "Headquarters: Gurugram\n",
      "Stage: Series A\n",
      "What it does: CityMall is a social e-commerce platform that sells lifestyle and curated products via peer-to-peer referrals on WhatsApp.\n",
      "---\n",
      "Company Brand: Dotpe\n",
      "Headquarters: Gurugram\n",
      "Stage: Series A\n",
      "What it does: DotPe is a technology start-up providing a commerce and payments platform to offline enterprise businesses.\n",
      "---\n",
      "Company Brand: Five Star Finance\n",
      "Headquarters: Chennai\n",
      "Stage: Series B\n",
      "What it does: Five-Star is a Registered Non Banking Finance Company (NBFC) with Reserve Bank of India (RBI).\n",
      "---\n",
      "Company Brand: Byju'S\n",
      "Headquarters: Bangalore\n",
      "Stage: Series F\n",
      "What it does: BYJU'S is an educational technology company that develops personalized learning programs for K-12 students.\n",
      "---\n",
      "Company Brand: Annapurna Finance\n",
      "Headquarters: Bhubaneswar\n",
      "Stage: Series C\n",
      "What it does: Annapurna Microfinance is a microfinance venture that works for the financial and economic upliftment of underserved and unreached women.\n",
      "---\n",
      "Company Brand: Masai School\n",
      "Headquarters: Bangalore\n",
      "Stage: Series A\n",
      "What it does: Masai School is a job-oriented software training services.\n",
      "---\n",
      "Company Brand: Indialends\n",
      "Headquarters: New Delhi\n",
      "Stage: Seed\n",
      "What it does: IndiaLends is a digital lending and borrowing marketplace.\n",
      "---\n",
      "Company Brand: Kreditbee\n",
      "Headquarters: Bangalore\n",
      "Stage: Seed\n",
      "What it does: KreditBee is a digital lending platform developed to assist young professionals with their personal finances.\n",
      "---\n",
      "Company Brand: True Balance\n",
      "Headquarters: Gurugram\n",
      "Stage: Debt\n",
      "What it does: True Balance is a digital wallet that enables users to access utility bill payment and other financial products.\n",
      "---\n",
      "Company Brand: Muvin\n",
      "Headquarters: Bangalore\n",
      "Stage: Seed\n",
      "What it does: Youth Neobank enabling financial solutions for the teenagers and young people\n",
      "---\n",
      "Company Brand: Euler Motors\n",
      "Headquarters: New Delhi\n",
      "Stage: Series A\n",
      "What it does: Electric Light Commercial Vehicle\n",
      "---\n",
      "Company Brand: Svasti Microfinance\n",
      "Headquarters: Mumbai\n",
      "Stage: Series C\n",
      "What it does: Svasti works with urban slum dwellers women microentrepreneurs.\n",
      "---\n",
      "Company Brand: Ankur Capital\n",
      "Headquarters: Mumbai\n",
      "Stage: Seed\n",
      "What it does: Early stage venture capital fund focused on opportunities created by rising aspirations & digital access for next billion Indians.\n",
      "---\n",
      "Company Brand: Indifi\n",
      "Headquarters: Gurugram\n",
      "Stage: Debt\n",
      "What it does: Indifi Technologies is a digital lending platform that offers loans to those that have potential and intent.\n",
      "---\n",
      "Company Brand: Bimaplan\n",
      "Headquarters: Mumbai\n",
      "Stage: Seed\n",
      "What it does: Affordable insurance for the next billion Indians\n",
      "---\n",
      "Company Brand: Yap\n",
      "Headquarters: Chennai\n",
      "Stage: Series B\n",
      "What it does: YAP is the API Platform for Banking and Payments products in Asia. More than 200 Fintechs across Asia rely on YAP\n",
      "---\n",
      "Company Brand: Leap Finance\n",
      "Headquarters: Bangalore\n",
      "Stage: Series B\n",
      "What it does: Leap Finance is a fintech startup for Indian students pursuing international higher education\n",
      "---\n",
      "Company Brand: Blacksoil Nbfc\n",
      "Headquarters: Mumbai\n",
      "Stage: Series B\n",
      "What it does: BlackSoil Capital has transformed into an alternative NBFC and AIF Fund platform with an expertise to finance multiple sectors.\n",
      "---\n",
      "Company Brand: Oyo\n",
      "Headquarters: Gurugram\n",
      "Stage: Seed\n",
      "What it does: OYO operates a branded network of hotels designed to offer standardized stay experiences.\n",
      "---\n",
      "Company Brand: Ezstays\n",
      "Headquarters: New Delhi\n",
      "Stage: Seed\n",
      "What it does: Ezstays is a leading student-life network, providing hostels and PG accommodation with top-tier living facilities at the best prices.\n",
      "---\n",
      "Company Brand: Kinara Capital\n",
      "Headquarters: Bangalore\n",
      "Stage: Pre-series A\n",
      "What it does: Kinara Capital is a financing company that provides flexible collateral-free loans to small business entrepreneurs.\n",
      "---\n",
      "Company Brand: Quizizz\n",
      "Headquarters: Bangalore\n",
      "Stage: Series A\n",
      "What it does: Quizizz is a Education based startup\n",
      "---\n",
      "Company Brand: Ecom Express\n",
      "Headquarters: New Delhi\n",
      "Stage: Pre-series A\n",
      "What it does: Ecom Express is an end-to-end technology-enabled logistics solutions provider to the Indian e-commerce industry.\n",
      "---\n",
      "Company Brand: Northern Arc\n",
      "Headquarters: Chennai\n",
      "Stage: Debt\n",
      "What it does: Northern Arc Capital (Formerly known as IFMR Capital) is a Non-Banking Finance Company.\n",
      "---\n",
      "Company Brand: Ampm\n",
      "Headquarters: Gurugram\n",
      "Stage: Debt\n",
      "What it does: 24*7 convenience store\n",
      "---\n",
      "Company Brand: Cashify\n",
      "Headquarters: Gurugram\n",
      "Stage: Debt\n",
      "What it does: Cashify.in is an e-commerce platform for reselling used electronic gadgets.\n",
      "---\n",
      "Company Brand: Questt\n",
      "Headquarters: Gurugram\n",
      "Stage: Seed\n",
      "What it does: Questt is a homework app that allows teachers to allocate objective and subjective homework based on selected content.\n",
      "---\n",
      "Company Brand: Dealshare\n",
      "Headquarters: Jaipur\n",
      "Stage: Debt\n",
      "What it does: DealShare is a Social Commerce Startup\n",
      "---\n",
      "Company Brand: Euler Motors\n",
      "Headquarters: New Delhi\n",
      "Stage: Series A\n",
      "What it does: Electric Light Commercial Vehicle\n",
      "---\n",
      "Company Brand: Blume Ventures\n",
      "Headquarters: Mumbai\n",
      "Stage: Series B\n",
      "What it does: Blume Ventures provides pre-series A and early stage funding to tech-focused/tech-enabled ventures.\n",
      "---\n",
      "Company Brand: Imaginxp\n",
      "Headquarters: Pune\n",
      "Stage: Series B\n",
      "What it does: ImaginXP is a curriculum company with a focus on training and certification in UX Design and Design Thinking.\n",
      "---\n",
      "Company Brand: Northern Arc\n",
      "Headquarters: Chennai\n",
      "Stage: Debt\n",
      "What it does: Northern Arc Capital (Formerly known as IFMR Capital) is a Non-Banking Finance Company.\n",
      "---\n",
      "Company Brand: Virohan\n",
      "Headquarters: Gurugram\n",
      "Stage: Series A\n",
      "What it does: Virohan is an EdTech company that offers healthcare vocational training to students to build a career in the healthcare industry.\n",
      "---\n",
      "Company Brand: Banksathi\n",
      "Headquarters: New Delhi\n",
      "Stage: Seed\n",
      "What it does: Bank Sathi provides loans, insurance, cards comparison, and approval facility.\n",
      "---\n",
      "Company Brand: Karbon Card\n",
      "Headquarters: Bangalore\n",
      "Stage: Pre-series A\n",
      "What it does: Karbon Card is a financial platform for Indian entrepreneurs.\n",
      "---\n",
      "Company Brand: Tekie\n",
      "Headquarters: Gurugram\n",
      "Stage: Seed\n",
      "What it does: Tekie is a live coding platform for kids that uses the power of storytelling, to make learning to code a movie-like experience.\n",
      "---\n",
      "Company Brand: Asirvad Microfinance\n",
      "Headquarters: Chennai\n",
      "Stage: Series C\n",
      "What it does: Asirvad Microfinance provides microfinance loans to women from a poor and low-income households.\n",
      "---\n",
      "Company Brand: Mentoria\n",
      "Headquarters: Mumbai\n",
      "Stage: Pre-series A\n",
      "What it does: Mentoria is a holistic career discovery platform that enables students to discover themselves and the careers they will enjoy and excel at.\n",
      "---\n",
      "Company Brand: Kodo Card\n",
      "Headquarters: Mumbai\n",
      "Stage: Seed\n",
      "What it does: Kodo card is a corporate card for new economy businesses in India.\n",
      "---\n",
      "Company Brand: Jai Kisan\n",
      "Headquarters: Mumbai\n",
      "Stage: Series A\n",
      "What it does: Jai Kisan is a fintech platform that provides sustainable financing for rural emerging markets\n",
      "---\n",
      "Company Brand: Klassroom\n",
      "Headquarters: Mumbai\n",
      "Stage: Pre-series A\n",
      "What it does: Klassroom offers a one-of-a-kind LIVE interactive learning experience to students.\n",
      "---\n",
      "Company Brand: Pickright Technologies\n",
      "Headquarters: Bangalore\n",
      "Stage: Pre-seed\n",
      "What it does: Pickright is a fintech marketplace platform for stock market investors and the stock market advisors.\n",
      "---\n",
      "Company Brand: Bharatpe\n",
      "Headquarters: New Delhi\n",
      "Stage: Debt\n",
      "What it does: BharatPe is the definitive platform for financial services. We process payments via UPI and POS, and provide credit / loans to our merchants\n",
      "---\n",
      "Company Brand: We Founder Circle\n",
      "Headquarters: Mumbai\n",
      "Stage: Pre-seed\n",
      "What it does: A global platform of founders for founders offering investment, network and business opportunities.\n",
      "---\n",
      "Company Brand: 6Degree\n",
      "Headquarters: Mumbai\n",
      "Stage: Pre-series A\n",
      "What it does: 6Degree is a fashion retail startup that provides a launchpad to fashion talent and brands using a tech-enabled platform.\n",
      "---\n",
      "Company Brand: Teachmint\n",
      "Headquarters: Bangalore\n",
      "Stage: Series A\n",
      "What it does: Teachmint is an online learning platform that focuses on tutor-student connectivity.\n",
      "---\n",
      "Company Brand: Byju'S\n",
      "Headquarters: Bangalore\n",
      "Stage: Series A\n",
      "What it does: BYJU'S is an educational technology company that develops personalized learning programs for K-12 students.\n",
      "---\n",
      "Company Brand: Elasticrun\n",
      "Headquarters: Pune\n",
      "Stage: Series D\n",
      "What it does: ElasticRun develops an online system that improves the reception of orders from customers and the dispatch of delivery drivers.\n",
      "---\n",
      "Company Brand: Avail Finance\n",
      "Headquarters: Bangalore\n",
      "Stage: Debt\n",
      "What it does: Avail is a mobile-first platform aiming to financially include the urban mass of India.\n",
      "---\n",
      "Company Brand: Nivesh\n",
      "Headquarters: Noida\n",
      "Stage: Pre-series A\n",
      "What it does: Nivesh.com is a mass market mutual funds investment platform.\n",
      "---\n",
      "Company Brand: Arthya Wealth And Investments\n",
      "Headquarters: Mumbai\n",
      "Stage: Pre-series A\n",
      "What it does: A comprehensive, high quality, open-architecture based Wealth Management and Investment Advisory platform, to cater to investors across the board: Individuals, Businesses/Corporate Treasuries, Family Offices, Trusts and more.\n",
      "---\n",
      "Company Brand: Zepto\n",
      "Headquarters: Mumbai\n",
      "Stage: Series C\n",
      "What it does: Grocery delivery startup\n",
      "---\n",
      "Company Brand: Fi\n",
      "Headquarters: Bangalore\n",
      "Stage: Series B\n",
      "What it does: Fi is a neo bank.\n",
      "---\n",
      "Company Brand: The Hosteller\n",
      "Headquarters: Mumbai\n",
      "Stage: Pre-series A\n",
      "What it does: Pit-stop for global as well as local travellers to relax, rejuvenate and experience India’s rich heritage while not worrying about a clean, safe and smart place to stay.\n",
      "---\n",
      "Company Brand: Ruptok Fintech\n",
      "Headquarters: New Delhi\n",
      "Stage: Pre-series A\n",
      "What it does: Ruptok fintech Pvt. Ltd. is an online gold loan service provider , with attractive interests rate .\n",
      "---\n",
      "Company Brand: Vilcart\n",
      "Headquarters: Bangalore\n",
      "Stage: Seed\n",
      "What it does: Vilcart's motto is sustainable rural development through stability for rural retailers.\n",
      "---\n",
      "Company Brand: Trdr\n",
      "Headquarters: Bangalore\n",
      "Stage: Pre-seed\n",
      "What it does: TRDR is an all-new approach to investing.\n",
      "---\n",
      "Company Brand: Xpand\n",
      "Headquarters: New Delhi\n",
      "Stage: Pre-series A\n",
      "What it does: LMCE handholds brands and enables their reach across the UNSERVED & UNDER-SERVED pockets of the country in a SUSTAINABLE manner to drive MEASURABLE growth.\n",
      "---\n",
      "Company Brand: Troo Good\n",
      "Headquarters: Hyderabad\n",
      "Stage: Series A\n",
      "What it does: An FMCG company selling nutritious products at an affordable price points.\n",
      "---\n",
      "Company Brand: Unnati\n",
      "Headquarters: Noida\n",
      "Stage: Series A\n",
      "What it does: Fintech powered digital agri ecosystem\n",
      "---\n",
      "Company Brand: Vayana Network\n",
      "Headquarters: Pune\n",
      "Stage: Series C\n",
      "What it does: Vayana Network is an electronic network that connects Corporates and their Supply Chain to Financial Institutions for easy, quick and low-cost access to Trade Financing of their Payables and Receivables.\n",
      "---\n",
      "Company Brand: Velocity\n",
      "Headquarters: Bangalore\n",
      "Stage: Series A\n",
      "What it does: Velocity provides revenue based financing, up to Rs 3 crores, for marketing and inventory spends of online businesses.\n",
      "---\n",
      "Company Brand: Salarybox\n",
      "Headquarters: Gurugram\n",
      "Stage: Seed\n",
      "What it does: SalaryBox is solution that makes employee management effortless.\n",
      "---\n",
      "Company Brand: Tickertape\n",
      "Headquarters: Bangalore\n",
      "Stage: Series C\n",
      "What it does: Tickertape provides data, information & content for Indian stocks, ETFs & indices\n",
      "---\n",
      "Company Brand: Zenpay Solutions\n",
      "Headquarters: New Delhi\n",
      "Stage: Seed\n",
      "What it does: India’s fastest growing fintech company, which has revolutionized the ultimate banking experience especially by reaching out to thousands of blue-collared employees by promoting digital banking solutions across India.\n",
      "---\n",
      "Company Brand: Defy\n",
      "Headquarters: Bangalore\n",
      "Stage: Debt\n",
      "What it does: Building India's first social crypto exchange\n",
      "---\n",
      "Company Brand: True Balance\n",
      "Headquarters: Gurugram\n",
      "Stage: Pre-seed\n",
      "What it does: Balancehero India Private Limited (BHI), the wholly owned subsidiary of Balancehero Co. Ltd., Korea which runs and operates mobile App “True Balance”.\n",
      "---\n",
      "Company Brand: Recordent\n",
      "Headquarters: Hyderabad\n",
      "Stage: Series A\n",
      "What it does: Helping MSMEs collect customer dues faster & reduce risk by checking credit & payment history before offering credit\n",
      "---\n",
      "Company Brand: Indifi\n",
      "Headquarters: Gurugram\n",
      "Stage: Series A\n",
      "What it does: Indifi believes in helping small businesses grow by offering loans to those that have potential and intent.\n",
      "---\n",
      "Company Brand: Simple Energy\n",
      "Headquarters: Bangalore\n",
      "Stage: Pre-series\n",
      "What it does: A Research and development driven company on a mission to build the future of mobility that is electric and connected.\n",
      "---\n",
      "Company Brand: Spinny\n",
      "Headquarters: Gurugram\n",
      "Stage: Series E\n",
      "What it does: Spinny is a new age used car end-to-end platform in India.\n",
      "---\n",
      "Company Brand: Slice\n",
      "Headquarters: Bangalore\n",
      "Stage: Series B\n",
      "What it does: Slice is India's best credit card challenger to pay bills, manage expenses, and unlock rewards\n",
      "---\n",
      "Company Brand: Rupifi\n",
      "Headquarters: Bangalore\n",
      "Stage: Debt\n",
      "What it does: Embedded Lending for Small Businesses\n",
      "---\n",
      "Company Brand: Progcap\n",
      "Headquarters: New Delhi\n",
      "Stage: Series C\n",
      "What it does: Progcap (Desiderata Impact Ventures Private Limited) is a mission-driven, inclusive financing technology firm\n",
      "---\n",
      "Company Brand: Ans Commerce\n",
      "Headquarters: Gurugram\n",
      "Stage: Pre-series A\n",
      "What it does: ANS Commerce is India’s #1 full-stack e-commerce enabler helping brands sell online.\n",
      "---\n",
      "Company Brand: Byju'S\n",
      "Headquarters: Bangalore\n",
      "Stage: Debt\n",
      "What it does: BYJU’S is India's largest ed-tech company and the creator of India’s most loved school learning app.\n",
      "---\n",
      "Company Brand: Sunstone Eduversity\n",
      "Headquarters: Gurugram\n",
      "Stage: Series B\n",
      "What it does: Sunstone Eduversity is a one-of-its-kind business school operating in an asset-light model since 2011.\n",
      "---\n",
      "Company Brand: Kwh Bikes\n",
      "Headquarters: Bangalore\n",
      "Stage: Seed\n",
      "What it does: Building India’s strongest and smartest electric 2 wheelers\n",
      "---\n",
      "Company Brand: Ola Electric\n",
      "Headquarters: Bangalore\n",
      "Stage: Series B\n",
      "What it does: Sustainability for the future.\n",
      "---\n",
      "Company Brand: F5\n",
      "Headquarters: New Delhi\n",
      "Stage: Pre-series A\n",
      "What it does: One-Stop Solution for Daily Workplace Needs\n",
      "---\n",
      "Company Brand: Salt\n",
      "Headquarters: Bangalore\n",
      "Stage: Pre-seed\n",
      "What it does: Salt is a neo-banking experience created to cater to international businesses.\n",
      "---\n",
      "Company Brand: Earnwealth\n",
      "Headquarters: Pune\n",
      "Stage: Pre-series A\n",
      "What it does: EarnWealth is India's First Social Commerce FinTech which enables Financial Consultants, Mutual Fund Distributors, Insurance Agents, Real Estate Consultants, Housewives, Retired People and Students to earn quick money by selling Loans, Credit Cards\n",
      "---\n",
      "Company Brand: M2P Fintech\n",
      "Headquarters: Chennai\n",
      "Stage: Series C\n",
      "What it does: M2P fintech was born out of the need to build highly scalable, secure yet nimble technology stack at the intersection of Mobility, Commerce and payments.\n",
      "---\n",
      "Company Brand: Open Financial Technologies\n",
      "Headquarters: Bangalore\n",
      "Stage: Series C\n",
      "What it does: Open is Asia’s first neobanking platform for SMEs and startups.\n",
      "---\n",
      "Company Brand: Niro\n",
      "Headquarters: Bangalore\n",
      "Stage: Seed\n",
      "What it does: Embedding personal credit products into leading consumer internet platforms.\n",
      "---\n",
      "Company Brand: Cardekho\n",
      "Headquarters: Jaipur\n",
      "Stage: Series E\n",
      "What it does: Redefining the country’s personal mobility ecosystem with technologically enhanced solutions.\n",
      "---\n",
      "Company Brand: Aviom India\n",
      "Headquarters: Bhilwara\n",
      "Stage: Series C\n",
      "What it does: AVIOM India Housing Finance Pvt. Ltd. is a venture started by experienced professionals with a vision to improve the standard of living of families from the informal sector in rural areas\n",
      "---\n",
      "Company Brand: Credable\n",
      "Headquarters: Mumbai\n",
      "Stage: Series B\n",
      "What it does: CredAble provides liquidity programs for enterprise supply chains.\n",
      "---\n",
      "Company Brand: Marketwolf\n",
      "Headquarters: Mumbai\n",
      "Stage: Seed\n",
      "What it does: MarketWolf provides everyone an opportunity to begin their trading journey with a unique digital platform that is bold, simple and fun.\n",
      "---\n",
      "Company Brand: Sun Mobility\n",
      "Headquarters: Bangalore\n",
      "Stage: Pre-seed\n",
      "What it does: Provider of universal energy infrastructure and services to accelerate mass EV usage!\n",
      "---\n",
      "Company Brand: Revfin\n",
      "Headquarters: New Delhi\n",
      "Stage: Pre-series A\n",
      "What it does: RevFin is a financial technology (FinTech) company, advanced digital lending platform makes getting a loan convenient and accessible for customers\n",
      "---\n",
      "Company Brand: Questt\n",
      "Headquarters: Gurugram\n",
      "Stage: Series A\n",
      "What it does: Questt is a Free online homework app that lets teachers assign gamified homework to students.\n",
      "---\n",
      "Company Brand: Cleardekho\n",
      "Headquarters: Ghaziabad\n",
      "Stage: Pre-series A\n",
      "What it does: ClearDekho is India’s Leading Affordable Eyewear Brand.\n",
      "---\n",
      "Company Brand: Bookingjini\n",
      "Headquarters: Gurugram\n",
      "Stage: Pre-series A\n",
      "What it does: BookingJini strive to empower Hotels from all aspects ranging from customer outreach to automate their booking process and improve their online presence and revenue to stimulate Top-line and Bottom-line growth.\n",
      "---\n",
      "Company Brand: Bharatpe\n",
      "Headquarters: New Delhi\n",
      "Stage: Seed\n",
      "What it does: BharatPe launched India’s first UPI interoperable QR code, first ZERO MDR payment acceptance service, and first UPI payment backed merchant cash advance service.\n",
      "---\n",
      "Company Brand: Basic Home Loan\n",
      "Headquarters: Gurugram\n",
      "Stage: Series A\n",
      "What it does: BASIC Home Loan is India's first automated platform for secured lending with special focus on the affordable housing segment.\n",
      "---\n",
      "Company Brand: Siply\n",
      "Headquarters: Bangalore\n",
      "Stage: Pre-series A\n",
      "What it does: A tech-enabled micro-savings platform, for the underserved masses, that makes it possible to save starting at Re. 1\n",
      "---\n",
      "Company Brand: Banksathi\n",
      "Headquarters: New Delhi\n",
      "Stage: Series A\n",
      "What it does: BankSathi is a Fintech platform to empower consumers to save money and time on financial products through safe, easy, and trustable shopping experience.\n",
      "---\n",
      "Company Brand: Shumee\n",
      "Headquarters: Bangalore\n",
      "Stage: Seed\n",
      "What it does: An Indian, mom-made toy brand passionate about making playtime development-friendly, child-safe, and sustainable. Our design philosophy is that play is 90% child and 10% toy.\n",
      "---\n",
      "Company Brand: Zolve\n",
      "Headquarters: Bangalore\n",
      "Stage: Series A\n",
      "What it does: World's first cross-border Neobank\n",
      "---\n",
      "Company Brand: Lovelocal\n",
      "Headquarters: Mumbai\n",
      "Stage: Pre-series B\n",
      "What it does: LoveLocal (formerly known as m.Paani) is bringing Trusted Local Shops Online and empowering them to deliver the neighbourhood shopping experience of the future.\n",
      "---\n",
      "Company Brand: Avanti Finance\n",
      "Headquarters: Bangalore\n",
      "Stage: Series A2\n",
      "What it does: A digital platform to make financial services accessible to 100 million unserved and underserved households across India\n",
      "---\n",
      "Company Brand: Purplle\n",
      "Headquarters: Mumbai\n",
      "Stage: Debt\n",
      "What it does: Purplle.com is one of India’s largest e-beauty destinations with more than 7 million monthly active users.\n",
      "---\n",
      "Company Brand: Credavenue\n",
      "Headquarters: Chennai\n",
      "Stage: Series A\n",
      "What it does: CredAvenue is an organization on a mission to deepen and power the $120Trillion global enterprise debt market which would unlock a GDP multiplier and thus create massive economic value.\n",
      "---\n",
      "Company Brand: Pumpumpum\n",
      "Headquarters: Gurugram\n",
      "Stage: Series B\n",
      "What it does: Pumpumpum is empowering millennials with a smart car subscription model. We provide monthly subscription of pre-owned cars at affordable rates.\n",
      "---\n",
      "Company Brand: Strip Finance\n",
      "Headquarters: Hyderabad\n",
      "Stage: Seed\n",
      "What it does: Collateralised NFT & DeFi Liquidity Protocol With Interest Rate Discovery.\n",
      "---\n",
      "Company Brand: Ola Electric\n",
      "Headquarters: Bangalore\n",
      "Stage: Series C\n",
      "What it does: Charging ahead to accelerate the world’s transition to sustainable mobility.\n",
      "---\n",
      "Company Brand: Chqbook\n",
      "Headquarters: Gurugram\n",
      "Stage: Pre-series B\n",
      "What it does: Chqbook.com is India’s first neobank for small business owners offering world-class financial services through its five pillars of banking, khata, lending, insurance, and rewards.\n",
      "---\n",
      "Company Brand: Rulezero\n",
      "Headquarters: Bangalore\n",
      "Stage: Seed\n",
      "What it does: Rulezero is a legal/fintech startup reimagining private markets by building an intelligent platform that enables stakeholder participation and capital flow in a transparent, efficient and compliant manner.\n",
      "---\n",
      "Company Brand: Credright\n",
      "Headquarters: Hyderabad\n",
      "Stage: Seed\n",
      "What it does: CredRight is a new age digital lending company 100% focused on Micro & Small businesses, making the process of availing loans simple\n",
      "---\n",
      "Company Brand: Karbon Card\n",
      "Headquarters: Bangalore\n",
      "Stage: Pre-series A\n",
      "What it does: Empower Indian startups by creating the right financial products starting with a high-limit corporate credit card with unlimited benefits, no personal liability and no fixed deposit.\n",
      "---\n",
      "Company Brand: Epaylater\n",
      "Headquarters: Mumbai\n",
      "Stage: Series B\n",
      "What it does: ePaylater is a payment solution that aims to separate the experience of shopping from the hassles of payment process.\n",
      "---\n",
      "Company Brand: Akudo\n",
      "Headquarters: Bangalore\n",
      "Stage: Seed\n",
      "What it does: A Learning-First Neobank for teenagers - Enable practical financial education for child today\n",
      "---\n",
      "Company Brand: Capital Float\n",
      "Headquarters: Bangalore\n",
      "Stage: Series C\n",
      "What it does: India's leading BNPL and digital credit platform serving millions of aspirational individuals.\n",
      "---\n",
      "Company Brand: Cashbook\n",
      "Headquarters: Gurugram\n",
      "Stage: Seed\n",
      "What it does: CashBook is a digital record-keeping app using which businesses can add entries, segregate records, and find overall balance instantly.\n",
      "---\n",
      "Company Brand: The Money Club\n",
      "Headquarters: Noida\n",
      "Stage: Pre-series A\n",
      "What it does: The Money Club is a mobile platform for peer to peer chit funds.\n",
      "---\n",
      "Company Brand: Superzop\n",
      "Headquarters: Mumbai\n",
      "Stage: Series A\n",
      "What it does: SuperZop is India's first and only vernacular B2B Grocery e-commerce platform that is transforming the unorganized retail sector.\n",
      "---\n",
      "Company Brand: Vro Hospitality\n",
      "Headquarters: Bangalore\n",
      "Stage: Series A\n",
      "What it does: One of the fastest-growing hospitality companies based out of Bangalore.\n",
      "---\n",
      "Company Brand: Cars24\n",
      "Headquarters: Gurugram\n",
      "Stage: Series F\n",
      "What it does: CARS24 is proud to be a tech-first organisation, looking to make inroads into the global auto-tech market in groundbreaking ways.\n",
      "---\n",
      "Company Brand: Klub\n",
      "Headquarters: Bangalore\n",
      "Stage: Debt\n",
      "What it does: A team of fintech, investment banking, venture capital, and technology veterans who bring a founder-first mindset.\n",
      "---\n",
      "Company Brand: Paycardo\n",
      "Headquarters: Pune\n",
      "Stage: Pre-seed\n",
      "What it does: A true Contactless & Cashless and secure payment system reducing cash dependency\n",
      "---\n",
      "Company Brand: Zestmoney\n",
      "Headquarters: Bangalore\n",
      "Stage: Series C\n",
      "What it does: ZestMoney helps make it accessible for millions to upgrade, to enhance, to rise, while keeping it affordable.\n",
      "---\n",
      "Company Brand: Happycredit\n",
      "Headquarters: Bangalore\n",
      "Stage: Pre-seed\n",
      "What it does: HappyCredit is on a mission to make online shopping delightful for 400mn bharat shoppers with credit, rewards, shopping inspiration and more.\n",
      "---\n",
      "Company Brand: Beepkart\n",
      "Headquarters: Bangalore\n",
      "Stage: Seed\n",
      "What it does: BeepKart is building a platform to digitize and organize the used two-wheeler market.\n",
      "---\n",
      "Company Brand: Livquik Technology\n",
      "Headquarters: Mumbai\n",
      "Stage: Series C\n",
      "What it does: LivQuik’s vision is to enable the efficient movement of money.\n",
      "---\n",
      "Company Brand: Eventbeep\n",
      "Headquarters: Pune\n",
      "Stage: Series A\n",
      "What it does: An inclusive community where students are inspired and empowered to reach their full potential\n",
      "---\n",
      "Company Brand: Gobbly\n",
      "Headquarters: Gurugram\n",
      "Stage: Pre-series A\n",
      "What it does: A 24x7 automated retail store filled with daily essentials.\n",
      "---\n",
      "Company Brand: Easiloan\n",
      "Headquarters: Mumbai\n",
      "Stage: Pre-seed\n",
      "What it does: A Fintech startup, offering fast & easy digital processing of Home Loans in a completely reimagined and delightful way.\n",
      "---\n",
      "Company Brand: Tinkerly\n",
      "Headquarters: Jaipur\n",
      "Stage: Debt\n",
      "What it does: A STEM learning online-offline solutions provider that makes STEM learning & Coding fun and interesting with superior pedagogy, blended learning, and play-based curriculum.\n",
      "---\n",
      "Company Brand: Paytail\n",
      "Headquarters: New Delhi\n",
      "Stage: Seed\n",
      "What it does: Paytail is revolutionizing the offline commerce by enabling instant paperless EMI's to consumers\n",
      "---\n",
      "Company Brand: 4Fin\n",
      "Headquarters: Pune\n",
      "Stage: Pre-seed\n",
      "What it does: 4Fin is a Fintech Platform catering to needs of Smart Bharat.\n",
      "---\n",
      "Company Brand: Genext Students\n",
      "Headquarters: Mumbai\n",
      "Stage: Pre-seed\n",
      "What it does: LIVE online classes with expert tutors for K-12 for CBSE, ICSE and State Boards.\n",
      "---\n",
      "Company Brand: Ockypocky\n",
      "Headquarters: Gurugram\n",
      "Stage: Seed\n",
      "What it does: OckyPocky is India's 1st interactive English learning app for preschool kids.\n",
      "---\n",
      "Company Brand: Jar\n",
      "Headquarters: Bangalore\n",
      "Stage: Pre-series A\n",
      "What it does: A daily gold-savings app that saves spare change & auto-invests.\n",
      "---\n",
      "Company Brand: Moneyhop\n",
      "Headquarters: London\n",
      "Stage: Seed\n",
      "What it does: moneyHOP is India’s first cross-border neo bank.\n",
      "---\n",
      "Company Brand: Codingal\n",
      "Headquarters: Bangalore\n",
      "Stage: Seed\n",
      "What it does: Codingal is on a mission to inspire school kids to fall in love with coding. Backed by Y Combinator!\n",
      "---\n",
      "Company Brand: Revos\n",
      "Headquarters: Bangalore\n",
      "Stage: Series A\n",
      "What it does: REVOS is a smart mobility platform that empowers all 2 and 3 wheeler vehicles through AI-integrated IoT  solutions\n",
      "---\n",
      "Company Brand: Habbit\n",
      "Headquarters: Bangalore\n",
      "Stage: Pre-seed\n",
      "What it does: Habbit is online learning community for anyone looking to get mentored in a skill or hobby of their choice.\n",
      "---\n",
      "Company Brand: Bikayi\n",
      "Headquarters: Hyderabad\n",
      "Stage: Series A\n",
      "What it does: Empowering SMBs in India\n",
      "---\n",
      "Company Brand: Dukaan\n",
      "Headquarters: Bangalore\n",
      "Stage: Series A\n",
      "What it does: Help forward thinking entrepreneurs by providing them the platform to start, grow, and manage their business online.\n",
      "---\n",
      "Company Brand: Vidyakul\n",
      "Headquarters: Gurugram\n",
      "Stage: Bridge\n",
      "What it does: Vidyakul is a group of academic experts.\n",
      "---\n",
      "Company Brand: Neokred\n",
      "Headquarters: Bangalore\n",
      "Stage: Seed\n",
      "What it does: Democratizing Open Banking\n",
      "---\n",
      "Company Brand: Leap Finance\n",
      "Headquarters: Bangalore\n",
      "Stage: Series C\n",
      "What it does: International education loans for high potential students.\n",
      "---\n",
      "Company Brand: Collegedekho\n",
      "Headquarters: Gurugram\n",
      "Stage: Series B\n",
      "What it does: Collegedekho.com is Student’s Partner, Friend & Confidante, To Help Him Take a Decision and Move On to His Career Goals.\n",
      "---\n",
      "Company Brand: Werize\n",
      "Headquarters: Bangalore\n",
      "Stage: Series A\n",
      "What it does: India’s first socially distributed full stack financial services platform for small town India\n",
      "---\n",
      "Company Brand: Ruangguru\n",
      "Headquarters: Mumbai\n",
      "Stage: Series C\n",
      "What it does: A learning platform that provides topic-based journey, animated videos, quizzes, infographic and mock tests to students\n",
      "---\n",
      "Company Brand: Eduisfun\n",
      "Headquarters: Mumbai\n",
      "Stage: Fresh funding\n",
      "What it does: It aims to make learning fun via games.\n",
      "---\n",
      "Company Brand: Lenskart\n",
      "Headquarters: Delhi\n",
      "Stage: Series G\n",
      "What it does: It is a eyewear company\n",
      "---\n",
      "Company Brand: Kaleidofin\n",
      "Headquarters: Chennai\n",
      "Stage: Series A\n",
      "What it does: Platform that provides complete financial solutions for excluded individuals and households\n",
      "---\n",
      "Company Brand: Livfin\n",
      "Headquarters: Delhi\n",
      "Stage: Pre-series A\n",
      "What it does: Grants small business loans, supply chain finance and working capital loans to small and medium enterprises\n",
      "---\n",
      "Company Brand: Byju'S\n",
      "Headquarters: Pune\n",
      "Stage: Seed fund \n",
      "What it does: Provides online learning classes\n",
      "---\n",
      "Company Brand: Zest Money\n",
      "Headquarters: Bangalore\n",
      "Stage: Series B\n",
      "What it does: Uses AI to do risk profiling of e-commerce consumers who opt for EMI\n",
      "---\n",
      "Company Brand: Witblox\n",
      "Headquarters: Noida\n",
      "Stage: Series D\n",
      "What it does: Offers a range of robotics learning tools\n",
      "---\n",
      "Company Brand: Salaryfits\n",
      "Headquarters: Noida\n",
      "Stage: Series G \n",
      "What it does: A platform that promotes financial well-being of employees at workplace\n",
      "---\n",
      "Company Brand: Springboard\n",
      "Headquarters: Haryana\n",
      "Stage: Post series A\n",
      "What it does: Offers online courses and extensive mentor-based learning\n",
      "---\n",
      "Company Brand: Bombay Shirt Company\n",
      "Headquarters: Mumbai\n",
      "Stage: Series G \n",
      "What it does: Online custom shirt brand\n",
      "---\n",
      "Company Brand: Afinoz\n",
      "Headquarters: Noida\n",
      "Stage: Post series A\n",
      "What it does: Online financial marketplace for customized rate quotes on loans and investment products in India\n",
      "---\n",
      "Company Brand: M.Paani\n",
      "Headquarters: Mumbai\n",
      "Stage: Series A\n",
      "What it does: It digitizes and organises local retailers\n",
      "---\n",
      "Company Brand: Moms Co\n",
      "Headquarters: New Delhi\n",
      "Stage: Series B\n",
      "What it does: It is into mother and baby care-focused consumer goods\n",
      "---\n",
      "Company Brand: Cuemath\n",
      "Headquarters: Bangalore\n",
      "Stage: Series G \n",
      "What it does: It helps students to learn math online\n",
      "---\n",
      "Company Brand: Smart Institute\n",
      "Headquarters: Surat\n",
      "Stage: Fresh funding\n",
      "What it does: A platform to learn online\n",
      "---\n",
      "Company Brand: Oyo\n",
      "Headquarters: Gurugram\n",
      "Stage: Series G \n",
      "What it does: Provides rooms for comfortable stay\n",
      "---\n",
      "Company Brand: Payme India\n",
      "Headquarters: Noida, Uttar Pradesh, India\n",
      "Stage: Angel\n",
      "What it does: PayMe India is an innovative FinTech organization which offers short term financial suport to corporate employees.\n",
      "---\n",
      "Company Brand: Freshboxx\n",
      "Headquarters: Hubli, Karnataka, India\n",
      "Stage: Seed\n",
      "What it does: Freshboxx is incubated at Sandbox Startups, a unit of the Deshpande Foundation.\n",
      "---\n",
      "Company Brand: Pitstop\n",
      "Headquarters: Bengaluru, Karnataka, India\n",
      "Stage: Seed\n",
      "What it does: Pitstop offers general repair and maintenance services for cars through its doorstep service vehicles.\n",
      "---\n",
      "Company Brand: Paisadukan\n",
      "Headquarters: Mumbai, Maharashtra, India\n",
      "Stage: Seed\n",
      "What it does: A P2P lending marketplace platform\n",
      "---\n",
      "Company Brand: Mintifi\n",
      "Headquarters: Mumbai, Maharashtra, India\n",
      "Stage: Seed\n",
      "What it does: Online lending startup based in Mumbai.\n",
      "---\n",
      "Company Brand: Carcrew\n",
      "Headquarters: Mumbai, Maharashtra, India\n",
      "Stage: Seed\n",
      "What it does: India's Online Auto Repair Marketplace\n",
      "---\n",
      "Company Brand: Loanzen\n",
      "Headquarters: Bangalore, Karnataka, India\n",
      "Stage: Seed\n",
      "What it does: Loanzen helps small businesses get unsecured working capital loans against their their pending invoices.\n",
      "---\n",
      "Company Brand: Pipa+Bella\n",
      "Headquarters: Mumbai, Maharashtra, India\n",
      "Stage: Series A\n",
      "What it does: Pipa+Bella is an online store aimed at selling fashionable and affordable costume jewelry at par with international standards and trends\n",
      "---\n",
      "Company Brand: Kaleidofin\n",
      "Headquarters: Chennai, Tamil Nadu, India\n",
      "Stage: Seed\n",
      "What it does: A fintech platform.\n",
      "---\n",
      "Company Brand: Coutloot\n",
      "Headquarters: Mumbai, Maharashtra, India\n",
      "Stage: Seed\n",
      "What it does: The Fashion Re-commerce platform.\n",
      "---\n",
      "Company Brand: Finzy\n",
      "Headquarters: Bangalore, Karnataka, India\n",
      "Stage: Seed\n",
      "What it does: finzy is the premier peer to peer lending solution in India.\n",
      "---\n",
      "Company Brand: Tolet For Students\n",
      "Headquarters: Jodhpur, Rajasthan, India\n",
      "Stage: Seed\n",
      "What it does: Reserve your Room, Hostel or Paying Guest, while relocating for higher education.\n",
      "---\n",
      "Company Brand: Notesgen\n",
      "Headquarters: New Delhi, Delhi, India\n",
      "Stage: Seed\n",
      "What it does: A Global Peer-to-Peer and Peer-to-Group Learning Platform that helps students supplement their academic & competitive exam prep.\n",
      "---\n",
      "Company Brand: Propshop24\n",
      "Headquarters: Mumbai, Maharashtra, India\n",
      "Stage: Seed\n",
      "What it does: Propshop24, a one-stop shop for a handpicked selection of 'fun'tastic products from around the world.\n",
      "---\n",
      "Company Brand: Ultraviolette Automotive\n",
      "Headquarters: Bangalore, Karnataka, India\n",
      "Stage: Series A\n",
      "What it does: Ultraviolette is a startup working on electric two-wheelers and energy infrastructure.\n",
      "---\n",
      "Company Brand: Faballey\n",
      "Headquarters: Noida, Uttar Pradesh, India\n",
      "Stage: Series B\n",
      "What it does: FabAlley is the ultimate Indian fashion destination for fashion-forward, indie-chic girls. Founded in 2012, Tanvi Malik and Shivani Poddar\n",
      "---\n",
      "Company Brand: Studds Accessories\n",
      "Headquarters: Faridabad, Haryana, India\n",
      "Stage: Private Equity\n",
      "What it does: Studds Accessories is a scooter accessories service provider in India\n",
      "---\n",
      "Company Brand: Nopaperforms Solutions Pvt. Ltd.\n",
      "Headquarters: New Delhi, Delhi, India\n",
      "Stage: Series B\n",
      "What it does: NoPaperForms is a marketing automation, lead nurture and enrolment management platform for educational institutions\n",
      "---\n",
      "Company Brand: Swiggy\n",
      "Headquarters: Bangalore, Karnataka, India\n",
      "Stage: Series H\n",
      "What it does: Swiggy is a food ordering and delivery company that provides food service solutions for restaurants.\n",
      "---\n",
      "Company Brand: Milkbasket\n",
      "Headquarters: Haryana, Haryana, India\n",
      "Stage: Series A\n",
      "What it does: Milkbasket delivers milk, bread, eggs, butter, juices and other daily need items, every morning, right at your doorstep, free of charge.\n",
      "---\n",
      "Company Brand: Toppr\n",
      "Headquarters: Mumbai, Maharashtra, India\n",
      "Stage: Series C\n",
      "What it does: Toppr.com is an online preparation platform for entrance exams in India.\n",
      "---\n",
      "Company Brand: Vivriti Capital\n",
      "Headquarters: Chennai, Tamil Nadu, India\n",
      "Stage: Venture - Series Unknown\n",
      "What it does: Vivriti Capital is an online platform for institutional debt in India.\n",
      "---\n",
      "Company Brand: Datatrained\n",
      "Headquarters: Bangalore, Karnataka, India\n",
      "Stage: Seed\n",
      "What it does: DataTrained is a educational platform, which operates an ed-tech startup on data science\n",
      "---\n",
      "Company Brand: Oneassist\n",
      "Headquarters: Mumbai, Maharashtra, India\n",
      "Stage: Debt Financing\n",
      "What it does: OneAssist is a protection & assistance services platform.\n",
      "---\n",
      "Company Brand: Sedemac Mechatronics\n",
      "Headquarters: Mumbai, Maharashtra, India\n",
      "Stage: Venture - Series Unknown\n",
      "What it does: SEDEMAC Mechatronics is technology company that distributes control-intensive products for automobiles.\n",
      "---\n",
      "Company Brand: Foodbuddy\n",
      "Headquarters: Belgaum, Karnataka, India\n",
      "Stage: Seed\n",
      "What it does: FoodBuddy is a online food delivery portal, providing boundary breaking delivery.\n",
      "---\n",
      "Company Brand: Byju’S\n",
      "Headquarters: Bangalore, Karnataka, India\n",
      "Stage: Private Equity\n",
      "What it does: BYJU’s is an edtech company that is reinventing how students learn through its learning app.\n",
      "---\n",
      "Company Brand: Oto Capital\n",
      "Headquarters: Mumbai, Maharashtra, India\n",
      "Stage: Seed\n",
      "What it does: OTO Capital is a platform that allows you to own a car faster than ever.\n",
      "---\n",
      "Company Brand: Boodmo\n",
      "Headquarters: Gurgaon, Haryana, India\n",
      "Stage: Seed\n",
      "What it does: boodmo.com - large online marketplace for auto parts in India.\n",
      "---\n",
      "Company Brand: Mynewcar.In\n",
      "Headquarters: Gurgaon, Haryana, India\n",
      "Stage: Venture - Series Unknown\n",
      "What it does: MyNewCar.in offers new cars at best price with great deals. Book a new car online or request a doorstep test drive\n",
      "---\n",
      "Company Brand: Oyo\n",
      "Headquarters: Gurgaon, Haryana, India\n",
      "Stage: Series E\n",
      "What it does: OYO is an Indian hospitality startup that operates a network of budget hotels.\n",
      "---\n",
      "Company Brand: Shopkirana\n",
      "Headquarters: Indore, Madhya Pradesh, India\n",
      "Stage: Venture - Series Unknown\n",
      "What it does: Shopkirana connects brands and traditional retailers with the help of technology and supply chain innovation.\n",
      "---\n",
      "Company Brand: Gegadyne Energy\n",
      "Headquarters: Mumbai, Maharashtra, India\n",
      "Stage: Angel\n",
      "What it does: A Mumbai-based startup Electric Vehicle (EV) & Energy Storage company.\n",
      "---\n",
      "Company Brand: Hyperxchange\n",
      "Headquarters: Pune, Maharashtra, India\n",
      "Stage: Series A\n",
      "What it does: hyperXchange is India's fastest growing O2O marketplace for premium refurb gadgets\n",
      "---\n",
      "Company Brand: Doodhwala\n",
      "Headquarters: Bengaluru, Karnataka, India\n",
      "Stage: Seed\n",
      "What it does: Doodhwala is an online milk delivery startup that offers over 70 varieties of milk along with a plan based on clients' requirement.\n",
      "---\n",
      "Company Brand: Rupeek\n",
      "Headquarters: Bangalore, Karnataka, India\n",
      "Stage: Series A\n",
      "What it does: Rupeek is an asset backed online lending platform currently operating in the space of Gold loans.\n",
      "---\n",
      "Company Brand: Placio\n",
      "Headquarters: Noida, Uttar Pradesh, India\n",
      "Stage: Seed\n",
      "What it does: Placio is a student housing and a complete broker-free platform.\n",
      "---\n",
      "Company Brand: Emflux Motors\n",
      "Headquarters: Bengaluru, Karnataka, India\n",
      "Stage: Seed\n",
      "What it does: Emflux Motors is committed to bring clean and sustainable energy into a state of universal acceptance through technological innovation.\n",
      "---\n",
      "Company Brand: Ontrack Technologies Pvt. Ltd\n",
      "Headquarters: Bangalore, Karnataka, India\n",
      "Stage: Seed\n",
      "What it does: Ontrack provides affordable independent transport to those dependent on cabs and autos for commute by renting bikes on a monthly basis.\n",
      "---\n",
      "Company Brand: Streak\n",
      "Headquarters: Bangalore, Karnataka, India\n",
      "Stage: Seed\n",
      "What it does: Algorithmic trading platform.\n",
      "---\n",
      "Company Brand: Kuants\n",
      "Headquarters: Gurgaon, Haryana, India\n",
      "Stage: Seed\n",
      "What it does: Algorithmic trading platform.\n",
      "---\n",
      "Company Brand: Satvacart\n",
      "Headquarters: Gurgaon, Haryana, India\n",
      "Stage: Seed\n",
      "What it does: Satvacart is a Gurgaon’s largest online supermarket\n",
      "---\n",
      "Company Brand: Trendlyne Technologies\n",
      "Headquarters: Bangalore, Karnataka, India\n",
      "Stage: Seed\n",
      "What it does: Trendlyne Technologies is a stock market analytics platform and marketplace for retail investors.\n",
      "---\n",
      "Company Brand: Rupeecircle\n",
      "Headquarters: Mumbai, Maharashtra, India\n",
      "Stage: Seed\n",
      "What it does: RupeeCircle is a new age finance company.\n",
      "---\n",
      "Company Brand: Wooden Street\n",
      "Headquarters: Jaipur, Rajasthan, India\n",
      "Stage: Series A\n",
      "What it does: Woodenstreet.com ensures to fulfill customer’s unique furniture requirements by crafting one-of-a-kind furniture pieces.\n",
      "---\n",
      "Company Brand: Kobster\n",
      "Headquarters: Chennai, Tamil Nadu, India\n",
      "Stage: Seed\n",
      "What it does: Kobster is a pioneer of B2B eProcurement and an eMarketplace providing Corporates an end-to-end solution for their procure-to-pay cycle.\n",
      "---\n",
      "Company Brand: Gobumpr\n",
      "Headquarters: Mylapore, Tamil Nadu, India\n",
      "Stage: Seed\n",
      "What it does: Car Service and Bike Service Mobile App\n",
      "---\n",
      "Company Brand: Creditas Solutions\n",
      "Headquarters: Gurgaon, Haryana, India\n",
      "Stage: Seed\n",
      "What it does: Creditas was set-up in 2015 with an aim to help Financial Institutions find better ways to reach and interact with their customers.\n",
      "---\n",
      "Company Brand: Kuvera.In\n",
      "Headquarters: Bangalore, Karnataka, India\n",
      "Stage: Angel\n",
      "What it does: An online platform for mutual fund investments.\n",
      "---\n",
      "Company Brand: Acko General Insurance\n",
      "Headquarters: Mumbai, Maharashtra, India\n",
      "Stage: Series A\n",
      "What it does: Acko General Insurance is a digital insurance company in India that redefines insurance for the consumers.\n",
      "---\n",
      "Company Brand: Aashiyaan Housing And Development Finance\n",
      "Headquarters: Kolkata, West Bengal, India\n",
      "Stage: Seed\n",
      "What it does: Provide housing finance to those in the informal sector enabling the hither to un-served to own a home of their own.\n",
      "---\n",
      "Company Brand: Wicked Ride Adventure Services Private Limited\n",
      "Headquarters: Bangalore, Karnataka, India\n",
      "Stage: Venture - Series Unknown\n",
      "What it does: Peer-to-Peer motor vehicles sharing\n",
      "---\n",
      "Company Brand: Kogta Financial India Limited\n",
      "Headquarters: Jaipur, Rajasthan, India\n",
      "Stage: Series B\n",
      "What it does: Kogta Financial (India) Ltd is a retail-focused non banking financial company .\n",
      "---\n",
      "Company Brand: Drivezy\n",
      "Headquarters: Bengaluru, Karnataka, India\n",
      "Stage: Debt Financing\n",
      "What it does: Drivezy is India's largest vehicle sharing platform which helps people turn their vehicles into earning members of their family.\n",
      "---\n",
      "Company Brand: Vedantu\n",
      "Headquarters: Bangalore, Karnataka, India\n",
      "Stage: Series B\n",
      "What it does: Vedantu provides personalized LIVE Online Tutoring. Vedantu aims to democratize teaching by creating a marketplace of Teachers\n",
      "---\n",
      "Company Brand: Magicpin\n",
      "Headquarters: Gurgaon, Haryana, India\n",
      "Stage: Series C\n",
      "What it does: Magicpin is a platform where users and merchants in a locality discover, interact, and transact.\n",
      "---\n",
      "Company Brand: Try & Buy\n",
      "Headquarters: New Delhi, Delhi, India\n",
      "Stage: Seed\n",
      "What it does: Try & Buy\n",
      "---\n",
      "Company Brand: Cleansecar\n",
      "Headquarters: Bangalore, Karnataka, India\n",
      "Stage: Angel\n",
      "What it does: CleanseCar is a company provides Washing and Repair Services.\n",
      "---\n",
      "Company Brand: Spinny\n",
      "Headquarters: Gurgaon, Haryana, India\n",
      "Stage: Series A\n",
      "What it does: Used cars marketplace in India. Ushering new era of transparency and convenience.\n",
      "---\n",
      "Company Brand: Asset Reconstruction Company (India) Ltd.\n",
      "Headquarters: Mumbai, Maharashtra, India\n",
      "Stage: Secondary Market\n",
      "What it does: Asset Reconstruction Company (India) Ltd. operates as a asset reconstruction company.\n",
      "---\n",
      "Company Brand: Walmart India\n",
      "Headquarters: Gurgaon, Haryana, India\n",
      "Stage: Venture - Series Unknown\n",
      "What it does: Wal-Mart India Private Limited is a wholly owned subsidiary of Walmart Stores Inc.,\n",
      "---\n",
      "Company Brand: Meesho\n",
      "Headquarters: Bangalore, Karnataka, India\n",
      "Stage: Series C\n",
      "What it does: Meesho is an online reseller network of housewives and SMBs, who sell products within their network on social channels.\n",
      "---\n",
      "Company Brand: Indwealth\n",
      "Headquarters: Gurgaon, Haryana, India\n",
      "Stage: Seed\n",
      "What it does: INDwealth is an Artificial Intelligence (AI) powered wealth management company\n",
      "---\n",
      "Company Brand: Healthkart\n",
      "Headquarters: Gurgaon, Haryana, India\n",
      "Stage: Venture - Series Unknown\n",
      "What it does: The one stop shop for health, fitness & beauty.\n",
      "---\n",
      "Company Brand: Indiabulls Ventures\n",
      "Headquarters: Mumbai, Maharashtra, India\n",
      "Stage: Post-IPO Equity\n",
      "What it does: Indiabulls Ventures Limited is one of India’s leading capital market companies providing securities and derivative broking services.\n",
      "---\n",
      "Company Brand: Loans4Sme\n",
      "Headquarters: Mumbai, Maharashtra, India\n",
      "Stage: Seed\n",
      "What it does: Loans4SME is an alternative lending platform.\n",
      "---\n",
      "Company Brand: Twenty Two Motors\n",
      "Headquarters: Haryana, Haryana, India\n",
      "Stage: Corporate Round\n",
      "What it does: Twenty Two Motors aim of making cutting edge EV technology affordable for the current generation.\n",
      "---\n",
      "Company Brand: Truebil\n",
      "Headquarters: Mumbai, Maharashtra, India\n",
      "Stage: Series A\n",
      "What it does: Truebil is a team of young, highly motivated professionals who strive to help you buy and sell used cars in the simplest way possible.\n",
      "---\n",
      "Company Brand: Veritas Finance\n",
      "Headquarters: Guindy, Tamil Nadu, India\n",
      "Stage: Venture - Series Unknown\n",
      "What it does: Veritas Finance has been promoted with a primary purpose of meeting the working capital and business credit requirements of the small bus.\n",
      "---\n",
      "Company Brand: Zomato\n",
      "Headquarters: Gurgaon, Haryana, India\n",
      "Stage: Secondary Market\n",
      "What it does: Zomato is a search app offering detailed information for restaurants as well as online food delivery.\n",
      "---\n",
      "Company Brand: Cardekho\n",
      "Headquarters: Gurgaon, Haryana, India\n",
      "Stage: Series C\n",
      "What it does: Cardekho is a car search venture that helps users buy cars that are right for them.\n",
      "---\n",
      "Company Brand: Droom Technology Private Limited\n",
      "Headquarters: Gurgaon, Haryana, India\n",
      "Stage: Series E\n",
      "What it does: Droom is a marketplace for automobiles and automobile services.\n",
      "---\n",
      "Company Brand: Livquik\n",
      "Headquarters: Mumbai, Maharashtra, India\n",
      "Stage: Corporate Round\n",
      "What it does: LivQuik was incorporated with the vision to simplify payments for merchants and consumers in an increasingly digital world\n",
      "---\n",
      "Company Brand: Vahdam Teas\n",
      "Headquarters: New Delhi, Delhi, India\n",
      "Stage: Series B\n",
      "What it does: Vahdam Teas is a vertically integrated online-first tea brand that sources premium garden fresh teas direct from over 150+ tea plantations.\n",
      "---\n",
      "Company Brand: Strom Motors\n",
      "Headquarters: Mumbai, Maharashtra, India\n",
      "Stage: Angel\n",
      "What it does: Strom Motors is a smart urban mobility Company.\n",
      "---\n",
      "Company Brand: Stanza Living\n",
      "Headquarters: New Delhi, Delhi, India\n",
      "Stage: Venture - Series Unknown\n",
      "What it does: Stanza Living is a co-living platform created for students moving to a new place.\n",
      "---\n",
      "Company Brand: Goals101\n",
      "Headquarters: Delhi, Delhi, India\n",
      "Stage: Seed\n",
      "What it does: Goals101 is a one of the fastest growing big-data platforms.\n",
      "---\n",
      "Company Brand: Urban Ladder\n",
      "Headquarters: Bangalore, Karnataka, India\n",
      "Stage: Debt Financing\n",
      "What it does: Urban Ladder is a Bangalore-based online furniture company.\n",
      "---\n",
      "Company Brand: Livspace\n",
      "Headquarters: Bangalore, Karnataka, India\n",
      "Stage: Series C\n",
      "What it does: Livspace is the new online shopping destination where you can design, decorate and furnish your dream home.\n",
      "---\n",
      "Company Brand: Xplorabox\n",
      "Headquarters: Noida, Uttar Pradesh, India\n",
      "Stage: Seed\n",
      "What it does: Xplorabox is as an educational activity box subscription startup aiming to revolutionize the early education industry.\n",
      "---\n",
      "Company Brand: Bon(Bonfleet Solutions)\n",
      "Headquarters: Pune, Maharashtra, India\n",
      "Stage: Seed\n",
      "What it does: Bon, a Pune-based FinTech firm was created to bring financial services to the gig-economy workforce.\n",
      "---\n",
      "Company Brand: Mamaearth\n",
      "Headquarters: Gurgaon, Haryana, India\n",
      "Stage: Series A\n",
      "What it does: Mamaearth is an online retailer specializing in baby and toddler products.\n",
      "---\n",
      "Company Brand: Belstar Investment And Finance Private Limited\n",
      "Headquarters: Chennai, Tamil Nadu, India\n",
      "Stage: Venture - Series Unknown\n",
      "What it does: Belstar Investment and Finance Private Limited is a provider of scalable microfinance services to entrepreneurs.\n",
      "---\n",
      "Company Brand: Naaptol\n",
      "Headquarters: Mumbai, Maharashtra, India\n",
      "Stage: Venture - Series Unknown\n",
      "What it does: Koku Gamer is an online platform that offers gaming related news, editorials, reviews, previews, and other content.\n",
      "---\n",
      "Company Brand: Slicepay\n",
      "Headquarters: Bengaluru, Karnataka, India\n",
      "Stage: Series A\n",
      "What it does: SlicePay is an AI based instant credit app for youngsters in India.\n",
      "---\n"
     ]
    }
   ],
   "source": [
    "# Calculate total funding amount for each sector\n",
    "total_funding_by_sector = df_combined.groupby('Sector')['Amount'].sum().reset_index()\n",
    "\n",
    "# Sort the sectors by total funding amount in descending order\n",
    "total_funding_by_sector = total_funding_by_sector.sort_values('Amount', ascending=False)\n",
    "\n",
    "# Select the top 10 highest-funded sectors\n",
    "top_10_sectors = total_funding_by_sector.head(10)['Sector'].tolist()\n",
    "\n",
    "# Filter the data for the top 10 highest-funded sectors\n",
    "top_funded_startups = df_combined[df_combined['Sector'].isin(top_10_sectors)]\n",
    "\n",
    "# Print the company brand, location, founders, and what they do for the top-funded startups\n",
    "for _, row in top_funded_startups.iterrows():\n",
    "    print(f\"Company Brand: {row['Company_Brand']}\")\n",
    "    print(f\"Headquarters: {row['HeadQuarter']}\")\n",
    "    print(f\"Stage: {row['Stage']}\")\n",
    "    print(f\"What it does: {row['What_it_does']}\")\n",
    "    print(\"---\")"
   ]
  },
  {
   "cell_type": "markdown",
   "metadata": {},
   "source": [
    "8. Which Business is more viable to set - The best performing business(s) ? The determinants for our best performing will be determined from the sector that recieved the highest funding Amount and not in debt and exsists in the Stage: Series D onwads. "
   ]
  },
  {
   "cell_type": "code",
   "execution_count": 167,
   "metadata": {},
   "outputs": [
    {
     "name": "stdout",
     "output_type": "stream",
     "text": [
      "Best Performing Sector:\n",
      "Sector: Fintech\n",
      "Total Funding Amount: 1146492000.0\n",
      "---\n",
      "Sector: Automotive\n",
      "Total Funding Amount: 1086000000.0\n",
      "---\n",
      "Sector: Food Delivery\n",
      "Total Funding Amount: 1000000000.0\n",
      "---\n",
      "Sector: Innovation Management\n",
      "Total Funding Amount: 1000000000.0\n",
      "---\n",
      "Sector: Edtech\n",
      "Total Funding Amount: 781943700.0\n",
      "---\n"
     ]
    }
   ],
   "source": [
    "# Filter out companies that are in debt\n",
    "not_in_debt = df_combined[df_combined['Stage'] != 'Debt']\n",
    "\n",
    "# Filter out companies that are in Series D or later stages\n",
    "series_d_or_later = not_in_debt[not_in_debt['Stage'].isin(['Series D', 'Series E', 'Series F', 'Series G', 'Series H', 'Series I'])]\n",
    "\n",
    "# Calculate total funding amount for each sector\n",
    "total_funding_by_sector = series_d_or_later.groupby('Sector')['Amount'].sum().reset_index()\n",
    "\n",
    "# Sort the sector by total funding amount in descending order\n",
    "total_funding_by_sector = total_funding_by_sector.sort_values('Amount', ascending=False)\n",
    "\n",
    "# Select the top company (or companies) with the highest funding amount\n",
    "top_funded_sector = total_funding_by_sector.head()\n",
    "\n",
    "# Print the top funded sector \n",
    "print(\"Best Performing Sector:\")\n",
    "for _, row in top_funded_sector.iterrows():\n",
    "    print(f\"Sector: {row['Sector']}\")\n",
    "    print(f\"Total Funding Amount: {row['Amount']}\")\n",
    "    print(\"---\")"
   ]
  },
  {
   "cell_type": "markdown",
   "metadata": {},
   "source": [
    "Loading df_combined dataset to a csv file "
   ]
  },
  {
   "cell_type": "code",
   "execution_count": 168,
   "metadata": {},
   "outputs": [],
   "source": [
    "# Load the csv into a dataframe\n",
    "\n",
    "df_combined.to_csv('clean_combined_LP1dataset.csv', index= False)\n",
    "\n"
   ]
  }
 ],
 "metadata": {
  "kernelspec": {
   "display_name": "Python 3",
   "language": "python",
   "name": "python3"
  },
  "language_info": {
   "codemirror_mode": {
    "name": "ipython",
    "version": 3
   },
   "file_extension": ".py",
   "mimetype": "text/x-python",
   "name": "python",
   "nbconvert_exporter": "python",
   "pygments_lexer": "ipython3",
   "version": "3.10.9"
  }
 },
 "nbformat": 4,
 "nbformat_minor": 2
}
