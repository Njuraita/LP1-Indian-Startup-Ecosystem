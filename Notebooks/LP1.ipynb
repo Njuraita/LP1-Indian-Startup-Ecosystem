{
 "cells": [
  {
   "cell_type": "markdown",
   "metadata": {},
   "source": [
    "# CA-7 LP1"
   ]
  },
  {
   "cell_type": "markdown",
   "metadata": {},
   "source": [
    "# Bussiness Understanding "
   ]
  },
  {
   "cell_type": "markdown",
   "metadata": {},
   "source": [
    "Our team is intending to venture into the Indian Ecosyatem and as data analyst we are to investigate the ecosystem and propose best course of action.\n",
    "\n",
    "We will be using the CRISP-DM Methodology. We are to understand the objectives and requirements of the project, determine data mining goals, define business success criteria. Detailed plan for each project phase \n",
    "\n",
    "\n",
    "### Project Title : Viability of Setting up a Startup Business in India \n",
    "\n",
    " * Hypothesis testing:\n",
    "\n",
    " Null Hypothesis (H0) There is no significant difference in the amount of funding recieved by startups across different sectors and stages \n",
    "\n",
    " Alternative Hypothesis (H1) There is a significant difference in the amount of funding recieved by different sectors and stages \n",
    " \n",
    "\n",
    "* Project Description - \n",
    "Our team is aiming at setting up startup in India. Using the provided information we are accessing the viability of setting up our busiess there .\n",
    "\n",
    "\n",
    "\n",
    "ANALYTICAL QUESTIONS\n",
    "1. Funding Trends:\n",
    "How has the total funding amount changed year over year from 2018 to 2021?\n",
    "How has the average funding amount in each sector changed over the years (2018 - 2021)\n",
    " \n",
    "2. Sector Analysis:\n",
    "Which sectors have received the most funding, and how does the funding distribution vary across sectors?\n",
    " \n",
    "3. Stage Analysis:\n",
    "What is the distribution of funding across different investment stages (e.g., Pre-seed, Seed, Series A)?\n",
    " \n",
    "4. Geographical Analysis:\n",
    "Which cities or regions have the highest concentration of funded startups?\n",
    " \n",
    "5. Investor Influence:\n",
    "Who are the top investors in the Indian startup ecosystem, and what is their funding pattern?\n",
    " \n",
    "6. Founder Impact:\n",
    "Is there a correlation between the number of founders and the amount of funding received?\n",
    " \n",
    "7. What are the characteristics of startups in the highest-funded sectors (e.g., number of founders, location)?\n",
    " \n",
    "8. Which Business is more viable to set - The best performing business(s) ? "
   ]
  },
  {
   "cell_type": "markdown",
   "metadata": {},
   "source": [
    "# Data Understanding "
   ]
  },
  {
   "cell_type": "markdown",
   "metadata": {},
   "source": [
    " We have been provided with various datasets located at 3 different locations ie Database, OneDrive and GitHub Repository. In them we will find the start-ups details, the funding amounts recieved and the investors information from 2018-2021.\n",
    " To provide a smooth flow of project, in this phase we will be loading the data and cleaning the data. In the next phase, data preparation phase, we will then concatenate the data.\n",
    "\n"
   ]
  },
  {
   "cell_type": "code",
   "execution_count": 156,
   "metadata": {},
   "outputs": [
    {
     "name": "stdout",
     "output_type": "stream",
     "text": [
      "Note: you may need to restart the kernel to use updated packages.\n"
     ]
    },
    {
     "name": "stderr",
     "output_type": "stream",
     "text": [
      "ERROR: Invalid requirement: '#install'\n"
     ]
    },
    {
     "name": "stdout",
     "output_type": "stream",
     "text": [
      "Requirement already satisfied: python-dotenv in c:\\users\\admin\\appdata\\local\\programs\\python\\python310\\lib\\site-packages (1.0.1)\n",
      "Note: you may need to restart the kernel to use updated packages.\n",
      "Requirement already satisfied: openpyxl in c:\\users\\admin\\appdata\\local\\programs\\python\\python310\\lib\\site-packages (3.1.2)\n",
      "Requirement already satisfied: et-xmlfile in c:\\users\\admin\\appdata\\local\\programs\\python\\python310\\lib\\site-packages (from openpyxl) (1.1.0)\n",
      "Note: you may need to restart the kernel to use updated packages.\n",
      "Requirement already satisfied: fuzzywuzzy in c:\\users\\admin\\appdata\\local\\programs\\python\\python310\\lib\\site-packages (0.18.0)\n",
      "Note: you may need to restart the kernel to use updated packages.\n"
     ]
    }
   ],
   "source": [
    "#Install necessary libraries \n",
    "\n",
    "%pip install pyodbc #install our connector which allows us to connect with our databases\n",
    "%pip install python-dotenv\n",
    "%pip install openpyxl\n",
    "%pip install fuzzywuzzy"
   ]
  },
  {
   "cell_type": "code",
   "execution_count": 157,
   "metadata": {},
   "outputs": [],
   "source": [
    "#import the necessary packages \n",
    "\n",
    "import pyodbc \n",
    "from dotenv import dotenv_values \n",
    "import numpy as np\n",
    "import pandas as pd \n",
    "import plotly.express as px\n",
    "import plotly.graph_objs as go\n",
    "import pandas as pd \n",
    "import warnings\n",
    "\n",
    "warnings.filterwarnings ('ignore')"
   ]
  },
  {
   "cell_type": "code",
   "execution_count": 158,
   "metadata": {},
   "outputs": [],
   "source": [
    "# Load environment variables from .env file into a dictionary\n",
    "environment_variables = dotenv_values('C:\\\\Users\\\\Admin\\\\OneDrive\\\\OneDrive-Azubi\\\\CA-LP1\\\\LP1-Indian-Startup-Ecosystem-1\\\\Notebooks\\\\.env')\n",
    "\n",
    "# Get the values for the credentials you set in the '.env' file\n",
    "server = environment_variables.get('server')\n",
    "database = environment_variables.get('database')\n",
    "username = environment_variables.get('username')\n",
    "password = environment_variables.get('password')"
   ]
  },
  {
   "cell_type": "code",
   "execution_count": 159,
   "metadata": {},
   "outputs": [],
   "source": [
    "# Create a connection string\n",
    "\n",
    "connection_string = f\"DRIVER={{SQL Server}};SERVER={server};DATABASE={database};UID={username};PWD={password};MARS_Connection=yes;MinProtocolVersion=TLSv1.2;\"\n",
    "\n"
   ]
  },
  {
   "cell_type": "code",
   "execution_count": 160,
   "metadata": {},
   "outputs": [],
   "source": [
    "connection = pyodbc.connect(connection_string)"
   ]
  },
  {
   "cell_type": "markdown",
   "metadata": {},
   "source": [
    "1st Dataset-2020 (Data)\n",
    "\n",
    "* This dataset is loaded from SQL Database"
   ]
  },
  {
   "cell_type": "code",
   "execution_count": 161,
   "metadata": {},
   "outputs": [],
   "source": [
    "# Query the tabeles as per the given instructions (1st Dataset)\n",
    "\n",
    "query = '''SELECT *\n",
    "FROM dbo.LP1_startup_funding2020'''\n",
    "\n",
    "data =pd.read_sql(query, connection)"
   ]
  },
  {
   "cell_type": "code",
   "execution_count": 162,
   "metadata": {},
   "outputs": [
    {
     "data": {
      "text/html": [
       "<div>\n",
       "<style scoped>\n",
       "    .dataframe tbody tr th:only-of-type {\n",
       "        vertical-align: middle;\n",
       "    }\n",
       "\n",
       "    .dataframe tbody tr th {\n",
       "        vertical-align: top;\n",
       "    }\n",
       "\n",
       "    .dataframe thead th {\n",
       "        text-align: right;\n",
       "    }\n",
       "</style>\n",
       "<table border=\"1\" class=\"dataframe\">\n",
       "  <thead>\n",
       "    <tr style=\"text-align: right;\">\n",
       "      <th></th>\n",
       "      <th>Company_Brand</th>\n",
       "      <th>Founded</th>\n",
       "      <th>HeadQuarter</th>\n",
       "      <th>Sector</th>\n",
       "      <th>What_it_does</th>\n",
       "      <th>Founders</th>\n",
       "      <th>Investor</th>\n",
       "      <th>Amount</th>\n",
       "      <th>Stage</th>\n",
       "      <th>column10</th>\n",
       "    </tr>\n",
       "  </thead>\n",
       "  <tbody>\n",
       "    <tr>\n",
       "      <th>0</th>\n",
       "      <td>Aqgromalin</td>\n",
       "      <td>2019.0</td>\n",
       "      <td>Chennai</td>\n",
       "      <td>AgriTech</td>\n",
       "      <td>Cultivating Ideas for Profit</td>\n",
       "      <td>Prasanna Manogaran, Bharani C L</td>\n",
       "      <td>Angel investors</td>\n",
       "      <td>200000.0</td>\n",
       "      <td>None</td>\n",
       "      <td>None</td>\n",
       "    </tr>\n",
       "    <tr>\n",
       "      <th>1</th>\n",
       "      <td>Krayonnz</td>\n",
       "      <td>2019.0</td>\n",
       "      <td>Bangalore</td>\n",
       "      <td>EdTech</td>\n",
       "      <td>An academy-guardian-scholar centric ecosystem ...</td>\n",
       "      <td>Saurabh Dixit, Gurudutt Upadhyay</td>\n",
       "      <td>GSF Accelerator</td>\n",
       "      <td>100000.0</td>\n",
       "      <td>Pre-seed</td>\n",
       "      <td>None</td>\n",
       "    </tr>\n",
       "    <tr>\n",
       "      <th>2</th>\n",
       "      <td>PadCare Labs</td>\n",
       "      <td>2018.0</td>\n",
       "      <td>Pune</td>\n",
       "      <td>Hygiene management</td>\n",
       "      <td>Converting bio-hazardous waste to harmless waste</td>\n",
       "      <td>Ajinkya Dhariya</td>\n",
       "      <td>Venture Center</td>\n",
       "      <td>NaN</td>\n",
       "      <td>Pre-seed</td>\n",
       "      <td>None</td>\n",
       "    </tr>\n",
       "    <tr>\n",
       "      <th>3</th>\n",
       "      <td>NCOME</td>\n",
       "      <td>2020.0</td>\n",
       "      <td>New Delhi</td>\n",
       "      <td>Escrow</td>\n",
       "      <td>Escrow-as-a-service platform</td>\n",
       "      <td>Ritesh Tiwari</td>\n",
       "      <td>Venture Catalysts, PointOne Capital</td>\n",
       "      <td>400000.0</td>\n",
       "      <td>None</td>\n",
       "      <td>None</td>\n",
       "    </tr>\n",
       "    <tr>\n",
       "      <th>4</th>\n",
       "      <td>Gramophone</td>\n",
       "      <td>2016.0</td>\n",
       "      <td>Indore</td>\n",
       "      <td>AgriTech</td>\n",
       "      <td>Gramophone is an AgTech platform enabling acce...</td>\n",
       "      <td>Ashish Rajan Singh, Harshit Gupta, Nishant Mah...</td>\n",
       "      <td>Siana Capital Management, Info Edge</td>\n",
       "      <td>340000.0</td>\n",
       "      <td>None</td>\n",
       "      <td>None</td>\n",
       "    </tr>\n",
       "  </tbody>\n",
       "</table>\n",
       "</div>"
      ],
      "text/plain": [
       "  Company_Brand  Founded HeadQuarter              Sector  \\\n",
       "0    Aqgromalin   2019.0     Chennai            AgriTech   \n",
       "1      Krayonnz   2019.0   Bangalore              EdTech   \n",
       "2  PadCare Labs   2018.0        Pune  Hygiene management   \n",
       "3         NCOME   2020.0   New Delhi              Escrow   \n",
       "4    Gramophone   2016.0      Indore            AgriTech   \n",
       "\n",
       "                                        What_it_does  \\\n",
       "0                       Cultivating Ideas for Profit   \n",
       "1  An academy-guardian-scholar centric ecosystem ...   \n",
       "2   Converting bio-hazardous waste to harmless waste   \n",
       "3                       Escrow-as-a-service platform   \n",
       "4  Gramophone is an AgTech platform enabling acce...   \n",
       "\n",
       "                                            Founders  \\\n",
       "0                    Prasanna Manogaran, Bharani C L   \n",
       "1                   Saurabh Dixit, Gurudutt Upadhyay   \n",
       "2                                    Ajinkya Dhariya   \n",
       "3                                      Ritesh Tiwari   \n",
       "4  Ashish Rajan Singh, Harshit Gupta, Nishant Mah...   \n",
       "\n",
       "                              Investor    Amount     Stage column10  \n",
       "0                      Angel investors  200000.0      None     None  \n",
       "1                      GSF Accelerator  100000.0  Pre-seed     None  \n",
       "2                       Venture Center       NaN  Pre-seed     None  \n",
       "3  Venture Catalysts, PointOne Capital  400000.0      None     None  \n",
       "4  Siana Capital Management, Info Edge  340000.0      None     None  "
      ]
     },
     "execution_count": 162,
     "metadata": {},
     "output_type": "execute_result"
    }
   ],
   "source": [
    "data.head()"
   ]
  },
  {
   "cell_type": "code",
   "execution_count": 163,
   "metadata": {},
   "outputs": [
    {
     "data": {
      "text/html": [
       "<div>\n",
       "<style scoped>\n",
       "    .dataframe tbody tr th:only-of-type {\n",
       "        vertical-align: middle;\n",
       "    }\n",
       "\n",
       "    .dataframe tbody tr th {\n",
       "        vertical-align: top;\n",
       "    }\n",
       "\n",
       "    .dataframe thead th {\n",
       "        text-align: right;\n",
       "    }\n",
       "</style>\n",
       "<table border=\"1\" class=\"dataframe\">\n",
       "  <thead>\n",
       "    <tr style=\"text-align: right;\">\n",
       "      <th></th>\n",
       "      <th>Company_Brand</th>\n",
       "      <th>Founded</th>\n",
       "      <th>HeadQuarter</th>\n",
       "      <th>Sector</th>\n",
       "      <th>What_it_does</th>\n",
       "      <th>Founders</th>\n",
       "      <th>Investor</th>\n",
       "      <th>Amount</th>\n",
       "      <th>Stage</th>\n",
       "      <th>column10</th>\n",
       "    </tr>\n",
       "  </thead>\n",
       "  <tbody>\n",
       "    <tr>\n",
       "      <th>1050</th>\n",
       "      <td>Leverage Edu</td>\n",
       "      <td>NaN</td>\n",
       "      <td>Delhi</td>\n",
       "      <td>Edtech</td>\n",
       "      <td>AI enabled marketplace that provides career gu...</td>\n",
       "      <td>Akshay Chaturvedi</td>\n",
       "      <td>DSG Consumer Partners, Blume Ventures</td>\n",
       "      <td>1500000.0</td>\n",
       "      <td>None</td>\n",
       "      <td>None</td>\n",
       "    </tr>\n",
       "    <tr>\n",
       "      <th>1051</th>\n",
       "      <td>EpiFi</td>\n",
       "      <td>NaN</td>\n",
       "      <td>None</td>\n",
       "      <td>Fintech</td>\n",
       "      <td>It offers customers with a single interface fo...</td>\n",
       "      <td>Sujith Narayanan, Sumit Gwalani</td>\n",
       "      <td>Sequoia India, Ribbit Capital</td>\n",
       "      <td>13200000.0</td>\n",
       "      <td>Seed Round</td>\n",
       "      <td>None</td>\n",
       "    </tr>\n",
       "    <tr>\n",
       "      <th>1052</th>\n",
       "      <td>Purplle</td>\n",
       "      <td>2012.0</td>\n",
       "      <td>Mumbai</td>\n",
       "      <td>Cosmetics</td>\n",
       "      <td>Online makeup and beauty products retailer</td>\n",
       "      <td>Manish Taneja, Rahul Dash</td>\n",
       "      <td>Verlinvest</td>\n",
       "      <td>8000000.0</td>\n",
       "      <td>None</td>\n",
       "      <td>None</td>\n",
       "    </tr>\n",
       "    <tr>\n",
       "      <th>1053</th>\n",
       "      <td>Shuttl</td>\n",
       "      <td>2015.0</td>\n",
       "      <td>Delhi</td>\n",
       "      <td>Transport</td>\n",
       "      <td>App based bus aggregator serice</td>\n",
       "      <td>Amit Singh, Deepanshu Malviya</td>\n",
       "      <td>SIG Global India Fund LLP.</td>\n",
       "      <td>8043000.0</td>\n",
       "      <td>Series C</td>\n",
       "      <td>None</td>\n",
       "    </tr>\n",
       "    <tr>\n",
       "      <th>1054</th>\n",
       "      <td>Pando</td>\n",
       "      <td>2017.0</td>\n",
       "      <td>Chennai</td>\n",
       "      <td>Logitech</td>\n",
       "      <td>Networked logistics management software</td>\n",
       "      <td>Jayakrishnan, Abhijeet Manohar</td>\n",
       "      <td>Chiratae Ventures</td>\n",
       "      <td>9000000.0</td>\n",
       "      <td>Series A</td>\n",
       "      <td>None</td>\n",
       "    </tr>\n",
       "  </tbody>\n",
       "</table>\n",
       "</div>"
      ],
      "text/plain": [
       "     Company_Brand  Founded HeadQuarter     Sector  \\\n",
       "1050  Leverage Edu      NaN       Delhi     Edtech   \n",
       "1051         EpiFi      NaN        None    Fintech   \n",
       "1052       Purplle   2012.0      Mumbai  Cosmetics   \n",
       "1053        Shuttl   2015.0       Delhi  Transport   \n",
       "1054         Pando   2017.0     Chennai   Logitech   \n",
       "\n",
       "                                           What_it_does  \\\n",
       "1050  AI enabled marketplace that provides career gu...   \n",
       "1051  It offers customers with a single interface fo...   \n",
       "1052         Online makeup and beauty products retailer   \n",
       "1053                    App based bus aggregator serice   \n",
       "1054            Networked logistics management software   \n",
       "\n",
       "                             Founders                               Investor  \\\n",
       "1050                Akshay Chaturvedi  DSG Consumer Partners, Blume Ventures   \n",
       "1051  Sujith Narayanan, Sumit Gwalani          Sequoia India, Ribbit Capital   \n",
       "1052        Manish Taneja, Rahul Dash                             Verlinvest   \n",
       "1053    Amit Singh, Deepanshu Malviya             SIG Global India Fund LLP.   \n",
       "1054   Jayakrishnan, Abhijeet Manohar                      Chiratae Ventures   \n",
       "\n",
       "          Amount       Stage column10  \n",
       "1050   1500000.0        None     None  \n",
       "1051  13200000.0  Seed Round     None  \n",
       "1052   8000000.0        None     None  \n",
       "1053   8043000.0    Series C     None  \n",
       "1054   9000000.0    Series A     None  "
      ]
     },
     "execution_count": 163,
     "metadata": {},
     "output_type": "execute_result"
    }
   ],
   "source": [
    "data.tail()"
   ]
  },
  {
   "cell_type": "code",
   "execution_count": 164,
   "metadata": {},
   "outputs": [
    {
     "name": "stdout",
     "output_type": "stream",
     "text": [
      "<class 'pandas.core.frame.DataFrame'>\n",
      "RangeIndex: 1055 entries, 0 to 1054\n",
      "Data columns (total 10 columns):\n",
      " #   Column         Non-Null Count  Dtype  \n",
      "---  ------         --------------  -----  \n",
      " 0   Company_Brand  1055 non-null   object \n",
      " 1   Founded        842 non-null    float64\n",
      " 2   HeadQuarter    961 non-null    object \n",
      " 3   Sector         1042 non-null   object \n",
      " 4   What_it_does   1055 non-null   object \n",
      " 5   Founders       1043 non-null   object \n",
      " 6   Investor       1017 non-null   object \n",
      " 7   Amount         801 non-null    float64\n",
      " 8   Stage          591 non-null    object \n",
      " 9   column10       2 non-null      object \n",
      "dtypes: float64(2), object(8)\n",
      "memory usage: 82.5+ KB\n"
     ]
    }
   ],
   "source": [
    "data.info()"
   ]
  },
  {
   "cell_type": "code",
   "execution_count": 165,
   "metadata": {},
   "outputs": [
    {
     "data": {
      "text/html": [
       "<div>\n",
       "<style scoped>\n",
       "    .dataframe tbody tr th:only-of-type {\n",
       "        vertical-align: middle;\n",
       "    }\n",
       "\n",
       "    .dataframe tbody tr th {\n",
       "        vertical-align: top;\n",
       "    }\n",
       "\n",
       "    .dataframe thead th {\n",
       "        text-align: right;\n",
       "    }\n",
       "</style>\n",
       "<table border=\"1\" class=\"dataframe\">\n",
       "  <thead>\n",
       "    <tr style=\"text-align: right;\">\n",
       "      <th></th>\n",
       "      <th>Null Count</th>\n",
       "      <th>Percentage</th>\n",
       "    </tr>\n",
       "  </thead>\n",
       "  <tbody>\n",
       "    <tr>\n",
       "      <th>Company_Brand</th>\n",
       "      <td>0</td>\n",
       "      <td>0.000000</td>\n",
       "    </tr>\n",
       "    <tr>\n",
       "      <th>Founded</th>\n",
       "      <td>213</td>\n",
       "      <td>20.189573</td>\n",
       "    </tr>\n",
       "    <tr>\n",
       "      <th>HeadQuarter</th>\n",
       "      <td>94</td>\n",
       "      <td>8.909953</td>\n",
       "    </tr>\n",
       "    <tr>\n",
       "      <th>Sector</th>\n",
       "      <td>13</td>\n",
       "      <td>1.232227</td>\n",
       "    </tr>\n",
       "    <tr>\n",
       "      <th>What_it_does</th>\n",
       "      <td>0</td>\n",
       "      <td>0.000000</td>\n",
       "    </tr>\n",
       "    <tr>\n",
       "      <th>Founders</th>\n",
       "      <td>12</td>\n",
       "      <td>1.137441</td>\n",
       "    </tr>\n",
       "    <tr>\n",
       "      <th>Investor</th>\n",
       "      <td>38</td>\n",
       "      <td>3.601896</td>\n",
       "    </tr>\n",
       "    <tr>\n",
       "      <th>Amount</th>\n",
       "      <td>254</td>\n",
       "      <td>24.075829</td>\n",
       "    </tr>\n",
       "    <tr>\n",
       "      <th>Stage</th>\n",
       "      <td>464</td>\n",
       "      <td>43.981043</td>\n",
       "    </tr>\n",
       "    <tr>\n",
       "      <th>column10</th>\n",
       "      <td>1053</td>\n",
       "      <td>99.810427</td>\n",
       "    </tr>\n",
       "  </tbody>\n",
       "</table>\n",
       "</div>"
      ],
      "text/plain": [
       "               Null Count  Percentage\n",
       "Company_Brand           0    0.000000\n",
       "Founded               213   20.189573\n",
       "HeadQuarter            94    8.909953\n",
       "Sector                 13    1.232227\n",
       "What_it_does            0    0.000000\n",
       "Founders               12    1.137441\n",
       "Investor               38    3.601896\n",
       "Amount                254   24.075829\n",
       "Stage                 464   43.981043\n",
       "column10             1053   99.810427"
      ]
     },
     "execution_count": 165,
     "metadata": {},
     "output_type": "execute_result"
    }
   ],
   "source": [
    "# Missing values with their percentages \n",
    "data.isnull().sum().to_frame('Null Count').assign(Percentage=lambda x: (x['Null Count'] / len(data)) * 100)\n"
   ]
  },
  {
   "cell_type": "code",
   "execution_count": 166,
   "metadata": {},
   "outputs": [
    {
     "data": {
      "text/plain": [
       "(1055, 10)"
      ]
     },
     "execution_count": 166,
     "metadata": {},
     "output_type": "execute_result"
    }
   ],
   "source": [
    "data.shape"
   ]
  },
  {
   "cell_type": "code",
   "execution_count": 167,
   "metadata": {},
   "outputs": [
    {
     "data": {
      "text/plain": [
       "3"
      ]
     },
     "execution_count": 167,
     "metadata": {},
     "output_type": "execute_result"
    }
   ],
   "source": [
    "data.duplicated().sum()"
   ]
  },
  {
   "cell_type": "code",
   "execution_count": 168,
   "metadata": {},
   "outputs": [
    {
     "data": {
      "text/plain": [
       "array([2019., 2018., 2020., 2016., 2008., 2015., 2017., 2014., 1998.,\n",
       "       2007., 2011., 1982., 2013., 2009., 2012., 1995., 2010., 2006.,\n",
       "       1978.,   nan, 1999., 1994., 2005., 1973., 2002., 2004., 2001.])"
      ]
     },
     "execution_count": 168,
     "metadata": {},
     "output_type": "execute_result"
    }
   ],
   "source": [
    "data['Founded'].unique()"
   ]
  },
  {
   "cell_type": "code",
   "execution_count": 169,
   "metadata": {},
   "outputs": [
    {
     "data": {
      "text/plain": [
       "array(['Chennai', 'Bangalore', 'Pune', 'New Delhi', 'Indore', 'Hyderabad',\n",
       "       'Gurgaon', 'Belgaum', 'Noida', 'Mumbai', 'Andheri', 'Jaipur',\n",
       "       'Ahmedabad', 'Kolkata', 'Tirunelveli, Tamilnadu', 'Thane', None,\n",
       "       'Singapore', 'Gurugram', 'Gujarat', 'Haryana', 'Kerala', 'Jodhpur',\n",
       "       'Jaipur, Rajastan', 'Delhi', 'Frisco, Texas, United States',\n",
       "       'California', 'Dhingsara, Haryana', 'New York, United States',\n",
       "       'Patna', 'San Francisco, California, United States',\n",
       "       'San Francisco, United States', 'San Ramon, California',\n",
       "       'Paris, Ile-de-France, France', 'Plano, Texas, United States',\n",
       "       'Sydney', 'San Francisco Bay Area, Silicon Valley, West Coast',\n",
       "       'Bangaldesh', 'London, England, United Kingdom',\n",
       "       'Sydney, New South Wales, Australia', 'Milano, Lombardia, Italy',\n",
       "       'Palmwoods, Queensland, Australia', 'France',\n",
       "       'San Francisco Bay Area, West Coast, Western US',\n",
       "       'Trivandrum, Kerala, India', 'Cochin', 'Samastipur, Bihar',\n",
       "       'Irvine, California, United States', 'Tumkur, Karnataka',\n",
       "       'Newcastle Upon Tyne, Newcastle upon Tyne, United Kingdom',\n",
       "       'Shanghai, China', 'Jiaxing, Zhejiang, China', 'Rajastan', 'Kochi',\n",
       "       'Ludhiana', 'Dehradun', 'San Franciscao', 'San Francisco',\n",
       "       'Tangerang, Jawa Barat, Indonesia', 'Berlin', 'Seattle', 'Riyadh',\n",
       "       'Seoul', 'New York', 'Bangkok', 'Kanpur', 'Chandigarh', 'Warangal',\n",
       "       'Hyderebad', 'Odisha', 'Bihar', 'Goa', 'Tamil Nadu',\n",
       "       'Uttar Pradesh', 'Bhopal', 'Banglore', 'Coimbatore', 'Bengaluru'],\n",
       "      dtype=object)"
      ]
     },
     "execution_count": 169,
     "metadata": {},
     "output_type": "execute_result"
    }
   ],
   "source": [
    "data['HeadQuarter'].unique()"
   ]
  },
  {
   "cell_type": "code",
   "execution_count": 170,
   "metadata": {},
   "outputs": [
    {
     "data": {
      "text/plain": [
       "HeadQuarter\n",
       "Bangalore    317\n",
       "Mumbai       165\n",
       "Gurugram      79\n",
       "Delhi         62\n",
       "Chennai       43\n",
       "Name: count, dtype: int64"
      ]
     },
     "execution_count": 170,
     "metadata": {},
     "output_type": "execute_result"
    }
   ],
   "source": [
    "HeadQuarter_counts = data['HeadQuarter'].value_counts()\n",
    "\n",
    "HeadQuarter_counts.head()"
   ]
  },
  {
   "cell_type": "code",
   "execution_count": 171,
   "metadata": {},
   "outputs": [
    {
     "data": {
      "text/plain": [
       "Founders\n",
       "Falguni Nayar                                                6\n",
       "Byju Raveendran                                              6\n",
       "Mukesh Ambani                                                4\n",
       "Saurabh Saxena, Pulkit Jain, Anand Prakash, Vamsi Krishna    4\n",
       "Sreevathsa Prabhakar                                         4\n",
       "Name: count, dtype: int64"
      ]
     },
     "execution_count": 171,
     "metadata": {},
     "output_type": "execute_result"
    }
   ],
   "source": [
    "Founders_counts = data['Founders'].value_counts()\n",
    "\n",
    "Founders_counts.head()"
   ]
  },
  {
   "cell_type": "code",
   "execution_count": 172,
   "metadata": {},
   "outputs": [
    {
     "data": {
      "text/plain": [
       "Investor\n",
       "Venture Catalysts            20\n",
       "Angel investors              12\n",
       "Mumbai Angels Network        12\n",
       "Inflection Point Ventures    11\n",
       "Undisclosed                  10\n",
       "Name: count, dtype: int64"
      ]
     },
     "execution_count": 172,
     "metadata": {},
     "output_type": "execute_result"
    }
   ],
   "source": [
    "Investor_counts = data['Investor'].value_counts()\n",
    "\n",
    "Investor_counts.head()"
   ]
  },
  {
   "cell_type": "code",
   "execution_count": 173,
   "metadata": {},
   "outputs": [
    {
     "data": {
      "text/plain": [
       "array(['AgriTech', 'EdTech', 'Hygiene management', 'Escrow',\n",
       "       'Networking platform', 'FinTech', 'Crowdsourcing',\n",
       "       'Food & Bevarages', 'HealthTech', 'Fashion startup',\n",
       "       'Food Industry', 'Food Delivery', 'Virtual auditing startup',\n",
       "       'E-commerce', 'Gaming', 'Work fulfillment', 'AI startup',\n",
       "       'Telecommunication', 'Logistics', 'Tech Startup', 'Sports',\n",
       "       'Retail', 'Medtech', 'Tyre management', 'Cloud company',\n",
       "       'Software company', 'Venture capitalist', 'Renewable player',\n",
       "       'IoT startup', 'SaaS startup', 'Aero company', 'Marketing company',\n",
       "       'Retail startup', 'Co-working Startup', 'Finance company',\n",
       "       'Tech company', 'Solar Monitoring Company',\n",
       "       'Video sharing platform', 'Gaming startup',\n",
       "       'Video streaming platform', 'Consumer appliances',\n",
       "       'Blockchain startup', 'Conversational AI platform', 'Real Estate',\n",
       "       'SaaS platform', 'AI platform', 'Fusion beverages', 'HR Tech',\n",
       "       'Job portal', 'Hospitality', 'Digital Media', 'Dairy startup',\n",
       "       'Content management', 'Spacetech', 'Transportation',\n",
       "       'Trading platform', 'AI Company', 'Photonics startup',\n",
       "       'Entertainment', 'Cosmetics', 'Scanning app', 'Skincare startup',\n",
       "       'Food and Beverages', 'Biotechnology company', 'FoodTech',\n",
       "       'Proptech', 'CleanTech', 'Fitness startup', 'Healthcare',\n",
       "       'PaaS startup', 'Beverages', 'Social Media', 'Automobiles',\n",
       "       'Deeptech', 'EV startup', 'AR/VR startup', 'Recruitment startup',\n",
       "       'QSR startup', 'Video platform', 'Edtech', 'Fertility tech',\n",
       "       'Luxury car startup', 'FM', 'Food', 'Nutrition sector',\n",
       "       'Tech platform', 'Video', 'Retail Tech', 'HeathTech',\n",
       "       'Sles and marketing', 'LegalTech', 'Car Service',\n",
       "       'Bike marketplace', 'Agri tech', 'Reatil startup', 'AR platform',\n",
       "       'Consumer Goods', 'Content marketplace', 'Interior Design',\n",
       "       'Rental space', 'Soil-Tech', 'Ayurveda tech',\n",
       "       'Packaging solution startup', 'Cleantech', 'Sanitation solutions',\n",
       "       'HealthCare', 'Home Design', 'InsureTech', 'AI Startup',\n",
       "       'Solar solution', 'Jewellery startup',\n",
       "       'Multinational conglomerate company', 'Deeptech startup',\n",
       "       'Social Network', 'Publication', 'Tech', 'Fashion', 'Finance',\n",
       "       'Venture capital', 'Entreprenurship', 'Food devlivery',\n",
       "       'Warehouse', 'Online financial service', 'Eyeglasses',\n",
       "       'Battery design', 'Online credit management startup', 'Beverage',\n",
       "       'TravelTech', 'Agriculture', 'Startup laboratory',\n",
       "       'Personal care startup', 'Customer service company',\n",
       "       'SaaS\\xa0\\xa0startup', 'Marketing startup', 'Service industry',\n",
       "       'Social media', 'AI', 'Jewellery', 'AR startup', 'HR Tech startup',\n",
       "       'Automotive Startup', 'Food Startup', 'EdTech Startup',\n",
       "       'Car Trade', 'EdtTech', 'Manufacturing', 'AI Platform',\n",
       "       'Automation', 'Solar SaaS', 'WL & RAC protection',\n",
       "       'Social commerce', 'Home interior services', 'Agritech startup',\n",
       "       'API platform', 'Deep Tech', 'Electricity', 'Automotive company',\n",
       "       'FMCG', 'Insurance Tech', 'Video personalization',\n",
       "       'Software Company', 'Biomaterial startup', 'Health', 'IT',\n",
       "       'Craft Beer', 'Healthtech', 'Education', 'Investment',\n",
       "       'Linguistic Spiritual', 'Construction', 'Battery manufacturer',\n",
       "       'Nano Distribution Network', 'AI health', 'Dating app', 'Media',\n",
       "       'Fintech', 'Healthcare/Edtech', 'Social Commerce',\n",
       "       'Agritech/Commerce', 'Mobility tech', 'Social e-commerce',\n",
       "       'Food & Logistics', 'SpaceTech', 'Nutrition Tech', 'HR', 'IoT',\n",
       "       None, 'Agritech', 'Interior design', 'Foodtech', 'AR/VR',\n",
       "       'Appliance', 'HR tech', 'Food tech', 'Mental Health', 'Ecommerce',\n",
       "       'Solar Solution', 'SaaS', 'Automobile', 'B2B marketplace',\n",
       "       'Fashion Tech', 'Nutrition tech', 'Health & Wellness',\n",
       "       'Cloud Kitchen', 'IoT/Automobile', 'Eye Wear', 'Digital tech',\n",
       "       'Data Intelligence', 'Co-living', 'Food & Beverages', 'Automotive',\n",
       "       'B2B', 'Defense tech', 'Marketplace', 'Construction tech',\n",
       "       'Nutrition', 'Coworking', 'Micro-mobiity', 'Auto-tech', 'Beauty',\n",
       "       'Robotics', 'Yoga & wellness', 'Logitech', 'Med Tech',\n",
       "       'Life sciences', 'Retail Aggregator', 'Deep Tech AI', 'Biotech',\n",
       "       'Blockchain', 'HrTech', 'Mobility/Transport', 'Travel', 'Rental',\n",
       "       'AI & Debt', 'SaaS/Edtech', 'Transport', 'Co-working', 'Insurtech',\n",
       "       'Cryptocurrency', 'Automotive tech', 'Legal', 'Fitness', 'EV',\n",
       "       'Supply chain, Agritech', 'Pharma', 'Insurance technology',\n",
       "       'Foodtech & Logistics', 'Housing', 'Pharmaceutical',\n",
       "       'Data Analytics', 'Investment Tech', 'Financial Services',\n",
       "       'Biopharma', 'Dairy', 'Beauty & wellness', 'Travel & SaaS',\n",
       "       'Tourism & EV', 'Media Tech', 'Location Analytics', 'E store',\n",
       "       'Data Science', 'Insurance', 'Health and Fitness', 'Technology',\n",
       "       'Interior & decor', 'eMobility', 'Automation tech',\n",
       "       'Media & Networking', 'E-market', 'AI & Data science',\n",
       "       'Travel tech', 'Automotive and Rentals', 'E-tail', 'Accomodation',\n",
       "       'AI & Media', 'Machine Learning', 'Content Marktplace',\n",
       "       'Visual Media', 'Hygiene', 'VR & SaaS', 'Sales & Services',\n",
       "       'AI & Deep learning', 'Housing & Rentals', 'Estore', 'Marketing',\n",
       "       'E tailor', 'E-mobility', 'Ad-tech', 'Neo-banking',\n",
       "       'Transport Automation', 'Techonology', 'Transport & Rentals',\n",
       "       'AI Robotics', 'Preschool Daycare', 'Food diet', 'B2B Agritech',\n",
       "       'E-connect', 'Tech hub', 'Consultancy', 'Pharmacy', 'Deisgning',\n",
       "       'Taxation', 'Automobile Technology'], dtype=object)"
      ]
     },
     "execution_count": 173,
     "metadata": {},
     "output_type": "execute_result"
    }
   ],
   "source": [
    "data['Sector'].unique()"
   ]
  },
  {
   "cell_type": "markdown",
   "metadata": {},
   "source": [
    " Sector column has lots of spelling errors and simmilar sector values placed differently eg  AI/ AI Company,  AI Platform/ AI platform, AI Startup/AI startup ,  Agri tech/AgriTech/ Agritech. We will convert all values to lower case for easier merging then map like values in a standard sictionary then convert them back to upper case                                    "
   ]
  },
  {
   "cell_type": "code",
   "execution_count": 174,
   "metadata": {},
   "outputs": [
    {
     "data": {
      "text/plain": [
       "Sector\n",
       "Fintech       80\n",
       "Edtech        67\n",
       "FinTech       51\n",
       "EdTech        40\n",
       "E-commerce    33\n",
       "Healthtech    28\n",
       "SaaS          24\n",
       "Ecommerce     22\n",
       "AgriTech      19\n",
       "Agritech      19\n",
       "Name: count, dtype: int64"
      ]
     },
     "execution_count": 174,
     "metadata": {},
     "output_type": "execute_result"
    }
   ],
   "source": [
    "Sector_counts = data['Sector'].value_counts()\n",
    "\n",
    "Sector_counts.head(10)"
   ]
  },
  {
   "cell_type": "code",
   "execution_count": 175,
   "metadata": {},
   "outputs": [
    {
     "data": {
      "text/plain": [
       "Sector\n",
       "EV                     1\n",
       "EV startup             3\n",
       "Ecommerce             22\n",
       "EdTech                40\n",
       "EdTech Startup         4\n",
       "                      ..\n",
       "Marketing startup      1\n",
       "Marketplace            5\n",
       "Med Tech               1\n",
       "Media                 19\n",
       "Media & Networking     1\n",
       "Name: count, Length: 100, dtype: int64"
      ]
     },
     "execution_count": 175,
     "metadata": {},
     "output_type": "execute_result"
    }
   ],
   "source": [
    "# Get the value counts in Sector column sorted alphabetically\n",
    "Sector_counts = data['Sector'].value_counts().sort_index()\n",
    "\n",
    "Sector_counts[100:200]"
   ]
  },
  {
   "cell_type": "code",
   "execution_count": 176,
   "metadata": {},
   "outputs": [
    {
     "data": {
      "text/plain": [
       "array(['Prasanna Manogaran, Bharani C L',\n",
       "       'Saurabh Dixit, Gurudutt Upadhyay', 'Ajinkya Dhariya',\n",
       "       'Ritesh Tiwari',\n",
       "       'Ashish Rajan Singh, Harshit Gupta, Nishant Mahatre, Tauseef Khan',\n",
       "       'Rubal Chib, Dr Srishti Batra', 'Ajay Sakhamuri',\n",
       "       'Shawrya Mehrotra', 'Amar Prabhu, Ashwin Soni, Sumit Maniyar',\n",
       "       'Aditya Shirole, Sahil Sharma', 'Meghana Narayan',\n",
       "       'Arjun Kumar, Arun Kumar, Sidharth Gurjar', 'Gayatri Jolly',\n",
       "       'Ankur Jain', 'Akil Sethuraman, Anup Gopinath, Rachna Rao',\n",
       "       'Deepinder Goyal, Gaurav Gupta, Pankaj Chaddah',\n",
       "       'Miran Junaidi, Saurabh Ghanekar, Sourav Sanyal',\n",
       "       'Gautam Kapoor, Saahil Goel, Vishesh Khurana', 'Amrish Rau',\n",
       "       'Prashant Agarwal', 'Parth Chadha, Rahul Singh',\n",
       "       'Vikrant Varshney', 'Sujit Bangar',\n",
       "       'Annanya Sarthak, Gurpreet Singh, Praveen Sah', 'Karanpal Singh',\n",
       "       'Neeraj Khandelwal, Sumit Gupta', 'Naveen Tewari',\n",
       "       'Virendra Gupta', 'Priyam Saraswat',\n",
       "       'Kapil Bharati, Mohit Tandon, Sahil Barua, Suraj Saharan',\n",
       "       'Chattanathan Devarajan, Prasanna Rao, Anand Chandra',\n",
       "       'Ankit Kaushik, Gaurav Mangla, Rhitiman Majumder',\n",
       "       'Burzin Engineer, Rahul Chari, Sameer Nigam', 'Nirmal Shah',\n",
       "       'Chetan Indap, Sunny Sharma, Deepanti Kavi', 'Suhail Narain',\n",
       "       'Ronak Sarda', 'Vinayak, Kshitij Abhishek, Apoorv Sadana',\n",
       "       'Ankit Garg, Chaitanya Ramalingegowda', 'Dr Prashant Soma',\n",
       "       'Tikam Jain', 'Sundeep Mohindru', 'Shivakumar Ganesan',\n",
       "       'Adarsh Kumar, Rupesh Mishra', 'Mihir Jha', 'Shivanand N',\n",
       "       'Anand Dalmia, Ramganesh Iyer, Subramanya S.V., Subramanya Venkat',\n",
       "       'Anoop Gautam', 'Raunak Bhinge', 'Ajay Tiwari, Sainadh Duvvuru',\n",
       "       'Mayank Kale, Ryan Singh',\n",
       "       'Anurag Meena, Nikunj Malpani, Pratik Lodha',\n",
       "       'Satya Chakravarthy, Pranjal Mehta',\n",
       "       'Divyanshu Damani, Mohammad Hasan',\n",
       "       'Charak Almast, Aastha Almast, Mani Dev Gyawali',\n",
       "       'Bipin Singh, Upasana Taku', 'Sumit Sanjay Singare',\n",
       "       'Monnappa Bayavanda, Prashant Reddy, Ravindra M.K, Ravindra M.K., Shesh Paplikar, Shesh Paplikar, Sridhar Venkataraman',\n",
       "       'Deepak Garg, Gazal Kalra', 'KSHITIJ Puri, Shalabh Singhal',\n",
       "       'Vivek Iyer', 'Manjunatha T N, Shilpa Gopalaiah', 'Layak Singh',\n",
       "       'Puneet Singh Jaggi, Sanjay Bhasin, Ram Menon', 'Nandini Sankar',\n",
       "       'Tanmai Paul, Varun Saxena',\n",
       "       'Abhas Saroha, Oliver Jones, Oliver Jones', 'Shan Kadavil',\n",
       "       'Shivam Varshney, Alok Chawla', 'Manoj Meena, Sibabrata Das',\n",
       "       'Sankar Bora, Sourjyendu Medda, Vineet Rao',\n",
       "       'Anugrah Shrivastava, Rohan Gupta, Vasanth Kamath', 'Manan Khurma',\n",
       "       'Soham Thacker, Valay Patel, Varun Gajjar', 'Kalyan Sivasailam',\n",
       "       'Harsh Rajat, Richa Joshi',\n",
       "       'Biplab Chakraborty, Sandipan Chattopadhyay, Sandipan Mandal, Tapan Barman',\n",
       "       'Palani Rajan', 'Karthik Jayaraman, Sanjay Dasari',\n",
       "       'Aaditya Sharda, Souvik Sengupta', 'Sanjeev Bikhchandani',\n",
       "       'Neha Kant, Pankaj Vermani', 'Satyam Baranwal, Vivek Prakash',\n",
       "       'Kunal Shah', 'Brahmanad, Ramakrishna Nishtala',\n",
       "       'Nitesh Agrawal, Om Prakash', 'Rohit Pande, Shikhar Sachan',\n",
       "       'Prabhat Sahu', 'Ankit Ratan, Ankur Pandey, Arpit Ratan',\n",
       "       'Amit Shrivastava, Sumeet Verma', 'Bhavik Rathod, Tripti Ahuja',\n",
       "       'Vikas Chawla, Abhay Parnerkar, Satyajit Ram', 'Rahul Veerwal',\n",
       "       'Sai Srinivas Kiran G, Shubham Malhotra', 'Sonu Sood',\n",
       "       'NAVEED AHAMED, SYED SAQQA ABBAS', 'Darshan Shah, Soniya Kundnani',\n",
       "       'Akash Sinha, Reeju Datta',\n",
       "       'Anand Agrawal, Mayank Khera, Rishabh Goel',\n",
       "       'Devashish Fuloria, Tusheet Shrivastava, Ankita Thakur',\n",
       "       'Chakradhar Gade, Nitin Kaushal', 'Chirdeep Shetty',\n",
       "       'Mehul Agrawal, Ruchit Agarwal, Vikram Chopra', None,\n",
       "       'Divij Bajaj',\n",
       "       'Advaith Vishwanath, Ankit Agrawal, Jerin Venad, Rushabh Shah, Sankalp Kelshikar, Subhash Sundaravadivelu',\n",
       "       'Pushpak Dagade, Jimmit Patel and Suraj Bathija', 'Rajith Nair',\n",
       "       'Amit, Rohit Sadhu, and Vikas Ranga',\n",
       "       'Dhruv Agrawal, Himanshu Gupta, Soham Chokshi', 'Rushabh Mehta',\n",
       "       'Rohin Y, PV Ramana', 'Nikhil Aggarwal, Vivek Gulati',\n",
       "       'Gaurav Munjal, Hemesh Singh, Roman Saini, Sachin Gupta',\n",
       "       'Arpit Mittal, Anshul Gupta', 'Abhishek Poddar, Saurabh Arora',\n",
       "       'Shashank Vaishnav, Vinay Singhal, Parveen Singhal',\n",
       "       'Falguni Nayar', 'Snehanshu Gandhi, Gaurav Shrishrimal',\n",
       "       'Rohit Sen, Nupur Gupta', 'Aditya Sharma, Jayesh Hans',\n",
       "       'Byju Raveendran, Divya Gokulnath', 'Anurag Saboo, Gaurav Pushkar',\n",
       "       'Govind Balachandran, Zakir Wahab, Piyush Arora',\n",
       "       'Gowtham Sundaresan, Azan Barodawala', 'Nikhil Bohra',\n",
       "       'Sharmin Ali, Sutanshu Raj', 'Yogesh, Mitesh Gangar',\n",
       "       'Aditya Sengupta, Akash Gehani, Harshad Sharma, Sampad Swain',\n",
       "       'Anand Prabhudesai, Dhirendra Mahyavanshi, Kunal Shah',\n",
       "       'Dhruv Madhok, Dhruv Bhasin', 'Cheolwon Lee, Jay Yi, Martin Lee',\n",
       "       'Dhruv Dewan, Krishi Fagwani', 'Lakshay Jain', 'Nived Narayanan',\n",
       "       'Sandeep Patel', 'Tanmaya Jain', 'Ashwin Lal',\n",
       "       'Khushnud Khan, Rishi Raj Rathore',\n",
       "       'Deepak Diwakar, Krishna Depura, Mohit Garg, Nishant Mungali',\n",
       "       'Deepak Malhotra, Rajan Bajaj',\n",
       "       'Kashif Mohammad, Aravind Maddireddy', 'Ashish Rawat',\n",
       "       'Shrishti, Prithika', 'Ishpreet Gandhi', 'Ankur Bansal',\n",
       "       'Kiran Mazumdar-Shaw',\n",
       "       'Abhishek Doshi, Anupama Panchal, Shashwat Bhatt, Yash Shah',\n",
       "       'Amitava Saha, Supam Maheshwari', 'Amit Kumar, Gunjeet Singh',\n",
       "       'Ashraf Biran, Gulshan Bakhtiani, Mohan Chavan',\n",
       "       'Param Singh, Aashna Singh, Abhijeet Mittal, Jitesh Arora',\n",
       "       'Gunjan Kejriwal, Utsav Tiwary',\n",
       "       'Vinamra Pandiya, Mayank Gupta, Joji George',\n",
       "       'Pallav Pandey, Ankur Pandey, Siddharth Singh', 'Anup Kumar',\n",
       "       'Punweet Singh, Shuchir Suri', 'Sujay Santra',\n",
       "       'Mikhil Raj, Shubhadit Sharma, Ishaan Preet Singh',\n",
       "       'Mukesh Ambani', 'Saurabh Uttam, Ravi Singhal',\n",
       "       'Arun Vinayak, Swapnil Jain, Tarun Mehta',\n",
       "       'Sriram Kannan, Surajit Das', 'Rakesh Malhotra', 'Anjana Reddy',\n",
       "       'Vivek Bhutyani',\n",
       "       'Abhishek Negi, Aditya Singh, Pankaj Pandey, Uttam Kumar',\n",
       "       'Gireesh Rajendran, Ashish Lachhwani, Apu Sivadas, Rakesh Kumar and Alok Joshi',\n",
       "       'Kartikey Hariyani, Pavan Bakeri', 'Kavish Gadia, Nikhil Saraf',\n",
       "       'David Stavens, Mike Sokolsky, Sebastian Thrun',\n",
       "       'Abhijit Patil, Abhishek Tomar, Pankaj Raut',\n",
       "       'Ajay Nain, Prateek Chaturvedi', 'Abhishek Kabra, Aman Gour',\n",
       "       'Altaf Saiyed, Saloni Anand',\n",
       "       'Anurag Mehrotra, Krishnakant Thakur, Mohammed Bhol, Gautam Singh',\n",
       "       'Shivank Agarwal, Anish Khandelwal', 'Sahil Jatana',\n",
       "       'Ajay Kumar, Murari Singh', 'Jatin Solanki',\n",
       "       'Adit Jain, Anand Prajapati, Mayank Goyal',\n",
       "       'HS Srinivasan, Krishnan Rajan, E.V. Shunmugam',\n",
       "       'Saurabh Gupta, Siddharth Swarnkar',\n",
       "       'Arun Mallavarapu, Prasanth Madavana',\n",
       "       'Adarsh Manpuria, Vaibhav Aggarwal', 'Chandrakanta, Rajendra Lora',\n",
       "       'Abhishek Kothari, Deepak Jain, Manish Lunia, Ritesh Jain',\n",
       "       'Nilay Pandey, Saurav Singh, Vivek Kumar',\n",
       "       'Siddharth Dialani, Sai Gole', 'Nirav Choksi',\n",
       "       'Rohan Dedhia, Vaibhav Saraf, Hrishabh Sanghvi',\n",
       "       'Mohit Sahney, Sunita Sahney',\n",
       "       'Mihir, Payoj Jain, Divyansh Bordia, Anshuman Kumar',\n",
       "       'Sachin Chhabra, Nidhi Ramachandran', 'Nilay Mehrotra',\n",
       "       'Aneesh Mathur', 'Aanan Khurma, Aditya Seth, Ripunjay Chachan',\n",
       "       'Ashish Jhina, Karthik Venkateswaran',\n",
       "       'Paavan Nanda, Saumya Singh Rathore',\n",
       "       'Tarun Sharma, Vikas Lachhwani', 'Rohan Nayak',\n",
       "       'Sagar Bhalotia, Anish Basu Roy', 'Advitiya Sharma, Gaurav Lahoti',\n",
       "       'Sunoor Kaul,',\n",
       "       'Amit Srivastava, Bhavik Vasa, Sachin Tagra, Sachin Tagra',\n",
       "       'Saurabh Tandan, Pravin Agarwala', 'Talha Shaikh',\n",
       "       'Harsh Vakharia, Pankit Chheda, Sanket Shah',\n",
       "       'Mayank Agarwal, Vaibhav Jain', 'Atul Monga', 'Meena Sankaran',\n",
       "       'Kasuhik Mukherjee, Vineeta Singh', 'Gomathi S, Dr Balaji Sampath',\n",
       "       'Guru Sankararaman, Jay Vijayan', 'David guerin',\n",
       "       'Amit mandahar, Chaitali roy', 'Anjan Panneer Selvam',\n",
       "       'Narayan Subramaniam, Niraj Rajmohan',\n",
       "       'Akshay Saini, Rahul Saini, Pranav Chabhadia',\n",
       "       'Ranodeep Saha, Vijay Kumar', 'Charles Creighton', 'Siraj Dhanani',\n",
       "       'Chris Sampson, Marcel Herz, Martin Karafilis',\n",
       "       'Deepak Anchala, Rahul Bhattacharya, Ranjana TN', 'Manish Kaul',\n",
       "       'Priya Goel Sheth, Harsh Jain',\n",
       "       'Abhishek Verma, Harshit Mittal, Kumar Kushang, Nitin Prakash',\n",
       "       'Pankaj Sharma',\n",
       "       'Afeef Zaman, Ataur Rahim Chowdhury, Siffat Sarwar',\n",
       "       'M R Srinivas', 'Subhash Choudhary, Suumit Shah',\n",
       "       'Nikhil Jain, Nittin Mittal, Sumit Chhazed',\n",
       "       'Sat Tomer, Yukti Gill', 'Arun Sreyas, Gautham Maheswaran',\n",
       "       'Dinesh Godara',\n",
       "       'Aayushi Khandelwal, Akhil Kansal, Kuldeep Parewa',\n",
       "       'Amit Dutta, Ashok Mittal',\n",
       "       'Abhay Jeet Gupta, Parveen Kataria, Udbhav Rai, Vineet Sharma, Vishal Mishra',\n",
       "       'Supratik Ghatak', 'Surender Gounder', 'Gaurav Baid',\n",
       "       'Denis Sverdlov', 'Angus McDonald, Chris Bayley',\n",
       "       \"Andrea Boeri, Braghin Francesco, Giovanni Capellari, Luca D'Alessandro, Stefano Caverni\",\n",
       "       'Tushar Bhargava, Anshul Gupta',\n",
       "       'Alex Kostecki, Erich Nussbaumer, Nico Simko', 'Arjun Balaji',\n",
       "       'Chintan Raikar, Prashant Iyengar, Sneh Vaswani',\n",
       "       'Harshil Mathur, Shashank Kumar',\n",
       "       'Ashutosh Vikram, Kartheeswaran K K, Sharath Loganathan, Thiru Nagarajan, Thirukumaran Nagarajan, Vasu Devan',\n",
       "       'Binod Kumar Homagai, Sagar Daryani, Shah Miftaur Rahman',\n",
       "       'Anirudh Singla, Rishabh Shekhar',\n",
       "       'Anuj Srivastava, Ramakant Sharma, Shagufta Anurag',\n",
       "       'HariPrasath M., Rupam Das',\n",
       "       'Alessandro Traverso, Birger Lie, Harald Jellum, Matteo Berlucchi',\n",
       "       'Jean Pierre Nozieres', 'Amit Sinha, Ashok Prasad',\n",
       "       'Kuljit Chadha, Subramanian Viswanathan', 'Nitin Gupta',\n",
       "       'Hirak Joshi, Aalesh Avlani',\n",
       "       'KP Saravanan, Krish Subramanian, Rajaraman Santhanam, Thiyagarajan T',\n",
       "       'Ashwini Purohit, MS Chouhan',\n",
       "       'Arun George, Nikhil NP, Rashid Bin Abdulla, Vimal Govind MK',\n",
       "       'Maya Lakshman', 'Kishor Kumar Jha, Praveen Kumar',\n",
       "       'Sandeep Kondaji, Vishnuprasada Bhat, Anand Bellan Raman',\n",
       "       'Nagmanjunath Shivakumar, Savio Sebastian', 'Anurag Bist',\n",
       "       'Abhinand Kaseti, Harish B V, Sathvik Vishwanath, Sunny Ray',\n",
       "       'Andrew Linfoot, Ayush Jaiswal', 'Ram N Kumar', 'Vaibhav Anant',\n",
       "       'Kabandi Saika, Manik Mehta', 'Vinayak Seth',\n",
       "       'Kadam Jeet Jain, Rahul Chaudhary, Sidharth Gupta',\n",
       "       'Mainak, Sreekrishna', 'Azhar Iqubal', 'CA Abhinit Singh',\n",
       "       'Bharat Gupta, Pritesh Kumar',\n",
       "       'Simar Kohli, Tharun Kumar, Praseed KK',\n",
       "       'Ariel Assaraf, Guy Kroupp, Lior Redlus, Yoni Farin',\n",
       "       'Johnson Fernandes, Ravneet Kaur', 'Yi Zhang', 'Anu Meena',\n",
       "       'Ashwin Srivastava, Hardik Somani', 'Lu Zhao', 'Amit Gainda',\n",
       "       'Rahul Gupta, Swati Gupta', 'Rahul Anand',\n",
       "       'Harsimarbir (Harsh) Singh',\n",
       "       'Dinesh Pratap, Lokendra Ranawat, Vikas Baheti, Virendra Ranawat',\n",
       "       'Ruchi Deepak, Varun Dua', 'Pradeep PS',\n",
       "       'Balaji Viswanathan, Bharat Kumar, Mahalakshmi Radhakrishnan',\n",
       "       'Lovepreet Mann, Nikhil Kumar, Parul Jain',\n",
       "       'Suhail Chandhok, Arvind Sivdas, Dhanya Param',\n",
       "       'Benoit Dageville, Bob Muglia, Marcin Zukowski, Thierry Cruanes',\n",
       "       'Santosh Kataria, Ankit Kimtee, Vivek Jain',\n",
       "       'Bhaswat Agarwal, Bikash Dash, Mukul Rustagi, Vatsal Rustagi',\n",
       "       'Saif Dhorajiwala, Vikas saluguti, Vivek Subramanian',\n",
       "       'Binny Bansal, Sachin Bansal',\n",
       "       'Aniket Deshpande, Gaurav Kumar, Irfan Mohammed, Soumendra Ghosh, Vineet Sukumar',\n",
       "       'Ankit Agrawal', 'Afsal Salu, Fayaz Bin Abdu, Soudabi',\n",
       "       'Byju Raveendran', 'Krishna Kumar, Saroja Yeramilli',\n",
       "       'Dhirubhai Ambani',\n",
       "       'Parampara Capital, Venkat Vallabhaneni, Jatin Desai',\n",
       "       'Tuhin Bhowmick', 'Deepshikha Kumar', 'Suhas raikar',\n",
       "       'Bhavit Sheth, Harsh Jain', 'Govind Balachandran', 'Rajan Navani',\n",
       "       'Arun Kumar Sureban', 'Gaurav Parchani',\n",
       "       'Jaydeep Barman, Kallol Banerjee', 'Varun Sheth, Kunal Kapoor',\n",
       "       'R. Baskar Babu', 'Gaurav Munjal, ?Roman Saini?',\n",
       "       'Lodha, Priyanka Rathore', 'Pranav Pai, Siddarth Pai',\n",
       "       'Deepthi Ravula', 'Deepinder Goyal, Pankaj Chaddah',\n",
       "       'Abhishek Satish, Adarsh Warrier', 'Pawan Agarwal',\n",
       "       'Rohtash Mal CMD, Adwitiya', 'Shankar Prasad',\n",
       "       'Vijay Anand Bhagavatula',\n",
       "       'Ananda Prakash Verma, Shailendra Tiwari',\n",
       "       'Saswat Sahu, Rishi Raj',\n",
       "       'Adhil Shetty, Arjun Shetty, Rati Shetty', 'Pratik Shah',\n",
       "       'Nikhilesh Mishra, Puneet Jain',\n",
       "       'Ranjit Punja, R Sudarshan, Gowri Mukherjee', 'Vidur Maheswari',\n",
       "       'Ishan Sharma, Rishikesh Kumar', 'Shubham Gupta, Suresh Singh',\n",
       "       'Sachin Ravi, Raghav Chakravarthy', 'Mihir Mohan Mishra',\n",
       "       'Ashwin Kumar, Shoaib Mohammed',\n",
       "       'Damien Toledo, Jim Bugwadia, Ritesh Patel', 'Anmol Singh Jaggi',\n",
       "       'Dhruv Sawhney, Vivek Sahi, Sunny Bagla',\n",
       "       'Apurv Agrawal, Kanika Jain, Rishabh Ladha, Vikas Gulati',\n",
       "       'Debi Prasad Baral, Naveesh Reddy, Rohit Gajbhiye, Sunit Gajbhiye',\n",
       "       'Amit Sethi, Mandeep Manocha, Nakul Kumar', 'Deepak MV',\n",
       "       'Shailendra Dhakad, Rupika Taneja',\n",
       "       'Aanand Srinivas, Avinash Anand, Shankar Ram A',\n",
       "       'Ashish Munjal, Piyush Nangru',\n",
       "       'Anand Prabhu Subramanian, Vijay Gabale',\n",
       "       'Vaibhav Kapoor, Pulkit Kapoor', 'Anil Kumar',\n",
       "       'Dr Milind Choudhari, Dr Prasad Bhagat, and Dr Anupama',\n",
       "       'Mario Suntanu', 'Manoj Pillai', 'Somdutta Singh', 'Rahul Darda',\n",
       "       'Nishant Patel', 'Erez Galonska, Guy Galonska, Osnat Michaeli',\n",
       "       'Vijay Narasiman', 'Shrirang Tambe', 'Shirish Deodhar',\n",
       "       'Harish Mamtani', 'Shubham Malhotra, Sai Srinivas',\n",
       "       'Iyad Aldalooj, Majid Aldalooj, Mohammed Ibrahim', 'Kunal Mahipal',\n",
       "       'Bharath Rao',\n",
       "       'Abhishek Mishra, Kush Agarwal, Lav Agarwal, Stella Hu',\n",
       "       'Kunal Kishore Sinha, Sagar Pushp', 'Sreevathsa Prabhakar',\n",
       "       'Ankush Sachdeva, Bhanu Pratap Singh, Bhanu Singh, Farid Ahsan',\n",
       "       'Ashray Malhotra, Nisheeth Lahoti, Shivam Mangla',\n",
       "       'Saroja Yeramilli, R Krishnakumar',\n",
       "       'Chandranshu Sinha, Kartik Sheth', 'Shah, Abhay Bhat',\n",
       "       'Ajay Kadyan, Kumar Mayank', 'Tarun Lawadia, Sameer Kalra',\n",
       "       'Kabir Bose', 'Malika Datt Sadani, Mohit Sadaani', 'Ji Cheol Ryu',\n",
       "       'Anurag Sinha, Rupesh Kumar, Vibhav Hathi',\n",
       "       'Jitendra Chouksey, Sonal Singh, Jyoti Dabas, Bala Krishna Reddy, Rohit Chattopadhyay.',\n",
       "       'Akash Deep Singhal, Akshaya Singhal, Devashish Saxena, Gauri Dehnkar',\n",
       "       'Rohan Bhargava, Swati Bhargava',\n",
       "       'Nishant Chandra, Siddharth Maheshwari',\n",
       "       'Lalit Mangal, Manoj Singh, Vinay Kumar Jasti',\n",
       "       'Akash Singh, Sharath Keshava Narayana, Swapnil Jain',\n",
       "       'Bhupinder Singh', 'Zishaan Hayath, Hemanth Goteti',\n",
       "       'Vinay Sanghi', 'Sumeet Mehta, Smita Deorah', 'Sahil Sheth',\n",
       "       'Nirmit Parikh', 'Amit Rathore',\n",
       "       'Kabeer Biswas, Ankur Agarwal, Dalvir Suri, Mukund Jha',\n",
       "       'Ranjan Kumar', 'Anuj Srivastava, Ramakant Sharma',\n",
       "       'Swarup Mavanoor, Rahul Sankhe', 'Saurabh Pandey, Akshay Dubey',\n",
       "       'Vivek Rajkumar',\n",
       "       'Sonal Dandotia, Shantanu S, Virendra Chouhan, Vaibhav Tiwari',\n",
       "       'Rama Harinath, Srikanth Iyer', 'Darpan Sanghvi', 'Kajal Ilmi',\n",
       "       'Arunprasad Durairaj, Vijaybabu Gandhi, Shreenidhi Srirangam',\n",
       "       'Madhusudanan R, Prabhu R',\n",
       "       'Dr. R. Shivaraman, Praveen Dwarakanath', 'Arun Prakash',\n",
       "       'Anmol Singh Jaggi, Punit K Goyal',\n",
       "       'Nakul Kukar, Paras Kaushal, Supratim Naskar',\n",
       "       'Sai Srinivas Kiran Garimella, Shubham Malhotra',\n",
       "       'Kishan Vasani, Sai Sreenivas Kodur', 'Amit Dhakad, Hiral Jain',\n",
       "       'Lalit Keshre, Harsh Jain, Neeraj Singh, Ishan Bansal',\n",
       "       'Dr Mallesh Bommanahal, Varzavand Batliwala',\n",
       "       'Pratik Agarwal, Raj Desai, Varsha Bhambhani', 'Amit Agrawal',\n",
       "       'Karthi Mariappan', 'Tanmai Gopal, Rajoshi Ghosh',\n",
       "       'Ravi Ravulaparthi, Lakshman Gupta, Vamsee Mohan', 'Cindy Kua',\n",
       "       'Yashash Agarwal, Gaurav Agarwal', 'Ankit Agarwal',\n",
       "       'Vaishali Kulkarni, Arjun Singh Bajwa',\n",
       "       'Ananth Narayanan, T-ushar Kumar', 'Ashok Hariharan, Vineet Jawa',\n",
       "       'Charlie, Jay, Martin', 'Samarth Agrawal, Rohit Narang',\n",
       "       'Manoj Gupta, Monica Gupta',\n",
       "       'Arpita Kapoor, Mohit Rangaraju, Shilp Gupta',\n",
       "       'Pankaj Chaddah, Staff Pooja Khanna', 'Ishan Sharma, Rishikesh',\n",
       "       'Chaitanya Kalipatnapu, Ashwin Damera', 'Shobhit Bhatnagar',\n",
       "       'Abhishek Goyal, Neha Singh', 'Abhishek Agarwal',\n",
       "       'Pramod Ravindra', 'Saurabh Singh, Rahul Jain, Nagender Sangra',\n",
       "       'Amit Singh, Deepanshu Malviya', 'Aniket Shinde, Hardik Gondaliya',\n",
       "       'Sarvesh Shashi',\n",
       "       'Siddharth Das, Dr Rahul Dave, Dr Pavlos Protopapas',\n",
       "       'Nakerikanti Harish', 'Peter Barcak',\n",
       "       'Arpit Rajpurohit, Jayesh Rajpurohit',\n",
       "       'Amit Bhardwaj, Nikhil Hegde.',\n",
       "       'Srinivas Madhavam, Srikanth Rajashekhar, Rahul Mehta',\n",
       "       'Sonakshi Nathani, Ashutosh Singla', 'Omer Basith',\n",
       "       'Devansh Jain Nawal, Ackshay Jain', 'Snehil Khanor',\n",
       "       'Nimish Goel, Nevaid Aggarwal, Devender Bindal',\n",
       "       'Ankush Aggarwal, Tushar Mehndiratta', 'Manuraj Jain, Surajit Raj',\n",
       "       'Kunaal Dudeja, Nalin Saluja, Archit Jayaswal',\n",
       "       'Manish Shara, Yash Desai', 'Gaurav Singh', 'Varun Khanna',\n",
       "       'Inderveer Singh', 'Sumeet Yashpal Mehta, Smita Deorah',\n",
       "       'Pulkit Agrawal, Prashant Sachan, Arun Lodhi, Bimal Kartheek Rebba, Nirav Sheth',\n",
       "       'Utham Gowda',\n",
       "       'Mihir Gupta, Payoj Jain, Divyansh Bordia, Anshuman Kumar',\n",
       "       'Kshitij Khandelwal, Awais Ahmed', 'Dhruv Bhushan',\n",
       "       'Rajesh Bernard, Vijay Krishna, Prateek Mehta',\n",
       "       'Ravish Agrawal, Swatantra Kumar, Siddharth Srivastav',\n",
       "       'Sanjeev Nair', 'Smriti Tomar', 'Anurag Sinha',\n",
       "       'Prateek Shukla, Nrupul Dev, Yogesh Bhat',\n",
       "       'Shivank Agarwal, Anish Khandelwal.',\n",
       "       'Prerna Kalra, Vidya Bhushan',\n",
       "       'DVL Padma Priya, Rakesh Kamal, Tarun Nirwan',\n",
       "       'Public banks, Private lenders',\n",
       "       'Kiran Ramakrishna, Subhajit Mukherjee',\n",
       "       'Pranjal Kacholia, Divyansh Mathur', 'Rishab Mehta',\n",
       "       'Sateesh Nukala, SachinNandwana', 'Vineet Toshniwala',\n",
       "       'Srikanth Iyer, Rama Harinath', 'Sandipan Mitra, Uttam Kumar',\n",
       "       'Ananthakrishnan Gopal, Ashok Balasundaram, Sriram P H',\n",
       "       'Varun Chopra, Raheel Shah', 'Kshitj Puri, Shalabh Singhal',\n",
       "       'Rushabh Sheth, Bikram Dahl',\n",
       "       'Abhinav Ayan, Anirban Jyoti Chakravorty, Soumyaranjan Harichandan',\n",
       "       'Biswatma Nayak, Siddharth Gautam', 'Varun Saxena',\n",
       "       'Rajit Bhattacharya, Aisik Paul, Ankit Das',\n",
       "       'Adit Chhabra, Tapan Dixit,Tanay Dixit.',\n",
       "       'Viijender Reddy, Manas Ranjan Hota', 'Tanmaya Jain, Varun Puri',\n",
       "       'Anand Singh, Ankit Vaish', 'Vittal Ramakrishna',\n",
       "       'Jaydeep Barman, Kallol Bannerjee',\n",
       "       'Manish Jethani, Sourabh Agarwal',\n",
       "       'Kapil Mathrani, Rohan Bhatt, Poojan Thakkar', 'Sumit Ghosh',\n",
       "       'Ankush Sachdeva, Bhanu Pratap Singh, Farid Ahsan', 'Dhruvin Shah',\n",
       "       'Dr. Sachin Bhavsar', 'Sumeet Kapur, Ankur Bhatia, Aanchal Kapur',\n",
       "       'Prasanna Kumar, Mahesh Bhat, Rajasekhar, Amith S Mali',\n",
       "       'Karan Khairajani, Surojit Roy', 'Sachin Bhatia, Atit Jain',\n",
       "       'Zishaan Hayath',\n",
       "       'Archana Elapavuluri, Namandeep Bhatia, Siddharth Panjwani',\n",
       "       'K.L.N Sai Prasanth, Yathindra Ajay K.A, K. Prathyusha',\n",
       "       'Vivek Tiwari', 'Bijay Gautam, Souniya Khurana',\n",
       "       'Saif Dhorajiwala', 'Mohammed Hisamuddin', 'Deepak Grover',\n",
       "       'Sudeep Singh', 'Ragini Das, Anand Sinha',\n",
       "       'Tarun Mehta, Swapnil Jain',\n",
       "       'Chirag Mittal, Parag Modi, Anirudh Syal',\n",
       "       'Praneeth Kumar, Shobhit Jain, Mrudhukar Batchu, Kiran Naik',\n",
       "       'Suman Maram, Sudheer Maram',\n",
       "       'Siddharth Vij, Siddharth Rastogi, Shubham Agarwal, Chaitanya Rathi',\n",
       "       'Ashwin Ajila', 'Meghna Saraogi, Akhil Tolani',\n",
       "       'Silky Singh, Alkheya Boora Rpsey', 'Mugdha Pradhan',\n",
       "       'Saurabh Saxena, Pulkit Jain, Anand Prakash, Vamsi Krishna',\n",
       "       'Anshoo Sharma, Brij Bhushan', 'Gaurav Baheti, Sumit Mendiratta',\n",
       "       'Hitesh Ahuja', 'Rathinamurthy R, Sridher Jeyachandran',\n",
       "       'Gotama Gowda', 'Ashish C', 'Nikhil Hegde, Amit Bhardwaj',\n",
       "       'Saurabh Saxena',\n",
       "       'Prateek Garg, Vishva Sharma, Rahul Gupta, Rishabh Nagpal, Ratan Sethi',\n",
       "       'Chaitanya Nallan, Sangram Simha, Veerendra Shivhare',\n",
       "       'Sahil Sharma, Aditya Shirole', 'Manish Tewari',\n",
       "       'Vidur Maheshwari', 'Ashni Sheth, Varun Sheth', 'Vikram Chopra',\n",
       "       'RajanNavani', 'Rushi Shenghani', 'Sanchit Garg, Sanjeev Dadhich',\n",
       "       'Abhilasha, Kshitij Purwar',\n",
       "       'Anuj Bhuria, Himanshu Kumar, Himanshu Meena', 'Rohit Taneja',\n",
       "       'Akhil Sikri, Nikhil Sikri, Sneha Choudhry', 'Ajaitha Shah',\n",
       "       'Sreeshankar S Nair, Romeo P Jerard',\n",
       "       'Vikram Jetley, Sanjay Sharma',\n",
       "       'Neeraj Kakkar, James Nutall, Suhas Misra, Neeraj Biyani',\n",
       "       'Ganesh Raju', 'Anuj Krishnan', 'Ooshma Garg',\n",
       "       'Rohit Grover, Pradeep Thangappan', 'Devang Shah, Gaurang Shah',\n",
       "       'Devesh Trivedi, Sanchit',\n",
       "       'Praveen Dwarkanath, Dr. Shivaraman Ramaswamy',\n",
       "       'Vijay Babu Gandhi, Shreenidhi Srirangam, Arunprasad Durairaj',\n",
       "       'Amrit Acharya, Srinath Ramakkrushnan, Vishal Chaudhary',\n",
       "       'Pavan Adipuram',\n",
       "       'Bhagaban Behera, Sriharsha Shetty, Nakul Kelkar', 'Swapnil Sahu',\n",
       "       'Aniruddh Singh, Riyaz Khan, Sagar Sheth', 'Mayank Yadav',\n",
       "       'Rajat Jadhav, Rahul Krishnan, Harsh Singh, Mohit Yadav',\n",
       "       'Amit Nanwani', 'Shivani Poddar, Tanvi Malik', 'Rajan Bajaj',\n",
       "       'Abhas Saroha, Oliver Jones', 'Aarti Gill, Mihir Gadani',\n",
       "       'Dhruv Agrawal, Faith Jiwakhan',\n",
       "       'Vemuri, Deepak Sharma, Pranay Gupta, Varun Chawla', 'Amit Gupta',\n",
       "       'Anant Goel', 'Hormazd Charna, Manoj Mishra',\n",
       "       'Amit Bhasin, Kushal Karwa, Nitin Rana, Rishabh Karwa',\n",
       "       'Srikumar Misra', 'Prasad Akella',\n",
       "       'Aditya Singhal, Nishant Sinha, Bahul Arora',\n",
       "       'Abhijit Roy, Samir Pratihar',\n",
       "       'Runal Dahiwade, Nityanand Prabhutendolkar, Miraj C. Vora',\n",
       "       'Arjun Ahluwalia, Adriel Maniego', 'Yash Vyas',\n",
       "       'Pushkar Singh, Sudarshan Ravi, Ankit Parasher',\n",
       "       'Niraj Raka, Poonam Gugale, Piyush Raka',\n",
       "       'Pranav Chopra, Neeraj Kumar', 'Dr Janani Venkatraman',\n",
       "       'Ravi Nishant',\n",
       "       'Rohan Mirchandani, Ganesh Krishnamurthy, Rahul Jain,Uday Thakkar.',\n",
       "       'Rajeev Agrawal', 'Babu Sivadasan',\n",
       "       'Abhijit Kane, Abhinav Asthana, Ankit Sobti',\n",
       "       'Raghav Arora, Lalit Kumar Aggarwal',\n",
       "       'Karthick Jayraman, Sanjay Dasari',\n",
       "       'Dr Gopichand Katragadda, Ganesh Suryanarayanan, Aditi Olemann.',\n",
       "       'Dr Binita Shrivastava Tunga, Dr Rashbehari Tunga',\n",
       "       'Shubhendra Vikram, Ankit Kumar', 'Ashish Gupta',\n",
       "       'Raghuraj Sunder Raju, Prasad Basavaraj, Sandeep Gudibanda',\n",
       "       'Shailesh Gupta, Mukul Shah', 'Nitesh Salvi',\n",
       "       'Purav Shah, Sandesh Reddy', 'Prashant Jain, Varun Khurana',\n",
       "       'Aswani Chaitanya',\n",
       "       'Lokendra Ranawat, Dinesh Pratap Singh, Virendra Ranawat, Vikas Baheti',\n",
       "       'Adhil Shetty, Arjun Shetty, Rati Shetty,', 'Geetansh Bamania',\n",
       "       'Rishabh Goel, Anand Agrawal, Mayank Khera',\n",
       "       'Kinner N Sacchdev, Rakhi Wadhwa', 'Karan Shaha, Vikas Chandrawat',\n",
       "       'Akshay Pai', 'Satyen Kothari, Beenext, Asuka Holding',\n",
       "       'Naresh Rao, Nikhil Rajmohan, Harinath Chakravarthy, Pravin Sethuraman',\n",
       "       'Indrajeet Roy', 'Bhavish Aggarwal', 'Amit Ramani',\n",
       "       'Kabeer Biswas,  Mukund Jha, Dalvir Suri, Ankur Aggarwal',\n",
       "       'Abhinav Agarwal, Anand Bakode',\n",
       "       'Dr Ruchir Mehra, Harsh Bansal, Richeek Arya',\n",
       "       'Mithun Srivatsa, Nikhil Shivaprasad',\n",
       "       'Vinayak Srivastav, Saket Dandotia, Alok Patil', 'Jatin Singh',\n",
       "       'Sumit Gupta, Neeraj Khandelwal', 'Lalit Menghani', 'Saurav Kumar',\n",
       "       'Suvendu Prusty, Sorabh Bhandari, Chiranth Patil.',\n",
       "       'Sandeep Vohra', 'Anurba Nath',\n",
       "       'Gowri Mukherjee, Ranjit Punja, Rajasundaram Sudarshan',\n",
       "       'Mohammed Riaz', 'Hrishikesh Datar', 'Ravish Naresh',\n",
       "       'Harshvardhan Lunia, Mukul Sachan',\n",
       "       'Akash Deep Singhal, Akshaya Singhal', 'Uttam Kumar',\n",
       "       'Ashwini Purohit', 'Pritesh Asher',\n",
       "       'Amit Kharat, Ajit Patil, Aniruddha Pant',\n",
       "       'Krishnan, Shane Bilsborough', 'Abhisheka Kumar, Malkit Didyala',\n",
       "       'Kartikey Hariyani',\n",
       "       'Milan Sharma, Nishant Mishra, Himani Shah, Devendra Chandani',\n",
       "       'Ajay Agrawal', 'Venkatesh Rangachari, Vipul Gupta',\n",
       "       'Naman Sarawagi, Mohit Jain', 'Saahil Goel',\n",
       "       'Sanjay Kumar, Deepti Prasad', 'Satish Kannan',\n",
       "       'Sumit Sinha,\\xa0\\xa0Mukesh Bansal', 'Arjun Deshpande',\n",
       "       'Prajit Nanu', 'Raman Khanduja, Sanjay Nazareth', 'Rajesh Yabaji',\n",
       "       'Gupta, Akshay Deshraj, Manoj Sarda',\n",
       "       'Avinash BR, Gururaj Rao, Arvind Murali, Santhosh Narasipura',\n",
       "       'Steve Hardgrave',\n",
       "       'Prashanth Kuppur, Deepak Kalhan, Saurabh Kukreti, Richpal Gora',\n",
       "       'Amit Naik, Kewal Vargante', 'Piyush, Dipesh Agarwal',\n",
       "       'Suraj Saste', 'Dr Subhash Narayanan',\n",
       "       'Ranjeet Pratap Singh, Sankaranarayanan Devarajan, Sahradayi Modi, Rahul Ranjan, Prashant Gupta',\n",
       "       'Vishal Jindal', 'Nishith Chasmawala, Amit Sharma', 'Rajat Gupta',\n",
       "       'Harsh Bansal', 'Darshan Shah', 'Nitin Agrawal, Garima Agrawal',\n",
       "       'Archin Shah, Abhilash Sonwane, Ritesh Gandhi',\n",
       "       'Mukul Rustagi, Bhaswat Agarwal', 'Tushar Kumar, Prashant Singh',\n",
       "       'Ishan Gupta, Aarti Gupta',\n",
       "       'Gagan Vermani, Divyanshu Sachdev, Gyan Prakash Tiwari',\n",
       "       'Amit Sharma, Apoorva Jois', 'Vivek Gupta, Jatin Solanki',\n",
       "       'Romesh Khaddar, Shikha Chaudhry, Sumedh Chaudhry',\n",
       "       'Raghavendra Prasad', 'Tarun Dhamija, Kartik Bansal',\n",
       "       'Jitendra Chouksey', 'Suresh Bavisetti, Paarth Dhar',\n",
       "       'Arindam Ghosh, U R Bhatt', 'Sagar Yarnalkar',\n",
       "       'SP Balamurugan, Arun Prakash, Sri Devi',\n",
       "       'Raghuram Talluri, Tanmoy Karmakar, Rakib Ahmed',\n",
       "       'Venkatesh Sundar, Nandini Tandon',\n",
       "       'Shivashish Chatterjee, Yuvraja Singh',\n",
       "       'Rohin Parkar, Malcolm Dsouza', 'Mittal',\n",
       "       'Nukul Upadhye, Mahesh Jakhotia, Jitender Bedwal, Daya Rai, Nikhil Tripathi',\n",
       "       'Anand Anandkumar', 'Manas Ranjan Hota, Vijender Reddy',\n",
       "       'Madhusudanan R, Muthukumar and Prabhu',\n",
       "       'Vetrivel Palani, Paneerselvam', 'Megha Wadhwa, Karnesh Mahendru',\n",
       "       'Karanvir Singh, Utkarsh Bagri, Vikram Shekhawat, Deepak Choudhary',\n",
       "       'Amit Kumar Agarwal, Akhil Gupta, Saurabh Garg',\n",
       "       'Amit Raj, Anshul Gupta', 'Gaurav Hinduja, Sashank Rishyasringa',\n",
       "       'Mayank Kukreja, Anish Khadiya', 'Ashish Bhandari',\n",
       "       'Jen Horonjeff', 'Samarth Kholkar, Sandeep Mukherjee',\n",
       "       'Raghavendra Kumar Ravinutala',\n",
       "       'Vinayak Shrivastav, Saket Dandotia, Alok Patil',\n",
       "       'Sahil Kini, Nikhil Kumar', 'Abhishek Shah',\n",
       "       'Rishabh Jain, Aditi Sinha',\n",
       "       'Gaurav Srivastava, Gautam Kumar, Kushal Nahata',\n",
       "       'Pranav Goel, Uttam Digga', 'Rohit Paranjpe',\n",
       "       'Abhinay Choudhari, Hari Menon, Vipul Parekh, VS Sudhakar',\n",
       "       'Jitendra Gupta',\n",
       "       'Shrikrishna Bharambe, Shripad Nadkarni, Varun Khanna, Abhijit Berde',\n",
       "       'Vineet Shetty, Anushka Shetty', 'Malhi, Siddhant Saurabh',\n",
       "       'Shashank Kumar', 'Nandan Reddy, Sriharsha Majety, Rahul Jaimini',\n",
       "       'Saurabh Pandey, Mahadevan Narayanamoni', 'Deepinder Goyal',\n",
       "       'Karan Bhardwaj', 'Vimal Kumar', 'Tapojit Debnath, Nirman Dave',\n",
       "       'Pratyush Halen, Anuraag Agrawal',\n",
       "       'Prashant Border, Saurya Prakash Sinha', 'Ajith Mohan Karimpana',\n",
       "       'Suneel Kumar, Gaurav Tomar, Sucharita Redd',\n",
       "       'Anshul Bhagi, Sandeep Bhagi', 'Sam Santhosh',\n",
       "       'Kishor Jha, Praveen Kumar',\n",
       "       'Deepak Bhuvneshwari Uniyal, Shilpa Arora, Shailesh Kumar, Sanjay Aggarwal',\n",
       "       'Subhash Narayanan', 'Mukesh Bansal, Ankit Nagori',\n",
       "       'Tapesh Goyal, Rajesh Vaidhyanathan', 'Preet Arjun Singh',\n",
       "       'Sneha Roy', 'Dilip Kumar, Selvan Thamarai, Deepti Nair',\n",
       "       'Monica Gupta. Manoj Gupta',\n",
       "       'Anubhav Jain, Ankit Singh, Jawaid Iqbal',\n",
       "       'Rishi Malhotra, Akhil Gupta', 'Sumit Gupta',\n",
       "       'Sagar Modi, Advaith Vishwanath', 'Adarsh Anand, Amit Tiwari',\n",
       "       'Rajan Sharma', 'Prabhdeep Singh', 'Mihir Mohan mishra',\n",
       "       'Jaideep Gupta',\n",
       "       'Ezhilarasan Natarajan, Sabapathy Arumugam, Krishnakumar Narayanan, Thiruvalluvar NB',\n",
       "       'Gaurav Kumar, Vineet Sukumar', 'Srinath Ravichandran',\n",
       "       'George Mitra, Rajan Pathak',\n",
       "       'Amit Chandel, Rohit Garg, Vinay Kumar, Jayant Upadhyay',\n",
       "       'Pranesh Chaudhary, Sushant Sachan', 'Abhinav Jain, Aditya Gupta',\n",
       "       'Sridhar Joshi, Prashant Kulkarni',\n",
       "       'Maneet Gohil, Sanchit Govil, Albin Jose',\n",
       "       'Govind Agrawal, Arti Agrawal', 'Arshi Khan',\n",
       "       'Ankit Jain, Anand Shah', 'Pankaj Singh', 'Kush Taneja',\n",
       "       'Pramod Ghadge', 'Pei-fu Hsieh, Amit Jangir',\n",
       "       'Lalit Mangal, Vinay Jaasti, Manoj Singh', 'Rajesh',\n",
       "       'Rohan Mirchandani', 'Lathika Pai', 'Sriram Subramanian',\n",
       "       'Vidushi Kajaria, Aayush Goenka',\n",
       "       'Sudarshan Lodha, Priyanka Rathore',\n",
       "       'Sreeraman Vaidyanathan, Surga Thilakan', 'Prasanna Rao',\n",
       "       'Vaibhav Singh, Arnav Kumar',\n",
       "       'Ajai Thandi, Arman Sood, Ashwajeet Singh',\n",
       "       'Charit Bhograj, Zainul Charbiwala, Udayan Dasgupta, Abhinav Gujjar',\n",
       "       'Ajit Panda', 'Vivekananda Hallekere, Anil Giri Raju, Arun Agni',\n",
       "       'Taran Chhabra, Amar Preet Singh',\n",
       "       'Vipul Sharma, Rajat Kumar, Sachin Arora, Mohit Goel',\n",
       "       'Bhatia, Sneha Shah', 'Li Yong, Shushant Srivastava',\n",
       "       'Niraj Singh, Mohit Gupta, Ramanshu Mahuar',\n",
       "       'Pallavi Agarwal, Pankaj Parwanda', 'Ashutosh Sharma',\n",
       "       'Anand Ayyadurai, Padmanabhan Balakrishnan, Sanchit Mittal',\n",
       "       'Saurabh Singh', 'Prashant Warier, Pooja Rao', 'Gokul Shrinivas',\n",
       "       'Supriya Paul, Shobhit Banga', 'Ringaile Noq',\n",
       "       'Manish Rathi, Kapil Raizada, Sachin Saxena',\n",
       "       'Pankaj Raut, Abhishek Tomar, Abhijit Patil',\n",
       "       'Anirudh Singla and Rishabh Shekhar', 'Radha Basu',\n",
       "       'Ashneer Grover', 'Sanket Shah',\n",
       "       'Varun Mayya, Shashank Udupa, Abhinav Arora', 'Anubhav Sharma',\n",
       "       'Madhan Mohan , Akash Chelvam', 'Archit Agarwal, Harry Sehrawat',\n",
       "       'Vinay Kothari', 'Khadim Batti, Vara Kumar',\n",
       "       'Gaurav Munjal, Roman Saini, Hemesh Singh',\n",
       "       'Rajan Dang, Anushree Srivastava', 'Kabeer Biswas', 'Kamesh Goyal',\n",
       "       'Shailesh Gupta, Mukul Shah, Danish Chopra',\n",
       "       'Tithi Tewari, Gautam Tewari', 'Samarth Agrawal',\n",
       "       'Aniruddha Sharma, Prateek Bumb', 'Mahipal',\n",
       "       'Vishal Khatter, Dheeraj Khatter, Dipak Varshney',\n",
       "       'Maneesh Dhooper, Kunal Malik',\n",
       "       'Ajith Nayar, Umesh, Mahesh Subramanian', 'Amit Bagaria',\n",
       "       'Chinmoy Mishra, Gaurav Vij, and Abhishek Verma',\n",
       "       'Vijeet Pandey, Vikas Rishishwar', 'Yogesh Thore', 'Ritesh Kumar',\n",
       "       'Vijay Shekhar Sharma', 'Nicky Goulimis',\n",
       "       'Singla, Kannu Mittal, Dhawal Parate',\n",
       "       'Jayesh Rajpurohit, Arpit Rajpurohit', 'Abhishek Mohan',\n",
       "       'Raviteja Dodda, Yashwanth Kumar', 'Rustagi, Bhaswat Agarwal',\n",
       "       'Nitin Saluja, Raghav Verma', 'Apurv Patel',\n",
       "       'Shamik Guha, Sayan Tapadar, Muhammad Bilal Shakil, Anirban Datta Gupta',\n",
       "       'Ambareesh Murty, Ashish Shah', 'Supam Maheshwari, Amitava Saha',\n",
       "       'Karthick Jayraman and Sanjay Dasari', 'Kunal Patil',\n",
       "       'AR Rahman, Shekhar Kapur', 'Narain Karthikeyan.',\n",
       "       'Jitendra Emmani', 'Kapil Gupta', 'Shailaz Nag',\n",
       "       'Lal Chand Bisu, Vikas Goyal, Vinod Kumar Meena',\n",
       "       'Nikhil Banerjee', 'Sachin Chopra', 'Rakesh Sharma',\n",
       "       'Katie Russel and Daniel Wiegand',\n",
       "       'Vineet Sharma, Abhay Jeet Gupta, Udbhav Rai, Parveen Kataria, Vishal Misra',\n",
       "       'Aditi Avasthi', 'Mohammed Hisamuddin, Rahul Ramesh', 'Akash Deep',\n",
       "       'Tarun Khanna', 'Prashant Tandon, Gaurav Agarwal, Vikas Chauhan',\n",
       "       'Akaash Shankar', 'Tanushri Nagori, Aditya Shankar',\n",
       "       'Sandeep Bommireddi, Sravanth Gajula',\n",
       "       'Aditya Agarwalla, Sanjay Agarwalla', 'Vikash Jha',\n",
       "       'Guna Kakulapati, Rama Rajanna, Charu Sharma', 'Amit Bansal',\n",
       "       'Abhimanyu Saxena', 'Bala Parthasarathy, Anuj Kacker, Kunal Varma',\n",
       "       'Rohit Manghnani, Amit K Jaiswal, Iccha Manghnani',\n",
       "       'Ashish Kashyap', 'Sachin Agarwal, Aniket Deb, Ankit Tomar',\n",
       "       'Oren Kaniel, Reshef Mann', 'Bhavik Vasa',\n",
       "       'Navratn Singh, Kamal Pandey',\n",
       "       'Lokvir Kapoor, Rajul Garg, Tarun Upaday', 'Sharmin Ali',\n",
       "       'Neeraj Singh, Alok Arora', 'Dhruvil Sanghvi, Manisha Raisinghani',\n",
       "       'Shikhar Veer Singh, Nidhi Singh',\n",
       "       'Sarvesh Shrivastava, Ved Prakash Khatri, Amit Kapoor',\n",
       "       'Vivekananda Hallekere, Anil Giri Raju,Arun Agni', 'Amit Lakhotia',\n",
       "       'Abhay Rangan', 'Prithwi Dasgupta, Arnab Chatterjee', 'Trivedi',\n",
       "       'Snigdha Manchanda, Vikas Kumar, Aishwarya Malhi',\n",
       "       'Greg Moran, David Back',\n",
       "       'Suneel Kumar, Sucharita Reddy, Gaurav Tomar, Akhilesh Nigam,',\n",
       "       'Shailendra Singh, Deepinder Dhingra, Pavan Palety',\n",
       "       'Asheesh Chanda, Vineeth Narasimhan',\n",
       "       'Balaji Viswanathan, Be Limitless Inc., Zingfin.com, NalandaU',\n",
       "       'Kumar Mayank, Ajay Kadyan', 'Anish Agarwal, Anant Jain',\n",
       "       'Nirav Patil', 'Bhavesh Shah, Manav Shah', 'Abhishek Emmanuel',\n",
       "       'Mahe Bayireddi', 'Kavita Dhillon', 'Sousthav Chakrabarty',\n",
       "       'Kartikeya Goel', 'Soham Thacker, Varun Gajjar', 'Arka Dhar',\n",
       "       'Divya Agarwal, Ketika Kapoor', 'Deepanshu Arora, Parita Parekh',\n",
       "       'Thirukumaran Nagarajan, Sharath Loganathan, Sachin Jose, Kartheeswaran KK, Vasudevan Chinnathambi',\n",
       "       'Akash Sharma, Abhishek Agarwal',\n",
       "       'Mahesh Gogineni, Varun MS, Manan Maheshwari', 'Amal PS',\n",
       "       'Anurakt Jain, Ishita Verma', 'Rajiv Mukherjee', 'Bharat Sethi',\n",
       "       'Neeraj Kumar', 'Pramath Raj Sinha', 'Gaurav Munjal', 'Leo Mavely',\n",
       "       'Mr. Subhashis Kar', 'Amit Narang',\n",
       "       'Praveen Agrawal, Yadvendar Champawat, Manoj Munna, Abhishek Sagar, Ashutosh Kumar, Narendra Agrawal',\n",
       "       'Tanvi Malik, Shivani Poddar.', 'Neer Sharma',\n",
       "       'Ghazal Alagh, Varun Alagh', 'Siddharth Gadia', 'Sashi Narahari',\n",
       "       'Jahabar Sadique, Balaji Sadagopan',\n",
       "       'Sonal Khandelwal, Vaibhav Tiwari', 'Kanav Sachdeva',\n",
       "       'Kumar Varma', 'Vishvajit Sonagara',\n",
       "       'Santosh Shinde, Sanjay Borkar', 'Himanshu Jain, Pulkit Jain',\n",
       "       'Vikram Kankaria, Priyanka Kankaria', 'Akshay Chaturvedi',\n",
       "       'Sujith Narayanan, Sumit Gwalani', 'Manish Taneja, Rahul Dash',\n",
       "       'Jayakrishnan, Abhijeet Manohar'], dtype=object)"
      ]
     },
     "execution_count": 176,
     "metadata": {},
     "output_type": "execute_result"
    }
   ],
   "source": [
    "data['Founders'].unique()"
   ]
  },
  {
   "cell_type": "code",
   "execution_count": 177,
   "metadata": {},
   "outputs": [
    {
     "data": {
      "text/plain": [
       "array(['Angel investors', 'GSF Accelerator', 'Venture Center',\n",
       "       'Venture Catalysts, PointOne Capital',\n",
       "       'Siana Capital Management, Info Edge',\n",
       "       'Venture Catalysts, 9Unicorns Accelerator Fund', 'ICICI Bank.',\n",
       "       'HostelFund', 'KB Investment, Bertelsmann India Investments',\n",
       "       'Shantanu Deshpande, Subramaniam Ramadorai', 'Fireside Ventures',\n",
       "       'Axilor Ventures, S.D. Shibulal', \"Acumen Fund's angel programme\",\n",
       "       'Sequoia Capital India, Sixth Sense Ventures', 'Rebel Foods',\n",
       "       'Kora, Tiger Global Management', '100X VC, Amara Ventures',\n",
       "       'Bertelsmann India Investments, InnoVen Capital',\n",
       "       'Mastercard, Temasek Holdings', 'BlackSoil, Caspian',\n",
       "       'Jindal Steels, Jeet Banerjee', None, 'Zenith Global',\n",
       "       'Unitus Ventures, Work10M', 'Coinbase Ventures, Polychain',\n",
       "       'Mithril Capital Management.', 'Google', 'Better Capital',\n",
       "       'Steadview Capital, Canada Pension Plan Investment Board',\n",
       "       'Quona Capital', 'Swastika', 'Flipkart, Walmart',\n",
       "       'Delhi Private School, UAE, Interstar', 'Malpani Ventures',\n",
       "       'Survam Partners', 'Whiteboard Capital', 'Sequoia Capital.',\n",
       "       'Blacksoil', 'Bridgestone India', 'BEENEXT, Mayfield Fund',\n",
       "       'A91 Partners, Artha India Ventures',\n",
       "       'Sequoia Capital, India Quotient', 'NIIF Ltd, CDC Group',\n",
       "       'PayU Finance India, Quona Capital', 'STEMROBO Technologies',\n",
       "       'Infrastructure Leasing & Financial Services Limited, Dorm Room Fund',\n",
       "       'The CoWrks Foundry', 'Flipkart', 'Y Combinator, Sierra Ventures',\n",
       "       '9Unicorns Accelerator Fund', 'Speciale Invest',\n",
       "       'XRM Media, Kevin Lin', 'Huddle Accelerator',\n",
       "       'Hindustan Media Venture, Nicolas Jarrosson', 'India Angel Fund',\n",
       "       'Blume Ventures', 'Elevation Capital, Trifecta Capital Advisors',\n",
       "       'Stride Ventures, Matrix Partners India', '9Unicorns, Anicut',\n",
       "       'Venture Catalysts, 9Unicorns, We Founders Circle.',\n",
       "       'SenseAI Ventures, Saurabh Chugh',\n",
       "       'Startup incubator, Accelerator Venture Catalysts',\n",
       "       'India Accelerator, Sunil Kamath',\n",
       "       'Ramakant Sharma, Leo Capital India',\n",
       "       'Investment Corporation of Dubai (ICD)',\n",
       "       '9Point8 Capital, Sunil Kumar Singhvi',\n",
       "       'Sandeep Tandon, Survam Partners',\n",
       "       'Falcon Edge Capital, Omidyar Network', 'WEH Ventures, BEENEXT',\n",
       "       'Sequoia Capital India, CapitalG', 'La Gajjar Group.',\n",
       "       'Axilor Ventures, Unitus Ventures', 'Prolific angel investors',\n",
       "       'Ideaspring Capital, Accel', 'Nativelead Foundation',\n",
       "       'FMO, IndusInd Bank',\n",
       "       'Trifecta Capital Advisors, Nexus Venture Partners', 'Lightbox',\n",
       "       'Golden Birch Investments, She Capital',\n",
       "       'Pras Hanuma, Rebright Partners, Java Capital, and GSF Accelerator.',\n",
       "       'General Catalyst, Ribbit Capital', 'FMO', 'Surge',\n",
       "       'Unitus Ventures, Whiteboard Capital',\n",
       "       'StartupXseed Ventures, 100X.VC',\n",
       "       'Stellaris Venture Partners, Mastercard',\n",
       "       'Paula Mariwala, Siddharth Anand', 'Sequoia Capital India’s Surge',\n",
       "       'Venture Catalysts, 9Unicorns', 'India Accelerator',\n",
       "       'Pegasus Tech Ventures, Base Partners', 'GoodWorker.', 'Capify',\n",
       "       'Mumbai Angels, JITO Angel Network.',\n",
       "       'George Osborne, Smilegate Investment',\n",
       "       'Accel India, Breadlake Ventures', 'Ankur Mittal, Mitesh Shah',\n",
       "       'IIFL Asset Management, Matrix Partners', 'IIFL AMC',\n",
       "       'Global Car Group, Freemark holdings',\n",
       "       'Venture Catalysts, Speciale Invest', 'Venture Catalysts',\n",
       "       'Anupam Mittal, India Quotient', 'Unicorn India Ventures',\n",
       "       'DTDC, Udaan Angel Partners', 'Rainmatter',\n",
       "       'YourNest, growX ventures', 'Gemba Capital',\n",
       "       'Dragoneer Investment Group, Tiger Global Management',\n",
       "       'India Quotient', 'Surge, Tanglin Venture Partners',\n",
       "       'Alia Bhatt, Katrina Kaif', 'Pravega Ventures',\n",
       "       'Techstars Bangalore Accelerator, Techstars',\n",
       "       'Alfa Ventures, Divij Bajaj',\n",
       "       'Owl Ventures, Tiger Global Management',\n",
       "       'Whiteboard Capital, Matrix Partners India',\n",
       "       'Orios Venture Partners, Matrix Partners India',\n",
       "       '9Unicorns, 3Lines VC, Hyderabad Angels',\n",
       "       'Techstars, Techstars Bangalore Accelerator',\n",
       "       'Rajasthan Venture Capital Fund, AIM Smart City',\n",
       "       'Venture Catalysts, SOSV', 'BASE, Gunosy Capital',\n",
       "       'Nexus Venture Partners, Dream Incubator', 'DSG Consumer Partners',\n",
       "       'IBK Capital, SB Partners', 'Whiteboard Capital, Ahimsa Capital',\n",
       "       'Jonathan Swanson, Ankush Gera', 'Titan Capital',\n",
       "       'Asha Impact, Aavishkaar Venture Capital',\n",
       "       'Peyush Bansal, Ritesh Malik', 'AngelList India',\n",
       "       '3Lines, Jabbar Internet Group',\n",
       "       'Canaan Partners, NewView Capital', 'Better Capital, Gunosy',\n",
       "       'Sanjay Ramakrishnan, Ravi Garikipati', '9Unicorns', 'Jazal Group',\n",
       "       'Small Industries Development Bank of India', 'Goldman Sachs',\n",
       "       'LetsVenture, Jyotsna Bapat', 'Alibaba Group, InnoVen Capital',\n",
       "       'Poonawalla, Allana Group', 'Navus Ventures, Rockstart',\n",
       "       'AET Japan, Figure Eight Investments, Waterbridge Ventures',\n",
       "       'Sweta Rau, Archana Priyadarshini', 'Rajul Garg, Purvi Capital',\n",
       "       'Rajasthan Venture Capital Fund',\n",
       "       'Ratan Tata, Inflection Point Ventures, Ankur Mittal',\n",
       "       'Lightspeed, Elevation, Deepika Padukone',\n",
       "       'Abu Dhabi Investment Authority, GIC', 'Global Ascent Partners',\n",
       "       'HeroMotoCorp Ltd and Sachin Bansal',\n",
       "       'VAMM Ventures, Naresh Malhotra', 'DEG, KFW DEG',\n",
       "       'Accel, Alteria Capital', 'Mumbai Angels Network',\n",
       "       'AVANA Capital, Rebright Partners', 'Endiya Partners.',\n",
       "       'Mumbai Angels', 'Menterra Venture Advisors, Emandi Sankara Rao',\n",
       "       'Hercules Capital, Inc.Bertelsmann', 'Mohsin Hani Al Bahrani, MoD',\n",
       "       'CP Ventures, Orios Venture Partners',\n",
       "       'Kia Ora Ventures, Pentathlon Ventures',\n",
       "       'Kae Capital, Whiteboard Capital', 'Lokmat Investments',\n",
       "       'Niren Shah, Rukam Capital Trust',\n",
       "       'Chandigarh Angels Network, Modulor Capital',\n",
       "       'Rohit Chanana, Sukanta Ganguly', 'Alan Patricof, Jim Moffatt',\n",
       "       'IAN Fund', '9Unicorns, Titan Capital, FirstCheque',\n",
       "       'AIM Smart City', 'RB Investments Pte. Ltd, Goldman Sachs',\n",
       "       'Rajasthan Venture Capital Fund, Innovana Thinklabs',\n",
       "       '>Vikram Sud', 'Maple Capital Advisors',\n",
       "       '021 Capital, India Quotient', 'Ascent Capital, Iron Pillar',\n",
       "       'Oaks Asset Management', 'Roots Ventures, Better Capital',\n",
       "       'Sequoia Capital India, Faering Capital', 'Lightspeed India',\n",
       "       'CESC Ventures, Brun Raschle', 'Accel, Sunder Nookala', 'Justdial',\n",
       "       'KLUB Works, Shankar Narayanan',\n",
       "       'Nexus Venture Partners and 23 High Networth Individuals (HNIs)',\n",
       "       'Makers Fund, Courtside Ventures', 'RPSG Ventures, Amicus Capital',\n",
       "       'Times Group, Lightspeed', 'Mumbai Angels, Murali Nair',\n",
       "       'Nexus Venture Partners, Capria Ventures',\n",
       "       'Katrina Kaif, Steadview Capital',\n",
       "       'Exfinity Venture Partners, Shesh Kondi',\n",
       "       'Sandeep Tandon, Daniel Lapus', 'Northern Arc Capital',\n",
       "       'Samyakth Capital, Venture Catalysts', 'Jungle Ventures',\n",
       "       'Windrose Capital', 'Base Partners, Sequoia Capital India',\n",
       "       'Nishant Rao, Jonathan Boutelle', 'Picus Capital',\n",
       "       'Citi Ventures, Illuminated Funds Group',\n",
       "       'A91 Partners, RB Investments Pte. Ltd',\n",
       "       'GenNext Ventures, Contrarian Drishti Partners', 'Anand Mahindra',\n",
       "       'Alliance Ventures, Storm Ventures', 'Tandem',\n",
       "       'Indian Oil Corporation, Krishna Chakravarty', 'Tech Mahindra',\n",
       "       'Whiteboard Capital, VKG Ventures LLP.', 'TVS Motor Company',\n",
       "       'Sujeet Kumar, Hemesh Singh', 'Mount Judi Ventures',\n",
       "       'AngelList, Investec', 'Accel, Stellaris Venture Partners',\n",
       "       'Artha Venture', 'MOX, SOSV',\n",
       "       'Flourish Ventures, Lonsdale Capital', 'Kapil Dev',\n",
       "       'Lightspeed, Matrix Partners.',\n",
       "       'Eight Roads Ventures, On Mauritius',\n",
       "       'NABVENTURES, Social Alpha (India)',\n",
       "       'growX Ventures, Huddle (Incubator)',\n",
       "       'Better Capital, Kunal Shah, Gaurav Munjal',\n",
       "       'Lead Angels Network, Roots Ventures',\n",
       "       'Rohit Bansal, Rohan Ranavat', 'Real Estate Accelerator Program',\n",
       "       'Riso Investments, Lenskart', 'Sequoia Capital India',\n",
       "       'UPS Ventures, Hyundai Motor Company',\n",
       "       'King River Capital, Leap Capital', 'SOSV, Artesian',\n",
       "       'Upfront Ventures, Walkabout Ventures', 'Advent Partners',\n",
       "       'Stride Ventures, YourNest Venture Capital',\n",
       "       'Tiger Global Management, Sequoia Capital India',\n",
       "       'Syngenta Ventures, Walmart',\n",
       "       'Tiger Global Management, William Bissell',\n",
       "       'Alok Mittal, Manan Maheshwari',\n",
       "       'Mercer Investments, Bessemer Venture Partners', 'Startup Basket.',\n",
       "       'Orkla Ventures, Smedvig Capital', 'NABVENTURES',\n",
       "       'Xseed Partners, InnoVen Capital',\n",
       "       'Lightspeed India Partners, Accel India',\n",
       "       'Accel, Steadview Capital',\n",
       "       'Silver Lake, Mubadala Investment Company',\n",
       "       'Amit Lakhotia, Akash Gehani',\n",
       "       'Aavishkaar Venture Capital, Chiratae Ventures',\n",
       "       'NABVENTURES, Omnivore', 'Java Capital',\n",
       "       'SenseAI Ventures, EvoNexus', 'Digital Finance Group, FundersClub',\n",
       "       'Sriharsha Majety, Rahul Jaimini', 'Wavemaker Partners, Subho Ray',\n",
       "       'Upsparks', 'Saurabh Arora, LD Sharma', 'Foxhog Ventures',\n",
       "       'Ramesh Mangaleswaran, Saikiran Krishnamurthy', 'Triodos, Caspian',\n",
       "       \"Lee Fixel's Addition, SIG Global, Tanglin Venture Partners\",\n",
       "       'I2I Capitals', 'Core91 Fund, Anupam Mittal', 'Terwilliger Centre',\n",
       "       '2B Angels, Janvest Capital Partners', 'Rising Stars',\n",
       "       'General Atlantic, Kohlberg Kravis Roberts',\n",
       "       'CICC Alpha, VMS Asset Management', 'Sekhar Puli',\n",
       "       'Cowin Venture, ZSVC', 'International Finance Corporation',\n",
       "       'BlackSoil, BEENEXT', 'Marc Lore, Rise Capital',\n",
       "       'Sequoia Capital India, Hummingbird Ventures',\n",
       "       'IAN Fund, Rajasthan Venture Capital Fund',\n",
       "       'RPS Ventures, Intact Ventures',\n",
       "       'Artha India Ventures, Nagaraja Prakasam',\n",
       "       'Chiripal Group, Ratish Kumar Nair',\n",
       "       'Pallav Nadhani, Idein Ventures',\n",
       "       'Salesforce Ventures, Dragoneer Investment Group',\n",
       "       'Spiral Ventures, Surge', 'Sequoia Capital India, Times Internet',\n",
       "       'responsAbility, Grameen Impact India (GIII)',\n",
       "       'Tencent Holdings, Walmart',\n",
       "       'Aspada, Creation Investments Capital Management, LLC',\n",
       "       'GirnarSoft',\n",
       "       'Jamshed Jeejeebhoy, Symphony International Holdings',\n",
       "       'Facebook, Google, KKR, Silver Lake',\n",
       "       '021 Capital, Karnataka Information Technology Venture Capital Fund',\n",
       "       'Homage Ventures.', 'Steadview Capital, Tencent Holdings',\n",
       "       'Adar C. Poonawalla, Kris Gopalakrishnan', 'Coatue Management',\n",
       "       'Steadview Capital', 'Mumbai Angels, Redcliffe Capital',\n",
       "       'Gaja Capital, Kotak Life, Lok Capital',\n",
       "       'DR. Moti Vyas, Udit Goyal',\n",
       "       'Nexus Venture Partners, Sequoia Capital',\n",
       "       'Propstack, SAIF Partners',\n",
       "       'MacRitchie Investments, Baillie Gifford',\n",
       "       'Tencent Holdings, Times Internet',\n",
       "       'Global Innovation Fund, Soros Economic Development Fund',\n",
       "       'Ronald Conway, Bay Partners', 'Prospect Partners.',\n",
       "       'Omnivore, Zeroth.AI', 'Mumbai Angels.',\n",
       "       'Ramesh Srinivasan, Amazon', 'Eight Roads Ventures',\n",
       "       'Ashok Leyland, V Lakshmi Narayanan',\n",
       "       'Ranjit Punja, R Sudarshan, Gowri Mukherjee',\n",
       "       'Gunavanth Vaid, Bharat Kumar Sohanraj', 'Venkat Raju',\n",
       "       'Silver Lake Partners',\n",
       "       'Clairvest Group, Ontario Centres of Excellence',\n",
       "       'Damien Toledo, Jim Bugwadia, Ritesh Patel',\n",
       "       'US based NRI Investors', 'Inflection Point Ventures, Mitesh Shah',\n",
       "       'Betatron', 'Chiratae Ventures, Blume Ventures',\n",
       "       'Ravi Sanghvi, PitchRight Venture',\n",
       "       'Bessemer Venture Partners, CDH Investments', 'HNIs',\n",
       "       'Guild Capital', 'Y Combinator', 'Prime Venture Partners',\n",
       "       'Mela Ventures, 1Crowd', 'responsAbility, Accel',\n",
       "       'Chiratae ventures', 'Palm Drive Capital, Amatil X Ventures',\n",
       "       'Sequoia Capital India, Blume Ventures',\n",
       "       'JF Mauritius SPV, IndusAge Partners', 'VC Firm K Partners',\n",
       "       'India Alternatives Private Equity Fund, Tata Capital',\n",
       "       'Bonnier Ventures, Hanaco Venture Capital',\n",
       "       'Gemba Capital, Gunderson Dettmer', '500 Startups, ah! Ventures',\n",
       "       'Base Partners, GO Ventures', 'Accel, Zodius Capital',\n",
       "       'Windrose Capital, Anil Advani', 'Seeds Capital, AIM Smart City',\n",
       "       'Blume Ventures, Tetrao',\n",
       "       'Lightspeed venture partners, saif partners',\n",
       "       'Shadows Holdings, Lightbox',\n",
       "       'Lightspeed India Partners, Sequoia Capital India',\n",
       "       'Abhishant Pant, Chiranth Patil', 'Madison, Anicut',\n",
       "       'DSG Consumer Partners, Saama Capital',\n",
       "       'Kakao Ventures, Shinhan Capital',\n",
       "       'Matrix Partners India, Hummingbird Ventures',\n",
       "       '23 High Networth Individuals (HNIs).',\n",
       "       'Ratan Tata, Kalaari Capital', 'Nexus Venture Partners',\n",
       "       'Global Founders Capital, Redpoint',\n",
       "       '01 Advisors, Steadview Capital', 'Pushpak Credit, Fiscal',\n",
       "       'Kaizenvest, Foundation Holdings',\n",
       "       'Pincus, JP Morgan, Temasek, March Capital',\n",
       "       'Westbridge Capital, Elevar Equity', 'BAce Capital, Madhur Deora',\n",
       "       'Lightspeed India, Sequoia Capital India',\n",
       "       'IIFL Asset Management, Raghav Bahl',\n",
       "       'Wes Schwalje, Alteria Capital',\n",
       "       'IDFC-Parampara Fund, Bharat Innovation Fund',\n",
       "       'Mercer Investments, Nicholas Cator',\n",
       "       'Falcon Edge Capital, SAIF Partners', 'Chiratae Ventures.',\n",
       "       'Menterra Venture Advisors, Rianta Capital',\n",
       "       'Sunil Kumar Singhvi, Yusho Kawata',\n",
       "       'Accel Partners, Sequoia Capital, Evolvence India, JSW Ventures',\n",
       "       'Bessemer Venture Partners', 'Insitor Partners, C4D Partners',\n",
       "       'Sinai Ventures, Y Combinator', 'Jitendra Gupta, Better Capital',\n",
       "       'Mumbai Angels, Defence Innovation Organisation',\n",
       "       'CBA Capital, Gray Matters Capital',\n",
       "       'Kalpavriksh, JITO Angel Network',\n",
       "       'growX ventures, Sangam Ventures',\n",
       "       'SRI Capital, Techstars Farm to Fork Accelerator',\n",
       "       'Y Combinator, Ribbit Capital', 'Hatanaka Yosuke, Minomiya Takeo',\n",
       "       'Krishnan Menon, Srinivas Kollipara',\n",
       "       'SucSEED Venture Partners, ah! Ventures', 'Surge, Kae Capital',\n",
       "       'Nexus Venture Partners, Sam Lambert',\n",
       "       'Alto Partners, Mission Holdings', 'SCB 10X, LINE Ventures',\n",
       "       'Powerhouse ventures, Tracxn,', 'Kaplan Foundation', 'Ivy Icon',\n",
       "       'Millenna FVCI III, NB Ventures, Dream Incubator', 'Balancehero',\n",
       "       'Anicut Capital',\n",
       "       'Al Falaj Commercial Investment Co, Vistra ITCL India',\n",
       "       'Supera Investments',\n",
       "       'Accel India, Blume Ventures, 3F Ventures, Akatsuki Inc',\n",
       "       'GGV Capital, Sahi Barual',\n",
       "       'Grand Anicut Angel Fund (GAAF), AL Trust, Beeline Impex Private Limited, 9Unicorns, Accelerator Fund',\n",
       "       'Bertelsmann India Investments, Sequoia Capital India',\n",
       "       'Times Internet, TLabs',\n",
       "       'Saif partners, Accel partners, Sequoia capital',\n",
       "       'Jitendra Gupta, Astarc Ventures.', 'Nestavera Ventures.',\n",
       "       'MOX, Venture Catalysts', 'Sojitz, SIG Global India Fund',\n",
       "       'Mohan Verma, Better Capital', 'Shikhar Dhawan, Mantra Capital',\n",
       "       'Kiran Mazumdar Shaw.', 'Bhadresh',\n",
       "       'GB Group, Walden International', 'Meghna Agarwal, Navin Dhanuka',\n",
       "       'V Sumantran, V Lakshmi Narayanan',\n",
       "       'Keiretsu Forum, SucSEED Venture Partners',\n",
       "       'Sweta Rau, Sandeep Kapoor', 'Mantis ventures',\n",
       "       'Napino Auto and Electronics Ltd',\n",
       "       'VCATS, First Cheque, 9Unicorns, Marquee investors',\n",
       "       'AngelList, Inflection Point Ventures, The Chennai Angels',\n",
       "       'Mayfield India, Saama Capital, Ronnie Screwvala', 'DST Global',\n",
       "       'Alphawave, Matrix Partners', 'Keiretsu Forum, Elea Foundation',\n",
       "       'WaterBridge Ventures', 'Alpha Wave incubation',\n",
       "       'Inflection Point Ventures', 'Anand Shah',\n",
       "       'WestBridge Capital, Elevar Equity',\n",
       "       'KTB Network, Samsung Ventures, Ankur Nagpal, Gokul Rajaram, Vineet Buch',\n",
       "       'Ankur Capital',\n",
       "       'Lightspeed India Partners, Blume Ventures, GrowX ventures',\n",
       "       '3one4 Capital, Angel list India',\n",
       "       'StartupXseed Ventures, Bhaskar Pramanik, MJ Aravinf, Ravi Viswanath, Ramesh Radhakrishnan, Ranjan Biswas, MJ Aniketh.',\n",
       "       'SAIF Partners, Y Combinator, Neeraj Arora, Titan Capital, First Cheque.',\n",
       "       'Suniel Shetty', 'SOSV, MOX (Mobile Only Accelerator)',\n",
       "       'Matrix Partners India, Sequoia Capital India, Hummingbird Ventures',\n",
       "       'Unitus Ventures, India Quotient, AngelList India',\n",
       "       'Artha Venture Fund', 'Shobu Yarlagadda',\n",
       "       'Fullerton Financial Holdings, Bertelsmann India Investments, Sistema Asia Fund, IndiaQuotient',\n",
       "       '1Crowd', 'Foundation Holdings',\n",
       "       'Ankur Capital, Beyond Next Ventures', 'Orios Venture Partners',\n",
       "       'Evolvence India Fund (EIF), Pidilite Group, FJ Labs',\n",
       "       'IIFL Income Opportunities Fund', 'Sequoia India',\n",
       "       'Stride Ventures', 'Better Capital, TechStars, Barclays.',\n",
       "       'Venture Catalysts,\\xa0\\xa0Raveen Sastry',\n",
       "       'AngelList India, Utsav Somani, Village Global, LogX Ventures, Jasminder Singh Gulati',\n",
       "       'Eagle10 Ventures, India Accelerator, HNIs',\n",
       "       'Uday Sodhi, Mitesh Shah, Nitin Jain', 'Sequoia Surge',\n",
       "       'Elina Investments', 'Qualgro, Lachy Groom',\n",
       "       'Urmin Family Office, Lemonade Ventures, TrueValue Group MD Yash Shah',\n",
       "       'LogX Ventures, AngelList’s Utsav Somani, NowFloats’ Jasminder Singh Gulati, AL Trust (Vistra ITCL), Village Global.',\n",
       "       'All About Inc, Beenext Pte Led, Beenos Asia, DG Ventures, Kanamori Assagement Singapore, Rebright Partners I, Rebright Partners II, Tetsuro Koda',\n",
       "       'Shabir Momin, OneDigital Entertainment,\\xa0\\xa0Saurabh Pathak.',\n",
       "       'Indian Angel Fund',\n",
       "       'N S Parthasarathy, Dilipkumar Khandelwal, Anand Nichani, Anath Ravi, Prashanth Prakash',\n",
       "       'Crazy Labs', 'Info Edge',\n",
       "       'Sanjay Mehta, Vikram Pandya, Gaurav Gupta, Vivel Srivatsav, Madhavi Bollipalli, Srinivas Paanem, Satish Bogullu',\n",
       "       'Dr. Bhaskar Rao Bollineni', 'BlueOrchard Finance Limited',\n",
       "       'ResponsAbility Investments AG', 'Good Capital',\n",
       "       'Dr Srinivas Chunduru', 'Ashok Nichani, Shelly Nichani',\n",
       "       'Hero MotoCorp', 'Unitus Venture',\n",
       "       'Matrix Partners India, Ankur Capital',\n",
       "       'Unicorn India, PointOne Capital, Astir Ventures',\n",
       "       'Sequoia Capital India, Matrix Partners India, InfoEdge, Waterbridge Ventures',\n",
       "       'BlackSoil Capital', 'Ah! Ventures', 'Rajesh Ranavat', 'Coatue',\n",
       "       'Samsung Venture Investment Corporation', 'Jetty Ventures',\n",
       "       '021 Capital', 'LetsVenture Syndicate', 'Chennai Angels',\n",
       "       'SucSEED Ventures', '3one4 Capital', 'Incubate Fund',\n",
       "       'RPSG Ventures', 'Incubate Fund India', 'Eight Road Ventures',\n",
       "       'JAFCO Asia, Artha Venture Fund',\n",
       "       'Tharun Dhariwal, Sunil Kumar Singhvi, Arun Ostwal, Vishal Ostwal, Gunavanth Vaid, Bharat Kumar',\n",
       "       'WEH Ventures', 'Trifecta Capital', 'Vivriti Capital',\n",
       "       'Adar Poonawalla, Kris Gopalakrishnan', 'LR Joshi',\n",
       "       'Beenext, Rainmatter CApital Pvt Ltd, Stanford Angels & Entrepreneurs',\n",
       "       'Mumbai Angel Network',\n",
       "       'Investcorp, Nexus Venture Partners, Mirae Assets, Trifecta Capital',\n",
       "       \"ENGIE RAssembleurs d'Energies, The Rise Fund, and The Singh Family Trusts,Teja Ventures, Beyond Capital Fund.\",\n",
       "       'Kritik Abiram, Parthiv Rokadia, Gaurav Saraogi',\n",
       "       'Invest in Vision',\n",
       "       'Sofina Ventures, A91 Emerging fund, SCI Growth Investment II, Catamarann Ventures',\n",
       "       'Turbostart',\n",
       "       'Globevestor, Secocha Ventures, First Cheque VC, Kashyap Deorah, Vijay Sivaram',\n",
       "       'NB Ventures', 'Sauce vc', '3One4 Capital, LetsVenture',\n",
       "       'Better Capital, Titan Capital', 'Lightbox Ventures', 'Greenoaks',\n",
       "       'Startup-O, Eden Ventures',\n",
       "       'Matrix India, Y Combinator, Global Founders Capital, Soma Capital, VentureSouq',\n",
       "       'InfoEdge Venture Fund, Sprout Venture Partners',\n",
       "       'Rajesh Ranavat, Abhishek Shah, Sheetal Bahl, Manu Rikhye, Ashish Taneja, Kabir Kochhar, Mohit Satyanand',\n",
       "       'SAIF Partners, India Quotient', 'BOND', 'Gunosy',\n",
       "       'Leo capital, Ramakant Sharma', 'Amansa Capital',\n",
       "       'Matrix Partners', \"Capital G, Alphabet's Independent growth fund\",\n",
       "       'Chiratae Ventures',\n",
       "       'Pearl Brook Holdings Ltd, Al Nour International Holdings Co.',\n",
       "       'Rocketship', 'Nadir Godrej, Individual Investors', 'Pawan Munjal',\n",
       "       'US International Development Finance Corporation',\n",
       "       'Tano India, L’Occitane, Bessemer', 'Sozo Ventures', 'Undisclosed',\n",
       "       'Rainmatter Capital', 'Venture Catalysts, Naveen Kshatriya,',\n",
       "       'Shikhar Dhawan', 'Arkam Ventures, Nabventures',\n",
       "       'Beyond Next Ventures, ArthaVida Ventures, Dr Aniruddha Malpani',\n",
       "       'Iron Pillar, Blume Ventures', 'Danone Manifesto, Mousse Partners',\n",
       "       'Entrepreneurial Development Bank, Bessemer Venture Partners',\n",
       "       'Insight Partners', 'Induslnd Bank', 'Pratithi',\n",
       "       'PadUp, Villgro USA, Vinners, LetsVenture, SINE IIT Bombay, DERBI',\n",
       "       'Dr Apoorva Ranjan Sharma, Mrunal Jhaveri, Nirav Panchmatia, Vikas Kapoor, Karan Garg',\n",
       "       'JSW Ventures, Chiratae Ventures, Kalaari Capital', 'Kimera Ltd',\n",
       "       'Gameskraft', 'Anthill Ventures', 'Smile group',\n",
       "       'Rangsons Technologies', 'WSV Capital',\n",
       "       'Gautam Dalmia, Pratithi Investment Trust, Shri Investment',\n",
       "       '100x VC', 'Black Soil',\n",
       "       'Leo Capaitals, Amit Gupta, Abhishek Goyal, Ramakant Sharma, Harsh Pokhran',\n",
       "       'Beenext, Asuka Holding', 'Vertex Ventures SEA & India',\n",
       "       'Crowd Fund', 'Bisque Limited, Link Investment Trust.',\n",
       "       'Stellaris Venture Partners, Venture Highway',\n",
       "       'River Rock Ventures. Inflection Point Ventures',\n",
       "       'Chinaccelerator, 9 Unicorns Fund, Inflection Point Ventures',\n",
       "       'EMVC, Flourish, Omidyar Network India', 'Polychain Capital',\n",
       "       'Varanium NexGen Fund', 'Inventus III India Fund',\n",
       "       'Bharat Inclusion Seed Fund, Varanium Capital, and Better Capital',\n",
       "       'Amit Burman', 'Bharti Airtel',\n",
       "       'Whiteboard Capital, FirstCheque, Artha India Ventures, Sweta Rau, Deepak Abbot, Amrish Rau, Harpreet Singh Grover',\n",
       "       'IDG Ventures, Elevar Equity, Accion', 'Angel Investors',\n",
       "       'Kalyan Krishnamurthy, Sujeet Kumar, Keshav Sanghi, Roman Saini, Sumit Jain, Hemesh Singh',\n",
       "       'Sujeet Kumar', 'B Capital Group', 'Angel investors. HNI',\n",
       "       'Innoven Capital', 'Tracxn Labs, Angellist, Tri-Deep Capital',\n",
       "       'Ankit Bhati, Nitin Gupta', 'Gray Matters Capital',\n",
       "       'Akya Ventures', 'GHV Accelerator', 'Josh Liberman, Mark Adams',\n",
       "       'Nordic Microfinance Initiative',\n",
       "       'Chiratae Ventures, Accel Partners, BCIP Venture Associates, Bain Capital, Renaud Laplanche',\n",
       "       'Saama Capital', 'Tiger Global, Avatar Growth Capital',\n",
       "       'Lightspeed Venture Partners', 'Unicorn Investments Pte Ltd',\n",
       "       'Vijay Shekhar Sharma, Anupam Mittal',\n",
       "       'Tribe Capital, Innoven Capital, BII',\n",
       "       'Angellist, Smile Group, Manish Amin, Anil Goel, Anubhav Sonthalia, Deepak Mittal',\n",
       "       'Steadview capital',\n",
       "       'Bessemer Venture Partners India, Fusian Capital, Rebright Partners, Milliways Fund LLC',\n",
       "       'Ratan Tata', 'VisaVentures, BRI Ventures', 'Next Capital',\n",
       "       'Trifecta Venture', 'Exfinity Ventures, IAN Fund',\n",
       "       'Alteria Capital', 'ChrysCapital',\n",
       "       'Hari Balasubramanian, EaSyndicate',\n",
       "       'Paytm, leAD Sports, Rockstud Capital, Founder Bank Capital',\n",
       "       'Lupa India', 'Tencent',\n",
       "       'Devanshu Dolat Desai, Anand M Khatau, Debasish Priyadarshi Purohit, Kaushik Shanghvi',\n",
       "       'Accel Partners, Jungle Ventures', 'Barkawi',\n",
       "       '1Funds Domestic Scheme', 'RiverRock Ventures', 'RTP Global',\n",
       "       'Hero Fincorp', 'Li and Fung', 'Mantra Capital, Patni Family',\n",
       "       'Nikhil Vora, Iceland Venture Studio, LetsVenture, Samyakth Capital',\n",
       "       'North Base Media', 'Investment Trust of India',\n",
       "       'IvyCap Ventures, Sequoia Capital',\n",
       "       'Sequoia Capital Surge, Better Capital',\n",
       "       'Ravikanth Reddy & Mumbai Angel Network',\n",
       "       'Sequoia Capital, Sofina', 'Pinetree Capital', 'Big Basket',\n",
       "       'Education Catalyst Fund', 'CDC Group', 'KB Global Platform Firm',\n",
       "       'Tata Capital Growth Fund II', 'NXC Corporation',\n",
       "       'Saltwater Venture Sparks',\n",
       "       'University of Tokyo Edge Capital, Global Brain Corporation',\n",
       "       'Abhishek Goyal, Bharat Jaisinghani, FirstCheque', 'BeeNext',\n",
       "       'Angel Network', 'Sukhbir Singh, Rakhee Singal',\n",
       "       'INSEAD Angels, IIT Kanpur Angels, Sixth Sense Ventures, Saahil Bhatia',\n",
       "       'Bytedance, Falcon Edge, Goldman Sachs, Advent Management',\n",
       "       'General Atlantic', 'IIFL Seed Ventures Fund, Menlo park',\n",
       "       'Ribbit Capital, SAIF Partners, Sequoia Capital India, Amazon',\n",
       "       'Greenoaks Capital, Vy Capital. Matrix Partners India', 'Accel',\n",
       "       'Indie VC',\n",
       "       'Lightspeed Venture Partners, Lightspeed India Partners.',\n",
       "       'Lightspeed Venture, Falcon Edge, Bharat Inclusive Technologies Seed Fund.',\n",
       "       'M12, Honeywell venture capital, Eight Roads Venture',\n",
       "       'Amazon, Sequoia, Walden SKT Venture Fund',\n",
       "       'Lightstone Global Funds', 'Zee Entertainment Enterprises Limited',\n",
       "       'Amazon Inc`, Dinesh J Hinduja', 'Alibaba Holdings',\n",
       "       'Hummingbird Ventures, Bedrock Capital', 'Legend Capital',\n",
       "       'Accel, Zephyr Peacock, Swiggy, RB Investments.',\n",
       "       'Better Capital, LetsVenture, Rohit Chanana, Jayant Kadambi, Sunil Kumar Singhvi',\n",
       "       'Bace Capital',\n",
       "       'Tencent, Ark Impact, Korea Investment Partners, Samsung Ventures, Mirae Asset Capital Markets',\n",
       "       'LGT Lightstone Aspada', 'Pacific Horizon',\n",
       "       'Der Shing Lim, 500 startups', 'Vostok Emerging Finance',\n",
       "       'Arka Venture Labs', 'IvyCap Ventures', 'Vertex Ventures',\n",
       "       'Chowdry Associates, Lightbox',\n",
       "       'Sukhbir Singh, India Accelerator, Boudhik Ventures, Shankar Nath, Shaurya Garg',\n",
       "       'Matrix Partners, SAIF Partners', 'LeapFrog Investments',\n",
       "       'Aavishkar Capital', 'Unicorn India ventures',\n",
       "       'Pecus Capital, Madhur Deora', 'Temasek', 'Ideaspring capital',\n",
       "       'ThinkNext LLC', 'MG Motor India',\n",
       "       'Ashneer Grover, Kunal Shah, Ramakant Sharma',\n",
       "       'KYT Ventures, First Cheque, AngelList',\n",
       "       'Polychain Capital, Bain Capital Ventures, HDR Group',\n",
       "       'Risers Accelerators', 'Accel India, Lightspeed Venture Partners',\n",
       "       'Gautham Madhavan', 'Pegasus FinInvest',\n",
       "       'TPG-backed Group Landmark', 'CESC Ventures', 'Naya Ventures',\n",
       "       'pi Ventures',\n",
       "       'Rajeev Juneja, Pratul Shroff, Dilip Khandelwal, Piyush Gupta',\n",
       "       'Mahendra Singh Dhoni', 'LGT LightstoneAspada',\n",
       "       'Godrej Investments',\n",
       "       'Stellaris Venture Partners, Unilever Ventures, Kalaari Capital, Vy Capital',\n",
       "       'Sorenson Impact', 'Vishal Dixit',\n",
       "       'Pawan Munjal Family Trust Fund', 'Lodha Ventures',\n",
       "       'Y Combinator, Venture Highway, Sequoia India, Global Founders Capital',\n",
       "       'Arali Ventures, CIIE.CO',\n",
       "       'Kunal Shah, Amrish Rau, Jitendra Gupta', 'Accel India',\n",
       "       'Mistletoe', 'KA Enterprise',\n",
       "       'Lead Angels Network, Stanford Angels', 'Angel network',\n",
       "       'LetsVenture investors',\n",
       "       'Advent Management, A91 Emerging Fund, Trifecta Venture',\n",
       "       'SAIF Partners, Mayfield India', 'Rukam Capital',\n",
       "       'UTEC-The University of Tokyo Edge Capital, Aflac Ventures, LLC, Dream Incubator, TeamFund',\n",
       "       'Ixigo', 'Sequoia’s Surge, Fosun RZ', 'Alok Garg',\n",
       "       'InnoVen Capital', 'Anicut Angel Fund', 'Aavishkaar Capital',\n",
       "       'Paragon Partners', 'Yuanfudao',\n",
       "       'Nandan Nilekani, Sanjeev Aggarwal', 'Atraxn Partners.',\n",
       "       'Morgan Stanley Private Equity Asia', 'Lightstone Aspada',\n",
       "       'Samsung Venture Investment', 'Indian Angel Network',\n",
       "       'Media Development Investment Fund', 'Accelerator MOX',\n",
       "       'Nandan Nilekani, Samsung Venture Investment Corporation',\n",
       "       'Maharashtra Defence, Aerospace Venture Fund (MDAVF)',\n",
       "       'Kunal Bahl, Rohit Bansal',\n",
       "       'GGV Capital, Bertelsmann India Investments, Binny Bansal, Sequoia India, Accel Partners',\n",
       "       'CDC Group Plc', 'Ribbit Capital', 'Sequoia Capital’s Surge',\n",
       "       'Peerplays', 'Sauce.vc', 'AdvantEdge', 'Accion Venture Lab',\n",
       "       'SucSEED Venture Partners, BIRAC, Elixir Pharma, Titan Capital',\n",
       "       'Prosus N.V',\n",
       "       'Facebook, General Atlantic, Sequoia India, Nexus Venture Partners, Steadview Capital, Blume Ventures',\n",
       "       'Hindustan Media Ventures', 'Virat Kohli, Anushka Sharma',\n",
       "       'Rockstud Capital',\n",
       "       'IAN Fund-I,\\xa0\\xa0Al Falaj Investment Company (AFI)',\n",
       "       'WAVE Equity Partners, Chevron Technology Ventures, Marubeni Corporation.',\n",
       "       'Zodius Growth Fund',\n",
       "       'Mahesh Mohta, Jyoti Arora, Nachu Subramanian, Srivats',\n",
       "       'Indian Angel Network, Lead Angels, Hyderabad Angels',\n",
       "       'Triton Investment Advisors,',\n",
       "       'Accel Partners, Shunwei Capital, Good Capital',\n",
       "       'SIG Global India Fund', 'Kolte-Patil Family Office',\n",
       "       'Ashwin Khorana', 'Tarun Bhalla', 'Z3 Partners',\n",
       "       'One97 Communications', 'GGV Capital',\n",
       "       'Amrish Rau, Kunal Shah, Jitendra Gupta',\n",
       "       'Omnivore, Accel Partners, Mayfield',\n",
       "       'Kleiner Perkins, Canapi Ventures, Index Ventures, Nyca Partners, General Catalyst.',\n",
       "       'Info Edge Ltd', 'Chowdry Associates', 'Pharmacon Holdings',\n",
       "       'Blume Ventures, Sequoia', 'Think Investment', 'Udaan',\n",
       "       'Pidilite Industries', 'Softbank’s Vision Fund',\n",
       "       'LightBox Ventures', 'Xiaomi', 'Info Edge Venture Fund',\n",
       "       'Neev Fund',\n",
       "       'FirstCheque, Angellist India, Aakrit Vaish, Ranjith Radhakrishnan',\n",
       "       'Arunachal Pradesh Social Entrepreneurship Meet', 'IndiaQuotient',\n",
       "       'PayU, Fosun RZ Capital', 'Unitus Ventures.',\n",
       "       'Avaana Capital, Titan Capital', 'Institutional Investors',\n",
       "       'Tim Draper', 'Beenext', 'Reliance Industries Limited (RIL)',\n",
       "       'Equanimity Ventures', 'Mistletoe, Info Edge Asia',\n",
       "       'Bill & Melinda Gates Foundation',\n",
       "       'JITO Angel Network, Ketan Kothari, Girish Jain, Sunil Singhvi, Vinay Jain',\n",
       "       'Ant Financial', 'GrowX ventures, Prophetic Ventures',\n",
       "       'Atsushi Taira', 'Manish Choksi', 'InnoVen capital',\n",
       "       'SenseAI Ventures',\n",
       "       'Tiger Global Management, Sequoia Capital India, Singapore’s Economic Development Board (EBD)',\n",
       "       'Aquiline Technology Growth (ATG), RTP Global, Sequoia India',\n",
       "       'Frontline Strategy Finds, SucSEED Venture Partners LLP',\n",
       "       'Tiger Global, Steadview Capital, DF International Private Partners',\n",
       "       'Schroder Adveq', 'A91 Partners, Faering Capital, TVS Capital',\n",
       "       'Tahoe Investment Group, Mercer Investment', 'Mastercard',\n",
       "       'SOSV, Chinaccelerator', 'Tiger Global, Steadview Capital',\n",
       "       'She Capital',\n",
       "       'Green Shots Capital, Alfa Ventures, Real Time Venture, Petrotech, Steel City Securities, Lalit Wadhwa, Dr Kriti Maroli',\n",
       "       'Yuj Ventures', 'Accel Partners, B Capital',\n",
       "       'Sequoia Capital, Matrix Partners India',\n",
       "       'Ginni International, Elisa Khong, Sandeep Singh, VegInvest',\n",
       "       'SoftBank Group', 'Sony Innovation Fund',\n",
       "       'Amit Singal, Manish Aggarwal',\n",
       "       'Windrose Capital, ITI Growth Opportunities Venture Fund',\n",
       "       'Yatra Angel Network (YAN)', 'WestBridge Capital',\n",
       "       'Sprout Venture Partners, Indian Angel Network', 'La Gajjar Group',\n",
       "       'ICONIQ Capital', 'Matrix Partners India',\n",
       "       'Sequoia Capital, Ribbit Capital, Amazon, Saif Partners',\n",
       "       'Flipkart India, Singapore-based GEC3',\n",
       "       'Omnivore, Insitor Impact Asia Fund', 'Kalaari Capital',\n",
       "       'Suma Soft Pvt Ltd',\n",
       "       'Sprout Venture Partners, JITO Angel Network, LetsVenture',\n",
       "       'Refex Capital', 'James Murdoch-led Lupa Systems',\n",
       "       'Lightspeed Venture Partners, Sequoia Surge',\n",
       "       'Omidyar Network India', 'Space Capital',\n",
       "       'IIM Ahmedabad’s incubator (CIIE.CO),Chandigarh Angels Network',\n",
       "       'Iron Pillar', 'Lightbox. Social Capital, Dunce Capital',\n",
       "       'GMO Payment Gateway', 'Tiger Global', 'The Chennai Angels (TCA)',\n",
       "       'HNIs in India, Japan, and the US', 'Vishnu Reddy',\n",
       "       'Zerodha fintech fund, Rainmatter', 'Austrian Bank', 'Alibaba',\n",
       "       'TechnoGen', 'NorthStar, Vinod Khatumal',\n",
       "       'Chiratae Ventures, Sequoia Capital, Orios Venture Partners',\n",
       "       'Sprout venture partners', 'DSG Consumer Partners, Blume Ventures',\n",
       "       'Sequoia India, Ribbit Capital', 'Verlinvest',\n",
       "       'SIG Global India Fund LLP.'], dtype=object)"
      ]
     },
     "execution_count": 177,
     "metadata": {},
     "output_type": "execute_result"
    }
   ],
   "source": [
    "data['Investor'].unique()"
   ]
  },
  {
   "cell_type": "code",
   "execution_count": 178,
   "metadata": {},
   "outputs": [
    {
     "data": {
      "text/plain": [
       "array([2.0000000e+05, 1.0000000e+05,           nan, 4.0000000e+05,\n",
       "       3.4000000e+05, 6.0000000e+05, 4.5000000e+07, 1.0000000e+06,\n",
       "       2.0000000e+06, 1.2000000e+06, 6.6000000e+08, 1.2000000e+05,\n",
       "       7.5000000e+06, 5.0000000e+06, 5.0000000e+05, 3.0000000e+06,\n",
       "       1.0000000e+07, 1.4500000e+08, 1.0000000e+08, 2.1000000e+07,\n",
       "       4.0000000e+06, 2.0000000e+07, 5.6000000e+05, 2.7500000e+05,\n",
       "       4.5000000e+06, 1.5000000e+07, 3.9000000e+08, 7.0000000e+06,\n",
       "       5.1000000e+06, 7.0000000e+08, 2.3000000e+06, 7.0000000e+05,\n",
       "       1.9000000e+07, 9.0000000e+06, 4.0000000e+07, 7.5000000e+05,\n",
       "       1.5000000e+06, 7.8000000e+06, 5.0000000e+07, 8.0000000e+07,\n",
       "       3.0000000e+07, 1.7000000e+06, 2.5000000e+06, 4.0000000e+04,\n",
       "       3.3000000e+07, 3.5000000e+07, 3.0000000e+05, 2.5000000e+07,\n",
       "       3.5000000e+06, 2.0000000e+08, 6.0000000e+06, 1.3000000e+06,\n",
       "       4.1000000e+06, 5.7500000e+05, 8.0000000e+05, 2.8000000e+07,\n",
       "       1.8000000e+07, 3.2000000e+06, 9.0000000e+05, 2.5000000e+05,\n",
       "       4.7000000e+06, 7.5000000e+07, 8.0000000e+06, 1.2100000e+08,\n",
       "       5.5000000e+07, 3.3000000e+06, 1.1000000e+07, 1.6000000e+07,\n",
       "       5.4000000e+06, 1.5000000e+08, 4.2000000e+06, 2.2000000e+07,\n",
       "       5.2000000e+07, 1.1000000e+06, 1.1800000e+08, 1.6000000e+06,\n",
       "       1.8500000e+07, 7.0000000e+10, 8.0000000e+08, 4.0000000e+08,\n",
       "       1.5000000e+05, 1.7600000e+08, 6.0000000e+07, 4.7000000e+05,\n",
       "       2.4000000e+05, 3.0000000e+09, 7.4000000e+07, 6.2000000e+07,\n",
       "       2.1000000e+06, 5.0000000e+08, 1.2500000e+07, 2.2000000e+09,\n",
       "       5.0600000e+06, 2.2500000e+08, 2.4700000e+07, 7.7000000e+06,\n",
       "       1.9067328e+07, 5.1000000e+07, 1.1500000e+05, 5.4000000e+04,\n",
       "       2.0000000e+04, 8.0314600e+05, 2.3800000e+05, 1.0220000e+07,\n",
       "       1.0200000e+06, 1.2000000e+07, 1.3400000e+07, 1.7000000e+08,\n",
       "       2.9000000e+06, 5.4300000e+05, 9.0000000e+07, 3.4000000e+06,\n",
       "       2.3000000e+07, 8.0900000e+06, 1.0300000e+06, 5.0400000e+06,\n",
       "       3.6000000e+05, 1.4000000e+06, 6.5000000e+05, 5.4000000e+07,\n",
       "       4.2500000e+07, 1.1370000e+07, 3.2500000e+05, 4.1000000e+05,\n",
       "       4.5000000e+05, 6.8200000e+05, 4.0500000e+06, 1.0500000e+06,\n",
       "       1.0800000e+06, 4.3000000e+06, 6.8000000e+06, 2.1100000e+06,\n",
       "       7.6400000e+05, 6.0300000e+05, 4.0900000e+05, 2.9200000e+05,\n",
       "       2.8600000e+05, 1.3600000e+05, 5.4600000e+05, 8.8700000e+05,\n",
       "       4.3000000e+04, 4.0900000e+04, 2.2000000e+06, 5.6600000e+06,\n",
       "       3.5000000e+05, 1.1000000e+05, 1.2200000e+08, 1.1635000e+07,\n",
       "       2.8000000e+06, 1.0650000e+06, 6.6900000e+05, 1.6076000e+07,\n",
       "       6.4960000e+05, 6.7000000e+06, 2.2000000e+05, 2.6650000e+05,\n",
       "       2.8790000e+06, 2.6500000e+07, 3.5100000e+05, 4.6761000e+07,\n",
       "       1.7500000e+05, 1.1241000e+07, 8.0400000e+05, 1.3400000e+06,\n",
       "       4.6700000e+05, 1.3300000e+05, 3.8230000e+06, 9.3400000e+05,\n",
       "       2.9300000e+05, 1.9800000e+05, 9.2700000e+05, 9.7100000e+05,\n",
       "       3.0600000e+06, 1.8620000e+06, 2.3200000e+05, 2.8880000e+06,\n",
       "       1.3280000e+06, 1.5500000e+07, 5.6000000e+07, 2.2500000e+06,\n",
       "       1.6753000e+07, 3.7000000e+06, 1.4700000e+06, 5.3000000e+05,\n",
       "       2.6700000e+05, 3.3440000e+06, 7.2000000e+06, 2.7430000e+06,\n",
       "       6.0820000e+06, 6.6090000e+06, 2.7700000e+07, 5.9400000e+06,\n",
       "       3.9640000e+06, 5.5000000e+06, 1.9700000e+05, 4.3270000e+06,\n",
       "       4.5900000e+05, 3.9370000e+06, 1.3135000e+06, 2.2980000e+05,\n",
       "       5.3050000e+06, 2.6400000e+05, 1.7500000e+06, 5.9670000e+06,\n",
       "       2.9800000e+06, 3.2300000e+05, 1.3260000e+06, 2.7000000e+07,\n",
       "       5.2000000e+06, 2.5300000e+06, 7.9200000e+05, 1.1363000e+07,\n",
       "       1.7150000e+06, 3.2900000e+05, 5.2710000e+06, 8.7000000e+06,\n",
       "       3.2260000e+06, 5.9000000e+06, 4.4000000e+07, 3.8790000e+06,\n",
       "       1.3000000e+07, 8.8000000e+06, 9.5000000e+06, 9.2000000e+05,\n",
       "       3.5600000e+07, 9.4000000e+06, 7.9000000e+05, 4.8000000e+05,\n",
       "       1.6000000e+05, 8.2000000e+06, 4.2570000e+06, 1.4100000e+06,\n",
       "       3.4980000e+05, 7.8600000e+05, 2.0040000e+06, 1.2300000e+08,\n",
       "       2.4800000e+05, 2.4000000e+07, 1.4259000e+07, 2.4500000e+07,\n",
       "       3.8000000e+06, 1.8370000e+07, 6.8525000e+07, 4.8000000e+06,\n",
       "       1.8340000e+06, 2.3850000e+07, 4.3000000e+07, 2.1600000e+07,\n",
       "       4.5980000e+06, 1.3137000e+07, 1.1500000e+08, 3.9000000e+06,\n",
       "       6.7000000e+05, 8.5000000e+06, 3.1480000e+06, 2.6000000e+06,\n",
       "       4.0495000e+06, 1.0500000e+07, 6.5000000e+06, 4.3700000e+07,\n",
       "       1.3800000e+07, 3.0690000e+05, 4.2000000e+05, 6.2730000e+05,\n",
       "       1.1300000e+08, 3.2000000e+07, 1.1000000e+08, 1.3970000e+06,\n",
       "       4.4850000e+05, 7.9757000e+06, 3.3000000e+05, 5.6000000e+06,\n",
       "       1.4020000e+06, 2.1500000e+07, 2.9600000e+08, 4.9000000e+06,\n",
       "       1.4024000e+06, 1.2618300e+07, 9.9000000e+06, 9.8253000e+05,\n",
       "       7.0185200e+07, 2.1000000e+08, 8.4000000e+07, 3.9000000e+07,\n",
       "       2.7000000e+06, 1.4034000e+06, 1.0500000e+08, 1.0300000e+08,\n",
       "       2.8130000e+05, 1.2700000e+04, 2.5000000e+04, 9.7500000e+07,\n",
       "       5.0700000e+05, 8.4000000e+06, 1.8300000e+07, 1.2500000e+08,\n",
       "       1.8100000e+05, 2.8000000e+05, 1.4700000e+07, 1.3200000e+07,\n",
       "       8.0430000e+06])"
      ]
     },
     "execution_count": 178,
     "metadata": {},
     "output_type": "execute_result"
    }
   ],
   "source": [
    "data['Amount'].unique()"
   ]
  },
  {
   "cell_type": "code",
   "execution_count": 179,
   "metadata": {},
   "outputs": [
    {
     "data": {
      "text/plain": [
       "count    8.010000e+02\n",
       "mean     1.130430e+08\n",
       "std      2.476635e+09\n",
       "min      1.270000e+04\n",
       "25%      1.000000e+06\n",
       "50%      3.000000e+06\n",
       "75%      1.100000e+07\n",
       "max      7.000000e+10\n",
       "Name: Amount, dtype: float64"
      ]
     },
     "execution_count": 179,
     "metadata": {},
     "output_type": "execute_result"
    }
   ],
   "source": [
    "# Statistical Summary \n",
    "data['Amount'].describe().T"
   ]
  },
  {
   "cell_type": "code",
   "execution_count": 180,
   "metadata": {},
   "outputs": [
    {
     "data": {
      "text/plain": [
       "array([None, 'Pre-seed', 'Seed', 'Pre-series A', 'Pre-series', 'Series C',\n",
       "       'Series A', 'Series B', 'Debt', 'Pre-series C', 'Pre-series B',\n",
       "       'Series E', 'Bridge', 'Series D', 'Series B2', 'Series F',\n",
       "       'Pre- series A', 'Edge', 'Series H', 'Pre-Series B', 'Seed A',\n",
       "       'Series A-1', 'Seed Funding', 'Pre-Seed', 'Seed round',\n",
       "       'Pre-seed Round', 'Seed Round & Series A', 'Pre Series A',\n",
       "       'Pre seed Round', 'Angel Round', 'Pre series A1', 'Series E2',\n",
       "       'Pre series A', 'Seed Round', 'Bridge Round', 'Pre seed round',\n",
       "       'Pre series B', 'Pre series C', 'Seed Investment', 'Series D1',\n",
       "       'Mid series', 'Series C, D', 'Seed funding'], dtype=object)"
      ]
     },
     "execution_count": 180,
     "metadata": {},
     "output_type": "execute_result"
    }
   ],
   "source": [
    "data['Stage'].unique()"
   ]
  },
  {
   "cell_type": "code",
   "execution_count": 181,
   "metadata": {},
   "outputs": [
    {
     "data": {
      "text/plain": [
       "Stage\n",
       "Series A        96\n",
       "Seed            80\n",
       "Seed Round      69\n",
       "Series B        57\n",
       "Pre series A    54\n",
       "Name: count, dtype: int64"
      ]
     },
     "execution_count": 181,
     "metadata": {},
     "output_type": "execute_result"
    }
   ],
   "source": [
    "Stage_counts = data['Stage'].value_counts()\n",
    "\n",
    "Stage_counts.head()"
   ]
  },
  {
   "cell_type": "markdown",
   "metadata": {},
   "source": [
    "Data cleaning 1st Dataset-2020 (Data)"
   ]
  },
  {
   "cell_type": "code",
   "execution_count": 182,
   "metadata": {},
   "outputs": [],
   "source": [
    " # Handling Company_Brand ensure all values start with upper case\n",
    "\n",
    "# Convert all enries to title\n",
    "data['Company_Brand'] = data['Company_Brand'].str.title()"
   ]
  },
  {
   "cell_type": "code",
   "execution_count": 183,
   "metadata": {},
   "outputs": [],
   "source": [
    "# Handling Hedquarter Column \n",
    "\n",
    "# Fill missing values \n",
    "data['HeadQuarter'].fillna('Bangalore', inplace=True)\n",
    "\n",
    "# Convert all enries to title\n",
    "data['HeadQuarter'] = data['HeadQuarter'].str.title()\n"
   ]
  },
  {
   "cell_type": "code",
   "execution_count": 184,
   "metadata": {},
   "outputs": [
    {
     "ename": "IntCastingNaNError",
     "evalue": "Cannot convert non-finite values (NA or inf) to integer",
     "output_type": "error",
     "traceback": [
      "\u001b[1;31m---------------------------------------------------------------------------\u001b[0m",
      "\u001b[1;31mIntCastingNaNError\u001b[0m                        Traceback (most recent call last)",
      "Cell \u001b[1;32mIn[184], line 8\u001b[0m\n\u001b[0;32m      4\u001b[0m data[\u001b[38;5;124m'\u001b[39m\u001b[38;5;124mFounded\u001b[39m\u001b[38;5;124m'\u001b[39m] \u001b[38;5;241m=\u001b[39m data[\u001b[38;5;124m'\u001b[39m\u001b[38;5;124mFounded\u001b[39m\u001b[38;5;124m'\u001b[39m]\u001b[38;5;241m.\u001b[39mfillna(data[\u001b[38;5;124m'\u001b[39m\u001b[38;5;124mFounded\u001b[39m\u001b[38;5;124m'\u001b[39m]\u001b[38;5;241m.\u001b[39mmode())\n\u001b[0;32m      7\u001b[0m \u001b[38;5;66;03m# Convert 'Founded'  to integer datatype \u001b[39;00m\n\u001b[1;32m----> 8\u001b[0m data[\u001b[38;5;124m'\u001b[39m\u001b[38;5;124mFounded\u001b[39m\u001b[38;5;124m'\u001b[39m] \u001b[38;5;241m=\u001b[39m \u001b[43mdata\u001b[49m\u001b[43m \u001b[49m\u001b[43m[\u001b[49m\u001b[38;5;124;43m'\u001b[39;49m\u001b[38;5;124;43mFounded\u001b[39;49m\u001b[38;5;124;43m'\u001b[39;49m\u001b[43m]\u001b[49m\u001b[38;5;241;43m.\u001b[39;49m\u001b[43mastype\u001b[49m\u001b[43m(\u001b[49m\u001b[38;5;28;43mint\u001b[39;49m\u001b[43m)\u001b[49m\n",
      "File \u001b[1;32mc:\\Users\\Admin\\AppData\\Local\\Programs\\Python\\Python310\\lib\\site-packages\\pandas\\core\\generic.py:6640\u001b[0m, in \u001b[0;36mNDFrame.astype\u001b[1;34m(self, dtype, copy, errors)\u001b[0m\n\u001b[0;32m   6634\u001b[0m     results \u001b[38;5;241m=\u001b[39m [\n\u001b[0;32m   6635\u001b[0m         ser\u001b[38;5;241m.\u001b[39mastype(dtype, copy\u001b[38;5;241m=\u001b[39mcopy, errors\u001b[38;5;241m=\u001b[39merrors) \u001b[38;5;28;01mfor\u001b[39;00m _, ser \u001b[38;5;129;01min\u001b[39;00m \u001b[38;5;28mself\u001b[39m\u001b[38;5;241m.\u001b[39mitems()\n\u001b[0;32m   6636\u001b[0m     ]\n\u001b[0;32m   6638\u001b[0m \u001b[38;5;28;01melse\u001b[39;00m:\n\u001b[0;32m   6639\u001b[0m     \u001b[38;5;66;03m# else, only a single dtype is given\u001b[39;00m\n\u001b[1;32m-> 6640\u001b[0m     new_data \u001b[38;5;241m=\u001b[39m \u001b[38;5;28;43mself\u001b[39;49m\u001b[38;5;241;43m.\u001b[39;49m\u001b[43m_mgr\u001b[49m\u001b[38;5;241;43m.\u001b[39;49m\u001b[43mastype\u001b[49m\u001b[43m(\u001b[49m\u001b[43mdtype\u001b[49m\u001b[38;5;241;43m=\u001b[39;49m\u001b[43mdtype\u001b[49m\u001b[43m,\u001b[49m\u001b[43m \u001b[49m\u001b[43mcopy\u001b[49m\u001b[38;5;241;43m=\u001b[39;49m\u001b[43mcopy\u001b[49m\u001b[43m,\u001b[49m\u001b[43m \u001b[49m\u001b[43merrors\u001b[49m\u001b[38;5;241;43m=\u001b[39;49m\u001b[43merrors\u001b[49m\u001b[43m)\u001b[49m\n\u001b[0;32m   6641\u001b[0m     res \u001b[38;5;241m=\u001b[39m \u001b[38;5;28mself\u001b[39m\u001b[38;5;241m.\u001b[39m_constructor_from_mgr(new_data, axes\u001b[38;5;241m=\u001b[39mnew_data\u001b[38;5;241m.\u001b[39maxes)\n\u001b[0;32m   6642\u001b[0m     \u001b[38;5;28;01mreturn\u001b[39;00m res\u001b[38;5;241m.\u001b[39m__finalize__(\u001b[38;5;28mself\u001b[39m, method\u001b[38;5;241m=\u001b[39m\u001b[38;5;124m\"\u001b[39m\u001b[38;5;124mastype\u001b[39m\u001b[38;5;124m\"\u001b[39m)\n",
      "File \u001b[1;32mc:\\Users\\Admin\\AppData\\Local\\Programs\\Python\\Python310\\lib\\site-packages\\pandas\\core\\internals\\managers.py:430\u001b[0m, in \u001b[0;36mBaseBlockManager.astype\u001b[1;34m(self, dtype, copy, errors)\u001b[0m\n\u001b[0;32m    427\u001b[0m \u001b[38;5;28;01melif\u001b[39;00m using_copy_on_write():\n\u001b[0;32m    428\u001b[0m     copy \u001b[38;5;241m=\u001b[39m \u001b[38;5;28;01mFalse\u001b[39;00m\n\u001b[1;32m--> 430\u001b[0m \u001b[38;5;28;01mreturn\u001b[39;00m \u001b[38;5;28;43mself\u001b[39;49m\u001b[38;5;241;43m.\u001b[39;49m\u001b[43mapply\u001b[49m\u001b[43m(\u001b[49m\n\u001b[0;32m    431\u001b[0m \u001b[43m    \u001b[49m\u001b[38;5;124;43m\"\u001b[39;49m\u001b[38;5;124;43mastype\u001b[39;49m\u001b[38;5;124;43m\"\u001b[39;49m\u001b[43m,\u001b[49m\n\u001b[0;32m    432\u001b[0m \u001b[43m    \u001b[49m\u001b[43mdtype\u001b[49m\u001b[38;5;241;43m=\u001b[39;49m\u001b[43mdtype\u001b[49m\u001b[43m,\u001b[49m\n\u001b[0;32m    433\u001b[0m \u001b[43m    \u001b[49m\u001b[43mcopy\u001b[49m\u001b[38;5;241;43m=\u001b[39;49m\u001b[43mcopy\u001b[49m\u001b[43m,\u001b[49m\n\u001b[0;32m    434\u001b[0m \u001b[43m    \u001b[49m\u001b[43merrors\u001b[49m\u001b[38;5;241;43m=\u001b[39;49m\u001b[43merrors\u001b[49m\u001b[43m,\u001b[49m\n\u001b[0;32m    435\u001b[0m \u001b[43m    \u001b[49m\u001b[43musing_cow\u001b[49m\u001b[38;5;241;43m=\u001b[39;49m\u001b[43musing_copy_on_write\u001b[49m\u001b[43m(\u001b[49m\u001b[43m)\u001b[49m\u001b[43m,\u001b[49m\n\u001b[0;32m    436\u001b[0m \u001b[43m\u001b[49m\u001b[43m)\u001b[49m\n",
      "File \u001b[1;32mc:\\Users\\Admin\\AppData\\Local\\Programs\\Python\\Python310\\lib\\site-packages\\pandas\\core\\internals\\managers.py:363\u001b[0m, in \u001b[0;36mBaseBlockManager.apply\u001b[1;34m(self, f, align_keys, **kwargs)\u001b[0m\n\u001b[0;32m    361\u001b[0m         applied \u001b[38;5;241m=\u001b[39m b\u001b[38;5;241m.\u001b[39mapply(f, \u001b[38;5;241m*\u001b[39m\u001b[38;5;241m*\u001b[39mkwargs)\n\u001b[0;32m    362\u001b[0m     \u001b[38;5;28;01melse\u001b[39;00m:\n\u001b[1;32m--> 363\u001b[0m         applied \u001b[38;5;241m=\u001b[39m \u001b[38;5;28mgetattr\u001b[39m(b, f)(\u001b[38;5;241m*\u001b[39m\u001b[38;5;241m*\u001b[39mkwargs)\n\u001b[0;32m    364\u001b[0m     result_blocks \u001b[38;5;241m=\u001b[39m extend_blocks(applied, result_blocks)\n\u001b[0;32m    366\u001b[0m out \u001b[38;5;241m=\u001b[39m \u001b[38;5;28mtype\u001b[39m(\u001b[38;5;28mself\u001b[39m)\u001b[38;5;241m.\u001b[39mfrom_blocks(result_blocks, \u001b[38;5;28mself\u001b[39m\u001b[38;5;241m.\u001b[39maxes)\n",
      "File \u001b[1;32mc:\\Users\\Admin\\AppData\\Local\\Programs\\Python\\Python310\\lib\\site-packages\\pandas\\core\\internals\\blocks.py:758\u001b[0m, in \u001b[0;36mBlock.astype\u001b[1;34m(self, dtype, copy, errors, using_cow, squeeze)\u001b[0m\n\u001b[0;32m    755\u001b[0m         \u001b[38;5;28;01mraise\u001b[39;00m \u001b[38;5;167;01mValueError\u001b[39;00m(\u001b[38;5;124m\"\u001b[39m\u001b[38;5;124mCan not squeeze with more than one column.\u001b[39m\u001b[38;5;124m\"\u001b[39m)\n\u001b[0;32m    756\u001b[0m     values \u001b[38;5;241m=\u001b[39m values[\u001b[38;5;241m0\u001b[39m, :]  \u001b[38;5;66;03m# type: ignore[call-overload]\u001b[39;00m\n\u001b[1;32m--> 758\u001b[0m new_values \u001b[38;5;241m=\u001b[39m \u001b[43mastype_array_safe\u001b[49m\u001b[43m(\u001b[49m\u001b[43mvalues\u001b[49m\u001b[43m,\u001b[49m\u001b[43m \u001b[49m\u001b[43mdtype\u001b[49m\u001b[43m,\u001b[49m\u001b[43m \u001b[49m\u001b[43mcopy\u001b[49m\u001b[38;5;241;43m=\u001b[39;49m\u001b[43mcopy\u001b[49m\u001b[43m,\u001b[49m\u001b[43m \u001b[49m\u001b[43merrors\u001b[49m\u001b[38;5;241;43m=\u001b[39;49m\u001b[43merrors\u001b[49m\u001b[43m)\u001b[49m\n\u001b[0;32m    760\u001b[0m new_values \u001b[38;5;241m=\u001b[39m maybe_coerce_values(new_values)\n\u001b[0;32m    762\u001b[0m refs \u001b[38;5;241m=\u001b[39m \u001b[38;5;28;01mNone\u001b[39;00m\n",
      "File \u001b[1;32mc:\\Users\\Admin\\AppData\\Local\\Programs\\Python\\Python310\\lib\\site-packages\\pandas\\core\\dtypes\\astype.py:237\u001b[0m, in \u001b[0;36mastype_array_safe\u001b[1;34m(values, dtype, copy, errors)\u001b[0m\n\u001b[0;32m    234\u001b[0m     dtype \u001b[38;5;241m=\u001b[39m dtype\u001b[38;5;241m.\u001b[39mnumpy_dtype\n\u001b[0;32m    236\u001b[0m \u001b[38;5;28;01mtry\u001b[39;00m:\n\u001b[1;32m--> 237\u001b[0m     new_values \u001b[38;5;241m=\u001b[39m \u001b[43mastype_array\u001b[49m\u001b[43m(\u001b[49m\u001b[43mvalues\u001b[49m\u001b[43m,\u001b[49m\u001b[43m \u001b[49m\u001b[43mdtype\u001b[49m\u001b[43m,\u001b[49m\u001b[43m \u001b[49m\u001b[43mcopy\u001b[49m\u001b[38;5;241;43m=\u001b[39;49m\u001b[43mcopy\u001b[49m\u001b[43m)\u001b[49m\n\u001b[0;32m    238\u001b[0m \u001b[38;5;28;01mexcept\u001b[39;00m (\u001b[38;5;167;01mValueError\u001b[39;00m, \u001b[38;5;167;01mTypeError\u001b[39;00m):\n\u001b[0;32m    239\u001b[0m     \u001b[38;5;66;03m# e.g. _astype_nansafe can fail on object-dtype of strings\u001b[39;00m\n\u001b[0;32m    240\u001b[0m     \u001b[38;5;66;03m#  trying to convert to float\u001b[39;00m\n\u001b[0;32m    241\u001b[0m     \u001b[38;5;28;01mif\u001b[39;00m errors \u001b[38;5;241m==\u001b[39m \u001b[38;5;124m\"\u001b[39m\u001b[38;5;124mignore\u001b[39m\u001b[38;5;124m\"\u001b[39m:\n",
      "File \u001b[1;32mc:\\Users\\Admin\\AppData\\Local\\Programs\\Python\\Python310\\lib\\site-packages\\pandas\\core\\dtypes\\astype.py:182\u001b[0m, in \u001b[0;36mastype_array\u001b[1;34m(values, dtype, copy)\u001b[0m\n\u001b[0;32m    179\u001b[0m     values \u001b[38;5;241m=\u001b[39m values\u001b[38;5;241m.\u001b[39mastype(dtype, copy\u001b[38;5;241m=\u001b[39mcopy)\n\u001b[0;32m    181\u001b[0m \u001b[38;5;28;01melse\u001b[39;00m:\n\u001b[1;32m--> 182\u001b[0m     values \u001b[38;5;241m=\u001b[39m \u001b[43m_astype_nansafe\u001b[49m\u001b[43m(\u001b[49m\u001b[43mvalues\u001b[49m\u001b[43m,\u001b[49m\u001b[43m \u001b[49m\u001b[43mdtype\u001b[49m\u001b[43m,\u001b[49m\u001b[43m \u001b[49m\u001b[43mcopy\u001b[49m\u001b[38;5;241;43m=\u001b[39;49m\u001b[43mcopy\u001b[49m\u001b[43m)\u001b[49m\n\u001b[0;32m    184\u001b[0m \u001b[38;5;66;03m# in pandas we don't store numpy str dtypes, so convert to object\u001b[39;00m\n\u001b[0;32m    185\u001b[0m \u001b[38;5;28;01mif\u001b[39;00m \u001b[38;5;28misinstance\u001b[39m(dtype, np\u001b[38;5;241m.\u001b[39mdtype) \u001b[38;5;129;01mand\u001b[39;00m \u001b[38;5;28missubclass\u001b[39m(values\u001b[38;5;241m.\u001b[39mdtype\u001b[38;5;241m.\u001b[39mtype, \u001b[38;5;28mstr\u001b[39m):\n",
      "File \u001b[1;32mc:\\Users\\Admin\\AppData\\Local\\Programs\\Python\\Python310\\lib\\site-packages\\pandas\\core\\dtypes\\astype.py:101\u001b[0m, in \u001b[0;36m_astype_nansafe\u001b[1;34m(arr, dtype, copy, skipna)\u001b[0m\n\u001b[0;32m     96\u001b[0m     \u001b[38;5;28;01mreturn\u001b[39;00m lib\u001b[38;5;241m.\u001b[39mensure_string_array(\n\u001b[0;32m     97\u001b[0m         arr, skipna\u001b[38;5;241m=\u001b[39mskipna, convert_na_value\u001b[38;5;241m=\u001b[39m\u001b[38;5;28;01mFalse\u001b[39;00m\n\u001b[0;32m     98\u001b[0m     )\u001b[38;5;241m.\u001b[39mreshape(shape)\n\u001b[0;32m    100\u001b[0m \u001b[38;5;28;01melif\u001b[39;00m np\u001b[38;5;241m.\u001b[39missubdtype(arr\u001b[38;5;241m.\u001b[39mdtype, np\u001b[38;5;241m.\u001b[39mfloating) \u001b[38;5;129;01mand\u001b[39;00m dtype\u001b[38;5;241m.\u001b[39mkind \u001b[38;5;129;01min\u001b[39;00m \u001b[38;5;124m\"\u001b[39m\u001b[38;5;124miu\u001b[39m\u001b[38;5;124m\"\u001b[39m:\n\u001b[1;32m--> 101\u001b[0m     \u001b[38;5;28;01mreturn\u001b[39;00m \u001b[43m_astype_float_to_int_nansafe\u001b[49m\u001b[43m(\u001b[49m\u001b[43marr\u001b[49m\u001b[43m,\u001b[49m\u001b[43m \u001b[49m\u001b[43mdtype\u001b[49m\u001b[43m,\u001b[49m\u001b[43m \u001b[49m\u001b[43mcopy\u001b[49m\u001b[43m)\u001b[49m\n\u001b[0;32m    103\u001b[0m \u001b[38;5;28;01melif\u001b[39;00m arr\u001b[38;5;241m.\u001b[39mdtype \u001b[38;5;241m==\u001b[39m \u001b[38;5;28mobject\u001b[39m:\n\u001b[0;32m    104\u001b[0m     \u001b[38;5;66;03m# if we have a datetime/timedelta array of objects\u001b[39;00m\n\u001b[0;32m    105\u001b[0m     \u001b[38;5;66;03m# then coerce to datetime64[ns] and use DatetimeArray.astype\u001b[39;00m\n\u001b[0;32m    107\u001b[0m     \u001b[38;5;28;01mif\u001b[39;00m lib\u001b[38;5;241m.\u001b[39mis_np_dtype(dtype, \u001b[38;5;124m\"\u001b[39m\u001b[38;5;124mM\u001b[39m\u001b[38;5;124m\"\u001b[39m):\n",
      "File \u001b[1;32mc:\\Users\\Admin\\AppData\\Local\\Programs\\Python\\Python310\\lib\\site-packages\\pandas\\core\\dtypes\\astype.py:145\u001b[0m, in \u001b[0;36m_astype_float_to_int_nansafe\u001b[1;34m(values, dtype, copy)\u001b[0m\n\u001b[0;32m    141\u001b[0m \u001b[38;5;250m\u001b[39m\u001b[38;5;124;03m\"\"\"\u001b[39;00m\n\u001b[0;32m    142\u001b[0m \u001b[38;5;124;03mastype with a check preventing converting NaN to an meaningless integer value.\u001b[39;00m\n\u001b[0;32m    143\u001b[0m \u001b[38;5;124;03m\"\"\"\u001b[39;00m\n\u001b[0;32m    144\u001b[0m \u001b[38;5;28;01mif\u001b[39;00m \u001b[38;5;129;01mnot\u001b[39;00m np\u001b[38;5;241m.\u001b[39misfinite(values)\u001b[38;5;241m.\u001b[39mall():\n\u001b[1;32m--> 145\u001b[0m     \u001b[38;5;28;01mraise\u001b[39;00m IntCastingNaNError(\n\u001b[0;32m    146\u001b[0m         \u001b[38;5;124m\"\u001b[39m\u001b[38;5;124mCannot convert non-finite values (NA or inf) to integer\u001b[39m\u001b[38;5;124m\"\u001b[39m\n\u001b[0;32m    147\u001b[0m     )\n\u001b[0;32m    148\u001b[0m \u001b[38;5;28;01mif\u001b[39;00m dtype\u001b[38;5;241m.\u001b[39mkind \u001b[38;5;241m==\u001b[39m \u001b[38;5;124m\"\u001b[39m\u001b[38;5;124mu\u001b[39m\u001b[38;5;124m\"\u001b[39m:\n\u001b[0;32m    149\u001b[0m     \u001b[38;5;66;03m# GH#45151\u001b[39;00m\n\u001b[0;32m    150\u001b[0m     \u001b[38;5;28;01mif\u001b[39;00m \u001b[38;5;129;01mnot\u001b[39;00m (values \u001b[38;5;241m>\u001b[39m\u001b[38;5;241m=\u001b[39m \u001b[38;5;241m0\u001b[39m)\u001b[38;5;241m.\u001b[39mall():\n",
      "\u001b[1;31mIntCastingNaNError\u001b[0m: Cannot convert non-finite values (NA or inf) to integer"
     ]
    }
   ],
   "source": [
    "# Handling Founded Column \n",
    "\n",
    "# Fill missing values with the median\n",
    "data['Founded'] = data['Founded'].fillna(data['Founded'].mode())\n",
    "\n",
    "\n",
    "# Convert 'Founded'  to integer datatype \n",
    "data['Founded'] = data ['Founded'].astype(int)\n"
   ]
  },
  {
   "cell_type": "code",
   "execution_count": null,
   "metadata": {},
   "outputs": [
    {
     "data": {
      "text/plain": [
       "0                 Agritech\n",
       "1                   Edtech\n",
       "2       Hygiene Management\n",
       "3                   Escrow\n",
       "4                 Agritech\n",
       "               ...        \n",
       "1050                Edtech\n",
       "1051              Fintech \n",
       "1052             Cosmetics\n",
       "1053             Transport\n",
       "1054              Logitech\n",
       "Name: Sector, Length: 1055, dtype: object"
      ]
     },
     "execution_count": 30,
     "metadata": {},
     "output_type": "execute_result"
    }
   ],
   "source": [
    "# Handling the Sector Column \n",
    "\n",
    "# Fill missing values \n",
    "data['Sector'].fillna('Unknown', inplace=True)\n",
    "\n",
    "# Convert all values to lower case\n",
    "data['Sector'] = data['Sector'].str.lower()\n",
    "\n",
    "# Combine like values in the 'Sector' column \n",
    "\n",
    "from fuzzywuzzy import process\n",
    "\n",
    "# List of standard sector names\n",
    "standard_sectors = ['ai', 'api','ar/vr','accomodation','agritech','auto','b2b ','beauty ','beverage','bio','blockchain','car','cloud','co-living','co-working','construction', 'consumer', 'content', 'conversational','coworking', 'craft beer','cosmetics','crowdsourcing','cryptocurrency','customer', 'dairy','data','dating', 'deep tech', 'defense', 'digital','edtech','education','electricity ','entertainment','ev', 'finance','ecommerce'\n",
    "                    'eye wear ', 'fashion','fintech ','food','gaming ','health ','home','hospitality','hr','hygiene','insurance','insurtech ', 'investment ','iot','jewellery ','job portal','legal ','life sciences','linguistic spiritual','location analytics','logistics','logitech','manufacturing','learning','market', 'med tech','media','mobility','company','nano','neo','networki','nutrition','online','startup','pharma','preschool','proptech','publication','real estate','renewable','rental','retail',\n",
    "                    'robotics','saas','sales','sanitation','scanning','service','social','solution','solar','space','sports','supply','telecomm','tourism','trading','transport','travel','tyre','unknown','venture','video','virtual','visual','warehouse','protection','work','yoga']\n",
    "# Function to match and replace with fuzzy matching\n",
    "def replace_sector_fuzzy(sector, choices):\n",
    "    match, score = process.extractOne(sector, choices)\n",
    "    if score > 90:  \n",
    "        return match\n",
    "    else:\n",
    "        return sector\n",
    "\n",
    "# Apply the function to the 'Sector' column\n",
    "data['Sector'] = data['Sector'].apply(lambda x: replace_sector_fuzzy(x, standard_sectors))\n",
    "\n",
    "\n",
    "# Organise all Sector entries to title case \n",
    "data['Sector'] = data['Sector'].str.title()\n",
    "\n",
    "data['Sector']"
   ]
  },
  {
   "cell_type": "code",
   "execution_count": null,
   "metadata": {},
   "outputs": [
    {
     "data": {
      "text/plain": [
       "Sector\n",
       "Fintech       131\n",
       "Edtech        108\n",
       "Healthtech     42\n",
       "Agritech       39\n",
       "E-Commerce     33\n",
       "Saas           24\n",
       "Ecommerce      22\n",
       "Tech           19\n",
       "Media          19\n",
       "Ai             18\n",
       "Name: count, dtype: int64"
      ]
     },
     "execution_count": 31,
     "metadata": {},
     "output_type": "execute_result"
    }
   ],
   "source": [
    "Sector_counts = data['Sector'].value_counts()\n",
    "\n",
    "Sector_counts.head(10)"
   ]
  },
  {
   "cell_type": "code",
   "execution_count": null,
   "metadata": {},
   "outputs": [],
   "source": [
    "#Handling Founders Column with the most appearing Founder \n",
    "\n",
    "#Fill missing Values \n",
    "data['Founders'].fillna('Falguni Nayar', inplace=True)\n",
    "\n",
    "# Convert all entries to title case \n",
    "data['Founders'] = data['Founders'].str.title()"
   ]
  },
  {
   "cell_type": "code",
   "execution_count": null,
   "metadata": {},
   "outputs": [],
   "source": [
    "# Handling the Investors Column ith the most appearing Investor\n",
    "\n",
    "# Fill missing values \n",
    "data['Investor'].fillna('Venture Catalysts', inplace=True)\n",
    "\n",
    "# Convert all entries to title\n",
    "data['Investor'] = data['Investor'].str.title()\n"
   ]
  },
  {
   "cell_type": "code",
   "execution_count": null,
   "metadata": {},
   "outputs": [],
   "source": [
    "# Handling the Amount Column\n",
    "\n",
    "# For 'Amount', fill missing values with the median funding amount\n",
    "data['Amount'].fillna(data['Amount'].median(), inplace=True)"
   ]
  },
  {
   "cell_type": "code",
   "execution_count": null,
   "metadata": {},
   "outputs": [],
   "source": [
    "# Convert scientific notation to standard notation for the 'amount' column\n",
    "#data['Amount'] = data['Amount'].apply(lambda x: '{:.0f}'.format(float(x)))\n",
    "# Convert 'Amount'  to Float datatype \n",
    "#data['Amount'] = data ['Amount'].astype(float) \n",
    "\n",
    "#data['Amount']"
   ]
  },
  {
   "cell_type": "code",
   "execution_count": null,
   "metadata": {},
   "outputs": [],
   "source": [
    "# For 'Stage', fill missing values with a placeholder\n",
    "data['Stage'].fillna('Series A', inplace=True)\n",
    "\n",
    "# Convert the stage column from object to category \n",
    "\n",
    "data['Stage'] = data['Stage'].astype('category')"
   ]
  },
  {
   "cell_type": "code",
   "execution_count": null,
   "metadata": {},
   "outputs": [],
   "source": [
    "#Drop the Column10 column it has more than 98% NULL values and also in the 2021,2019,2018 data this column is not available meaning its impact is minimal\n",
    "data.drop('column10', axis=1, inplace=True)\n"
   ]
  },
  {
   "cell_type": "code",
   "execution_count": null,
   "metadata": {},
   "outputs": [],
   "source": [
    "# Drop duplicates\n",
    "\n",
    "data.drop_duplicates( inplace=True)"
   ]
  },
  {
   "cell_type": "code",
   "execution_count": null,
   "metadata": {},
   "outputs": [
    {
     "data": {
      "text/plain": [
       "0"
      ]
     },
     "execution_count": 39,
     "metadata": {},
     "output_type": "execute_result"
    }
   ],
   "source": [
    "# Check for duplicates\n",
    "\n",
    "data.duplicated().sum()"
   ]
  },
  {
   "cell_type": "code",
   "execution_count": null,
   "metadata": {},
   "outputs": [],
   "source": [
    "# Add 'Year' Column 2020\n",
    "data['Year']= 2020\n",
    "\n",
    "# Convert year Column to a dataetime format\n",
    "#data['Year'] = pd.to_datetime(data['Year'], format='%Y') #Convert it to a datetime format only if your analysis specifically requires datetime operations\n"
   ]
  },
  {
   "cell_type": "code",
   "execution_count": null,
   "metadata": {},
   "outputs": [
    {
     "data": {
      "text/plain": [
       "Company_Brand    0\n",
       "Founded          0\n",
       "HeadQuarter      0\n",
       "Sector           0\n",
       "What_it_does     0\n",
       "Founders         0\n",
       "Investor         0\n",
       "Amount           0\n",
       "Stage            0\n",
       "Year             0\n",
       "dtype: int64"
      ]
     },
     "execution_count": 41,
     "metadata": {},
     "output_type": "execute_result"
    }
   ],
   "source": [
    "#Check to confirm there are no missing values \n",
    "\n",
    "data.isnull().sum()"
   ]
  },
  {
   "cell_type": "code",
   "execution_count": null,
   "metadata": {},
   "outputs": [
    {
     "name": "stdout",
     "output_type": "stream",
     "text": [
      "<class 'pandas.core.frame.DataFrame'>\n",
      "Index: 1052 entries, 0 to 1054\n",
      "Data columns (total 10 columns):\n",
      " #   Column         Non-Null Count  Dtype   \n",
      "---  ------         --------------  -----   \n",
      " 0   Company_Brand  1052 non-null   object  \n",
      " 1   Founded        1052 non-null   int32   \n",
      " 2   HeadQuarter    1052 non-null   object  \n",
      " 3   Sector         1052 non-null   object  \n",
      " 4   What_it_does   1052 non-null   object  \n",
      " 5   Founders       1052 non-null   object  \n",
      " 6   Investor       1052 non-null   object  \n",
      " 7   Amount         1052 non-null   float64 \n",
      " 8   Stage          1052 non-null   category\n",
      " 9   Year           1052 non-null   int64   \n",
      "dtypes: category(1), float64(1), int32(1), int64(1), object(6)\n",
      "memory usage: 80.5+ KB\n"
     ]
    }
   ],
   "source": [
    "# Check how our 1st dataset (2020) looks like ---looks good to go\n",
    "data.info ()"
   ]
  },
  {
   "cell_type": "markdown",
   "metadata": {},
   "source": [
    "2nd Dataset-2021 (data2)\n",
    "\n",
    "* This dataset is loaded from SQL Database "
   ]
  },
  {
   "cell_type": "code",
   "execution_count": null,
   "metadata": {},
   "outputs": [],
   "source": [
    "#Loading the second dataset which is our tabel 2 (Data2)\n",
    "query ='''SELECT * FROM dbo.LP1_startup_funding2021'''\n",
    " \n",
    "data2 = pd.read_sql(query, connection)\n"
   ]
  },
  {
   "cell_type": "code",
   "execution_count": null,
   "metadata": {},
   "outputs": [
    {
     "data": {
      "text/html": [
       "<div>\n",
       "<style scoped>\n",
       "    .dataframe tbody tr th:only-of-type {\n",
       "        vertical-align: middle;\n",
       "    }\n",
       "\n",
       "    .dataframe tbody tr th {\n",
       "        vertical-align: top;\n",
       "    }\n",
       "\n",
       "    .dataframe thead th {\n",
       "        text-align: right;\n",
       "    }\n",
       "</style>\n",
       "<table border=\"1\" class=\"dataframe\">\n",
       "  <thead>\n",
       "    <tr style=\"text-align: right;\">\n",
       "      <th></th>\n",
       "      <th>Company_Brand</th>\n",
       "      <th>Founded</th>\n",
       "      <th>HeadQuarter</th>\n",
       "      <th>Sector</th>\n",
       "      <th>What_it_does</th>\n",
       "      <th>Founders</th>\n",
       "      <th>Investor</th>\n",
       "      <th>Amount</th>\n",
       "      <th>Stage</th>\n",
       "    </tr>\n",
       "  </thead>\n",
       "  <tbody>\n",
       "    <tr>\n",
       "      <th>0</th>\n",
       "      <td>Unbox Robotics</td>\n",
       "      <td>2019.0</td>\n",
       "      <td>Bangalore</td>\n",
       "      <td>AI startup</td>\n",
       "      <td>Unbox Robotics builds on-demand AI-driven ware...</td>\n",
       "      <td>Pramod Ghadge, Shahid Memon</td>\n",
       "      <td>BEENEXT, Entrepreneur First</td>\n",
       "      <td>$1,200,000</td>\n",
       "      <td>Pre-series A</td>\n",
       "    </tr>\n",
       "    <tr>\n",
       "      <th>1</th>\n",
       "      <td>upGrad</td>\n",
       "      <td>2015.0</td>\n",
       "      <td>Mumbai</td>\n",
       "      <td>EdTech</td>\n",
       "      <td>UpGrad is an online higher education platform.</td>\n",
       "      <td>Mayank Kumar, Phalgun Kompalli, Ravijot Chugh,...</td>\n",
       "      <td>Unilazer Ventures, IIFL Asset Management</td>\n",
       "      <td>$120,000,000</td>\n",
       "      <td>None</td>\n",
       "    </tr>\n",
       "    <tr>\n",
       "      <th>2</th>\n",
       "      <td>Lead School</td>\n",
       "      <td>2012.0</td>\n",
       "      <td>Mumbai</td>\n",
       "      <td>EdTech</td>\n",
       "      <td>LEAD School offers technology based school tra...</td>\n",
       "      <td>Smita Deorah, Sumeet Mehta</td>\n",
       "      <td>GSV Ventures, Westbridge Capital</td>\n",
       "      <td>$30,000,000</td>\n",
       "      <td>Series D</td>\n",
       "    </tr>\n",
       "    <tr>\n",
       "      <th>3</th>\n",
       "      <td>Bizongo</td>\n",
       "      <td>2015.0</td>\n",
       "      <td>Mumbai</td>\n",
       "      <td>B2B E-commerce</td>\n",
       "      <td>Bizongo is a business-to-business online marke...</td>\n",
       "      <td>Aniket Deb, Ankit Tomar, Sachin Agrawal</td>\n",
       "      <td>CDC Group, IDG Capital</td>\n",
       "      <td>$51,000,000</td>\n",
       "      <td>Series C</td>\n",
       "    </tr>\n",
       "    <tr>\n",
       "      <th>4</th>\n",
       "      <td>FypMoney</td>\n",
       "      <td>2021.0</td>\n",
       "      <td>Gurugram</td>\n",
       "      <td>FinTech</td>\n",
       "      <td>FypMoney is Digital NEO Bank for Teenagers, em...</td>\n",
       "      <td>Kapil Banwari</td>\n",
       "      <td>Liberatha Kallat, Mukesh Yadav, Dinesh Nagpal</td>\n",
       "      <td>$2,000,000</td>\n",
       "      <td>Seed</td>\n",
       "    </tr>\n",
       "  </tbody>\n",
       "</table>\n",
       "</div>"
      ],
      "text/plain": [
       "    Company_Brand  Founded HeadQuarter          Sector  \\\n",
       "0  Unbox Robotics   2019.0   Bangalore      AI startup   \n",
       "1          upGrad   2015.0      Mumbai          EdTech   \n",
       "2     Lead School   2012.0      Mumbai          EdTech   \n",
       "3         Bizongo   2015.0      Mumbai  B2B E-commerce   \n",
       "4        FypMoney   2021.0    Gurugram         FinTech   \n",
       "\n",
       "                                        What_it_does  \\\n",
       "0  Unbox Robotics builds on-demand AI-driven ware...   \n",
       "1     UpGrad is an online higher education platform.   \n",
       "2  LEAD School offers technology based school tra...   \n",
       "3  Bizongo is a business-to-business online marke...   \n",
       "4  FypMoney is Digital NEO Bank for Teenagers, em...   \n",
       "\n",
       "                                            Founders  \\\n",
       "0                        Pramod Ghadge, Shahid Memon   \n",
       "1  Mayank Kumar, Phalgun Kompalli, Ravijot Chugh,...   \n",
       "2                         Smita Deorah, Sumeet Mehta   \n",
       "3            Aniket Deb, Ankit Tomar, Sachin Agrawal   \n",
       "4                                      Kapil Banwari   \n",
       "\n",
       "                                        Investor        Amount         Stage  \n",
       "0                    BEENEXT, Entrepreneur First    $1,200,000  Pre-series A  \n",
       "1       Unilazer Ventures, IIFL Asset Management  $120,000,000          None  \n",
       "2               GSV Ventures, Westbridge Capital   $30,000,000      Series D  \n",
       "3                         CDC Group, IDG Capital   $51,000,000      Series C  \n",
       "4  Liberatha Kallat, Mukesh Yadav, Dinesh Nagpal    $2,000,000          Seed  "
      ]
     },
     "execution_count": 44,
     "metadata": {},
     "output_type": "execute_result"
    }
   ],
   "source": [
    "data2.head ()"
   ]
  },
  {
   "cell_type": "code",
   "execution_count": null,
   "metadata": {},
   "outputs": [
    {
     "data": {
      "text/html": [
       "<div>\n",
       "<style scoped>\n",
       "    .dataframe tbody tr th:only-of-type {\n",
       "        vertical-align: middle;\n",
       "    }\n",
       "\n",
       "    .dataframe tbody tr th {\n",
       "        vertical-align: top;\n",
       "    }\n",
       "\n",
       "    .dataframe thead th {\n",
       "        text-align: right;\n",
       "    }\n",
       "</style>\n",
       "<table border=\"1\" class=\"dataframe\">\n",
       "  <thead>\n",
       "    <tr style=\"text-align: right;\">\n",
       "      <th></th>\n",
       "      <th>Company_Brand</th>\n",
       "      <th>Founded</th>\n",
       "      <th>HeadQuarter</th>\n",
       "      <th>Sector</th>\n",
       "      <th>What_it_does</th>\n",
       "      <th>Founders</th>\n",
       "      <th>Investor</th>\n",
       "      <th>Amount</th>\n",
       "      <th>Stage</th>\n",
       "      <th>Year</th>\n",
       "    </tr>\n",
       "  </thead>\n",
       "  <tbody>\n",
       "    <tr>\n",
       "      <th>1204</th>\n",
       "      <td>Gigforce</td>\n",
       "      <td>2019</td>\n",
       "      <td>Gurugram</td>\n",
       "      <td>Staffing &amp; Recruiting</td>\n",
       "      <td>A gig/on-demand staffing company.</td>\n",
       "      <td>Chirag Mittal, Anirudh Syal</td>\n",
       "      <td>Endiya Partners</td>\n",
       "      <td>3000000.0</td>\n",
       "      <td>Pre-series A</td>\n",
       "      <td>2021</td>\n",
       "    </tr>\n",
       "    <tr>\n",
       "      <th>1205</th>\n",
       "      <td>Vahdam</td>\n",
       "      <td>2015</td>\n",
       "      <td>New Delhi</td>\n",
       "      <td>Food &amp; Beverages</td>\n",
       "      <td>VAHDAM is among the world’s first vertically i...</td>\n",
       "      <td>Bala Sarda</td>\n",
       "      <td>Iifl Amc</td>\n",
       "      <td>20000000.0</td>\n",
       "      <td>Series D</td>\n",
       "      <td>2021</td>\n",
       "    </tr>\n",
       "    <tr>\n",
       "      <th>1206</th>\n",
       "      <td>Leap Finance</td>\n",
       "      <td>2019</td>\n",
       "      <td>Bangalore</td>\n",
       "      <td>Financial Services</td>\n",
       "      <td>International education loans for high potenti...</td>\n",
       "      <td>Arnav Kumar, Vaibhav Singh</td>\n",
       "      <td>Owl Ventures</td>\n",
       "      <td>55000000.0</td>\n",
       "      <td>Series C</td>\n",
       "      <td>2021</td>\n",
       "    </tr>\n",
       "    <tr>\n",
       "      <th>1207</th>\n",
       "      <td>Collegedekho</td>\n",
       "      <td>2015</td>\n",
       "      <td>Gurugram</td>\n",
       "      <td>Edtech</td>\n",
       "      <td>Collegedekho.com is Student’s Partner, Friend ...</td>\n",
       "      <td>Ruchir Arora</td>\n",
       "      <td>Winter Capital, Ets, Man Capital</td>\n",
       "      <td>26000000.0</td>\n",
       "      <td>Series B</td>\n",
       "      <td>2021</td>\n",
       "    </tr>\n",
       "    <tr>\n",
       "      <th>1208</th>\n",
       "      <td>Werize</td>\n",
       "      <td>2019</td>\n",
       "      <td>Bangalore</td>\n",
       "      <td>Financial Services</td>\n",
       "      <td>India’s first socially distributed full stack ...</td>\n",
       "      <td>Vishal Chopra, Himanshu Gupta</td>\n",
       "      <td>3One4 Capital, Kalaari Capital</td>\n",
       "      <td>8000000.0</td>\n",
       "      <td>Series A</td>\n",
       "      <td>2021</td>\n",
       "    </tr>\n",
       "  </tbody>\n",
       "</table>\n",
       "</div>"
      ],
      "text/plain": [
       "     Company_Brand  Founded HeadQuarter                 Sector  \\\n",
       "1204      Gigforce     2019    Gurugram  Staffing & Recruiting   \n",
       "1205        Vahdam     2015   New Delhi       Food & Beverages   \n",
       "1206  Leap Finance     2019   Bangalore     Financial Services   \n",
       "1207  Collegedekho     2015    Gurugram                 Edtech   \n",
       "1208        Werize     2019   Bangalore     Financial Services   \n",
       "\n",
       "                                           What_it_does  \\\n",
       "1204                  A gig/on-demand staffing company.   \n",
       "1205  VAHDAM is among the world’s first vertically i...   \n",
       "1206  International education loans for high potenti...   \n",
       "1207  Collegedekho.com is Student’s Partner, Friend ...   \n",
       "1208  India’s first socially distributed full stack ...   \n",
       "\n",
       "                           Founders                          Investor  \\\n",
       "1204    Chirag Mittal, Anirudh Syal                   Endiya Partners   \n",
       "1205                     Bala Sarda                          Iifl Amc   \n",
       "1206     Arnav Kumar, Vaibhav Singh                      Owl Ventures   \n",
       "1207                   Ruchir Arora  Winter Capital, Ets, Man Capital   \n",
       "1208  Vishal Chopra, Himanshu Gupta    3One4 Capital, Kalaari Capital   \n",
       "\n",
       "          Amount         Stage  Year  \n",
       "1204   3000000.0  Pre-series A  2021  \n",
       "1205  20000000.0      Series D  2021  \n",
       "1206  55000000.0      Series C  2021  \n",
       "1207  26000000.0      Series B  2021  \n",
       "1208   8000000.0      Series A  2021  "
      ]
     },
     "execution_count": 144,
     "metadata": {},
     "output_type": "execute_result"
    }
   ],
   "source": [
    "data2.tail ()"
   ]
  },
  {
   "cell_type": "code",
   "execution_count": null,
   "metadata": {},
   "outputs": [
    {
     "name": "stdout",
     "output_type": "stream",
     "text": [
      "<class 'pandas.core.frame.DataFrame'>\n",
      "RangeIndex: 1209 entries, 0 to 1208\n",
      "Data columns (total 9 columns):\n",
      " #   Column         Non-Null Count  Dtype  \n",
      "---  ------         --------------  -----  \n",
      " 0   Company_Brand  1209 non-null   object \n",
      " 1   Founded        1208 non-null   float64\n",
      " 2   HeadQuarter    1208 non-null   object \n",
      " 3   Sector         1209 non-null   object \n",
      " 4   What_it_does   1209 non-null   object \n",
      " 5   Founders       1205 non-null   object \n",
      " 6   Investor       1147 non-null   object \n",
      " 7   Amount         1206 non-null   object \n",
      " 8   Stage          781 non-null    object \n",
      "dtypes: float64(1), object(8)\n",
      "memory usage: 85.1+ KB\n"
     ]
    }
   ],
   "source": [
    "data2.info()"
   ]
  },
  {
   "cell_type": "code",
   "execution_count": null,
   "metadata": {},
   "outputs": [
    {
     "data": {
      "text/plain": [
       "Index(['Company_Brand', 'Founded', 'HeadQuarter', 'Sector', 'What_it_does',\n",
       "       'Founders', 'Investor', 'Amount', 'Stage'],\n",
       "      dtype='object')"
      ]
     },
     "execution_count": 47,
     "metadata": {},
     "output_type": "execute_result"
    }
   ],
   "source": [
    "data2.columns "
   ]
  },
  {
   "cell_type": "code",
   "execution_count": null,
   "metadata": {},
   "outputs": [
    {
     "data": {
      "text/plain": [
       "(1209, 9)"
      ]
     },
     "execution_count": 48,
     "metadata": {},
     "output_type": "execute_result"
    }
   ],
   "source": [
    "data2.shape"
   ]
  },
  {
   "cell_type": "code",
   "execution_count": null,
   "metadata": {},
   "outputs": [
    {
     "data": {
      "text/html": [
       "<div>\n",
       "<style scoped>\n",
       "    .dataframe tbody tr th:only-of-type {\n",
       "        vertical-align: middle;\n",
       "    }\n",
       "\n",
       "    .dataframe tbody tr th {\n",
       "        vertical-align: top;\n",
       "    }\n",
       "\n",
       "    .dataframe thead th {\n",
       "        text-align: right;\n",
       "    }\n",
       "</style>\n",
       "<table border=\"1\" class=\"dataframe\">\n",
       "  <thead>\n",
       "    <tr style=\"text-align: right;\">\n",
       "      <th></th>\n",
       "      <th>count</th>\n",
       "      <th>mean</th>\n",
       "      <th>std</th>\n",
       "      <th>min</th>\n",
       "      <th>25%</th>\n",
       "      <th>50%</th>\n",
       "      <th>75%</th>\n",
       "      <th>max</th>\n",
       "    </tr>\n",
       "  </thead>\n",
       "  <tbody>\n",
       "    <tr>\n",
       "      <th>Founded</th>\n",
       "      <td>1208.0</td>\n",
       "      <td>2016.655629</td>\n",
       "      <td>4.517364</td>\n",
       "      <td>1963.0</td>\n",
       "      <td>2015.0</td>\n",
       "      <td>2018.0</td>\n",
       "      <td>2020.0</td>\n",
       "      <td>2021.0</td>\n",
       "    </tr>\n",
       "  </tbody>\n",
       "</table>\n",
       "</div>"
      ],
      "text/plain": [
       "          count         mean       std     min     25%     50%     75%     max\n",
       "Founded  1208.0  2016.655629  4.517364  1963.0  2015.0  2018.0  2020.0  2021.0"
      ]
     },
     "execution_count": 49,
     "metadata": {},
     "output_type": "execute_result"
    }
   ],
   "source": [
    "data2.describe().T"
   ]
  },
  {
   "cell_type": "code",
   "execution_count": null,
   "metadata": {},
   "outputs": [
    {
     "data": {
      "text/plain": [
       "19"
      ]
     },
     "execution_count": 50,
     "metadata": {},
     "output_type": "execute_result"
    }
   ],
   "source": [
    "data2.duplicated().sum()"
   ]
  },
  {
   "cell_type": "code",
   "execution_count": null,
   "metadata": {},
   "outputs": [
    {
     "data": {
      "text/html": [
       "<div>\n",
       "<style scoped>\n",
       "    .dataframe tbody tr th:only-of-type {\n",
       "        vertical-align: middle;\n",
       "    }\n",
       "\n",
       "    .dataframe tbody tr th {\n",
       "        vertical-align: top;\n",
       "    }\n",
       "\n",
       "    .dataframe thead th {\n",
       "        text-align: right;\n",
       "    }\n",
       "</style>\n",
       "<table border=\"1\" class=\"dataframe\">\n",
       "  <thead>\n",
       "    <tr style=\"text-align: right;\">\n",
       "      <th></th>\n",
       "      <th>Null Count</th>\n",
       "      <th>Percentage</th>\n",
       "    </tr>\n",
       "  </thead>\n",
       "  <tbody>\n",
       "    <tr>\n",
       "      <th>Company_Brand</th>\n",
       "      <td>0</td>\n",
       "      <td>0.000000</td>\n",
       "    </tr>\n",
       "    <tr>\n",
       "      <th>Founded</th>\n",
       "      <td>1</td>\n",
       "      <td>0.095057</td>\n",
       "    </tr>\n",
       "    <tr>\n",
       "      <th>HeadQuarter</th>\n",
       "      <td>1</td>\n",
       "      <td>0.095057</td>\n",
       "    </tr>\n",
       "    <tr>\n",
       "      <th>Sector</th>\n",
       "      <td>0</td>\n",
       "      <td>0.000000</td>\n",
       "    </tr>\n",
       "    <tr>\n",
       "      <th>What_it_does</th>\n",
       "      <td>0</td>\n",
       "      <td>0.000000</td>\n",
       "    </tr>\n",
       "    <tr>\n",
       "      <th>Founders</th>\n",
       "      <td>4</td>\n",
       "      <td>0.380228</td>\n",
       "    </tr>\n",
       "    <tr>\n",
       "      <th>Investor</th>\n",
       "      <td>62</td>\n",
       "      <td>5.893536</td>\n",
       "    </tr>\n",
       "    <tr>\n",
       "      <th>Amount</th>\n",
       "      <td>3</td>\n",
       "      <td>0.285171</td>\n",
       "    </tr>\n",
       "    <tr>\n",
       "      <th>Stage</th>\n",
       "      <td>428</td>\n",
       "      <td>40.684411</td>\n",
       "    </tr>\n",
       "  </tbody>\n",
       "</table>\n",
       "</div>"
      ],
      "text/plain": [
       "               Null Count  Percentage\n",
       "Company_Brand           0    0.000000\n",
       "Founded                 1    0.095057\n",
       "HeadQuarter             1    0.095057\n",
       "Sector                  0    0.000000\n",
       "What_it_does            0    0.000000\n",
       "Founders                4    0.380228\n",
       "Investor               62    5.893536\n",
       "Amount                  3    0.285171\n",
       "Stage                 428   40.684411"
      ]
     },
     "execution_count": 51,
     "metadata": {},
     "output_type": "execute_result"
    }
   ],
   "source": [
    "# Missing values with their percentages \n",
    "data2.isnull().sum().to_frame('Null Count').assign(Percentage=lambda x: (x['Null Count'] / len(data)) * 100)"
   ]
  },
  {
   "cell_type": "code",
   "execution_count": null,
   "metadata": {},
   "outputs": [
    {
     "data": {
      "text/plain": [
       "array(['Unbox Robotics', 'upGrad', 'Lead School', ..., 'Gigforce',\n",
       "       'Vahdam', 'WeRize'], dtype=object)"
      ]
     },
     "execution_count": 52,
     "metadata": {},
     "output_type": "execute_result"
    }
   ],
   "source": [
    "data2['Company_Brand'].unique()"
   ]
  },
  {
   "cell_type": "code",
   "execution_count": null,
   "metadata": {},
   "outputs": [
    {
     "data": {
      "text/plain": [
       "array([2019., 2015., 2012., 2021., 2014., 2018., 2016., 2020., 2010.,\n",
       "       2017., 1993., 2008., 2013., 1999., 1989., 2011.,   nan, 2009.,\n",
       "       2002., 1994., 2006., 2000., 2007., 1978., 2003., 1998., 1991.,\n",
       "       1984., 2004., 2005., 1963.])"
      ]
     },
     "execution_count": 53,
     "metadata": {},
     "output_type": "execute_result"
    }
   ],
   "source": [
    "data2['Founded'].unique()"
   ]
  },
  {
   "cell_type": "code",
   "execution_count": null,
   "metadata": {},
   "outputs": [
    {
     "data": {
      "text/plain": [
       "HeadQuarter\n",
       "Bangalore    426\n",
       "Mumbai       203\n",
       "Gurugram     155\n",
       "New Delhi    144\n",
       "Pune          47\n",
       "Name: count, dtype: int64"
      ]
     },
     "execution_count": 54,
     "metadata": {},
     "output_type": "execute_result"
    }
   ],
   "source": [
    "HeadQuarter_counts = data2['HeadQuarter'].value_counts()\n",
    "\n",
    "HeadQuarter_counts.head()"
   ]
  },
  {
   "cell_type": "code",
   "execution_count": null,
   "metadata": {},
   "outputs": [
    {
     "data": {
      "text/plain": [
       "array(['Bangalore', 'Mumbai', 'Gurugram', 'New Delhi', 'Hyderabad',\n",
       "       'Jaipur', 'Ahmadabad', 'Chennai', 'Small Towns, Andhra Pradesh',\n",
       "       'Goa', 'Rajsamand', 'Ranchi', 'Faridabad, Haryana', 'Gujarat',\n",
       "       'Thane', 'Pune', 'Cochin', 'Noida', 'Chandigarh', 'Gurgaon',\n",
       "       'Vadodara', 'Food & Beverages', 'Kolkata', 'Ahmedabad', 'Mohali',\n",
       "       'Indore', 'Powai', 'Ghaziabad', 'Nagpur', 'West Bengal', 'Patna',\n",
       "       'Samsitpur', 'Lucknow', 'Telangana', 'Haryana', 'Silvassa',\n",
       "       'Thiruvananthapuram', 'Faridabad', 'Roorkee', 'Ambernath',\n",
       "       'Panchkula', 'Surat', 'Coimbatore', 'Andheri', 'Mangalore',\n",
       "       'Telugana', 'Bhubaneswar', 'Kottayam', 'Beijing', 'Panaji',\n",
       "       'Satara', 'Orissia', 'Jodhpur', 'New York', 'Santra',\n",
       "       'Mountain View, Ca', 'Trivandrum', 'Jharkhand', 'Kanpur',\n",
       "       'Bhilwara', 'Guwahati', 'Online Media\\t#Ref!', 'Kochi', 'London',\n",
       "       'Information Technology & Services', 'The Nilgiris', 'Gandhinagar'],\n",
       "      dtype=object)"
      ]
     },
     "execution_count": 149,
     "metadata": {},
     "output_type": "execute_result"
    }
   ],
   "source": [
    "data2['HeadQuarter'].unique()"
   ]
  },
  {
   "cell_type": "code",
   "execution_count": null,
   "metadata": {},
   "outputs": [
    {
     "data": {
      "text/plain": [
       "Founders\n",
       "Ashneer Grover, Shashvat Nakrani    7\n",
       "Byju Raveendran, Divya Gokulnath    5\n",
       "Bhavish Aggarwal                    4\n",
       "Ritesh Agarwal                      4\n",
       "Nirmit Parikh                       3\n",
       "Name: count, dtype: int64"
      ]
     },
     "execution_count": 55,
     "metadata": {},
     "output_type": "execute_result"
    }
   ],
   "source": [
    "Founders_counts = data2['Founders'].value_counts()\n",
    "\n",
    "Founders_counts.head()"
   ]
  },
  {
   "cell_type": "code",
   "execution_count": null,
   "metadata": {},
   "outputs": [
    {
     "data": {
      "text/plain": [
       "Investor\n",
       "Inflection Point Ventures    24\n",
       "Tiger Global                 11\n",
       "Venture Catalysts            11\n",
       "Elevation Capital             7\n",
       "Titan Capital                 6\n",
       "Name: count, dtype: int64"
      ]
     },
     "execution_count": 56,
     "metadata": {},
     "output_type": "execute_result"
    }
   ],
   "source": [
    "Investor_counts = data2['Investor'].value_counts()\n",
    "\n",
    "Investor_counts.head()"
   ]
  },
  {
   "cell_type": "code",
   "execution_count": null,
   "metadata": {},
   "outputs": [
    {
     "data": {
      "text/plain": [
       "array(['Pre-series A', None, 'Series D', 'Series C', 'Seed', 'Series B',\n",
       "       'Series E', 'Pre-seed', 'Series A', 'Pre-series B', 'Debt',\n",
       "       '$1200000', 'Bridge', 'Seed+', 'Series F2', 'Series A+',\n",
       "       'Series G', 'Series F', 'Series H', 'Series B3', 'PE', 'Series F1',\n",
       "       'Pre-series A1', '$300000', 'Early seed', 'Series D1', '$6000000',\n",
       "       '$1000000', 'Seies A', 'Pre-series', 'Series A2', 'Series I'],\n",
       "      dtype=object)"
      ]
     },
     "execution_count": 57,
     "metadata": {},
     "output_type": "execute_result"
    }
   ],
   "source": [
    "data2['Stage'].unique()"
   ]
  },
  {
   "cell_type": "code",
   "execution_count": null,
   "metadata": {},
   "outputs": [
    {
     "data": {
      "text/plain": [
       "Stage\n",
       "Seed            246\n",
       "Pre-series A    157\n",
       "Series A        126\n",
       "Series B         49\n",
       "Pre-seed         47\n",
       "Name: count, dtype: int64"
      ]
     },
     "execution_count": 58,
     "metadata": {},
     "output_type": "execute_result"
    }
   ],
   "source": [
    "Stage_counts = data2['Stage'].value_counts()\n",
    "\n",
    "Stage_counts.head()"
   ]
  },
  {
   "cell_type": "code",
   "execution_count": null,
   "metadata": {},
   "outputs": [
    {
     "data": {
      "text/plain": [
       "array(['AI startup', 'EdTech', 'B2B E-commerce', 'FinTech',\n",
       "       'Home services', 'HealthTech', 'Tech Startup', 'E-commerce',\n",
       "       'B2B service', 'Helathcare', 'Renewable Energy', 'Electronics',\n",
       "       'IT startup', 'Food & Beverages', 'Aeorspace', 'Deep Tech',\n",
       "       'Dating', 'Gaming', 'Robotics', 'Retail', 'Food', 'Oil and Energy',\n",
       "       'AgriTech', 'Telecommuncation', 'Milk startup', 'AI Chatbot', 'IT',\n",
       "       'Logistics', 'Hospitality', 'Fashion', 'Marketing',\n",
       "       'Transportation', 'LegalTech', 'Food delivery', 'Automotive',\n",
       "       'SaaS startup', 'Fantasy sports', 'Video communication',\n",
       "       'Social Media', 'Skill development', 'Rental', 'Recruitment',\n",
       "       'HealthCare', 'Sports', 'Computer Games', 'Consumer Goods',\n",
       "       'Information Technology', 'Apparel & Fashion',\n",
       "       'Logistics & Supply Chain', 'Healthtech', 'Healthcare',\n",
       "       'SportsTech', 'HRTech', 'Wine & Spirits',\n",
       "       'Mechanical & Industrial Engineering', 'Spiritual',\n",
       "       'Financial Services', 'Industrial Automation', 'Health',\n",
       "       'Lifestyle', 'IoT', 'Banking', 'Computer software', 'Tech startup',\n",
       "       'Digital mortgage', 'Information Technology & Services',\n",
       "       'Furniture', 'B2B marketplace', 'Healtcare', 'Location Analytics',\n",
       "       'Media', 'Consumer Electronics', 'Tobacco', 'Deeptech',\n",
       "       'Insuretech', 'MLOps platform', 'Venture Capital', 'Pet care',\n",
       "       'Drone', 'Wholesale', 'Construction', 'E-learning',\n",
       "       'Consumer Services', 'Venture Capital & Private Equity',\n",
       "       'Health, Wellness & Fitness', 'OTT', 'Education Management',\n",
       "       'Computer Software', 'Insurance', 'Software Startup',\n",
       "       'Computer & Network Security', 'Capital Markets', 'Social network',\n",
       "       'Hospital & Health Care', 'Music', 'Hauz Khas',\n",
       "       'Primary Business is Development and Manufacturing of Novel Healthcare Products in Effervescent forms using imported propriety ingredients.',\n",
       "       \"MoEVing is India's only Electric Mobility focused Technology Platform with a vision to accelerate EV adoption in India.\",\n",
       "       'Cosmetics', 'Mobility', 'Social media', 'Real Estate',\n",
       "       'Digital platform', 'B2B Ecommerce', 'Online Media',\n",
       "       'Social commerce', 'Mobile Games', 'Food Production', 'Podcast',\n",
       "       'HeathTech', 'Battery', 'Content publishing', 'Water purification',\n",
       "       'Content commerce', 'Innovation Management', 'Software company',\n",
       "       'Automation', 'Food Industry', 'Celebrity Engagement',\n",
       "       'Trading platform', 'Personal Care', 'Cannabis startup',\n",
       "       'Blogging', 'Consulting', 'BioTechnology', 'B2B Marketplace',\n",
       "       'Health care', 'Social audio', 'Fashion and lifestyle',\n",
       "       'Delivery service', 'B2B Manufacturing', 'Home Decor', 'Solar',\n",
       "       'TaaS startup', 'EV startup', 'HR Tech', 'Blockchain startup',\n",
       "       'Food and Beverages', 'Beverages', 'Manufacturing startup',\n",
       "       'Cryptocurrency', 'Vehicle repair startup', 'Advisory firm',\n",
       "       'Legaltech', 'Pollution control equiptment', 'Fashion & Lifestyle',\n",
       "       'Blockchain', 'Fitness', 'D2C', 'Automobile',\n",
       "       'Environmental Services', 'Merchandise', 'Facilities Services',\n",
       "       'Marketing & Advertising', 'Human Resources', 'Eyewear',\n",
       "       'D2C Business', 'Biotechnology', 'Farming', 'NFT Marketplace',\n",
       "       'Internet', 'SpaceTech', 'Consumer software', 'Social community',\n",
       "       'Fishery', 'Renewables & Environment', 'Online storytelling',\n",
       "       'Aviation', 'IT company', 'Environmental service',\n",
       "       'Job discovery platform', 'D2C Fashion', 'Heathcare', 'CRM',\n",
       "       'Software', 'Nutrition', 'D2C startup', 'Innovation management',\n",
       "       'Community platform', 'Venture capitalist', 'Networking',\n",
       "       'Commercial Real Estate', 'AR startup', 'Consumer service',\n",
       "       'Consumer goods', 'MarTech', 'Advertisement', 'Content creation',\n",
       "       'Augmented reality', 'Rental space', 'Bike Rental',\n",
       "       'Beauty products', 'Tourism', 'FemTech', 'Cultural', 'Co-working',\n",
       "       'InsureTech', 'Supply chain platform', 'Social platform',\n",
       "       'CleanTech', 'Real estate', 'AI company', 'Sports startup',\n",
       "       'Matrimony', 'Crypto', 'Clothing', 'Analytics', 'Finance',\n",
       "       'IoT platform', 'Commerce', 'Defense & Space', 'Entertainment',\n",
       "       'Business Supplies & Equipment', 'NFT', 'Oil & Energy', 'EV',\n",
       "       'Company-as-a-Service', 'Textiles',\n",
       "       'Professional Training & Coaching', 'Maritime',\n",
       "       'Housing Marketplace', 'Furniture Rental', 'Telecommunications',\n",
       "       'Equity Management', 'Cloud kitchen', 'Nanotechnology',\n",
       "       'Community', 'Higher Education', 'B2B',\n",
       "       'Mechanical Or Industrial Engineering', 'D2C jewellery',\n",
       "       'Sales and Distribution', 'SaaS', 'Information Services',\n",
       "       'Translation & Localization', 'Investment Banking', 'Femtech',\n",
       "       'sports', 'Foootwear', 'Legal Services', 'Veterinary',\n",
       "       'Arts & Crafts', 'Investment Management', 'Education',\n",
       "       'Management Consulting', 'B2B startup',\n",
       "       'Sochcast is an Audio experiences company that give the listener and creators an Immersive Audio experience',\n",
       "       'Design', 'B2B Travel', 'Interior Design',\n",
       "       'Manchester, Greater Manchester', 'Product studio',\n",
       "       'Aviation & Aerospace', 'Staffing & Recruiting'], dtype=object)"
      ]
     },
     "execution_count": 59,
     "metadata": {},
     "output_type": "execute_result"
    }
   ],
   "source": [
    "data2['Sector'].unique()"
   ]
  },
  {
   "cell_type": "code",
   "execution_count": null,
   "metadata": {},
   "outputs": [
    {
     "data": {
      "text/plain": [
       "Sector\n",
       "FinTech               122\n",
       "EdTech                102\n",
       "Financial Services     61\n",
       "E-commerce             37\n",
       "Food & Beverages       37\n",
       "Name: count, dtype: int64"
      ]
     },
     "execution_count": 60,
     "metadata": {},
     "output_type": "execute_result"
    }
   ],
   "source": [
    "Sector_counts = data2['Sector'].value_counts()\n",
    "\n",
    "Sector_counts.head()"
   ]
  },
  {
   "cell_type": "code",
   "execution_count": null,
   "metadata": {},
   "outputs": [
    {
     "data": {
      "text/plain": [
       "Sector\n",
       "Professional Training & Coaching                                                                               2\n",
       "Real Estate                                                                                                    7\n",
       "Real estate                                                                                                    1\n",
       "Recruitment                                                                                                    5\n",
       "Renewable Energy                                                                                               6\n",
       "Renewables & Environment                                                                                       3\n",
       "Rental                                                                                                         2\n",
       "Rental space                                                                                                   2\n",
       "Retail                                                                                                        18\n",
       "Robotics                                                                                                       1\n",
       "SaaS                                                                                                           2\n",
       "SaaS startup                                                                                                  13\n",
       "Sales and Distribution                                                                                         1\n",
       "Skill development                                                                                              1\n",
       "Sochcast is an Audio experiences company that give the listener and creators an Immersive Audio experience     1\n",
       "Social Media                                                                                                   3\n",
       "Social audio                                                                                                   1\n",
       "Social commerce                                                                                                4\n",
       "Social community                                                                                               1\n",
       "Social media                                                                                                   1\n",
       "Social network                                                                                                 3\n",
       "Social platform                                                                                                1\n",
       "Software                                                                                                       2\n",
       "Software Startup                                                                                               2\n",
       "Software company                                                                                               1\n",
       "Solar                                                                                                          4\n",
       "SpaceTech                                                                                                      4\n",
       "Spiritual                                                                                                      1\n",
       "Sports                                                                                                         2\n",
       "Sports startup                                                                                                 2\n",
       "SportsTech                                                                                                     3\n",
       "Staffing & Recruiting                                                                                          1\n",
       "Supply chain platform                                                                                          1\n",
       "TaaS startup                                                                                                   1\n",
       "Tech Startup                                                                                                  11\n",
       "Tech startup                                                                                                   3\n",
       "Telecommuncation                                                                                               1\n",
       "Telecommunications                                                                                             2\n",
       "Textiles                                                                                                       2\n",
       "Tobacco                                                                                                        1\n",
       "Tourism                                                                                                        1\n",
       "Trading platform                                                                                               1\n",
       "Translation & Localization                                                                                     1\n",
       "Transportation                                                                                                 6\n",
       "Vehicle repair startup                                                                                         1\n",
       "Venture Capital                                                                                                1\n",
       "Venture Capital & Private Equity                                                                               2\n",
       "Venture capitalist                                                                                             1\n",
       "Veterinary                                                                                                     1\n",
       "Video communication                                                                                            1\n",
       "Name: count, dtype: int64"
      ]
     },
     "execution_count": 61,
     "metadata": {},
     "output_type": "execute_result"
    }
   ],
   "source": [
    "# Get the value counts in Sector column sorted alphabetically\n",
    "Sector_counts = data2['Sector'].value_counts().sort_index()\n",
    "\n",
    "Sector_counts[200:250]"
   ]
  },
  {
   "cell_type": "code",
   "execution_count": null,
   "metadata": {},
   "outputs": [
    {
     "data": {
      "text/plain": [
       "array(['$1,200,000', '$120,000,000', '$30,000,000', '$51,000,000',\n",
       "       '$2,000,000', '$188,000,000', '$200,000', 'Undisclosed',\n",
       "       '$1,000,000', '$3,000,000', '$100,000', '$700,000', '$9,000,000',\n",
       "       '$40,000,000', '$49,000,000', '$400,000', '$300,000',\n",
       "       '$25,000,000', '$160,000,000', '$150,000', '$1,800,000',\n",
       "       '$5,000,000', '$850,000', '$53,000,000', '$500,000', '$1,100,000',\n",
       "       '$6,000,000', '$800,000', '$10,000,000', '$21,000,000',\n",
       "       '$7,500,000', '$26,000,000', '$7,400,000', '$1,500,000',\n",
       "       '$600,000', '$800,000,000', '$17,000,000', '$3,500,000',\n",
       "       '$15,000,000', '$215,000,000', '$2,500,000', '$350,000,000',\n",
       "       '$5,500,000', '$83,000,000', '$110,000,000', '$500,000,000',\n",
       "       '$65,000,000', '$150,000,000,000', '$300,000,000', '$2,200,000',\n",
       "       '$35,000,000', '$140,000,000', '$4,000,000', '$13,000,000', None,\n",
       "       '$Undisclosed', '$2000000', '$800000', '$6000000', '$2500000',\n",
       "       '$9500000', '$13000000', '$5000000', '$8000000', '$1000000',\n",
       "       'Upsparks', '$200000', '$12000000', '$1500000', '$1700000',\n",
       "       '$5500000', '$400000', '$150000000', '$4000000', '$100000000',\n",
       "       '$500000', '$15000000', '$10000000', '$40000000', '$225000000',\n",
       "       '$6700000', '$1300000', '$20000000', '$250000', '$21000000',\n",
       "       '$1200000', '$52000000', '$3800000', '$17500000', '$42000000',\n",
       "       '$2300000', '$7000000', '$30000000', '$450000000', '$28000000',\n",
       "       '$300000', '$3500000', '$8500000', '$25000000', '$3000000',\n",
       "       '$37000000', '$370000000', '$700000', '$16000000', '$100000',\n",
       "       '$44000000', '$770000', '$125000000', '$35000000', '$50000000',\n",
       "       '$4900000', '$145000000', '$22000000', '$70000000', '$6600000',\n",
       "       '$32000000', '$24000000', '$725000', '$461000', 'Series C', 'Seed',\n",
       "       '$96000000', '$60000000', '$500000000', '$266000000', '$4500000',\n",
       "       '$325000000', '$6500000', '$1600000', '$150000', '$225000',\n",
       "       '$85000000', '$235000', '$260000', '$2900000', '$53000000',\n",
       "       '$1100000', '$86000000', '$130000', '$$100,00', '$111000000',\n",
       "       '$265000', '$76000000', '$100,000,000', '$75,000,000',\n",
       "       '$3,800,000', '$12,000,000', '$1,600,000', '$260,000',\n",
       "       '$1,000,000,000', '$18,000,000', '$20,000,000', '$350,000',\n",
       "       '$95,000,000', '$4,100,000', '$5,200,000', '$8,000,000',\n",
       "       '$1,400,000', '$2,600,000', '$900,000', '$250,000', '$16,000,000',\n",
       "       '$7,000,000', '$11,000,000', '$280,000,000', '$50,000,000',\n",
       "       '$14,300,000', '$81,000,000', '$1,300,000', '$8,200,000',\n",
       "       '$70,000,000', '$720,000', '$600000', '$9000000', '$1800000',\n",
       "       '$330000', '$undisclosed', '$200000000', '$36000000', '$67000000',\n",
       "       '$10200000', '$220000000', '$108000000', '$75000000', '$450000',\n",
       "       '$660000000', 'ah! Ventures', '$45000000', '$3200000', '$370000',\n",
       "       'Pre-series A', 'ITO Angel Network, LetsVenture', '$48000000',\n",
       "       '$3600000', '$11000000', '$192000000', '$65000000', '$1400000',\n",
       "       '$1900000', '$41000000', '$144000000', '$5200000', '$270000000',\n",
       "       '$140000', '$250000000', '$320000', '$350000000', '$4800000',\n",
       "       '$38000000', '$125000', '$26000000', '$64000000', '$620000',\n",
       "       '$900000', 'JITO Angel Network, LetsVenture', '$2600000',\n",
       "       '$1,250,000', '$400,000,000', '$1,700,000', '$27,000,000',\n",
       "       '$234,000,000', '$460,000,000', '$13,500,000', '$5,100,000',\n",
       "       '$195,000,000', '$125,000', '$45,000,000', '$200,000,000',\n",
       "       '$7,300,000', '$6,300,000', '$12,500,000', '$24,000,000',\n",
       "       '$140,000', '$16,500,000', '$340,000', '$43,000,000',\n",
       "       '$150,000,000', '$3300000', '$92000000', '$17000000', '$135000000',\n",
       "       '$$1,55,000', '$2100000', '$840000000', '$248000000', '$4300000',\n",
       "       '$570000', '$2200000', '$4700000', '$300000000', '$260000000',\n",
       "       '$140000000', '$175000000', '$19000000', '$810000', '$7500000',\n",
       "       '$600000000', '$90000000', '$5700000', '$6750000', '$78000000',\n",
       "       '$5400000', '$115000000', '$255000000', '$18000000', '$570000000',\n",
       "       '$550000', '$2700000', '$4200000', '$31000000', '$540000',\n",
       "       '$14000000', '$340000', '$', '$6200000', '$750000', '$6300000',\n",
       "       '$23000000', '$55000000'], dtype=object)"
      ]
     },
     "execution_count": 62,
     "metadata": {},
     "output_type": "execute_result"
    }
   ],
   "source": [
    "data2['Amount'].unique()"
   ]
  },
  {
   "cell_type": "markdown",
   "metadata": {},
   "source": [
    "Data Cleaning 2nd Dataset (data2)"
   ]
  },
  {
   "cell_type": "code",
   "execution_count": null,
   "metadata": {},
   "outputs": [],
   "source": [
    "# Handling  Company_Brand\n",
    "\n",
    "# Convert all enries to title\n",
    "data2['Company_Brand'] = data2['Company_Brand'].str.title()"
   ]
  },
  {
   "cell_type": "code",
   "execution_count": null,
   "metadata": {},
   "outputs": [],
   "source": [
    "# Handling Founded Column \n",
    "\n",
    "# Fill missing values with the median\n",
    "data2['Founded'] = data2['Founded'].fillna(data2['Founded'].median())\n",
    "\n",
    "\n",
    "# Convert 'Founded'  to integer datatype \n",
    "data2['Founded'] = data2 ['Founded'].astype(int)\n"
   ]
  },
  {
   "cell_type": "code",
   "execution_count": null,
   "metadata": {},
   "outputs": [],
   "source": [
    "# Handling Hedquarter Column \n",
    "\n",
    "# Replace this values 'Food & Beverages', 'Online Media\\t#Ref!', 'Information Technology & Services'- with Bangalore\n",
    "\n",
    "data2['HeadQuarter']= data2['HeadQuarter'].replace('Food & Beverages','Bangalore' )\n",
    "data2['HeadQuarter']= data2['HeadQuarter'].replace('Online Media\\t#Ref!','Bangalore')\n",
    "data2['HeadQuarter']= data2['HeadQuarter'].replace('Information Technology & Services', 'Bangalore')\n",
    "\n",
    "# Fill missing values \n",
    "data2['HeadQuarter'].fillna('Bangalore', inplace=True)\n",
    "\n",
    "# Convert all enries to title\n",
    "data2['HeadQuarter'] = data2['HeadQuarter'].str.title()"
   ]
  },
  {
   "cell_type": "code",
   "execution_count": null,
   "metadata": {},
   "outputs": [
    {
     "data": {
      "text/plain": [
       "array(['Bangalore', 'Mumbai', 'Gurugram', 'New Delhi', 'Hyderabad',\n",
       "       'Jaipur', 'Ahmadabad', 'Chennai', 'Small Towns, Andhra Pradesh',\n",
       "       'Goa', 'Rajsamand', 'Ranchi', 'Faridabad, Haryana', 'Gujarat',\n",
       "       'Thane', 'Pune', 'Cochin', 'Noida', 'Chandigarh', 'Gurgaon',\n",
       "       'Vadodara', 'Kolkata', 'Ahmedabad', 'Mohali', 'Indore', 'Powai',\n",
       "       'Ghaziabad', 'Nagpur', 'West Bengal', 'Patna', 'Samsitpur',\n",
       "       'Lucknow', 'Telangana', 'Haryana', 'Silvassa',\n",
       "       'Thiruvananthapuram', 'Faridabad', 'Roorkee', 'Ambernath',\n",
       "       'Panchkula', 'Surat', 'Coimbatore', 'Andheri', 'Mangalore',\n",
       "       'Telugana', 'Bhubaneswar', 'Kottayam', 'Beijing', 'Panaji',\n",
       "       'Satara', 'Orissia', 'Jodhpur', 'New York', 'Santra',\n",
       "       'Mountain View, Ca', 'Trivandrum', 'Jharkhand', 'Kanpur',\n",
       "       'Bhilwara', 'Guwahati', 'Kochi', 'London', 'The Nilgiris',\n",
       "       'Gandhinagar'], dtype=object)"
      ]
     },
     "execution_count": 152,
     "metadata": {},
     "output_type": "execute_result"
    }
   ],
   "source": [
    "data2['HeadQuarter'].unique()"
   ]
  },
  {
   "cell_type": "code",
   "execution_count": null,
   "metadata": {},
   "outputs": [],
   "source": [
    "#Handling Founders Column \n",
    "\n",
    "#Fill missing Values \n",
    "data2['Founders'].fillna('Ashneer Grover & Shashvat Nakrani', inplace=True)\n",
    "\n",
    "# Convert all entries to title case \n",
    "data2['Founders'] = data2['Founders'].str.title()"
   ]
  },
  {
   "cell_type": "code",
   "execution_count": null,
   "metadata": {},
   "outputs": [],
   "source": [
    "#Handling Investor Column with the most appearing investor \n",
    "\n",
    "#Fill missing Values \n",
    "data2['Investor'].fillna('Inflection Point Ventures', inplace=True)\n",
    "\n",
    "# Convert all entries to title case \n",
    "data2['Investor'] = data2['Investor'].str.title()"
   ]
  },
  {
   "cell_type": "code",
   "execution_count": null,
   "metadata": {},
   "outputs": [],
   "source": [
    "# Handling stage column with the most appearing-'Seed ' \n",
    "\n",
    "# For 'Stage', fill missing values with a placeholder\n",
    "data2['Stage'].fillna('Seed', inplace=True)\n",
    "\n",
    "# Convert the stage column from object to category \n",
    "\n",
    "data2['Stage'] = data2['Stage'].astype('category')"
   ]
  },
  {
   "cell_type": "code",
   "execution_count": null,
   "metadata": {},
   "outputs": [
    {
     "data": {
      "text/plain": [
       "0                     Startup\n",
       "1                      Edtech\n",
       "2                      Edtech\n",
       "3              B2B E-Commerce\n",
       "4                    Fintech \n",
       "                ...          \n",
       "1204    Staffing & Recruiting\n",
       "1205         Food & Beverages\n",
       "1206       Financial Services\n",
       "1207                   Edtech\n",
       "1208       Financial Services\n",
       "Name: Sector, Length: 1209, dtype: object"
      ]
     },
     "execution_count": 69,
     "metadata": {},
     "output_type": "execute_result"
    }
   ],
   "source": [
    "# Handling Sector Column\n",
    "\n",
    "# Convert all values to lower case\n",
    "data2['Sector'] = data2['Sector'].str.lower()\n",
    "\n",
    "# Combine like values in the 'Sector' column \n",
    "\n",
    "from fuzzywuzzy import process\n",
    "\n",
    "# List of standard sector names\n",
    "standard_sectors = ['ai', 'api','ar/vr','accomodation','agritech','auto','b2b ','beauty ','beverage','bio','blockchain','car','cloud','co-living','co-working','construction', 'consumer', 'content', 'conversational','coworking', 'craft beer','cosmetics','crowdsourcing','cryptocurrency','customer', 'dairy','data','dating', 'deep tech', 'defense', 'digital','edtech','education','electricity ','entertainment','ev', 'financ','ecommerce'\n",
    "                    'eye wear ', 'fashion','fintech ','food','gaming ','health ','home','hospitality','hr','hygiene','insurance','insurtech ', 'investment ','iot','jewellery ','information technology','job portal','legal ','life sciences','linguistic spiritual','location analytics','logistics','logitech','manufacturing','learning','market', 'med tech','media','mobility','company','nano','neo','networki','nutrition','online','startup','pharma','preschool','proptech','publication','real estate','renewable','rental','retail',\n",
    "                    'robotics','saas','sales','sanitation','scanning','service','social','solution','solar','space','sports','supply','telecomm','tourism','tech startup','trading','transport','travel','tyre','unknown','venture','video','virtual','visual','warehouse','protection','work','yoga']\n",
    "# Function to match and replace with fuzzy matching\n",
    "def replace_sector_fuzzy(sector, choices):\n",
    "    match, score = process.extractOne(sector, choices)\n",
    "    if score > 90:  \n",
    "        return match\n",
    "    else:\n",
    "        return sector\n",
    "\n",
    "# Apply the function to the 'Sector' column\n",
    "data2['Sector'] = data2['Sector'].apply(lambda x: replace_sector_fuzzy(x, standard_sectors))\n",
    "\n",
    "# Organise all Sector entries to title case \n",
    "data2['Sector'] = data2['Sector'].str.title()\n",
    "\n",
    "data2['Sector']\n",
    "\n"
   ]
  },
  {
   "cell_type": "code",
   "execution_count": null,
   "metadata": {},
   "outputs": [
    {
     "data": {
      "text/plain": [
       "Sector\n",
       "Fintech                              122\n",
       "Edtech                               102\n",
       "Financial Services                    61\n",
       "Healthcare                            52\n",
       "Food & Beverages                      37\n",
       "E-Commerce                            37\n",
       "Information Technology & Services     36\n",
       "Automotive                            33\n",
       "Computer Software                     31\n",
       "Consumer Goods                        25\n",
       "Name: count, dtype: int64"
      ]
     },
     "execution_count": 70,
     "metadata": {},
     "output_type": "execute_result"
    }
   ],
   "source": [
    "Sector_counts = data2['Sector'].value_counts()\n",
    "\n",
    "Sector_counts.head(10)"
   ]
  },
  {
   "cell_type": "code",
   "execution_count": null,
   "metadata": {},
   "outputs": [
    {
     "data": {
      "text/plain": [
       "0         1200000.0\n",
       "1       120000000.0\n",
       "2        30000000.0\n",
       "3        51000000.0\n",
       "4         2000000.0\n",
       "           ...     \n",
       "1204      3000000.0\n",
       "1205     20000000.0\n",
       "1206     55000000.0\n",
       "1207     26000000.0\n",
       "1208      8000000.0\n",
       "Name: Amount, Length: 1156, dtype: float64"
      ]
     },
     "execution_count": 71,
     "metadata": {},
     "output_type": "execute_result"
    }
   ],
   "source": [
    "# Handling the Amount Column\n",
    "\n",
    "\n",
    "# Ensure the Amount column is treated as strings\n",
    "data2['Amount'] = data2['Amount'].astype(str)\n",
    "\n",
    "# List of specific non-numeric values to drop\n",
    "non_numeric_values = [\n",
    "    \"Undisclosed\", \"Upsparks\", \"Series C\", \"Seed\", \"Pre-series A\",\n",
    "    \"ITO Angel Network, LetsVenture\", \"ah! Ventures\", \"JITO Angel Network, LetsVenture\", \"\"\n",
    "]\n",
    "\n",
    "# Step 1: Drop specific non-numeric values\n",
    "data2 = data2[~data2['Amount'].isin(non_numeric_values)] \n",
    "\n",
    "# Step 2: Remove dollar signs and commas\n",
    "data2['Amount'] = data2['Amount'].str.replace(r'[$,]', '', regex=True)\n",
    "\n",
    "# Step 3: Convert the Amount column to numeric, setting errors='coerce' will turn non-convertible values to NaN\n",
    "data2['Amount'] = pd.to_numeric(data2['Amount'], errors='coerce')\n",
    "\n",
    "# Step 4: Fill all missing values with the median of the Amount column\n",
    "data2['Amount'] = data2['Amount'].fillna(data2['Amount'].median())\n",
    "\n",
    "# Step 5: Convert Amount to Foat Datatype  \n",
    "data2['Amount'] = data2['Amount'].astype(float)\n",
    "\n",
    "data2['Amount']\n"
   ]
  },
  {
   "cell_type": "code",
   "execution_count": null,
   "metadata": {},
   "outputs": [
    {
     "data": {
      "text/plain": [
       "Company_Brand    0\n",
       "Founded          0\n",
       "HeadQuarter      0\n",
       "Sector           0\n",
       "What_it_does     0\n",
       "Founders         0\n",
       "Investor         0\n",
       "Amount           0\n",
       "Stage            0\n",
       "dtype: int64"
      ]
     },
     "execution_count": 72,
     "metadata": {},
     "output_type": "execute_result"
    }
   ],
   "source": [
    "#Check to confirm there are no missing values     \n",
    "\n",
    "data2.isnull().sum()    "
   ]
  },
  {
   "cell_type": "code",
   "execution_count": null,
   "metadata": {},
   "outputs": [],
   "source": [
    "# Drop duplicates for data2- they were 19 duplicates will this affect the results of our data\n",
    "\n",
    "data2.drop_duplicates( inplace=True)"
   ]
  },
  {
   "cell_type": "code",
   "execution_count": null,
   "metadata": {},
   "outputs": [
    {
     "data": {
      "text/plain": [
       "0"
      ]
     },
     "execution_count": 74,
     "metadata": {},
     "output_type": "execute_result"
    }
   ],
   "source": [
    "#Check to see if the are duplicated values after filling with the mode values \n",
    "\n",
    "data2.duplicated().sum()\n"
   ]
  },
  {
   "cell_type": "code",
   "execution_count": null,
   "metadata": {},
   "outputs": [],
   "source": [
    "#Add 'Year' Column 2021\n",
    "data2['Year']=2021"
   ]
  },
  {
   "cell_type": "code",
   "execution_count": null,
   "metadata": {},
   "outputs": [
    {
     "name": "stdout",
     "output_type": "stream",
     "text": [
      "<class 'pandas.core.frame.DataFrame'>\n",
      "Index: 1138 entries, 0 to 1208\n",
      "Data columns (total 10 columns):\n",
      " #   Column         Non-Null Count  Dtype   \n",
      "---  ------         --------------  -----   \n",
      " 0   Company_Brand  1138 non-null   object  \n",
      " 1   Founded        1138 non-null   int32   \n",
      " 2   HeadQuarter    1138 non-null   object  \n",
      " 3   Sector         1138 non-null   object  \n",
      " 4   What_it_does   1138 non-null   object  \n",
      " 5   Founders       1138 non-null   object  \n",
      " 6   Investor       1138 non-null   object  \n",
      " 7   Amount         1138 non-null   float64 \n",
      " 8   Stage          1138 non-null   category\n",
      " 9   Year           1138 non-null   int64   \n",
      "dtypes: category(1), float64(1), int32(1), int64(1), object(6)\n",
      "memory usage: 86.9+ KB\n"
     ]
    }
   ],
   "source": [
    "data2.info()"
   ]
  },
  {
   "cell_type": "markdown",
   "metadata": {},
   "source": [
    "3rd Dataset 2019 (data3)\n",
    "\n",
    "* This Dataset is downloaded from a onedrive "
   ]
  },
  {
   "cell_type": "code",
   "execution_count": null,
   "metadata": {},
   "outputs": [],
   "source": [
    "#Load the one drive file which is the 2019 startups data (3rd Dataset)\n",
    "\n",
    "data3=pd.read_excel ('C:\\\\Users\\\\Admin\\\\OneDrive\\\\OneDrive-Azubi\\\\CA-LP1\\\\LP1-Indian-Startup-Ecosystem-1\\\\startup_funding2019.xlsx')\n",
    "\n"
   ]
  },
  {
   "cell_type": "code",
   "execution_count": null,
   "metadata": {},
   "outputs": [
    {
     "data": {
      "text/html": [
       "<div>\n",
       "<style scoped>\n",
       "    .dataframe tbody tr th:only-of-type {\n",
       "        vertical-align: middle;\n",
       "    }\n",
       "\n",
       "    .dataframe tbody tr th {\n",
       "        vertical-align: top;\n",
       "    }\n",
       "\n",
       "    .dataframe thead th {\n",
       "        text-align: right;\n",
       "    }\n",
       "</style>\n",
       "<table border=\"1\" class=\"dataframe\">\n",
       "  <thead>\n",
       "    <tr style=\"text-align: right;\">\n",
       "      <th></th>\n",
       "      <th>Company/Brand</th>\n",
       "      <th>Founded</th>\n",
       "      <th>HeadQuarter</th>\n",
       "      <th>Sector</th>\n",
       "      <th>What it does</th>\n",
       "      <th>Founders</th>\n",
       "      <th>Investor</th>\n",
       "      <th>Amount($)</th>\n",
       "      <th>Stage</th>\n",
       "    </tr>\n",
       "  </thead>\n",
       "  <tbody>\n",
       "    <tr>\n",
       "      <th>0</th>\n",
       "      <td>Bombay Shaving</td>\n",
       "      <td>NaN</td>\n",
       "      <td>NaN</td>\n",
       "      <td>Ecommerce</td>\n",
       "      <td>Provides a range of male grooming products</td>\n",
       "      <td>Shantanu Deshpande</td>\n",
       "      <td>Sixth Sense Ventures</td>\n",
       "      <td>6300000</td>\n",
       "      <td>NaN</td>\n",
       "    </tr>\n",
       "    <tr>\n",
       "      <th>1</th>\n",
       "      <td>Ruangguru</td>\n",
       "      <td>2014.0</td>\n",
       "      <td>Mumbai</td>\n",
       "      <td>Edtech</td>\n",
       "      <td>A learning platform that provides topic-based ...</td>\n",
       "      <td>Adamas Belva Syah Devara, Iman Usman.</td>\n",
       "      <td>General Atlantic</td>\n",
       "      <td>150000000</td>\n",
       "      <td>Series C</td>\n",
       "    </tr>\n",
       "    <tr>\n",
       "      <th>2</th>\n",
       "      <td>Eduisfun</td>\n",
       "      <td>NaN</td>\n",
       "      <td>Mumbai</td>\n",
       "      <td>Edtech</td>\n",
       "      <td>It aims to make learning fun via games.</td>\n",
       "      <td>Jatin Solanki</td>\n",
       "      <td>Deepak Parekh, Amitabh Bachchan, Piyush Pandey</td>\n",
       "      <td>28000000</td>\n",
       "      <td>Fresh funding</td>\n",
       "    </tr>\n",
       "    <tr>\n",
       "      <th>3</th>\n",
       "      <td>HomeLane</td>\n",
       "      <td>2014.0</td>\n",
       "      <td>Chennai</td>\n",
       "      <td>Interior design</td>\n",
       "      <td>Provides interior designing solutions</td>\n",
       "      <td>Srikanth Iyer, Rama Harinath</td>\n",
       "      <td>Evolvence India Fund (EIF), Pidilite Group, FJ...</td>\n",
       "      <td>30000000</td>\n",
       "      <td>Series D</td>\n",
       "    </tr>\n",
       "    <tr>\n",
       "      <th>4</th>\n",
       "      <td>Nu Genes</td>\n",
       "      <td>2004.0</td>\n",
       "      <td>Telangana</td>\n",
       "      <td>AgriTech</td>\n",
       "      <td>It is a seed company engaged in production, pr...</td>\n",
       "      <td>Narayana Reddy Punyala</td>\n",
       "      <td>Innovation in Food and Agriculture (IFA)</td>\n",
       "      <td>6000000</td>\n",
       "      <td>NaN</td>\n",
       "    </tr>\n",
       "  </tbody>\n",
       "</table>\n",
       "</div>"
      ],
      "text/plain": [
       "    Company/Brand  Founded HeadQuarter           Sector  \\\n",
       "0  Bombay Shaving      NaN         NaN        Ecommerce   \n",
       "1       Ruangguru   2014.0      Mumbai           Edtech   \n",
       "2        Eduisfun      NaN      Mumbai           Edtech   \n",
       "3        HomeLane   2014.0     Chennai  Interior design   \n",
       "4        Nu Genes   2004.0   Telangana         AgriTech   \n",
       "\n",
       "                                        What it does  \\\n",
       "0         Provides a range of male grooming products   \n",
       "1  A learning platform that provides topic-based ...   \n",
       "2            It aims to make learning fun via games.   \n",
       "3              Provides interior designing solutions   \n",
       "4  It is a seed company engaged in production, pr...   \n",
       "\n",
       "                                Founders  \\\n",
       "0                     Shantanu Deshpande   \n",
       "1  Adamas Belva Syah Devara, Iman Usman.   \n",
       "2                          Jatin Solanki   \n",
       "3           Srikanth Iyer, Rama Harinath   \n",
       "4                 Narayana Reddy Punyala   \n",
       "\n",
       "                                            Investor  Amount($)          Stage  \n",
       "0                               Sixth Sense Ventures    6300000            NaN  \n",
       "1                                   General Atlantic  150000000       Series C  \n",
       "2     Deepak Parekh, Amitabh Bachchan, Piyush Pandey   28000000  Fresh funding  \n",
       "3  Evolvence India Fund (EIF), Pidilite Group, FJ...   30000000       Series D  \n",
       "4           Innovation in Food and Agriculture (IFA)    6000000            NaN  "
      ]
     },
     "execution_count": 78,
     "metadata": {},
     "output_type": "execute_result"
    }
   ],
   "source": [
    "data3.head ()"
   ]
  },
  {
   "cell_type": "code",
   "execution_count": null,
   "metadata": {},
   "outputs": [
    {
     "data": {
      "text/html": [
       "<div>\n",
       "<style scoped>\n",
       "    .dataframe tbody tr th:only-of-type {\n",
       "        vertical-align: middle;\n",
       "    }\n",
       "\n",
       "    .dataframe tbody tr th {\n",
       "        vertical-align: top;\n",
       "    }\n",
       "\n",
       "    .dataframe thead th {\n",
       "        text-align: right;\n",
       "    }\n",
       "</style>\n",
       "<table border=\"1\" class=\"dataframe\">\n",
       "  <thead>\n",
       "    <tr style=\"text-align: right;\">\n",
       "      <th></th>\n",
       "      <th>Company_Brand</th>\n",
       "      <th>Founded</th>\n",
       "      <th>HeadQuarter</th>\n",
       "      <th>Sector</th>\n",
       "      <th>What it does</th>\n",
       "      <th>Founders</th>\n",
       "      <th>Investor</th>\n",
       "      <th>Amount($)</th>\n",
       "      <th>Stage</th>\n",
       "      <th>Year</th>\n",
       "    </tr>\n",
       "  </thead>\n",
       "  <tbody>\n",
       "    <tr>\n",
       "      <th>84</th>\n",
       "      <td>Infra.Market</td>\n",
       "      <td>0</td>\n",
       "      <td>Mumbai</td>\n",
       "      <td>Infratech</td>\n",
       "      <td>It connects client requirements to their suppl...</td>\n",
       "      <td>Aaditya Sharda, Souvik Sengupta</td>\n",
       "      <td>Tiger Global, Nexus Venture Partners, Accel Pa...</td>\n",
       "      <td>20000000.0</td>\n",
       "      <td>Series A</td>\n",
       "      <td>2019</td>\n",
       "    </tr>\n",
       "    <tr>\n",
       "      <th>85</th>\n",
       "      <td>Oyo</td>\n",
       "      <td>2013</td>\n",
       "      <td>Gurugram</td>\n",
       "      <td>Hospitality</td>\n",
       "      <td>Provides rooms for comfortable stay</td>\n",
       "      <td>Ritesh Agarwal</td>\n",
       "      <td>MyPreferred Transformation, Avendus Finance, S...</td>\n",
       "      <td>693000000.0</td>\n",
       "      <td>False</td>\n",
       "      <td>2019</td>\n",
       "    </tr>\n",
       "    <tr>\n",
       "      <th>86</th>\n",
       "      <td>Gomechanic</td>\n",
       "      <td>2016</td>\n",
       "      <td>Delhi</td>\n",
       "      <td>Automobile &amp; Technology</td>\n",
       "      <td>Find automobile repair and maintenance service...</td>\n",
       "      <td>Amit Bhasin, Kushal Karwa, Nitin Rana, Rishabh...</td>\n",
       "      <td>Sequoia Capital</td>\n",
       "      <td>5000000.0</td>\n",
       "      <td>Series B</td>\n",
       "      <td>2019</td>\n",
       "    </tr>\n",
       "    <tr>\n",
       "      <th>87</th>\n",
       "      <td>Spinny</td>\n",
       "      <td>2015</td>\n",
       "      <td>Delhi</td>\n",
       "      <td>Automobile</td>\n",
       "      <td>Online car retailer</td>\n",
       "      <td>Niraj Singh, Ramanshu Mahaur, Ganesh Pawar, Mo...</td>\n",
       "      <td>Norwest Venture Partners, General Catalyst, Fu...</td>\n",
       "      <td>50000000.0</td>\n",
       "      <td>False</td>\n",
       "      <td>2019</td>\n",
       "    </tr>\n",
       "    <tr>\n",
       "      <th>88</th>\n",
       "      <td>Ess Kay Fincorp</td>\n",
       "      <td>0</td>\n",
       "      <td>Rajasthan</td>\n",
       "      <td>Banking</td>\n",
       "      <td>Organised Non-Banking Finance Company</td>\n",
       "      <td>Rajendra Setia</td>\n",
       "      <td>TPG, Norwest Venture Partners, Evolvence India</td>\n",
       "      <td>33000000.0</td>\n",
       "      <td>False</td>\n",
       "      <td>2019</td>\n",
       "    </tr>\n",
       "  </tbody>\n",
       "</table>\n",
       "</div>"
      ],
      "text/plain": [
       "      Company_Brand  Founded HeadQuarter                   Sector  \\\n",
       "84     Infra.Market        0      Mumbai                Infratech   \n",
       "85              Oyo     2013    Gurugram              Hospitality   \n",
       "86       Gomechanic     2016       Delhi  Automobile & Technology   \n",
       "87           Spinny     2015       Delhi               Automobile   \n",
       "88  Ess Kay Fincorp        0   Rajasthan                  Banking   \n",
       "\n",
       "                                         What it does  \\\n",
       "84  It connects client requirements to their suppl...   \n",
       "85                Provides rooms for comfortable stay   \n",
       "86  Find automobile repair and maintenance service...   \n",
       "87                                Online car retailer   \n",
       "88              Organised Non-Banking Finance Company   \n",
       "\n",
       "                                             Founders  \\\n",
       "84                    Aaditya Sharda, Souvik Sengupta   \n",
       "85                                     Ritesh Agarwal   \n",
       "86  Amit Bhasin, Kushal Karwa, Nitin Rana, Rishabh...   \n",
       "87  Niraj Singh, Ramanshu Mahaur, Ganesh Pawar, Mo...   \n",
       "88                                     Rajendra Setia   \n",
       "\n",
       "                                             Investor    Amount($)     Stage  \\\n",
       "84  Tiger Global, Nexus Venture Partners, Accel Pa...   20000000.0  Series A   \n",
       "85  MyPreferred Transformation, Avendus Finance, S...  693000000.0     False   \n",
       "86                                    Sequoia Capital    5000000.0  Series B   \n",
       "87  Norwest Venture Partners, General Catalyst, Fu...   50000000.0     False   \n",
       "88     TPG, Norwest Venture Partners, Evolvence India   33000000.0     False   \n",
       "\n",
       "    Year  \n",
       "84  2019  \n",
       "85  2019  \n",
       "86  2019  \n",
       "87  2019  \n",
       "88  2019  "
      ]
     },
     "execution_count": 145,
     "metadata": {},
     "output_type": "execute_result"
    }
   ],
   "source": [
    "data3.tail()"
   ]
  },
  {
   "cell_type": "code",
   "execution_count": null,
   "metadata": {},
   "outputs": [
    {
     "data": {
      "text/plain": [
       "(89, 9)"
      ]
     },
     "execution_count": 80,
     "metadata": {},
     "output_type": "execute_result"
    }
   ],
   "source": [
    "data3.shape"
   ]
  },
  {
   "cell_type": "code",
   "execution_count": null,
   "metadata": {},
   "outputs": [
    {
     "data": {
      "text/html": [
       "<div>\n",
       "<style scoped>\n",
       "    .dataframe tbody tr th:only-of-type {\n",
       "        vertical-align: middle;\n",
       "    }\n",
       "\n",
       "    .dataframe tbody tr th {\n",
       "        vertical-align: top;\n",
       "    }\n",
       "\n",
       "    .dataframe thead th {\n",
       "        text-align: right;\n",
       "    }\n",
       "</style>\n",
       "<table border=\"1\" class=\"dataframe\">\n",
       "  <thead>\n",
       "    <tr style=\"text-align: right;\">\n",
       "      <th></th>\n",
       "      <th>count</th>\n",
       "      <th>mean</th>\n",
       "      <th>std</th>\n",
       "      <th>min</th>\n",
       "      <th>25%</th>\n",
       "      <th>50%</th>\n",
       "      <th>75%</th>\n",
       "      <th>max</th>\n",
       "    </tr>\n",
       "  </thead>\n",
       "  <tbody>\n",
       "    <tr>\n",
       "      <th>Founded</th>\n",
       "      <td>60.0</td>\n",
       "      <td>2014.533333</td>\n",
       "      <td>2.937003</td>\n",
       "      <td>2004.0</td>\n",
       "      <td>2013.0</td>\n",
       "      <td>2015.0</td>\n",
       "      <td>2016.25</td>\n",
       "      <td>2019.0</td>\n",
       "    </tr>\n",
       "  </tbody>\n",
       "</table>\n",
       "</div>"
      ],
      "text/plain": [
       "         count         mean       std     min     25%     50%      75%     max\n",
       "Founded   60.0  2014.533333  2.937003  2004.0  2013.0  2015.0  2016.25  2019.0"
      ]
     },
     "execution_count": 81,
     "metadata": {},
     "output_type": "execute_result"
    }
   ],
   "source": [
    "data3.describe().T"
   ]
  },
  {
   "cell_type": "code",
   "execution_count": null,
   "metadata": {},
   "outputs": [
    {
     "name": "stdout",
     "output_type": "stream",
     "text": [
      "<class 'pandas.core.frame.DataFrame'>\n",
      "RangeIndex: 89 entries, 0 to 88\n",
      "Data columns (total 9 columns):\n",
      " #   Column         Non-Null Count  Dtype  \n",
      "---  ------         --------------  -----  \n",
      " 0   Company/Brand  89 non-null     object \n",
      " 1   Founded        60 non-null     float64\n",
      " 2   HeadQuarter    70 non-null     object \n",
      " 3   Sector         84 non-null     object \n",
      " 4   What it does   89 non-null     object \n",
      " 5   Founders       86 non-null     object \n",
      " 6   Investor       89 non-null     object \n",
      " 7   Amount($)      89 non-null     object \n",
      " 8   Stage          43 non-null     object \n",
      "dtypes: float64(1), object(8)\n",
      "memory usage: 6.4+ KB\n"
     ]
    }
   ],
   "source": [
    "data3.info()"
   ]
  },
  {
   "cell_type": "code",
   "execution_count": null,
   "metadata": {},
   "outputs": [
    {
     "data": {
      "text/html": [
       "<div>\n",
       "<style scoped>\n",
       "    .dataframe tbody tr th:only-of-type {\n",
       "        vertical-align: middle;\n",
       "    }\n",
       "\n",
       "    .dataframe tbody tr th {\n",
       "        vertical-align: top;\n",
       "    }\n",
       "\n",
       "    .dataframe thead th {\n",
       "        text-align: right;\n",
       "    }\n",
       "</style>\n",
       "<table border=\"1\" class=\"dataframe\">\n",
       "  <thead>\n",
       "    <tr style=\"text-align: right;\">\n",
       "      <th></th>\n",
       "      <th>Null Count</th>\n",
       "      <th>Percentage</th>\n",
       "    </tr>\n",
       "  </thead>\n",
       "  <tbody>\n",
       "    <tr>\n",
       "      <th>Company/Brand</th>\n",
       "      <td>0</td>\n",
       "      <td>0.000000</td>\n",
       "    </tr>\n",
       "    <tr>\n",
       "      <th>Founded</th>\n",
       "      <td>29</td>\n",
       "      <td>2.756654</td>\n",
       "    </tr>\n",
       "    <tr>\n",
       "      <th>HeadQuarter</th>\n",
       "      <td>19</td>\n",
       "      <td>1.806084</td>\n",
       "    </tr>\n",
       "    <tr>\n",
       "      <th>Sector</th>\n",
       "      <td>5</td>\n",
       "      <td>0.475285</td>\n",
       "    </tr>\n",
       "    <tr>\n",
       "      <th>What it does</th>\n",
       "      <td>0</td>\n",
       "      <td>0.000000</td>\n",
       "    </tr>\n",
       "    <tr>\n",
       "      <th>Founders</th>\n",
       "      <td>3</td>\n",
       "      <td>0.285171</td>\n",
       "    </tr>\n",
       "    <tr>\n",
       "      <th>Investor</th>\n",
       "      <td>0</td>\n",
       "      <td>0.000000</td>\n",
       "    </tr>\n",
       "    <tr>\n",
       "      <th>Amount($)</th>\n",
       "      <td>0</td>\n",
       "      <td>0.000000</td>\n",
       "    </tr>\n",
       "    <tr>\n",
       "      <th>Stage</th>\n",
       "      <td>46</td>\n",
       "      <td>4.372624</td>\n",
       "    </tr>\n",
       "  </tbody>\n",
       "</table>\n",
       "</div>"
      ],
      "text/plain": [
       "               Null Count  Percentage\n",
       "Company/Brand           0    0.000000\n",
       "Founded                29    2.756654\n",
       "HeadQuarter            19    1.806084\n",
       "Sector                  5    0.475285\n",
       "What it does            0    0.000000\n",
       "Founders                3    0.285171\n",
       "Investor                0    0.000000\n",
       "Amount($)               0    0.000000\n",
       "Stage                  46    4.372624"
      ]
     },
     "execution_count": 83,
     "metadata": {},
     "output_type": "execute_result"
    }
   ],
   "source": [
    "# Missing values with their percentages \n",
    "data3.isnull().sum().to_frame('Null Count').assign(Percentage=lambda x: (x['Null Count'] / len(data)) * 100)"
   ]
  },
  {
   "cell_type": "code",
   "execution_count": null,
   "metadata": {},
   "outputs": [
    {
     "data": {
      "text/plain": [
       "0"
      ]
     },
     "execution_count": 84,
     "metadata": {},
     "output_type": "execute_result"
    }
   ],
   "source": [
    "data3.duplicated().sum()"
   ]
  },
  {
   "cell_type": "code",
   "execution_count": null,
   "metadata": {},
   "outputs": [
    {
     "data": {
      "text/plain": [
       "array(['Ecommerce', 'Edtech', 'Interior design', 'AgriTech', 'Technology',\n",
       "       'SaaS', 'AI & Tech', 'E-commerce', 'E-commerce & AR', 'Fintech',\n",
       "       'HR tech', 'Food tech', 'Health', 'Healthcare', 'Safety tech',\n",
       "       'Pharmaceutical', 'Insurance technology', 'AI', 'Foodtech', 'Food',\n",
       "       'IoT', 'E-marketplace', 'Robotics & AI', 'Logistics', 'Travel',\n",
       "       'Manufacturing', 'Food & Nutrition', 'Social Media', 'Unknown',\n",
       "       'E-Sports', 'Cosmetics', 'B2B', 'Jewellery', 'B2B Supply Chain',\n",
       "       'Games', 'Food & tech', 'Accomodation', 'Automotive tech',\n",
       "       'Legal tech', 'Mutual Funds', 'Cybersecurity', 'Automobile',\n",
       "       'Sports', 'Healthtech', 'Yoga & wellness', 'Virtual Banking',\n",
       "       'Transportation', 'Transport & Rentals',\n",
       "       'Marketing & Customer loyalty', 'Infratech', 'Hospitality',\n",
       "       'Automobile & Technology', 'Banking'], dtype=object)"
      ]
     },
     "execution_count": 153,
     "metadata": {},
     "output_type": "execute_result"
    }
   ],
   "source": [
    "data3['Sector'].unique()"
   ]
  },
  {
   "cell_type": "code",
   "execution_count": null,
   "metadata": {},
   "outputs": [
    {
     "data": {
      "text/plain": [
       "Sector\n",
       "Edtech        7\n",
       "Unknown       5\n",
       "Fintech       5\n",
       "AgriTech      4\n",
       "Technology    4\n",
       "SaaS          4\n",
       "E-commerce    3\n",
       "Automobile    3\n",
       "Logistics     3\n",
       "Food          2\n",
       "Name: count, dtype: int64"
      ]
     },
     "execution_count": 154,
     "metadata": {},
     "output_type": "execute_result"
    }
   ],
   "source": [
    "Sector_counts = data3['Sector'].value_counts()\n",
    "\n",
    "Sector_counts.head(10)"
   ]
  },
  {
   "cell_type": "code",
   "execution_count": null,
   "metadata": {},
   "outputs": [
    {
     "data": {
      "text/plain": [
       "array(['Unknown', 'Mumbai', 'Chennai', 'Telangana', 'Pune', 'Bangalore',\n",
       "       'Noida', 'Delhi', 'Ahmedabad', 'Gurugram', 'Haryana', 'Chandigarh',\n",
       "       'Jaipur', 'New Delhi', 'Surat', 'Uttar pradesh', 'Hyderabad',\n",
       "       'Rajasthan'], dtype=object)"
      ]
     },
     "execution_count": 147,
     "metadata": {},
     "output_type": "execute_result"
    }
   ],
   "source": [
    "data3['HeadQuarter'].unique()"
   ]
  },
  {
   "cell_type": "markdown",
   "metadata": {},
   "source": [
    "Data cleaning 3rd Dataset 2019- (daat3)"
   ]
  },
  {
   "cell_type": "code",
   "execution_count": null,
   "metadata": {},
   "outputs": [],
   "source": [
    "# Handling the Company/Brand Colum\n",
    "\n",
    "#Change column name to Company_Brand\n",
    "\n",
    "data3.rename(columns={'Company/Brand': 'Company_Brand'}, inplace=True)\n",
    "\n",
    "# Convert all enries to title\n",
    "data3['Company_Brand'] = data3['Company_Brand'].str.title()\n"
   ]
  },
  {
   "cell_type": "code",
   "execution_count": null,
   "metadata": {},
   "outputs": [],
   "source": [
    "# Handling Founded Column\n",
    "\n",
    "# Fill missing values with the median\n",
    "data3['Founded'] = data3['Founded'].fillna(data3['Founded'].median())\n",
    "\n",
    "\n",
    "# Convert 'Founded'  to integer datatype \n",
    "data3['Founded'] = data3 ['Founded'].astype(int)\n"
   ]
  },
  {
   "cell_type": "code",
   "execution_count": null,
   "metadata": {},
   "outputs": [],
   "source": [
    "# Handling the HeadQuarter Colum"
   ]
  },
  {
   "cell_type": "code",
   "execution_count": null,
   "metadata": {},
   "outputs": [],
   "source": [
    "# Handling the Sector column \n",
    "\n",
    "#Fill missing Values \n",
    "data2['Sector'].fillna('Edtech', inplace=True)"
   ]
  },
  {
   "cell_type": "code",
   "execution_count": null,
   "metadata": {},
   "outputs": [],
   "source": []
  },
  {
   "cell_type": "code",
   "execution_count": 85,
   "metadata": {},
   "outputs": [
    {
     "name": "stdout",
     "output_type": "stream",
     "text": [
      "Company/Brand     object\n",
      "Founded          float64\n",
      "HeadQuarter       object\n",
      "Sector            object\n",
      "What it does      object\n",
      "Founders          object\n",
      "Investor          object\n",
      "Amount($)        float64\n",
      "Stage             object\n",
      "dtype: object\n"
     ]
    }
   ],
   "source": [
    "# Step 1: Convert the column to string type\n",
    "data3['Amount($)'] = data3['Amount($)'].astype(str)\n",
    " \n",
    "# Step 2: Remove any non-numeric characters, such as '$' and ','\n",
    "data3['Amount($)'] = data3['Amount($)'].str.replace('[\\$,]', '', regex=True)\n",
    " \n",
    "# Step 3: Replace 'undisclosed' with NaN\n",
    "data3['Amount($)'].replace('undisclosed', np.nan, inplace=True)\n",
    " \n",
    "# Step 4: Convert the column to numeric (float), ignoring errors\n",
    "data3['Amount($)'] = pd.to_numeric(data3['Amount($)'], errors='coerce')\n",
    " \n",
    "# Step 5: Fill missing values with 0\n",
    "data3['Amount($)'].fillna(0, inplace=True)\n",
    " \n",
    "# Confirm the datatype conversion\n",
    "print(data3.dtypes)\n",
    " "
   ]
  },
  {
   "cell_type": "code",
   "execution_count": 86,
   "metadata": {},
   "outputs": [],
   "source": [
    "# Fill missing values in our Table 3 (df)\n",
    "\n",
    "# For columns with a few missing values, fill with 'Unknown'\n",
    "data3['HeadQuarter'].fillna('Unknown', inplace=True)\n",
    "data3['Founders'].fillna('Unknown', inplace=True)\n",
    "data3['Sector'].fillna('Unknown', inplace=True)\n",
    "\n",
    "data3['Stage'].fillna( data3['Stage']==0 , inplace = True)"
   ]
  },
  {
   "cell_type": "code",
   "execution_count": 87,
   "metadata": {},
   "outputs": [],
   "source": [
    "# For 'Founded', fill missing values with 0\n",
    "data3['Founded'].fillna(data3 ['Founded']==0, inplace=True)"
   ]
  },
  {
   "cell_type": "code",
   "execution_count": 88,
   "metadata": {},
   "outputs": [],
   "source": [
    "# Convert 'Founded'  to integer datatype for consistency\n",
    "\n",
    "data['Founded'] = data3 ['Founded'].astype(int)"
   ]
  },
  {
   "cell_type": "code",
   "execution_count": 89,
   "metadata": {},
   "outputs": [
    {
     "data": {
      "text/plain": [
       "Company/Brand    0\n",
       "Founded          0\n",
       "HeadQuarter      0\n",
       "Sector           0\n",
       "What it does     0\n",
       "Founders         0\n",
       "Investor         0\n",
       "Amount($)        0\n",
       "Stage            0\n",
       "dtype: int64"
      ]
     },
     "execution_count": 89,
     "metadata": {},
     "output_type": "execute_result"
    }
   ],
   "source": [
    "# Check to confirm there are no missing values\n",
    "data3.isnull().sum() "
   ]
  },
  {
   "cell_type": "code",
   "execution_count": 90,
   "metadata": {},
   "outputs": [],
   "source": [
    "\n",
    "data3['Stage'] = data3['Stage'].astype('category')"
   ]
  },
  {
   "cell_type": "code",
   "execution_count": 91,
   "metadata": {},
   "outputs": [],
   "source": [
    "data3['Year']=2019"
   ]
  },
  {
   "cell_type": "code",
   "execution_count": 92,
   "metadata": {},
   "outputs": [
    {
     "name": "stdout",
     "output_type": "stream",
     "text": [
      "<class 'pandas.core.frame.DataFrame'>\n",
      "RangeIndex: 89 entries, 0 to 88\n",
      "Data columns (total 10 columns):\n",
      " #   Column         Non-Null Count  Dtype   \n",
      "---  ------         --------------  -----   \n",
      " 0   Company/Brand  89 non-null     object  \n",
      " 1   Founded        89 non-null     object  \n",
      " 2   HeadQuarter    89 non-null     object  \n",
      " 3   Sector         89 non-null     object  \n",
      " 4   What it does   89 non-null     object  \n",
      " 5   Founders       89 non-null     object  \n",
      " 6   Investor       89 non-null     object  \n",
      " 7   Amount($)      89 non-null     float64 \n",
      " 8   Stage          89 non-null     category\n",
      " 9   Year           89 non-null     int64   \n",
      "dtypes: category(1), float64(1), int64(1), object(7)\n",
      "memory usage: 7.1+ KB\n"
     ]
    }
   ],
   "source": [
    "data3.info()"
   ]
  },
  {
   "cell_type": "markdown",
   "metadata": {},
   "source": [
    "4th Dataset 2018 (data4)\n",
    "\n",
    "* This dataset is from a GitHub repository. We had to clone from GitHub then copy csv file to our notebook"
   ]
  },
  {
   "cell_type": "code",
   "execution_count": 93,
   "metadata": {},
   "outputs": [],
   "source": [
    "# Load data from GitHub repository \n",
    "\n",
    "data4=pd.read_csv('C:\\\\Users\\\\Admin\\\\OneDrive\\\\OneDrive-Azubi\\\\CA-LP1\\\\LP1-Indian-Startup-Ecosystem-1\\\\CA-LP1-Indian-Startup-Ecosystem-1')"
   ]
  },
  {
   "cell_type": "code",
   "execution_count": 94,
   "metadata": {},
   "outputs": [
    {
     "data": {
      "text/html": [
       "<div>\n",
       "<style scoped>\n",
       "    .dataframe tbody tr th:only-of-type {\n",
       "        vertical-align: middle;\n",
       "    }\n",
       "\n",
       "    .dataframe tbody tr th {\n",
       "        vertical-align: top;\n",
       "    }\n",
       "\n",
       "    .dataframe thead th {\n",
       "        text-align: right;\n",
       "    }\n",
       "</style>\n",
       "<table border=\"1\" class=\"dataframe\">\n",
       "  <thead>\n",
       "    <tr style=\"text-align: right;\">\n",
       "      <th></th>\n",
       "      <th>Company Name</th>\n",
       "      <th>Industry</th>\n",
       "      <th>Round/Series</th>\n",
       "      <th>Amount</th>\n",
       "      <th>Location</th>\n",
       "      <th>About Company</th>\n",
       "    </tr>\n",
       "  </thead>\n",
       "  <tbody>\n",
       "    <tr>\n",
       "      <th>0</th>\n",
       "      <td>TheCollegeFever</td>\n",
       "      <td>Brand Marketing, Event Promotion, Marketing, S...</td>\n",
       "      <td>Seed</td>\n",
       "      <td>250000</td>\n",
       "      <td>Bangalore, Karnataka, India</td>\n",
       "      <td>TheCollegeFever is a hub for fun, fiesta and f...</td>\n",
       "    </tr>\n",
       "    <tr>\n",
       "      <th>1</th>\n",
       "      <td>Happy Cow Dairy</td>\n",
       "      <td>Agriculture, Farming</td>\n",
       "      <td>Seed</td>\n",
       "      <td>₹40,000,000</td>\n",
       "      <td>Mumbai, Maharashtra, India</td>\n",
       "      <td>A startup which aggregates milk from dairy far...</td>\n",
       "    </tr>\n",
       "    <tr>\n",
       "      <th>2</th>\n",
       "      <td>MyLoanCare</td>\n",
       "      <td>Credit, Financial Services, Lending, Marketplace</td>\n",
       "      <td>Series A</td>\n",
       "      <td>₹65,000,000</td>\n",
       "      <td>Gurgaon, Haryana, India</td>\n",
       "      <td>Leading Online Loans Marketplace in India</td>\n",
       "    </tr>\n",
       "    <tr>\n",
       "      <th>3</th>\n",
       "      <td>PayMe India</td>\n",
       "      <td>Financial Services, FinTech</td>\n",
       "      <td>Angel</td>\n",
       "      <td>2000000</td>\n",
       "      <td>Noida, Uttar Pradesh, India</td>\n",
       "      <td>PayMe India is an innovative FinTech organizat...</td>\n",
       "    </tr>\n",
       "    <tr>\n",
       "      <th>4</th>\n",
       "      <td>Eunimart</td>\n",
       "      <td>E-Commerce Platforms, Retail, SaaS</td>\n",
       "      <td>Seed</td>\n",
       "      <td>—</td>\n",
       "      <td>Hyderabad, Andhra Pradesh, India</td>\n",
       "      <td>Eunimart is a one stop solution for merchants ...</td>\n",
       "    </tr>\n",
       "  </tbody>\n",
       "</table>\n",
       "</div>"
      ],
      "text/plain": [
       "      Company Name                                           Industry  \\\n",
       "0  TheCollegeFever  Brand Marketing, Event Promotion, Marketing, S...   \n",
       "1  Happy Cow Dairy                               Agriculture, Farming   \n",
       "2       MyLoanCare   Credit, Financial Services, Lending, Marketplace   \n",
       "3      PayMe India                        Financial Services, FinTech   \n",
       "4         Eunimart                 E-Commerce Platforms, Retail, SaaS   \n",
       "\n",
       "  Round/Series       Amount                          Location  \\\n",
       "0         Seed       250000       Bangalore, Karnataka, India   \n",
       "1         Seed  ₹40,000,000        Mumbai, Maharashtra, India   \n",
       "2     Series A  ₹65,000,000           Gurgaon, Haryana, India   \n",
       "3        Angel      2000000       Noida, Uttar Pradesh, India   \n",
       "4         Seed            —  Hyderabad, Andhra Pradesh, India   \n",
       "\n",
       "                                       About Company  \n",
       "0  TheCollegeFever is a hub for fun, fiesta and f...  \n",
       "1  A startup which aggregates milk from dairy far...  \n",
       "2          Leading Online Loans Marketplace in India  \n",
       "3  PayMe India is an innovative FinTech organizat...  \n",
       "4  Eunimart is a one stop solution for merchants ...  "
      ]
     },
     "execution_count": 94,
     "metadata": {},
     "output_type": "execute_result"
    }
   ],
   "source": [
    "data4.head ()"
   ]
  },
  {
   "cell_type": "code",
   "execution_count": 95,
   "metadata": {},
   "outputs": [
    {
     "data": {
      "text/plain": [
       "(526, 6)"
      ]
     },
     "execution_count": 95,
     "metadata": {},
     "output_type": "execute_result"
    }
   ],
   "source": [
    "data4.shape"
   ]
  },
  {
   "cell_type": "code",
   "execution_count": 96,
   "metadata": {},
   "outputs": [
    {
     "data": {
      "text/html": [
       "<div>\n",
       "<style scoped>\n",
       "    .dataframe tbody tr th:only-of-type {\n",
       "        vertical-align: middle;\n",
       "    }\n",
       "\n",
       "    .dataframe tbody tr th {\n",
       "        vertical-align: top;\n",
       "    }\n",
       "\n",
       "    .dataframe thead th {\n",
       "        text-align: right;\n",
       "    }\n",
       "</style>\n",
       "<table border=\"1\" class=\"dataframe\">\n",
       "  <thead>\n",
       "    <tr style=\"text-align: right;\">\n",
       "      <th></th>\n",
       "      <th>count</th>\n",
       "      <th>unique</th>\n",
       "      <th>top</th>\n",
       "      <th>freq</th>\n",
       "    </tr>\n",
       "  </thead>\n",
       "  <tbody>\n",
       "    <tr>\n",
       "      <th>Company Name</th>\n",
       "      <td>526</td>\n",
       "      <td>525</td>\n",
       "      <td>TheCollegeFever</td>\n",
       "      <td>2</td>\n",
       "    </tr>\n",
       "    <tr>\n",
       "      <th>Industry</th>\n",
       "      <td>526</td>\n",
       "      <td>405</td>\n",
       "      <td>—</td>\n",
       "      <td>30</td>\n",
       "    </tr>\n",
       "    <tr>\n",
       "      <th>Round/Series</th>\n",
       "      <td>526</td>\n",
       "      <td>21</td>\n",
       "      <td>Seed</td>\n",
       "      <td>280</td>\n",
       "    </tr>\n",
       "    <tr>\n",
       "      <th>Amount</th>\n",
       "      <td>526</td>\n",
       "      <td>198</td>\n",
       "      <td>—</td>\n",
       "      <td>148</td>\n",
       "    </tr>\n",
       "    <tr>\n",
       "      <th>Location</th>\n",
       "      <td>526</td>\n",
       "      <td>50</td>\n",
       "      <td>Bangalore, Karnataka, India</td>\n",
       "      <td>102</td>\n",
       "    </tr>\n",
       "    <tr>\n",
       "      <th>About Company</th>\n",
       "      <td>526</td>\n",
       "      <td>524</td>\n",
       "      <td>TheCollegeFever is a hub for fun, fiesta and f...</td>\n",
       "      <td>2</td>\n",
       "    </tr>\n",
       "  </tbody>\n",
       "</table>\n",
       "</div>"
      ],
      "text/plain": [
       "              count unique                                                top  \\\n",
       "Company Name    526    525                                    TheCollegeFever   \n",
       "Industry        526    405                                                  —   \n",
       "Round/Series    526     21                                               Seed   \n",
       "Amount          526    198                                                  —   \n",
       "Location        526     50                        Bangalore, Karnataka, India   \n",
       "About Company   526    524  TheCollegeFever is a hub for fun, fiesta and f...   \n",
       "\n",
       "              freq  \n",
       "Company Name     2  \n",
       "Industry        30  \n",
       "Round/Series   280  \n",
       "Amount         148  \n",
       "Location       102  \n",
       "About Company    2  "
      ]
     },
     "execution_count": 96,
     "metadata": {},
     "output_type": "execute_result"
    }
   ],
   "source": [
    "data4.describe().T"
   ]
  },
  {
   "cell_type": "code",
   "execution_count": 97,
   "metadata": {},
   "outputs": [
    {
     "name": "stdout",
     "output_type": "stream",
     "text": [
      "<class 'pandas.core.frame.DataFrame'>\n",
      "RangeIndex: 526 entries, 0 to 525\n",
      "Data columns (total 6 columns):\n",
      " #   Column         Non-Null Count  Dtype \n",
      "---  ------         --------------  ----- \n",
      " 0   Company Name   526 non-null    object\n",
      " 1   Industry       526 non-null    object\n",
      " 2   Round/Series   526 non-null    object\n",
      " 3   Amount         526 non-null    object\n",
      " 4   Location       526 non-null    object\n",
      " 5   About Company  526 non-null    object\n",
      "dtypes: object(6)\n",
      "memory usage: 24.8+ KB\n"
     ]
    }
   ],
   "source": [
    "data4.info ()"
   ]
  },
  {
   "cell_type": "code",
   "execution_count": 98,
   "metadata": {},
   "outputs": [
    {
     "data": {
      "text/plain": [
       "Company Name     0\n",
       "Industry         0\n",
       "Round/Series     0\n",
       "Amount           0\n",
       "Location         0\n",
       "About Company    0\n",
       "dtype: int64"
      ]
     },
     "execution_count": 98,
     "metadata": {},
     "output_type": "execute_result"
    }
   ],
   "source": [
    "data4.isnull().sum()"
   ]
  },
  {
   "cell_type": "code",
   "execution_count": 99,
   "metadata": {},
   "outputs": [
    {
     "data": {
      "text/plain": [
       "Index(['Company Name', 'Industry', 'Round/Series', 'Amount', 'Location',\n",
       "       'About Company'],\n",
       "      dtype='object')"
      ]
     },
     "execution_count": 99,
     "metadata": {},
     "output_type": "execute_result"
    }
   ],
   "source": [
    "data4.columns"
   ]
  },
  {
   "cell_type": "code",
   "execution_count": 100,
   "metadata": {},
   "outputs": [
    {
     "data": {
      "text/plain": [
       "1"
      ]
     },
     "execution_count": 100,
     "metadata": {},
     "output_type": "execute_result"
    }
   ],
   "source": [
    "data4.duplicated().sum()"
   ]
  },
  {
   "cell_type": "markdown",
   "metadata": {},
   "source": [
    "Data Cleaning our 4th Dataset (data4)"
   ]
  },
  {
   "cell_type": "code",
   "execution_count": 101,
   "metadata": {},
   "outputs": [
    {
     "name": "stdout",
     "output_type": "stream",
     "text": [
      "float64\n"
     ]
    }
   ],
   "source": [
    "#  Step 1: Convert all values in the 'Amount' column to strings\n",
    "data4['Amount'] = data4['Amount'].astype(str)\n",
    " \n",
    "# Step 2: Remove any non-numeric characters such as '$' and ','\n",
    "data4['Amount'] = data4['Amount'].str.replace('[\\$,]', '', regex=True)\n",
    "data4['Amount']= data4['Amount'].str.replace('[\\₹]', '' , regex=True )\n",
    " \n",
    "# Step 3: Replace 'undisclosed' with NaN\n",
    "data4['Amount'].replace('undisclosed', np.nan, inplace=True)\n",
    " \n",
    "# Step 4: Convert the column to numeric (float), ignoring errors\n",
    "data4['Amount'] = pd.to_numeric(data2['Amount'], errors='coerce')\n",
    " \n",
    "# Step 5: Fill NaN values with 0\n",
    "data4['Amount'].fillna(0, inplace=True)\n",
    "\n",
    "print(data4['Amount'].dtype)\n"
   ]
  },
  {
   "cell_type": "code",
   "execution_count": 102,
   "metadata": {},
   "outputs": [],
   "source": [
    "# Convert 'Round/Series' to a Category\n",
    "\n",
    "data4['Round/Series'] = data4['Round/Series'].astype('category')"
   ]
  },
  {
   "cell_type": "code",
   "execution_count": 103,
   "metadata": {},
   "outputs": [],
   "source": [
    "# Drop duplicates\n",
    "\n",
    "data4.drop_duplicates( inplace=True)"
   ]
  },
  {
   "cell_type": "code",
   "execution_count": 104,
   "metadata": {},
   "outputs": [
    {
     "data": {
      "text/plain": [
       "0"
      ]
     },
     "execution_count": 104,
     "metadata": {},
     "output_type": "execute_result"
    }
   ],
   "source": [
    "# Check for duplicates \n",
    "\n",
    "data4.duplicated().sum()"
   ]
  },
  {
   "cell_type": "code",
   "execution_count": 105,
   "metadata": {},
   "outputs": [],
   "source": [
    "data4['Year']=2018"
   ]
  },
  {
   "cell_type": "code",
   "execution_count": 106,
   "metadata": {},
   "outputs": [
    {
     "name": "stdout",
     "output_type": "stream",
     "text": [
      "<class 'pandas.core.frame.DataFrame'>\n",
      "RangeIndex: 526 entries, 0 to 525\n",
      "Data columns (total 7 columns):\n",
      " #   Column         Non-Null Count  Dtype   \n",
      "---  ------         --------------  -----   \n",
      " 0   Company Name   526 non-null    object  \n",
      " 1   Industry       526 non-null    object  \n",
      " 2   Round/Series   526 non-null    category\n",
      " 3   Amount         526 non-null    float64 \n",
      " 4   Location       526 non-null    object  \n",
      " 5   About Company  526 non-null    object  \n",
      " 6   Year           526 non-null    int64   \n",
      "dtypes: category(1), float64(1), int64(1), object(4)\n",
      "memory usage: 26.0+ KB\n"
     ]
    }
   ],
   "source": [
    "data4.info ()"
   ]
  },
  {
   "cell_type": "markdown",
   "metadata": {},
   "source": [
    "## Data Preparation "
   ]
  },
  {
   "cell_type": "markdown",
   "metadata": {},
   "source": [
    "Cleaning of our data was done after each of the datasets. In this phase we concatenate our data "
   ]
  },
  {
   "cell_type": "code",
   "execution_count": 107,
   "metadata": {},
   "outputs": [
    {
     "ename": "ValueError",
     "evalue": "Length mismatch: Expected axis has 10 elements, new values have 6 elements",
     "output_type": "error",
     "traceback": [
      "\u001b[1;31m---------------------------------------------------------------------------\u001b[0m",
      "\u001b[1;31mValueError\u001b[0m                                Traceback (most recent call last)",
      "Cell \u001b[1;32mIn[107], line 4\u001b[0m\n\u001b[0;32m      2\u001b[0m data\u001b[38;5;241m.\u001b[39mcolumns \u001b[38;5;241m=\u001b[39m [\u001b[38;5;124m'\u001b[39m\u001b[38;5;124mCompany_Brand\u001b[39m\u001b[38;5;124m'\u001b[39m, \u001b[38;5;124m'\u001b[39m\u001b[38;5;124mFounded\u001b[39m\u001b[38;5;124m'\u001b[39m, \u001b[38;5;124m'\u001b[39m\u001b[38;5;124mHeadQuarter\u001b[39m\u001b[38;5;124m'\u001b[39m, \u001b[38;5;124m'\u001b[39m\u001b[38;5;124mSector\u001b[39m\u001b[38;5;124m'\u001b[39m, \u001b[38;5;124m'\u001b[39m\u001b[38;5;124mWhat_it_does\u001b[39m\u001b[38;5;124m'\u001b[39m, \u001b[38;5;124m'\u001b[39m\u001b[38;5;124mFounders\u001b[39m\u001b[38;5;124m'\u001b[39m, \u001b[38;5;124m'\u001b[39m\u001b[38;5;124mInvestor\u001b[39m\u001b[38;5;124m'\u001b[39m, \u001b[38;5;124m'\u001b[39m\u001b[38;5;124mAmount\u001b[39m\u001b[38;5;124m'\u001b[39m, \u001b[38;5;124m'\u001b[39m\u001b[38;5;124mStage\u001b[39m\u001b[38;5;124m'\u001b[39m,\u001b[38;5;124m'\u001b[39m\u001b[38;5;124mYear\u001b[39m\u001b[38;5;124m'\u001b[39m]\n\u001b[0;32m      3\u001b[0m data2\u001b[38;5;241m.\u001b[39mcolumns \u001b[38;5;241m=\u001b[39m [\u001b[38;5;124m'\u001b[39m\u001b[38;5;124mCompany_Brand\u001b[39m\u001b[38;5;124m'\u001b[39m, \u001b[38;5;124m'\u001b[39m\u001b[38;5;124mFounded\u001b[39m\u001b[38;5;124m'\u001b[39m, \u001b[38;5;124m'\u001b[39m\u001b[38;5;124mHeadQuarter\u001b[39m\u001b[38;5;124m'\u001b[39m, \u001b[38;5;124m'\u001b[39m\u001b[38;5;124mSector\u001b[39m\u001b[38;5;124m'\u001b[39m, \u001b[38;5;124m'\u001b[39m\u001b[38;5;124mWhat_it_does\u001b[39m\u001b[38;5;124m'\u001b[39m, \u001b[38;5;124m'\u001b[39m\u001b[38;5;124mFounders\u001b[39m\u001b[38;5;124m'\u001b[39m, \u001b[38;5;124m'\u001b[39m\u001b[38;5;124mInvestor\u001b[39m\u001b[38;5;124m'\u001b[39m, \u001b[38;5;124m'\u001b[39m\u001b[38;5;124mAmount\u001b[39m\u001b[38;5;124m'\u001b[39m, \u001b[38;5;124m'\u001b[39m\u001b[38;5;124mStage\u001b[39m\u001b[38;5;124m'\u001b[39m,\u001b[38;5;124m'\u001b[39m\u001b[38;5;124mYear\u001b[39m\u001b[38;5;124m'\u001b[39m]\n\u001b[1;32m----> 4\u001b[0m \u001b[43mdata3\u001b[49m\u001b[38;5;241;43m.\u001b[39;49m\u001b[43mcolumns\u001b[49m \u001b[38;5;241m=\u001b[39m [\u001b[38;5;124m'\u001b[39m\u001b[38;5;124mCompany_Brand\u001b[39m\u001b[38;5;124m'\u001b[39m, \u001b[38;5;124m'\u001b[39m\u001b[38;5;124mSector\u001b[39m\u001b[38;5;124m'\u001b[39m, \u001b[38;5;124m'\u001b[39m\u001b[38;5;124mStage\u001b[39m\u001b[38;5;124m'\u001b[39m, \u001b[38;5;124m'\u001b[39m\u001b[38;5;124mAmount\u001b[39m\u001b[38;5;124m'\u001b[39m, \u001b[38;5;124m'\u001b[39m\u001b[38;5;124mHeadQuarter\u001b[39m\u001b[38;5;124m'\u001b[39m, \u001b[38;5;124m'\u001b[39m\u001b[38;5;124mWhat_it_does\u001b[39m\u001b[38;5;124m'\u001b[39m]\n\u001b[0;32m      5\u001b[0m data4\u001b[38;5;241m.\u001b[39mcolumns \u001b[38;5;241m=\u001b[39m [\u001b[38;5;124m'\u001b[39m\u001b[38;5;124mCompany_Brand\u001b[39m\u001b[38;5;124m'\u001b[39m, \u001b[38;5;124m'\u001b[39m\u001b[38;5;124mFounded\u001b[39m\u001b[38;5;124m'\u001b[39m, \u001b[38;5;124m'\u001b[39m\u001b[38;5;124mHeadQuarter\u001b[39m\u001b[38;5;124m'\u001b[39m, \u001b[38;5;124m'\u001b[39m\u001b[38;5;124mSector\u001b[39m\u001b[38;5;124m'\u001b[39m, \u001b[38;5;124m'\u001b[39m\u001b[38;5;124mWhat_it_does\u001b[39m\u001b[38;5;124m'\u001b[39m, \u001b[38;5;124m'\u001b[39m\u001b[38;5;124mFounders\u001b[39m\u001b[38;5;124m'\u001b[39m, \u001b[38;5;124m'\u001b[39m\u001b[38;5;124mInvestor\u001b[39m\u001b[38;5;124m'\u001b[39m, \u001b[38;5;124m'\u001b[39m\u001b[38;5;124mAmount\u001b[39m\u001b[38;5;124m'\u001b[39m, \u001b[38;5;124m'\u001b[39m\u001b[38;5;124mStage\u001b[39m\u001b[38;5;124m'\u001b[39m,\u001b[38;5;124m'\u001b[39m\u001b[38;5;124mYear\u001b[39m\u001b[38;5;124m'\u001b[39m]\n\u001b[0;32m      8\u001b[0m \u001b[38;5;66;03m# Ensure data3 has the same columns as the others\u001b[39;00m\n",
      "File \u001b[1;32mc:\\Users\\Admin\\AppData\\Local\\Programs\\Python\\Python310\\lib\\site-packages\\pandas\\core\\generic.py:6310\u001b[0m, in \u001b[0;36mNDFrame.__setattr__\u001b[1;34m(self, name, value)\u001b[0m\n\u001b[0;32m   6308\u001b[0m \u001b[38;5;28;01mtry\u001b[39;00m:\n\u001b[0;32m   6309\u001b[0m     \u001b[38;5;28mobject\u001b[39m\u001b[38;5;241m.\u001b[39m\u001b[38;5;21m__getattribute__\u001b[39m(\u001b[38;5;28mself\u001b[39m, name)\n\u001b[1;32m-> 6310\u001b[0m     \u001b[38;5;28;01mreturn\u001b[39;00m \u001b[38;5;28;43mobject\u001b[39;49m\u001b[38;5;241;43m.\u001b[39;49m\u001b[38;5;21;43m__setattr__\u001b[39;49m\u001b[43m(\u001b[49m\u001b[38;5;28;43mself\u001b[39;49m\u001b[43m,\u001b[49m\u001b[43m \u001b[49m\u001b[43mname\u001b[49m\u001b[43m,\u001b[49m\u001b[43m \u001b[49m\u001b[43mvalue\u001b[49m\u001b[43m)\u001b[49m\n\u001b[0;32m   6311\u001b[0m \u001b[38;5;28;01mexcept\u001b[39;00m \u001b[38;5;167;01mAttributeError\u001b[39;00m:\n\u001b[0;32m   6312\u001b[0m     \u001b[38;5;28;01mpass\u001b[39;00m\n",
      "File \u001b[1;32mproperties.pyx:69\u001b[0m, in \u001b[0;36mpandas._libs.properties.AxisProperty.__set__\u001b[1;34m()\u001b[0m\n",
      "File \u001b[1;32mc:\\Users\\Admin\\AppData\\Local\\Programs\\Python\\Python310\\lib\\site-packages\\pandas\\core\\generic.py:813\u001b[0m, in \u001b[0;36mNDFrame._set_axis\u001b[1;34m(self, axis, labels)\u001b[0m\n\u001b[0;32m    808\u001b[0m \u001b[38;5;250m\u001b[39m\u001b[38;5;124;03m\"\"\"\u001b[39;00m\n\u001b[0;32m    809\u001b[0m \u001b[38;5;124;03mThis is called from the cython code when we set the `index` attribute\u001b[39;00m\n\u001b[0;32m    810\u001b[0m \u001b[38;5;124;03mdirectly, e.g. `series.index = [1, 2, 3]`.\u001b[39;00m\n\u001b[0;32m    811\u001b[0m \u001b[38;5;124;03m\"\"\"\u001b[39;00m\n\u001b[0;32m    812\u001b[0m labels \u001b[38;5;241m=\u001b[39m ensure_index(labels)\n\u001b[1;32m--> 813\u001b[0m \u001b[38;5;28;43mself\u001b[39;49m\u001b[38;5;241;43m.\u001b[39;49m\u001b[43m_mgr\u001b[49m\u001b[38;5;241;43m.\u001b[39;49m\u001b[43mset_axis\u001b[49m\u001b[43m(\u001b[49m\u001b[43maxis\u001b[49m\u001b[43m,\u001b[49m\u001b[43m \u001b[49m\u001b[43mlabels\u001b[49m\u001b[43m)\u001b[49m\n\u001b[0;32m    814\u001b[0m \u001b[38;5;28mself\u001b[39m\u001b[38;5;241m.\u001b[39m_clear_item_cache()\n",
      "File \u001b[1;32mc:\\Users\\Admin\\AppData\\Local\\Programs\\Python\\Python310\\lib\\site-packages\\pandas\\core\\internals\\managers.py:238\u001b[0m, in \u001b[0;36mBaseBlockManager.set_axis\u001b[1;34m(self, axis, new_labels)\u001b[0m\n\u001b[0;32m    236\u001b[0m \u001b[38;5;28;01mdef\u001b[39;00m \u001b[38;5;21mset_axis\u001b[39m(\u001b[38;5;28mself\u001b[39m, axis: AxisInt, new_labels: Index) \u001b[38;5;241m-\u001b[39m\u001b[38;5;241m>\u001b[39m \u001b[38;5;28;01mNone\u001b[39;00m:\n\u001b[0;32m    237\u001b[0m     \u001b[38;5;66;03m# Caller is responsible for ensuring we have an Index object.\u001b[39;00m\n\u001b[1;32m--> 238\u001b[0m     \u001b[38;5;28;43mself\u001b[39;49m\u001b[38;5;241;43m.\u001b[39;49m\u001b[43m_validate_set_axis\u001b[49m\u001b[43m(\u001b[49m\u001b[43maxis\u001b[49m\u001b[43m,\u001b[49m\u001b[43m \u001b[49m\u001b[43mnew_labels\u001b[49m\u001b[43m)\u001b[49m\n\u001b[0;32m    239\u001b[0m     \u001b[38;5;28mself\u001b[39m\u001b[38;5;241m.\u001b[39maxes[axis] \u001b[38;5;241m=\u001b[39m new_labels\n",
      "File \u001b[1;32mc:\\Users\\Admin\\AppData\\Local\\Programs\\Python\\Python310\\lib\\site-packages\\pandas\\core\\internals\\base.py:98\u001b[0m, in \u001b[0;36mDataManager._validate_set_axis\u001b[1;34m(self, axis, new_labels)\u001b[0m\n\u001b[0;32m     95\u001b[0m     \u001b[38;5;28;01mpass\u001b[39;00m\n\u001b[0;32m     97\u001b[0m \u001b[38;5;28;01melif\u001b[39;00m new_len \u001b[38;5;241m!=\u001b[39m old_len:\n\u001b[1;32m---> 98\u001b[0m     \u001b[38;5;28;01mraise\u001b[39;00m \u001b[38;5;167;01mValueError\u001b[39;00m(\n\u001b[0;32m     99\u001b[0m         \u001b[38;5;124mf\u001b[39m\u001b[38;5;124m\"\u001b[39m\u001b[38;5;124mLength mismatch: Expected axis has \u001b[39m\u001b[38;5;132;01m{\u001b[39;00mold_len\u001b[38;5;132;01m}\u001b[39;00m\u001b[38;5;124m elements, new \u001b[39m\u001b[38;5;124m\"\u001b[39m\n\u001b[0;32m    100\u001b[0m         \u001b[38;5;124mf\u001b[39m\u001b[38;5;124m\"\u001b[39m\u001b[38;5;124mvalues have \u001b[39m\u001b[38;5;132;01m{\u001b[39;00mnew_len\u001b[38;5;132;01m}\u001b[39;00m\u001b[38;5;124m elements\u001b[39m\u001b[38;5;124m\"\u001b[39m\n\u001b[0;32m    101\u001b[0m     )\n",
      "\u001b[1;31mValueError\u001b[0m: Length mismatch: Expected axis has 10 elements, new values have 6 elements"
     ]
    }
   ],
   "source": [
    "# Standardize column names\n",
    "data.columns = ['Company_Brand', 'Founded', 'HeadQuarter', 'Sector', 'What_it_does', 'Founders', 'Investor', 'Amount', 'Stage','Year']\n",
    "data2.columns = ['Company_Brand', 'Founded', 'HeadQuarter', 'Sector', 'What_it_does', 'Founders', 'Investor', 'Amount', 'Stage','Year']\n",
    "data3.columns = ['Company_Brand', 'Sector', 'Stage', 'Amount', 'HeadQuarter', 'What_it_does']\n",
    "data4.columns = ['Company_Brand', 'Founded', 'HeadQuarter', 'Sector', 'What_it_does', 'Founders', 'Investor', 'Amount', 'Stage','Year']\n",
    "\n",
    "\n",
    "# Ensure data3 has the same columns as the others\n",
    "columns_full = ['Company_Brand', 'Founded', 'HeadQuarter', 'Sector', 'What_it_does', 'Founders', 'Investor', 'Amount', 'Stage', 'Year']\n",
    "columns_partial = ['Company_Brand', 'Sector', 'Stage', 'Amount', 'HeadQuarter', 'What_it_does', 'Year']\n",
    "\n",
    "# Add missing columns to data3\n",
    "for col in columns_full:\n",
    "    if col not in data3.columns:\n",
    "        data3[col] = 'Unknown'\n",
    "\n",
    "# Reorder columns in data3 to match the full column list\n",
    "data3 = data3[columns_full]\n",
    "\n",
    "# Standardize column names\n",
    "data.columns = columns_full\n",
    "data2.columns = columns_full\n",
    "data4.columns = columns_full\n",
    "data3.columns = columns_full\n",
    "\n",
    "# Convert 'Amount' columns to float and handle currency conversion\n",
    "exchange_rate_inr_to_usd = 83  \n",
    "\n",
    "def clean_and_convert_amount(df, currency='USD'):\n",
    "    df['Amount'] = df['Amount'].replace({'\\$': '', ',': '', '₹': ''}, regex=True)\n",
    "    if currency == 'INR':\n",
    "        df['Amount'] = df['Amount'].astype(float) / exchange_rate_inr_to_usd\n",
    "    else:\n",
    "        df['Amount'] = df['Amount'].astype(float)\n",
    "    return df\n",
    "\n",
    "data = clean_and_convert_amount(data, 'USD')\n",
    "data2 = clean_and_convert_amount(data2, 'USD')\n",
    "data3 = clean_and_convert_amount(data3, 'INR')  # Assuming df3 amounts are in INR\n",
    "data4 = clean_and_convert_amount(data4, 'USD')\n",
    "\n",
    "# Combine DataFrames\n",
    "df_combined = pd.concat([data, data2, data3, data4], ignore_index=True)\n",
    "\n",
    "# Handle missing values (example: fill with 'Unknown' or drop)\n",
    "df_combined.fillna('Unknown', inplace=True)\n",
    "\n",
    "# Verify the combined DataFrame\n",
    "print(df_combined.info())\n",
    "print(df_combined.head())"
   ]
  }
 ],
 "metadata": {
  "kernelspec": {
   "display_name": "Python 3",
   "language": "python",
   "name": "python3"
  },
  "language_info": {
   "codemirror_mode": {
    "name": "ipython",
    "version": 3
   },
   "file_extension": ".py",
   "mimetype": "text/x-python",
   "name": "python",
   "nbconvert_exporter": "python",
   "pygments_lexer": "ipython3",
   "version": "3.10.9"
  }
 },
 "nbformat": 4,
 "nbformat_minor": 2
}
