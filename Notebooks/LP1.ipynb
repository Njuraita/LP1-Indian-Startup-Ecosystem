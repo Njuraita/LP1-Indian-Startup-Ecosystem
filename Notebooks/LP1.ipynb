{
 "cells": [
  {
   "cell_type": "code",
   "execution_count": 1,
   "metadata": {},
   "outputs": [
    {
     "name": "stdout",
     "output_type": "stream",
     "text": [
      "Note: you may need to restart the kernel to use updated packages.\n"
     ]
    },
    {
     "name": "stderr",
     "output_type": "stream",
     "text": [
      "ERROR: Invalid requirement: '#install'\n"
     ]
    },
    {
     "name": "stdout",
     "output_type": "stream",
     "text": [
      "Requirement already satisfied: python-dotenv in c:\\users\\admin\\appdata\\local\\programs\\python\\python310\\lib\\site-packages (1.0.1)\n",
      "Note: you may need to restart the kernel to use updated packages.\n"
     ]
    }
   ],
   "source": [
    "%pip install pyodbc #install our connector which allows us to connect with our databases\n",
    "%pip install python-dotenv"
   ]
  },
  {
   "cell_type": "code",
   "execution_count": 2,
   "metadata": {},
   "outputs": [],
   "source": [
    "#importing all the necessary packages \n",
    "\n",
    "import pyodbc \n",
    "from dotenv import dotenv_values \n",
    "import pandas as pd \n",
    "import warnings\n",
    "\n",
    "warnings.filterwarnings ('ignore')"
   ]
  },
  {
   "cell_type": "markdown",
   "metadata": {},
   "source": [
    "server='dap-projects-database.database.windows.net'\n",
    "username='LP1-learner'\n",
    "password='Hyp0th3s!$T3$t!ng'\n",
    "database='dapDB'"
   ]
  },
  {
   "cell_type": "code",
   "execution_count": null,
   "metadata": {},
   "outputs": [],
   "source": [
    "##import os\n",
    "##from dotenv import load_dotenv\n",
    "\n",
    "# Specify the path to your .env file\n",
    "##env_path = 'C:\\\\Users\\\\Admin\\\\OneDrive\\\\OneDrive-Azubi\\\\LP1\\\\LP1--Indian-Startup-Ecosystem-\\\\Notebooks\\\\.env'\n",
    "\n",
    "# Load the .env file\n",
    "##load_dotenv(dotenv_path=env_path)\n",
    " \n",
    "# Get the values for the credentials set in '.env' file\n",
    "##server = os.getenv('server') \n",
    "##database = os.getenv('database')\n",
    "##username = os.getenv('username')\n",
    "##password = os.getenv('password')\n",
    "\n",
    "#Create a connection to our SQL server \n",
    "##connection_string = f'DRIVER={{SQL Server}};SERVER={server};DATABASE={database}; UID={username};PWD={password}'"
   ]
  },
  {
   "cell_type": "code",
   "execution_count": 3,
   "metadata": {},
   "outputs": [],
   "source": [
    "# Load environment variables from .env file into a dictionary\n",
    "environment_variables = dotenv_values('.env')\n",
    "\n",
    "# Get the values for the credentials you set in the '.env' file\n",
    "server = environment_variables.get('server')\n",
    "database = environment_variables.get('database')\n",
    "username = environment_variables.get('username')\n",
    "password = environment_variables.get('password')"
   ]
  },
  {
   "cell_type": "code",
   "execution_count": null,
   "metadata": {},
   "outputs": [],
   "source": [
    "#Use the connect method of pyodbc library \n",
    "#connection = pyodbc.connect(connection_string)\n",
    "\n",
    "##try:\n",
    "  ##  connection = pyodbc.connect(connection_string)\n",
    "   ## print(\"Connection successful\")\n",
    "##except pyodbc.Error as ex:\n",
    "   ## sqlstate = ex.args[1]\n",
    "    ##print(f\"Connection failed: {sqlstate}\")"
   ]
  },
  {
   "cell_type": "code",
   "execution_count": 4,
   "metadata": {},
   "outputs": [],
   "source": [
    "# Create a connection string\n",
    "\n",
    "connection_string = f\"DRIVER={{SQL Server}};SERVER={server};DATABASE={database};UID={username};PWD={password};MARS_Connection=yes;MinProtocolVersion=TLSv1.2;\""
   ]
  },
  {
   "cell_type": "code",
   "execution_count": null,
   "metadata": {},
   "outputs": [],
   "source": [
    "# Query the tabeles as per the given instructions \n",
    "query = '''SELECT *\n",
    "FROM dbo.LP1_startup_funding2020'''\n",
    "\n",
    "data =pd.read_sql(query, connection)"
   ]
  },
  {
   "cell_type": "code",
   "execution_count": null,
   "metadata": {},
   "outputs": [],
   "source": [
    "data.head ()"
   ]
  },
  {
   "cell_type": "code",
   "execution_count": null,
   "metadata": {},
   "outputs": [],
   "source": [
    "data.info()"
   ]
  },
  {
   "cell_type": "code",
   "execution_count": null,
   "metadata": {},
   "outputs": [],
   "source": [
    "#Data2 as per the given instructions\n",
    "data2 = '''SELECT * \n",
    "FROM dbo.LP1_startup_funding2021'''\n",
    "\n",
    "data2.head ()"
   ]
  }
 ],
 "metadata": {
  "kernelspec": {
   "display_name": "Python 3",
   "language": "python",
   "name": "python3"
  },
  "language_info": {
   "codemirror_mode": {
    "name": "ipython",
    "version": 3
   },
   "file_extension": ".py",
   "mimetype": "text/x-python",
   "name": "python",
   "nbconvert_exporter": "python",
   "pygments_lexer": "ipython3",
   "version": "3.10.9"
  }
 },
 "nbformat": 4,
 "nbformat_minor": 2
}
